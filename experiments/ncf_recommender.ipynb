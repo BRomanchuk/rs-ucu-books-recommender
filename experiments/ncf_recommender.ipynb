{
  "metadata": {
    "kernelspec": {
      "display_name": "Python 3",
      "name": "python3"
    },
    "language_info": {
      "name": "python",
      "version": "3.10.13",
      "mimetype": "text/x-python",
      "codemirror_mode": {
        "name": "ipython",
        "version": 3
      },
      "pygments_lexer": "ipython3",
      "nbconvert_exporter": "python",
      "file_extension": ".py"
    },
    "kaggle": {
      "accelerator": "none",
      "dataSources": [
        {
          "sourceId": 8704650,
          "sourceType": "datasetVersion",
          "datasetId": 5221114
        },
        {
          "sourceId": 9148001,
          "sourceType": "datasetVersion",
          "datasetId": 5525729
        }
      ],
      "dockerImageVersionId": 30733,
      "isInternetEnabled": true,
      "language": "python",
      "sourceType": "notebook",
      "isGpuEnabled": false
    },
    "colab": {
      "provenance": [],
      "gpuType": "A100",
      "machine_shape": "hm"
    },
    "accelerator": "GPU"
  },
  "nbformat_minor": 0,
  "nbformat": 4,
  "cells": [
    {
      "cell_type": "code",
      "source": [
        "!pip install numpy pandas scikit-learn tqdm scipy openai"
      ],
      "metadata": {
        "_uuid": "8f2839f25d086af736a60e9eeb907d3b93b6e0e5",
        "_cell_guid": "b1076dfc-b9ad-4769-8c92-a6c4dae69d19",
        "execution": {
          "iopub.status.busy": "2024-08-10T18:52:00.049142Z",
          "iopub.execute_input": "2024-08-10T18:52:00.049531Z",
          "iopub.status.idle": "2024-08-10T18:52:35.787989Z",
          "shell.execute_reply.started": "2024-08-10T18:52:00.049498Z",
          "shell.execute_reply": "2024-08-10T18:52:35.786495Z"
        },
        "trusted": true,
        "colab": {
          "base_uri": "https://localhost:8080/"
        },
        "id": "eiEcPtMf3v8Q",
        "outputId": "9374ecaf-a6ea-448a-f31c-2d6ab5015094"
      },
      "execution_count": 2,
      "outputs": [
        {
          "output_type": "stream",
          "name": "stdout",
          "text": [
            "Requirement already satisfied: numpy in /usr/local/lib/python3.10/dist-packages (1.26.4)\n",
            "Requirement already satisfied: pandas in /usr/local/lib/python3.10/dist-packages (2.1.4)\n",
            "Requirement already satisfied: scikit-learn in /usr/local/lib/python3.10/dist-packages (1.3.2)\n",
            "Requirement already satisfied: tqdm in /usr/local/lib/python3.10/dist-packages (4.66.5)\n",
            "Requirement already satisfied: scipy in /usr/local/lib/python3.10/dist-packages (1.13.1)\n",
            "Requirement already satisfied: openai in /usr/local/lib/python3.10/dist-packages (1.40.3)\n",
            "Requirement already satisfied: python-dateutil>=2.8.2 in /usr/local/lib/python3.10/dist-packages (from pandas) (2.8.2)\n",
            "Requirement already satisfied: pytz>=2020.1 in /usr/local/lib/python3.10/dist-packages (from pandas) (2024.1)\n",
            "Requirement already satisfied: tzdata>=2022.1 in /usr/local/lib/python3.10/dist-packages (from pandas) (2024.1)\n",
            "Requirement already satisfied: joblib>=1.1.1 in /usr/local/lib/python3.10/dist-packages (from scikit-learn) (1.4.2)\n",
            "Requirement already satisfied: threadpoolctl>=2.0.0 in /usr/local/lib/python3.10/dist-packages (from scikit-learn) (3.5.0)\n",
            "Requirement already satisfied: anyio<5,>=3.5.0 in /usr/local/lib/python3.10/dist-packages (from openai) (3.7.1)\n",
            "Requirement already satisfied: distro<2,>=1.7.0 in /usr/lib/python3/dist-packages (from openai) (1.7.0)\n",
            "Requirement already satisfied: httpx<1,>=0.23.0 in /usr/local/lib/python3.10/dist-packages (from openai) (0.27.0)\n",
            "Requirement already satisfied: jiter<1,>=0.4.0 in /usr/local/lib/python3.10/dist-packages (from openai) (0.5.0)\n",
            "Requirement already satisfied: pydantic<3,>=1.9.0 in /usr/local/lib/python3.10/dist-packages (from openai) (2.8.2)\n",
            "Requirement already satisfied: sniffio in /usr/local/lib/python3.10/dist-packages (from openai) (1.3.1)\n",
            "Requirement already satisfied: typing-extensions<5,>=4.11 in /usr/local/lib/python3.10/dist-packages (from openai) (4.12.2)\n",
            "Requirement already satisfied: idna>=2.8 in /usr/local/lib/python3.10/dist-packages (from anyio<5,>=3.5.0->openai) (3.7)\n",
            "Requirement already satisfied: exceptiongroup in /usr/local/lib/python3.10/dist-packages (from anyio<5,>=3.5.0->openai) (1.2.2)\n",
            "Requirement already satisfied: certifi in /usr/local/lib/python3.10/dist-packages (from httpx<1,>=0.23.0->openai) (2024.7.4)\n",
            "Requirement already satisfied: httpcore==1.* in /usr/local/lib/python3.10/dist-packages (from httpx<1,>=0.23.0->openai) (1.0.5)\n",
            "Requirement already satisfied: h11<0.15,>=0.13 in /usr/local/lib/python3.10/dist-packages (from httpcore==1.*->httpx<1,>=0.23.0->openai) (0.14.0)\n",
            "Requirement already satisfied: annotated-types>=0.4.0 in /usr/local/lib/python3.10/dist-packages (from pydantic<3,>=1.9.0->openai) (0.7.0)\n",
            "Requirement already satisfied: pydantic-core==2.20.1 in /usr/local/lib/python3.10/dist-packages (from pydantic<3,>=1.9.0->openai) (2.20.1)\n",
            "Requirement already satisfied: six>=1.5 in /usr/local/lib/python3.10/dist-packages (from python-dateutil>=2.8.2->pandas) (1.16.0)\n"
          ]
        }
      ]
    },
    {
      "cell_type": "code",
      "source": [
        "import tensorflow as tf\n",
        "\n",
        "# Print the TensorFlow version\n",
        "print(tf.__version__)\n"
      ],
      "metadata": {
        "colab": {
          "base_uri": "https://localhost:8080/"
        },
        "id": "fUtGcbM-6xyw",
        "outputId": "4a31451e-a1a5-412e-f490-67b16478baee"
      },
      "execution_count": 1,
      "outputs": [
        {
          "output_type": "stream",
          "name": "stdout",
          "text": [
            "2.15.0\n"
          ]
        }
      ]
    },
    {
      "cell_type": "code",
      "source": [],
      "metadata": {
        "id": "HWpckr8y3v8T"
      },
      "execution_count": null,
      "outputs": []
    },
    {
      "cell_type": "code",
      "source": [
        "import pandas as pd\n",
        "import numpy as np\n",
        "from tqdm import tqdm\n",
        "from sklearn.metrics.pairwise import cosine_similarity\n",
        "\n",
        "from sklearn.model_selection import train_test_split\n",
        "from sklearn.feature_extraction.text import TfidfVectorizer\n",
        "from sklearn import metrics\n",
        "import scipy as sp\n",
        "from concurrent.futures import ThreadPoolExecutor"
      ],
      "metadata": {
        "execution": {
          "iopub.status.busy": "2024-08-10T19:00:29.139188Z",
          "iopub.execute_input": "2024-08-10T19:00:29.139641Z",
          "iopub.status.idle": "2024-08-10T19:00:30.327078Z",
          "shell.execute_reply.started": "2024-08-10T19:00:29.139599Z",
          "shell.execute_reply": "2024-08-10T19:00:30.325870Z"
        },
        "trusted": true,
        "id": "pol6rg6z3v8U"
      },
      "execution_count": 3,
      "outputs": []
    },
    {
      "cell_type": "code",
      "source": [
        "! pip install -U LibRecommender"
      ],
      "metadata": {
        "execution": {
          "iopub.status.busy": "2024-08-10T19:00:31.301915Z",
          "iopub.execute_input": "2024-08-10T19:00:31.302561Z",
          "iopub.status.idle": "2024-08-10T19:00:47.452675Z",
          "shell.execute_reply.started": "2024-08-10T19:00:31.302526Z",
          "shell.execute_reply": "2024-08-10T19:00:47.451192Z"
        },
        "trusted": true,
        "colab": {
          "base_uri": "https://localhost:8080/"
        },
        "id": "2wtRYu6I3v8V",
        "outputId": "cbe5c60a-778a-4fa9-dbd2-a98d74c93cc8"
      },
      "execution_count": 4,
      "outputs": [
        {
          "output_type": "stream",
          "name": "stdout",
          "text": [
            "Requirement already satisfied: LibRecommender in /usr/local/lib/python3.10/dist-packages (1.5.1)\n",
            "Requirement already satisfied: gensim>=4.0.0 in /usr/local/lib/python3.10/dist-packages (from LibRecommender) (4.3.3)\n",
            "Requirement already satisfied: tqdm in /usr/local/lib/python3.10/dist-packages (from LibRecommender) (4.66.5)\n",
            "Requirement already satisfied: numpy<2.0,>=1.18.5 in /usr/local/lib/python3.10/dist-packages (from gensim>=4.0.0->LibRecommender) (1.26.4)\n",
            "Requirement already satisfied: scipy<1.14.0,>=1.7.0 in /usr/local/lib/python3.10/dist-packages (from gensim>=4.0.0->LibRecommender) (1.13.1)\n",
            "Requirement already satisfied: smart-open>=1.8.1 in /usr/local/lib/python3.10/dist-packages (from gensim>=4.0.0->LibRecommender) (7.0.4)\n",
            "Requirement already satisfied: wrapt in /usr/local/lib/python3.10/dist-packages (from smart-open>=1.8.1->gensim>=4.0.0->LibRecommender) (1.14.1)\n"
          ]
        }
      ]
    },
    {
      "cell_type": "code",
      "source": [
        "def abs_loss(gt_ratings, pred_ratings, isbn_to_index):\n",
        "    loss = 0\n",
        "    count = 0\n",
        "\n",
        "    for _, row in gt_ratings.iterrows():\n",
        "        user_id = row['User-ID']\n",
        "        isbn = row['ISBN']\n",
        "        gt_rating = row['Rating']\n",
        "\n",
        "        item_index = isbn_to_index.get(isbn)\n",
        "        if item_index is None or user_id not in pred_ratings:\n",
        "            continue\n",
        "\n",
        "        pred_rating = pred_ratings[user_id].get(item_index)\n",
        "        if pred_rating is None:\n",
        "            continue\n",
        "\n",
        "        loss += np.abs(gt_rating - pred_rating)\n",
        "        count += 1\n",
        "\n",
        "    return loss / count if count > 0 else 0\n",
        "\n",
        "\n",
        "def l2_loss(gt_ratings, pred_ratings, isbn_to_index):\n",
        "    loss = 0\n",
        "    count = 0\n",
        "\n",
        "    for _, row in gt_ratings.iterrows():\n",
        "        user_id = row['User-ID']\n",
        "        isbn = row['ISBN']\n",
        "        gt_rating = row['Rating']\n",
        "\n",
        "        item_index = isbn_to_index.get(isbn)\n",
        "        if item_index is None or user_id not in pred_ratings:\n",
        "            continue\n",
        "\n",
        "        pred_rating = pred_ratings[user_id].get(item_index)\n",
        "        if pred_rating is None:\n",
        "            continue\n",
        "\n",
        "        loss += (gt_rating - pred_rating) ** 2\n",
        "        count += 1\n",
        "\n",
        "    return np.sqrt(loss / count) if count > 0 else 0\n",
        "\n",
        "def dcg(relevances, rank=10):\n",
        "    relevances = np.asarray(relevances)[:rank]\n",
        "    n_relevances = len(relevances)\n",
        "    if n_relevances == 0:\n",
        "        return 0.\n",
        "\n",
        "    discounts = np.log2(np.arange(n_relevances) + 2)\n",
        "    return np.sum(relevances / discounts)\n",
        "\n",
        "\n",
        "def ndcg(relevances, rank=10):\n",
        "    best_dcg = dcg(sorted(relevances, reverse=True), rank)\n",
        "    if best_dcg == 0:\n",
        "        return 0.\n",
        "\n",
        "    return dcg(relevances, rank) / best_dcg\n",
        "\n",
        "\n",
        "def precision_at_k(recommended_items, relevant_items, k):\n",
        "    recommended_at_k = recommended_items[:k]\n",
        "    relevant_and_recommended = [item for item in recommended_at_k if item in relevant_items]\n",
        "    return len(relevant_and_recommended) / k\n",
        "\n",
        "\n",
        "def recall_at_k(recommended_items, relevant_items, k):\n",
        "    \"\"\"Calculate recall at k.\"\"\"\n",
        "    if relevant_items.size == 0:  # Use size attribute to check if the array is empty\n",
        "        return 0.0  # Return 0 recall if there are no relevant items\n",
        "\n",
        "    recommended_at_k = recommended_items[:k]\n",
        "    relevant_and_recommended = [item for item in recommended_at_k if item in relevant_items]\n",
        "    return len(relevant_and_recommended) / len(relevant_items)\n",
        "\n"
      ],
      "metadata": {
        "execution": {
          "iopub.status.busy": "2024-08-10T19:00:47.455773Z",
          "iopub.execute_input": "2024-08-10T19:00:47.456339Z",
          "iopub.status.idle": "2024-08-10T19:00:47.478325Z",
          "shell.execute_reply.started": "2024-08-10T19:00:47.456281Z",
          "shell.execute_reply": "2024-08-10T19:00:47.476878Z"
        },
        "trusted": true,
        "id": "_DwC6r4K3v8V"
      },
      "execution_count": 5,
      "outputs": []
    },
    {
      "cell_type": "code",
      "source": [
        "from google.colab import drive\n",
        "drive.mount('/content/drive')\n"
      ],
      "metadata": {
        "colab": {
          "base_uri": "https://localhost:8080/"
        },
        "id": "-yHYltNL6QZS",
        "outputId": "a40b0f96-154a-4e54-881a-34b649b1785b"
      },
      "execution_count": 6,
      "outputs": [
        {
          "output_type": "stream",
          "name": "stdout",
          "text": [
            "Drive already mounted at /content/drive; to attempt to forcibly remount, call drive.mount(\"/content/drive\", force_remount=True).\n"
          ]
        }
      ]
    },
    {
      "cell_type": "code",
      "source": [],
      "metadata": {
        "id": "OqOs8KUI69UM"
      },
      "execution_count": null,
      "outputs": []
    },
    {
      "cell_type": "code",
      "source": [
        "books = pd.read_csv('/content/drive/MyDrive/Books_Extended.csv', delimiter=';', low_memory=False)\n",
        "ratings = pd.read_csv('/content/drive/MyDrive/Ratings.csv', delimiter=';')\n",
        "users = pd.read_csv('/content/drive/MyDrive/Users.csv', delimiter=';')"
      ],
      "metadata": {
        "execution": {
          "iopub.status.busy": "2024-08-10T19:22:18.254398Z",
          "iopub.execute_input": "2024-08-10T19:22:18.254826Z",
          "iopub.status.idle": "2024-08-10T19:22:21.367612Z",
          "shell.execute_reply.started": "2024-08-10T19:22:18.254788Z",
          "shell.execute_reply": "2024-08-10T19:22:21.366303Z"
        },
        "trusted": true,
        "colab": {
          "base_uri": "https://localhost:8080/"
        },
        "id": "MLROq3Wi3v8W",
        "outputId": "245b95f5-b8fd-4c7a-fb1d-975804a78c02"
      },
      "execution_count": 7,
      "outputs": [
        {
          "output_type": "stream",
          "name": "stderr",
          "text": [
            "<ipython-input-7-965afd468f24>:3: DtypeWarning: Columns (0) have mixed types. Specify dtype option on import or set low_memory=False.\n",
            "  users = pd.read_csv('/content/drive/MyDrive/Users.csv', delimiter=';')\n"
          ]
        }
      ]
    },
    {
      "cell_type": "code",
      "source": [
        "df_prep_step_1 = pd.merge(books, ratings.query(\"`Rating` > 0\"), on='ISBN', how='inner')\n",
        "\n",
        "# join users data\n",
        "df_prep_step_2 = pd.merge(df_prep_step_1, users, on='User-ID', how='inner')"
      ],
      "metadata": {
        "execution": {
          "iopub.status.busy": "2024-08-10T19:25:01.491210Z",
          "iopub.execute_input": "2024-08-10T19:25:01.491637Z",
          "iopub.status.idle": "2024-08-10T19:25:02.557669Z",
          "shell.execute_reply.started": "2024-08-10T19:25:01.491602Z",
          "shell.execute_reply": "2024-08-10T19:25:02.556199Z"
        },
        "trusted": true,
        "id": "DkteA4nN3v8X"
      },
      "execution_count": 8,
      "outputs": []
    },
    {
      "cell_type": "code",
      "source": [
        "df_prep = df_prep_step_2.drop(['Publisher'], axis=1)\n",
        "df_isbn = df_prep.drop_duplicates()"
      ],
      "metadata": {
        "execution": {
          "iopub.status.busy": "2024-08-10T19:25:02.559675Z",
          "iopub.execute_input": "2024-08-10T19:25:02.560043Z",
          "iopub.status.idle": "2024-08-10T19:25:03.200462Z",
          "shell.execute_reply.started": "2024-08-10T19:25:02.560012Z",
          "shell.execute_reply": "2024-08-10T19:25:03.199177Z"
        },
        "trusted": true,
        "id": "Y-DPQpa43v8X"
      },
      "execution_count": 9,
      "outputs": []
    },
    {
      "cell_type": "code",
      "source": [
        "df_prep = df_prep_step_2.drop(['Publisher'], axis=1)"
      ],
      "metadata": {
        "execution": {
          "iopub.status.busy": "2024-08-10T19:25:03.310190Z",
          "iopub.execute_input": "2024-08-10T19:25:03.311234Z",
          "iopub.status.idle": "2024-08-10T19:25:03.363770Z",
          "shell.execute_reply.started": "2024-08-10T19:25:03.311193Z",
          "shell.execute_reply": "2024-08-10T19:25:03.362564Z"
        },
        "trusted": true,
        "id": "n2D6xYpx3v8Y"
      },
      "execution_count": 10,
      "outputs": []
    },
    {
      "cell_type": "code",
      "source": [
        "df_isbn['Original_NaN'] = df_isbn['Age'].isna()\n",
        "\n",
        "# Convert 'Age' to numeric, turning non-numeric values into NaN\n",
        "df_isbn['Age'] = pd.to_numeric(df_isbn['Age'], errors='coerce')\n",
        "\n",
        "# Drop rows where 'Age' is NaN and were not originally NaN\n",
        "df_isbn = df_isbn[~(users['Age'].isna() & ~df_isbn['Original_NaN'])]\n",
        "\n",
        "# Drop the 'Original_NaN' column as it's no longer needed\n",
        "df_isbn.drop(columns=['Original_NaN'], inplace=True)"
      ],
      "metadata": {
        "execution": {
          "iopub.status.busy": "2024-08-10T19:25:09.090697Z",
          "iopub.execute_input": "2024-08-10T19:25:09.091439Z",
          "iopub.status.idle": "2024-08-10T19:25:09.836087Z",
          "shell.execute_reply.started": "2024-08-10T19:25:09.091394Z",
          "shell.execute_reply": "2024-08-10T19:25:09.834702Z"
        },
        "trusted": true,
        "colab": {
          "base_uri": "https://localhost:8080/"
        },
        "id": "agstIe0P3v8Y",
        "outputId": "c5e279e9-6efc-4666-8c68-d6195b1a9d5f"
      },
      "execution_count": 11,
      "outputs": [
        {
          "output_type": "stream",
          "name": "stderr",
          "text": [
            "<ipython-input-11-a229782017b2>:7: UserWarning: Boolean Series key will be reindexed to match DataFrame index.\n",
            "  df_isbn = df_isbn[~(users['Age'].isna() & ~df_isbn['Original_NaN'])]\n",
            "<ipython-input-11-a229782017b2>:10: SettingWithCopyWarning: \n",
            "A value is trying to be set on a copy of a slice from a DataFrame\n",
            "\n",
            "See the caveats in the documentation: https://pandas.pydata.org/pandas-docs/stable/user_guide/indexing.html#returning-a-view-versus-a-copy\n",
            "  df_isbn.drop(columns=['Original_NaN'], inplace=True)\n"
          ]
        }
      ]
    },
    {
      "cell_type": "code",
      "source": [
        "df_isbn['User-ID'] = pd.to_numeric(df_isbn['User-ID'], errors='coerce')\n",
        "\n",
        "# Drop rows where 'Age' is NaN and were not originally NaN\n",
        "df_isbn = df_isbn[~(df_isbn['User-ID'].isna())]"
      ],
      "metadata": {
        "execution": {
          "iopub.status.busy": "2024-08-10T19:25:11.517494Z",
          "iopub.execute_input": "2024-08-10T19:25:11.517893Z",
          "iopub.status.idle": "2024-08-10T19:25:11.601938Z",
          "shell.execute_reply.started": "2024-08-10T19:25:11.517860Z",
          "shell.execute_reply": "2024-08-10T19:25:11.600500Z"
        },
        "trusted": true,
        "id": "91UCfG_H3v8Y"
      },
      "execution_count": 12,
      "outputs": []
    },
    {
      "cell_type": "code",
      "source": [
        "age_outliers = df_isbn.query(\"Age > 100 or Age < 6\")\n",
        "\n",
        "user_outliers = age_outliers[\"User-ID\"].to_list()"
      ],
      "metadata": {
        "execution": {
          "iopub.status.busy": "2024-08-10T19:25:13.457949Z",
          "iopub.execute_input": "2024-08-10T19:25:13.458405Z",
          "iopub.status.idle": "2024-08-10T19:25:13.474019Z",
          "shell.execute_reply.started": "2024-08-10T19:25:13.458366Z",
          "shell.execute_reply": "2024-08-10T19:25:13.472439Z"
        },
        "trusted": true,
        "id": "sP07IpxY3v8Z"
      },
      "execution_count": 13,
      "outputs": []
    },
    {
      "cell_type": "code",
      "source": [
        "# exclude age outliers\n",
        "df_isbn = df_isbn[~df_isbn[\"User-ID\"].isin(user_outliers)]"
      ],
      "metadata": {
        "execution": {
          "iopub.status.busy": "2024-08-10T19:25:13.840294Z",
          "iopub.execute_input": "2024-08-10T19:25:13.840695Z",
          "iopub.status.idle": "2024-08-10T19:25:13.887685Z",
          "shell.execute_reply.started": "2024-08-10T19:25:13.840662Z",
          "shell.execute_reply": "2024-08-10T19:25:13.886471Z"
        },
        "trusted": true,
        "id": "BSpZaXoL3v8Z"
      },
      "execution_count": 14,
      "outputs": []
    },
    {
      "cell_type": "code",
      "source": [
        "unique_descriptions = df_isbn['Description'].unique()"
      ],
      "metadata": {
        "id": "rgIcsb62Ixf1"
      },
      "execution_count": 15,
      "outputs": []
    },
    {
      "cell_type": "code",
      "source": [
        "from openai import OpenAI\n",
        "client = OpenAI(api_key='key')\n",
        "\n",
        "def get_embedding(text, model=\"text-embedding-3-small\"):\n",
        "    if text is None or pd.isna(text):\n",
        "        return None\n",
        "    text = text.replace(\"\\n\", \" \")\n",
        "    return client.embeddings.create(input=[text], model=model).data[0].embedding"
      ],
      "metadata": {
        "id": "sArslFUIJlOq"
      },
      "execution_count": 15,
      "outputs": []
    },
    {
      "cell_type": "code",
      "source": [
        "description_to_embedding = {}\n",
        "\n",
        "for description in tqdm(unique_descriptions, desc=\"Generating Embeddings\"):\n",
        "    if description not in description_to_embedding:\n",
        "        embedding = get_embedding(description)\n",
        "        description_to_embedding[description] = embedding\n",
        "\n",
        "df_isbn['embedding'] = df_isbn['Description'].map(description_to_embedding)\n"
      ],
      "metadata": {
        "colab": {
          "base_uri": "https://localhost:8080/"
        },
        "id": "-EFGkYu0JcZ6",
        "outputId": "6eb30ec7-f1ae-4750-9aa8-0bc91106e63e"
      },
      "execution_count": 17,
      "outputs": [
        {
          "output_type": "stream",
          "name": "stderr",
          "text": [
            "Generating Embeddings: 100%|██████████| 38475/38475 [2:16:05<00:00,  4.71it/s]\n"
          ]
        }
      ]
    },
    {
      "cell_type": "code",
      "source": [
        "def average_precision(predicted_items, actual_items, m):\n",
        "    m = min(m, len(actual_items))\n",
        "    ap = 0\n",
        "    for i in range(m):\n",
        "        ap += precision_at_k(predicted_items, actual_items, i + 1) / m\n",
        "    return ap"
      ],
      "metadata": {
        "id": "agSkdLS94OAc"
      },
      "execution_count": 33,
      "outputs": []
    },
    {
      "cell_type": "code",
      "source": [
        "df_isbn['embedding'].notna().sum()"
      ],
      "metadata": {
        "colab": {
          "base_uri": "https://localhost:8080/"
        },
        "id": "25jlRFSXuwvs",
        "outputId": "28594d19-a339-4a2f-8534-23c10ec9573e"
      },
      "execution_count": 19,
      "outputs": [
        {
          "output_type": "execute_result",
          "data": {
            "text/plain": [
              "79833"
            ]
          },
          "metadata": {},
          "execution_count": 19
        }
      ]
    },
    {
      "cell_type": "code",
      "source": [
        "df_clened_with_emb = pd.read_csv('/content/df_with_emb_cleaned.csv')"
      ],
      "metadata": {
        "id": "Zv_BxSHH4rQG"
      },
      "execution_count": 16,
      "outputs": []
    },
    {
      "cell_type": "code",
      "source": [
        "df_cleaned.rename(columns={\"User-ID\": \"user\"}, inplace=True)"
      ],
      "metadata": {
        "execution": {
          "iopub.status.busy": "2024-08-10T17:03:18.649921Z",
          "iopub.execute_input": "2024-08-10T17:03:18.651104Z",
          "iopub.status.idle": "2024-08-10T17:03:18.661840Z",
          "shell.execute_reply.started": "2024-08-10T17:03:18.651051Z",
          "shell.execute_reply": "2024-08-10T17:03:18.660610Z"
        },
        "trusted": true,
        "id": "cvvQr9gw3v8a",
        "colab": {
          "base_uri": "https://localhost:8080/"
        },
        "outputId": "ad9cd51d-cc9b-41be-8972-f974d3aae7ef"
      },
      "execution_count": 323,
      "outputs": [
        {
          "output_type": "stream",
          "name": "stderr",
          "text": [
            "<ipython-input-323-939667d10c5d>:1: SettingWithCopyWarning: \n",
            "A value is trying to be set on a copy of a slice from a DataFrame\n",
            "\n",
            "See the caveats in the documentation: https://pandas.pydata.org/pandas-docs/stable/user_guide/indexing.html#returning-a-view-versus-a-copy\n",
            "  df_cleaned.rename(columns={\"User-ID\": \"user\"}, inplace=True)\n"
          ]
        }
      ]
    },
    {
      "cell_type": "code",
      "source": [
        "df_cleaned.rename(columns={\"ISBN\": \"item\"}, inplace=True)"
      ],
      "metadata": {
        "execution": {
          "iopub.status.busy": "2024-08-10T17:03:18.663133Z",
          "iopub.execute_input": "2024-08-10T17:03:18.663560Z",
          "iopub.status.idle": "2024-08-10T17:03:18.672170Z",
          "shell.execute_reply.started": "2024-08-10T17:03:18.663511Z",
          "shell.execute_reply": "2024-08-10T17:03:18.670927Z"
        },
        "trusted": true,
        "id": "gnc2dkj43v8a",
        "colab": {
          "base_uri": "https://localhost:8080/"
        },
        "outputId": "e0989d19-5ce9-4443-dce0-8c315da645c0"
      },
      "execution_count": 324,
      "outputs": [
        {
          "output_type": "stream",
          "name": "stderr",
          "text": [
            "<ipython-input-324-24d637dee9f4>:1: SettingWithCopyWarning: \n",
            "A value is trying to be set on a copy of a slice from a DataFrame\n",
            "\n",
            "See the caveats in the documentation: https://pandas.pydata.org/pandas-docs/stable/user_guide/indexing.html#returning-a-view-versus-a-copy\n",
            "  df_cleaned.rename(columns={\"ISBN\": \"item\"}, inplace=True)\n"
          ]
        }
      ]
    },
    {
      "cell_type": "code",
      "source": [
        "df_cleaned.rename(columns={\"Rating\": \"label\"}, inplace=True)"
      ],
      "metadata": {
        "execution": {
          "iopub.status.busy": "2024-08-10T17:03:21.288680Z",
          "iopub.execute_input": "2024-08-10T17:03:21.289118Z",
          "iopub.status.idle": "2024-08-10T17:03:21.295541Z",
          "shell.execute_reply.started": "2024-08-10T17:03:21.289082Z",
          "shell.execute_reply": "2024-08-10T17:03:21.294252Z"
        },
        "trusted": true,
        "id": "MWOUM8gl3v8b",
        "colab": {
          "base_uri": "https://localhost:8080/"
        },
        "outputId": "4087da83-2943-42ec-b937-3f43fc4cfc85"
      },
      "execution_count": 325,
      "outputs": [
        {
          "output_type": "stream",
          "name": "stderr",
          "text": [
            "<ipython-input-325-21c57fff3936>:1: SettingWithCopyWarning: \n",
            "A value is trying to be set on a copy of a slice from a DataFrame\n",
            "\n",
            "See the caveats in the documentation: https://pandas.pydata.org/pandas-docs/stable/user_guide/indexing.html#returning-a-view-versus-a-copy\n",
            "  df_cleaned.rename(columns={\"Rating\": \"label\"}, inplace=True)\n"
          ]
        }
      ]
    },
    {
      "cell_type": "code",
      "source": [
        "pca_columns = [f'pca_dim_{i+1}' for i in range(10)]"
      ],
      "metadata": {
        "id": "uvmvRZk8NlND"
      },
      "execution_count": 18,
      "outputs": []
    },
    {
      "cell_type": "code",
      "source": [
        "columns = ['user', 'item', 'label']\n",
        "user_cols = ['Age']\n",
        "item_cols = pca_columns + ['Year']\n",
        "\n",
        "columns = columns + user_cols + item_cols"
      ],
      "metadata": {
        "id": "BiyVp9miAKoF"
      },
      "execution_count": 19,
      "outputs": []
    },
    {
      "cell_type": "code",
      "source": [
        "from libreco.algorithms import NCF\n",
        "from sklearn.model_selection import train_test_split\n",
        "from tensorflow.compat.v1 import reset_default_graph\n",
        "\n",
        "from libreco.data import DataInfo, DatasetFeat, split_by_ratio\n",
        "train_df, test_df = train_test_split(\n",
        "    df_clened_with_emb,\n",
        "    test_size=0.3,\n",
        "    random_state=42\n",
        ")\n",
        "\n",
        "eval_user_mask = test_df['user'].isin(train_df['user'].unique())\n",
        "eval_item_mask = test_df['item'].isin(train_df['item'].unique())\n",
        "\n",
        "eval_df = test_df[eval_user_mask & eval_item_mask]\n",
        "\n",
        "train_data, data_info = DatasetFeat.build_trainset(train_df, user_col=user_cols, item_col=item_cols, dense_col=item_cols + user_cols)\n",
        "test_data = DatasetFeat.build_testset(eval_df)\n",
        "\n",
        "reset_default_graph()\n",
        "ncf = NCF(\n",
        "    task=\"rating\",\n",
        "    data_info=data_info,\n",
        "    n_epochs=400,\n",
        "    embed_size=512,\n",
        "    lr=0.5,\n",
        "    use_bn=True,\n",
        "    lr_decay=True,\n",
        "    reg=0.01,\n",
        "    seed=42,\n",
        "    dropout_rate=0.2\n",
        ")\n",
        "\n",
        "ncf.fit(train_data, verbose=2, neg_sampling=False, eval_data=test_data, metrics=['rmse','mae'])"
      ],
      "metadata": {
        "colab": {
          "base_uri": "https://localhost:8080/"
        },
        "id": "xkkx_rgJMbYN",
        "outputId": "5d7a4f1a-2a57-4318-d995-7dcac7ab0129"
      },
      "execution_count": 91,
      "outputs": [
        {
          "output_type": "stream",
          "name": "stdout",
          "text": [
            "Training start time: \u001b[35m2024-08-11 17:38:30\u001b[0m\n"
          ]
        },
        {
          "output_type": "stream",
          "name": "stderr",
          "text": [
            "/usr/local/lib/python3.10/dist-packages/libreco/layers/dense.py:31: UserWarning: `tf.layers.batch_normalization` is deprecated and will be removed in a future version. Please use `tf.keras.layers.BatchNormalization` instead. In particular, `tf.control_dependencies(tf.GraphKeys.UPDATE_OPS)` should not be used (consult the `tf.keras.layers.BatchNormalization` documentation).\n",
            "  net = tf.layers.batch_normalization(net, training=is_training)\n",
            "/usr/local/lib/python3.10/dist-packages/libreco/layers/dense.py:39: UserWarning: `tf.layers.batch_normalization` is deprecated and will be removed in a future version. Please use `tf.keras.layers.BatchNormalization` instead. In particular, `tf.control_dependencies(tf.GraphKeys.UPDATE_OPS)` should not be used (consult the `tf.keras.layers.BatchNormalization` documentation).\n",
            "  net = tf.layers.batch_normalization(net, training=is_training)\n",
            "/usr/local/lib/python3.10/dist-packages/libreco/layers/dense.py:47: UserWarning: `tf.layers.dropout` is deprecated and will be removed in a future version. Please use `tf.keras.layers.Dropout` instead.\n",
            "  net = tf.layers.dropout(net, dropout_rate, training=is_training)\n"
          ]
        },
        {
          "output_type": "stream",
          "name": "stdout",
          "text": [
            "With lr_decay, epoch 1 learning rate: 0.5\n"
          ]
        },
        {
          "output_type": "stream",
          "name": "stderr",
          "text": [
            "train: 100%|██████████| 57/57 [00:01<00:00, 31.65it/s]\n"
          ]
        },
        {
          "output_type": "stream",
          "name": "stdout",
          "text": [
            "Epoch 1 elapsed: 1.805s\n",
            "\t \u001b[32mtrain_loss: 12997.708\u001b[0m\n"
          ]
        },
        {
          "output_type": "stream",
          "name": "stderr",
          "text": [
            "eval_pointwise: 100%|██████████| 1/1 [00:00<00:00, 15.94it/s]\n"
          ]
        },
        {
          "output_type": "stream",
          "name": "stdout",
          "text": [
            "\t eval rmse: 5.5960\n",
            "\t eval mae: 4.7114\n",
            "==============================\n",
            "With lr_decay, epoch 2 learning rate: 0.47999998927116394\n"
          ]
        },
        {
          "output_type": "stream",
          "name": "stderr",
          "text": [
            "train: 100%|██████████| 57/57 [00:00<00:00, 306.27it/s]\n"
          ]
        },
        {
          "output_type": "stream",
          "name": "stdout",
          "text": [
            "Epoch 2 elapsed: 0.191s\n",
            "\t \u001b[32mtrain_loss: 162160.7344\u001b[0m\n"
          ]
        },
        {
          "output_type": "stream",
          "name": "stderr",
          "text": [
            "eval_pointwise: 100%|██████████| 1/1 [00:00<00:00, 524.22it/s]\n"
          ]
        },
        {
          "output_type": "stream",
          "name": "stdout",
          "text": [
            "\t eval rmse: 4.9294\n",
            "\t eval mae: 3.9245\n",
            "==============================\n",
            "With lr_decay, epoch 3 learning rate: 0.4607999920845032\n"
          ]
        },
        {
          "output_type": "stream",
          "name": "stderr",
          "text": [
            "train: 100%|██████████| 57/57 [00:00<00:00, 297.28it/s]\n"
          ]
        },
        {
          "output_type": "stream",
          "name": "stdout",
          "text": [
            "Epoch 3 elapsed: 0.196s\n",
            "\t \u001b[32mtrain_loss: 158138.2031\u001b[0m\n"
          ]
        },
        {
          "output_type": "stream",
          "name": "stderr",
          "text": [
            "eval_pointwise: 100%|██████████| 1/1 [00:00<00:00, 375.09it/s]\n"
          ]
        },
        {
          "output_type": "stream",
          "name": "stdout",
          "text": [
            "\t eval rmse: 4.7356\n",
            "\t eval mae: 3.7174\n",
            "==============================\n",
            "With lr_decay, epoch 4 learning rate: 0.4423679709434509\n"
          ]
        },
        {
          "output_type": "stream",
          "name": "stderr",
          "text": [
            "train: 100%|██████████| 57/57 [00:00<00:00, 306.38it/s]\n"
          ]
        },
        {
          "output_type": "stream",
          "name": "stdout",
          "text": [
            "Epoch 4 elapsed: 0.189s\n",
            "\t \u001b[32mtrain_loss: 190884.9375\u001b[0m\n"
          ]
        },
        {
          "output_type": "stream",
          "name": "stderr",
          "text": [
            "eval_pointwise: 100%|██████████| 1/1 [00:00<00:00, 383.64it/s]\n"
          ]
        },
        {
          "output_type": "stream",
          "name": "stdout",
          "text": [
            "\t eval rmse: 5.4902\n",
            "\t eval mae: 4.5719\n",
            "==============================\n",
            "With lr_decay, epoch 5 learning rate: 0.4246732294559479\n"
          ]
        },
        {
          "output_type": "stream",
          "name": "stderr",
          "text": [
            "train: 100%|██████████| 57/57 [00:00<00:00, 307.56it/s]\n"
          ]
        },
        {
          "output_type": "stream",
          "name": "stdout",
          "text": [
            "Epoch 5 elapsed: 0.189s\n",
            "\t \u001b[32mtrain_loss: 405484.625\u001b[0m\n"
          ]
        },
        {
          "output_type": "stream",
          "name": "stderr",
          "text": [
            "eval_pointwise: 100%|██████████| 1/1 [00:00<00:00, 427.21it/s]\n"
          ]
        },
        {
          "output_type": "stream",
          "name": "stdout",
          "text": [
            "\t eval rmse: 6.1286\n",
            "\t eval mae: 5.3973\n",
            "==============================\n",
            "With lr_decay, epoch 6 learning rate: 0.4076862931251526\n"
          ]
        },
        {
          "output_type": "stream",
          "name": "stderr",
          "text": [
            "train: 100%|██████████| 57/57 [00:00<00:00, 306.66it/s]\n"
          ]
        },
        {
          "output_type": "stream",
          "name": "stdout",
          "text": [
            "Epoch 6 elapsed: 0.189s\n",
            "\t \u001b[32mtrain_loss: 757378.875\u001b[0m\n"
          ]
        },
        {
          "output_type": "stream",
          "name": "stderr",
          "text": [
            "eval_pointwise: 100%|██████████| 1/1 [00:00<00:00, 588.10it/s]\n"
          ]
        },
        {
          "output_type": "stream",
          "name": "stdout",
          "text": [
            "\t eval rmse: 4.2823\n",
            "\t eval mae: 3.2625\n",
            "==============================\n",
            "With lr_decay, epoch 7 learning rate: 0.39137884974479675\n"
          ]
        },
        {
          "output_type": "stream",
          "name": "stderr",
          "text": [
            "train: 100%|██████████| 57/57 [00:00<00:00, 309.05it/s]\n"
          ]
        },
        {
          "output_type": "stream",
          "name": "stdout",
          "text": [
            "Epoch 7 elapsed: 0.188s\n",
            "\t \u001b[32mtrain_loss: 2025578.0\u001b[0m\n"
          ]
        },
        {
          "output_type": "stream",
          "name": "stderr",
          "text": [
            "eval_pointwise: 100%|██████████| 1/1 [00:00<00:00, 566.49it/s]"
          ]
        },
        {
          "output_type": "stream",
          "name": "stdout",
          "text": [
            "\t eval rmse: 6.0065\n"
          ]
        },
        {
          "output_type": "stream",
          "name": "stderr",
          "text": [
            "\n"
          ]
        },
        {
          "output_type": "stream",
          "name": "stdout",
          "text": [
            "\t eval mae: 5.2343\n",
            "==============================\n",
            "With lr_decay, epoch 8 learning rate: 0.375723659992218\n"
          ]
        },
        {
          "output_type": "stream",
          "name": "stderr",
          "text": [
            "train: 100%|██████████| 57/57 [00:00<00:00, 295.61it/s]\n"
          ]
        },
        {
          "output_type": "stream",
          "name": "stdout",
          "text": [
            "Epoch 8 elapsed: 0.196s\n",
            "\t \u001b[32mtrain_loss: 3167122.5\u001b[0m\n"
          ]
        },
        {
          "output_type": "stream",
          "name": "stderr",
          "text": [
            "eval_pointwise: 100%|██████████| 1/1 [00:00<00:00, 343.71it/s]\n"
          ]
        },
        {
          "output_type": "stream",
          "name": "stdout",
          "text": [
            "\t eval rmse: 5.2689\n",
            "\t eval mae: 4.3096\n",
            "==============================\n",
            "With lr_decay, epoch 9 learning rate: 0.3606947362422943\n"
          ]
        },
        {
          "output_type": "stream",
          "name": "stderr",
          "text": [
            "train: 100%|██████████| 57/57 [00:00<00:00, 305.01it/s]\n"
          ]
        },
        {
          "output_type": "stream",
          "name": "stdout",
          "text": [
            "Epoch 9 elapsed: 0.190s\n",
            "\t \u001b[32mtrain_loss: 2144914.5\u001b[0m\n"
          ]
        },
        {
          "output_type": "stream",
          "name": "stderr",
          "text": [
            "eval_pointwise: 100%|██████████| 1/1 [00:00<00:00, 449.17it/s]\n"
          ]
        },
        {
          "output_type": "stream",
          "name": "stdout",
          "text": [
            "\t eval rmse: 5.7822\n",
            "\t eval mae: 4.9397\n",
            "==============================\n",
            "With lr_decay, epoch 10 learning rate: 0.3462669253349304\n"
          ]
        },
        {
          "output_type": "stream",
          "name": "stderr",
          "text": [
            "train: 100%|██████████| 57/57 [00:00<00:00, 292.80it/s]\n"
          ]
        },
        {
          "output_type": "stream",
          "name": "stdout",
          "text": [
            "Epoch 10 elapsed: 0.199s\n",
            "\t \u001b[32mtrain_loss: 837395.0625\u001b[0m\n"
          ]
        },
        {
          "output_type": "stream",
          "name": "stderr",
          "text": [
            "eval_pointwise: 100%|██████████| 1/1 [00:00<00:00, 681.00it/s]\n"
          ]
        },
        {
          "output_type": "stream",
          "name": "stdout",
          "text": [
            "\t eval rmse: 5.5733\n",
            "\t eval mae: 4.6696\n",
            "==============================\n",
            "With lr_decay, epoch 11 learning rate: 0.33241623640060425\n"
          ]
        },
        {
          "output_type": "stream",
          "name": "stderr",
          "text": [
            "train: 100%|██████████| 57/57 [00:00<00:00, 292.72it/s]\n"
          ]
        },
        {
          "output_type": "stream",
          "name": "stdout",
          "text": [
            "Epoch 11 elapsed: 0.199s\n",
            "\t \u001b[32mtrain_loss: 350315.1875\u001b[0m\n"
          ]
        },
        {
          "output_type": "stream",
          "name": "stderr",
          "text": [
            "eval_pointwise: 100%|██████████| 1/1 [00:00<00:00, 644.39it/s]\n"
          ]
        },
        {
          "output_type": "stream",
          "name": "stdout",
          "text": [
            "\t eval rmse: 6.4546\n",
            "\t eval mae: 5.8452\n",
            "==============================\n",
            "With lr_decay, epoch 12 learning rate: 0.3191196024417877\n"
          ]
        },
        {
          "output_type": "stream",
          "name": "stderr",
          "text": [
            "train: 100%|██████████| 57/57 [00:00<00:00, 294.58it/s]\n"
          ]
        },
        {
          "output_type": "stream",
          "name": "stdout",
          "text": [
            "Epoch 12 elapsed: 0.197s\n",
            "\t \u001b[32mtrain_loss: 92519.5859\u001b[0m\n"
          ]
        },
        {
          "output_type": "stream",
          "name": "stderr",
          "text": [
            "eval_pointwise: 100%|██████████| 1/1 [00:00<00:00, 574.40it/s]\n"
          ]
        },
        {
          "output_type": "stream",
          "name": "stdout",
          "text": [
            "\t eval rmse: 6.1080\n",
            "\t eval mae: 5.3751\n",
            "==============================\n",
            "With lr_decay, epoch 13 learning rate: 0.3063547909259796\n"
          ]
        },
        {
          "output_type": "stream",
          "name": "stderr",
          "text": [
            "train: 100%|██████████| 57/57 [00:00<00:00, 292.89it/s]\n"
          ]
        },
        {
          "output_type": "stream",
          "name": "stdout",
          "text": [
            "Epoch 13 elapsed: 0.199s\n",
            "\t \u001b[32mtrain_loss: 79726.8594\u001b[0m\n"
          ]
        },
        {
          "output_type": "stream",
          "name": "stderr",
          "text": [
            "eval_pointwise: 100%|██████████| 1/1 [00:00<00:00, 517.82it/s]\n"
          ]
        },
        {
          "output_type": "stream",
          "name": "stdout",
          "text": [
            "\t eval rmse: 4.3598\n",
            "\t eval mae: 3.3362\n",
            "==============================\n",
            "With lr_decay, epoch 14 learning rate: 0.2941005825996399\n"
          ]
        },
        {
          "output_type": "stream",
          "name": "stderr",
          "text": [
            "train: 100%|██████████| 57/57 [00:00<00:00, 297.82it/s]\n"
          ]
        },
        {
          "output_type": "stream",
          "name": "stdout",
          "text": [
            "Epoch 14 elapsed: 0.195s\n",
            "\t \u001b[32mtrain_loss: 49735.7422\u001b[0m\n"
          ]
        },
        {
          "output_type": "stream",
          "name": "stderr",
          "text": [
            "eval_pointwise: 100%|██████████| 1/1 [00:00<00:00, 539.53it/s]\n"
          ]
        },
        {
          "output_type": "stream",
          "name": "stdout",
          "text": [
            "\t eval rmse: 5.6132\n",
            "\t eval mae: 4.7462\n",
            "==============================\n",
            "With lr_decay, epoch 15 learning rate: 0.282336562871933\n"
          ]
        },
        {
          "output_type": "stream",
          "name": "stderr",
          "text": [
            "train: 100%|██████████| 57/57 [00:00<00:00, 304.62it/s]\n"
          ]
        },
        {
          "output_type": "stream",
          "name": "stdout",
          "text": [
            "Epoch 15 elapsed: 0.191s\n",
            "\t \u001b[32mtrain_loss: 11053.9824\u001b[0m\n"
          ]
        },
        {
          "output_type": "stream",
          "name": "stderr",
          "text": [
            "eval_pointwise: 100%|██████████| 1/1 [00:00<00:00, 406.70it/s]\n"
          ]
        },
        {
          "output_type": "stream",
          "name": "stdout",
          "text": [
            "\t eval rmse: 4.8120\n",
            "\t eval mae: 3.8149\n",
            "==============================\n",
            "With lr_decay, epoch 16 learning rate: 0.2710430920124054\n"
          ]
        },
        {
          "output_type": "stream",
          "name": "stderr",
          "text": [
            "train: 100%|██████████| 57/57 [00:00<00:00, 305.28it/s]\n"
          ]
        },
        {
          "output_type": "stream",
          "name": "stdout",
          "text": [
            "Epoch 16 elapsed: 0.189s\n",
            "\t \u001b[32mtrain_loss: 8703.0098\u001b[0m\n"
          ]
        },
        {
          "output_type": "stream",
          "name": "stderr",
          "text": [
            "eval_pointwise: 100%|██████████| 1/1 [00:00<00:00, 386.43it/s]\n"
          ]
        },
        {
          "output_type": "stream",
          "name": "stdout",
          "text": [
            "\t eval rmse: 5.2801\n",
            "\t eval mae: 4.3887\n",
            "==============================\n",
            "With lr_decay, epoch 17 learning rate: 0.2602013647556305\n"
          ]
        },
        {
          "output_type": "stream",
          "name": "stderr",
          "text": [
            "train: 100%|██████████| 57/57 [00:00<00:00, 290.40it/s]\n"
          ]
        },
        {
          "output_type": "stream",
          "name": "stdout",
          "text": [
            "Epoch 17 elapsed: 0.200s\n",
            "\t \u001b[32mtrain_loss: 1398.9889\u001b[0m\n"
          ]
        },
        {
          "output_type": "stream",
          "name": "stderr",
          "text": [
            "eval_pointwise: 100%|██████████| 1/1 [00:00<00:00, 494.79it/s]\n"
          ]
        },
        {
          "output_type": "stream",
          "name": "stdout",
          "text": [
            "\t eval rmse: 4.5945\n",
            "\t eval mae: 3.6148\n",
            "==============================\n",
            "With lr_decay, epoch 18 learning rate: 0.24979330599308014\n"
          ]
        },
        {
          "output_type": "stream",
          "name": "stderr",
          "text": [
            "train: 100%|██████████| 57/57 [00:00<00:00, 285.69it/s]\n"
          ]
        },
        {
          "output_type": "stream",
          "name": "stdout",
          "text": [
            "Epoch 18 elapsed: 0.204s\n",
            "\t \u001b[32mtrain_loss: 234.1232\u001b[0m\n"
          ]
        },
        {
          "output_type": "stream",
          "name": "stderr",
          "text": [
            "eval_pointwise: 100%|██████████| 1/1 [00:00<00:00, 286.12it/s]\n"
          ]
        },
        {
          "output_type": "stream",
          "name": "stdout",
          "text": [
            "\t eval rmse: 3.7261\n",
            "\t eval mae: 2.8931\n",
            "==============================\n",
            "With lr_decay, epoch 19 learning rate: 0.2398015707731247\n"
          ]
        },
        {
          "output_type": "stream",
          "name": "stderr",
          "text": [
            "train: 100%|██████████| 57/57 [00:00<00:00, 279.70it/s]\n"
          ]
        },
        {
          "output_type": "stream",
          "name": "stdout",
          "text": [
            "Epoch 19 elapsed: 0.207s\n",
            "\t \u001b[32mtrain_loss: 102.2752\u001b[0m\n"
          ]
        },
        {
          "output_type": "stream",
          "name": "stderr",
          "text": [
            "eval_pointwise: 100%|██████████| 1/1 [00:00<00:00, 680.01it/s]\n"
          ]
        },
        {
          "output_type": "stream",
          "name": "stdout",
          "text": [
            "\t eval rmse: 3.3160\n",
            "\t eval mae: 2.5494\n",
            "==============================\n",
            "With lr_decay, epoch 20 learning rate: 0.23020951449871063\n"
          ]
        },
        {
          "output_type": "stream",
          "name": "stderr",
          "text": [
            "train: 100%|██████████| 57/57 [00:00<00:00, 289.45it/s]\n"
          ]
        },
        {
          "output_type": "stream",
          "name": "stdout",
          "text": [
            "Epoch 20 elapsed: 0.200s\n",
            "\t \u001b[32mtrain_loss: 39.8167\u001b[0m\n"
          ]
        },
        {
          "output_type": "stream",
          "name": "stderr",
          "text": [
            "eval_pointwise: 100%|██████████| 1/1 [00:00<00:00, 377.97it/s]\n"
          ]
        },
        {
          "output_type": "stream",
          "name": "stdout",
          "text": [
            "\t eval rmse: 3.1417\n",
            "\t eval mae: 2.4266\n",
            "==============================\n",
            "With lr_decay, epoch 21 learning rate: 0.22100111842155457\n"
          ]
        },
        {
          "output_type": "stream",
          "name": "stderr",
          "text": [
            "train: 100%|██████████| 57/57 [00:00<00:00, 308.93it/s]\n"
          ]
        },
        {
          "output_type": "stream",
          "name": "stdout",
          "text": [
            "Epoch 21 elapsed: 0.188s\n",
            "\t \u001b[32mtrain_loss: 237.8754\u001b[0m\n"
          ]
        },
        {
          "output_type": "stream",
          "name": "stderr",
          "text": [
            "eval_pointwise: 100%|██████████| 1/1 [00:00<00:00, 523.63it/s]\n"
          ]
        },
        {
          "output_type": "stream",
          "name": "stdout",
          "text": [
            "\t eval rmse: 3.7844\n",
            "\t eval mae: 2.8964\n",
            "==============================\n",
            "With lr_decay, epoch 22 learning rate: 0.21216106414794922\n"
          ]
        },
        {
          "output_type": "stream",
          "name": "stderr",
          "text": [
            "train: 100%|██████████| 57/57 [00:00<00:00, 298.05it/s]\n"
          ]
        },
        {
          "output_type": "stream",
          "name": "stdout",
          "text": [
            "Epoch 22 elapsed: 0.194s\n",
            "\t \u001b[32mtrain_loss: 40.6155\u001b[0m\n"
          ]
        },
        {
          "output_type": "stream",
          "name": "stderr",
          "text": [
            "eval_pointwise: 100%|██████████| 1/1 [00:00<00:00, 371.84it/s]\n"
          ]
        },
        {
          "output_type": "stream",
          "name": "stdout",
          "text": [
            "\t eval rmse: 2.7739\n",
            "\t eval mae: 2.1382\n",
            "==============================\n",
            "With lr_decay, epoch 23 learning rate: 0.20367462933063507\n"
          ]
        },
        {
          "output_type": "stream",
          "name": "stderr",
          "text": [
            "train: 100%|██████████| 57/57 [00:00<00:00, 302.70it/s]\n"
          ]
        },
        {
          "output_type": "stream",
          "name": "stdout",
          "text": [
            "Epoch 23 elapsed: 0.192s\n",
            "\t \u001b[32mtrain_loss: 17.2966\u001b[0m\n"
          ]
        },
        {
          "output_type": "stream",
          "name": "stderr",
          "text": [
            "eval_pointwise: 100%|██████████| 1/1 [00:00<00:00, 333.60it/s]\n"
          ]
        },
        {
          "output_type": "stream",
          "name": "stdout",
          "text": [
            "\t eval rmse: 2.3001\n",
            "\t eval mae: 1.7892\n",
            "==============================\n",
            "With lr_decay, epoch 24 learning rate: 0.19552762806415558\n"
          ]
        },
        {
          "output_type": "stream",
          "name": "stderr",
          "text": [
            "train: 100%|██████████| 57/57 [00:00<00:00, 303.60it/s]\n"
          ]
        },
        {
          "output_type": "stream",
          "name": "stdout",
          "text": [
            "Epoch 24 elapsed: 0.191s\n",
            "\t \u001b[32mtrain_loss: 13.0264\u001b[0m\n"
          ]
        },
        {
          "output_type": "stream",
          "name": "stderr",
          "text": [
            "eval_pointwise: 100%|██████████| 1/1 [00:00<00:00, 391.08it/s]\n"
          ]
        },
        {
          "output_type": "stream",
          "name": "stdout",
          "text": [
            "\t eval rmse: 2.2059\n",
            "\t eval mae: 1.7538\n",
            "==============================\n",
            "With lr_decay, epoch 25 learning rate: 0.18770651519298553\n"
          ]
        },
        {
          "output_type": "stream",
          "name": "stderr",
          "text": [
            "train: 100%|██████████| 57/57 [00:00<00:00, 309.85it/s]\n"
          ]
        },
        {
          "output_type": "stream",
          "name": "stdout",
          "text": [
            "Epoch 25 elapsed: 0.187s\n",
            "\t \u001b[32mtrain_loss: 14.4501\u001b[0m\n"
          ]
        },
        {
          "output_type": "stream",
          "name": "stderr",
          "text": [
            "eval_pointwise: 100%|██████████| 1/1 [00:00<00:00, 341.31it/s]\n"
          ]
        },
        {
          "output_type": "stream",
          "name": "stdout",
          "text": [
            "\t eval rmse: 2.1338\n",
            "\t eval mae: 1.6801\n",
            "==============================\n",
            "With lr_decay, epoch 26 learning rate: 0.18019826710224152\n"
          ]
        },
        {
          "output_type": "stream",
          "name": "stderr",
          "text": [
            "train: 100%|██████████| 57/57 [00:00<00:00, 308.44it/s]\n"
          ]
        },
        {
          "output_type": "stream",
          "name": "stdout",
          "text": [
            "Epoch 26 elapsed: 0.189s\n",
            "\t \u001b[32mtrain_loss: 8.4986\u001b[0m\n"
          ]
        },
        {
          "output_type": "stream",
          "name": "stderr",
          "text": [
            "eval_pointwise: 100%|██████████| 1/1 [00:00<00:00, 416.60it/s]\n"
          ]
        },
        {
          "output_type": "stream",
          "name": "stdout",
          "text": [
            "\t eval rmse: 2.0095\n",
            "\t eval mae: 1.6210\n",
            "==============================\n",
            "With lr_decay, epoch 27 learning rate: 0.1729903221130371\n"
          ]
        },
        {
          "output_type": "stream",
          "name": "stderr",
          "text": [
            "train: 100%|██████████| 57/57 [00:00<00:00, 305.90it/s]\n"
          ]
        },
        {
          "output_type": "stream",
          "name": "stdout",
          "text": [
            "Epoch 27 elapsed: 0.190s\n",
            "\t \u001b[32mtrain_loss: 8.9544\u001b[0m\n"
          ]
        },
        {
          "output_type": "stream",
          "name": "stderr",
          "text": [
            "eval_pointwise: 100%|██████████| 1/1 [00:00<00:00, 320.37it/s]"
          ]
        },
        {
          "output_type": "stream",
          "name": "stdout",
          "text": [
            "\t eval rmse: 2.0467\n",
            "\t eval mae: 1.6773\n",
            "==============================\n"
          ]
        },
        {
          "output_type": "stream",
          "name": "stderr",
          "text": [
            "\n"
          ]
        },
        {
          "output_type": "stream",
          "name": "stdout",
          "text": [
            "With lr_decay, epoch 28 learning rate: 0.16607069969177246\n"
          ]
        },
        {
          "output_type": "stream",
          "name": "stderr",
          "text": [
            "train: 100%|██████████| 57/57 [00:00<00:00, 302.95it/s]\n"
          ]
        },
        {
          "output_type": "stream",
          "name": "stdout",
          "text": [
            "Epoch 28 elapsed: 0.192s\n",
            "\t \u001b[32mtrain_loss: 13.7965\u001b[0m\n"
          ]
        },
        {
          "output_type": "stream",
          "name": "stderr",
          "text": [
            "eval_pointwise: 100%|██████████| 1/1 [00:00<00:00, 608.93it/s]\n"
          ]
        },
        {
          "output_type": "stream",
          "name": "stdout",
          "text": [
            "\t eval rmse: 2.1255\n",
            "\t eval mae: 1.6921\n",
            "==============================\n",
            "With lr_decay, epoch 29 learning rate: 0.15942788124084473\n"
          ]
        },
        {
          "output_type": "stream",
          "name": "stderr",
          "text": [
            "train: 100%|██████████| 57/57 [00:00<00:00, 305.55it/s]\n"
          ]
        },
        {
          "output_type": "stream",
          "name": "stdout",
          "text": [
            "Epoch 29 elapsed: 0.192s\n",
            "\t \u001b[32mtrain_loss: 9.6912\u001b[0m\n"
          ]
        },
        {
          "output_type": "stream",
          "name": "stderr",
          "text": [
            "eval_pointwise: 100%|██████████| 1/1 [00:00<00:00, 437.23it/s]\n"
          ]
        },
        {
          "output_type": "stream",
          "name": "stdout",
          "text": [
            "\t eval rmse: 2.0008\n",
            "\t eval mae: 1.5879\n",
            "==============================\n",
            "With lr_decay, epoch 30 learning rate: 0.1530507504940033\n"
          ]
        },
        {
          "output_type": "stream",
          "name": "stderr",
          "text": [
            "train: 100%|██████████| 57/57 [00:00<00:00, 312.02it/s]\n"
          ]
        },
        {
          "output_type": "stream",
          "name": "stdout",
          "text": [
            "Epoch 30 elapsed: 0.186s\n",
            "\t \u001b[32mtrain_loss: 8.5608\u001b[0m\n"
          ]
        },
        {
          "output_type": "stream",
          "name": "stderr",
          "text": [
            "eval_pointwise: 100%|██████████| 1/1 [00:00<00:00, 739.48it/s]\n"
          ]
        },
        {
          "output_type": "stream",
          "name": "stdout",
          "text": [
            "\t eval rmse: 2.0481\n",
            "\t eval mae: 1.6373\n",
            "==============================\n",
            "With lr_decay, epoch 31 learning rate: 0.14692871272563934\n"
          ]
        },
        {
          "output_type": "stream",
          "name": "stderr",
          "text": [
            "train: 100%|██████████| 57/57 [00:00<00:00, 309.99it/s]\n"
          ]
        },
        {
          "output_type": "stream",
          "name": "stdout",
          "text": [
            "Epoch 31 elapsed: 0.188s\n",
            "\t \u001b[32mtrain_loss: 8.176\u001b[0m\n"
          ]
        },
        {
          "output_type": "stream",
          "name": "stderr",
          "text": [
            "eval_pointwise: 100%|██████████| 1/1 [00:00<00:00, 405.01it/s]\n"
          ]
        },
        {
          "output_type": "stream",
          "name": "stdout",
          "text": [
            "\t eval rmse: 1.9397\n",
            "\t eval mae: 1.5566\n",
            "==============================\n",
            "With lr_decay, epoch 32 learning rate: 0.14105157554149628\n"
          ]
        },
        {
          "output_type": "stream",
          "name": "stderr",
          "text": [
            "train: 100%|██████████| 57/57 [00:00<00:00, 304.86it/s]\n"
          ]
        },
        {
          "output_type": "stream",
          "name": "stdout",
          "text": [
            "Epoch 32 elapsed: 0.192s\n",
            "\t \u001b[32mtrain_loss: 10.412\u001b[0m\n"
          ]
        },
        {
          "output_type": "stream",
          "name": "stderr",
          "text": [
            "eval_pointwise: 100%|██████████| 1/1 [00:00<00:00, 593.00it/s]\n"
          ]
        },
        {
          "output_type": "stream",
          "name": "stdout",
          "text": [
            "\t eval rmse: 2.0650\n",
            "\t eval mae: 1.6552\n",
            "==============================\n",
            "With lr_decay, epoch 33 learning rate: 0.13540950417518616\n"
          ]
        },
        {
          "output_type": "stream",
          "name": "stderr",
          "text": [
            "train: 100%|██████████| 57/57 [00:00<00:00, 296.77it/s]\n"
          ]
        },
        {
          "output_type": "stream",
          "name": "stdout",
          "text": [
            "Epoch 33 elapsed: 0.197s\n",
            "\t \u001b[32mtrain_loss: 6.8007\u001b[0m\n"
          ]
        },
        {
          "output_type": "stream",
          "name": "stderr",
          "text": [
            "eval_pointwise: 100%|██████████| 1/1 [00:00<00:00, 329.40it/s]\n"
          ]
        },
        {
          "output_type": "stream",
          "name": "stdout",
          "text": [
            "\t eval rmse: 1.8660\n",
            "\t eval mae: 1.5102\n",
            "==============================\n",
            "With lr_decay, epoch 34 learning rate: 0.12999311089515686\n"
          ]
        },
        {
          "output_type": "stream",
          "name": "stderr",
          "text": [
            "train: 100%|██████████| 57/57 [00:00<00:00, 305.42it/s]\n"
          ]
        },
        {
          "output_type": "stream",
          "name": "stdout",
          "text": [
            "Epoch 34 elapsed: 0.190s\n",
            "\t \u001b[32mtrain_loss: 14.1935\u001b[0m\n"
          ]
        },
        {
          "output_type": "stream",
          "name": "stderr",
          "text": [
            "eval_pointwise: 100%|██████████| 1/1 [00:00<00:00, 658.86it/s]\n"
          ]
        },
        {
          "output_type": "stream",
          "name": "stdout",
          "text": [
            "\t eval rmse: 2.0354\n",
            "\t eval mae: 1.6220\n",
            "==============================\n",
            "With lr_decay, epoch 35 learning rate: 0.1247933954000473\n"
          ]
        },
        {
          "output_type": "stream",
          "name": "stderr",
          "text": [
            "train: 100%|██████████| 57/57 [00:00<00:00, 303.19it/s]\n"
          ]
        },
        {
          "output_type": "stream",
          "name": "stdout",
          "text": [
            "Epoch 35 elapsed: 0.191s\n",
            "\t \u001b[32mtrain_loss: 6.8755\u001b[0m\n"
          ]
        },
        {
          "output_type": "stream",
          "name": "stderr",
          "text": [
            "eval_pointwise: 100%|██████████| 1/1 [00:00<00:00, 412.42it/s]\n"
          ]
        },
        {
          "output_type": "stream",
          "name": "stdout",
          "text": [
            "\t eval rmse: 1.9109\n",
            "\t eval mae: 1.5201\n",
            "==============================\n",
            "With lr_decay, epoch 36 learning rate: 0.11980165541172028\n"
          ]
        },
        {
          "output_type": "stream",
          "name": "stderr",
          "text": [
            "train: 100%|██████████| 57/57 [00:00<00:00, 311.21it/s]\n"
          ]
        },
        {
          "output_type": "stream",
          "name": "stdout",
          "text": [
            "Epoch 36 elapsed: 0.187s\n",
            "\t \u001b[32mtrain_loss: 6.8865\u001b[0m\n"
          ]
        },
        {
          "output_type": "stream",
          "name": "stderr",
          "text": [
            "eval_pointwise: 100%|██████████| 1/1 [00:00<00:00, 383.95it/s]\n"
          ]
        },
        {
          "output_type": "stream",
          "name": "stdout",
          "text": [
            "\t eval rmse: 1.8635\n",
            "\t eval mae: 1.4944\n",
            "==============================\n",
            "With lr_decay, epoch 37 learning rate: 0.11500958353281021\n"
          ]
        },
        {
          "output_type": "stream",
          "name": "stderr",
          "text": [
            "train: 100%|██████████| 57/57 [00:00<00:00, 301.38it/s]\n"
          ]
        },
        {
          "output_type": "stream",
          "name": "stdout",
          "text": [
            "Epoch 37 elapsed: 0.193s\n",
            "\t \u001b[32mtrain_loss: 6.0064\u001b[0m\n"
          ]
        },
        {
          "output_type": "stream",
          "name": "stderr",
          "text": [
            "eval_pointwise: 100%|██████████| 1/1 [00:00<00:00, 383.95it/s]\n"
          ]
        },
        {
          "output_type": "stream",
          "name": "stdout",
          "text": [
            "\t eval rmse: 1.8515\n",
            "\t eval mae: 1.4899\n",
            "==============================\n",
            "With lr_decay, epoch 38 learning rate: 0.1104091927409172\n"
          ]
        },
        {
          "output_type": "stream",
          "name": "stderr",
          "text": [
            "train: 100%|██████████| 57/57 [00:00<00:00, 299.72it/s]\n"
          ]
        },
        {
          "output_type": "stream",
          "name": "stdout",
          "text": [
            "Epoch 38 elapsed: 0.195s\n",
            "\t \u001b[32mtrain_loss: 5.7075\u001b[0m\n"
          ]
        },
        {
          "output_type": "stream",
          "name": "stderr",
          "text": [
            "eval_pointwise: 100%|██████████| 1/1 [00:00<00:00, 493.80it/s]\n"
          ]
        },
        {
          "output_type": "stream",
          "name": "stdout",
          "text": [
            "\t eval rmse: 1.8626\n",
            "\t eval mae: 1.4994\n",
            "==============================\n",
            "With lr_decay, epoch 39 learning rate: 0.10599283874034882\n"
          ]
        },
        {
          "output_type": "stream",
          "name": "stderr",
          "text": [
            "train: 100%|██████████| 57/57 [00:00<00:00, 309.26it/s]\n"
          ]
        },
        {
          "output_type": "stream",
          "name": "stdout",
          "text": [
            "Epoch 39 elapsed: 0.189s\n",
            "\t \u001b[32mtrain_loss: 6.7161\u001b[0m\n"
          ]
        },
        {
          "output_type": "stream",
          "name": "stderr",
          "text": [
            "eval_pointwise: 100%|██████████| 1/1 [00:00<00:00, 542.04it/s]\n"
          ]
        },
        {
          "output_type": "stream",
          "name": "stdout",
          "text": [
            "\t eval rmse: 1.8561\n",
            "\t eval mae: 1.4949\n",
            "==============================\n",
            "With lr_decay, epoch 40 learning rate: 0.1017531156539917\n"
          ]
        },
        {
          "output_type": "stream",
          "name": "stderr",
          "text": [
            "train: 100%|██████████| 57/57 [00:00<00:00, 235.00it/s]\n"
          ]
        },
        {
          "output_type": "stream",
          "name": "stdout",
          "text": [
            "Epoch 40 elapsed: 0.246s\n",
            "\t \u001b[32mtrain_loss: 5.8622\u001b[0m\n"
          ]
        },
        {
          "output_type": "stream",
          "name": "stderr",
          "text": [
            "eval_pointwise: 100%|██████████| 1/1 [00:00<00:00, 370.55it/s]\n"
          ]
        },
        {
          "output_type": "stream",
          "name": "stdout",
          "text": [
            "\t eval rmse: 1.8681\n",
            "\t eval mae: 1.5182\n",
            "==============================\n",
            "With lr_decay, epoch 41 learning rate: 0.09768299013376236\n"
          ]
        },
        {
          "output_type": "stream",
          "name": "stderr",
          "text": [
            "train: 100%|██████████| 57/57 [00:00<00:00, 311.62it/s]\n"
          ]
        },
        {
          "output_type": "stream",
          "name": "stdout",
          "text": [
            "Epoch 41 elapsed: 0.186s\n",
            "\t \u001b[32mtrain_loss: 5.722\u001b[0m\n"
          ]
        },
        {
          "output_type": "stream",
          "name": "stderr",
          "text": [
            "eval_pointwise: 100%|██████████| 1/1 [00:00<00:00, 443.65it/s]\n"
          ]
        },
        {
          "output_type": "stream",
          "name": "stdout",
          "text": [
            "\t eval rmse: 1.8217\n",
            "\t eval mae: 1.4573\n",
            "==============================\n",
            "With lr_decay, epoch 42 learning rate: 0.0937756672501564\n"
          ]
        },
        {
          "output_type": "stream",
          "name": "stderr",
          "text": [
            "train: 100%|██████████| 57/57 [00:00<00:00, 299.51it/s]\n"
          ]
        },
        {
          "output_type": "stream",
          "name": "stdout",
          "text": [
            "Epoch 42 elapsed: 0.195s\n",
            "\t \u001b[32mtrain_loss: 5.9699\u001b[0m\n"
          ]
        },
        {
          "output_type": "stream",
          "name": "stderr",
          "text": [
            "eval_pointwise: 100%|██████████| 1/1 [00:00<00:00, 479.24it/s]\n"
          ]
        },
        {
          "output_type": "stream",
          "name": "stdout",
          "text": [
            "\t eval rmse: 1.8060\n",
            "\t eval mae: 1.4417\n",
            "==============================\n",
            "With lr_decay, epoch 43 learning rate: 0.09002463519573212\n"
          ]
        },
        {
          "output_type": "stream",
          "name": "stderr",
          "text": [
            "train: 100%|██████████| 57/57 [00:00<00:00, 297.30it/s]\n"
          ]
        },
        {
          "output_type": "stream",
          "name": "stdout",
          "text": [
            "Epoch 43 elapsed: 0.195s\n",
            "\t \u001b[32mtrain_loss: 5.4394\u001b[0m\n"
          ]
        },
        {
          "output_type": "stream",
          "name": "stderr",
          "text": [
            "eval_pointwise: 100%|██████████| 1/1 [00:00<00:00, 338.36it/s]\n"
          ]
        },
        {
          "output_type": "stream",
          "name": "stdout",
          "text": [
            "\t eval rmse: 1.8193\n",
            "\t eval mae: 1.4637\n",
            "==============================\n",
            "With lr_decay, epoch 44 learning rate: 0.08642364293336868\n"
          ]
        },
        {
          "output_type": "stream",
          "name": "stderr",
          "text": [
            "train: 100%|██████████| 57/57 [00:00<00:00, 303.38it/s]\n"
          ]
        },
        {
          "output_type": "stream",
          "name": "stdout",
          "text": [
            "Epoch 44 elapsed: 0.191s\n",
            "\t \u001b[32mtrain_loss: 5.1757\u001b[0m\n"
          ]
        },
        {
          "output_type": "stream",
          "name": "stderr",
          "text": [
            "eval_pointwise: 100%|██████████| 1/1 [00:00<00:00, 345.41it/s]\n"
          ]
        },
        {
          "output_type": "stream",
          "name": "stdout",
          "text": [
            "\t eval rmse: 1.7858\n",
            "\t eval mae: 1.4243\n",
            "==============================\n",
            "With lr_decay, epoch 45 learning rate: 0.08296670764684677\n"
          ]
        },
        {
          "output_type": "stream",
          "name": "stderr",
          "text": [
            "train: 100%|██████████| 57/57 [00:00<00:00, 304.89it/s]\n"
          ]
        },
        {
          "output_type": "stream",
          "name": "stdout",
          "text": [
            "Epoch 45 elapsed: 0.192s\n",
            "\t \u001b[32mtrain_loss: 5.0679\u001b[0m\n"
          ]
        },
        {
          "output_type": "stream",
          "name": "stderr",
          "text": [
            "eval_pointwise: 100%|██████████| 1/1 [00:00<00:00, 600.22it/s]\n"
          ]
        },
        {
          "output_type": "stream",
          "name": "stdout",
          "text": [
            "\t eval rmse: 1.8159\n",
            "\t eval mae: 1.4587\n",
            "==============================\n",
            "With lr_decay, epoch 46 learning rate: 0.07964803278446198\n"
          ]
        },
        {
          "output_type": "stream",
          "name": "stderr",
          "text": [
            "train: 100%|██████████| 57/57 [00:00<00:00, 311.47it/s]\n"
          ]
        },
        {
          "output_type": "stream",
          "name": "stdout",
          "text": [
            "Epoch 46 elapsed: 0.187s\n",
            "\t \u001b[32mtrain_loss: 5.2938\u001b[0m\n"
          ]
        },
        {
          "output_type": "stream",
          "name": "stderr",
          "text": [
            "eval_pointwise: 100%|██████████| 1/1 [00:00<00:00, 474.25it/s]\n"
          ]
        },
        {
          "output_type": "stream",
          "name": "stdout",
          "text": [
            "\t eval rmse: 1.8330\n",
            "\t eval mae: 1.4631\n",
            "==============================\n",
            "With lr_decay, epoch 47 learning rate: 0.07646211236715317\n"
          ]
        },
        {
          "output_type": "stream",
          "name": "stderr",
          "text": [
            "train: 100%|██████████| 57/57 [00:00<00:00, 302.76it/s]\n"
          ]
        },
        {
          "output_type": "stream",
          "name": "stdout",
          "text": [
            "Epoch 47 elapsed: 0.192s\n",
            "\t \u001b[32mtrain_loss: 6.0824\u001b[0m\n"
          ]
        },
        {
          "output_type": "stream",
          "name": "stderr",
          "text": [
            "eval_pointwise: 100%|██████████| 1/1 [00:00<00:00, 528.25it/s]\n"
          ]
        },
        {
          "output_type": "stream",
          "name": "stdout",
          "text": [
            "\t eval rmse: 1.8913\n",
            "\t eval mae: 1.5337\n",
            "==============================\n",
            "With lr_decay, epoch 48 learning rate: 0.07340361922979355\n"
          ]
        },
        {
          "output_type": "stream",
          "name": "stderr",
          "text": [
            "train: 100%|██████████| 57/57 [00:00<00:00, 306.67it/s]\n"
          ]
        },
        {
          "output_type": "stream",
          "name": "stdout",
          "text": [
            "Epoch 48 elapsed: 0.189s\n",
            "\t \u001b[32mtrain_loss: 5.9225\u001b[0m\n"
          ]
        },
        {
          "output_type": "stream",
          "name": "stderr",
          "text": [
            "eval_pointwise: 100%|██████████| 1/1 [00:00<00:00, 344.22it/s]\n"
          ]
        },
        {
          "output_type": "stream",
          "name": "stdout",
          "text": [
            "\t eval rmse: 1.8615\n",
            "\t eval mae: 1.4849\n",
            "==============================\n",
            "With lr_decay, epoch 49 learning rate: 0.07046747207641602\n"
          ]
        },
        {
          "output_type": "stream",
          "name": "stderr",
          "text": [
            "train: 100%|██████████| 57/57 [00:00<00:00, 306.59it/s]\n"
          ]
        },
        {
          "output_type": "stream",
          "name": "stdout",
          "text": [
            "Epoch 49 elapsed: 0.190s\n",
            "\t \u001b[32mtrain_loss: 4.9489\u001b[0m\n"
          ]
        },
        {
          "output_type": "stream",
          "name": "stderr",
          "text": [
            "eval_pointwise: 100%|██████████| 1/1 [00:00<00:00, 339.18it/s]\n"
          ]
        },
        {
          "output_type": "stream",
          "name": "stdout",
          "text": [
            "\t eval rmse: 1.8476\n",
            "\t eval mae: 1.4882\n",
            "==============================\n",
            "With lr_decay, epoch 50 learning rate: 0.06764876842498779\n"
          ]
        },
        {
          "output_type": "stream",
          "name": "stderr",
          "text": [
            "train: 100%|██████████| 57/57 [00:00<00:00, 308.13it/s]\n"
          ]
        },
        {
          "output_type": "stream",
          "name": "stdout",
          "text": [
            "Epoch 50 elapsed: 0.190s\n",
            "\t \u001b[32mtrain_loss: 4.7106\u001b[0m\n"
          ]
        },
        {
          "output_type": "stream",
          "name": "stderr",
          "text": [
            "eval_pointwise: 100%|██████████| 1/1 [00:00<00:00, 415.94it/s]\n"
          ]
        },
        {
          "output_type": "stream",
          "name": "stdout",
          "text": [
            "\t eval rmse: 1.7923\n",
            "\t eval mae: 1.4314\n",
            "==============================\n",
            "With lr_decay, epoch 51 learning rate: 0.06494282931089401\n"
          ]
        },
        {
          "output_type": "stream",
          "name": "stderr",
          "text": [
            "train: 100%|██████████| 57/57 [00:00<00:00, 311.21it/s]\n"
          ]
        },
        {
          "output_type": "stream",
          "name": "stdout",
          "text": [
            "Epoch 51 elapsed: 0.187s\n",
            "\t \u001b[32mtrain_loss: 4.7706\u001b[0m\n"
          ]
        },
        {
          "output_type": "stream",
          "name": "stderr",
          "text": [
            "eval_pointwise: 100%|██████████| 1/1 [00:00<00:00, 754.51it/s]\n"
          ]
        },
        {
          "output_type": "stream",
          "name": "stdout",
          "text": [
            "\t eval rmse: 1.8093\n",
            "\t eval mae: 1.4579\n",
            "==============================\n",
            "With lr_decay, epoch 52 learning rate: 0.06234511360526085\n"
          ]
        },
        {
          "output_type": "stream",
          "name": "stderr",
          "text": [
            "train: 100%|██████████| 57/57 [00:00<00:00, 300.89it/s]\n"
          ]
        },
        {
          "output_type": "stream",
          "name": "stdout",
          "text": [
            "Epoch 52 elapsed: 0.194s\n",
            "\t \u001b[32mtrain_loss: 4.9223\u001b[0m\n"
          ]
        },
        {
          "output_type": "stream",
          "name": "stderr",
          "text": [
            "eval_pointwise: 100%|██████████| 1/1 [00:00<00:00, 313.87it/s]\n"
          ]
        },
        {
          "output_type": "stream",
          "name": "stdout",
          "text": [
            "\t eval rmse: 1.7823\n",
            "\t eval mae: 1.4272\n",
            "==============================\n",
            "With lr_decay, epoch 53 learning rate: 0.059851303696632385\n"
          ]
        },
        {
          "output_type": "stream",
          "name": "stderr",
          "text": [
            "train: 100%|██████████| 57/57 [00:00<00:00, 307.87it/s]\n"
          ]
        },
        {
          "output_type": "stream",
          "name": "stdout",
          "text": [
            "Epoch 53 elapsed: 0.190s\n",
            "\t \u001b[32mtrain_loss: 4.7494\u001b[0m\n"
          ]
        },
        {
          "output_type": "stream",
          "name": "stderr",
          "text": [
            "eval_pointwise: 100%|██████████| 1/1 [00:00<00:00, 398.62it/s]\n"
          ]
        },
        {
          "output_type": "stream",
          "name": "stdout",
          "text": [
            "\t eval rmse: 1.8270\n",
            "\t eval mae: 1.4573\n",
            "==============================\n",
            "With lr_decay, epoch 54 learning rate: 0.057457249611616135\n"
          ]
        },
        {
          "output_type": "stream",
          "name": "stderr",
          "text": [
            "train: 100%|██████████| 57/57 [00:00<00:00, 307.11it/s]\n"
          ]
        },
        {
          "output_type": "stream",
          "name": "stdout",
          "text": [
            "Epoch 54 elapsed: 0.189s\n",
            "\t \u001b[32mtrain_loss: 4.721\u001b[0m\n"
          ]
        },
        {
          "output_type": "stream",
          "name": "stderr",
          "text": [
            "eval_pointwise: 100%|██████████| 1/1 [00:00<00:00, 630.82it/s]\n"
          ]
        },
        {
          "output_type": "stream",
          "name": "stdout",
          "text": [
            "\t eval rmse: 1.8069\n",
            "\t eval mae: 1.4355\n",
            "==============================\n",
            "With lr_decay, epoch 55 learning rate: 0.055158957839012146\n"
          ]
        },
        {
          "output_type": "stream",
          "name": "stderr",
          "text": [
            "train: 100%|██████████| 57/57 [00:00<00:00, 306.88it/s]\n"
          ]
        },
        {
          "output_type": "stream",
          "name": "stdout",
          "text": [
            "Epoch 55 elapsed: 0.189s\n",
            "\t \u001b[32mtrain_loss: 4.7505\u001b[0m\n"
          ]
        },
        {
          "output_type": "stream",
          "name": "stderr",
          "text": [
            "eval_pointwise: 100%|██████████| 1/1 [00:00<00:00, 301.44it/s]\n"
          ]
        },
        {
          "output_type": "stream",
          "name": "stdout",
          "text": [
            "\t eval rmse: 1.8052\n",
            "\t eval mae: 1.4489\n",
            "==============================\n",
            "With lr_decay, epoch 56 learning rate: 0.0529525950551033\n"
          ]
        },
        {
          "output_type": "stream",
          "name": "stderr",
          "text": [
            "train: 100%|██████████| 57/57 [00:00<00:00, 306.73it/s]\n"
          ]
        },
        {
          "output_type": "stream",
          "name": "stdout",
          "text": [
            "Epoch 56 elapsed: 0.189s\n",
            "\t \u001b[32mtrain_loss: 4.5759\u001b[0m\n"
          ]
        },
        {
          "output_type": "stream",
          "name": "stderr",
          "text": [
            "eval_pointwise: 100%|██████████| 1/1 [00:00<00:00, 576.14it/s]\n"
          ]
        },
        {
          "output_type": "stream",
          "name": "stdout",
          "text": [
            "\t eval rmse: 1.8067\n",
            "\t eval mae: 1.4386\n",
            "==============================\n",
            "With lr_decay, epoch 57 learning rate: 0.04880111664533615\n"
          ]
        },
        {
          "output_type": "stream",
          "name": "stderr",
          "text": [
            "train: 100%|██████████| 57/57 [00:00<00:00, 296.52it/s]\n"
          ]
        },
        {
          "output_type": "stream",
          "name": "stdout",
          "text": [
            "Epoch 57 elapsed: 0.196s\n",
            "\t \u001b[32mtrain_loss: 4.7424\u001b[0m\n"
          ]
        },
        {
          "output_type": "stream",
          "name": "stderr",
          "text": [
            "eval_pointwise: 100%|██████████| 1/1 [00:00<00:00, 589.75it/s]\n"
          ]
        },
        {
          "output_type": "stream",
          "name": "stdout",
          "text": [
            "\t eval rmse: 1.8128\n",
            "\t eval mae: 1.4489\n",
            "==============================\n",
            "With lr_decay, epoch 58 learning rate: 0.04684906825423241\n"
          ]
        },
        {
          "output_type": "stream",
          "name": "stderr",
          "text": [
            "train: 100%|██████████| 57/57 [00:00<00:00, 304.81it/s]\n"
          ]
        },
        {
          "output_type": "stream",
          "name": "stdout",
          "text": [
            "Epoch 58 elapsed: 0.190s\n",
            "\t \u001b[32mtrain_loss: 5.35\u001b[0m\n"
          ]
        },
        {
          "output_type": "stream",
          "name": "stderr",
          "text": [
            "eval_pointwise: 100%|██████████| 1/1 [00:00<00:00, 506.37it/s]\n"
          ]
        },
        {
          "output_type": "stream",
          "name": "stdout",
          "text": [
            "\t eval rmse: 1.8402\n",
            "\t eval mae: 1.4617\n",
            "==============================\n",
            "With lr_decay, epoch 59 learning rate: 0.044975101947784424\n"
          ]
        },
        {
          "output_type": "stream",
          "name": "stderr",
          "text": [
            "train: 100%|██████████| 57/57 [00:00<00:00, 305.47it/s]\n"
          ]
        },
        {
          "output_type": "stream",
          "name": "stdout",
          "text": [
            "Epoch 59 elapsed: 0.190s\n",
            "\t \u001b[32mtrain_loss: 4.553\u001b[0m\n"
          ]
        },
        {
          "output_type": "stream",
          "name": "stderr",
          "text": [
            "eval_pointwise: 100%|██████████| 1/1 [00:00<00:00, 411.25it/s]\n"
          ]
        },
        {
          "output_type": "stream",
          "name": "stdout",
          "text": [
            "\t eval rmse: 1.7788\n",
            "\t eval mae: 1.4244\n",
            "==============================\n",
            "With lr_decay, epoch 60 learning rate: 0.04317609593272209\n"
          ]
        },
        {
          "output_type": "stream",
          "name": "stderr",
          "text": [
            "train: 100%|██████████| 57/57 [00:00<00:00, 308.50it/s]\n"
          ]
        },
        {
          "output_type": "stream",
          "name": "stdout",
          "text": [
            "Epoch 60 elapsed: 0.189s\n",
            "\t \u001b[32mtrain_loss: 4.8487\u001b[0m\n"
          ]
        },
        {
          "output_type": "stream",
          "name": "stderr",
          "text": [
            "eval_pointwise: 100%|██████████| 1/1 [00:00<00:00, 701.98it/s]\n"
          ]
        },
        {
          "output_type": "stream",
          "name": "stdout",
          "text": [
            "\t eval rmse: 1.8006\n",
            "\t eval mae: 1.4444\n",
            "==============================\n",
            "With lr_decay, epoch 61 learning rate: 0.04144905135035515\n"
          ]
        },
        {
          "output_type": "stream",
          "name": "stderr",
          "text": [
            "train: 100%|██████████| 57/57 [00:00<00:00, 309.66it/s]\n"
          ]
        },
        {
          "output_type": "stream",
          "name": "stdout",
          "text": [
            "Epoch 61 elapsed: 0.188s\n",
            "\t \u001b[32mtrain_loss: 4.3148\u001b[0m\n"
          ]
        },
        {
          "output_type": "stream",
          "name": "stderr",
          "text": [
            "eval_pointwise: 100%|██████████| 1/1 [00:00<00:00, 459.10it/s]\n"
          ]
        },
        {
          "output_type": "stream",
          "name": "stdout",
          "text": [
            "\t eval rmse: 1.7723\n",
            "\t eval mae: 1.4121\n",
            "==============================\n",
            "With lr_decay, epoch 62 learning rate: 0.03979109227657318\n"
          ]
        },
        {
          "output_type": "stream",
          "name": "stderr",
          "text": [
            "train: 100%|██████████| 57/57 [00:00<00:00, 299.61it/s]\n"
          ]
        },
        {
          "output_type": "stream",
          "name": "stdout",
          "text": [
            "Epoch 62 elapsed: 0.196s\n",
            "\t \u001b[32mtrain_loss: 4.5489\u001b[0m\n"
          ]
        },
        {
          "output_type": "stream",
          "name": "stderr",
          "text": [
            "eval_pointwise: 100%|██████████| 1/1 [00:00<00:00, 522.92it/s]\n"
          ]
        },
        {
          "output_type": "stream",
          "name": "stdout",
          "text": [
            "\t eval rmse: 1.7960\n",
            "\t eval mae: 1.4363\n",
            "==============================\n",
            "With lr_decay, epoch 63 learning rate: 0.038199447095394135\n"
          ]
        },
        {
          "output_type": "stream",
          "name": "stderr",
          "text": [
            "train: 100%|██████████| 57/57 [00:00<00:00, 304.96it/s]\n"
          ]
        },
        {
          "output_type": "stream",
          "name": "stdout",
          "text": [
            "Epoch 63 elapsed: 0.190s\n",
            "\t \u001b[32mtrain_loss: 5.1232\u001b[0m\n"
          ]
        },
        {
          "output_type": "stream",
          "name": "stderr",
          "text": [
            "eval_pointwise: 100%|██████████| 1/1 [00:00<00:00, 639.77it/s]\n"
          ]
        },
        {
          "output_type": "stream",
          "name": "stdout",
          "text": [
            "\t eval rmse: 1.8189\n",
            "\t eval mae: 1.4733\n",
            "==============================\n",
            "With lr_decay, epoch 64 learning rate: 0.0366714671254158\n"
          ]
        },
        {
          "output_type": "stream",
          "name": "stderr",
          "text": [
            "train: 100%|██████████| 57/57 [00:00<00:00, 303.45it/s]\n"
          ]
        },
        {
          "output_type": "stream",
          "name": "stdout",
          "text": [
            "Epoch 64 elapsed: 0.191s\n",
            "\t \u001b[32mtrain_loss: 4.575\u001b[0m\n"
          ]
        },
        {
          "output_type": "stream",
          "name": "stderr",
          "text": [
            "eval_pointwise: 100%|██████████| 1/1 [00:00<00:00, 311.01it/s]\n"
          ]
        },
        {
          "output_type": "stream",
          "name": "stdout",
          "text": [
            "\t eval rmse: 1.8001\n",
            "\t eval mae: 1.4528\n",
            "==============================\n",
            "With lr_decay, epoch 65 learning rate: 0.035204607993364334\n"
          ]
        },
        {
          "output_type": "stream",
          "name": "stderr",
          "text": [
            "train: 100%|██████████| 57/57 [00:00<00:00, 309.62it/s]\n"
          ]
        },
        {
          "output_type": "stream",
          "name": "stdout",
          "text": [
            "Epoch 65 elapsed: 0.187s\n",
            "\t \u001b[32mtrain_loss: 4.716\u001b[0m\n"
          ]
        },
        {
          "output_type": "stream",
          "name": "stderr",
          "text": [
            "eval_pointwise: 100%|██████████| 1/1 [00:00<00:00, 351.99it/s]\n"
          ]
        },
        {
          "output_type": "stream",
          "name": "stdout",
          "text": [
            "\t eval rmse: 1.8167\n",
            "\t eval mae: 1.4540\n",
            "==============================\n",
            "With lr_decay, epoch 66 learning rate: 0.03379642218351364\n"
          ]
        },
        {
          "output_type": "stream",
          "name": "stderr",
          "text": [
            "train: 100%|██████████| 57/57 [00:00<00:00, 307.05it/s]\n"
          ]
        },
        {
          "output_type": "stream",
          "name": "stdout",
          "text": [
            "Epoch 66 elapsed: 0.190s\n",
            "\t \u001b[32mtrain_loss: 17.1776\u001b[0m\n"
          ]
        },
        {
          "output_type": "stream",
          "name": "stderr",
          "text": [
            "eval_pointwise: 100%|██████████| 1/1 [00:00<00:00, 293.86it/s]\n"
          ]
        },
        {
          "output_type": "stream",
          "name": "stdout",
          "text": [
            "\t eval rmse: 2.0220\n",
            "\t eval mae: 1.5841\n",
            "==============================\n",
            "With lr_decay, epoch 67 learning rate: 0.03244457021355629\n"
          ]
        },
        {
          "output_type": "stream",
          "name": "stderr",
          "text": [
            "train: 100%|██████████| 57/57 [00:00<00:00, 298.35it/s]\n"
          ]
        },
        {
          "output_type": "stream",
          "name": "stdout",
          "text": [
            "Epoch 67 elapsed: 0.195s\n",
            "\t \u001b[32mtrain_loss: 5.4689\u001b[0m\n"
          ]
        },
        {
          "output_type": "stream",
          "name": "stderr",
          "text": [
            "eval_pointwise: 100%|██████████| 1/1 [00:00<00:00, 614.01it/s]\n"
          ]
        },
        {
          "output_type": "stream",
          "name": "stdout",
          "text": [
            "\t eval rmse: 1.8509\n",
            "\t eval mae: 1.4548\n",
            "==============================\n",
            "With lr_decay, epoch 68 learning rate: 0.031146783381700516\n"
          ]
        },
        {
          "output_type": "stream",
          "name": "stderr",
          "text": [
            "train: 100%|██████████| 57/57 [00:00<00:00, 309.98it/s]\n"
          ]
        },
        {
          "output_type": "stream",
          "name": "stdout",
          "text": [
            "Epoch 68 elapsed: 0.187s\n",
            "\t \u001b[32mtrain_loss: 4.4293\u001b[0m\n"
          ]
        },
        {
          "output_type": "stream",
          "name": "stderr",
          "text": [
            "eval_pointwise: 100%|██████████| 1/1 [00:00<00:00, 324.91it/s]\n"
          ]
        },
        {
          "output_type": "stream",
          "name": "stdout",
          "text": [
            "\t eval rmse: 1.8078\n",
            "\t eval mae: 1.4362\n",
            "==============================\n",
            "With lr_decay, epoch 69 learning rate: 0.029900910332798958\n"
          ]
        },
        {
          "output_type": "stream",
          "name": "stderr",
          "text": [
            "train: 100%|██████████| 57/57 [00:00<00:00, 305.28it/s]\n"
          ]
        },
        {
          "output_type": "stream",
          "name": "stdout",
          "text": [
            "Epoch 69 elapsed: 0.192s\n",
            "\t \u001b[32mtrain_loss: 4.1905\u001b[0m\n"
          ]
        },
        {
          "output_type": "stream",
          "name": "stderr",
          "text": [
            "eval_pointwise: 100%|██████████| 1/1 [00:00<00:00, 703.51it/s]\n"
          ]
        },
        {
          "output_type": "stream",
          "name": "stdout",
          "text": [
            "\t eval rmse: 1.8096\n",
            "\t eval mae: 1.4411\n",
            "==============================\n",
            "With lr_decay, epoch 70 learning rate: 0.028704874217510223\n"
          ]
        },
        {
          "output_type": "stream",
          "name": "stderr",
          "text": [
            "train: 100%|██████████| 57/57 [00:00<00:00, 295.97it/s]\n"
          ]
        },
        {
          "output_type": "stream",
          "name": "stdout",
          "text": [
            "Epoch 70 elapsed: 0.196s\n",
            "\t \u001b[32mtrain_loss: 4.1628\u001b[0m\n"
          ]
        },
        {
          "output_type": "stream",
          "name": "stderr",
          "text": [
            "eval_pointwise: 100%|██████████| 1/1 [00:00<00:00, 668.84it/s]\n"
          ]
        },
        {
          "output_type": "stream",
          "name": "stdout",
          "text": [
            "\t eval rmse: 1.7747\n",
            "\t eval mae: 1.4117\n",
            "==============================\n",
            "With lr_decay, epoch 71 learning rate: 0.027556676417589188\n"
          ]
        },
        {
          "output_type": "stream",
          "name": "stderr",
          "text": [
            "train: 100%|██████████| 57/57 [00:00<00:00, 304.85it/s]\n"
          ]
        },
        {
          "output_type": "stream",
          "name": "stdout",
          "text": [
            "Epoch 71 elapsed: 0.191s\n",
            "\t \u001b[32mtrain_loss: 4.1937\u001b[0m\n"
          ]
        },
        {
          "output_type": "stream",
          "name": "stderr",
          "text": [
            "eval_pointwise: 100%|██████████| 1/1 [00:00<00:00, 301.55it/s]"
          ]
        },
        {
          "output_type": "stream",
          "name": "stdout",
          "text": [
            "\t eval rmse: 1.7955\n",
            "\t eval mae: 1.4360\n",
            "==============================\n"
          ]
        },
        {
          "output_type": "stream",
          "name": "stderr",
          "text": [
            "\n"
          ]
        },
        {
          "output_type": "stream",
          "name": "stdout",
          "text": [
            "With lr_decay, epoch 72 learning rate: 0.02645440772175789\n"
          ]
        },
        {
          "output_type": "stream",
          "name": "stderr",
          "text": [
            "train: 100%|██████████| 57/57 [00:00<00:00, 280.77it/s]\n"
          ]
        },
        {
          "output_type": "stream",
          "name": "stdout",
          "text": [
            "Epoch 72 elapsed: 0.206s\n",
            "\t \u001b[32mtrain_loss: 4.0817\u001b[0m\n"
          ]
        },
        {
          "output_type": "stream",
          "name": "stderr",
          "text": [
            "eval_pointwise: 100%|██████████| 1/1 [00:00<00:00, 603.24it/s]\n"
          ]
        },
        {
          "output_type": "stream",
          "name": "stdout",
          "text": [
            "\t eval rmse: 1.7805\n",
            "\t eval mae: 1.4196\n",
            "==============================\n",
            "With lr_decay, epoch 73 learning rate: 0.025396231561899185\n"
          ]
        },
        {
          "output_type": "stream",
          "name": "stderr",
          "text": [
            "train: 100%|██████████| 57/57 [00:00<00:00, 296.57it/s]\n"
          ]
        },
        {
          "output_type": "stream",
          "name": "stdout",
          "text": [
            "Epoch 73 elapsed: 0.197s\n",
            "\t \u001b[32mtrain_loss: 4.1061\u001b[0m\n"
          ]
        },
        {
          "output_type": "stream",
          "name": "stderr",
          "text": [
            "eval_pointwise: 100%|██████████| 1/1 [00:00<00:00, 532.68it/s]\n"
          ]
        },
        {
          "output_type": "stream",
          "name": "stdout",
          "text": [
            "\t eval rmse: 1.7805\n",
            "\t eval mae: 1.4108\n",
            "==============================\n",
            "With lr_decay, epoch 74 learning rate: 0.024380380287766457\n"
          ]
        },
        {
          "output_type": "stream",
          "name": "stderr",
          "text": [
            "train: 100%|██████████| 57/57 [00:00<00:00, 295.12it/s]\n"
          ]
        },
        {
          "output_type": "stream",
          "name": "stdout",
          "text": [
            "Epoch 74 elapsed: 0.197s\n",
            "\t \u001b[32mtrain_loss: 3.9635\u001b[0m\n"
          ]
        },
        {
          "output_type": "stream",
          "name": "stderr",
          "text": [
            "eval_pointwise: 100%|██████████| 1/1 [00:00<00:00, 679.13it/s]\n"
          ]
        },
        {
          "output_type": "stream",
          "name": "stdout",
          "text": [
            "\t eval rmse: 1.7914\n",
            "\t eval mae: 1.4272\n",
            "==============================\n",
            "With lr_decay, epoch 75 learning rate: 0.02340516448020935\n"
          ]
        },
        {
          "output_type": "stream",
          "name": "stderr",
          "text": [
            "train: 100%|██████████| 57/57 [00:00<00:00, 295.68it/s]\n"
          ]
        },
        {
          "output_type": "stream",
          "name": "stdout",
          "text": [
            "Epoch 75 elapsed: 0.196s\n",
            "\t \u001b[32mtrain_loss: 3.8856\u001b[0m\n"
          ]
        },
        {
          "output_type": "stream",
          "name": "stderr",
          "text": [
            "eval_pointwise: 100%|██████████| 1/1 [00:00<00:00, 275.69it/s]\n"
          ]
        },
        {
          "output_type": "stream",
          "name": "stdout",
          "text": [
            "\t eval rmse: 1.7928\n",
            "\t eval mae: 1.4259\n",
            "==============================\n",
            "With lr_decay, epoch 76 learning rate: 0.022468963637948036\n"
          ]
        },
        {
          "output_type": "stream",
          "name": "stderr",
          "text": [
            "train: 100%|██████████| 57/57 [00:00<00:00, 299.30it/s]\n"
          ]
        },
        {
          "output_type": "stream",
          "name": "stdout",
          "text": [
            "Epoch 76 elapsed: 0.194s\n",
            "\t \u001b[32mtrain_loss: 4.0919\u001b[0m\n"
          ]
        },
        {
          "output_type": "stream",
          "name": "stderr",
          "text": [
            "eval_pointwise: 100%|██████████| 1/1 [00:00<00:00, 644.29it/s]\n"
          ]
        },
        {
          "output_type": "stream",
          "name": "stdout",
          "text": [
            "\t eval rmse: 1.8097\n",
            "\t eval mae: 1.4280\n",
            "==============================\n",
            "With lr_decay, epoch 77 learning rate: 0.021570203825831413\n"
          ]
        },
        {
          "output_type": "stream",
          "name": "stderr",
          "text": [
            "train: 100%|██████████| 57/57 [00:00<00:00, 278.96it/s]\n"
          ]
        },
        {
          "output_type": "stream",
          "name": "stdout",
          "text": [
            "Epoch 77 elapsed: 0.208s\n",
            "\t \u001b[32mtrain_loss: 4.145\u001b[0m\n"
          ]
        },
        {
          "output_type": "stream",
          "name": "stderr",
          "text": [
            "eval_pointwise: 100%|██████████| 1/1 [00:00<00:00, 661.35it/s]\n"
          ]
        },
        {
          "output_type": "stream",
          "name": "stdout",
          "text": [
            "\t eval rmse: 1.8191\n",
            "\t eval mae: 1.4337\n",
            "==============================\n",
            "With lr_decay, epoch 78 learning rate: 0.020707394927740097\n"
          ]
        },
        {
          "output_type": "stream",
          "name": "stderr",
          "text": [
            "train: 100%|██████████| 57/57 [00:00<00:00, 284.21it/s]\n"
          ]
        },
        {
          "output_type": "stream",
          "name": "stdout",
          "text": [
            "Epoch 78 elapsed: 0.205s\n",
            "\t \u001b[32mtrain_loss: 3.9143\u001b[0m\n"
          ]
        },
        {
          "output_type": "stream",
          "name": "stderr",
          "text": [
            "eval_pointwise: 100%|██████████| 1/1 [00:00<00:00, 502.97it/s]\n"
          ]
        },
        {
          "output_type": "stream",
          "name": "stdout",
          "text": [
            "\t eval rmse: 1.8167\n",
            "\t eval mae: 1.4266\n",
            "==============================\n",
            "With lr_decay, epoch 79 learning rate: 0.01987909898161888\n"
          ]
        },
        {
          "output_type": "stream",
          "name": "stderr",
          "text": [
            "train: 100%|██████████| 57/57 [00:00<00:00, 282.71it/s]\n"
          ]
        },
        {
          "output_type": "stream",
          "name": "stdout",
          "text": [
            "Epoch 79 elapsed: 0.206s\n",
            "\t \u001b[32mtrain_loss: 4.1262\u001b[0m\n"
          ]
        },
        {
          "output_type": "stream",
          "name": "stderr",
          "text": [
            "eval_pointwise: 100%|██████████| 1/1 [00:00<00:00, 541.41it/s]\n"
          ]
        },
        {
          "output_type": "stream",
          "name": "stdout",
          "text": [
            "\t eval rmse: 1.8203\n",
            "\t eval mae: 1.4371\n",
            "==============================\n",
            "With lr_decay, epoch 80 learning rate: 0.019083933904767036\n"
          ]
        },
        {
          "output_type": "stream",
          "name": "stderr",
          "text": [
            "train: 100%|██████████| 57/57 [00:00<00:00, 299.64it/s]\n"
          ]
        },
        {
          "output_type": "stream",
          "name": "stdout",
          "text": [
            "Epoch 80 elapsed: 0.195s\n",
            "\t \u001b[32mtrain_loss: 4.1426\u001b[0m\n"
          ]
        },
        {
          "output_type": "stream",
          "name": "stderr",
          "text": [
            "eval_pointwise: 100%|██████████| 1/1 [00:00<00:00, 631.01it/s]\n"
          ]
        },
        {
          "output_type": "stream",
          "name": "stdout",
          "text": [
            "\t eval rmse: 1.7522\n",
            "\t eval mae: 1.4095\n",
            "==============================\n",
            "With lr_decay, epoch 81 learning rate: 0.01832057535648346\n"
          ]
        },
        {
          "output_type": "stream",
          "name": "stderr",
          "text": [
            "train: 100%|██████████| 57/57 [00:00<00:00, 291.53it/s]\n"
          ]
        },
        {
          "output_type": "stream",
          "name": "stdout",
          "text": [
            "Epoch 81 elapsed: 0.199s\n",
            "\t \u001b[32mtrain_loss: 3.9019\u001b[0m\n"
          ]
        },
        {
          "output_type": "stream",
          "name": "stderr",
          "text": [
            "eval_pointwise: 100%|██████████| 1/1 [00:00<00:00, 320.57it/s]\n"
          ]
        },
        {
          "output_type": "stream",
          "name": "stdout",
          "text": [
            "\t eval rmse: 1.7537\n",
            "\t eval mae: 1.3893\n",
            "==============================\n",
            "With lr_decay, epoch 82 learning rate: 0.017587751150131226\n"
          ]
        },
        {
          "output_type": "stream",
          "name": "stderr",
          "text": [
            "train: 100%|██████████| 57/57 [00:00<00:00, 304.56it/s]\n"
          ]
        },
        {
          "output_type": "stream",
          "name": "stdout",
          "text": [
            "Epoch 82 elapsed: 0.190s\n",
            "\t \u001b[32mtrain_loss: 4.0213\u001b[0m\n"
          ]
        },
        {
          "output_type": "stream",
          "name": "stderr",
          "text": [
            "eval_pointwise: 100%|██████████| 1/1 [00:00<00:00, 340.25it/s]"
          ]
        },
        {
          "output_type": "stream",
          "name": "stdout",
          "text": [
            "\t eval rmse: 1.7584\n",
            "\t eval mae: 1.4127\n",
            "==============================\n"
          ]
        },
        {
          "output_type": "stream",
          "name": "stderr",
          "text": [
            "\n"
          ]
        },
        {
          "output_type": "stream",
          "name": "stdout",
          "text": [
            "With lr_decay, epoch 83 learning rate: 0.01688423939049244\n"
          ]
        },
        {
          "output_type": "stream",
          "name": "stderr",
          "text": [
            "train: 100%|██████████| 57/57 [00:00<00:00, 301.56it/s]\n"
          ]
        },
        {
          "output_type": "stream",
          "name": "stdout",
          "text": [
            "Epoch 83 elapsed: 0.193s\n",
            "\t \u001b[32mtrain_loss: 4.0502\u001b[0m\n"
          ]
        },
        {
          "output_type": "stream",
          "name": "stderr",
          "text": [
            "eval_pointwise: 100%|██████████| 1/1 [00:00<00:00, 619.54it/s]"
          ]
        },
        {
          "output_type": "stream",
          "name": "stdout",
          "text": [
            "\t eval rmse: 1.7460\n",
            "\t eval mae: 1.3881\n",
            "==============================\n"
          ]
        },
        {
          "output_type": "stream",
          "name": "stderr",
          "text": [
            "\n"
          ]
        },
        {
          "output_type": "stream",
          "name": "stdout",
          "text": [
            "With lr_decay, epoch 84 learning rate: 0.016208870336413383\n"
          ]
        },
        {
          "output_type": "stream",
          "name": "stderr",
          "text": [
            "train: 100%|██████████| 57/57 [00:00<00:00, 309.10it/s]\n"
          ]
        },
        {
          "output_type": "stream",
          "name": "stdout",
          "text": [
            "Epoch 84 elapsed: 0.187s\n",
            "\t \u001b[32mtrain_loss: 4.0323\u001b[0m\n"
          ]
        },
        {
          "output_type": "stream",
          "name": "stderr",
          "text": [
            "eval_pointwise: 100%|██████████| 1/1 [00:00<00:00, 700.92it/s]\n"
          ]
        },
        {
          "output_type": "stream",
          "name": "stdout",
          "text": [
            "\t eval rmse: 1.7610\n",
            "\t eval mae: 1.4083\n",
            "==============================\n",
            "With lr_decay, epoch 85 learning rate: 0.01556051429361105\n"
          ]
        },
        {
          "output_type": "stream",
          "name": "stderr",
          "text": [
            "train: 100%|██████████| 57/57 [00:00<00:00, 308.90it/s]\n"
          ]
        },
        {
          "output_type": "stream",
          "name": "stdout",
          "text": [
            "Epoch 85 elapsed: 0.190s\n",
            "\t \u001b[32mtrain_loss: 3.9783\u001b[0m\n"
          ]
        },
        {
          "output_type": "stream",
          "name": "stderr",
          "text": [
            "eval_pointwise: 100%|██████████| 1/1 [00:00<00:00, 284.36it/s]\n"
          ]
        },
        {
          "output_type": "stream",
          "name": "stdout",
          "text": [
            "\t eval rmse: 1.7668\n",
            "\t eval mae: 1.4074\n",
            "==============================\n",
            "With lr_decay, epoch 86 learning rate: 0.014938092790544033\n"
          ]
        },
        {
          "output_type": "stream",
          "name": "stderr",
          "text": [
            "train: 100%|██████████| 57/57 [00:00<00:00, 301.28it/s]\n"
          ]
        },
        {
          "output_type": "stream",
          "name": "stdout",
          "text": [
            "Epoch 86 elapsed: 0.192s\n",
            "\t \u001b[32mtrain_loss: 3.9524\u001b[0m\n"
          ]
        },
        {
          "output_type": "stream",
          "name": "stderr",
          "text": [
            "eval_pointwise: 100%|██████████| 1/1 [00:00<00:00, 551.45it/s]"
          ]
        },
        {
          "output_type": "stream",
          "name": "stdout",
          "text": [
            "\t eval rmse: 1.7573\n",
            "\t eval mae: 1.4016\n",
            "==============================\n"
          ]
        },
        {
          "output_type": "stream",
          "name": "stderr",
          "text": [
            "\n"
          ]
        },
        {
          "output_type": "stream",
          "name": "stdout",
          "text": [
            "With lr_decay, epoch 87 learning rate: 0.014340568333864212\n"
          ]
        },
        {
          "output_type": "stream",
          "name": "stderr",
          "text": [
            "train: 100%|██████████| 57/57 [00:00<00:00, 300.56it/s]\n"
          ]
        },
        {
          "output_type": "stream",
          "name": "stdout",
          "text": [
            "Epoch 87 elapsed: 0.194s\n",
            "\t \u001b[32mtrain_loss: 3.9363\u001b[0m\n"
          ]
        },
        {
          "output_type": "stream",
          "name": "stderr",
          "text": [
            "eval_pointwise: 100%|██████████| 1/1 [00:00<00:00, 464.43it/s]\n"
          ]
        },
        {
          "output_type": "stream",
          "name": "stdout",
          "text": [
            "\t eval rmse: 1.7578\n",
            "\t eval mae: 1.4111\n",
            "==============================\n",
            "With lr_decay, epoch 88 learning rate: 0.013766949065029621\n"
          ]
        },
        {
          "output_type": "stream",
          "name": "stderr",
          "text": [
            "train: 100%|██████████| 57/57 [00:00<00:00, 304.99it/s]\n"
          ]
        },
        {
          "output_type": "stream",
          "name": "stdout",
          "text": [
            "Epoch 88 elapsed: 0.191s\n",
            "\t \u001b[32mtrain_loss: 3.8494\u001b[0m\n"
          ]
        },
        {
          "output_type": "stream",
          "name": "stderr",
          "text": [
            "eval_pointwise: 100%|██████████| 1/1 [00:00<00:00, 304.53it/s]"
          ]
        },
        {
          "output_type": "stream",
          "name": "stdout",
          "text": [
            "\t eval rmse: 1.7496\n",
            "\t eval mae: 1.3946\n",
            "==============================\n"
          ]
        },
        {
          "output_type": "stream",
          "name": "stderr",
          "text": [
            "\n"
          ]
        },
        {
          "output_type": "stream",
          "name": "stdout",
          "text": [
            "With lr_decay, epoch 89 learning rate: 0.013216271065175533\n"
          ]
        },
        {
          "output_type": "stream",
          "name": "stderr",
          "text": [
            "train: 100%|██████████| 57/57 [00:00<00:00, 306.90it/s]\n"
          ]
        },
        {
          "output_type": "stream",
          "name": "stdout",
          "text": [
            "Epoch 89 elapsed: 0.189s\n",
            "\t \u001b[32mtrain_loss: 3.7442\u001b[0m\n"
          ]
        },
        {
          "output_type": "stream",
          "name": "stderr",
          "text": [
            "eval_pointwise: 100%|██████████| 1/1 [00:00<00:00, 408.13it/s]\n"
          ]
        },
        {
          "output_type": "stream",
          "name": "stdout",
          "text": [
            "\t eval rmse: 1.7655\n",
            "\t eval mae: 1.4067\n",
            "==============================\n",
            "With lr_decay, epoch 90 learning rate: 0.012687618844211102\n"
          ]
        },
        {
          "output_type": "stream",
          "name": "stderr",
          "text": [
            "train: 100%|██████████| 57/57 [00:00<00:00, 312.51it/s]\n"
          ]
        },
        {
          "output_type": "stream",
          "name": "stdout",
          "text": [
            "Epoch 90 elapsed: 0.186s\n",
            "\t \u001b[32mtrain_loss: 3.9475\u001b[0m\n"
          ]
        },
        {
          "output_type": "stream",
          "name": "stderr",
          "text": [
            "eval_pointwise: 100%|██████████| 1/1 [00:00<00:00, 400.07it/s]\n"
          ]
        },
        {
          "output_type": "stream",
          "name": "stdout",
          "text": [
            "\t eval rmse: 1.7622\n",
            "\t eval mae: 1.4039\n",
            "==============================\n",
            "With lr_decay, epoch 91 learning rate: 0.012180114164948463\n"
          ]
        },
        {
          "output_type": "stream",
          "name": "stderr",
          "text": [
            "train: 100%|██████████| 57/57 [00:00<00:00, 301.60it/s]\n"
          ]
        },
        {
          "output_type": "stream",
          "name": "stdout",
          "text": [
            "Epoch 91 elapsed: 0.192s\n",
            "\t \u001b[32mtrain_loss: 3.8927\u001b[0m\n"
          ]
        },
        {
          "output_type": "stream",
          "name": "stderr",
          "text": [
            "eval_pointwise: 100%|██████████| 1/1 [00:00<00:00, 348.22it/s]"
          ]
        },
        {
          "output_type": "stream",
          "name": "stdout",
          "text": [
            "\t eval rmse: 1.7778"
          ]
        },
        {
          "output_type": "stream",
          "name": "stderr",
          "text": [
            "\n"
          ]
        },
        {
          "output_type": "stream",
          "name": "stdout",
          "text": [
            "\n",
            "\t eval mae: 1.4117\n",
            "==============================\n",
            "With lr_decay, epoch 92 learning rate: 0.011692908592522144\n"
          ]
        },
        {
          "output_type": "stream",
          "name": "stderr",
          "text": [
            "train: 100%|██████████| 57/57 [00:00<00:00, 306.57it/s]\n"
          ]
        },
        {
          "output_type": "stream",
          "name": "stdout",
          "text": [
            "Epoch 92 elapsed: 0.189s\n",
            "\t \u001b[32mtrain_loss: 3.7596\u001b[0m\n"
          ]
        },
        {
          "output_type": "stream",
          "name": "stderr",
          "text": [
            "eval_pointwise: 100%|██████████| 1/1 [00:00<00:00, 395.80it/s]\n"
          ]
        },
        {
          "output_type": "stream",
          "name": "stdout",
          "text": [
            "\t eval rmse: 1.7797\n",
            "\t eval mae: 1.4128\n",
            "==============================\n",
            "With lr_decay, epoch 93 learning rate: 0.011225191876292229\n"
          ]
        },
        {
          "output_type": "stream",
          "name": "stderr",
          "text": [
            "train: 100%|██████████| 57/57 [00:00<00:00, 305.94it/s]\n"
          ]
        },
        {
          "output_type": "stream",
          "name": "stdout",
          "text": [
            "Epoch 93 elapsed: 0.192s\n",
            "\t \u001b[32mtrain_loss: 4.001\u001b[0m\n"
          ]
        },
        {
          "output_type": "stream",
          "name": "stderr",
          "text": [
            "eval_pointwise: 100%|██████████| 1/1 [00:00<00:00, 342.53it/s]\n"
          ]
        },
        {
          "output_type": "stream",
          "name": "stdout",
          "text": [
            "\t eval rmse: 1.7733\n",
            "\t eval mae: 1.4049\n",
            "==============================\n",
            "With lr_decay, epoch 94 learning rate: 0.010776183567941189\n"
          ]
        },
        {
          "output_type": "stream",
          "name": "stderr",
          "text": [
            "train: 100%|██████████| 57/57 [00:00<00:00, 312.34it/s]\n"
          ]
        },
        {
          "output_type": "stream",
          "name": "stdout",
          "text": [
            "Epoch 94 elapsed: 0.189s\n",
            "\t \u001b[32mtrain_loss: 3.8795\u001b[0m\n"
          ]
        },
        {
          "output_type": "stream",
          "name": "stderr",
          "text": [
            "eval_pointwise: 100%|██████████| 1/1 [00:00<00:00, 481.27it/s]\n"
          ]
        },
        {
          "output_type": "stream",
          "name": "stdout",
          "text": [
            "\t eval rmse: 1.7653\n",
            "\t eval mae: 1.4050\n",
            "==============================\n",
            "With lr_decay, epoch 95 learning rate: 0.010345135815441608\n"
          ]
        },
        {
          "output_type": "stream",
          "name": "stderr",
          "text": [
            "train: 100%|██████████| 57/57 [00:00<00:00, 310.55it/s]\n"
          ]
        },
        {
          "output_type": "stream",
          "name": "stdout",
          "text": [
            "Epoch 95 elapsed: 0.186s\n",
            "\t \u001b[32mtrain_loss: 3.8305\u001b[0m\n"
          ]
        },
        {
          "output_type": "stream",
          "name": "stderr",
          "text": [
            "eval_pointwise: 100%|██████████| 1/1 [00:00<00:00, 711.38it/s]\n"
          ]
        },
        {
          "output_type": "stream",
          "name": "stdout",
          "text": [
            "\t eval rmse: 1.7628\n",
            "\t eval mae: 1.4098\n",
            "==============================\n",
            "With lr_decay, epoch 96 learning rate: 0.009931329637765884\n"
          ]
        },
        {
          "output_type": "stream",
          "name": "stderr",
          "text": [
            "train: 100%|██████████| 57/57 [00:00<00:00, 304.17it/s]\n"
          ]
        },
        {
          "output_type": "stream",
          "name": "stdout",
          "text": [
            "Epoch 96 elapsed: 0.190s\n",
            "\t \u001b[32mtrain_loss: 4.1508\u001b[0m\n"
          ]
        },
        {
          "output_type": "stream",
          "name": "stderr",
          "text": [
            "eval_pointwise: 100%|██████████| 1/1 [00:00<00:00, 707.54it/s]\n"
          ]
        },
        {
          "output_type": "stream",
          "name": "stdout",
          "text": [
            "\t eval rmse: 1.7676\n",
            "\t eval mae: 1.4204\n",
            "==============================\n",
            "With lr_decay, epoch 97 learning rate: 0.009534075856208801\n"
          ]
        },
        {
          "output_type": "stream",
          "name": "stderr",
          "text": [
            "train: 100%|██████████| 57/57 [00:00<00:00, 303.60it/s]\n"
          ]
        },
        {
          "output_type": "stream",
          "name": "stdout",
          "text": [
            "Epoch 97 elapsed: 0.192s\n",
            "\t \u001b[32mtrain_loss: 3.8689\u001b[0m\n"
          ]
        },
        {
          "output_type": "stream",
          "name": "stderr",
          "text": [
            "eval_pointwise: 100%|██████████| 1/1 [00:00<00:00, 584.25it/s]\n"
          ]
        },
        {
          "output_type": "stream",
          "name": "stdout",
          "text": [
            "\t eval rmse: 1.7397\n",
            "\t eval mae: 1.3887\n",
            "==============================\n",
            "With lr_decay, epoch 98 learning rate: 0.009152712300419807\n"
          ]
        },
        {
          "output_type": "stream",
          "name": "stderr",
          "text": [
            "train: 100%|██████████| 57/57 [00:00<00:00, 310.23it/s]\n"
          ]
        },
        {
          "output_type": "stream",
          "name": "stdout",
          "text": [
            "Epoch 98 elapsed: 0.188s\n",
            "\t \u001b[32mtrain_loss: 3.7592\u001b[0m\n"
          ]
        },
        {
          "output_type": "stream",
          "name": "stderr",
          "text": [
            "eval_pointwise: 100%|██████████| 1/1 [00:00<00:00, 542.81it/s]\n"
          ]
        },
        {
          "output_type": "stream",
          "name": "stdout",
          "text": [
            "\t eval rmse: 1.7371\n",
            "\t eval mae: 1.3944\n",
            "==============================\n",
            "With lr_decay, epoch 99 learning rate: 0.008786606602370739\n"
          ]
        },
        {
          "output_type": "stream",
          "name": "stderr",
          "text": [
            "train: 100%|██████████| 57/57 [00:00<00:00, 307.65it/s]\n"
          ]
        },
        {
          "output_type": "stream",
          "name": "stdout",
          "text": [
            "Epoch 99 elapsed: 0.188s\n",
            "\t \u001b[32mtrain_loss: 3.8272\u001b[0m\n"
          ]
        },
        {
          "output_type": "stream",
          "name": "stderr",
          "text": [
            "eval_pointwise: 100%|██████████| 1/1 [00:00<00:00, 466.34it/s]\n"
          ]
        },
        {
          "output_type": "stream",
          "name": "stdout",
          "text": [
            "\t eval rmse: 1.7318\n",
            "\t eval mae: 1.3891\n",
            "==============================\n",
            "With lr_decay, epoch 100 learning rate: 0.0084351422265172\n"
          ]
        },
        {
          "output_type": "stream",
          "name": "stderr",
          "text": [
            "train: 100%|██████████| 57/57 [00:00<00:00, 308.33it/s]\n"
          ]
        },
        {
          "output_type": "stream",
          "name": "stdout",
          "text": [
            "Epoch 100 elapsed: 0.188s\n",
            "\t \u001b[32mtrain_loss: 3.734\u001b[0m\n"
          ]
        },
        {
          "output_type": "stream",
          "name": "stderr",
          "text": [
            "eval_pointwise: 100%|██████████| 1/1 [00:00<00:00, 708.02it/s]\n"
          ]
        },
        {
          "output_type": "stream",
          "name": "stdout",
          "text": [
            "\t eval rmse: 1.7362\n",
            "\t eval mae: 1.3881\n",
            "==============================\n",
            "With lr_decay, epoch 101 learning rate: 0.008097736164927483\n"
          ]
        },
        {
          "output_type": "stream",
          "name": "stderr",
          "text": [
            "train: 100%|██████████| 57/57 [00:00<00:00, 299.83it/s]\n"
          ]
        },
        {
          "output_type": "stream",
          "name": "stdout",
          "text": [
            "Epoch 101 elapsed: 0.193s\n",
            "\t \u001b[32mtrain_loss: 3.9276\u001b[0m\n"
          ]
        },
        {
          "output_type": "stream",
          "name": "stderr",
          "text": [
            "eval_pointwise: 100%|██████████| 1/1 [00:00<00:00, 288.61it/s]\n"
          ]
        },
        {
          "output_type": "stream",
          "name": "stdout",
          "text": [
            "\t eval rmse: 1.7580\n",
            "\t eval mae: 1.4087\n",
            "==============================\n",
            "With lr_decay, epoch 102 learning rate: 0.007773825898766518\n"
          ]
        },
        {
          "output_type": "stream",
          "name": "stderr",
          "text": [
            "train: 100%|██████████| 57/57 [00:00<00:00, 306.34it/s]\n"
          ]
        },
        {
          "output_type": "stream",
          "name": "stdout",
          "text": [
            "Epoch 102 elapsed: 0.189s\n",
            "\t \u001b[32mtrain_loss: 3.8231\u001b[0m\n"
          ]
        },
        {
          "output_type": "stream",
          "name": "stderr",
          "text": [
            "eval_pointwise: 100%|██████████| 1/1 [00:00<00:00, 390.28it/s]\n"
          ]
        },
        {
          "output_type": "stream",
          "name": "stdout",
          "text": [
            "\t eval rmse: 1.7522\n",
            "\t eval mae: 1.4054\n",
            "==============================\n",
            "With lr_decay, epoch 103 learning rate: 0.0074628726579248905\n"
          ]
        },
        {
          "output_type": "stream",
          "name": "stderr",
          "text": [
            "train: 100%|██████████| 57/57 [00:00<00:00, 308.51it/s]\n"
          ]
        },
        {
          "output_type": "stream",
          "name": "stdout",
          "text": [
            "Epoch 103 elapsed: 0.190s\n",
            "\t \u001b[32mtrain_loss: 3.7139\u001b[0m\n"
          ]
        },
        {
          "output_type": "stream",
          "name": "stderr",
          "text": [
            "eval_pointwise: 100%|██████████| 1/1 [00:00<00:00, 427.42it/s]\n"
          ]
        },
        {
          "output_type": "stream",
          "name": "stdout",
          "text": [
            "\t eval rmse: 1.7481\n",
            "\t eval mae: 1.4027\n",
            "==============================\n",
            "With lr_decay, epoch 104 learning rate: 0.007164357230067253\n"
          ]
        },
        {
          "output_type": "stream",
          "name": "stderr",
          "text": [
            "train: 100%|██████████| 57/57 [00:00<00:00, 311.10it/s]\n"
          ]
        },
        {
          "output_type": "stream",
          "name": "stdout",
          "text": [
            "Epoch 104 elapsed: 0.186s\n",
            "\t \u001b[32mtrain_loss: 3.7683\u001b[0m\n"
          ]
        },
        {
          "output_type": "stream",
          "name": "stderr",
          "text": [
            "eval_pointwise: 100%|██████████| 1/1 [00:00<00:00, 669.59it/s]\n"
          ]
        },
        {
          "output_type": "stream",
          "name": "stdout",
          "text": [
            "\t eval rmse: 1.7384\n",
            "\t eval mae: 1.3845\n",
            "==============================\n",
            "With lr_decay, epoch 105 learning rate: 0.006877782754600048\n"
          ]
        },
        {
          "output_type": "stream",
          "name": "stderr",
          "text": [
            "train: 100%|██████████| 57/57 [00:00<00:00, 309.16it/s]\n"
          ]
        },
        {
          "output_type": "stream",
          "name": "stdout",
          "text": [
            "Epoch 105 elapsed: 0.188s\n",
            "\t \u001b[32mtrain_loss: 3.8462\u001b[0m\n"
          ]
        },
        {
          "output_type": "stream",
          "name": "stderr",
          "text": [
            "eval_pointwise: 100%|██████████| 1/1 [00:00<00:00, 489.76it/s]\n"
          ]
        },
        {
          "output_type": "stream",
          "name": "stdout",
          "text": [
            "\t eval rmse: 1.7374\n",
            "\t eval mae: 1.3918\n",
            "==============================\n",
            "With lr_decay, epoch 106 learning rate: 0.00660267099738121\n"
          ]
        },
        {
          "output_type": "stream",
          "name": "stderr",
          "text": [
            "train: 100%|██████████| 57/57 [00:00<00:00, 301.02it/s]\n"
          ]
        },
        {
          "output_type": "stream",
          "name": "stdout",
          "text": [
            "Epoch 106 elapsed: 0.193s\n",
            "\t \u001b[32mtrain_loss: 3.7731\u001b[0m\n"
          ]
        },
        {
          "output_type": "stream",
          "name": "stderr",
          "text": [
            "eval_pointwise: 100%|██████████| 1/1 [00:00<00:00, 574.40it/s]\n"
          ]
        },
        {
          "output_type": "stream",
          "name": "stdout",
          "text": [
            "\t eval rmse: 1.7356\n",
            "\t eval mae: 1.3934\n",
            "==============================\n",
            "With lr_decay, epoch 107 learning rate: 0.006338564213365316\n"
          ]
        },
        {
          "output_type": "stream",
          "name": "stderr",
          "text": [
            "train: 100%|██████████| 57/57 [00:00<00:00, 300.73it/s]\n"
          ]
        },
        {
          "output_type": "stream",
          "name": "stdout",
          "text": [
            "Epoch 107 elapsed: 0.192s\n",
            "\t \u001b[32mtrain_loss: 3.6417\u001b[0m\n"
          ]
        },
        {
          "output_type": "stream",
          "name": "stderr",
          "text": [
            "eval_pointwise: 100%|██████████| 1/1 [00:00<00:00, 390.39it/s]\n"
          ]
        },
        {
          "output_type": "stream",
          "name": "stdout",
          "text": [
            "\t eval rmse: 1.7330\n",
            "\t eval mae: 1.3792\n",
            "==============================\n",
            "With lr_decay, epoch 108 learning rate: 0.0060850209556519985\n"
          ]
        },
        {
          "output_type": "stream",
          "name": "stderr",
          "text": [
            "train: 100%|██████████| 57/57 [00:00<00:00, 308.80it/s]\n"
          ]
        },
        {
          "output_type": "stream",
          "name": "stdout",
          "text": [
            "Epoch 108 elapsed: 0.189s\n",
            "\t \u001b[32mtrain_loss: 3.8618\u001b[0m\n"
          ]
        },
        {
          "output_type": "stream",
          "name": "stderr",
          "text": [
            "eval_pointwise: 100%|██████████| 1/1 [00:00<00:00, 448.83it/s]\n"
          ]
        },
        {
          "output_type": "stream",
          "name": "stdout",
          "text": [
            "\t eval rmse: 1.7437\n",
            "\t eval mae: 1.3984\n",
            "==============================\n",
            "With lr_decay, epoch 109 learning rate: 0.005841619800776243\n"
          ]
        },
        {
          "output_type": "stream",
          "name": "stderr",
          "text": [
            "train: 100%|██████████| 57/57 [00:00<00:00, 305.13it/s]\n"
          ]
        },
        {
          "output_type": "stream",
          "name": "stdout",
          "text": [
            "Epoch 109 elapsed: 0.191s\n",
            "\t \u001b[32mtrain_loss: 3.8056\u001b[0m\n"
          ]
        },
        {
          "output_type": "stream",
          "name": "stderr",
          "text": [
            "eval_pointwise: 100%|██████████| 1/1 [00:00<00:00, 696.61it/s]\n"
          ]
        },
        {
          "output_type": "stream",
          "name": "stdout",
          "text": [
            "\t eval rmse: 1.7579\n",
            "\t eval mae: 1.4029\n",
            "==============================\n",
            "With lr_decay, epoch 110 learning rate: 0.005607954692095518\n"
          ]
        },
        {
          "output_type": "stream",
          "name": "stderr",
          "text": [
            "train: 100%|██████████| 57/57 [00:00<00:00, 308.12it/s]\n"
          ]
        },
        {
          "output_type": "stream",
          "name": "stdout",
          "text": [
            "Epoch 110 elapsed: 0.189s\n",
            "\t \u001b[32mtrain_loss: 3.9923\u001b[0m\n"
          ]
        },
        {
          "output_type": "stream",
          "name": "stderr",
          "text": [
            "eval_pointwise: 100%|██████████| 1/1 [00:00<00:00, 306.62it/s]"
          ]
        },
        {
          "output_type": "stream",
          "name": "stdout",
          "text": [
            "\t eval rmse: 1.7447\n",
            "\t eval mae: 1.3993\n",
            "==============================\n"
          ]
        },
        {
          "output_type": "stream",
          "name": "stderr",
          "text": [
            "\n"
          ]
        },
        {
          "output_type": "stream",
          "name": "stdout",
          "text": [
            "With lr_decay, epoch 111 learning rate: 0.005383638199418783\n"
          ]
        },
        {
          "output_type": "stream",
          "name": "stderr",
          "text": [
            "train: 100%|██████████| 57/57 [00:00<00:00, 302.54it/s]\n"
          ]
        },
        {
          "output_type": "stream",
          "name": "stdout",
          "text": [
            "Epoch 111 elapsed: 0.194s\n",
            "\t \u001b[32mtrain_loss: 3.6692\u001b[0m\n"
          ]
        },
        {
          "output_type": "stream",
          "name": "stderr",
          "text": [
            "eval_pointwise: 100%|██████████| 1/1 [00:00<00:00, 599.61it/s]\n"
          ]
        },
        {
          "output_type": "stream",
          "name": "stdout",
          "text": [
            "\t eval rmse: 1.7424\n",
            "\t eval mae: 1.3932\n",
            "==============================\n",
            "With lr_decay, epoch 112 learning rate: 0.0051682922057807446\n"
          ]
        },
        {
          "output_type": "stream",
          "name": "stderr",
          "text": [
            "train: 100%|██████████| 57/57 [00:00<00:00, 302.05it/s]\n"
          ]
        },
        {
          "output_type": "stream",
          "name": "stdout",
          "text": [
            "Epoch 112 elapsed: 0.191s\n",
            "\t \u001b[32mtrain_loss: 3.7848\u001b[0m\n"
          ]
        },
        {
          "output_type": "stream",
          "name": "stderr",
          "text": [
            "eval_pointwise: 100%|██████████| 1/1 [00:00<00:00, 291.13it/s]\n"
          ]
        },
        {
          "output_type": "stream",
          "name": "stdout",
          "text": [
            "\t eval rmse: 1.7199\n",
            "\t eval mae: 1.3726\n",
            "==============================\n",
            "With lr_decay, epoch 113 learning rate: 0.0047630975022912025\n"
          ]
        },
        {
          "output_type": "stream",
          "name": "stderr",
          "text": [
            "train: 100%|██████████| 57/57 [00:00<00:00, 305.26it/s]\n"
          ]
        },
        {
          "output_type": "stream",
          "name": "stdout",
          "text": [
            "Epoch 113 elapsed: 0.192s\n",
            "\t \u001b[32mtrain_loss: 3.861\u001b[0m\n"
          ]
        },
        {
          "output_type": "stream",
          "name": "stderr",
          "text": [
            "eval_pointwise: 100%|██████████| 1/1 [00:00<00:00, 349.55it/s]"
          ]
        },
        {
          "output_type": "stream",
          "name": "stdout",
          "text": [
            "\t eval rmse: 1.7319\n",
            "\t eval mae: 1.3875\n",
            "==============================\n"
          ]
        },
        {
          "output_type": "stream",
          "name": "stderr",
          "text": [
            "\n"
          ]
        },
        {
          "output_type": "stream",
          "name": "stdout",
          "text": [
            "With lr_decay, epoch 114 learning rate: 0.004572573583573103\n"
          ]
        },
        {
          "output_type": "stream",
          "name": "stderr",
          "text": [
            "train: 100%|██████████| 57/57 [00:00<00:00, 302.40it/s]\n"
          ]
        },
        {
          "output_type": "stream",
          "name": "stdout",
          "text": [
            "Epoch 114 elapsed: 0.192s\n",
            "\t \u001b[32mtrain_loss: 3.6084\u001b[0m\n"
          ]
        },
        {
          "output_type": "stream",
          "name": "stderr",
          "text": [
            "eval_pointwise: 100%|██████████| 1/1 [00:00<00:00, 700.22it/s]"
          ]
        },
        {
          "output_type": "stream",
          "name": "stdout",
          "text": [
            "\t eval rmse: 1.7245\n",
            "\t eval mae: 1.3747\n"
          ]
        },
        {
          "output_type": "stream",
          "name": "stderr",
          "text": [
            "\n"
          ]
        },
        {
          "output_type": "stream",
          "name": "stdout",
          "text": [
            "==============================\n",
            "With lr_decay, epoch 115 learning rate: 0.0043896702118217945\n"
          ]
        },
        {
          "output_type": "stream",
          "name": "stderr",
          "text": [
            "train: 100%|██████████| 57/57 [00:00<00:00, 311.76it/s]\n"
          ]
        },
        {
          "output_type": "stream",
          "name": "stdout",
          "text": [
            "Epoch 115 elapsed: 0.187s\n",
            "\t \u001b[32mtrain_loss: 3.6649\u001b[0m\n"
          ]
        },
        {
          "output_type": "stream",
          "name": "stderr",
          "text": [
            "eval_pointwise: 100%|██████████| 1/1 [00:00<00:00, 293.47it/s]\n"
          ]
        },
        {
          "output_type": "stream",
          "name": "stdout",
          "text": [
            "\t eval rmse: 1.7367\n",
            "\t eval mae: 1.3951\n",
            "==============================\n",
            "With lr_decay, epoch 116 learning rate: 0.004214083310216665\n"
          ]
        },
        {
          "output_type": "stream",
          "name": "stderr",
          "text": [
            "train: 100%|██████████| 57/57 [00:00<00:00, 298.32it/s]\n"
          ]
        },
        {
          "output_type": "stream",
          "name": "stdout",
          "text": [
            "Epoch 116 elapsed: 0.198s\n",
            "\t \u001b[32mtrain_loss: 3.7064\u001b[0m\n"
          ]
        },
        {
          "output_type": "stream",
          "name": "stderr",
          "text": [
            "eval_pointwise: 100%|██████████| 1/1 [00:00<00:00, 402.83it/s]\n"
          ]
        },
        {
          "output_type": "stream",
          "name": "stdout",
          "text": [
            "\t eval rmse: 1.7365\n",
            "\t eval mae: 1.3898\n",
            "==============================\n",
            "With lr_decay, epoch 117 learning rate: 0.004045519977807999\n"
          ]
        },
        {
          "output_type": "stream",
          "name": "stderr",
          "text": [
            "train: 100%|██████████| 57/57 [00:00<00:00, 306.75it/s]\n"
          ]
        },
        {
          "output_type": "stream",
          "name": "stdout",
          "text": [
            "Epoch 117 elapsed: 0.189s\n",
            "\t \u001b[32mtrain_loss: 3.5722\u001b[0m\n"
          ]
        },
        {
          "output_type": "stream",
          "name": "stderr",
          "text": [
            "eval_pointwise: 100%|██████████| 1/1 [00:00<00:00, 419.64it/s]"
          ]
        },
        {
          "output_type": "stream",
          "name": "stdout",
          "text": [
            "\t eval rmse: 1.7346\n",
            "\t eval mae: 1.3877\n",
            "==============================\n"
          ]
        },
        {
          "output_type": "stream",
          "name": "stderr",
          "text": [
            "\n"
          ]
        },
        {
          "output_type": "stream",
          "name": "stdout",
          "text": [
            "With lr_decay, epoch 118 learning rate: 0.003883698955178261\n"
          ]
        },
        {
          "output_type": "stream",
          "name": "stderr",
          "text": [
            "train: 100%|██████████| 57/57 [00:00<00:00, 305.16it/s]\n"
          ]
        },
        {
          "output_type": "stream",
          "name": "stdout",
          "text": [
            "Epoch 118 elapsed: 0.192s\n",
            "\t \u001b[32mtrain_loss: 3.543\u001b[0m\n"
          ]
        },
        {
          "output_type": "stream",
          "name": "stderr",
          "text": [
            "eval_pointwise: 100%|██████████| 1/1 [00:00<00:00, 309.91it/s]"
          ]
        },
        {
          "output_type": "stream",
          "name": "stdout",
          "text": [
            "\t eval rmse: 1.7444\n",
            "\t eval mae: 1.3998\n",
            "==============================\n"
          ]
        },
        {
          "output_type": "stream",
          "name": "stderr",
          "text": [
            "\n"
          ]
        },
        {
          "output_type": "stream",
          "name": "stdout",
          "text": [
            "With lr_decay, epoch 119 learning rate: 0.0037283506244421005\n"
          ]
        },
        {
          "output_type": "stream",
          "name": "stderr",
          "text": [
            "train: 100%|██████████| 57/57 [00:00<00:00, 299.48it/s]\n"
          ]
        },
        {
          "output_type": "stream",
          "name": "stdout",
          "text": [
            "Epoch 119 elapsed: 0.194s\n",
            "\t \u001b[32mtrain_loss: 3.6793\u001b[0m\n"
          ]
        },
        {
          "output_type": "stream",
          "name": "stderr",
          "text": [
            "eval_pointwise: 100%|██████████| 1/1 [00:00<00:00, 311.03it/s]\n"
          ]
        },
        {
          "output_type": "stream",
          "name": "stdout",
          "text": [
            "\t eval rmse: 1.7436\n",
            "\t eval mae: 1.3963\n",
            "==============================\n",
            "With lr_decay, epoch 120 learning rate: 0.003579216543585062\n"
          ]
        },
        {
          "output_type": "stream",
          "name": "stderr",
          "text": [
            "train: 100%|██████████| 57/57 [00:00<00:00, 308.87it/s]\n"
          ]
        },
        {
          "output_type": "stream",
          "name": "stdout",
          "text": [
            "Epoch 120 elapsed: 0.188s\n",
            "\t \u001b[32mtrain_loss: 3.597\u001b[0m\n"
          ]
        },
        {
          "output_type": "stream",
          "name": "stderr",
          "text": [
            "eval_pointwise: 100%|██████████| 1/1 [00:00<00:00, 437.59it/s]\n"
          ]
        },
        {
          "output_type": "stream",
          "name": "stdout",
          "text": [
            "\t eval rmse: 1.7386\n",
            "\t eval mae: 1.3889\n",
            "==============================\n",
            "With lr_decay, epoch 121 learning rate: 0.0034360475838184357\n"
          ]
        },
        {
          "output_type": "stream",
          "name": "stderr",
          "text": [
            "train: 100%|██████████| 57/57 [00:00<00:00, 300.06it/s]\n"
          ]
        },
        {
          "output_type": "stream",
          "name": "stdout",
          "text": [
            "Epoch 121 elapsed: 0.193s\n",
            "\t \u001b[32mtrain_loss: 3.5185\u001b[0m\n"
          ]
        },
        {
          "output_type": "stream",
          "name": "stderr",
          "text": [
            "eval_pointwise: 100%|██████████| 1/1 [00:00<00:00, 316.41it/s]\n"
          ]
        },
        {
          "output_type": "stream",
          "name": "stdout",
          "text": [
            "\t eval rmse: 1.7403\n",
            "\t eval mae: 1.3874\n",
            "==============================\n",
            "With lr_decay, epoch 122 learning rate: 0.003298606723546982\n"
          ]
        },
        {
          "output_type": "stream",
          "name": "stderr",
          "text": [
            "train: 100%|██████████| 57/57 [00:00<00:00, 310.28it/s]\n"
          ]
        },
        {
          "output_type": "stream",
          "name": "stdout",
          "text": [
            "Epoch 122 elapsed: 0.188s\n",
            "\t \u001b[32mtrain_loss: 3.7556\u001b[0m\n"
          ]
        },
        {
          "output_type": "stream",
          "name": "stderr",
          "text": [
            "eval_pointwise: 100%|██████████| 1/1 [00:00<00:00, 654.44it/s]\n"
          ]
        },
        {
          "output_type": "stream",
          "name": "stdout",
          "text": [
            "\t eval rmse: 1.7478\n",
            "\t eval mae: 1.3971\n",
            "==============================\n",
            "With lr_decay, epoch 123 learning rate: 0.003166662296280265\n"
          ]
        },
        {
          "output_type": "stream",
          "name": "stderr",
          "text": [
            "train: 100%|██████████| 57/57 [00:00<00:00, 300.18it/s]\n"
          ]
        },
        {
          "output_type": "stream",
          "name": "stdout",
          "text": [
            "Epoch 123 elapsed: 0.193s\n",
            "\t \u001b[32mtrain_loss: 3.6668\u001b[0m\n"
          ]
        },
        {
          "output_type": "stream",
          "name": "stderr",
          "text": [
            "eval_pointwise: 100%|██████████| 1/1 [00:00<00:00, 295.96it/s]\n"
          ]
        },
        {
          "output_type": "stream",
          "name": "stdout",
          "text": [
            "\t eval rmse: 1.7453\n",
            "\t eval mae: 1.4016\n",
            "==============================\n",
            "With lr_decay, epoch 124 learning rate: 0.003039995674043894\n"
          ]
        },
        {
          "output_type": "stream",
          "name": "stderr",
          "text": [
            "train: 100%|██████████| 57/57 [00:00<00:00, 302.11it/s]\n"
          ]
        },
        {
          "output_type": "stream",
          "name": "stdout",
          "text": [
            "Epoch 124 elapsed: 0.192s\n",
            "\t \u001b[32mtrain_loss: 3.6908\u001b[0m\n"
          ]
        },
        {
          "output_type": "stream",
          "name": "stderr",
          "text": [
            "eval_pointwise: 100%|██████████| 1/1 [00:00<00:00, 654.34it/s]\n"
          ]
        },
        {
          "output_type": "stream",
          "name": "stdout",
          "text": [
            "\t eval rmse: 1.7508\n",
            "\t eval mae: 1.3990\n",
            "==============================\n",
            "With lr_decay, epoch 125 learning rate: 0.0029183956794440746\n"
          ]
        },
        {
          "output_type": "stream",
          "name": "stderr",
          "text": [
            "train: 100%|██████████| 57/57 [00:00<00:00, 306.45it/s]\n"
          ]
        },
        {
          "output_type": "stream",
          "name": "stdout",
          "text": [
            "Epoch 125 elapsed: 0.189s\n",
            "\t \u001b[32mtrain_loss: 3.7222\u001b[0m\n"
          ]
        },
        {
          "output_type": "stream",
          "name": "stderr",
          "text": [
            "eval_pointwise: 100%|██████████| 1/1 [00:00<00:00, 271.16it/s]\n"
          ]
        },
        {
          "output_type": "stream",
          "name": "stdout",
          "text": [
            "\t eval rmse: 1.7487\n",
            "\t eval mae: 1.4000\n",
            "==============================\n",
            "With lr_decay, epoch 126 learning rate: 0.0028016597498208284\n"
          ]
        },
        {
          "output_type": "stream",
          "name": "stderr",
          "text": [
            "train: 100%|██████████| 57/57 [00:00<00:00, 302.96it/s]\n"
          ]
        },
        {
          "output_type": "stream",
          "name": "stdout",
          "text": [
            "Epoch 126 elapsed: 0.193s\n",
            "\t \u001b[32mtrain_loss: 3.641\u001b[0m\n"
          ]
        },
        {
          "output_type": "stream",
          "name": "stderr",
          "text": [
            "eval_pointwise: 100%|██████████| 1/1 [00:00<00:00, 398.62it/s]\n"
          ]
        },
        {
          "output_type": "stream",
          "name": "stdout",
          "text": [
            "\t eval rmse: 1.7518\n",
            "\t eval mae: 1.3997\n",
            "==============================\n",
            "With lr_decay, epoch 127 learning rate: 0.0026895932387560606\n"
          ]
        },
        {
          "output_type": "stream",
          "name": "stderr",
          "text": [
            "train: 100%|██████████| 57/57 [00:00<00:00, 305.14it/s]\n"
          ]
        },
        {
          "output_type": "stream",
          "name": "stdout",
          "text": [
            "Epoch 127 elapsed: 0.190s\n",
            "\t \u001b[32mtrain_loss: 3.5055\u001b[0m\n"
          ]
        },
        {
          "output_type": "stream",
          "name": "stderr",
          "text": [
            "eval_pointwise: 100%|██████████| 1/1 [00:00<00:00, 756.96it/s]"
          ]
        },
        {
          "output_type": "stream",
          "name": "stdout",
          "text": [
            "\t eval rmse: 1.7403\n",
            "\t eval mae: 1.3936\n",
            "==============================\n"
          ]
        },
        {
          "output_type": "stream",
          "name": "stderr",
          "text": [
            "\n"
          ]
        },
        {
          "output_type": "stream",
          "name": "stdout",
          "text": [
            "With lr_decay, epoch 128 learning rate: 0.0025820094160735607\n"
          ]
        },
        {
          "output_type": "stream",
          "name": "stderr",
          "text": [
            "train: 100%|██████████| 57/57 [00:00<00:00, 301.66it/s]\n"
          ]
        },
        {
          "output_type": "stream",
          "name": "stdout",
          "text": [
            "Epoch 128 elapsed: 0.192s\n",
            "\t \u001b[32mtrain_loss: 3.5255\u001b[0m\n"
          ]
        },
        {
          "output_type": "stream",
          "name": "stderr",
          "text": [
            "eval_pointwise: 100%|██████████| 1/1 [00:00<00:00, 307.10it/s]"
          ]
        },
        {
          "output_type": "stream",
          "name": "stdout",
          "text": [
            "\t eval rmse: 1.7452\n",
            "\t eval mae: 1.3956\n",
            "==============================\n"
          ]
        },
        {
          "output_type": "stream",
          "name": "stderr",
          "text": [
            "\n"
          ]
        },
        {
          "output_type": "stream",
          "name": "stdout",
          "text": [
            "With lr_decay, epoch 129 learning rate: 0.0024787287693470716\n"
          ]
        },
        {
          "output_type": "stream",
          "name": "stderr",
          "text": [
            "train: 100%|██████████| 57/57 [00:00<00:00, 305.18it/s]\n"
          ]
        },
        {
          "output_type": "stream",
          "name": "stdout",
          "text": [
            "Epoch 129 elapsed: 0.193s\n",
            "\t \u001b[32mtrain_loss: 3.6775\u001b[0m\n"
          ]
        },
        {
          "output_type": "stream",
          "name": "stderr",
          "text": [
            "eval_pointwise: 100%|██████████| 1/1 [00:00<00:00, 385.61it/s]\n"
          ]
        },
        {
          "output_type": "stream",
          "name": "stdout",
          "text": [
            "\t eval rmse: 1.7473\n",
            "\t eval mae: 1.3981\n",
            "==============================\n",
            "With lr_decay, epoch 130 learning rate: 0.002379579469561577\n"
          ]
        },
        {
          "output_type": "stream",
          "name": "stderr",
          "text": [
            "train: 100%|██████████| 57/57 [00:00<00:00, 305.48it/s]\n"
          ]
        },
        {
          "output_type": "stream",
          "name": "stdout",
          "text": [
            "Epoch 130 elapsed: 0.191s\n",
            "\t \u001b[32mtrain_loss: 3.5221\u001b[0m\n"
          ]
        },
        {
          "output_type": "stream",
          "name": "stderr",
          "text": [
            "eval_pointwise: 100%|██████████| 1/1 [00:00<00:00, 456.20it/s]\n"
          ]
        },
        {
          "output_type": "stream",
          "name": "stdout",
          "text": [
            "\t eval rmse: 1.7256\n",
            "\t eval mae: 1.3812\n",
            "==============================\n",
            "With lr_decay, epoch 131 learning rate: 0.002284396206960082\n"
          ]
        },
        {
          "output_type": "stream",
          "name": "stderr",
          "text": [
            "train: 100%|██████████| 57/57 [00:00<00:00, 278.05it/s]\n"
          ]
        },
        {
          "output_type": "stream",
          "name": "stdout",
          "text": [
            "Epoch 131 elapsed: 0.209s\n",
            "\t \u001b[32mtrain_loss: 3.6186\u001b[0m\n"
          ]
        },
        {
          "output_type": "stream",
          "name": "stderr",
          "text": [
            "eval_pointwise: 100%|██████████| 1/1 [00:00<00:00, 259.93it/s]\n"
          ]
        },
        {
          "output_type": "stream",
          "name": "stdout",
          "text": [
            "\t eval rmse: 1.7291\n",
            "\t eval mae: 1.3811\n",
            "==============================\n",
            "With lr_decay, epoch 132 learning rate: 0.0021930201910436153\n"
          ]
        },
        {
          "output_type": "stream",
          "name": "stderr",
          "text": [
            "train: 100%|██████████| 57/57 [00:00<00:00, 298.04it/s]\n"
          ]
        },
        {
          "output_type": "stream",
          "name": "stdout",
          "text": [
            "Epoch 132 elapsed: 0.195s\n",
            "\t \u001b[32mtrain_loss: 3.7362\u001b[0m\n"
          ]
        },
        {
          "output_type": "stream",
          "name": "stderr",
          "text": [
            "eval_pointwise: 100%|██████████| 1/1 [00:00<00:00, 262.34it/s]\n"
          ]
        },
        {
          "output_type": "stream",
          "name": "stdout",
          "text": [
            "\t eval rmse: 1.7297\n",
            "\t eval mae: 1.3843\n",
            "==============================\n",
            "With lr_decay, epoch 133 learning rate: 0.0021053000818938017\n"
          ]
        },
        {
          "output_type": "stream",
          "name": "stderr",
          "text": [
            "train: 100%|██████████| 57/57 [00:00<00:00, 296.43it/s]\n"
          ]
        },
        {
          "output_type": "stream",
          "name": "stdout",
          "text": [
            "Epoch 133 elapsed: 0.197s\n",
            "\t \u001b[32mtrain_loss: 3.4883\u001b[0m\n"
          ]
        },
        {
          "output_type": "stream",
          "name": "stderr",
          "text": [
            "eval_pointwise: 100%|██████████| 1/1 [00:00<00:00, 613.56it/s]\n"
          ]
        },
        {
          "output_type": "stream",
          "name": "stdout",
          "text": [
            "\t eval rmse: 1.7289\n",
            "\t eval mae: 1.3828\n",
            "==============================\n",
            "With lr_decay, epoch 134 learning rate: 0.002021088032051921\n"
          ]
        },
        {
          "output_type": "stream",
          "name": "stderr",
          "text": [
            "train: 100%|██████████| 57/57 [00:00<00:00, 287.64it/s]\n"
          ]
        },
        {
          "output_type": "stream",
          "name": "stdout",
          "text": [
            "Epoch 134 elapsed: 0.201s\n",
            "\t \u001b[32mtrain_loss: 3.5368\u001b[0m\n"
          ]
        },
        {
          "output_type": "stream",
          "name": "stderr",
          "text": [
            "eval_pointwise: 100%|██████████| 1/1 [00:00<00:00, 406.78it/s]\n"
          ]
        },
        {
          "output_type": "stream",
          "name": "stdout",
          "text": [
            "\t eval rmse: 1.7345\n",
            "\t eval mae: 1.3953\n",
            "==============================\n",
            "With lr_decay, epoch 135 learning rate: 0.0019402443431317806\n"
          ]
        },
        {
          "output_type": "stream",
          "name": "stderr",
          "text": [
            "train: 100%|██████████| 57/57 [00:00<00:00, 293.39it/s]\n"
          ]
        },
        {
          "output_type": "stream",
          "name": "stdout",
          "text": [
            "Epoch 135 elapsed: 0.200s\n",
            "\t \u001b[32mtrain_loss: 3.5268\u001b[0m\n"
          ]
        },
        {
          "output_type": "stream",
          "name": "stderr",
          "text": [
            "eval_pointwise: 100%|██████████| 1/1 [00:00<00:00, 513.32it/s]\n"
          ]
        },
        {
          "output_type": "stream",
          "name": "stdout",
          "text": [
            "\t eval rmse: 1.7386\n",
            "\t eval mae: 1.3982\n",
            "==============================\n",
            "With lr_decay, epoch 136 learning rate: 0.0018626338569447398\n"
          ]
        },
        {
          "output_type": "stream",
          "name": "stderr",
          "text": [
            "train: 100%|██████████| 57/57 [00:00<00:00, 288.12it/s]\n"
          ]
        },
        {
          "output_type": "stream",
          "name": "stdout",
          "text": [
            "Epoch 136 elapsed: 0.202s\n",
            "\t \u001b[32mtrain_loss: 3.6148\u001b[0m\n"
          ]
        },
        {
          "output_type": "stream",
          "name": "stderr",
          "text": [
            "eval_pointwise: 100%|██████████| 1/1 [00:00<00:00, 444.83it/s]\n"
          ]
        },
        {
          "output_type": "stream",
          "name": "stdout",
          "text": [
            "\t eval rmse: 1.7323\n",
            "\t eval mae: 1.3922\n",
            "==============================\n",
            "With lr_decay, epoch 137 learning rate: 0.0017881289822980762\n"
          ]
        },
        {
          "output_type": "stream",
          "name": "stderr",
          "text": [
            "train: 100%|██████████| 57/57 [00:00<00:00, 297.30it/s]\n"
          ]
        },
        {
          "output_type": "stream",
          "name": "stdout",
          "text": [
            "Epoch 137 elapsed: 0.195s\n",
            "\t \u001b[32mtrain_loss: 3.5621\u001b[0m\n"
          ]
        },
        {
          "output_type": "stream",
          "name": "stderr",
          "text": [
            "eval_pointwise: 100%|██████████| 1/1 [00:00<00:00, 308.52it/s]\n"
          ]
        },
        {
          "output_type": "stream",
          "name": "stdout",
          "text": [
            "\t eval rmse: 1.7348\n",
            "\t eval mae: 1.3890\n",
            "==============================\n",
            "With lr_decay, epoch 138 learning rate: 0.0017166031757369637\n"
          ]
        },
        {
          "output_type": "stream",
          "name": "stderr",
          "text": [
            "train: 100%|██████████| 57/57 [00:00<00:00, 292.44it/s]\n"
          ]
        },
        {
          "output_type": "stream",
          "name": "stdout",
          "text": [
            "Epoch 138 elapsed: 0.199s\n",
            "\t \u001b[32mtrain_loss: 3.636\u001b[0m\n"
          ]
        },
        {
          "output_type": "stream",
          "name": "stderr",
          "text": [
            "eval_pointwise: 100%|██████████| 1/1 [00:00<00:00, 514.95it/s]\n"
          ]
        },
        {
          "output_type": "stream",
          "name": "stdout",
          "text": [
            "\t eval rmse: 1.7349\n",
            "\t eval mae: 1.3865\n",
            "==============================\n",
            "With lr_decay, epoch 139 learning rate: 0.0016479394398629665\n"
          ]
        },
        {
          "output_type": "stream",
          "name": "stderr",
          "text": [
            "train: 100%|██████████| 57/57 [00:00<00:00, 284.50it/s]\n"
          ]
        },
        {
          "output_type": "stream",
          "name": "stdout",
          "text": [
            "Epoch 139 elapsed: 0.205s\n",
            "\t \u001b[32mtrain_loss: 3.5953\u001b[0m\n"
          ]
        },
        {
          "output_type": "stream",
          "name": "stderr",
          "text": [
            "eval_pointwise: 100%|██████████| 1/1 [00:00<00:00, 573.31it/s]\n"
          ]
        },
        {
          "output_type": "stream",
          "name": "stdout",
          "text": [
            "\t eval rmse: 1.7300\n",
            "\t eval mae: 1.3840\n",
            "==============================\n",
            "With lr_decay, epoch 140 learning rate: 0.001582022407092154\n"
          ]
        },
        {
          "output_type": "stream",
          "name": "stderr",
          "text": [
            "train: 100%|██████████| 57/57 [00:00<00:00, 284.57it/s]\n"
          ]
        },
        {
          "output_type": "stream",
          "name": "stdout",
          "text": [
            "Epoch 140 elapsed: 0.204s\n",
            "\t \u001b[32mtrain_loss: 3.5337\u001b[0m\n"
          ]
        },
        {
          "output_type": "stream",
          "name": "stderr",
          "text": [
            "eval_pointwise: 100%|██████████| 1/1 [00:00<00:00, 393.20it/s]\n"
          ]
        },
        {
          "output_type": "stream",
          "name": "stdout",
          "text": [
            "\t eval rmse: 1.7307\n",
            "\t eval mae: 1.3893\n",
            "==============================\n",
            "With lr_decay, epoch 141 learning rate: 0.0015187409007921815\n"
          ]
        },
        {
          "output_type": "stream",
          "name": "stderr",
          "text": [
            "train: 100%|██████████| 57/57 [00:00<00:00, 281.88it/s]\n"
          ]
        },
        {
          "output_type": "stream",
          "name": "stdout",
          "text": [
            "Epoch 141 elapsed: 0.206s\n",
            "\t \u001b[32mtrain_loss: 3.6702\u001b[0m\n"
          ]
        },
        {
          "output_type": "stream",
          "name": "stderr",
          "text": [
            "eval_pointwise: 100%|██████████| 1/1 [00:00<00:00, 342.42it/s]\n"
          ]
        },
        {
          "output_type": "stream",
          "name": "stdout",
          "text": [
            "\t eval rmse: 1.7307\n",
            "\t eval mae: 1.3858\n",
            "==============================\n",
            "With lr_decay, epoch 142 learning rate: 0.0014579916605725884\n"
          ]
        },
        {
          "output_type": "stream",
          "name": "stderr",
          "text": [
            "train: 100%|██████████| 57/57 [00:00<00:00, 293.89it/s]\n"
          ]
        },
        {
          "output_type": "stream",
          "name": "stdout",
          "text": [
            "Epoch 142 elapsed: 0.198s\n",
            "\t \u001b[32mtrain_loss: 3.506\u001b[0m\n"
          ]
        },
        {
          "output_type": "stream",
          "name": "stderr",
          "text": [
            "eval_pointwise: 100%|██████████| 1/1 [00:00<00:00, 441.92it/s]\n"
          ]
        },
        {
          "output_type": "stream",
          "name": "stdout",
          "text": [
            "\t eval rmse: 1.7320\n",
            "\t eval mae: 1.3896\n",
            "==============================\n",
            "With lr_decay, epoch 143 learning rate: 0.0013996714260429144\n"
          ]
        },
        {
          "output_type": "stream",
          "name": "stderr",
          "text": [
            "train: 100%|██████████| 57/57 [00:00<00:00, 311.03it/s]\n"
          ]
        },
        {
          "output_type": "stream",
          "name": "stdout",
          "text": [
            "Epoch 143 elapsed: 0.187s\n",
            "\t \u001b[32mtrain_loss: 3.5576\u001b[0m\n"
          ]
        },
        {
          "output_type": "stream",
          "name": "stderr",
          "text": [
            "eval_pointwise: 100%|██████████| 1/1 [00:00<00:00, 404.04it/s]\n"
          ]
        },
        {
          "output_type": "stream",
          "name": "stdout",
          "text": [
            "\t eval rmse: 1.7341\n",
            "\t eval mae: 1.3914\n",
            "==============================\n",
            "With lr_decay, epoch 144 learning rate: 0.001343684969469905\n"
          ]
        },
        {
          "output_type": "stream",
          "name": "stderr",
          "text": [
            "train: 100%|██████████| 57/57 [00:00<00:00, 306.43it/s]\n"
          ]
        },
        {
          "output_type": "stream",
          "name": "stdout",
          "text": [
            "Epoch 144 elapsed: 0.189s\n",
            "\t \u001b[32mtrain_loss: 3.478\u001b[0m\n"
          ]
        },
        {
          "output_type": "stream",
          "name": "stderr",
          "text": [
            "eval_pointwise: 100%|██████████| 1/1 [00:00<00:00, 554.14it/s]\n"
          ]
        },
        {
          "output_type": "stream",
          "name": "stdout",
          "text": [
            "\t eval rmse: 1.7266\n",
            "\t eval mae: 1.3818\n",
            "==============================\n",
            "With lr_decay, epoch 145 learning rate: 0.0012899370631203055\n"
          ]
        },
        {
          "output_type": "stream",
          "name": "stderr",
          "text": [
            "train: 100%|██████████| 57/57 [00:00<00:00, 299.68it/s]\n"
          ]
        },
        {
          "output_type": "stream",
          "name": "stdout",
          "text": [
            "Epoch 145 elapsed: 0.195s\n",
            "\t \u001b[32mtrain_loss: 3.3442\u001b[0m\n"
          ]
        },
        {
          "output_type": "stream",
          "name": "stderr",
          "text": [
            "eval_pointwise: 100%|██████████| 1/1 [00:00<00:00, 346.04it/s]\n"
          ]
        },
        {
          "output_type": "stream",
          "name": "stdout",
          "text": [
            "\t eval rmse: 1.7274\n",
            "\t eval mae: 1.3849\n",
            "==============================\n",
            "With lr_decay, epoch 146 learning rate: 0.0012383399298414588\n"
          ]
        },
        {
          "output_type": "stream",
          "name": "stderr",
          "text": [
            "train: 100%|██████████| 57/57 [00:00<00:00, 303.55it/s]\n"
          ]
        },
        {
          "output_type": "stream",
          "name": "stdout",
          "text": [
            "Epoch 146 elapsed: 0.193s\n",
            "\t \u001b[32mtrain_loss: 3.581\u001b[0m\n"
          ]
        },
        {
          "output_type": "stream",
          "name": "stderr",
          "text": [
            "eval_pointwise: 100%|██████████| 1/1 [00:00<00:00, 345.75it/s]\n"
          ]
        },
        {
          "output_type": "stream",
          "name": "stdout",
          "text": [
            "\t eval rmse: 1.7260\n",
            "\t eval mae: 1.3812\n",
            "==============================\n",
            "With lr_decay, epoch 147 learning rate: 0.001188805908896029\n"
          ]
        },
        {
          "output_type": "stream",
          "name": "stderr",
          "text": [
            "train: 100%|██████████| 57/57 [00:00<00:00, 309.49it/s]\n"
          ]
        },
        {
          "output_type": "stream",
          "name": "stdout",
          "text": [
            "Epoch 147 elapsed: 0.187s\n",
            "\t \u001b[32mtrain_loss: 3.5866\u001b[0m\n"
          ]
        },
        {
          "output_type": "stream",
          "name": "stderr",
          "text": [
            "eval_pointwise: 100%|██████████| 1/1 [00:00<00:00, 479.62it/s]\n"
          ]
        },
        {
          "output_type": "stream",
          "name": "stdout",
          "text": [
            "\t eval rmse: 1.7234\n",
            "\t eval mae: 1.3811\n",
            "==============================\n",
            "With lr_decay, epoch 148 learning rate: 0.0011412539752200246\n"
          ]
        },
        {
          "output_type": "stream",
          "name": "stderr",
          "text": [
            "train: 100%|██████████| 57/57 [00:00<00:00, 304.72it/s]\n"
          ]
        },
        {
          "output_type": "stream",
          "name": "stdout",
          "text": [
            "Epoch 148 elapsed: 0.190s\n",
            "\t \u001b[32mtrain_loss: 3.4938\u001b[0m\n"
          ]
        },
        {
          "output_type": "stream",
          "name": "stderr",
          "text": [
            "eval_pointwise: 100%|██████████| 1/1 [00:00<00:00, 584.57it/s]\n"
          ]
        },
        {
          "output_type": "stream",
          "name": "stdout",
          "text": [
            "\t eval rmse: 1.7221\n",
            "\t eval mae: 1.3740\n",
            "==============================\n",
            "With lr_decay, epoch 149 learning rate: 0.0010956034529954195\n"
          ]
        },
        {
          "output_type": "stream",
          "name": "stderr",
          "text": [
            "train: 100%|██████████| 57/57 [00:00<00:00, 309.03it/s]\n"
          ]
        },
        {
          "output_type": "stream",
          "name": "stdout",
          "text": [
            "Epoch 149 elapsed: 0.189s\n",
            "\t \u001b[32mtrain_loss: 3.5859\u001b[0m\n"
          ]
        },
        {
          "output_type": "stream",
          "name": "stderr",
          "text": [
            "eval_pointwise: 100%|██████████| 1/1 [00:00<00:00, 307.86it/s]\n"
          ]
        },
        {
          "output_type": "stream",
          "name": "stdout",
          "text": [
            "\t eval rmse: 1.7218\n",
            "\t eval mae: 1.3797\n",
            "==============================\n",
            "With lr_decay, epoch 150 learning rate: 0.0010517796035856009\n"
          ]
        },
        {
          "output_type": "stream",
          "name": "stderr",
          "text": [
            "train: 100%|██████████| 57/57 [00:00<00:00, 303.80it/s]\n"
          ]
        },
        {
          "output_type": "stream",
          "name": "stdout",
          "text": [
            "Epoch 150 elapsed: 0.191s\n",
            "\t \u001b[32mtrain_loss: 3.5232\u001b[0m\n"
          ]
        },
        {
          "output_type": "stream",
          "name": "stderr",
          "text": [
            "eval_pointwise: 100%|██████████| 1/1 [00:00<00:00, 414.33it/s]\n"
          ]
        },
        {
          "output_type": "stream",
          "name": "stdout",
          "text": [
            "\t eval rmse: 1.7143\n",
            "\t eval mae: 1.3717\n",
            "==============================\n",
            "With lr_decay, epoch 151 learning rate: 0.0010097086196765304\n"
          ]
        },
        {
          "output_type": "stream",
          "name": "stderr",
          "text": [
            "train: 100%|██████████| 57/57 [00:00<00:00, 303.85it/s]\n"
          ]
        },
        {
          "output_type": "stream",
          "name": "stdout",
          "text": [
            "Epoch 151 elapsed: 0.191s\n",
            "\t \u001b[32mtrain_loss: 3.4213\u001b[0m\n"
          ]
        },
        {
          "output_type": "stream",
          "name": "stderr",
          "text": [
            "eval_pointwise: 100%|██████████| 1/1 [00:00<00:00, 433.70it/s]"
          ]
        },
        {
          "output_type": "stream",
          "name": "stdout",
          "text": [
            "\t eval rmse: 1.7109\n",
            "\t eval mae: 1.3649\n",
            "==============================\n"
          ]
        },
        {
          "output_type": "stream",
          "name": "stderr",
          "text": [
            "\n"
          ]
        },
        {
          "output_type": "stream",
          "name": "stdout",
          "text": [
            "With lr_decay, epoch 152 learning rate: 0.0009693199535831809\n"
          ]
        },
        {
          "output_type": "stream",
          "name": "stderr",
          "text": [
            "train: 100%|██████████| 57/57 [00:00<00:00, 307.64it/s]\n"
          ]
        },
        {
          "output_type": "stream",
          "name": "stdout",
          "text": [
            "Epoch 152 elapsed: 0.189s\n",
            "\t \u001b[32mtrain_loss: 3.427\u001b[0m\n"
          ]
        },
        {
          "output_type": "stream",
          "name": "stderr",
          "text": [
            "eval_pointwise: 100%|██████████| 1/1 [00:00<00:00, 713.68it/s]\n"
          ]
        },
        {
          "output_type": "stream",
          "name": "stdout",
          "text": [
            "\t eval rmse: 1.7149\n",
            "\t eval mae: 1.3711\n",
            "==============================\n",
            "With lr_decay, epoch 153 learning rate: 0.0009305474231950939\n"
          ]
        },
        {
          "output_type": "stream",
          "name": "stderr",
          "text": [
            "train: 100%|██████████| 57/57 [00:00<00:00, 306.41it/s]\n"
          ]
        },
        {
          "output_type": "stream",
          "name": "stdout",
          "text": [
            "Epoch 153 elapsed: 0.191s\n",
            "\t \u001b[32mtrain_loss: 3.5626\u001b[0m\n"
          ]
        },
        {
          "output_type": "stream",
          "name": "stderr",
          "text": [
            "eval_pointwise: 100%|██████████| 1/1 [00:00<00:00, 559.17it/s]"
          ]
        },
        {
          "output_type": "stream",
          "name": "stdout",
          "text": [
            "\t eval rmse: 1.7163\n",
            "\t eval mae: 1.3769\n",
            "==============================\n"
          ]
        },
        {
          "output_type": "stream",
          "name": "stderr",
          "text": [
            "\n"
          ]
        },
        {
          "output_type": "stream",
          "name": "stdout",
          "text": [
            "With lr_decay, epoch 154 learning rate: 0.0008933251956477761\n"
          ]
        },
        {
          "output_type": "stream",
          "name": "stderr",
          "text": [
            "train: 100%|██████████| 57/57 [00:00<00:00, 309.17it/s]\n"
          ]
        },
        {
          "output_type": "stream",
          "name": "stdout",
          "text": [
            "Epoch 154 elapsed: 0.190s\n",
            "\t \u001b[32mtrain_loss: 3.4855\u001b[0m\n"
          ]
        },
        {
          "output_type": "stream",
          "name": "stderr",
          "text": [
            "eval_pointwise: 100%|██████████| 1/1 [00:00<00:00, 691.10it/s]\n"
          ]
        },
        {
          "output_type": "stream",
          "name": "stdout",
          "text": [
            "\t eval rmse: 1.7210\n",
            "\t eval mae: 1.3803\n",
            "==============================\n",
            "With lr_decay, epoch 155 learning rate: 0.0008575923857279122\n"
          ]
        },
        {
          "output_type": "stream",
          "name": "stderr",
          "text": [
            "train: 100%|██████████| 57/57 [00:00<00:00, 304.25it/s]\n"
          ]
        },
        {
          "output_type": "stream",
          "name": "stdout",
          "text": [
            "Epoch 155 elapsed: 0.190s\n",
            "\t \u001b[32mtrain_loss: 3.6782\u001b[0m\n"
          ]
        },
        {
          "output_type": "stream",
          "name": "stderr",
          "text": [
            "eval_pointwise: 100%|██████████| 1/1 [00:00<00:00, 347.73it/s]\n"
          ]
        },
        {
          "output_type": "stream",
          "name": "stdout",
          "text": [
            "\t eval rmse: 1.7189\n",
            "\t eval mae: 1.3746\n",
            "==============================\n",
            "With lr_decay, epoch 156 learning rate: 0.0008232883992604911\n"
          ]
        },
        {
          "output_type": "stream",
          "name": "stderr",
          "text": [
            "train: 100%|██████████| 57/57 [00:00<00:00, 299.09it/s]\n"
          ]
        },
        {
          "output_type": "stream",
          "name": "stdout",
          "text": [
            "Epoch 156 elapsed: 0.194s\n",
            "\t \u001b[32mtrain_loss: 3.6484\u001b[0m\n"
          ]
        },
        {
          "output_type": "stream",
          "name": "stderr",
          "text": [
            "eval_pointwise: 100%|██████████| 1/1 [00:00<00:00, 553.34it/s]\n"
          ]
        },
        {
          "output_type": "stream",
          "name": "stdout",
          "text": [
            "\t eval rmse: 1.7209\n",
            "\t eval mae: 1.3806\n",
            "==============================\n",
            "With lr_decay, epoch 157 learning rate: 0.0007903571240603924\n"
          ]
        },
        {
          "output_type": "stream",
          "name": "stderr",
          "text": [
            "train: 100%|██████████| 57/57 [00:00<00:00, 306.53it/s]\n"
          ]
        },
        {
          "output_type": "stream",
          "name": "stdout",
          "text": [
            "Epoch 157 elapsed: 0.190s\n",
            "\t \u001b[32mtrain_loss: 3.4679\u001b[0m\n"
          ]
        },
        {
          "output_type": "stream",
          "name": "stderr",
          "text": [
            "eval_pointwise: 100%|██████████| 1/1 [00:00<00:00, 348.94it/s]\n"
          ]
        },
        {
          "output_type": "stream",
          "name": "stdout",
          "text": [
            "\t eval rmse: 1.7222\n",
            "\t eval mae: 1.3773\n",
            "==============================\n",
            "With lr_decay, epoch 158 learning rate: 0.0007587425061501563\n"
          ]
        },
        {
          "output_type": "stream",
          "name": "stderr",
          "text": [
            "train: 100%|██████████| 57/57 [00:00<00:00, 309.28it/s]\n"
          ]
        },
        {
          "output_type": "stream",
          "name": "stdout",
          "text": [
            "Epoch 158 elapsed: 0.187s\n",
            "\t \u001b[32mtrain_loss: 3.5372\u001b[0m\n"
          ]
        },
        {
          "output_type": "stream",
          "name": "stderr",
          "text": [
            "eval_pointwise: 100%|██████████| 1/1 [00:00<00:00, 563.60it/s]\n"
          ]
        },
        {
          "output_type": "stream",
          "name": "stdout",
          "text": [
            "\t eval rmse: 1.7258\n",
            "\t eval mae: 1.3836\n",
            "==============================\n",
            "With lr_decay, epoch 159 learning rate: 0.0007283930317498744\n"
          ]
        },
        {
          "output_type": "stream",
          "name": "stderr",
          "text": [
            "train: 100%|██████████| 57/57 [00:00<00:00, 306.45it/s]\n"
          ]
        },
        {
          "output_type": "stream",
          "name": "stdout",
          "text": [
            "Epoch 159 elapsed: 0.189s\n",
            "\t \u001b[32mtrain_loss: 3.5444\u001b[0m\n"
          ]
        },
        {
          "output_type": "stream",
          "name": "stderr",
          "text": [
            "eval_pointwise: 100%|██████████| 1/1 [00:00<00:00, 553.12it/s]\n"
          ]
        },
        {
          "output_type": "stream",
          "name": "stdout",
          "text": [
            "\t eval rmse: 1.7230\n",
            "\t eval mae: 1.3844\n",
            "==============================\n",
            "With lr_decay, epoch 160 learning rate: 0.0006992570124566555\n"
          ]
        },
        {
          "output_type": "stream",
          "name": "stderr",
          "text": [
            "train: 100%|██████████| 57/57 [00:00<00:00, 298.01it/s]\n"
          ]
        },
        {
          "output_type": "stream",
          "name": "stdout",
          "text": [
            "Epoch 160 elapsed: 0.195s\n",
            "\t \u001b[32mtrain_loss: 3.532\u001b[0m\n"
          ]
        },
        {
          "output_type": "stream",
          "name": "stderr",
          "text": [
            "eval_pointwise: 100%|██████████| 1/1 [00:00<00:00, 706.94it/s]\n"
          ]
        },
        {
          "output_type": "stream",
          "name": "stdout",
          "text": [
            "\t eval rmse: 1.7163\n",
            "\t eval mae: 1.3784\n",
            "==============================\n",
            "With lr_decay, epoch 161 learning rate: 0.0006712869508191943\n"
          ]
        },
        {
          "output_type": "stream",
          "name": "stderr",
          "text": [
            "train: 100%|██████████| 57/57 [00:00<00:00, 300.85it/s]\n"
          ]
        },
        {
          "output_type": "stream",
          "name": "stdout",
          "text": [
            "Epoch 161 elapsed: 0.195s\n",
            "\t \u001b[32mtrain_loss: 3.5639\u001b[0m\n"
          ]
        },
        {
          "output_type": "stream",
          "name": "stderr",
          "text": [
            "eval_pointwise: 100%|██████████| 1/1 [00:00<00:00, 346.41it/s]\n"
          ]
        },
        {
          "output_type": "stream",
          "name": "stdout",
          "text": [
            "\t eval rmse: 1.7148\n",
            "\t eval mae: 1.3742\n",
            "==============================\n",
            "With lr_decay, epoch 162 learning rate: 0.00064443564042449\n"
          ]
        },
        {
          "output_type": "stream",
          "name": "stderr",
          "text": [
            "train: 100%|██████████| 57/57 [00:00<00:00, 306.45it/s]\n"
          ]
        },
        {
          "output_type": "stream",
          "name": "stdout",
          "text": [
            "Epoch 162 elapsed: 0.190s\n",
            "\t \u001b[32mtrain_loss: 3.4922\u001b[0m\n"
          ]
        },
        {
          "output_type": "stream",
          "name": "stderr",
          "text": [
            "eval_pointwise: 100%|██████████| 1/1 [00:00<00:00, 640.06it/s]\n"
          ]
        },
        {
          "output_type": "stream",
          "name": "stdout",
          "text": [
            "\t eval rmse: 1.7115\n",
            "\t eval mae: 1.3686\n",
            "==============================\n",
            "With lr_decay, epoch 163 learning rate: 0.0006186579703353345\n"
          ]
        },
        {
          "output_type": "stream",
          "name": "stderr",
          "text": [
            "train: 100%|██████████| 57/57 [00:00<00:00, 303.49it/s]\n"
          ]
        },
        {
          "output_type": "stream",
          "name": "stdout",
          "text": [
            "Epoch 163 elapsed: 0.191s\n",
            "\t \u001b[32mtrain_loss: 3.6154\u001b[0m\n"
          ]
        },
        {
          "output_type": "stream",
          "name": "stderr",
          "text": [
            "eval_pointwise: 100%|██████████| 1/1 [00:00<00:00, 408.96it/s]"
          ]
        },
        {
          "output_type": "stream",
          "name": "stdout",
          "text": [
            "\t eval rmse: 1.7179\n",
            "\t eval mae: 1.3756\n"
          ]
        },
        {
          "output_type": "stream",
          "name": "stderr",
          "text": [
            "\n"
          ]
        },
        {
          "output_type": "stream",
          "name": "stdout",
          "text": [
            "==============================\n",
            "With lr_decay, epoch 164 learning rate: 0.0005939117982052267\n"
          ]
        },
        {
          "output_type": "stream",
          "name": "stderr",
          "text": [
            "train: 100%|██████████| 57/57 [00:00<00:00, 303.03it/s]\n"
          ]
        },
        {
          "output_type": "stream",
          "name": "stdout",
          "text": [
            "Epoch 164 elapsed: 0.191s\n",
            "\t \u001b[32mtrain_loss: 3.5101\u001b[0m\n"
          ]
        },
        {
          "output_type": "stream",
          "name": "stderr",
          "text": [
            "eval_pointwise: 100%|██████████| 1/1 [00:00<00:00, 506.68it/s]\n"
          ]
        },
        {
          "output_type": "stream",
          "name": "stdout",
          "text": [
            "\t eval rmse: 1.7165\n",
            "\t eval mae: 1.3769\n",
            "==============================\n",
            "With lr_decay, epoch 165 learning rate: 0.0005701551563106477\n"
          ]
        },
        {
          "output_type": "stream",
          "name": "stderr",
          "text": [
            "train: 100%|██████████| 57/57 [00:00<00:00, 298.39it/s]\n"
          ]
        },
        {
          "output_type": "stream",
          "name": "stdout",
          "text": [
            "Epoch 165 elapsed: 0.195s\n",
            "\t \u001b[32mtrain_loss: 3.4574\u001b[0m\n"
          ]
        },
        {
          "output_type": "stream",
          "name": "stderr",
          "text": [
            "eval_pointwise: 100%|██████████| 1/1 [00:00<00:00, 363.05it/s]\n"
          ]
        },
        {
          "output_type": "stream",
          "name": "stdout",
          "text": [
            "\t eval rmse: 1.7129\n",
            "\t eval mae: 1.3682\n",
            "==============================\n",
            "With lr_decay, epoch 166 learning rate: 0.0005473491037264466\n"
          ]
        },
        {
          "output_type": "stream",
          "name": "stderr",
          "text": [
            "train: 100%|██████████| 57/57 [00:00<00:00, 300.79it/s]\n"
          ]
        },
        {
          "output_type": "stream",
          "name": "stdout",
          "text": [
            "Epoch 166 elapsed: 0.194s\n",
            "\t \u001b[32mtrain_loss: 3.7088\u001b[0m\n"
          ]
        },
        {
          "output_type": "stream",
          "name": "stderr",
          "text": [
            "eval_pointwise: 100%|██████████| 1/1 [00:00<00:00, 395.73it/s]\n"
          ]
        },
        {
          "output_type": "stream",
          "name": "stdout",
          "text": [
            "\t eval rmse: 1.7073\n",
            "\t eval mae: 1.3648\n",
            "==============================\n",
            "With lr_decay, epoch 167 learning rate: 0.0005254549323581159\n"
          ]
        },
        {
          "output_type": "stream",
          "name": "stderr",
          "text": [
            "train: 100%|██████████| 57/57 [00:00<00:00, 304.20it/s]\n"
          ]
        },
        {
          "output_type": "stream",
          "name": "stdout",
          "text": [
            "Epoch 167 elapsed: 0.190s\n",
            "\t \u001b[32mtrain_loss: 3.6142\u001b[0m\n"
          ]
        },
        {
          "output_type": "stream",
          "name": "stderr",
          "text": [
            "eval_pointwise: 100%|██████████| 1/1 [00:00<00:00, 265.51it/s]\n"
          ]
        },
        {
          "output_type": "stream",
          "name": "stdout",
          "text": [
            "\t eval rmse: 1.7120\n",
            "\t eval mae: 1.3725\n",
            "==============================\n",
            "With lr_decay, epoch 168 learning rate: 0.0005044368444941938\n"
          ]
        },
        {
          "output_type": "stream",
          "name": "stderr",
          "text": [
            "train: 100%|██████████| 57/57 [00:00<00:00, 309.44it/s]\n"
          ]
        },
        {
          "output_type": "stream",
          "name": "stdout",
          "text": [
            "Epoch 168 elapsed: 0.187s\n",
            "\t \u001b[32mtrain_loss: 3.5114\u001b[0m\n"
          ]
        },
        {
          "output_type": "stream",
          "name": "stderr",
          "text": [
            "eval_pointwise: 100%|██████████| 1/1 [00:00<00:00, 577.97it/s]\n"
          ]
        },
        {
          "output_type": "stream",
          "name": "stdout",
          "text": [
            "\t eval rmse: 1.7118\n",
            "\t eval mae: 1.3679\n",
            "==============================\n",
            "With lr_decay, epoch 169 learning rate: 0.0004648889589589089\n"
          ]
        },
        {
          "output_type": "stream",
          "name": "stderr",
          "text": [
            "train: 100%|██████████| 57/57 [00:00<00:00, 302.82it/s]\n"
          ]
        },
        {
          "output_type": "stream",
          "name": "stdout",
          "text": [
            "Epoch 169 elapsed: 0.191s\n",
            "\t \u001b[32mtrain_loss: 3.6016\u001b[0m\n"
          ]
        },
        {
          "output_type": "stream",
          "name": "stderr",
          "text": [
            "eval_pointwise: 100%|██████████| 1/1 [00:00<00:00, 350.14it/s]\n"
          ]
        },
        {
          "output_type": "stream",
          "name": "stdout",
          "text": [
            "\t eval rmse: 1.7125\n",
            "\t eval mae: 1.3732\n",
            "==============================\n",
            "With lr_decay, epoch 170 learning rate: 0.00044629324111156166\n"
          ]
        },
        {
          "output_type": "stream",
          "name": "stderr",
          "text": [
            "train: 100%|██████████| 57/57 [00:00<00:00, 301.94it/s]\n"
          ]
        },
        {
          "output_type": "stream",
          "name": "stdout",
          "text": [
            "Epoch 170 elapsed: 0.192s\n",
            "\t \u001b[32mtrain_loss: 3.5633\u001b[0m\n"
          ]
        },
        {
          "output_type": "stream",
          "name": "stderr",
          "text": [
            "eval_pointwise: 100%|██████████| 1/1 [00:00<00:00, 566.64it/s]\n"
          ]
        },
        {
          "output_type": "stream",
          "name": "stdout",
          "text": [
            "\t eval rmse: 1.7120\n",
            "\t eval mae: 1.3702\n",
            "==============================\n",
            "With lr_decay, epoch 171 learning rate: 0.0004284416208975017\n"
          ]
        },
        {
          "output_type": "stream",
          "name": "stderr",
          "text": [
            "train: 100%|██████████| 57/57 [00:00<00:00, 307.31it/s]\n"
          ]
        },
        {
          "output_type": "stream",
          "name": "stdout",
          "text": [
            "Epoch 171 elapsed: 0.189s\n",
            "\t \u001b[32mtrain_loss: 3.5469\u001b[0m\n"
          ]
        },
        {
          "output_type": "stream",
          "name": "stderr",
          "text": [
            "eval_pointwise: 100%|██████████| 1/1 [00:00<00:00, 628.93it/s]\n"
          ]
        },
        {
          "output_type": "stream",
          "name": "stdout",
          "text": [
            "\t eval rmse: 1.7098\n",
            "\t eval mae: 1.3673\n",
            "==============================\n",
            "With lr_decay, epoch 172 learning rate: 0.0004113038012292236\n"
          ]
        },
        {
          "output_type": "stream",
          "name": "stderr",
          "text": [
            "train: 100%|██████████| 57/57 [00:00<00:00, 306.36it/s]\n"
          ]
        },
        {
          "output_type": "stream",
          "name": "stdout",
          "text": [
            "Epoch 172 elapsed: 0.190s\n",
            "\t \u001b[32mtrain_loss: 3.4005\u001b[0m\n"
          ]
        },
        {
          "output_type": "stream",
          "name": "stderr",
          "text": [
            "eval_pointwise: 100%|██████████| 1/1 [00:00<00:00, 265.95it/s]"
          ]
        },
        {
          "output_type": "stream",
          "name": "stdout",
          "text": [
            "\t eval rmse: 1.7071\n",
            "\t eval mae: 1.3640\n"
          ]
        },
        {
          "output_type": "stream",
          "name": "stderr",
          "text": [
            "\n"
          ]
        },
        {
          "output_type": "stream",
          "name": "stdout",
          "text": [
            "==============================\n",
            "With lr_decay, epoch 173 learning rate: 0.00039485175511799753\n"
          ]
        },
        {
          "output_type": "stream",
          "name": "stderr",
          "text": [
            "train: 100%|██████████| 57/57 [00:00<00:00, 304.60it/s]\n"
          ]
        },
        {
          "output_type": "stream",
          "name": "stdout",
          "text": [
            "Epoch 173 elapsed: 0.192s\n",
            "\t \u001b[32mtrain_loss: 3.5026\u001b[0m\n"
          ]
        },
        {
          "output_type": "stream",
          "name": "stderr",
          "text": [
            "eval_pointwise: 100%|██████████| 1/1 [00:00<00:00, 639.28it/s]\n"
          ]
        },
        {
          "output_type": "stream",
          "name": "stdout",
          "text": [
            "\t eval rmse: 1.7083\n",
            "\t eval mae: 1.3642\n",
            "==============================\n",
            "With lr_decay, epoch 174 learning rate: 0.0003790578048210591\n"
          ]
        },
        {
          "output_type": "stream",
          "name": "stderr",
          "text": [
            "train: 100%|██████████| 57/57 [00:00<00:00, 303.91it/s]\n"
          ]
        },
        {
          "output_type": "stream",
          "name": "stdout",
          "text": [
            "Epoch 174 elapsed: 0.191s\n",
            "\t \u001b[32mtrain_loss: 3.4338\u001b[0m\n"
          ]
        },
        {
          "output_type": "stream",
          "name": "stderr",
          "text": [
            "eval_pointwise: 100%|██████████| 1/1 [00:00<00:00, 395.35it/s]\n"
          ]
        },
        {
          "output_type": "stream",
          "name": "stdout",
          "text": [
            "\t eval rmse: 1.7114\n",
            "\t eval mae: 1.3682\n",
            "==============================\n",
            "With lr_decay, epoch 175 learning rate: 0.0003638953494373709\n"
          ]
        },
        {
          "output_type": "stream",
          "name": "stderr",
          "text": [
            "train: 100%|██████████| 57/57 [00:00<00:00, 295.33it/s]\n"
          ]
        },
        {
          "output_type": "stream",
          "name": "stdout",
          "text": [
            "Epoch 175 elapsed: 0.197s\n",
            "\t \u001b[32mtrain_loss: 3.5223\u001b[0m\n"
          ]
        },
        {
          "output_type": "stream",
          "name": "stderr",
          "text": [
            "eval_pointwise: 100%|██████████| 1/1 [00:00<00:00, 432.85it/s]\n"
          ]
        },
        {
          "output_type": "stream",
          "name": "stdout",
          "text": [
            "\t eval rmse: 1.7073\n",
            "\t eval mae: 1.3613\n",
            "==============================\n",
            "With lr_decay, epoch 176 learning rate: 0.0003493396216072142\n"
          ]
        },
        {
          "output_type": "stream",
          "name": "stderr",
          "text": [
            "train: 100%|██████████| 57/57 [00:00<00:00, 304.88it/s]\n"
          ]
        },
        {
          "output_type": "stream",
          "name": "stdout",
          "text": [
            "Epoch 176 elapsed: 0.190s\n",
            "\t \u001b[32mtrain_loss: 3.4754\u001b[0m\n"
          ]
        },
        {
          "output_type": "stream",
          "name": "stderr",
          "text": [
            "eval_pointwise: 100%|██████████| 1/1 [00:00<00:00, 744.33it/s]\n"
          ]
        },
        {
          "output_type": "stream",
          "name": "stdout",
          "text": [
            "\t eval rmse: 1.7082\n",
            "\t eval mae: 1.3660\n",
            "==============================\n",
            "With lr_decay, epoch 177 learning rate: 0.0003353659121785313\n"
          ]
        },
        {
          "output_type": "stream",
          "name": "stderr",
          "text": [
            "train: 100%|██████████| 57/57 [00:00<00:00, 302.78it/s]\n"
          ]
        },
        {
          "output_type": "stream",
          "name": "stdout",
          "text": [
            "Epoch 177 elapsed: 0.192s\n",
            "\t \u001b[32mtrain_loss: 3.3786\u001b[0m\n"
          ]
        },
        {
          "output_type": "stream",
          "name": "stderr",
          "text": [
            "eval_pointwise: 100%|██████████| 1/1 [00:00<00:00, 351.52it/s]\n"
          ]
        },
        {
          "output_type": "stream",
          "name": "stdout",
          "text": [
            "\t eval rmse: 1.7057\n",
            "\t eval mae: 1.3646\n",
            "==============================\n",
            "With lr_decay, epoch 178 learning rate: 0.0003219513746444136\n"
          ]
        },
        {
          "output_type": "stream",
          "name": "stderr",
          "text": [
            "train: 100%|██████████| 57/57 [00:00<00:00, 310.17it/s]\n"
          ]
        },
        {
          "output_type": "stream",
          "name": "stdout",
          "text": [
            "Epoch 178 elapsed: 0.187s\n",
            "\t \u001b[32mtrain_loss: 3.5045\u001b[0m\n"
          ]
        },
        {
          "output_type": "stream",
          "name": "stderr",
          "text": [
            "eval_pointwise: 100%|██████████| 1/1 [00:00<00:00, 612.31it/s]\n"
          ]
        },
        {
          "output_type": "stream",
          "name": "stdout",
          "text": [
            "\t eval rmse: 1.7080\n",
            "\t eval mae: 1.3657\n",
            "==============================\n",
            "With lr_decay, epoch 179 learning rate: 0.00030907319160178304\n"
          ]
        },
        {
          "output_type": "stream",
          "name": "stderr",
          "text": [
            "train: 100%|██████████| 57/57 [00:00<00:00, 304.12it/s]\n"
          ]
        },
        {
          "output_type": "stream",
          "name": "stdout",
          "text": [
            "Epoch 179 elapsed: 0.192s\n",
            "\t \u001b[32mtrain_loss: 3.3858\u001b[0m\n"
          ]
        },
        {
          "output_type": "stream",
          "name": "stderr",
          "text": [
            "eval_pointwise: 100%|██████████| 1/1 [00:00<00:00, 361.48it/s]\n"
          ]
        },
        {
          "output_type": "stream",
          "name": "stdout",
          "text": [
            "\t eval rmse: 1.7061\n",
            "\t eval mae: 1.3572\n",
            "==============================\n",
            "With lr_decay, epoch 180 learning rate: 0.00029671035008504987\n"
          ]
        },
        {
          "output_type": "stream",
          "name": "stderr",
          "text": [
            "train: 100%|██████████| 57/57 [00:00<00:00, 298.49it/s]\n"
          ]
        },
        {
          "output_type": "stream",
          "name": "stdout",
          "text": [
            "Epoch 180 elapsed: 0.195s\n",
            "\t \u001b[32mtrain_loss: 3.3138\u001b[0m\n"
          ]
        },
        {
          "output_type": "stream",
          "name": "stderr",
          "text": [
            "eval_pointwise: 100%|██████████| 1/1 [00:00<00:00, 353.92it/s]\n"
          ]
        },
        {
          "output_type": "stream",
          "name": "stdout",
          "text": [
            "\t eval rmse: 1.7088\n",
            "\t eval mae: 1.3592\n",
            "==============================\n",
            "With lr_decay, epoch 181 learning rate: 0.0002848418371286243\n"
          ]
        },
        {
          "output_type": "stream",
          "name": "stderr",
          "text": [
            "train: 100%|██████████| 57/57 [00:00<00:00, 308.75it/s]\n"
          ]
        },
        {
          "output_type": "stream",
          "name": "stdout",
          "text": [
            "Epoch 181 elapsed: 0.188s\n",
            "\t \u001b[32mtrain_loss: 3.4305\u001b[0m\n"
          ]
        },
        {
          "output_type": "stream",
          "name": "stderr",
          "text": [
            "eval_pointwise: 100%|██████████| 1/1 [00:00<00:00, 317.05it/s]\n"
          ]
        },
        {
          "output_type": "stream",
          "name": "stdout",
          "text": [
            "\t eval rmse: 1.7053\n",
            "\t eval mae: 1.3649\n",
            "==============================\n",
            "With lr_decay, epoch 182 learning rate: 0.00027344824047759175\n"
          ]
        },
        {
          "output_type": "stream",
          "name": "stderr",
          "text": [
            "train: 100%|██████████| 57/57 [00:00<00:00, 308.38it/s]\n"
          ]
        },
        {
          "output_type": "stream",
          "name": "stdout",
          "text": [
            "Epoch 182 elapsed: 0.188s\n",
            "\t \u001b[32mtrain_loss: 3.4419\u001b[0m\n"
          ]
        },
        {
          "output_type": "stream",
          "name": "stderr",
          "text": [
            "eval_pointwise: 100%|██████████| 1/1 [00:00<00:00, 622.58it/s]\n"
          ]
        },
        {
          "output_type": "stream",
          "name": "stdout",
          "text": [
            "\t eval rmse: 1.7059\n",
            "\t eval mae: 1.3681\n",
            "==============================\n",
            "With lr_decay, epoch 183 learning rate: 0.00026251020608469844\n"
          ]
        },
        {
          "output_type": "stream",
          "name": "stderr",
          "text": [
            "train: 100%|██████████| 57/57 [00:00<00:00, 301.44it/s]\n"
          ]
        },
        {
          "output_type": "stream",
          "name": "stdout",
          "text": [
            "Epoch 183 elapsed: 0.194s\n",
            "\t \u001b[32mtrain_loss: 3.3991\u001b[0m\n"
          ]
        },
        {
          "output_type": "stream",
          "name": "stderr",
          "text": [
            "eval_pointwise: 100%|██████████| 1/1 [00:00<00:00, 596.29it/s]\n"
          ]
        },
        {
          "output_type": "stream",
          "name": "stdout",
          "text": [
            "\t eval rmse: 1.7059\n",
            "\t eval mae: 1.3641\n",
            "==============================\n",
            "With lr_decay, epoch 184 learning rate: 0.00025200986419804394\n"
          ]
        },
        {
          "output_type": "stream",
          "name": "stderr",
          "text": [
            "train: 100%|██████████| 57/57 [00:00<00:00, 301.75it/s]\n"
          ]
        },
        {
          "output_type": "stream",
          "name": "stdout",
          "text": [
            "Epoch 184 elapsed: 0.192s\n",
            "\t \u001b[32mtrain_loss: 3.4306\u001b[0m\n"
          ]
        },
        {
          "output_type": "stream",
          "name": "stderr",
          "text": [
            "eval_pointwise: 100%|██████████| 1/1 [00:00<00:00, 570.34it/s]\n"
          ]
        },
        {
          "output_type": "stream",
          "name": "stdout",
          "text": [
            "\t eval rmse: 1.7068\n",
            "\t eval mae: 1.3649\n",
            "==============================\n",
            "With lr_decay, epoch 185 learning rate: 0.0002419295342406258\n"
          ]
        },
        {
          "output_type": "stream",
          "name": "stderr",
          "text": [
            "train: 100%|██████████| 57/57 [00:00<00:00, 296.23it/s]\n"
          ]
        },
        {
          "output_type": "stream",
          "name": "stdout",
          "text": [
            "Epoch 185 elapsed: 0.196s\n",
            "\t \u001b[32mtrain_loss: 3.4789\u001b[0m\n"
          ]
        },
        {
          "output_type": "stream",
          "name": "stderr",
          "text": [
            "eval_pointwise: 100%|██████████| 1/1 [00:00<00:00, 309.77it/s]\n"
          ]
        },
        {
          "output_type": "stream",
          "name": "stdout",
          "text": [
            "\t eval rmse: 1.7087\n",
            "\t eval mae: 1.3693\n",
            "==============================\n",
            "With lr_decay, epoch 186 learning rate: 0.00023225226323120296\n"
          ]
        },
        {
          "output_type": "stream",
          "name": "stderr",
          "text": [
            "train: 100%|██████████| 57/57 [00:00<00:00, 294.38it/s]\n"
          ]
        },
        {
          "output_type": "stream",
          "name": "stdout",
          "text": [
            "Epoch 186 elapsed: 0.197s\n",
            "\t \u001b[32mtrain_loss: 3.5202\u001b[0m\n"
          ]
        },
        {
          "output_type": "stream",
          "name": "stderr",
          "text": [
            "eval_pointwise: 100%|██████████| 1/1 [00:00<00:00, 307.43it/s]\n"
          ]
        },
        {
          "output_type": "stream",
          "name": "stdout",
          "text": [
            "\t eval rmse: 1.7097\n",
            "\t eval mae: 1.3684\n",
            "==============================\n",
            "With lr_decay, epoch 187 learning rate: 0.0002229622332379222\n"
          ]
        },
        {
          "output_type": "stream",
          "name": "stderr",
          "text": [
            "train: 100%|██████████| 57/57 [00:00<00:00, 305.19it/s]\n"
          ]
        },
        {
          "output_type": "stream",
          "name": "stdout",
          "text": [
            "Epoch 187 elapsed: 0.190s\n",
            "\t \u001b[32mtrain_loss: 3.4648\u001b[0m\n"
          ]
        },
        {
          "output_type": "stream",
          "name": "stderr",
          "text": [
            "eval_pointwise: 100%|██████████| 1/1 [00:00<00:00, 685.34it/s]\n"
          ]
        },
        {
          "output_type": "stream",
          "name": "stdout",
          "text": [
            "\t eval rmse: 1.7129\n",
            "\t eval mae: 1.3717\n",
            "==============================\n",
            "With lr_decay, epoch 188 learning rate: 0.00021404366998467594\n"
          ]
        },
        {
          "output_type": "stream",
          "name": "stderr",
          "text": [
            "train: 100%|██████████| 57/57 [00:00<00:00, 310.35it/s]\n"
          ]
        },
        {
          "output_type": "stream",
          "name": "stdout",
          "text": [
            "Epoch 188 elapsed: 0.188s\n",
            "\t \u001b[32mtrain_loss: 3.4187\u001b[0m\n"
          ]
        },
        {
          "output_type": "stream",
          "name": "stderr",
          "text": [
            "eval_pointwise: 100%|██████████| 1/1 [00:00<00:00, 346.01it/s]\n"
          ]
        },
        {
          "output_type": "stream",
          "name": "stdout",
          "text": [
            "\t eval rmse: 1.7149\n",
            "\t eval mae: 1.3730\n",
            "==============================\n",
            "With lr_decay, epoch 189 learning rate: 0.00020548197790049016\n"
          ]
        },
        {
          "output_type": "stream",
          "name": "stderr",
          "text": [
            "train: 100%|██████████| 57/57 [00:00<00:00, 300.91it/s]\n"
          ]
        },
        {
          "output_type": "stream",
          "name": "stdout",
          "text": [
            "Epoch 189 elapsed: 0.192s\n",
            "\t \u001b[32mtrain_loss: 3.5947\u001b[0m\n"
          ]
        },
        {
          "output_type": "stream",
          "name": "stderr",
          "text": [
            "eval_pointwise: 100%|██████████| 1/1 [00:00<00:00, 350.31it/s]\n"
          ]
        },
        {
          "output_type": "stream",
          "name": "stdout",
          "text": [
            "\t eval rmse: 1.7204\n",
            "\t eval mae: 1.3831\n",
            "==============================\n",
            "With lr_decay, epoch 190 learning rate: 0.00019726263417396694\n"
          ]
        },
        {
          "output_type": "stream",
          "name": "stderr",
          "text": [
            "train: 100%|██████████| 57/57 [00:00<00:00, 295.87it/s]\n"
          ]
        },
        {
          "output_type": "stream",
          "name": "stdout",
          "text": [
            "Epoch 190 elapsed: 0.196s\n",
            "\t \u001b[32mtrain_loss: 3.6625\u001b[0m\n"
          ]
        },
        {
          "output_type": "stream",
          "name": "stderr",
          "text": [
            "eval_pointwise: 100%|██████████| 1/1 [00:00<00:00, 299.32it/s]\n"
          ]
        },
        {
          "output_type": "stream",
          "name": "stdout",
          "text": [
            "\t eval rmse: 1.7137\n",
            "\t eval mae: 1.3726\n",
            "==============================\n",
            "With lr_decay, epoch 191 learning rate: 0.00018937217828352004\n"
          ]
        },
        {
          "output_type": "stream",
          "name": "stderr",
          "text": [
            "train: 100%|██████████| 57/57 [00:00<00:00, 298.67it/s]\n"
          ]
        },
        {
          "output_type": "stream",
          "name": "stdout",
          "text": [
            "Epoch 191 elapsed: 0.195s\n",
            "\t \u001b[32mtrain_loss: 3.46\u001b[0m\n"
          ]
        },
        {
          "output_type": "stream",
          "name": "stderr",
          "text": [
            "eval_pointwise: 100%|██████████| 1/1 [00:00<00:00, 283.76it/s]\n"
          ]
        },
        {
          "output_type": "stream",
          "name": "stdout",
          "text": [
            "\t eval rmse: 1.7102\n",
            "\t eval mae: 1.3634\n",
            "==============================\n",
            "With lr_decay, epoch 192 learning rate: 0.00018179722246713936\n"
          ]
        },
        {
          "output_type": "stream",
          "name": "stderr",
          "text": [
            "train: 100%|██████████| 57/57 [00:00<00:00, 295.14it/s]\n"
          ]
        },
        {
          "output_type": "stream",
          "name": "stdout",
          "text": [
            "Epoch 192 elapsed: 0.197s\n",
            "\t \u001b[32mtrain_loss: 3.5648\u001b[0m\n"
          ]
        },
        {
          "output_type": "stream",
          "name": "stderr",
          "text": [
            "eval_pointwise: 100%|██████████| 1/1 [00:00<00:00, 363.39it/s]\n"
          ]
        },
        {
          "output_type": "stream",
          "name": "stdout",
          "text": [
            "\t eval rmse: 1.7105\n",
            "\t eval mae: 1.3669\n",
            "==============================\n",
            "With lr_decay, epoch 193 learning rate: 0.00017452538304496557\n"
          ]
        },
        {
          "output_type": "stream",
          "name": "stderr",
          "text": [
            "train: 100%|██████████| 57/57 [00:00<00:00, 297.98it/s]\n"
          ]
        },
        {
          "output_type": "stream",
          "name": "stdout",
          "text": [
            "Epoch 193 elapsed: 0.195s\n",
            "\t \u001b[32mtrain_loss: 3.3889\u001b[0m\n"
          ]
        },
        {
          "output_type": "stream",
          "name": "stderr",
          "text": [
            "eval_pointwise: 100%|██████████| 1/1 [00:00<00:00, 417.68it/s]\n"
          ]
        },
        {
          "output_type": "stream",
          "name": "stdout",
          "text": [
            "\t eval rmse: 1.7098\n",
            "\t eval mae: 1.3667\n",
            "==============================\n",
            "With lr_decay, epoch 194 learning rate: 0.00016754429088905454\n"
          ]
        },
        {
          "output_type": "stream",
          "name": "stderr",
          "text": [
            "train: 100%|██████████| 57/57 [00:00<00:00, 290.01it/s]\n"
          ]
        },
        {
          "output_type": "stream",
          "name": "stdout",
          "text": [
            "Epoch 194 elapsed: 0.200s\n",
            "\t \u001b[32mtrain_loss: 3.354\u001b[0m\n"
          ]
        },
        {
          "output_type": "stream",
          "name": "stderr",
          "text": [
            "eval_pointwise: 100%|██████████| 1/1 [00:00<00:00, 628.36it/s]\n"
          ]
        },
        {
          "output_type": "stream",
          "name": "stdout",
          "text": [
            "\t eval rmse: 1.7079\n",
            "\t eval mae: 1.3652\n",
            "==============================\n",
            "With lr_decay, epoch 195 learning rate: 0.0001608425664016977\n"
          ]
        },
        {
          "output_type": "stream",
          "name": "stderr",
          "text": [
            "train: 100%|██████████| 57/57 [00:00<00:00, 274.98it/s]\n"
          ]
        },
        {
          "output_type": "stream",
          "name": "stdout",
          "text": [
            "Epoch 195 elapsed: 0.210s\n",
            "\t \u001b[32mtrain_loss: 3.4629\u001b[0m\n"
          ]
        },
        {
          "output_type": "stream",
          "name": "stderr",
          "text": [
            "eval_pointwise: 100%|██████████| 1/1 [00:00<00:00, 647.57it/s]\n"
          ]
        },
        {
          "output_type": "stream",
          "name": "stdout",
          "text": [
            "\t eval rmse: 1.7067\n",
            "\t eval mae: 1.3620\n",
            "==============================\n",
            "With lr_decay, epoch 196 learning rate: 0.00015440891729667783\n"
          ]
        },
        {
          "output_type": "stream",
          "name": "stderr",
          "text": [
            "train: 100%|██████████| 57/57 [00:00<00:00, 292.53it/s]\n"
          ]
        },
        {
          "output_type": "stream",
          "name": "stdout",
          "text": [
            "Epoch 196 elapsed: 0.198s\n",
            "\t \u001b[32mtrain_loss: 3.3743\u001b[0m\n"
          ]
        },
        {
          "output_type": "stream",
          "name": "stderr",
          "text": [
            "eval_pointwise: 100%|██████████| 1/1 [00:00<00:00, 353.80it/s]\n"
          ]
        },
        {
          "output_type": "stream",
          "name": "stdout",
          "text": [
            "\t eval rmse: 1.7130\n",
            "\t eval mae: 1.3652\n",
            "==============================\n",
            "With lr_decay, epoch 197 learning rate: 0.0001482325023971498\n"
          ]
        },
        {
          "output_type": "stream",
          "name": "stderr",
          "text": [
            "train: 100%|██████████| 57/57 [00:00<00:00, 294.15it/s]\n"
          ]
        },
        {
          "output_type": "stream",
          "name": "stdout",
          "text": [
            "Epoch 197 elapsed: 0.198s\n",
            "\t \u001b[32mtrain_loss: 3.5699\u001b[0m\n"
          ]
        },
        {
          "output_type": "stream",
          "name": "stderr",
          "text": [
            "eval_pointwise: 100%|██████████| 1/1 [00:00<00:00, 678.03it/s]\n"
          ]
        },
        {
          "output_type": "stream",
          "name": "stdout",
          "text": [
            "\t eval rmse: 1.7152\n",
            "\t eval mae: 1.3668\n",
            "==============================\n",
            "With lr_decay, epoch 198 learning rate: 0.00014230323722586036\n"
          ]
        },
        {
          "output_type": "stream",
          "name": "stderr",
          "text": [
            "train: 100%|██████████| 57/57 [00:00<00:00, 296.58it/s]\n"
          ]
        },
        {
          "output_type": "stream",
          "name": "stdout",
          "text": [
            "Epoch 198 elapsed: 0.197s\n",
            "\t \u001b[32mtrain_loss: 3.4407\u001b[0m\n"
          ]
        },
        {
          "output_type": "stream",
          "name": "stderr",
          "text": [
            "eval_pointwise: 100%|██████████| 1/1 [00:00<00:00, 594.52it/s]\n"
          ]
        },
        {
          "output_type": "stream",
          "name": "stdout",
          "text": [
            "\t eval rmse: 1.7140\n",
            "\t eval mae: 1.3661\n",
            "==============================\n",
            "With lr_decay, epoch 199 learning rate: 0.00013661105185747147\n"
          ]
        },
        {
          "output_type": "stream",
          "name": "stderr",
          "text": [
            "train: 100%|██████████| 57/57 [00:00<00:00, 285.55it/s]\n"
          ]
        },
        {
          "output_type": "stream",
          "name": "stdout",
          "text": [
            "Epoch 199 elapsed: 0.205s\n",
            "\t \u001b[32mtrain_loss: 3.587\u001b[0m\n"
          ]
        },
        {
          "output_type": "stream",
          "name": "stderr",
          "text": [
            "eval_pointwise: 100%|██████████| 1/1 [00:00<00:00, 491.37it/s]\n"
          ]
        },
        {
          "output_type": "stream",
          "name": "stdout",
          "text": [
            "\t eval rmse: 1.7105\n",
            "\t eval mae: 1.3634\n",
            "==============================\n",
            "With lr_decay, epoch 200 learning rate: 0.0001311466476181522\n"
          ]
        },
        {
          "output_type": "stream",
          "name": "stderr",
          "text": [
            "train: 100%|██████████| 57/57 [00:00<00:00, 276.75it/s]\n"
          ]
        },
        {
          "output_type": "stream",
          "name": "stdout",
          "text": [
            "Epoch 200 elapsed: 0.209s\n",
            "\t \u001b[32mtrain_loss: 3.4854\u001b[0m\n"
          ]
        },
        {
          "output_type": "stream",
          "name": "stderr",
          "text": [
            "eval_pointwise: 100%|██████████| 1/1 [00:00<00:00, 590.50it/s]\n"
          ]
        },
        {
          "output_type": "stream",
          "name": "stdout",
          "text": [
            "\t eval rmse: 1.7101\n",
            "\t eval mae: 1.3605\n",
            "==============================\n",
            "With lr_decay, epoch 201 learning rate: 0.00012590074038598686\n"
          ]
        },
        {
          "output_type": "stream",
          "name": "stderr",
          "text": [
            "train: 100%|██████████| 57/57 [00:00<00:00, 285.78it/s]\n"
          ]
        },
        {
          "output_type": "stream",
          "name": "stdout",
          "text": [
            "Epoch 201 elapsed: 0.203s\n",
            "\t \u001b[32mtrain_loss: 3.4456\u001b[0m\n"
          ]
        },
        {
          "output_type": "stream",
          "name": "stderr",
          "text": [
            "eval_pointwise: 100%|██████████| 1/1 [00:00<00:00, 367.95it/s]\n"
          ]
        },
        {
          "output_type": "stream",
          "name": "stdout",
          "text": [
            "\t eval rmse: 1.7088\n",
            "\t eval mae: 1.3616\n",
            "==============================\n",
            "With lr_decay, epoch 202 learning rate: 0.00012086474453099072\n"
          ]
        },
        {
          "output_type": "stream",
          "name": "stderr",
          "text": [
            "train: 100%|██████████| 57/57 [00:00<00:00, 292.82it/s]\n"
          ]
        },
        {
          "output_type": "stream",
          "name": "stdout",
          "text": [
            "Epoch 202 elapsed: 0.198s\n",
            "\t \u001b[32mtrain_loss: 3.3765\u001b[0m\n"
          ]
        },
        {
          "output_type": "stream",
          "name": "stderr",
          "text": [
            "eval_pointwise: 100%|██████████| 1/1 [00:00<00:00, 409.24it/s]\n"
          ]
        },
        {
          "output_type": "stream",
          "name": "stdout",
          "text": [
            "\t eval rmse: 1.7126\n",
            "\t eval mae: 1.3695\n",
            "==============================\n",
            "With lr_decay, epoch 203 learning rate: 0.0001160301108029671\n"
          ]
        },
        {
          "output_type": "stream",
          "name": "stderr",
          "text": [
            "train: 100%|██████████| 57/57 [00:00<00:00, 305.54it/s]\n"
          ]
        },
        {
          "output_type": "stream",
          "name": "stdout",
          "text": [
            "Epoch 203 elapsed: 0.190s\n",
            "\t \u001b[32mtrain_loss: 3.3896\u001b[0m\n"
          ]
        },
        {
          "output_type": "stream",
          "name": "stderr",
          "text": [
            "eval_pointwise: 100%|██████████| 1/1 [00:00<00:00, 701.86it/s]\n"
          ]
        },
        {
          "output_type": "stream",
          "name": "stdout",
          "text": [
            "\t eval rmse: 1.7073\n",
            "\t eval mae: 1.3629\n",
            "==============================\n",
            "With lr_decay, epoch 204 learning rate: 0.000111388937511947\n"
          ]
        },
        {
          "output_type": "stream",
          "name": "stderr",
          "text": [
            "train: 100%|██████████| 57/57 [00:00<00:00, 299.63it/s]\n"
          ]
        },
        {
          "output_type": "stream",
          "name": "stdout",
          "text": [
            "Epoch 204 elapsed: 0.195s\n",
            "\t \u001b[32mtrain_loss: 3.5734\u001b[0m\n"
          ]
        },
        {
          "output_type": "stream",
          "name": "stderr",
          "text": [
            "eval_pointwise: 100%|██████████| 1/1 [00:00<00:00, 675.30it/s]\n"
          ]
        },
        {
          "output_type": "stream",
          "name": "stdout",
          "text": [
            "\t eval rmse: 1.7107\n",
            "\t eval mae: 1.3677\n",
            "==============================\n",
            "With lr_decay, epoch 205 learning rate: 0.00010693333751987666\n"
          ]
        },
        {
          "output_type": "stream",
          "name": "stderr",
          "text": [
            "train: 100%|██████████| 57/57 [00:00<00:00, 301.91it/s]\n"
          ]
        },
        {
          "output_type": "stream",
          "name": "stdout",
          "text": [
            "Epoch 205 elapsed: 0.192s\n",
            "\t \u001b[32mtrain_loss: 3.3654\u001b[0m\n"
          ]
        },
        {
          "output_type": "stream",
          "name": "stderr",
          "text": [
            "eval_pointwise: 100%|██████████| 1/1 [00:00<00:00, 557.01it/s]\n"
          ]
        },
        {
          "output_type": "stream",
          "name": "stdout",
          "text": [
            "\t eval rmse: 1.7067\n",
            "\t eval mae: 1.3656\n",
            "==============================\n",
            "With lr_decay, epoch 206 learning rate: 0.00010265603486914188\n"
          ]
        },
        {
          "output_type": "stream",
          "name": "stderr",
          "text": [
            "train: 100%|██████████| 57/57 [00:00<00:00, 307.22it/s]\n"
          ]
        },
        {
          "output_type": "stream",
          "name": "stdout",
          "text": [
            "Epoch 206 elapsed: 0.190s\n",
            "\t \u001b[32mtrain_loss: 3.3863\u001b[0m\n"
          ]
        },
        {
          "output_type": "stream",
          "name": "stderr",
          "text": [
            "eval_pointwise: 100%|██████████| 1/1 [00:00<00:00, 559.39it/s]\n"
          ]
        },
        {
          "output_type": "stream",
          "name": "stdout",
          "text": [
            "\t eval rmse: 1.7125\n",
            "\t eval mae: 1.3727\n",
            "==============================\n",
            "With lr_decay, epoch 207 learning rate: 9.854975360212848e-05\n"
          ]
        },
        {
          "output_type": "stream",
          "name": "stderr",
          "text": [
            "train: 100%|██████████| 57/57 [00:00<00:00, 308.53it/s]\n"
          ]
        },
        {
          "output_type": "stream",
          "name": "stdout",
          "text": [
            "Epoch 207 elapsed: 0.189s\n",
            "\t \u001b[32mtrain_loss: 3.5131\u001b[0m\n"
          ]
        },
        {
          "output_type": "stream",
          "name": "stderr",
          "text": [
            "eval_pointwise: 100%|██████████| 1/1 [00:00<00:00, 404.31it/s]\n"
          ]
        },
        {
          "output_type": "stream",
          "name": "stdout",
          "text": [
            "\t eval rmse: 1.7101\n",
            "\t eval mae: 1.3689\n",
            "==============================\n",
            "With lr_decay, epoch 208 learning rate: 9.460778528591618e-05\n"
          ]
        },
        {
          "output_type": "stream",
          "name": "stderr",
          "text": [
            "train: 100%|██████████| 57/57 [00:00<00:00, 304.15it/s]\n"
          ]
        },
        {
          "output_type": "stream",
          "name": "stdout",
          "text": [
            "Epoch 208 elapsed: 0.191s\n",
            "\t \u001b[32mtrain_loss: 3.5373\u001b[0m\n"
          ]
        },
        {
          "output_type": "stream",
          "name": "stderr",
          "text": [
            "eval_pointwise: 100%|██████████| 1/1 [00:00<00:00, 263.30it/s]\n"
          ]
        },
        {
          "output_type": "stream",
          "name": "stdout",
          "text": [
            "\t eval rmse: 1.7139\n",
            "\t eval mae: 1.3723\n",
            "==============================\n",
            "With lr_decay, epoch 209 learning rate: 9.082350152311847e-05\n"
          ]
        },
        {
          "output_type": "stream",
          "name": "stderr",
          "text": [
            "train: 100%|██████████| 57/57 [00:00<00:00, 298.68it/s]\n"
          ]
        },
        {
          "output_type": "stream",
          "name": "stdout",
          "text": [
            "Epoch 209 elapsed: 0.194s\n",
            "\t \u001b[32mtrain_loss: 3.6252\u001b[0m\n"
          ]
        },
        {
          "output_type": "stream",
          "name": "stderr",
          "text": [
            "eval_pointwise: 100%|██████████| 1/1 [00:00<00:00, 463.92it/s]\n"
          ]
        },
        {
          "output_type": "stream",
          "name": "stdout",
          "text": [
            "\t eval rmse: 1.7141\n",
            "\t eval mae: 1.3692\n",
            "==============================\n",
            "With lr_decay, epoch 210 learning rate: 8.719052857486531e-05\n"
          ]
        },
        {
          "output_type": "stream",
          "name": "stderr",
          "text": [
            "train: 100%|██████████| 57/57 [00:00<00:00, 297.63it/s]\n"
          ]
        },
        {
          "output_type": "stream",
          "name": "stdout",
          "text": [
            "Epoch 210 elapsed: 0.194s\n",
            "\t \u001b[32mtrain_loss: 3.3746\u001b[0m\n"
          ]
        },
        {
          "output_type": "stream",
          "name": "stderr",
          "text": [
            "eval_pointwise: 100%|██████████| 1/1 [00:00<00:00, 388.18it/s]\n"
          ]
        },
        {
          "output_type": "stream",
          "name": "stdout",
          "text": [
            "\t eval rmse: 1.7146\n",
            "\t eval mae: 1.3723\n",
            "==============================\n",
            "With lr_decay, epoch 211 learning rate: 8.370292925974354e-05\n"
          ]
        },
        {
          "output_type": "stream",
          "name": "stderr",
          "text": [
            "train: 100%|██████████| 57/57 [00:00<00:00, 308.28it/s]\n"
          ]
        },
        {
          "output_type": "stream",
          "name": "stdout",
          "text": [
            "Epoch 211 elapsed: 0.188s\n",
            "\t \u001b[32mtrain_loss: 3.3745\u001b[0m\n"
          ]
        },
        {
          "output_type": "stream",
          "name": "stderr",
          "text": [
            "eval_pointwise: 100%|██████████| 1/1 [00:00<00:00, 295.58it/s]\n"
          ]
        },
        {
          "output_type": "stream",
          "name": "stdout",
          "text": [
            "\t eval rmse: 1.7127\n",
            "\t eval mae: 1.3685\n",
            "==============================\n",
            "With lr_decay, epoch 212 learning rate: 8.035478822421283e-05\n"
          ]
        },
        {
          "output_type": "stream",
          "name": "stderr",
          "text": [
            "train: 100%|██████████| 57/57 [00:00<00:00, 305.08it/s]\n"
          ]
        },
        {
          "output_type": "stream",
          "name": "stdout",
          "text": [
            "Epoch 212 elapsed: 0.191s\n",
            "\t \u001b[32mtrain_loss: 3.3097\u001b[0m\n"
          ]
        },
        {
          "output_type": "stream",
          "name": "stderr",
          "text": [
            "eval_pointwise: 100%|██████████| 1/1 [00:00<00:00, 400.83it/s]"
          ]
        },
        {
          "output_type": "stream",
          "name": "stdout",
          "text": [
            "\t eval rmse: 1.7155\n",
            "\t eval mae: 1.3677\n",
            "==============================\n"
          ]
        },
        {
          "output_type": "stream",
          "name": "stderr",
          "text": [
            "\n"
          ]
        },
        {
          "output_type": "stream",
          "name": "stdout",
          "text": [
            "With lr_decay, epoch 213 learning rate: 7.714061212027445e-05\n"
          ]
        },
        {
          "output_type": "stream",
          "name": "stderr",
          "text": [
            "train: 100%|██████████| 57/57 [00:00<00:00, 304.49it/s]\n"
          ]
        },
        {
          "output_type": "stream",
          "name": "stdout",
          "text": [
            "Epoch 213 elapsed: 0.190s\n",
            "\t \u001b[32mtrain_loss: 3.3576\u001b[0m\n"
          ]
        },
        {
          "output_type": "stream",
          "name": "stderr",
          "text": [
            "eval_pointwise: 100%|██████████| 1/1 [00:00<00:00, 421.62it/s]\n"
          ]
        },
        {
          "output_type": "stream",
          "name": "stdout",
          "text": [
            "\t eval rmse: 1.7158\n",
            "\t eval mae: 1.3694\n",
            "==============================\n",
            "With lr_decay, epoch 214 learning rate: 7.405495853163302e-05\n"
          ]
        },
        {
          "output_type": "stream",
          "name": "stderr",
          "text": [
            "train: 100%|██████████| 57/57 [00:00<00:00, 295.07it/s]\n"
          ]
        },
        {
          "output_type": "stream",
          "name": "stdout",
          "text": [
            "Epoch 214 elapsed: 0.198s\n",
            "\t \u001b[32mtrain_loss: 3.3738\u001b[0m\n"
          ]
        },
        {
          "output_type": "stream",
          "name": "stderr",
          "text": [
            "eval_pointwise: 100%|██████████| 1/1 [00:00<00:00, 389.55it/s]\n"
          ]
        },
        {
          "output_type": "stream",
          "name": "stdout",
          "text": [
            "\t eval rmse: 1.7159\n",
            "\t eval mae: 1.3695\n",
            "==============================\n",
            "With lr_decay, epoch 215 learning rate: 7.109278521966189e-05\n"
          ]
        },
        {
          "output_type": "stream",
          "name": "stderr",
          "text": [
            "train: 100%|██████████| 57/57 [00:00<00:00, 301.36it/s]\n"
          ]
        },
        {
          "output_type": "stream",
          "name": "stdout",
          "text": [
            "Epoch 215 elapsed: 0.193s\n",
            "\t \u001b[32mtrain_loss: 3.4333\u001b[0m\n"
          ]
        },
        {
          "output_type": "stream",
          "name": "stderr",
          "text": [
            "eval_pointwise: 100%|██████████| 1/1 [00:00<00:00, 407.85it/s]\n"
          ]
        },
        {
          "output_type": "stream",
          "name": "stdout",
          "text": [
            "\t eval rmse: 1.7143\n",
            "\t eval mae: 1.3717\n",
            "==============================\n",
            "With lr_decay, epoch 216 learning rate: 6.824904266977683e-05\n"
          ]
        },
        {
          "output_type": "stream",
          "name": "stderr",
          "text": [
            "train: 100%|██████████| 57/57 [00:00<00:00, 301.80it/s]\n"
          ]
        },
        {
          "output_type": "stream",
          "name": "stdout",
          "text": [
            "Epoch 216 elapsed: 0.193s\n",
            "\t \u001b[32mtrain_loss: 3.3691\u001b[0m\n"
          ]
        },
        {
          "output_type": "stream",
          "name": "stderr",
          "text": [
            "eval_pointwise: 100%|██████████| 1/1 [00:00<00:00, 615.63it/s]\n"
          ]
        },
        {
          "output_type": "stream",
          "name": "stdout",
          "text": [
            "\t eval rmse: 1.7101\n",
            "\t eval mae: 1.3659\n",
            "==============================\n",
            "With lr_decay, epoch 217 learning rate: 6.55191033729352e-05\n"
          ]
        },
        {
          "output_type": "stream",
          "name": "stderr",
          "text": [
            "train: 100%|██████████| 57/57 [00:00<00:00, 305.68it/s]\n"
          ]
        },
        {
          "output_type": "stream",
          "name": "stdout",
          "text": [
            "Epoch 217 elapsed: 0.190s\n",
            "\t \u001b[32mtrain_loss: 3.4185\u001b[0m\n"
          ]
        },
        {
          "output_type": "stream",
          "name": "stderr",
          "text": [
            "eval_pointwise: 100%|██████████| 1/1 [00:00<00:00, 691.10it/s]\n"
          ]
        },
        {
          "output_type": "stream",
          "name": "stdout",
          "text": [
            "\t eval rmse: 1.7082\n",
            "\t eval mae: 1.3660\n",
            "==============================\n",
            "With lr_decay, epoch 218 learning rate: 6.289831799222156e-05\n"
          ]
        },
        {
          "output_type": "stream",
          "name": "stderr",
          "text": [
            "train: 100%|██████████| 57/57 [00:00<00:00, 310.96it/s]\n"
          ]
        },
        {
          "output_type": "stream",
          "name": "stdout",
          "text": [
            "Epoch 218 elapsed: 0.190s\n",
            "\t \u001b[32mtrain_loss: 3.471\u001b[0m\n"
          ]
        },
        {
          "output_type": "stream",
          "name": "stderr",
          "text": [
            "eval_pointwise: 100%|██████████| 1/1 [00:00<00:00, 643.69it/s]\n"
          ]
        },
        {
          "output_type": "stream",
          "name": "stdout",
          "text": [
            "\t eval rmse: 1.7106\n",
            "\t eval mae: 1.3698\n",
            "==============================\n",
            "With lr_decay, epoch 219 learning rate: 6.038239735062234e-05\n"
          ]
        },
        {
          "output_type": "stream",
          "name": "stderr",
          "text": [
            "train: 100%|██████████| 57/57 [00:00<00:00, 295.37it/s]\n"
          ]
        },
        {
          "output_type": "stream",
          "name": "stdout",
          "text": [
            "Epoch 219 elapsed: 0.197s\n",
            "\t \u001b[32mtrain_loss: 3.3552\u001b[0m\n"
          ]
        },
        {
          "output_type": "stream",
          "name": "stderr",
          "text": [
            "eval_pointwise: 100%|██████████| 1/1 [00:00<00:00, 342.08it/s]\n"
          ]
        },
        {
          "output_type": "stream",
          "name": "stdout",
          "text": [
            "\t eval rmse: 1.7108\n",
            "\t eval mae: 1.3658\n",
            "==============================\n",
            "With lr_decay, epoch 220 learning rate: 5.79671177547425e-05\n"
          ]
        },
        {
          "output_type": "stream",
          "name": "stderr",
          "text": [
            "train: 100%|██████████| 57/57 [00:00<00:00, 310.87it/s]\n"
          ]
        },
        {
          "output_type": "stream",
          "name": "stdout",
          "text": [
            "Epoch 220 elapsed: 0.189s\n",
            "\t \u001b[32mtrain_loss: 3.5831\u001b[0m\n"
          ]
        },
        {
          "output_type": "stream",
          "name": "stderr",
          "text": [
            "eval_pointwise: 100%|██████████| 1/1 [00:00<00:00, 606.46it/s]\n"
          ]
        },
        {
          "output_type": "stream",
          "name": "stdout",
          "text": [
            "\t eval rmse: 1.7129\n",
            "\t eval mae: 1.3686\n",
            "==============================\n",
            "With lr_decay, epoch 221 learning rate: 5.564841194427572e-05\n"
          ]
        },
        {
          "output_type": "stream",
          "name": "stderr",
          "text": [
            "train: 100%|██████████| 57/57 [00:00<00:00, 299.64it/s]\n"
          ]
        },
        {
          "output_type": "stream",
          "name": "stdout",
          "text": [
            "Epoch 221 elapsed: 0.194s\n",
            "\t \u001b[32mtrain_loss: 3.3704\u001b[0m\n"
          ]
        },
        {
          "output_type": "stream",
          "name": "stderr",
          "text": [
            "eval_pointwise: 100%|██████████| 1/1 [00:00<00:00, 436.13it/s]\n"
          ]
        },
        {
          "output_type": "stream",
          "name": "stdout",
          "text": [
            "\t eval rmse: 1.7174\n",
            "\t eval mae: 1.3727\n",
            "==============================\n",
            "With lr_decay, epoch 222 learning rate: 5.3422492783283815e-05\n"
          ]
        },
        {
          "output_type": "stream",
          "name": "stderr",
          "text": [
            "train: 100%|██████████| 57/57 [00:00<00:00, 307.67it/s]\n"
          ]
        },
        {
          "output_type": "stream",
          "name": "stdout",
          "text": [
            "Epoch 222 elapsed: 0.188s\n",
            "\t \u001b[32mtrain_loss: 3.3608\u001b[0m\n"
          ]
        },
        {
          "output_type": "stream",
          "name": "stderr",
          "text": [
            "eval_pointwise: 100%|██████████| 1/1 [00:00<00:00, 683.22it/s]\n"
          ]
        },
        {
          "output_type": "stream",
          "name": "stdout",
          "text": [
            "\t eval rmse: 1.7480\n",
            "\t eval mae: 1.3815\n",
            "==============================\n",
            "With lr_decay, epoch 223 learning rate: 5.12855731358286e-05\n"
          ]
        },
        {
          "output_type": "stream",
          "name": "stderr",
          "text": [
            "train: 100%|██████████| 57/57 [00:00<00:00, 304.57it/s]\n"
          ]
        },
        {
          "output_type": "stream",
          "name": "stdout",
          "text": [
            "Epoch 223 elapsed: 0.190s\n",
            "\t \u001b[32mtrain_loss: 3.6058\u001b[0m\n"
          ]
        },
        {
          "output_type": "stream",
          "name": "stderr",
          "text": [
            "eval_pointwise: 100%|██████████| 1/1 [00:00<00:00, 512.00it/s]"
          ]
        },
        {
          "output_type": "stream",
          "name": "stdout",
          "text": [
            "\t eval rmse: 1.7289\n",
            "\t eval mae: 1.3736\n",
            "==============================\n"
          ]
        },
        {
          "output_type": "stream",
          "name": "stderr",
          "text": [
            "\n"
          ]
        },
        {
          "output_type": "stream",
          "name": "stdout",
          "text": [
            "With lr_decay, epoch 224 learning rate: 4.9234164180234075e-05\n"
          ]
        },
        {
          "output_type": "stream",
          "name": "stderr",
          "text": [
            "train: 100%|██████████| 57/57 [00:00<00:00, 295.29it/s]\n"
          ]
        },
        {
          "output_type": "stream",
          "name": "stdout",
          "text": [
            "Epoch 224 elapsed: 0.197s\n",
            "\t \u001b[32mtrain_loss: 3.6244\u001b[0m\n"
          ]
        },
        {
          "output_type": "stream",
          "name": "stderr",
          "text": [
            "eval_pointwise: 100%|██████████| 1/1 [00:00<00:00, 548.85it/s]\n"
          ]
        },
        {
          "output_type": "stream",
          "name": "stdout",
          "text": [
            "\t eval rmse: 1.7126\n",
            "\t eval mae: 1.3665\n",
            "==============================\n",
            "With lr_decay, epoch 225 learning rate: 4.537419954431243e-05\n"
          ]
        },
        {
          "output_type": "stream",
          "name": "stderr",
          "text": [
            "train: 100%|██████████| 57/57 [00:00<00:00, 301.85it/s]\n"
          ]
        },
        {
          "output_type": "stream",
          "name": "stdout",
          "text": [
            "Epoch 225 elapsed: 0.193s\n",
            "\t \u001b[32mtrain_loss: 3.5174\u001b[0m\n"
          ]
        },
        {
          "output_type": "stream",
          "name": "stderr",
          "text": [
            "eval_pointwise: 100%|██████████| 1/1 [00:00<00:00, 411.89it/s]\n"
          ]
        },
        {
          "output_type": "stream",
          "name": "stdout",
          "text": [
            "\t eval rmse: 1.7142\n",
            "\t eval mae: 1.3684\n",
            "==============================\n",
            "With lr_decay, epoch 226 learning rate: 4.3559215555433184e-05\n"
          ]
        },
        {
          "output_type": "stream",
          "name": "stderr",
          "text": [
            "train: 100%|██████████| 57/57 [00:00<00:00, 305.06it/s]\n"
          ]
        },
        {
          "output_type": "stream",
          "name": "stdout",
          "text": [
            "Epoch 226 elapsed: 0.191s\n",
            "\t \u001b[32mtrain_loss: 3.4665\u001b[0m\n"
          ]
        },
        {
          "output_type": "stream",
          "name": "stderr",
          "text": [
            "eval_pointwise: 100%|██████████| 1/1 [00:00<00:00, 322.89it/s]"
          ]
        },
        {
          "output_type": "stream",
          "name": "stdout",
          "text": [
            "\t eval rmse: 1.7113"
          ]
        },
        {
          "output_type": "stream",
          "name": "stderr",
          "text": [
            "\n"
          ]
        },
        {
          "output_type": "stream",
          "name": "stdout",
          "text": [
            "\n",
            "\t eval mae: 1.3676\n",
            "==============================\n",
            "With lr_decay, epoch 227 learning rate: 4.1816860175458714e-05\n"
          ]
        },
        {
          "output_type": "stream",
          "name": "stderr",
          "text": [
            "train: 100%|██████████| 57/57 [00:00<00:00, 300.98it/s]\n"
          ]
        },
        {
          "output_type": "stream",
          "name": "stdout",
          "text": [
            "Epoch 227 elapsed: 0.193s\n",
            "\t \u001b[32mtrain_loss: 3.3748\u001b[0m\n"
          ]
        },
        {
          "output_type": "stream",
          "name": "stderr",
          "text": [
            "eval_pointwise: 100%|██████████| 1/1 [00:00<00:00, 282.27it/s]\n"
          ]
        },
        {
          "output_type": "stream",
          "name": "stdout",
          "text": [
            "\t eval rmse: 1.7139\n",
            "\t eval mae: 1.3677\n",
            "==============================\n",
            "With lr_decay, epoch 228 learning rate: 4.0144168451661244e-05\n"
          ]
        },
        {
          "output_type": "stream",
          "name": "stderr",
          "text": [
            "train: 100%|██████████| 57/57 [00:00<00:00, 307.99it/s]\n"
          ]
        },
        {
          "output_type": "stream",
          "name": "stdout",
          "text": [
            "Epoch 228 elapsed: 0.189s\n",
            "\t \u001b[32mtrain_loss: 3.3473\u001b[0m\n"
          ]
        },
        {
          "output_type": "stream",
          "name": "stderr",
          "text": [
            "eval_pointwise: 100%|██████████| 1/1 [00:00<00:00, 701.39it/s]\n"
          ]
        },
        {
          "output_type": "stream",
          "name": "stdout",
          "text": [
            "\t eval rmse: 1.7089\n",
            "\t eval mae: 1.3650\n",
            "==============================\n",
            "With lr_decay, epoch 229 learning rate: 3.8538411899935454e-05\n"
          ]
        },
        {
          "output_type": "stream",
          "name": "stderr",
          "text": [
            "train: 100%|██████████| 57/57 [00:00<00:00, 291.98it/s]\n"
          ]
        },
        {
          "output_type": "stream",
          "name": "stdout",
          "text": [
            "Epoch 229 elapsed: 0.199s\n",
            "\t \u001b[32mtrain_loss: 3.4102\u001b[0m\n"
          ]
        },
        {
          "output_type": "stream",
          "name": "stderr",
          "text": [
            "eval_pointwise: 100%|██████████| 1/1 [00:00<00:00, 514.51it/s]\n"
          ]
        },
        {
          "output_type": "stream",
          "name": "stdout",
          "text": [
            "\t eval rmse: 1.7108\n",
            "\t eval mae: 1.3705\n",
            "==============================\n",
            "With lr_decay, epoch 230 learning rate: 3.6996887502027676e-05\n"
          ]
        },
        {
          "output_type": "stream",
          "name": "stderr",
          "text": [
            "train: 100%|██████████| 57/57 [00:00<00:00, 307.23it/s]\n"
          ]
        },
        {
          "output_type": "stream",
          "name": "stdout",
          "text": [
            "Epoch 230 elapsed: 0.190s\n",
            "\t \u001b[32mtrain_loss: 3.5079\u001b[0m\n"
          ]
        },
        {
          "output_type": "stream",
          "name": "stderr",
          "text": [
            "eval_pointwise: 100%|██████████| 1/1 [00:00<00:00, 427.73it/s]\n"
          ]
        },
        {
          "output_type": "stream",
          "name": "stdout",
          "text": [
            "\t eval rmse: 1.7122\n",
            "\t eval mae: 1.3719\n",
            "==============================\n",
            "With lr_decay, epoch 231 learning rate: 3.5516997741069645e-05\n"
          ]
        },
        {
          "output_type": "stream",
          "name": "stderr",
          "text": [
            "train: 100%|██████████| 57/57 [00:00<00:00, 302.65it/s]\n"
          ]
        },
        {
          "output_type": "stream",
          "name": "stdout",
          "text": [
            "Epoch 231 elapsed: 0.192s\n",
            "\t \u001b[32mtrain_loss: 3.4218\u001b[0m\n"
          ]
        },
        {
          "output_type": "stream",
          "name": "stderr",
          "text": [
            "eval_pointwise: 100%|██████████| 1/1 [00:00<00:00, 261.52it/s]\n"
          ]
        },
        {
          "output_type": "stream",
          "name": "stdout",
          "text": [
            "\t eval rmse: 1.7108\n",
            "\t eval mae: 1.3701\n",
            "==============================\n",
            "With lr_decay, epoch 232 learning rate: 3.409632699913345e-05\n"
          ]
        },
        {
          "output_type": "stream",
          "name": "stderr",
          "text": [
            "train: 100%|██████████| 57/57 [00:00<00:00, 305.65it/s]\n"
          ]
        },
        {
          "output_type": "stream",
          "name": "stdout",
          "text": [
            "Epoch 232 elapsed: 0.190s\n",
            "\t \u001b[32mtrain_loss: 3.3881\u001b[0m\n"
          ]
        },
        {
          "output_type": "stream",
          "name": "stderr",
          "text": [
            "eval_pointwise: 100%|██████████| 1/1 [00:00<00:00, 336.73it/s]\n"
          ]
        },
        {
          "output_type": "stream",
          "name": "stdout",
          "text": [
            "\t eval rmse: 1.7109\n",
            "\t eval mae: 1.3696\n",
            "==============================\n",
            "With lr_decay, epoch 233 learning rate: 3.273246329627e-05\n"
          ]
        },
        {
          "output_type": "stream",
          "name": "stderr",
          "text": [
            "train: 100%|██████████| 57/57 [00:00<00:00, 299.96it/s]\n"
          ]
        },
        {
          "output_type": "stream",
          "name": "stdout",
          "text": [
            "Epoch 233 elapsed: 0.194s\n",
            "\t \u001b[32mtrain_loss: 3.3457\u001b[0m\n"
          ]
        },
        {
          "output_type": "stream",
          "name": "stderr",
          "text": [
            "eval_pointwise: 100%|██████████| 1/1 [00:00<00:00, 614.82it/s]\n"
          ]
        },
        {
          "output_type": "stream",
          "name": "stdout",
          "text": [
            "\t eval rmse: 1.7095\n",
            "\t eval mae: 1.3677\n",
            "==============================\n",
            "With lr_decay, epoch 234 learning rate: 3.1423172913491726e-05\n"
          ]
        },
        {
          "output_type": "stream",
          "name": "stderr",
          "text": [
            "train: 100%|██████████| 57/57 [00:00<00:00, 292.63it/s]\n"
          ]
        },
        {
          "output_type": "stream",
          "name": "stdout",
          "text": [
            "Epoch 234 elapsed: 0.198s\n",
            "\t \u001b[32mtrain_loss: 3.4684\u001b[0m\n"
          ]
        },
        {
          "output_type": "stream",
          "name": "stderr",
          "text": [
            "eval_pointwise: 100%|██████████| 1/1 [00:00<00:00, 627.80it/s]\n"
          ]
        },
        {
          "output_type": "stream",
          "name": "stdout",
          "text": [
            "\t eval rmse: 1.7097\n",
            "\t eval mae: 1.3652\n",
            "==============================\n",
            "With lr_decay, epoch 235 learning rate: 3.0166233045747504e-05\n"
          ]
        },
        {
          "output_type": "stream",
          "name": "stderr",
          "text": [
            "train: 100%|██████████| 57/57 [00:00<00:00, 301.27it/s]\n"
          ]
        },
        {
          "output_type": "stream",
          "name": "stdout",
          "text": [
            "Epoch 235 elapsed: 0.192s\n",
            "\t \u001b[32mtrain_loss: 3.3289\u001b[0m\n"
          ]
        },
        {
          "output_type": "stream",
          "name": "stderr",
          "text": [
            "eval_pointwise: 100%|██████████| 1/1 [00:00<00:00, 403.45it/s]"
          ]
        },
        {
          "output_type": "stream",
          "name": "stdout",
          "text": [
            "\t eval rmse: 1.7097\n",
            "\t eval mae: 1.3645\n",
            "==============================\n"
          ]
        },
        {
          "output_type": "stream",
          "name": "stderr",
          "text": [
            "\n"
          ]
        },
        {
          "output_type": "stream",
          "name": "stdout",
          "text": [
            "With lr_decay, epoch 236 learning rate: 2.895959187299013e-05\n"
          ]
        },
        {
          "output_type": "stream",
          "name": "stderr",
          "text": [
            "train: 100%|██████████| 57/57 [00:00<00:00, 303.05it/s]\n"
          ]
        },
        {
          "output_type": "stream",
          "name": "stdout",
          "text": [
            "Epoch 236 elapsed: 0.193s\n",
            "\t \u001b[32mtrain_loss: 3.42\u001b[0m\n"
          ]
        },
        {
          "output_type": "stream",
          "name": "stderr",
          "text": [
            "eval_pointwise: 100%|██████████| 1/1 [00:00<00:00, 636.08it/s]\n"
          ]
        },
        {
          "output_type": "stream",
          "name": "stdout",
          "text": [
            "\t eval rmse: 1.7091\n",
            "\t eval mae: 1.3634\n",
            "==============================\n",
            "With lr_decay, epoch 237 learning rate: 2.780119757517241e-05\n"
          ]
        },
        {
          "output_type": "stream",
          "name": "stderr",
          "text": [
            "train: 100%|██████████| 57/57 [00:00<00:00, 309.33it/s]\n"
          ]
        },
        {
          "output_type": "stream",
          "name": "stdout",
          "text": [
            "Epoch 237 elapsed: 0.189s\n",
            "\t \u001b[32mtrain_loss: 3.374\u001b[0m\n"
          ]
        },
        {
          "output_type": "stream",
          "name": "stderr",
          "text": [
            "eval_pointwise: 100%|██████████| 1/1 [00:00<00:00, 721.29it/s]\n"
          ]
        },
        {
          "output_type": "stream",
          "name": "stdout",
          "text": [
            "\t eval rmse: 1.7105\n",
            "\t eval mae: 1.3643\n",
            "==============================\n",
            "With lr_decay, epoch 238 learning rate: 2.668915840331465e-05\n"
          ]
        },
        {
          "output_type": "stream",
          "name": "stderr",
          "text": [
            "train: 100%|██████████| 57/57 [00:00<00:00, 306.13it/s]\n"
          ]
        },
        {
          "output_type": "stream",
          "name": "stdout",
          "text": [
            "Epoch 238 elapsed: 0.189s\n",
            "\t \u001b[32mtrain_loss: 3.3084\u001b[0m\n"
          ]
        },
        {
          "output_type": "stream",
          "name": "stderr",
          "text": [
            "eval_pointwise: 100%|██████████| 1/1 [00:00<00:00, 353.77it/s]\n"
          ]
        },
        {
          "output_type": "stream",
          "name": "stdout",
          "text": [
            "\t eval rmse: 1.7263\n",
            "\t eval mae: 1.3703\n",
            "==============================\n",
            "With lr_decay, epoch 239 learning rate: 2.5621580789447762e-05\n"
          ]
        },
        {
          "output_type": "stream",
          "name": "stderr",
          "text": [
            "train: 100%|██████████| 57/57 [00:00<00:00, 294.61it/s]\n"
          ]
        },
        {
          "output_type": "stream",
          "name": "stdout",
          "text": [
            "Epoch 239 elapsed: 0.197s\n",
            "\t \u001b[32mtrain_loss: 3.3578\u001b[0m\n"
          ]
        },
        {
          "output_type": "stream",
          "name": "stderr",
          "text": [
            "eval_pointwise: 100%|██████████| 1/1 [00:00<00:00, 404.35it/s]\n"
          ]
        },
        {
          "output_type": "stream",
          "name": "stdout",
          "text": [
            "\t eval rmse: 1.7253\n",
            "\t eval mae: 1.3693\n",
            "==============================\n",
            "With lr_decay, epoch 240 learning rate: 2.4596725779701956e-05\n"
          ]
        },
        {
          "output_type": "stream",
          "name": "stderr",
          "text": [
            "train: 100%|██████████| 57/57 [00:00<00:00, 303.09it/s]\n"
          ]
        },
        {
          "output_type": "stream",
          "name": "stdout",
          "text": [
            "Epoch 240 elapsed: 0.192s\n",
            "\t \u001b[32mtrain_loss: 3.4526\u001b[0m\n"
          ]
        },
        {
          "output_type": "stream",
          "name": "stderr",
          "text": [
            "eval_pointwise: 100%|██████████| 1/1 [00:00<00:00, 463.82it/s]\n"
          ]
        },
        {
          "output_type": "stream",
          "name": "stdout",
          "text": [
            "\t eval rmse: 1.7082\n",
            "\t eval mae: 1.3661\n",
            "==============================\n",
            "With lr_decay, epoch 241 learning rate: 2.3612847144249827e-05\n"
          ]
        },
        {
          "output_type": "stream",
          "name": "stderr",
          "text": [
            "train: 100%|██████████| 57/57 [00:00<00:00, 311.43it/s]\n"
          ]
        },
        {
          "output_type": "stream",
          "name": "stdout",
          "text": [
            "Epoch 241 elapsed: 0.186s\n",
            "\t \u001b[32mtrain_loss: 3.4763\u001b[0m\n"
          ]
        },
        {
          "output_type": "stream",
          "name": "stderr",
          "text": [
            "eval_pointwise: 100%|██████████| 1/1 [00:00<00:00, 593.59it/s]\n"
          ]
        },
        {
          "output_type": "stream",
          "name": "stdout",
          "text": [
            "\t eval rmse: 1.7091\n",
            "\t eval mae: 1.3683\n",
            "==============================\n",
            "With lr_decay, epoch 242 learning rate: 2.2668340534437448e-05\n"
          ]
        },
        {
          "output_type": "stream",
          "name": "stderr",
          "text": [
            "train: 100%|██████████| 57/57 [00:00<00:00, 302.84it/s]\n"
          ]
        },
        {
          "output_type": "stream",
          "name": "stdout",
          "text": [
            "Epoch 242 elapsed: 0.191s\n",
            "\t \u001b[32mtrain_loss: 3.4773\u001b[0m\n"
          ]
        },
        {
          "output_type": "stream",
          "name": "stderr",
          "text": [
            "eval_pointwise: 100%|██████████| 1/1 [00:00<00:00, 288.59it/s]\n"
          ]
        },
        {
          "output_type": "stream",
          "name": "stdout",
          "text": [
            "\t eval rmse: 1.7108\n",
            "\t eval mae: 1.3685\n",
            "==============================\n",
            "With lr_decay, epoch 243 learning rate: 2.1761612515547313e-05\n"
          ]
        },
        {
          "output_type": "stream",
          "name": "stderr",
          "text": [
            "train: 100%|██████████| 57/57 [00:00<00:00, 304.42it/s]\n"
          ]
        },
        {
          "output_type": "stream",
          "name": "stdout",
          "text": [
            "Epoch 243 elapsed: 0.191s\n",
            "\t \u001b[32mtrain_loss: 3.387\u001b[0m\n"
          ]
        },
        {
          "output_type": "stream",
          "name": "stderr",
          "text": [
            "eval_pointwise: 100%|██████████| 1/1 [00:00<00:00, 632.82it/s]"
          ]
        },
        {
          "output_type": "stream",
          "name": "stdout",
          "text": [
            "\t eval rmse: 1.7105\n",
            "\t eval mae: 1.3684\n",
            "==============================\n"
          ]
        },
        {
          "output_type": "stream",
          "name": "stderr",
          "text": [
            "\n"
          ]
        },
        {
          "output_type": "stream",
          "name": "stdout",
          "text": [
            "With lr_decay, epoch 244 learning rate: 2.089113877445925e-05\n"
          ]
        },
        {
          "output_type": "stream",
          "name": "stderr",
          "text": [
            "train: 100%|██████████| 57/57 [00:00<00:00, 294.10it/s]\n"
          ]
        },
        {
          "output_type": "stream",
          "name": "stdout",
          "text": [
            "Epoch 244 elapsed: 0.197s\n",
            "\t \u001b[32mtrain_loss: 3.328\u001b[0m\n"
          ]
        },
        {
          "output_type": "stream",
          "name": "stderr",
          "text": [
            "eval_pointwise: 100%|██████████| 1/1 [00:00<00:00, 263.15it/s]\n"
          ]
        },
        {
          "output_type": "stream",
          "name": "stdout",
          "text": [
            "\t eval rmse: 1.7064\n",
            "\t eval mae: 1.3655\n",
            "==============================\n",
            "With lr_decay, epoch 245 learning rate: 2.0055500499438494e-05\n"
          ]
        },
        {
          "output_type": "stream",
          "name": "stderr",
          "text": [
            "train: 100%|██████████| 57/57 [00:00<00:00, 300.26it/s]\n"
          ]
        },
        {
          "output_type": "stream",
          "name": "stdout",
          "text": [
            "Epoch 245 elapsed: 0.194s\n",
            "\t \u001b[32mtrain_loss: 3.6197\u001b[0m\n"
          ]
        },
        {
          "output_type": "stream",
          "name": "stderr",
          "text": [
            "eval_pointwise: 100%|██████████| 1/1 [00:00<00:00, 707.06it/s]\n"
          ]
        },
        {
          "output_type": "stream",
          "name": "stdout",
          "text": [
            "\t eval rmse: 1.7069\n",
            "\t eval mae: 1.3664\n",
            "==============================\n",
            "With lr_decay, epoch 246 learning rate: 1.925327342178207e-05\n"
          ]
        },
        {
          "output_type": "stream",
          "name": "stderr",
          "text": [
            "train: 100%|██████████| 57/57 [00:00<00:00, 306.69it/s]\n"
          ]
        },
        {
          "output_type": "stream",
          "name": "stdout",
          "text": [
            "Epoch 246 elapsed: 0.189s\n",
            "\t \u001b[32mtrain_loss: 3.3707\u001b[0m\n"
          ]
        },
        {
          "output_type": "stream",
          "name": "stderr",
          "text": [
            "eval_pointwise: 100%|██████████| 1/1 [00:00<00:00, 396.77it/s]\n"
          ]
        },
        {
          "output_type": "stream",
          "name": "stdout",
          "text": [
            "\t eval rmse: 1.7070\n",
            "\t eval mae: 1.3652\n",
            "==============================\n",
            "With lr_decay, epoch 247 learning rate: 1.8483146050130017e-05\n"
          ]
        },
        {
          "output_type": "stream",
          "name": "stderr",
          "text": [
            "train: 100%|██████████| 57/57 [00:00<00:00, 305.51it/s]\n"
          ]
        },
        {
          "output_type": "stream",
          "name": "stdout",
          "text": [
            "Epoch 247 elapsed: 0.191s\n",
            "\t \u001b[32mtrain_loss: 3.5022\u001b[0m\n"
          ]
        },
        {
          "output_type": "stream",
          "name": "stderr",
          "text": [
            "eval_pointwise: 100%|██████████| 1/1 [00:00<00:00, 327.45it/s]"
          ]
        },
        {
          "output_type": "stream",
          "name": "stdout",
          "text": [
            "\t eval rmse: 1.7068\n",
            "\t eval mae: 1.3664\n",
            "==============================\n"
          ]
        },
        {
          "output_type": "stream",
          "name": "stderr",
          "text": [
            "\n"
          ]
        },
        {
          "output_type": "stream",
          "name": "stdout",
          "text": [
            "With lr_decay, epoch 248 learning rate: 1.7743814169079997e-05\n"
          ]
        },
        {
          "output_type": "stream",
          "name": "stderr",
          "text": [
            "train: 100%|██████████| 57/57 [00:00<00:00, 308.32it/s]\n"
          ]
        },
        {
          "output_type": "stream",
          "name": "stdout",
          "text": [
            "Epoch 248 elapsed: 0.191s\n",
            "\t \u001b[32mtrain_loss: 3.3679\u001b[0m\n"
          ]
        },
        {
          "output_type": "stream",
          "name": "stderr",
          "text": [
            "eval_pointwise: 100%|██████████| 1/1 [00:00<00:00, 617.54it/s]\n"
          ]
        },
        {
          "output_type": "stream",
          "name": "stdout",
          "text": [
            "\t eval rmse: 1.7096\n",
            "\t eval mae: 1.3703\n",
            "==============================\n",
            "With lr_decay, epoch 249 learning rate: 1.7034066331689246e-05\n"
          ]
        },
        {
          "output_type": "stream",
          "name": "stderr",
          "text": [
            "train: 100%|██████████| 57/57 [00:00<00:00, 290.78it/s]\n"
          ]
        },
        {
          "output_type": "stream",
          "name": "stdout",
          "text": [
            "Epoch 249 elapsed: 0.201s\n",
            "\t \u001b[32mtrain_loss: 3.56\u001b[0m\n"
          ]
        },
        {
          "output_type": "stream",
          "name": "stderr",
          "text": [
            "eval_pointwise: 100%|██████████| 1/1 [00:00<00:00, 521.61it/s]\n"
          ]
        },
        {
          "output_type": "stream",
          "name": "stdout",
          "text": [
            "\t eval rmse: 1.7107\n",
            "\t eval mae: 1.3686\n",
            "==============================\n",
            "With lr_decay, epoch 250 learning rate: 1.6352696547983214e-05\n"
          ]
        },
        {
          "output_type": "stream",
          "name": "stderr",
          "text": [
            "train: 100%|██████████| 57/57 [00:00<00:00, 299.28it/s]\n"
          ]
        },
        {
          "output_type": "stream",
          "name": "stdout",
          "text": [
            "Epoch 250 elapsed: 0.194s\n",
            "\t \u001b[32mtrain_loss: 3.5521\u001b[0m\n"
          ]
        },
        {
          "output_type": "stream",
          "name": "stderr",
          "text": [
            "eval_pointwise: 100%|██████████| 1/1 [00:00<00:00, 377.59it/s]\n"
          ]
        },
        {
          "output_type": "stream",
          "name": "stdout",
          "text": [
            "\t eval rmse: 1.7129\n",
            "\t eval mae: 1.3705\n",
            "==============================\n",
            "With lr_decay, epoch 251 learning rate: 1.5698593415436335e-05\n"
          ]
        },
        {
          "output_type": "stream",
          "name": "stderr",
          "text": [
            "train: 100%|██████████| 57/57 [00:00<00:00, 306.90it/s]\n"
          ]
        },
        {
          "output_type": "stream",
          "name": "stdout",
          "text": [
            "Epoch 251 elapsed: 0.189s\n",
            "\t \u001b[32mtrain_loss: 3.5793\u001b[0m\n"
          ]
        },
        {
          "output_type": "stream",
          "name": "stderr",
          "text": [
            "eval_pointwise: 100%|██████████| 1/1 [00:00<00:00, 412.05it/s]\n"
          ]
        },
        {
          "output_type": "stream",
          "name": "stdout",
          "text": [
            "\t eval rmse: 1.7090\n",
            "\t eval mae: 1.3709\n",
            "==============================\n",
            "With lr_decay, epoch 252 learning rate: 1.507064462202834e-05\n"
          ]
        },
        {
          "output_type": "stream",
          "name": "stderr",
          "text": [
            "train: 100%|██████████| 57/57 [00:00<00:00, 286.81it/s]\n"
          ]
        },
        {
          "output_type": "stream",
          "name": "stdout",
          "text": [
            "Epoch 252 elapsed: 0.203s\n",
            "\t \u001b[32mtrain_loss: 3.3253\u001b[0m\n"
          ]
        },
        {
          "output_type": "stream",
          "name": "stderr",
          "text": [
            "eval_pointwise: 100%|██████████| 1/1 [00:00<00:00, 294.54it/s]\n"
          ]
        },
        {
          "output_type": "stream",
          "name": "stdout",
          "text": [
            "\t eval rmse: 1.7071\n",
            "\t eval mae: 1.3680\n",
            "==============================\n",
            "With lr_decay, epoch 253 learning rate: 1.4467822438746225e-05\n"
          ]
        },
        {
          "output_type": "stream",
          "name": "stderr",
          "text": [
            "train: 100%|██████████| 57/57 [00:00<00:00, 290.38it/s]\n"
          ]
        },
        {
          "output_type": "stream",
          "name": "stdout",
          "text": [
            "Epoch 253 elapsed: 0.200s\n",
            "\t \u001b[32mtrain_loss: 3.4003\u001b[0m\n"
          ]
        },
        {
          "output_type": "stream",
          "name": "stderr",
          "text": [
            "eval_pointwise: 100%|██████████| 1/1 [00:00<00:00, 605.85it/s]\n"
          ]
        },
        {
          "output_type": "stream",
          "name": "stdout",
          "text": [
            "\t eval rmse: 1.7064\n",
            "\t eval mae: 1.3659\n",
            "==============================\n",
            "With lr_decay, epoch 254 learning rate: 1.3889113688492216e-05\n"
          ]
        },
        {
          "output_type": "stream",
          "name": "stderr",
          "text": [
            "train: 100%|██████████| 57/57 [00:00<00:00, 283.69it/s]\n"
          ]
        },
        {
          "output_type": "stream",
          "name": "stdout",
          "text": [
            "Epoch 254 elapsed: 0.206s\n",
            "\t \u001b[32mtrain_loss: 3.5312\u001b[0m\n"
          ]
        },
        {
          "output_type": "stream",
          "name": "stderr",
          "text": [
            "eval_pointwise: 100%|██████████| 1/1 [00:00<00:00, 621.93it/s]\n"
          ]
        },
        {
          "output_type": "stream",
          "name": "stdout",
          "text": [
            "\t eval rmse: 1.7088\n",
            "\t eval mae: 1.3683\n",
            "==============================\n",
            "With lr_decay, epoch 255 learning rate: 1.3333544302440714e-05\n"
          ]
        },
        {
          "output_type": "stream",
          "name": "stderr",
          "text": [
            "train: 100%|██████████| 57/57 [00:00<00:00, 289.29it/s]\n"
          ]
        },
        {
          "output_type": "stream",
          "name": "stdout",
          "text": [
            "Epoch 255 elapsed: 0.203s\n",
            "\t \u001b[32mtrain_loss: 3.4831\u001b[0m\n"
          ]
        },
        {
          "output_type": "stream",
          "name": "stderr",
          "text": [
            "eval_pointwise: 100%|██████████| 1/1 [00:00<00:00, 619.54it/s]\n"
          ]
        },
        {
          "output_type": "stream",
          "name": "stdout",
          "text": [
            "\t eval rmse: 1.7115\n",
            "\t eval mae: 1.3695\n",
            "==============================\n",
            "With lr_decay, epoch 256 learning rate: 1.2800205695384648e-05\n"
          ]
        },
        {
          "output_type": "stream",
          "name": "stderr",
          "text": [
            "train: 100%|██████████| 57/57 [00:00<00:00, 291.20it/s]\n"
          ]
        },
        {
          "output_type": "stream",
          "name": "stdout",
          "text": [
            "Epoch 256 elapsed: 0.200s\n",
            "\t \u001b[32mtrain_loss: 3.4736\u001b[0m\n"
          ]
        },
        {
          "output_type": "stream",
          "name": "stderr",
          "text": [
            "eval_pointwise: 100%|██████████| 1/1 [00:00<00:00, 653.11it/s]\n"
          ]
        },
        {
          "output_type": "stream",
          "name": "stdout",
          "text": [
            "\t eval rmse: 1.7089\n",
            "\t eval mae: 1.3657\n",
            "==============================\n",
            "With lr_decay, epoch 257 learning rate: 1.2288192920095753e-05\n"
          ]
        },
        {
          "output_type": "stream",
          "name": "stderr",
          "text": [
            "train: 100%|██████████| 57/57 [00:00<00:00, 301.15it/s]\n"
          ]
        },
        {
          "output_type": "stream",
          "name": "stdout",
          "text": [
            "Epoch 257 elapsed: 0.192s\n",
            "\t \u001b[32mtrain_loss: 3.4099\u001b[0m\n"
          ]
        },
        {
          "output_type": "stream",
          "name": "stderr",
          "text": [
            "eval_pointwise: 100%|██████████| 1/1 [00:00<00:00, 296.00it/s]\n"
          ]
        },
        {
          "output_type": "stream",
          "name": "stdout",
          "text": [
            "\t eval rmse: 1.7139\n",
            "\t eval mae: 1.3694\n",
            "==============================\n",
            "With lr_decay, epoch 258 learning rate: 1.1796668331953697e-05\n"
          ]
        },
        {
          "output_type": "stream",
          "name": "stderr",
          "text": [
            "train: 100%|██████████| 57/57 [00:00<00:00, 287.31it/s]\n"
          ]
        },
        {
          "output_type": "stream",
          "name": "stdout",
          "text": [
            "Epoch 258 elapsed: 0.204s\n",
            "\t \u001b[32mtrain_loss: 3.4371\u001b[0m\n"
          ]
        },
        {
          "output_type": "stream",
          "name": "stderr",
          "text": [
            "eval_pointwise: 100%|██████████| 1/1 [00:00<00:00, 503.64it/s]\n"
          ]
        },
        {
          "output_type": "stream",
          "name": "stdout",
          "text": [
            "\t eval rmse: 1.7072\n",
            "\t eval mae: 1.3668\n",
            "==============================\n",
            "With lr_decay, epoch 259 learning rate: 1.1324797014822252e-05\n"
          ]
        },
        {
          "output_type": "stream",
          "name": "stderr",
          "text": [
            "train: 100%|██████████| 57/57 [00:00<00:00, 281.10it/s]\n"
          ]
        },
        {
          "output_type": "stream",
          "name": "stdout",
          "text": [
            "Epoch 259 elapsed: 0.206s\n",
            "\t \u001b[32mtrain_loss: 3.404\u001b[0m\n"
          ]
        },
        {
          "output_type": "stream",
          "name": "stderr",
          "text": [
            "eval_pointwise: 100%|██████████| 1/1 [00:00<00:00, 501.05it/s]\n"
          ]
        },
        {
          "output_type": "stream",
          "name": "stdout",
          "text": [
            "\t eval rmse: 1.7094\n",
            "\t eval mae: 1.3682\n",
            "==============================\n",
            "With lr_decay, epoch 260 learning rate: 1.0871808626689017e-05\n"
          ]
        },
        {
          "output_type": "stream",
          "name": "stderr",
          "text": [
            "train: 100%|██████████| 57/57 [00:00<00:00, 284.17it/s]\n"
          ]
        },
        {
          "output_type": "stream",
          "name": "stdout",
          "text": [
            "Epoch 260 elapsed: 0.204s\n",
            "\t \u001b[32mtrain_loss: 3.4114\u001b[0m\n"
          ]
        },
        {
          "output_type": "stream",
          "name": "stderr",
          "text": [
            "eval_pointwise: 100%|██████████| 1/1 [00:00<00:00, 606.46it/s]\n"
          ]
        },
        {
          "output_type": "stream",
          "name": "stdout",
          "text": [
            "\t eval rmse: 1.7100\n",
            "\t eval mae: 1.3691\n",
            "==============================\n",
            "With lr_decay, epoch 261 learning rate: 1.0436931916046888e-05\n"
          ]
        },
        {
          "output_type": "stream",
          "name": "stderr",
          "text": [
            "train: 100%|██████████| 57/57 [00:00<00:00, 293.77it/s]\n"
          ]
        },
        {
          "output_type": "stream",
          "name": "stdout",
          "text": [
            "Epoch 261 elapsed: 0.198s\n",
            "\t \u001b[32mtrain_loss: 3.3376\u001b[0m\n"
          ]
        },
        {
          "output_type": "stream",
          "name": "stderr",
          "text": [
            "eval_pointwise: 100%|██████████| 1/1 [00:00<00:00, 334.82it/s]\n"
          ]
        },
        {
          "output_type": "stream",
          "name": "stdout",
          "text": [
            "\t eval rmse: 1.7116\n",
            "\t eval mae: 1.3696\n",
            "==============================\n",
            "With lr_decay, epoch 262 learning rate: 1.0019458386523183e-05\n"
          ]
        },
        {
          "output_type": "stream",
          "name": "stderr",
          "text": [
            "train: 100%|██████████| 57/57 [00:00<00:00, 294.40it/s]\n"
          ]
        },
        {
          "output_type": "stream",
          "name": "stdout",
          "text": [
            "Epoch 262 elapsed: 0.197s\n",
            "\t \u001b[32mtrain_loss: 3.3148\u001b[0m\n"
          ]
        },
        {
          "output_type": "stream",
          "name": "stderr",
          "text": [
            "eval_pointwise: 100%|██████████| 1/1 [00:00<00:00, 367.60it/s]\n"
          ]
        },
        {
          "output_type": "stream",
          "name": "stdout",
          "text": [
            "\t eval rmse: 1.7134\n",
            "\t eval mae: 1.3694\n",
            "==============================\n",
            "With lr_decay, epoch 263 learning rate: 9.618675903766416e-06\n"
          ]
        },
        {
          "output_type": "stream",
          "name": "stderr",
          "text": [
            "train: 100%|██████████| 57/57 [00:00<00:00, 300.44it/s]\n"
          ]
        },
        {
          "output_type": "stream",
          "name": "stdout",
          "text": [
            "Epoch 263 elapsed: 0.193s\n",
            "\t \u001b[32mtrain_loss: 3.3667\u001b[0m\n"
          ]
        },
        {
          "output_type": "stream",
          "name": "stderr",
          "text": [
            "eval_pointwise: 100%|██████████| 1/1 [00:00<00:00, 390.86it/s]\n"
          ]
        },
        {
          "output_type": "stream",
          "name": "stdout",
          "text": [
            "\t eval rmse: 1.7146\n",
            "\t eval mae: 1.3718\n",
            "==============================\n",
            "With lr_decay, epoch 264 learning rate: 9.233931450580712e-06\n"
          ]
        },
        {
          "output_type": "stream",
          "name": "stderr",
          "text": [
            "train: 100%|██████████| 57/57 [00:00<00:00, 304.72it/s]\n"
          ]
        },
        {
          "output_type": "stream",
          "name": "stdout",
          "text": [
            "Epoch 264 elapsed: 0.190s\n",
            "\t \u001b[32mtrain_loss: 3.3741\u001b[0m\n"
          ]
        },
        {
          "output_type": "stream",
          "name": "stderr",
          "text": [
            "eval_pointwise: 100%|██████████| 1/1 [00:00<00:00, 278.54it/s]\n"
          ]
        },
        {
          "output_type": "stream",
          "name": "stdout",
          "text": [
            "\t eval rmse: 1.7109\n",
            "\t eval mae: 1.3694\n",
            "==============================\n",
            "With lr_decay, epoch 265 learning rate: 8.864576557243709e-06\n"
          ]
        },
        {
          "output_type": "stream",
          "name": "stderr",
          "text": [
            "train: 100%|██████████| 57/57 [00:00<00:00, 305.82it/s]\n"
          ]
        },
        {
          "output_type": "stream",
          "name": "stdout",
          "text": [
            "Epoch 265 elapsed: 0.190s\n",
            "\t \u001b[32mtrain_loss: 3.315\u001b[0m\n"
          ]
        },
        {
          "output_type": "stream",
          "name": "stderr",
          "text": [
            "eval_pointwise: 100%|██████████| 1/1 [00:00<00:00, 615.36it/s]\n"
          ]
        },
        {
          "output_type": "stream",
          "name": "stdout",
          "text": [
            "\t eval rmse: 1.7155\n",
            "\t eval mae: 1.3726\n",
            "==============================\n",
            "With lr_decay, epoch 266 learning rate: 8.509990038874093e-06\n"
          ]
        },
        {
          "output_type": "stream",
          "name": "stderr",
          "text": [
            "train: 100%|██████████| 57/57 [00:00<00:00, 303.37it/s]\n"
          ]
        },
        {
          "output_type": "stream",
          "name": "stdout",
          "text": [
            "Epoch 266 elapsed: 0.191s\n",
            "\t \u001b[32mtrain_loss: 3.398\u001b[0m\n"
          ]
        },
        {
          "output_type": "stream",
          "name": "stderr",
          "text": [
            "eval_pointwise: 100%|██████████| 1/1 [00:00<00:00, 399.88it/s]\n"
          ]
        },
        {
          "output_type": "stream",
          "name": "stdout",
          "text": [
            "\t eval rmse: 1.7146\n",
            "\t eval mae: 1.3722\n",
            "==============================\n",
            "With lr_decay, epoch 267 learning rate: 8.169592547346838e-06\n"
          ]
        },
        {
          "output_type": "stream",
          "name": "stderr",
          "text": [
            "train: 100%|██████████| 57/57 [00:00<00:00, 299.32it/s]\n"
          ]
        },
        {
          "output_type": "stream",
          "name": "stdout",
          "text": [
            "Epoch 267 elapsed: 0.195s\n",
            "\t \u001b[32mtrain_loss: 3.4009\u001b[0m\n"
          ]
        },
        {
          "output_type": "stream",
          "name": "stderr",
          "text": [
            "eval_pointwise: 100%|██████████| 1/1 [00:00<00:00, 548.42it/s]\n"
          ]
        },
        {
          "output_type": "stream",
          "name": "stdout",
          "text": [
            "\t eval rmse: 1.7115\n",
            "\t eval mae: 1.3715\n",
            "==============================\n",
            "With lr_decay, epoch 268 learning rate: 7.842806553526316e-06\n"
          ]
        },
        {
          "output_type": "stream",
          "name": "stderr",
          "text": [
            "train: 100%|██████████| 57/57 [00:00<00:00, 298.30it/s]\n"
          ]
        },
        {
          "output_type": "stream",
          "name": "stdout",
          "text": [
            "Epoch 268 elapsed: 0.194s\n",
            "\t \u001b[32mtrain_loss: 3.4246\u001b[0m\n"
          ]
        },
        {
          "output_type": "stream",
          "name": "stderr",
          "text": [
            "eval_pointwise: 100%|██████████| 1/1 [00:00<00:00, 421.79it/s]\n"
          ]
        },
        {
          "output_type": "stream",
          "name": "stdout",
          "text": [
            "\t eval rmse: 1.7126\n",
            "\t eval mae: 1.3719\n",
            "==============================\n",
            "With lr_decay, epoch 269 learning rate: 7.529095910285832e-06\n"
          ]
        },
        {
          "output_type": "stream",
          "name": "stderr",
          "text": [
            "train: 100%|██████████| 57/57 [00:00<00:00, 302.86it/s]\n"
          ]
        },
        {
          "output_type": "stream",
          "name": "stdout",
          "text": [
            "Epoch 269 elapsed: 0.193s\n",
            "\t \u001b[32mtrain_loss: 3.369\u001b[0m\n"
          ]
        },
        {
          "output_type": "stream",
          "name": "stderr",
          "text": [
            "eval_pointwise: 100%|██████████| 1/1 [00:00<00:00, 413.03it/s]\n"
          ]
        },
        {
          "output_type": "stream",
          "name": "stdout",
          "text": [
            "\t eval rmse: 1.7092\n",
            "\t eval mae: 1.3673\n",
            "==============================\n",
            "With lr_decay, epoch 270 learning rate: 7.227929472719552e-06\n"
          ]
        },
        {
          "output_type": "stream",
          "name": "stderr",
          "text": [
            "train: 100%|██████████| 57/57 [00:00<00:00, 299.40it/s]\n"
          ]
        },
        {
          "output_type": "stream",
          "name": "stdout",
          "text": [
            "Epoch 270 elapsed: 0.193s\n",
            "\t \u001b[32mtrain_loss: 3.416\u001b[0m\n"
          ]
        },
        {
          "output_type": "stream",
          "name": "stderr",
          "text": [
            "eval_pointwise: 100%|██████████| 1/1 [00:00<00:00, 396.03it/s]\n"
          ]
        },
        {
          "output_type": "stream",
          "name": "stdout",
          "text": [
            "\t eval rmse: 1.7096\n",
            "\t eval mae: 1.3684\n",
            "==============================\n",
            "With lr_decay, epoch 271 learning rate: 6.938809747225605e-06\n"
          ]
        },
        {
          "output_type": "stream",
          "name": "stderr",
          "text": [
            "train: 100%|██████████| 57/57 [00:00<00:00, 302.46it/s]\n"
          ]
        },
        {
          "output_type": "stream",
          "name": "stdout",
          "text": [
            "Epoch 271 elapsed: 0.192s\n",
            "\t \u001b[32mtrain_loss: 3.2858\u001b[0m\n"
          ]
        },
        {
          "output_type": "stream",
          "name": "stderr",
          "text": [
            "eval_pointwise: 100%|██████████| 1/1 [00:00<00:00, 377.83it/s]\n"
          ]
        },
        {
          "output_type": "stream",
          "name": "stdout",
          "text": [
            "\t eval rmse: 1.7085\n",
            "\t eval mae: 1.3663\n",
            "==============================\n",
            "With lr_decay, epoch 272 learning rate: 6.661263796559069e-06\n"
          ]
        },
        {
          "output_type": "stream",
          "name": "stderr",
          "text": [
            "train: 100%|██████████| 57/57 [00:00<00:00, 310.59it/s]\n"
          ]
        },
        {
          "output_type": "stream",
          "name": "stdout",
          "text": [
            "Epoch 272 elapsed: 0.187s\n",
            "\t \u001b[32mtrain_loss: 3.3435\u001b[0m\n"
          ]
        },
        {
          "output_type": "stream",
          "name": "stderr",
          "text": [
            "eval_pointwise: 100%|██████████| 1/1 [00:00<00:00, 233.80it/s]\n"
          ]
        },
        {
          "output_type": "stream",
          "name": "stdout",
          "text": [
            "\t eval rmse: 1.7105\n",
            "\t eval mae: 1.3671\n",
            "==============================\n",
            "With lr_decay, epoch 273 learning rate: 6.394810498022707e-06\n"
          ]
        },
        {
          "output_type": "stream",
          "name": "stderr",
          "text": [
            "train: 100%|██████████| 57/57 [00:00<00:00, 294.97it/s]\n"
          ]
        },
        {
          "output_type": "stream",
          "name": "stdout",
          "text": [
            "Epoch 273 elapsed: 0.198s\n",
            "\t \u001b[32mtrain_loss: 3.329\u001b[0m\n"
          ]
        },
        {
          "output_type": "stream",
          "name": "stderr",
          "text": [
            "eval_pointwise: 100%|██████████| 1/1 [00:00<00:00, 408.80it/s]\n"
          ]
        },
        {
          "output_type": "stream",
          "name": "stdout",
          "text": [
            "\t eval rmse: 1.7132\n",
            "\t eval mae: 1.3684\n",
            "==============================\n",
            "With lr_decay, epoch 274 learning rate: 6.139015567896422e-06\n"
          ]
        },
        {
          "output_type": "stream",
          "name": "stderr",
          "text": [
            "train: 100%|██████████| 57/57 [00:00<00:00, 302.49it/s]\n"
          ]
        },
        {
          "output_type": "stream",
          "name": "stdout",
          "text": [
            "Epoch 274 elapsed: 0.193s\n",
            "\t \u001b[32mtrain_loss: 3.4043\u001b[0m\n"
          ]
        },
        {
          "output_type": "stream",
          "name": "stderr",
          "text": [
            "eval_pointwise: 100%|██████████| 1/1 [00:00<00:00, 671.30it/s]"
          ]
        },
        {
          "output_type": "stream",
          "name": "stdout",
          "text": [
            "\t eval rmse: 1.7087\n",
            "\t eval mae: 1.3672\n",
            "==============================\n"
          ]
        },
        {
          "output_type": "stream",
          "name": "stderr",
          "text": [
            "\n"
          ]
        },
        {
          "output_type": "stream",
          "name": "stdout",
          "text": [
            "With lr_decay, epoch 275 learning rate: 5.893452907912433e-06\n"
          ]
        },
        {
          "output_type": "stream",
          "name": "stderr",
          "text": [
            "train: 100%|██████████| 57/57 [00:00<00:00, 303.60it/s]\n"
          ]
        },
        {
          "output_type": "stream",
          "name": "stdout",
          "text": [
            "Epoch 275 elapsed: 0.194s\n",
            "\t \u001b[32mtrain_loss: 3.4144\u001b[0m\n"
          ]
        },
        {
          "output_type": "stream",
          "name": "stderr",
          "text": [
            "eval_pointwise: 100%|██████████| 1/1 [00:00<00:00, 390.71it/s]\n"
          ]
        },
        {
          "output_type": "stream",
          "name": "stdout",
          "text": [
            "\t eval rmse: 1.7089\n",
            "\t eval mae: 1.3651\n",
            "==============================\n",
            "With lr_decay, epoch 276 learning rate: 5.657720066665206e-06\n"
          ]
        },
        {
          "output_type": "stream",
          "name": "stderr",
          "text": [
            "train: 100%|██████████| 57/57 [00:00<00:00, 310.28it/s]\n"
          ]
        },
        {
          "output_type": "stream",
          "name": "stdout",
          "text": [
            "Epoch 276 elapsed: 0.189s\n",
            "\t \u001b[32mtrain_loss: 3.4335\u001b[0m\n"
          ]
        },
        {
          "output_type": "stream",
          "name": "stderr",
          "text": [
            "eval_pointwise: 100%|██████████| 1/1 [00:00<00:00, 584.25it/s]\n"
          ]
        },
        {
          "output_type": "stream",
          "name": "stdout",
          "text": [
            "\t eval rmse: 1.7099\n",
            "\t eval mae: 1.3662\n",
            "==============================\n",
            "With lr_decay, epoch 277 learning rate: 5.431409135780996e-06\n"
          ]
        },
        {
          "output_type": "stream",
          "name": "stderr",
          "text": [
            "train: 100%|██████████| 57/57 [00:00<00:00, 308.60it/s]\n"
          ]
        },
        {
          "output_type": "stream",
          "name": "stdout",
          "text": [
            "Epoch 277 elapsed: 0.189s\n",
            "\t \u001b[32mtrain_loss: 3.3533\u001b[0m\n"
          ]
        },
        {
          "output_type": "stream",
          "name": "stderr",
          "text": [
            "eval_pointwise: 100%|██████████| 1/1 [00:00<00:00, 722.78it/s]\n"
          ]
        },
        {
          "output_type": "stream",
          "name": "stdout",
          "text": [
            "\t eval rmse: 1.7098\n",
            "\t eval mae: 1.3662\n",
            "==============================\n",
            "With lr_decay, epoch 278 learning rate: 5.214150860410882e-06\n"
          ]
        },
        {
          "output_type": "stream",
          "name": "stderr",
          "text": [
            "train: 100%|██████████| 57/57 [00:00<00:00, 296.70it/s]\n"
          ]
        },
        {
          "output_type": "stream",
          "name": "stdout",
          "text": [
            "Epoch 278 elapsed: 0.196s\n",
            "\t \u001b[32mtrain_loss: 3.3126\u001b[0m\n"
          ]
        },
        {
          "output_type": "stream",
          "name": "stderr",
          "text": [
            "eval_pointwise: 100%|██████████| 1/1 [00:00<00:00, 296.10it/s]\n"
          ]
        },
        {
          "output_type": "stream",
          "name": "stdout",
          "text": [
            "\t eval rmse: 1.7151\n",
            "\t eval mae: 1.3689\n",
            "==============================\n",
            "With lr_decay, epoch 279 learning rate: 5.005589628126472e-06\n"
          ]
        },
        {
          "output_type": "stream",
          "name": "stderr",
          "text": [
            "train: 100%|██████████| 57/57 [00:00<00:00, 301.81it/s]\n"
          ]
        },
        {
          "output_type": "stream",
          "name": "stdout",
          "text": [
            "Epoch 279 elapsed: 0.193s\n",
            "\t \u001b[32mtrain_loss: 3.4331\u001b[0m\n"
          ]
        },
        {
          "output_type": "stream",
          "name": "stderr",
          "text": [
            "eval_pointwise: 100%|██████████| 1/1 [00:00<00:00, 560.96it/s]\n"
          ]
        },
        {
          "output_type": "stream",
          "name": "stdout",
          "text": [
            "\t eval rmse: 1.7124\n",
            "\t eval mae: 1.3682\n",
            "==============================\n",
            "With lr_decay, epoch 280 learning rate: 4.805364369531162e-06\n"
          ]
        },
        {
          "output_type": "stream",
          "name": "stderr",
          "text": [
            "train: 100%|██████████| 57/57 [00:00<00:00, 305.29it/s]\n"
          ]
        },
        {
          "output_type": "stream",
          "name": "stdout",
          "text": [
            "Epoch 280 elapsed: 0.190s\n",
            "\t \u001b[32mtrain_loss: 3.4764\u001b[0m\n"
          ]
        },
        {
          "output_type": "stream",
          "name": "stderr",
          "text": [
            "eval_pointwise: 100%|██████████| 1/1 [00:00<00:00, 625.18it/s]\n"
          ]
        },
        {
          "output_type": "stream",
          "name": "stdout",
          "text": [
            "\t eval rmse: 1.7084\n",
            "\t eval mae: 1.3658\n",
            "==============================\n",
            "With lr_decay, epoch 281 learning rate: 4.428620286489604e-06\n"
          ]
        },
        {
          "output_type": "stream",
          "name": "stderr",
          "text": [
            "train: 100%|██████████| 57/57 [00:00<00:00, 308.50it/s]\n"
          ]
        },
        {
          "output_type": "stream",
          "name": "stdout",
          "text": [
            "Epoch 281 elapsed: 0.189s\n",
            "\t \u001b[32mtrain_loss: 3.3359\u001b[0m\n"
          ]
        },
        {
          "output_type": "stream",
          "name": "stderr",
          "text": [
            "eval_pointwise: 100%|██████████| 1/1 [00:00<00:00, 635.98it/s]\n"
          ]
        },
        {
          "output_type": "stream",
          "name": "stdout",
          "text": [
            "\t eval rmse: 1.7127\n",
            "\t eval mae: 1.3689\n",
            "==============================\n",
            "With lr_decay, epoch 282 learning rate: 4.2514793676673435e-06\n"
          ]
        },
        {
          "output_type": "stream",
          "name": "stderr",
          "text": [
            "train: 100%|██████████| 57/57 [00:00<00:00, 302.91it/s]\n"
          ]
        },
        {
          "output_type": "stream",
          "name": "stdout",
          "text": [
            "Epoch 282 elapsed: 0.192s\n",
            "\t \u001b[32mtrain_loss: 3.4759\u001b[0m\n"
          ]
        },
        {
          "output_type": "stream",
          "name": "stderr",
          "text": [
            "eval_pointwise: 100%|██████████| 1/1 [00:00<00:00, 284.32it/s]\n"
          ]
        },
        {
          "output_type": "stream",
          "name": "stdout",
          "text": [
            "\t eval rmse: 1.7136\n",
            "\t eval mae: 1.3698\n",
            "==============================\n",
            "With lr_decay, epoch 283 learning rate: 4.081418865098385e-06\n"
          ]
        },
        {
          "output_type": "stream",
          "name": "stderr",
          "text": [
            "train: 100%|██████████| 57/57 [00:00<00:00, 296.35it/s]\n"
          ]
        },
        {
          "output_type": "stream",
          "name": "stdout",
          "text": [
            "Epoch 283 elapsed: 0.196s\n",
            "\t \u001b[32mtrain_loss: 3.3584\u001b[0m\n"
          ]
        },
        {
          "output_type": "stream",
          "name": "stderr",
          "text": [
            "eval_pointwise: 100%|██████████| 1/1 [00:00<00:00, 574.72it/s]\n"
          ]
        },
        {
          "output_type": "stream",
          "name": "stdout",
          "text": [
            "\t eval rmse: 1.7103\n",
            "\t eval mae: 1.3694\n",
            "==============================\n",
            "With lr_decay, epoch 284 learning rate: 3.9181604734039865e-06\n"
          ]
        },
        {
          "output_type": "stream",
          "name": "stderr",
          "text": [
            "train: 100%|██████████| 57/57 [00:00<00:00, 303.57it/s]\n"
          ]
        },
        {
          "output_type": "stream",
          "name": "stdout",
          "text": [
            "Epoch 284 elapsed: 0.192s\n",
            "\t \u001b[32mtrain_loss: 3.2615\u001b[0m\n"
          ]
        },
        {
          "output_type": "stream",
          "name": "stderr",
          "text": [
            "eval_pointwise: 100%|██████████| 1/1 [00:00<00:00, 728.94it/s]\n"
          ]
        },
        {
          "output_type": "stream",
          "name": "stdout",
          "text": [
            "\t eval rmse: 1.7092\n",
            "\t eval mae: 1.3686\n",
            "==============================\n",
            "With lr_decay, epoch 285 learning rate: 3.7614327084156685e-06\n"
          ]
        },
        {
          "output_type": "stream",
          "name": "stderr",
          "text": [
            "train: 100%|██████████| 57/57 [00:00<00:00, 297.31it/s]\n"
          ]
        },
        {
          "output_type": "stream",
          "name": "stdout",
          "text": [
            "Epoch 285 elapsed: 0.195s\n",
            "\t \u001b[32mtrain_loss: 3.4093\u001b[0m\n"
          ]
        },
        {
          "output_type": "stream",
          "name": "stderr",
          "text": [
            "eval_pointwise: 100%|██████████| 1/1 [00:00<00:00, 425.13it/s]\n"
          ]
        },
        {
          "output_type": "stream",
          "name": "stdout",
          "text": [
            "\t eval rmse: 1.7070\n",
            "\t eval mae: 1.3669\n",
            "==============================\n",
            "With lr_decay, epoch 286 learning rate: 3.61097863788018e-06\n"
          ]
        },
        {
          "output_type": "stream",
          "name": "stderr",
          "text": [
            "train: 100%|██████████| 57/57 [00:00<00:00, 305.05it/s]\n"
          ]
        },
        {
          "output_type": "stream",
          "name": "stdout",
          "text": [
            "Epoch 286 elapsed: 0.190s\n",
            "\t \u001b[32mtrain_loss: 3.57\u001b[0m\n"
          ]
        },
        {
          "output_type": "stream",
          "name": "stderr",
          "text": [
            "eval_pointwise: 100%|██████████| 1/1 [00:00<00:00, 516.99it/s]"
          ]
        },
        {
          "output_type": "stream",
          "name": "stdout",
          "text": [
            "\t eval rmse: 1.7100\n",
            "\t eval mae: 1.3710\n",
            "==============================\n"
          ]
        },
        {
          "output_type": "stream",
          "name": "stderr",
          "text": [
            "\n"
          ]
        },
        {
          "output_type": "stream",
          "name": "stdout",
          "text": [
            "With lr_decay, epoch 287 learning rate: 3.466538146312814e-06\n"
          ]
        },
        {
          "output_type": "stream",
          "name": "stderr",
          "text": [
            "train: 100%|██████████| 57/57 [00:00<00:00, 304.53it/s]\n"
          ]
        },
        {
          "output_type": "stream",
          "name": "stdout",
          "text": [
            "Epoch 287 elapsed: 0.191s\n",
            "\t \u001b[32mtrain_loss: 3.6104\u001b[0m\n"
          ]
        },
        {
          "output_type": "stream",
          "name": "stderr",
          "text": [
            "eval_pointwise: 100%|██████████| 1/1 [00:00<00:00, 459.05it/s]"
          ]
        },
        {
          "output_type": "stream",
          "name": "stdout",
          "text": [
            "\t eval rmse: 1.7100"
          ]
        },
        {
          "output_type": "stream",
          "name": "stderr",
          "text": [
            "\n"
          ]
        },
        {
          "output_type": "stream",
          "name": "stdout",
          "text": [
            "\n",
            "\t eval mae: 1.3701\n",
            "==============================\n",
            "With lr_decay, epoch 288 learning rate: 3.3278754472121364e-06\n"
          ]
        },
        {
          "output_type": "stream",
          "name": "stderr",
          "text": [
            "train: 100%|██████████| 57/57 [00:00<00:00, 293.51it/s]\n"
          ]
        },
        {
          "output_type": "stream",
          "name": "stdout",
          "text": [
            "Epoch 288 elapsed: 0.199s\n",
            "\t \u001b[32mtrain_loss: 3.4064\u001b[0m\n"
          ]
        },
        {
          "output_type": "stream",
          "name": "stderr",
          "text": [
            "eval_pointwise: 100%|██████████| 1/1 [00:00<00:00, 324.64it/s]\n"
          ]
        },
        {
          "output_type": "stream",
          "name": "stdout",
          "text": [
            "\t eval rmse: 1.7134\n",
            "\t eval mae: 1.3751\n",
            "==============================\n",
            "With lr_decay, epoch 289 learning rate: 3.1947633942763787e-06\n"
          ]
        },
        {
          "output_type": "stream",
          "name": "stderr",
          "text": [
            "train: 100%|██████████| 57/57 [00:00<00:00, 305.79it/s]\n"
          ]
        },
        {
          "output_type": "stream",
          "name": "stdout",
          "text": [
            "Epoch 289 elapsed: 0.190s\n",
            "\t \u001b[32mtrain_loss: 3.3829\u001b[0m\n"
          ]
        },
        {
          "output_type": "stream",
          "name": "stderr",
          "text": [
            "eval_pointwise: 100%|██████████| 1/1 [00:00<00:00, 505.70it/s]\n"
          ]
        },
        {
          "output_type": "stream",
          "name": "stdout",
          "text": [
            "\t eval rmse: 1.7121\n",
            "\t eval mae: 1.3751\n",
            "==============================\n",
            "With lr_decay, epoch 290 learning rate: 3.066971657972317e-06\n"
          ]
        },
        {
          "output_type": "stream",
          "name": "stderr",
          "text": [
            "train: 100%|██████████| 57/57 [00:00<00:00, 302.42it/s]\n"
          ]
        },
        {
          "output_type": "stream",
          "name": "stdout",
          "text": [
            "Epoch 290 elapsed: 0.192s\n",
            "\t \u001b[32mtrain_loss: 3.3857\u001b[0m\n"
          ]
        },
        {
          "output_type": "stream",
          "name": "stderr",
          "text": [
            "eval_pointwise: 100%|██████████| 1/1 [00:00<00:00, 303.43it/s]"
          ]
        },
        {
          "output_type": "stream",
          "name": "stdout",
          "text": [
            "\t eval rmse: 1.7143\n"
          ]
        },
        {
          "output_type": "stream",
          "name": "stderr",
          "text": [
            "\n"
          ]
        },
        {
          "output_type": "stream",
          "name": "stdout",
          "text": [
            "\t eval mae: 1.3776\n",
            "==============================\n",
            "With lr_decay, epoch 291 learning rate: 2.9442917366395704e-06\n"
          ]
        },
        {
          "output_type": "stream",
          "name": "stderr",
          "text": [
            "train: 100%|██████████| 57/57 [00:00<00:00, 299.06it/s]\n"
          ]
        },
        {
          "output_type": "stream",
          "name": "stdout",
          "text": [
            "Epoch 291 elapsed: 0.194s\n",
            "\t \u001b[32mtrain_loss: 3.4095\u001b[0m\n"
          ]
        },
        {
          "output_type": "stream",
          "name": "stderr",
          "text": [
            "eval_pointwise: 100%|██████████| 1/1 [00:00<00:00, 280.42it/s]\n"
          ]
        },
        {
          "output_type": "stream",
          "name": "stdout",
          "text": [
            "\t eval rmse: 1.7155\n",
            "\t eval mae: 1.3736\n",
            "==============================\n",
            "With lr_decay, epoch 292 learning rate: 2.8265189939702395e-06\n"
          ]
        },
        {
          "output_type": "stream",
          "name": "stderr",
          "text": [
            "train: 100%|██████████| 57/57 [00:00<00:00, 298.92it/s]\n"
          ]
        },
        {
          "output_type": "stream",
          "name": "stdout",
          "text": [
            "Epoch 292 elapsed: 0.194s\n",
            "\t \u001b[32mtrain_loss: 3.3684\u001b[0m\n"
          ]
        },
        {
          "output_type": "stream",
          "name": "stderr",
          "text": [
            "eval_pointwise: 100%|██████████| 1/1 [00:00<00:00, 632.43it/s]\n"
          ]
        },
        {
          "output_type": "stream",
          "name": "stdout",
          "text": [
            "\t eval rmse: 1.7176\n",
            "\t eval mae: 1.3725\n",
            "==============================\n",
            "With lr_decay, epoch 293 learning rate: 2.713460844461224e-06\n"
          ]
        },
        {
          "output_type": "stream",
          "name": "stderr",
          "text": [
            "train: 100%|██████████| 57/57 [00:00<00:00, 299.00it/s]\n"
          ]
        },
        {
          "output_type": "stream",
          "name": "stdout",
          "text": [
            "Epoch 293 elapsed: 0.194s\n",
            "\t \u001b[32mtrain_loss: 3.3032\u001b[0m\n"
          ]
        },
        {
          "output_type": "stream",
          "name": "stderr",
          "text": [
            "eval_pointwise: 100%|██████████| 1/1 [00:00<00:00, 308.40it/s]\n"
          ]
        },
        {
          "output_type": "stream",
          "name": "stdout",
          "text": [
            "\t eval rmse: 1.7157\n",
            "\t eval mae: 1.3708\n",
            "==============================\n",
            "With lr_decay, epoch 294 learning rate: 2.604921292004292e-06\n"
          ]
        },
        {
          "output_type": "stream",
          "name": "stderr",
          "text": [
            "train: 100%|██████████| 57/57 [00:00<00:00, 300.19it/s]\n"
          ]
        },
        {
          "output_type": "stream",
          "name": "stdout",
          "text": [
            "Epoch 294 elapsed: 0.193s\n",
            "\t \u001b[32mtrain_loss: 3.5618\u001b[0m\n"
          ]
        },
        {
          "output_type": "stream",
          "name": "stderr",
          "text": [
            "eval_pointwise: 100%|██████████| 1/1 [00:00<00:00, 429.44it/s]\n"
          ]
        },
        {
          "output_type": "stream",
          "name": "stdout",
          "text": [
            "\t eval rmse: 1.7131\n",
            "\t eval mae: 1.3704\n",
            "==============================\n",
            "With lr_decay, epoch 295 learning rate: 2.5007234398799483e-06\n"
          ]
        },
        {
          "output_type": "stream",
          "name": "stderr",
          "text": [
            "train: 100%|██████████| 57/57 [00:00<00:00, 302.45it/s]\n"
          ]
        },
        {
          "output_type": "stream",
          "name": "stdout",
          "text": [
            "Epoch 295 elapsed: 0.191s\n",
            "\t \u001b[32mtrain_loss: 3.3618\u001b[0m\n"
          ]
        },
        {
          "output_type": "stream",
          "name": "stderr",
          "text": [
            "eval_pointwise: 100%|██████████| 1/1 [00:00<00:00, 565.96it/s]\n"
          ]
        },
        {
          "output_type": "stream",
          "name": "stdout",
          "text": [
            "\t eval rmse: 1.7110\n",
            "\t eval mae: 1.3694\n",
            "==============================\n",
            "With lr_decay, epoch 296 learning rate: 2.4006935746001545e-06\n"
          ]
        },
        {
          "output_type": "stream",
          "name": "stderr",
          "text": [
            "train: 100%|██████████| 57/57 [00:00<00:00, 305.82it/s]\n"
          ]
        },
        {
          "output_type": "stream",
          "name": "stdout",
          "text": [
            "Epoch 296 elapsed: 0.190s\n",
            "\t \u001b[32mtrain_loss: 3.3445\u001b[0m\n"
          ]
        },
        {
          "output_type": "stream",
          "name": "stderr",
          "text": [
            "eval_pointwise: 100%|██████████| 1/1 [00:00<00:00, 281.29it/s]\n"
          ]
        },
        {
          "output_type": "stream",
          "name": "stdout",
          "text": [
            "\t eval rmse: 1.7095\n",
            "\t eval mae: 1.3684\n",
            "==============================\n",
            "With lr_decay, epoch 297 learning rate: 2.304668214492267e-06\n"
          ]
        },
        {
          "output_type": "stream",
          "name": "stderr",
          "text": [
            "train: 100%|██████████| 57/57 [00:00<00:00, 295.84it/s]\n"
          ]
        },
        {
          "output_type": "stream",
          "name": "stdout",
          "text": [
            "Epoch 297 elapsed: 0.197s\n",
            "\t \u001b[32mtrain_loss: 3.4753\u001b[0m\n"
          ]
        },
        {
          "output_type": "stream",
          "name": "stderr",
          "text": [
            "eval_pointwise: 100%|██████████| 1/1 [00:00<00:00, 407.21it/s]\n"
          ]
        },
        {
          "output_type": "stream",
          "name": "stdout",
          "text": [
            "\t eval rmse: 1.7085\n",
            "\t eval mae: 1.3683\n",
            "==============================\n",
            "With lr_decay, epoch 298 learning rate: 2.2124804672785103e-06\n"
          ]
        },
        {
          "output_type": "stream",
          "name": "stderr",
          "text": [
            "train: 100%|██████████| 57/57 [00:00<00:00, 299.06it/s]\n"
          ]
        },
        {
          "output_type": "stream",
          "name": "stdout",
          "text": [
            "Epoch 298 elapsed: 0.194s\n",
            "\t \u001b[32mtrain_loss: 3.3345\u001b[0m\n"
          ]
        },
        {
          "output_type": "stream",
          "name": "stderr",
          "text": [
            "eval_pointwise: 100%|██████████| 1/1 [00:00<00:00, 649.78it/s]\n"
          ]
        },
        {
          "output_type": "stream",
          "name": "stdout",
          "text": [
            "\t eval rmse: 1.7097\n",
            "\t eval mae: 1.3699\n",
            "==============================\n",
            "With lr_decay, epoch 299 learning rate: 2.1239804937067674e-06\n"
          ]
        },
        {
          "output_type": "stream",
          "name": "stderr",
          "text": [
            "train: 100%|██████████| 57/57 [00:00<00:00, 306.16it/s]\n"
          ]
        },
        {
          "output_type": "stream",
          "name": "stdout",
          "text": [
            "Epoch 299 elapsed: 0.189s\n",
            "\t \u001b[32mtrain_loss: 3.3806\u001b[0m\n"
          ]
        },
        {
          "output_type": "stream",
          "name": "stderr",
          "text": [
            "eval_pointwise: 100%|██████████| 1/1 [00:00<00:00, 436.09it/s]\n"
          ]
        },
        {
          "output_type": "stream",
          "name": "stdout",
          "text": [
            "\t eval rmse: 1.7096\n",
            "\t eval mae: 1.3693\n",
            "==============================\n",
            "With lr_decay, epoch 300 learning rate: 2.0390232293721056e-06\n"
          ]
        },
        {
          "output_type": "stream",
          "name": "stderr",
          "text": [
            "train: 100%|██████████| 57/57 [00:00<00:00, 308.50it/s]\n"
          ]
        },
        {
          "output_type": "stream",
          "name": "stdout",
          "text": [
            "Epoch 300 elapsed: 0.188s\n",
            "\t \u001b[32mtrain_loss: 3.3375\u001b[0m\n"
          ]
        },
        {
          "output_type": "stream",
          "name": "stderr",
          "text": [
            "eval_pointwise: 100%|██████████| 1/1 [00:00<00:00, 294.63it/s]\n"
          ]
        },
        {
          "output_type": "stream",
          "name": "stdout",
          "text": [
            "\t eval rmse: 1.7292\n",
            "\t eval mae: 1.3776\n",
            "==============================\n",
            "With lr_decay, epoch 301 learning rate: 1.957461563506513e-06\n"
          ]
        },
        {
          "output_type": "stream",
          "name": "stderr",
          "text": [
            "train: 100%|██████████| 57/57 [00:00<00:00, 304.34it/s]\n"
          ]
        },
        {
          "output_type": "stream",
          "name": "stdout",
          "text": [
            "Epoch 301 elapsed: 0.190s\n",
            "\t \u001b[32mtrain_loss: 3.386\u001b[0m\n"
          ]
        },
        {
          "output_type": "stream",
          "name": "stderr",
          "text": [
            "eval_pointwise: 100%|██████████| 1/1 [00:00<00:00, 677.16it/s]\n"
          ]
        },
        {
          "output_type": "stream",
          "name": "stdout",
          "text": [
            "\t eval rmse: 1.7308\n",
            "\t eval mae: 1.3776\n",
            "==============================\n",
            "With lr_decay, epoch 302 learning rate: 1.8791623688230175e-06\n"
          ]
        },
        {
          "output_type": "stream",
          "name": "stderr",
          "text": [
            "train: 100%|██████████| 57/57 [00:00<00:00, 300.33it/s]\n"
          ]
        },
        {
          "output_type": "stream",
          "name": "stdout",
          "text": [
            "Epoch 302 elapsed: 0.194s\n",
            "\t \u001b[32mtrain_loss: 3.5142\u001b[0m\n"
          ]
        },
        {
          "output_type": "stream",
          "name": "stderr",
          "text": [
            "eval_pointwise: 100%|██████████| 1/1 [00:00<00:00, 473.61it/s]\n"
          ]
        },
        {
          "output_type": "stream",
          "name": "stdout",
          "text": [
            "\t eval rmse: 1.7168\n",
            "\t eval mae: 1.3713\n",
            "==============================\n",
            "With lr_decay, epoch 303 learning rate: 1.8039951328319148e-06\n"
          ]
        },
        {
          "output_type": "stream",
          "name": "stderr",
          "text": [
            "train: 100%|██████████| 57/57 [00:00<00:00, 298.83it/s]\n"
          ]
        },
        {
          "output_type": "stream",
          "name": "stdout",
          "text": [
            "Epoch 303 elapsed: 0.194s\n",
            "\t \u001b[32mtrain_loss: 3.476\u001b[0m\n"
          ]
        },
        {
          "output_type": "stream",
          "name": "stderr",
          "text": [
            "eval_pointwise: 100%|██████████| 1/1 [00:00<00:00, 500.10it/s]\n"
          ]
        },
        {
          "output_type": "stream",
          "name": "stdout",
          "text": [
            "\t eval rmse: 1.7142\n",
            "\t eval mae: 1.3701\n",
            "==============================\n",
            "With lr_decay, epoch 304 learning rate: 1.731836960061628e-06\n"
          ]
        },
        {
          "output_type": "stream",
          "name": "stderr",
          "text": [
            "train: 100%|██████████| 57/57 [00:00<00:00, 300.23it/s]\n"
          ]
        },
        {
          "output_type": "stream",
          "name": "stdout",
          "text": [
            "Epoch 304 elapsed: 0.193s\n",
            "\t \u001b[32mtrain_loss: 3.3496\u001b[0m\n"
          ]
        },
        {
          "output_type": "stream",
          "name": "stderr",
          "text": [
            "eval_pointwise: 100%|██████████| 1/1 [00:00<00:00, 635.89it/s]\n"
          ]
        },
        {
          "output_type": "stream",
          "name": "stdout",
          "text": [
            "\t eval rmse: 1.7115\n",
            "\t eval mae: 1.3702\n",
            "==============================\n",
            "With lr_decay, epoch 305 learning rate: 1.6625629086775007e-06\n"
          ]
        },
        {
          "output_type": "stream",
          "name": "stderr",
          "text": [
            "train: 100%|██████████| 57/57 [00:00<00:00, 305.72it/s]\n"
          ]
        },
        {
          "output_type": "stream",
          "name": "stdout",
          "text": [
            "Epoch 305 elapsed: 0.189s\n",
            "\t \u001b[32mtrain_loss: 3.5286\u001b[0m\n"
          ]
        },
        {
          "output_type": "stream",
          "name": "stderr",
          "text": [
            "eval_pointwise: 100%|██████████| 1/1 [00:00<00:00, 275.69it/s]\n"
          ]
        },
        {
          "output_type": "stream",
          "name": "stdout",
          "text": [
            "\t eval rmse: 1.7145\n",
            "\t eval mae: 1.3710\n",
            "==============================\n",
            "With lr_decay, epoch 306 learning rate: 1.5960597465891624e-06\n"
          ]
        },
        {
          "output_type": "stream",
          "name": "stderr",
          "text": [
            "train: 100%|██████████| 57/57 [00:00<00:00, 305.14it/s]\n"
          ]
        },
        {
          "output_type": "stream",
          "name": "stdout",
          "text": [
            "Epoch 306 elapsed: 0.190s\n",
            "\t \u001b[32mtrain_loss: 3.4269\u001b[0m\n"
          ]
        },
        {
          "output_type": "stream",
          "name": "stderr",
          "text": [
            "eval_pointwise: 100%|██████████| 1/1 [00:00<00:00, 406.27it/s]\n"
          ]
        },
        {
          "output_type": "stream",
          "name": "stdout",
          "text": [
            "\t eval rmse: 1.7136\n",
            "\t eval mae: 1.3730\n",
            "==============================\n",
            "With lr_decay, epoch 307 learning rate: 1.5322167428166722e-06\n"
          ]
        },
        {
          "output_type": "stream",
          "name": "stderr",
          "text": [
            "train: 100%|██████████| 57/57 [00:00<00:00, 301.63it/s]\n"
          ]
        },
        {
          "output_type": "stream",
          "name": "stdout",
          "text": [
            "Epoch 307 elapsed: 0.192s\n",
            "\t \u001b[32mtrain_loss: 3.3357\u001b[0m\n"
          ]
        },
        {
          "output_type": "stream",
          "name": "stderr",
          "text": [
            "eval_pointwise: 100%|██████████| 1/1 [00:00<00:00, 660.21it/s]\n"
          ]
        },
        {
          "output_type": "stream",
          "name": "stdout",
          "text": [
            "\t eval rmse: 1.7141\n",
            "\t eval mae: 1.3714\n",
            "==============================\n",
            "With lr_decay, epoch 308 learning rate: 1.4709295328430017e-06\n"
          ]
        },
        {
          "output_type": "stream",
          "name": "stderr",
          "text": [
            "train: 100%|██████████| 57/57 [00:00<00:00, 297.29it/s]\n"
          ]
        },
        {
          "output_type": "stream",
          "name": "stdout",
          "text": [
            "Epoch 308 elapsed: 0.195s\n",
            "\t \u001b[32mtrain_loss: 3.3706\u001b[0m\n"
          ]
        },
        {
          "output_type": "stream",
          "name": "stderr",
          "text": [
            "eval_pointwise: 100%|██████████| 1/1 [00:00<00:00, 293.16it/s]\n"
          ]
        },
        {
          "output_type": "stream",
          "name": "stdout",
          "text": [
            "\t eval rmse: 1.7135\n",
            "\t eval mae: 1.3731\n",
            "==============================\n",
            "With lr_decay, epoch 309 learning rate: 1.4120917057880433e-06\n"
          ]
        },
        {
          "output_type": "stream",
          "name": "stderr",
          "text": [
            "train: 100%|██████████| 57/57 [00:00<00:00, 301.74it/s]\n"
          ]
        },
        {
          "output_type": "stream",
          "name": "stdout",
          "text": [
            "Epoch 309 elapsed: 0.194s\n",
            "\t \u001b[32mtrain_loss: 3.5687\u001b[0m\n"
          ]
        },
        {
          "output_type": "stream",
          "name": "stderr",
          "text": [
            "eval_pointwise: 100%|██████████| 1/1 [00:00<00:00, 557.68it/s]\n"
          ]
        },
        {
          "output_type": "stream",
          "name": "stdout",
          "text": [
            "\t eval rmse: 1.7143\n",
            "\t eval mae: 1.3742\n",
            "==============================\n",
            "With lr_decay, epoch 310 learning rate: 1.3556075373344356e-06\n"
          ]
        },
        {
          "output_type": "stream",
          "name": "stderr",
          "text": [
            "train: 100%|██████████| 57/57 [00:00<00:00, 310.25it/s]\n"
          ]
        },
        {
          "output_type": "stream",
          "name": "stdout",
          "text": [
            "Epoch 310 elapsed: 0.187s\n",
            "\t \u001b[32mtrain_loss: 3.5335\u001b[0m\n"
          ]
        },
        {
          "output_type": "stream",
          "name": "stderr",
          "text": [
            "eval_pointwise: 100%|██████████| 1/1 [00:00<00:00, 388.43it/s]\n"
          ]
        },
        {
          "output_type": "stream",
          "name": "stdout",
          "text": [
            "\t eval rmse: 1.7131\n",
            "\t eval mae: 1.3728\n",
            "==============================\n",
            "With lr_decay, epoch 311 learning rate: 1.3013844863962731e-06\n"
          ]
        },
        {
          "output_type": "stream",
          "name": "stderr",
          "text": [
            "train: 100%|██████████| 57/57 [00:00<00:00, 303.28it/s]\n"
          ]
        },
        {
          "output_type": "stream",
          "name": "stdout",
          "text": [
            "Epoch 311 elapsed: 0.192s\n",
            "\t \u001b[32mtrain_loss: 3.3832\u001b[0m\n"
          ]
        },
        {
          "output_type": "stream",
          "name": "stderr",
          "text": [
            "eval_pointwise: 100%|██████████| 1/1 [00:00<00:00, 630.34it/s]"
          ]
        },
        {
          "output_type": "stream",
          "name": "stdout",
          "text": [
            "\t eval rmse: 1.7142\n",
            "\t eval mae: 1.3723\n",
            "==============================\n"
          ]
        },
        {
          "output_type": "stream",
          "name": "stderr",
          "text": [
            "\n"
          ]
        },
        {
          "output_type": "stream",
          "name": "stdout",
          "text": [
            "With lr_decay, epoch 312 learning rate: 1.2493286476455978e-06\n"
          ]
        },
        {
          "output_type": "stream",
          "name": "stderr",
          "text": [
            "train: 100%|██████████| 57/57 [00:00<00:00, 287.25it/s]\n"
          ]
        },
        {
          "output_type": "stream",
          "name": "stdout",
          "text": [
            "Epoch 312 elapsed: 0.202s\n",
            "\t \u001b[32mtrain_loss: 3.3607\u001b[0m\n"
          ]
        },
        {
          "output_type": "stream",
          "name": "stderr",
          "text": [
            "eval_pointwise: 100%|██████████| 1/1 [00:00<00:00, 545.00it/s]\n"
          ]
        },
        {
          "output_type": "stream",
          "name": "stdout",
          "text": [
            "\t eval rmse: 1.7129\n",
            "\t eval mae: 1.3729\n",
            "==============================\n",
            "With lr_decay, epoch 313 learning rate: 1.1993550970146316e-06\n"
          ]
        },
        {
          "output_type": "stream",
          "name": "stderr",
          "text": [
            "train: 100%|██████████| 57/57 [00:00<00:00, 286.99it/s]\n"
          ]
        },
        {
          "output_type": "stream",
          "name": "stdout",
          "text": [
            "Epoch 313 elapsed: 0.202s\n",
            "\t \u001b[32mtrain_loss: 3.2936\u001b[0m\n"
          ]
        },
        {
          "output_type": "stream",
          "name": "stderr",
          "text": [
            "eval_pointwise: 100%|██████████| 1/1 [00:00<00:00, 456.75it/s]\n"
          ]
        },
        {
          "output_type": "stream",
          "name": "stdout",
          "text": [
            "\t eval rmse: 1.7124\n",
            "\t eval mae: 1.3727\n",
            "==============================\n",
            "With lr_decay, epoch 314 learning rate: 1.1513803883644869e-06\n"
          ]
        },
        {
          "output_type": "stream",
          "name": "stderr",
          "text": [
            "train: 100%|██████████| 57/57 [00:00<00:00, 287.46it/s]\n"
          ]
        },
        {
          "output_type": "stream",
          "name": "stdout",
          "text": [
            "Epoch 314 elapsed: 0.202s\n",
            "\t \u001b[32mtrain_loss: 3.3822\u001b[0m\n"
          ]
        },
        {
          "output_type": "stream",
          "name": "stderr",
          "text": [
            "eval_pointwise: 100%|██████████| 1/1 [00:00<00:00, 305.13it/s]\n"
          ]
        },
        {
          "output_type": "stream",
          "name": "stdout",
          "text": [
            "\t eval rmse: 1.7128\n",
            "\t eval mae: 1.3733\n",
            "==============================\n",
            "With lr_decay, epoch 315 learning rate: 1.1053261914639734e-06\n"
          ]
        },
        {
          "output_type": "stream",
          "name": "stderr",
          "text": [
            "train: 100%|██████████| 57/57 [00:00<00:00, 287.31it/s]\n"
          ]
        },
        {
          "output_type": "stream",
          "name": "stdout",
          "text": [
            "Epoch 315 elapsed: 0.202s\n",
            "\t \u001b[32mtrain_loss: 3.3174\u001b[0m\n"
          ]
        },
        {
          "output_type": "stream",
          "name": "stderr",
          "text": [
            "eval_pointwise: 100%|██████████| 1/1 [00:00<00:00, 638.31it/s]\n"
          ]
        },
        {
          "output_type": "stream",
          "name": "stdout",
          "text": [
            "\t eval rmse: 1.7135\n",
            "\t eval mae: 1.3724\n",
            "==============================\n",
            "With lr_decay, epoch 316 learning rate: 1.0611128118398483e-06\n"
          ]
        },
        {
          "output_type": "stream",
          "name": "stderr",
          "text": [
            "train: 100%|██████████| 57/57 [00:00<00:00, 290.69it/s]\n"
          ]
        },
        {
          "output_type": "stream",
          "name": "stdout",
          "text": [
            "Epoch 316 elapsed: 0.199s\n",
            "\t \u001b[32mtrain_loss: 3.3645\u001b[0m\n"
          ]
        },
        {
          "output_type": "stream",
          "name": "stderr",
          "text": [
            "eval_pointwise: 100%|██████████| 1/1 [00:00<00:00, 643.59it/s]\n"
          ]
        },
        {
          "output_type": "stream",
          "name": "stdout",
          "text": [
            "\t eval rmse: 1.7153\n",
            "\t eval mae: 1.3740\n",
            "==============================\n",
            "With lr_decay, epoch 317 learning rate: 1.018667830976483e-06\n"
          ]
        },
        {
          "output_type": "stream",
          "name": "stderr",
          "text": [
            "train: 100%|██████████| 57/57 [00:00<00:00, 284.65it/s]\n"
          ]
        },
        {
          "output_type": "stream",
          "name": "stdout",
          "text": [
            "Epoch 317 elapsed: 0.205s\n",
            "\t \u001b[32mtrain_loss: 3.478\u001b[0m\n"
          ]
        },
        {
          "output_type": "stream",
          "name": "stderr",
          "text": [
            "eval_pointwise: 100%|██████████| 1/1 [00:00<00:00, 500.16it/s]\n"
          ]
        },
        {
          "output_type": "stream",
          "name": "stdout",
          "text": [
            "\t eval rmse: 1.7113\n",
            "\t eval mae: 1.3691\n",
            "==============================\n",
            "With lr_decay, epoch 318 learning rate: 9.7792076303449e-07\n"
          ]
        },
        {
          "output_type": "stream",
          "name": "stderr",
          "text": [
            "train: 100%|██████████| 57/57 [00:00<00:00, 296.11it/s]\n"
          ]
        },
        {
          "output_type": "stream",
          "name": "stdout",
          "text": [
            "Epoch 318 elapsed: 0.196s\n",
            "\t \u001b[32mtrain_loss: 3.4796\u001b[0m\n"
          ]
        },
        {
          "output_type": "stream",
          "name": "stderr",
          "text": [
            "eval_pointwise: 100%|██████████| 1/1 [00:00<00:00, 570.34it/s]\n"
          ]
        },
        {
          "output_type": "stream",
          "name": "stdout",
          "text": [
            "\t eval rmse: 1.7123\n",
            "\t eval mae: 1.3692\n",
            "==============================\n",
            "With lr_decay, epoch 319 learning rate: 9.388048169967078e-07\n"
          ]
        },
        {
          "output_type": "stream",
          "name": "stderr",
          "text": [
            "train: 100%|██████████| 57/57 [00:00<00:00, 296.96it/s]\n"
          ]
        },
        {
          "output_type": "stream",
          "name": "stdout",
          "text": [
            "Epoch 319 elapsed: 0.197s\n",
            "\t \u001b[32mtrain_loss: 3.3533\u001b[0m\n"
          ]
        },
        {
          "output_type": "stream",
          "name": "stderr",
          "text": [
            "eval_pointwise: 100%|██████████| 1/1 [00:00<00:00, 596.04it/s]\n"
          ]
        },
        {
          "output_type": "stream",
          "name": "stdout",
          "text": [
            "\t eval rmse: 1.7130\n",
            "\t eval mae: 1.3704\n",
            "==============================\n",
            "With lr_decay, epoch 320 learning rate: 9.012522923512734e-07\n"
          ]
        },
        {
          "output_type": "stream",
          "name": "stderr",
          "text": [
            "train: 100%|██████████| 57/57 [00:00<00:00, 286.98it/s]\n"
          ]
        },
        {
          "output_type": "stream",
          "name": "stdout",
          "text": [
            "Epoch 320 elapsed: 0.202s\n",
            "\t \u001b[32mtrain_loss: 3.3211\u001b[0m\n"
          ]
        },
        {
          "output_type": "stream",
          "name": "stderr",
          "text": [
            "eval_pointwise: 100%|██████████| 1/1 [00:00<00:00, 562.99it/s]\n"
          ]
        },
        {
          "output_type": "stream",
          "name": "stdout",
          "text": [
            "\t eval rmse: 1.7180\n",
            "\t eval mae: 1.3738\n",
            "==============================\n",
            "With lr_decay, epoch 321 learning rate: 8.652018550492357e-07\n"
          ]
        },
        {
          "output_type": "stream",
          "name": "stderr",
          "text": [
            "train: 100%|██████████| 57/57 [00:00<00:00, 292.62it/s]\n"
          ]
        },
        {
          "output_type": "stream",
          "name": "stdout",
          "text": [
            "Epoch 321 elapsed: 0.201s\n",
            "\t \u001b[32mtrain_loss: 3.5229\u001b[0m\n"
          ]
        },
        {
          "output_type": "stream",
          "name": "stderr",
          "text": [
            "eval_pointwise: 100%|██████████| 1/1 [00:00<00:00, 364.12it/s]\n"
          ]
        },
        {
          "output_type": "stream",
          "name": "stdout",
          "text": [
            "\t eval rmse: 1.7156\n",
            "\t eval mae: 1.3713\n",
            "==============================\n",
            "With lr_decay, epoch 322 learning rate: 8.305946153086552e-07\n"
          ]
        },
        {
          "output_type": "stream",
          "name": "stderr",
          "text": [
            "train: 100%|██████████| 57/57 [00:00<00:00, 281.77it/s]\n"
          ]
        },
        {
          "output_type": "stream",
          "name": "stdout",
          "text": [
            "Epoch 322 elapsed: 0.207s\n",
            "\t \u001b[32mtrain_loss: 3.3355\u001b[0m\n"
          ]
        },
        {
          "output_type": "stream",
          "name": "stderr",
          "text": [
            "eval_pointwise: 100%|██████████| 1/1 [00:00<00:00, 459.35it/s]\n"
          ]
        },
        {
          "output_type": "stream",
          "name": "stdout",
          "text": [
            "\t eval rmse: 1.7110\n",
            "\t eval mae: 1.3685\n",
            "==============================\n",
            "With lr_decay, epoch 323 learning rate: 7.973704896357958e-07\n"
          ]
        },
        {
          "output_type": "stream",
          "name": "stderr",
          "text": [
            "train: 100%|██████████| 57/57 [00:00<00:00, 299.76it/s]\n"
          ]
        },
        {
          "output_type": "stream",
          "name": "stdout",
          "text": [
            "Epoch 323 elapsed: 0.193s\n",
            "\t \u001b[32mtrain_loss: 3.392\u001b[0m\n"
          ]
        },
        {
          "output_type": "stream",
          "name": "stderr",
          "text": [
            "eval_pointwise: 100%|██████████| 1/1 [00:00<00:00, 409.40it/s]\n"
          ]
        },
        {
          "output_type": "stream",
          "name": "stdout",
          "text": [
            "\t eval rmse: 1.7121\n",
            "\t eval mae: 1.3699\n",
            "==============================\n",
            "With lr_decay, epoch 324 learning rate: 7.654753630959021e-07\n"
          ]
        },
        {
          "output_type": "stream",
          "name": "stderr",
          "text": [
            "train: 100%|██████████| 57/57 [00:00<00:00, 304.36it/s]\n"
          ]
        },
        {
          "output_type": "stream",
          "name": "stdout",
          "text": [
            "Epoch 324 elapsed: 0.191s\n",
            "\t \u001b[32mtrain_loss: 3.3981\u001b[0m\n"
          ]
        },
        {
          "output_type": "stream",
          "name": "stderr",
          "text": [
            "eval_pointwise: 100%|██████████| 1/1 [00:00<00:00, 623.60it/s]\n"
          ]
        },
        {
          "output_type": "stream",
          "name": "stdout",
          "text": [
            "\t eval rmse: 1.7116\n",
            "\t eval mae: 1.3688\n",
            "==============================\n",
            "With lr_decay, epoch 325 learning rate: 7.348560870923393e-07\n"
          ]
        },
        {
          "output_type": "stream",
          "name": "stderr",
          "text": [
            "train: 100%|██████████| 57/57 [00:00<00:00, 300.97it/s]\n"
          ]
        },
        {
          "output_type": "stream",
          "name": "stdout",
          "text": [
            "Epoch 325 elapsed: 0.195s\n",
            "\t \u001b[32mtrain_loss: 3.3205\u001b[0m\n"
          ]
        },
        {
          "output_type": "stream",
          "name": "stderr",
          "text": [
            "eval_pointwise: 100%|██████████| 1/1 [00:00<00:00, 344.81it/s]\n"
          ]
        },
        {
          "output_type": "stream",
          "name": "stdout",
          "text": [
            "\t eval rmse: 1.7103\n",
            "\t eval mae: 1.3682\n",
            "==============================\n",
            "With lr_decay, epoch 326 learning rate: 7.05462525729672e-07\n"
          ]
        },
        {
          "output_type": "stream",
          "name": "stderr",
          "text": [
            "train: 100%|██████████| 57/57 [00:00<00:00, 300.19it/s]\n"
          ]
        },
        {
          "output_type": "stream",
          "name": "stdout",
          "text": [
            "Epoch 326 elapsed: 0.193s\n",
            "\t \u001b[32mtrain_loss: 3.406\u001b[0m\n"
          ]
        },
        {
          "output_type": "stream",
          "name": "stderr",
          "text": [
            "eval_pointwise: 100%|██████████| 1/1 [00:00<00:00, 366.76it/s]"
          ]
        },
        {
          "output_type": "stream",
          "name": "stdout",
          "text": [
            "\t eval rmse: 1.7105\n",
            "\t eval mae: 1.3687\n",
            "==============================\n"
          ]
        },
        {
          "output_type": "stream",
          "name": "stderr",
          "text": [
            "\n"
          ]
        },
        {
          "output_type": "stream",
          "name": "stdout",
          "text": [
            "With lr_decay, epoch 327 learning rate: 6.772437473046011e-07\n"
          ]
        },
        {
          "output_type": "stream",
          "name": "stderr",
          "text": [
            "train: 100%|██████████| 57/57 [00:00<00:00, 290.60it/s]\n"
          ]
        },
        {
          "output_type": "stream",
          "name": "stdout",
          "text": [
            "Epoch 327 elapsed: 0.200s\n",
            "\t \u001b[32mtrain_loss: 3.4681\u001b[0m\n"
          ]
        },
        {
          "output_type": "stream",
          "name": "stderr",
          "text": [
            "eval_pointwise: 100%|██████████| 1/1 [00:00<00:00, 537.94it/s]\n"
          ]
        },
        {
          "output_type": "stream",
          "name": "stdout",
          "text": [
            "\t eval rmse: 1.7131\n",
            "\t eval mae: 1.3717\n",
            "==============================\n",
            "With lr_decay, epoch 328 learning rate: 6.501537654912681e-07\n"
          ]
        },
        {
          "output_type": "stream",
          "name": "stderr",
          "text": [
            "train: 100%|██████████| 57/57 [00:00<00:00, 307.34it/s]\n"
          ]
        },
        {
          "output_type": "stream",
          "name": "stdout",
          "text": [
            "Epoch 328 elapsed: 0.189s\n",
            "\t \u001b[32mtrain_loss: 3.5723\u001b[0m\n"
          ]
        },
        {
          "output_type": "stream",
          "name": "stderr",
          "text": [
            "eval_pointwise: 100%|██████████| 1/1 [00:00<00:00, 575.75it/s]\n"
          ]
        },
        {
          "output_type": "stream",
          "name": "stdout",
          "text": [
            "\t eval rmse: 1.7116\n",
            "\t eval mae: 1.3694\n",
            "==============================\n",
            "With lr_decay, epoch 329 learning rate: 6.241473897716787e-07\n"
          ]
        },
        {
          "output_type": "stream",
          "name": "stderr",
          "text": [
            "train: 100%|██████████| 57/57 [00:00<00:00, 301.88it/s]\n"
          ]
        },
        {
          "output_type": "stream",
          "name": "stdout",
          "text": [
            "Epoch 329 elapsed: 0.192s\n",
            "\t \u001b[32mtrain_loss: 3.4464\u001b[0m\n"
          ]
        },
        {
          "output_type": "stream",
          "name": "stderr",
          "text": [
            "eval_pointwise: 100%|██████████| 1/1 [00:00<00:00, 396.21it/s]"
          ]
        },
        {
          "output_type": "stream",
          "name": "stdout",
          "text": [
            "\t eval rmse: 1.7139\n",
            "\t eval mae: 1.3704\n",
            "==============================\n"
          ]
        },
        {
          "output_type": "stream",
          "name": "stderr",
          "text": [
            "\n"
          ]
        },
        {
          "output_type": "stream",
          "name": "stdout",
          "text": [
            "With lr_decay, epoch 330 learning rate: 5.991820444251061e-07\n"
          ]
        },
        {
          "output_type": "stream",
          "name": "stderr",
          "text": [
            "train: 100%|██████████| 57/57 [00:00<00:00, 300.36it/s]\n"
          ]
        },
        {
          "output_type": "stream",
          "name": "stdout",
          "text": [
            "Epoch 330 elapsed: 0.193s\n",
            "\t \u001b[32mtrain_loss: 3.347\u001b[0m\n"
          ]
        },
        {
          "output_type": "stream",
          "name": "stderr",
          "text": [
            "eval_pointwise: 100%|██████████| 1/1 [00:00<00:00, 360.03it/s]\n"
          ]
        },
        {
          "output_type": "stream",
          "name": "stdout",
          "text": [
            "\t eval rmse: 1.7138\n",
            "\t eval mae: 1.3698\n",
            "==============================\n",
            "With lr_decay, epoch 331 learning rate: 5.752145284532162e-07\n"
          ]
        },
        {
          "output_type": "stream",
          "name": "stderr",
          "text": [
            "train: 100%|██████████| 57/57 [00:00<00:00, 304.76it/s]\n"
          ]
        },
        {
          "output_type": "stream",
          "name": "stdout",
          "text": [
            "Epoch 331 elapsed: 0.191s\n",
            "\t \u001b[32mtrain_loss: 3.4812\u001b[0m\n"
          ]
        },
        {
          "output_type": "stream",
          "name": "stderr",
          "text": [
            "eval_pointwise: 100%|██████████| 1/1 [00:00<00:00, 573.70it/s]\n"
          ]
        },
        {
          "output_type": "stream",
          "name": "stdout",
          "text": [
            "\t eval rmse: 1.7175\n",
            "\t eval mae: 1.3709\n",
            "==============================\n",
            "With lr_decay, epoch 332 learning rate: 5.522057335838326e-07\n"
          ]
        },
        {
          "output_type": "stream",
          "name": "stderr",
          "text": [
            "train: 100%|██████████| 57/57 [00:00<00:00, 296.09it/s]\n"
          ]
        },
        {
          "output_type": "stream",
          "name": "stdout",
          "text": [
            "Epoch 332 elapsed: 0.196s\n",
            "\t \u001b[32mtrain_loss: 3.3998\u001b[0m\n"
          ]
        },
        {
          "output_type": "stream",
          "name": "stderr",
          "text": [
            "eval_pointwise: 100%|██████████| 1/1 [00:00<00:00, 648.77it/s]\n"
          ]
        },
        {
          "output_type": "stream",
          "name": "stdout",
          "text": [
            "\t eval rmse: 1.7202\n",
            "\t eval mae: 1.3730\n",
            "==============================\n",
            "With lr_decay, epoch 333 learning rate: 5.301172905092244e-07\n"
          ]
        },
        {
          "output_type": "stream",
          "name": "stderr",
          "text": [
            "train: 100%|██████████| 57/57 [00:00<00:00, 302.18it/s]\n"
          ]
        },
        {
          "output_type": "stream",
          "name": "stdout",
          "text": [
            "Epoch 333 elapsed: 0.192s\n",
            "\t \u001b[32mtrain_loss: 3.3023\u001b[0m\n"
          ]
        },
        {
          "output_type": "stream",
          "name": "stderr",
          "text": [
            "eval_pointwise: 100%|██████████| 1/1 [00:00<00:00, 422.77it/s]\n"
          ]
        },
        {
          "output_type": "stream",
          "name": "stdout",
          "text": [
            "\t eval rmse: 1.7185\n",
            "\t eval mae: 1.3724\n",
            "==============================\n",
            "With lr_decay, epoch 334 learning rate: 5.089131036584149e-07\n"
          ]
        },
        {
          "output_type": "stream",
          "name": "stderr",
          "text": [
            "train: 100%|██████████| 57/57 [00:00<00:00, 303.30it/s]\n"
          ]
        },
        {
          "output_type": "stream",
          "name": "stdout",
          "text": [
            "Epoch 334 elapsed: 0.191s\n",
            "\t \u001b[32mtrain_loss: 3.5092\u001b[0m\n"
          ]
        },
        {
          "output_type": "stream",
          "name": "stderr",
          "text": [
            "eval_pointwise: 100%|██████████| 1/1 [00:00<00:00, 486.24it/s]\n"
          ]
        },
        {
          "output_type": "stream",
          "name": "stdout",
          "text": [
            "\t eval rmse: 1.7149\n",
            "\t eval mae: 1.3692\n",
            "==============================\n",
            "With lr_decay, epoch 335 learning rate: 4.885563953394012e-07\n"
          ]
        },
        {
          "output_type": "stream",
          "name": "stderr",
          "text": [
            "train: 100%|██████████| 57/57 [00:00<00:00, 304.72it/s]\n"
          ]
        },
        {
          "output_type": "stream",
          "name": "stdout",
          "text": [
            "Epoch 335 elapsed: 0.191s\n",
            "\t \u001b[32mtrain_loss: 3.3594\u001b[0m\n"
          ]
        },
        {
          "output_type": "stream",
          "name": "stderr",
          "text": [
            "eval_pointwise: 100%|██████████| 1/1 [00:00<00:00, 312.22it/s]\n"
          ]
        },
        {
          "output_type": "stream",
          "name": "stdout",
          "text": [
            "\t eval rmse: 1.7112\n",
            "\t eval mae: 1.3686\n",
            "==============================\n",
            "With lr_decay, epoch 336 learning rate: 4.6901394057385914e-07\n"
          ]
        },
        {
          "output_type": "stream",
          "name": "stderr",
          "text": [
            "train: 100%|██████████| 57/57 [00:00<00:00, 296.98it/s]\n"
          ]
        },
        {
          "output_type": "stream",
          "name": "stdout",
          "text": [
            "Epoch 336 elapsed: 0.195s\n",
            "\t \u001b[32mtrain_loss: 3.327\u001b[0m\n"
          ]
        },
        {
          "output_type": "stream",
          "name": "stderr",
          "text": [
            "eval_pointwise: 100%|██████████| 1/1 [00:00<00:00, 287.99it/s]\n"
          ]
        },
        {
          "output_type": "stream",
          "name": "stdout",
          "text": [
            "\t eval rmse: 1.7119\n",
            "\t eval mae: 1.3692\n",
            "==============================\n",
            "With lr_decay, epoch 337 learning rate: 4.322434961068211e-07\n"
          ]
        },
        {
          "output_type": "stream",
          "name": "stderr",
          "text": [
            "train: 100%|██████████| 57/57 [00:00<00:00, 294.79it/s]\n"
          ]
        },
        {
          "output_type": "stream",
          "name": "stdout",
          "text": [
            "Epoch 337 elapsed: 0.198s\n",
            "\t \u001b[32mtrain_loss: 3.4852\u001b[0m\n"
          ]
        },
        {
          "output_type": "stream",
          "name": "stderr",
          "text": [
            "eval_pointwise: 100%|██████████| 1/1 [00:00<00:00, 524.09it/s]\n"
          ]
        },
        {
          "output_type": "stream",
          "name": "stdout",
          "text": [
            "\t eval rmse: 1.7120\n",
            "\t eval mae: 1.3686\n",
            "==============================\n",
            "With lr_decay, epoch 338 learning rate: 4.149536039221857e-07\n"
          ]
        },
        {
          "output_type": "stream",
          "name": "stderr",
          "text": [
            "train: 100%|██████████| 57/57 [00:00<00:00, 299.88it/s]\n"
          ]
        },
        {
          "output_type": "stream",
          "name": "stdout",
          "text": [
            "Epoch 338 elapsed: 0.193s\n",
            "\t \u001b[32mtrain_loss: 3.5334\u001b[0m\n"
          ]
        },
        {
          "output_type": "stream",
          "name": "stderr",
          "text": [
            "eval_pointwise: 100%|██████████| 1/1 [00:00<00:00, 275.92it/s]\n"
          ]
        },
        {
          "output_type": "stream",
          "name": "stdout",
          "text": [
            "\t eval rmse: 1.7082\n",
            "\t eval mae: 1.3659\n",
            "==============================\n",
            "With lr_decay, epoch 339 learning rate: 3.9835529719312035e-07\n"
          ]
        },
        {
          "output_type": "stream",
          "name": "stderr",
          "text": [
            "train: 100%|██████████| 57/57 [00:00<00:00, 303.85it/s]\n"
          ]
        },
        {
          "output_type": "stream",
          "name": "stdout",
          "text": [
            "Epoch 339 elapsed: 0.190s\n",
            "\t \u001b[32mtrain_loss: 3.5617\u001b[0m\n"
          ]
        },
        {
          "output_type": "stream",
          "name": "stderr",
          "text": [
            "eval_pointwise: 100%|██████████| 1/1 [00:00<00:00, 682.33it/s]\n"
          ]
        },
        {
          "output_type": "stream",
          "name": "stdout",
          "text": [
            "\t eval rmse: 1.7091\n",
            "\t eval mae: 1.3663\n",
            "==============================\n",
            "With lr_decay, epoch 340 learning rate: 3.824214616088284e-07\n"
          ]
        },
        {
          "output_type": "stream",
          "name": "stderr",
          "text": [
            "train: 100%|██████████| 57/57 [00:00<00:00, 304.93it/s]\n"
          ]
        },
        {
          "output_type": "stream",
          "name": "stdout",
          "text": [
            "Epoch 340 elapsed: 0.190s\n",
            "\t \u001b[32mtrain_loss: 3.4518\u001b[0m\n"
          ]
        },
        {
          "output_type": "stream",
          "name": "stderr",
          "text": [
            "eval_pointwise: 100%|██████████| 1/1 [00:00<00:00, 530.52it/s]\n"
          ]
        },
        {
          "output_type": "stream",
          "name": "stdout",
          "text": [
            "\t eval rmse: 1.7124\n",
            "\t eval mae: 1.3707\n",
            "==============================\n",
            "With lr_decay, epoch 341 learning rate: 3.6712444284603407e-07\n"
          ]
        },
        {
          "output_type": "stream",
          "name": "stderr",
          "text": [
            "train: 100%|██████████| 57/57 [00:00<00:00, 293.81it/s]\n"
          ]
        },
        {
          "output_type": "stream",
          "name": "stdout",
          "text": [
            "Epoch 341 elapsed: 0.198s\n",
            "\t \u001b[32mtrain_loss: 3.2194\u001b[0m\n"
          ]
        },
        {
          "output_type": "stream",
          "name": "stderr",
          "text": [
            "eval_pointwise: 100%|██████████| 1/1 [00:00<00:00, 24.34it/s]\n"
          ]
        },
        {
          "output_type": "stream",
          "name": "stdout",
          "text": [
            "\t eval rmse: 1.7115\n",
            "\t eval mae: 1.3704\n",
            "==============================\n",
            "With lr_decay, epoch 342 learning rate: 3.5243934348727635e-07\n"
          ]
        },
        {
          "output_type": "stream",
          "name": "stderr",
          "text": [
            "train: 100%|██████████| 57/57 [00:00<00:00, 298.15it/s]\n"
          ]
        },
        {
          "output_type": "stream",
          "name": "stdout",
          "text": [
            "Epoch 342 elapsed: 0.194s\n",
            "\t \u001b[32mtrain_loss: 3.3231\u001b[0m\n"
          ]
        },
        {
          "output_type": "stream",
          "name": "stderr",
          "text": [
            "eval_pointwise: 100%|██████████| 1/1 [00:00<00:00, 236.27it/s]\n"
          ]
        },
        {
          "output_type": "stream",
          "name": "stdout",
          "text": [
            "\t eval rmse: 1.7141\n",
            "\t eval mae: 1.3709\n",
            "==============================\n",
            "With lr_decay, epoch 343 learning rate: 3.383416355973168e-07\n"
          ]
        },
        {
          "output_type": "stream",
          "name": "stderr",
          "text": [
            "train: 100%|██████████| 57/57 [00:00<00:00, 292.78it/s]\n"
          ]
        },
        {
          "output_type": "stream",
          "name": "stdout",
          "text": [
            "Epoch 343 elapsed: 0.199s\n",
            "\t \u001b[32mtrain_loss: 3.4794\u001b[0m\n"
          ]
        },
        {
          "output_type": "stream",
          "name": "stderr",
          "text": [
            "eval_pointwise: 100%|██████████| 1/1 [00:00<00:00, 624.06it/s]\n"
          ]
        },
        {
          "output_type": "stream",
          "name": "stdout",
          "text": [
            "\t eval rmse: 1.7159\n",
            "\t eval mae: 1.3702\n",
            "==============================\n",
            "With lr_decay, epoch 344 learning rate: 3.248082691698073e-07\n"
          ]
        },
        {
          "output_type": "stream",
          "name": "stderr",
          "text": [
            "train: 100%|██████████| 57/57 [00:00<00:00, 305.12it/s]\n"
          ]
        },
        {
          "output_type": "stream",
          "name": "stdout",
          "text": [
            "Epoch 344 elapsed: 0.190s\n",
            "\t \u001b[32mtrain_loss: 3.363\u001b[0m\n"
          ]
        },
        {
          "output_type": "stream",
          "name": "stderr",
          "text": [
            "eval_pointwise: 100%|██████████| 1/1 [00:00<00:00, 681.89it/s]"
          ]
        },
        {
          "output_type": "stream",
          "name": "stdout",
          "text": [
            "\t eval rmse: 1.7160\n",
            "\t eval mae: 1.3708\n"
          ]
        },
        {
          "output_type": "stream",
          "name": "stderr",
          "text": [
            "\n"
          ]
        },
        {
          "output_type": "stream",
          "name": "stdout",
          "text": [
            "==============================\n",
            "With lr_decay, epoch 345 learning rate: 3.118158247161773e-07\n"
          ]
        },
        {
          "output_type": "stream",
          "name": "stderr",
          "text": [
            "train: 100%|██████████| 57/57 [00:00<00:00, 306.57it/s]\n"
          ]
        },
        {
          "output_type": "stream",
          "name": "stdout",
          "text": [
            "Epoch 345 elapsed: 0.191s\n",
            "\t \u001b[32mtrain_loss: 3.3932\u001b[0m\n"
          ]
        },
        {
          "output_type": "stream",
          "name": "stderr",
          "text": [
            "eval_pointwise: 100%|██████████| 1/1 [00:00<00:00, 294.01it/s]\n"
          ]
        },
        {
          "output_type": "stream",
          "name": "stdout",
          "text": [
            "\t eval rmse: 1.7136\n",
            "\t eval mae: 1.3709\n",
            "==============================\n",
            "With lr_decay, epoch 346 learning rate: 2.993430712194822e-07\n"
          ]
        },
        {
          "output_type": "stream",
          "name": "stderr",
          "text": [
            "train: 100%|██████████| 57/57 [00:00<00:00, 292.29it/s]"
          ]
        },
        {
          "output_type": "stream",
          "name": "stdout",
          "text": [
            "Epoch 346 elapsed: 0.199s"
          ]
        },
        {
          "output_type": "stream",
          "name": "stderr",
          "text": [
            "\n"
          ]
        },
        {
          "output_type": "stream",
          "name": "stdout",
          "text": [
            "\n",
            "\t \u001b[32mtrain_loss: 3.4883\u001b[0m\n"
          ]
        },
        {
          "output_type": "stream",
          "name": "stderr",
          "text": [
            "eval_pointwise: 100%|██████████| 1/1 [00:00<00:00, 737.78it/s]\n"
          ]
        },
        {
          "output_type": "stream",
          "name": "stdout",
          "text": [
            "\t eval rmse: 1.7114\n",
            "\t eval mae: 1.3696\n",
            "==============================\n",
            "With lr_decay, epoch 347 learning rate: 2.873696303140605e-07\n"
          ]
        },
        {
          "output_type": "stream",
          "name": "stderr",
          "text": [
            "train: 100%|██████████| 57/57 [00:00<00:00, 306.23it/s]\n"
          ]
        },
        {
          "output_type": "stream",
          "name": "stdout",
          "text": [
            "Epoch 347 elapsed: 0.189s\n",
            "\t \u001b[32mtrain_loss: 3.3032\u001b[0m\n"
          ]
        },
        {
          "output_type": "stream",
          "name": "stderr",
          "text": [
            "eval_pointwise: 100%|██████████| 1/1 [00:00<00:00, 686.69it/s]\n"
          ]
        },
        {
          "output_type": "stream",
          "name": "stdout",
          "text": [
            "\t eval rmse: 1.7121\n",
            "\t eval mae: 1.3700\n",
            "==============================\n",
            "With lr_decay, epoch 348 learning rate: 2.7587472573031846e-07\n"
          ]
        },
        {
          "output_type": "stream",
          "name": "stderr",
          "text": [
            "train: 100%|██████████| 57/57 [00:00<00:00, 301.38it/s]\n"
          ]
        },
        {
          "output_type": "stream",
          "name": "stdout",
          "text": [
            "Epoch 348 elapsed: 0.193s\n",
            "\t \u001b[32mtrain_loss: 3.3737\u001b[0m\n"
          ]
        },
        {
          "output_type": "stream",
          "name": "stderr",
          "text": [
            "eval_pointwise: 100%|██████████| 1/1 [00:00<00:00, 496.43it/s]\n"
          ]
        },
        {
          "output_type": "stream",
          "name": "stdout",
          "text": [
            "\t eval rmse: 1.7128\n",
            "\t eval mae: 1.3707\n",
            "==============================\n",
            "With lr_decay, epoch 349 learning rate: 2.6483965598345094e-07\n"
          ]
        },
        {
          "output_type": "stream",
          "name": "stderr",
          "text": [
            "train: 100%|██████████| 57/57 [00:00<00:00, 301.87it/s]\n"
          ]
        },
        {
          "output_type": "stream",
          "name": "stdout",
          "text": [
            "Epoch 349 elapsed: 0.193s\n",
            "\t \u001b[32mtrain_loss: 3.3343\u001b[0m\n"
          ]
        },
        {
          "output_type": "stream",
          "name": "stderr",
          "text": [
            "eval_pointwise: 100%|██████████| 1/1 [00:00<00:00, 459.15it/s]\n"
          ]
        },
        {
          "output_type": "stream",
          "name": "stdout",
          "text": [
            "\t eval rmse: 1.7132\n",
            "\t eval mae: 1.3702\n",
            "==============================\n",
            "With lr_decay, epoch 350 learning rate: 2.542459753840376e-07\n"
          ]
        },
        {
          "output_type": "stream",
          "name": "stderr",
          "text": [
            "train: 100%|██████████| 57/57 [00:00<00:00, 304.44it/s]\n"
          ]
        },
        {
          "output_type": "stream",
          "name": "stdout",
          "text": [
            "Epoch 350 elapsed: 0.192s\n",
            "\t \u001b[32mtrain_loss: 3.4818\u001b[0m\n"
          ]
        },
        {
          "output_type": "stream",
          "name": "stderr",
          "text": [
            "eval_pointwise: 100%|██████████| 1/1 [00:00<00:00, 680.23it/s]"
          ]
        },
        {
          "output_type": "stream",
          "name": "stdout",
          "text": [
            "\t eval rmse: 1.7148"
          ]
        },
        {
          "output_type": "stream",
          "name": "stderr",
          "text": [
            "\n"
          ]
        },
        {
          "output_type": "stream",
          "name": "stdout",
          "text": [
            "\n",
            "\t eval mae: 1.3712\n",
            "==============================\n",
            "With lr_decay, epoch 351 learning rate: 2.440763466893259e-07\n"
          ]
        },
        {
          "output_type": "stream",
          "name": "stderr",
          "text": [
            "train: 100%|██████████| 57/57 [00:00<00:00, 289.45it/s]\n"
          ]
        },
        {
          "output_type": "stream",
          "name": "stdout",
          "text": [
            "Epoch 351 elapsed: 0.200s\n",
            "\t \u001b[32mtrain_loss: 3.2597\u001b[0m\n"
          ]
        },
        {
          "output_type": "stream",
          "name": "stderr",
          "text": [
            "eval_pointwise: 100%|██████████| 1/1 [00:00<00:00, 340.81it/s]\n"
          ]
        },
        {
          "output_type": "stream",
          "name": "stdout",
          "text": [
            "\t eval rmse: 1.7163\n",
            "\t eval mae: 1.3726\n",
            "==============================\n",
            "With lr_decay, epoch 352 learning rate: 2.343132194937425e-07\n"
          ]
        },
        {
          "output_type": "stream",
          "name": "stderr",
          "text": [
            "train: 100%|██████████| 57/57 [00:00<00:00, 301.95it/s]\n"
          ]
        },
        {
          "output_type": "stream",
          "name": "stdout",
          "text": [
            "Epoch 352 elapsed: 0.192s\n",
            "\t \u001b[32mtrain_loss: 3.398\u001b[0m\n"
          ]
        },
        {
          "output_type": "stream",
          "name": "stderr",
          "text": [
            "eval_pointwise: 100%|██████████| 1/1 [00:00<00:00, 349.88it/s]"
          ]
        },
        {
          "output_type": "stream",
          "name": "stdout",
          "text": [
            "\t eval rmse: 1.7181\n",
            "\t eval mae: 1.3733\n",
            "==============================\n"
          ]
        },
        {
          "output_type": "stream",
          "name": "stderr",
          "text": [
            "\n"
          ]
        },
        {
          "output_type": "stream",
          "name": "stdout",
          "text": [
            "With lr_decay, epoch 353 learning rate: 2.2494059237487818e-07\n"
          ]
        },
        {
          "output_type": "stream",
          "name": "stderr",
          "text": [
            "train: 100%|██████████| 57/57 [00:00<00:00, 299.55it/s]\n"
          ]
        },
        {
          "output_type": "stream",
          "name": "stdout",
          "text": [
            "Epoch 353 elapsed: 0.195s\n",
            "\t \u001b[32mtrain_loss: 3.8562\u001b[0m\n"
          ]
        },
        {
          "output_type": "stream",
          "name": "stderr",
          "text": [
            "eval_pointwise: 100%|██████████| 1/1 [00:00<00:00, 403.38it/s]\n"
          ]
        },
        {
          "output_type": "stream",
          "name": "stdout",
          "text": [
            "\t eval rmse: 1.7166\n",
            "\t eval mae: 1.3716\n",
            "==============================\n",
            "With lr_decay, epoch 354 learning rate: 2.1594289023596502e-07\n"
          ]
        },
        {
          "output_type": "stream",
          "name": "stderr",
          "text": [
            "train: 100%|██████████| 57/57 [00:00<00:00, 303.75it/s]\n"
          ]
        },
        {
          "output_type": "stream",
          "name": "stdout",
          "text": [
            "Epoch 354 elapsed: 0.191s\n",
            "\t \u001b[32mtrain_loss: 3.3285\u001b[0m\n"
          ]
        },
        {
          "output_type": "stream",
          "name": "stderr",
          "text": [
            "eval_pointwise: 100%|██████████| 1/1 [00:00<00:00, 363.58it/s]\n"
          ]
        },
        {
          "output_type": "stream",
          "name": "stdout",
          "text": [
            "\t eval rmse: 1.7171\n",
            "\t eval mae: 1.3724\n",
            "==============================\n",
            "With lr_decay, epoch 355 learning rate: 2.0730537642066338e-07\n"
          ]
        },
        {
          "output_type": "stream",
          "name": "stderr",
          "text": [
            "train: 100%|██████████| 57/57 [00:00<00:00, 302.94it/s]\n"
          ]
        },
        {
          "output_type": "stream",
          "name": "stdout",
          "text": [
            "Epoch 355 elapsed: 0.191s\n",
            "\t \u001b[32mtrain_loss: 3.3935\u001b[0m\n"
          ]
        },
        {
          "output_type": "stream",
          "name": "stderr",
          "text": [
            "eval_pointwise: 100%|██████████| 1/1 [00:00<00:00, 340.34it/s]\n"
          ]
        },
        {
          "output_type": "stream",
          "name": "stdout",
          "text": [
            "\t eval rmse: 1.7179\n",
            "\t eval mae: 1.3731\n",
            "==============================\n",
            "With lr_decay, epoch 356 learning rate: 1.9901308689895814e-07\n"
          ]
        },
        {
          "output_type": "stream",
          "name": "stderr",
          "text": [
            "train: 100%|██████████| 57/57 [00:00<00:00, 296.02it/s]\n"
          ]
        },
        {
          "output_type": "stream",
          "name": "stdout",
          "text": [
            "Epoch 356 elapsed: 0.196s\n",
            "\t \u001b[32mtrain_loss: 3.2983\u001b[0m\n"
          ]
        },
        {
          "output_type": "stream",
          "name": "stderr",
          "text": [
            "eval_pointwise: 100%|██████████| 1/1 [00:00<00:00, 627.89it/s]\n"
          ]
        },
        {
          "output_type": "stream",
          "name": "stdout",
          "text": [
            "\t eval rmse: 1.7154\n",
            "\t eval mae: 1.3724\n",
            "==============================\n",
            "With lr_decay, epoch 357 learning rate: 1.910524787263057e-07\n"
          ]
        },
        {
          "output_type": "stream",
          "name": "stderr",
          "text": [
            "train: 100%|██████████| 57/57 [00:00<00:00, 304.88it/s]\n"
          ]
        },
        {
          "output_type": "stream",
          "name": "stdout",
          "text": [
            "Epoch 357 elapsed: 0.191s\n",
            "\t \u001b[32mtrain_loss: 3.3928\u001b[0m\n"
          ]
        },
        {
          "output_type": "stream",
          "name": "stderr",
          "text": [
            "eval_pointwise: 100%|██████████| 1/1 [00:00<00:00, 708.14it/s]\n"
          ]
        },
        {
          "output_type": "stream",
          "name": "stdout",
          "text": [
            "\t eval rmse: 1.7138\n",
            "\t eval mae: 1.3721\n",
            "==============================\n",
            "With lr_decay, epoch 358 learning rate: 1.834105631814964e-07\n"
          ]
        },
        {
          "output_type": "stream",
          "name": "stderr",
          "text": [
            "train: 100%|██████████| 57/57 [00:00<00:00, 306.04it/s]\n"
          ]
        },
        {
          "output_type": "stream",
          "name": "stdout",
          "text": [
            "Epoch 358 elapsed: 0.190s\n",
            "\t \u001b[32mtrain_loss: 3.3879\u001b[0m\n"
          ]
        },
        {
          "output_type": "stream",
          "name": "stderr",
          "text": [
            "eval_pointwise: 100%|██████████| 1/1 [00:00<00:00, 421.92it/s]\n"
          ]
        },
        {
          "output_type": "stream",
          "name": "stdout",
          "text": [
            "\t eval rmse: 1.7143\n",
            "\t eval mae: 1.3721\n",
            "==============================\n",
            "With lr_decay, epoch 359 learning rate: 1.7607406732622621e-07\n"
          ]
        },
        {
          "output_type": "stream",
          "name": "stderr",
          "text": [
            "train: 100%|██████████| 57/57 [00:00<00:00, 302.51it/s]\n"
          ]
        },
        {
          "output_type": "stream",
          "name": "stdout",
          "text": [
            "Epoch 359 elapsed: 0.192s\n",
            "\t \u001b[32mtrain_loss: 3.3682\u001b[0m\n"
          ]
        },
        {
          "output_type": "stream",
          "name": "stderr",
          "text": [
            "eval_pointwise: 100%|██████████| 1/1 [00:00<00:00, 421.67it/s]\n"
          ]
        },
        {
          "output_type": "stream",
          "name": "stdout",
          "text": [
            "\t eval rmse: 1.7111\n",
            "\t eval mae: 1.3712\n",
            "==============================\n",
            "With lr_decay, epoch 360 learning rate: 1.6903103983167966e-07\n"
          ]
        },
        {
          "output_type": "stream",
          "name": "stderr",
          "text": [
            "train: 100%|██████████| 57/57 [00:00<00:00, 305.56it/s]\n"
          ]
        },
        {
          "output_type": "stream",
          "name": "stdout",
          "text": [
            "Epoch 360 elapsed: 0.190s\n",
            "\t \u001b[32mtrain_loss: 3.4252\u001b[0m\n"
          ]
        },
        {
          "output_type": "stream",
          "name": "stderr",
          "text": [
            "eval_pointwise: 100%|██████████| 1/1 [00:00<00:00, 361.05it/s]\n"
          ]
        },
        {
          "output_type": "stream",
          "name": "stdout",
          "text": [
            "\t eval rmse: 1.7101\n",
            "\t eval mae: 1.3685\n",
            "==============================\n",
            "With lr_decay, epoch 361 learning rate: 1.62269742531862e-07\n"
          ]
        },
        {
          "output_type": "stream",
          "name": "stderr",
          "text": [
            "train: 100%|██████████| 57/57 [00:00<00:00, 291.73it/s]\n"
          ]
        },
        {
          "output_type": "stream",
          "name": "stdout",
          "text": [
            "Epoch 361 elapsed: 0.199s\n",
            "\t \u001b[32mtrain_loss: 3.5499\u001b[0m\n"
          ]
        },
        {
          "output_type": "stream",
          "name": "stderr",
          "text": [
            "eval_pointwise: 100%|██████████| 1/1 [00:00<00:00, 614.55it/s]\n"
          ]
        },
        {
          "output_type": "stream",
          "name": "stdout",
          "text": [
            "\t eval rmse: 1.7111\n",
            "\t eval mae: 1.3688\n",
            "==============================\n",
            "With lr_decay, epoch 362 learning rate: 1.5577909096009535e-07\n"
          ]
        },
        {
          "output_type": "stream",
          "name": "stderr",
          "text": [
            "train: 100%|██████████| 57/57 [00:00<00:00, 299.01it/s]\n"
          ]
        },
        {
          "output_type": "stream",
          "name": "stdout",
          "text": [
            "Epoch 362 elapsed: 0.194s\n",
            "\t \u001b[32mtrain_loss: 3.2718\u001b[0m\n"
          ]
        },
        {
          "output_type": "stream",
          "name": "stderr",
          "text": [
            "eval_pointwise: 100%|██████████| 1/1 [00:00<00:00, 708.98it/s]\n"
          ]
        },
        {
          "output_type": "stream",
          "name": "stdout",
          "text": [
            "\t eval rmse: 1.7123\n",
            "\t eval mae: 1.3698\n",
            "==============================\n",
            "With lr_decay, epoch 363 learning rate: 1.4954787275200943e-07\n"
          ]
        },
        {
          "output_type": "stream",
          "name": "stderr",
          "text": [
            "train: 100%|██████████| 57/57 [00:00<00:00, 305.74it/s]\n"
          ]
        },
        {
          "output_type": "stream",
          "name": "stdout",
          "text": [
            "Epoch 363 elapsed: 0.189s\n",
            "\t \u001b[32mtrain_loss: 3.4617\u001b[0m\n"
          ]
        },
        {
          "output_type": "stream",
          "name": "stderr",
          "text": [
            "eval_pointwise: 100%|██████████| 1/1 [00:00<00:00, 569.49it/s]\n"
          ]
        },
        {
          "output_type": "stream",
          "name": "stdout",
          "text": [
            "\t eval rmse: 1.7090\n",
            "\t eval mae: 1.3665\n",
            "==============================\n",
            "With lr_decay, epoch 364 learning rate: 1.4356589872477343e-07\n"
          ]
        },
        {
          "output_type": "stream",
          "name": "stderr",
          "text": [
            "train: 100%|██████████| 57/57 [00:00<00:00, 307.64it/s]\n"
          ]
        },
        {
          "output_type": "stream",
          "name": "stdout",
          "text": [
            "Epoch 364 elapsed: 0.190s\n",
            "\t \u001b[32mtrain_loss: 3.4251\u001b[0m\n"
          ]
        },
        {
          "output_type": "stream",
          "name": "stderr",
          "text": [
            "eval_pointwise: 100%|██████████| 1/1 [00:00<00:00, 692.70it/s]\n"
          ]
        },
        {
          "output_type": "stream",
          "name": "stdout",
          "text": [
            "\t eval rmse: 1.7087\n",
            "\t eval mae: 1.3661\n",
            "==============================\n",
            "With lr_decay, epoch 365 learning rate: 1.3782322128008673e-07\n"
          ]
        },
        {
          "output_type": "stream",
          "name": "stderr",
          "text": [
            "train: 100%|██████████| 57/57 [00:00<00:00, 305.53it/s]\n"
          ]
        },
        {
          "output_type": "stream",
          "name": "stdout",
          "text": [
            "Epoch 365 elapsed: 0.191s\n",
            "\t \u001b[32mtrain_loss: 3.3115\u001b[0m\n"
          ]
        },
        {
          "output_type": "stream",
          "name": "stderr",
          "text": [
            "eval_pointwise: 100%|██████████| 1/1 [00:00<00:00, 389.33it/s]"
          ]
        },
        {
          "output_type": "stream",
          "name": "stdout",
          "text": [
            "\t eval rmse: 1.7115\n",
            "\t eval mae: 1.3703\n",
            "==============================\n"
          ]
        },
        {
          "output_type": "stream",
          "name": "stderr",
          "text": [
            "\n"
          ]
        },
        {
          "output_type": "stream",
          "name": "stdout",
          "text": [
            "With lr_decay, epoch 366 learning rate: 1.3231041862127313e-07\n"
          ]
        },
        {
          "output_type": "stream",
          "name": "stderr",
          "text": [
            "train: 100%|██████████| 57/57 [00:00<00:00, 293.51it/s]\n"
          ]
        },
        {
          "output_type": "stream",
          "name": "stdout",
          "text": [
            "Epoch 366 elapsed: 0.200s\n",
            "\t \u001b[32mtrain_loss: 3.2987\u001b[0m\n"
          ]
        },
        {
          "output_type": "stream",
          "name": "stderr",
          "text": [
            "eval_pointwise: 100%|██████████| 1/1 [00:00<00:00, 652.20it/s]\n"
          ]
        },
        {
          "output_type": "stream",
          "name": "stdout",
          "text": [
            "\t eval rmse: 1.7154\n",
            "\t eval mae: 1.3715\n",
            "==============================\n",
            "With lr_decay, epoch 367 learning rate: 1.2701794105396402e-07\n"
          ]
        },
        {
          "output_type": "stream",
          "name": "stderr",
          "text": [
            "train: 100%|██████████| 57/57 [00:00<00:00, 301.73it/s]\n"
          ]
        },
        {
          "output_type": "stream",
          "name": "stdout",
          "text": [
            "Epoch 367 elapsed: 0.192s\n",
            "\t \u001b[32mtrain_loss: 3.3253\u001b[0m\n"
          ]
        },
        {
          "output_type": "stream",
          "name": "stderr",
          "text": [
            "eval_pointwise: 100%|██████████| 1/1 [00:00<00:00, 253.10it/s]\n"
          ]
        },
        {
          "output_type": "stream",
          "name": "stdout",
          "text": [
            "\t eval rmse: 1.7112\n",
            "\t eval mae: 1.3698\n",
            "==============================\n",
            "With lr_decay, epoch 368 learning rate: 1.21937176800202e-07\n"
          ]
        },
        {
          "output_type": "stream",
          "name": "stderr",
          "text": [
            "train: 100%|██████████| 57/57 [00:00<00:00, 301.64it/s]\n"
          ]
        },
        {
          "output_type": "stream",
          "name": "stdout",
          "text": [
            "Epoch 368 elapsed: 0.193s\n",
            "\t \u001b[32mtrain_loss: 3.6779\u001b[0m\n"
          ]
        },
        {
          "output_type": "stream",
          "name": "stderr",
          "text": [
            "eval_pointwise: 100%|██████████| 1/1 [00:00<00:00, 542.25it/s]\n"
          ]
        },
        {
          "output_type": "stream",
          "name": "stdout",
          "text": [
            "\t eval rmse: 1.7103\n",
            "\t eval mae: 1.3673\n",
            "==============================\n",
            "With lr_decay, epoch 369 learning rate: 1.170598054045513e-07\n"
          ]
        },
        {
          "output_type": "stream",
          "name": "stderr",
          "text": [
            "train: 100%|██████████| 57/57 [00:00<00:00, 301.45it/s]\n"
          ]
        },
        {
          "output_type": "stream",
          "name": "stdout",
          "text": [
            "Epoch 369 elapsed: 0.193s\n",
            "\t \u001b[32mtrain_loss: 3.3133\u001b[0m\n"
          ]
        },
        {
          "output_type": "stream",
          "name": "stderr",
          "text": [
            "eval_pointwise: 100%|██████████| 1/1 [00:00<00:00, 317.89it/s]\n"
          ]
        },
        {
          "output_type": "stream",
          "name": "stdout",
          "text": [
            "\t eval rmse: 1.7154\n",
            "\t eval mae: 1.3701\n",
            "==============================\n",
            "With lr_decay, epoch 370 learning rate: 1.1237737140845638e-07\n"
          ]
        },
        {
          "output_type": "stream",
          "name": "stderr",
          "text": [
            "train: 100%|██████████| 57/57 [00:00<00:00, 297.52it/s]\n"
          ]
        },
        {
          "output_type": "stream",
          "name": "stdout",
          "text": [
            "Epoch 370 elapsed: 0.194s\n",
            "\t \u001b[32mtrain_loss: 3.3542\u001b[0m\n"
          ]
        },
        {
          "output_type": "stream",
          "name": "stderr",
          "text": [
            "eval_pointwise: 100%|██████████| 1/1 [00:00<00:00, 396.66it/s]\n"
          ]
        },
        {
          "output_type": "stream",
          "name": "stdout",
          "text": [
            "\t eval rmse: 1.7115\n",
            "\t eval mae: 1.3691\n",
            "==============================\n",
            "With lr_decay, epoch 371 learning rate: 1.0788223647750783e-07\n"
          ]
        },
        {
          "output_type": "stream",
          "name": "stderr",
          "text": [
            "train: 100%|██████████| 57/57 [00:00<00:00, 292.74it/s]\n"
          ]
        },
        {
          "output_type": "stream",
          "name": "stdout",
          "text": [
            "Epoch 371 elapsed: 0.199s\n",
            "\t \u001b[32mtrain_loss: 3.421\u001b[0m\n"
          ]
        },
        {
          "output_type": "stream",
          "name": "stderr",
          "text": [
            "eval_pointwise: 100%|██████████| 1/1 [00:00<00:00, 491.83it/s]\n"
          ]
        },
        {
          "output_type": "stream",
          "name": "stdout",
          "text": [
            "\t eval rmse: 1.7098\n",
            "\t eval mae: 1.3681\n",
            "==============================\n",
            "With lr_decay, epoch 372 learning rate: 1.0356690438584337e-07\n"
          ]
        },
        {
          "output_type": "stream",
          "name": "stderr",
          "text": [
            "train: 100%|██████████| 57/57 [00:00<00:00, 284.13it/s]\n"
          ]
        },
        {
          "output_type": "stream",
          "name": "stdout",
          "text": [
            "Epoch 372 elapsed: 0.204s\n",
            "\t \u001b[32mtrain_loss: 3.609\u001b[0m\n"
          ]
        },
        {
          "output_type": "stream",
          "name": "stderr",
          "text": [
            "eval_pointwise: 100%|██████████| 1/1 [00:00<00:00, 261.65it/s]\n"
          ]
        },
        {
          "output_type": "stream",
          "name": "stdout",
          "text": [
            "\t eval rmse: 1.7109\n",
            "\t eval mae: 1.3682\n",
            "==============================\n",
            "With lr_decay, epoch 373 learning rate: 9.942431944409691e-08\n"
          ]
        },
        {
          "output_type": "stream",
          "name": "stderr",
          "text": [
            "train: 100%|██████████| 57/57 [00:00<00:00, 283.69it/s]\n"
          ]
        },
        {
          "output_type": "stream",
          "name": "stdout",
          "text": [
            "Epoch 373 elapsed: 0.204s\n",
            "\t \u001b[32mtrain_loss: 3.3271\u001b[0m\n"
          ]
        },
        {
          "output_type": "stream",
          "name": "stderr",
          "text": [
            "eval_pointwise: 100%|██████████| 1/1 [00:00<00:00, 306.24it/s]\n"
          ]
        },
        {
          "output_type": "stream",
          "name": "stdout",
          "text": [
            "\t eval rmse: 1.7138\n",
            "\t eval mae: 1.3701\n",
            "==============================\n",
            "With lr_decay, epoch 374 learning rate: 9.544731227606462e-08\n"
          ]
        },
        {
          "output_type": "stream",
          "name": "stderr",
          "text": [
            "train: 100%|██████████| 57/57 [00:00<00:00, 302.72it/s]\n"
          ]
        },
        {
          "output_type": "stream",
          "name": "stdout",
          "text": [
            "Epoch 374 elapsed: 0.192s\n",
            "\t \u001b[32mtrain_loss: 3.3864\u001b[0m\n"
          ]
        },
        {
          "output_type": "stream",
          "name": "stderr",
          "text": [
            "eval_pointwise: 100%|██████████| 1/1 [00:00<00:00, 661.35it/s]\n"
          ]
        },
        {
          "output_type": "stream",
          "name": "stdout",
          "text": [
            "\t eval rmse: 1.7161\n",
            "\t eval mae: 1.3696\n",
            "==============================\n",
            "With lr_decay, epoch 375 learning rate: 9.162938852114166e-08\n"
          ]
        },
        {
          "output_type": "stream",
          "name": "stderr",
          "text": [
            "train: 100%|██████████| 57/57 [00:00<00:00, 283.58it/s]\n"
          ]
        },
        {
          "output_type": "stream",
          "name": "stdout",
          "text": [
            "Epoch 375 elapsed: 0.205s\n",
            "\t \u001b[32mtrain_loss: 3.3208\u001b[0m\n"
          ]
        },
        {
          "output_type": "stream",
          "name": "stderr",
          "text": [
            "eval_pointwise: 100%|██████████| 1/1 [00:00<00:00, 560.89it/s]\n"
          ]
        },
        {
          "output_type": "stream",
          "name": "stdout",
          "text": [
            "\t eval rmse: 1.7170\n",
            "\t eval mae: 1.3708\n",
            "==============================\n",
            "With lr_decay, epoch 376 learning rate: 8.796417461098827e-08\n"
          ]
        },
        {
          "output_type": "stream",
          "name": "stderr",
          "text": [
            "train: 100%|██████████| 57/57 [00:00<00:00, 288.09it/s]\n"
          ]
        },
        {
          "output_type": "stream",
          "name": "stdout",
          "text": [
            "Epoch 376 elapsed: 0.202s\n",
            "\t \u001b[32mtrain_loss: 3.4866\u001b[0m\n"
          ]
        },
        {
          "output_type": "stream",
          "name": "stderr",
          "text": [
            "eval_pointwise: 100%|██████████| 1/1 [00:00<00:00, 408.80it/s]\n"
          ]
        },
        {
          "output_type": "stream",
          "name": "stdout",
          "text": [
            "\t eval rmse: 1.7170\n",
            "\t eval mae: 1.3712\n",
            "==============================\n",
            "With lr_decay, epoch 377 learning rate: 8.444568777576933e-08\n"
          ]
        },
        {
          "output_type": "stream",
          "name": "stderr",
          "text": [
            "train: 100%|██████████| 57/57 [00:00<00:00, 291.34it/s]\n"
          ]
        },
        {
          "output_type": "stream",
          "name": "stdout",
          "text": [
            "Epoch 377 elapsed: 0.200s\n",
            "\t \u001b[32mtrain_loss: 3.2556\u001b[0m\n"
          ]
        },
        {
          "output_type": "stream",
          "name": "stderr",
          "text": [
            "eval_pointwise: 100%|██████████| 1/1 [00:00<00:00, 678.25it/s]\n"
          ]
        },
        {
          "output_type": "stream",
          "name": "stdout",
          "text": [
            "\t eval rmse: 1.7161\n",
            "\t eval mae: 1.3730\n",
            "==============================\n",
            "With lr_decay, epoch 378 learning rate: 8.106783155881203e-08\n"
          ]
        },
        {
          "output_type": "stream",
          "name": "stderr",
          "text": [
            "train: 100%|██████████| 57/57 [00:00<00:00, 291.35it/s]\n"
          ]
        },
        {
          "output_type": "stream",
          "name": "stdout",
          "text": [
            "Epoch 378 elapsed: 0.199s\n",
            "\t \u001b[32mtrain_loss: 3.4635\u001b[0m\n"
          ]
        },
        {
          "output_type": "stream",
          "name": "stderr",
          "text": [
            "eval_pointwise: 100%|██████████| 1/1 [00:00<00:00, 459.05it/s]\n"
          ]
        },
        {
          "output_type": "stream",
          "name": "stdout",
          "text": [
            "\t eval rmse: 1.7131\n",
            "\t eval mae: 1.3703\n",
            "==============================\n",
            "With lr_decay, epoch 379 learning rate: 7.782508504305952e-08\n"
          ]
        },
        {
          "output_type": "stream",
          "name": "stderr",
          "text": [
            "train: 100%|██████████| 57/57 [00:00<00:00, 290.10it/s]\n"
          ]
        },
        {
          "output_type": "stream",
          "name": "stdout",
          "text": [
            "Epoch 379 elapsed: 0.199s\n",
            "\t \u001b[32mtrain_loss: 3.4027\u001b[0m\n"
          ]
        },
        {
          "output_type": "stream",
          "name": "stderr",
          "text": [
            "eval_pointwise: 100%|██████████| 1/1 [00:00<00:00, 309.77it/s]\n"
          ]
        },
        {
          "output_type": "stream",
          "name": "stdout",
          "text": [
            "\t eval rmse: 1.7115\n",
            "\t eval mae: 1.3684\n",
            "==============================\n",
            "With lr_decay, epoch 380 learning rate: 7.471215468513037e-08\n"
          ]
        },
        {
          "output_type": "stream",
          "name": "stderr",
          "text": [
            "train: 100%|██████████| 57/57 [00:00<00:00, 275.84it/s]\n"
          ]
        },
        {
          "output_type": "stream",
          "name": "stdout",
          "text": [
            "Epoch 380 elapsed: 0.210s\n",
            "\t \u001b[32mtrain_loss: 3.4683\u001b[0m\n"
          ]
        },
        {
          "output_type": "stream",
          "name": "stderr",
          "text": [
            "eval_pointwise: 100%|██████████| 1/1 [00:00<00:00, 262.18it/s]\n"
          ]
        },
        {
          "output_type": "stream",
          "name": "stdout",
          "text": [
            "\t eval rmse: 1.7094\n",
            "\t eval mae: 1.3678\n",
            "==============================\n",
            "With lr_decay, epoch 381 learning rate: 7.172364036023282e-08\n"
          ]
        },
        {
          "output_type": "stream",
          "name": "stderr",
          "text": [
            "train: 100%|██████████| 57/57 [00:00<00:00, 284.93it/s]\n"
          ]
        },
        {
          "output_type": "stream",
          "name": "stdout",
          "text": [
            "Epoch 381 elapsed: 0.205s\n",
            "\t \u001b[32mtrain_loss: 3.3322\u001b[0m\n"
          ]
        },
        {
          "output_type": "stream",
          "name": "stderr",
          "text": [
            "eval_pointwise: 100%|██████████| 1/1 [00:00<00:00, 510.88it/s]\n"
          ]
        },
        {
          "output_type": "stream",
          "name": "stdout",
          "text": [
            "\t eval rmse: 1.7135\n",
            "\t eval mae: 1.3721\n",
            "==============================\n",
            "With lr_decay, epoch 382 learning rate: 6.885466774519955e-08\n"
          ]
        },
        {
          "output_type": "stream",
          "name": "stderr",
          "text": [
            "train: 100%|██████████| 57/57 [00:00<00:00, 280.89it/s]\n"
          ]
        },
        {
          "output_type": "stream",
          "name": "stdout",
          "text": [
            "Epoch 382 elapsed: 0.207s\n",
            "\t \u001b[32mtrain_loss: 3.5614\u001b[0m\n"
          ]
        },
        {
          "output_type": "stream",
          "name": "stderr",
          "text": [
            "eval_pointwise: 100%|██████████| 1/1 [00:00<00:00, 249.78it/s]\n"
          ]
        },
        {
          "output_type": "stream",
          "name": "stdout",
          "text": [
            "\t eval rmse: 1.7159\n",
            "\t eval mae: 1.3719\n",
            "==============================\n",
            "With lr_decay, epoch 383 learning rate: 6.610045488741889e-08\n"
          ]
        },
        {
          "output_type": "stream",
          "name": "stderr",
          "text": [
            "train: 100%|██████████| 57/57 [00:00<00:00, 297.64it/s]\n"
          ]
        },
        {
          "output_type": "stream",
          "name": "stdout",
          "text": [
            "Epoch 383 elapsed: 0.195s\n",
            "\t \u001b[32mtrain_loss: 3.4517\u001b[0m\n"
          ]
        },
        {
          "output_type": "stream",
          "name": "stderr",
          "text": [
            "eval_pointwise: 100%|██████████| 1/1 [00:00<00:00, 359.35it/s]\n"
          ]
        },
        {
          "output_type": "stream",
          "name": "stdout",
          "text": [
            "\t eval rmse: 1.7134\n",
            "\t eval mae: 1.3694\n",
            "==============================\n",
            "With lr_decay, epoch 384 learning rate: 6.345649694594613e-08\n"
          ]
        },
        {
          "output_type": "stream",
          "name": "stderr",
          "text": [
            "train: 100%|██████████| 57/57 [00:00<00:00, 300.71it/s]\n"
          ]
        },
        {
          "output_type": "stream",
          "name": "stdout",
          "text": [
            "Epoch 384 elapsed: 0.193s\n",
            "\t \u001b[32mtrain_loss: 3.3171\u001b[0m\n"
          ]
        },
        {
          "output_type": "stream",
          "name": "stderr",
          "text": [
            "eval_pointwise: 100%|██████████| 1/1 [00:00<00:00, 563.98it/s]\n"
          ]
        },
        {
          "output_type": "stream",
          "name": "stdout",
          "text": [
            "\t eval rmse: 1.7162\n",
            "\t eval mae: 1.3703\n",
            "==============================\n",
            "With lr_decay, epoch 385 learning rate: 6.091821802556296e-08\n"
          ]
        },
        {
          "output_type": "stream",
          "name": "stderr",
          "text": [
            "train: 100%|██████████| 57/57 [00:00<00:00, 290.37it/s]\n"
          ]
        },
        {
          "output_type": "stream",
          "name": "stdout",
          "text": [
            "Epoch 385 elapsed: 0.200s\n",
            "\t \u001b[32mtrain_loss: 3.4496\u001b[0m\n"
          ]
        },
        {
          "output_type": "stream",
          "name": "stderr",
          "text": [
            "eval_pointwise: 100%|██████████| 1/1 [00:00<00:00, 345.47it/s]\n"
          ]
        },
        {
          "output_type": "stream",
          "name": "stdout",
          "text": [
            "\t eval rmse: 1.7122\n",
            "\t eval mae: 1.3695\n",
            "==============================\n",
            "With lr_decay, epoch 386 learning rate: 5.848146500397888e-08\n"
          ]
        },
        {
          "output_type": "stream",
          "name": "stderr",
          "text": [
            "train: 100%|██████████| 57/57 [00:00<00:00, 303.04it/s]\n"
          ]
        },
        {
          "output_type": "stream",
          "name": "stdout",
          "text": [
            "Epoch 386 elapsed: 0.191s\n",
            "\t \u001b[32mtrain_loss: 3.4715\u001b[0m\n"
          ]
        },
        {
          "output_type": "stream",
          "name": "stderr",
          "text": [
            "eval_pointwise: 100%|██████████| 1/1 [00:00<00:00, 234.99it/s]\n"
          ]
        },
        {
          "output_type": "stream",
          "name": "stdout",
          "text": [
            "\t eval rmse: 1.7132\n",
            "\t eval mae: 1.3701\n",
            "==============================\n",
            "With lr_decay, epoch 387 learning rate: 5.614218423488637e-08\n"
          ]
        },
        {
          "output_type": "stream",
          "name": "stderr",
          "text": [
            "train: 100%|██████████| 57/57 [00:00<00:00, 301.79it/s]\n"
          ]
        },
        {
          "output_type": "stream",
          "name": "stdout",
          "text": [
            "Epoch 387 elapsed: 0.193s\n",
            "\t \u001b[32mtrain_loss: 3.4184\u001b[0m\n"
          ]
        },
        {
          "output_type": "stream",
          "name": "stderr",
          "text": [
            "eval_pointwise: 100%|██████████| 1/1 [00:00<00:00, 437.68it/s]\n"
          ]
        },
        {
          "output_type": "stream",
          "name": "stdout",
          "text": [
            "\t eval rmse: 1.7139\n",
            "\t eval mae: 1.3706\n",
            "==============================\n",
            "With lr_decay, epoch 388 learning rate: 5.3896549445653363e-08\n"
          ]
        },
        {
          "output_type": "stream",
          "name": "stderr",
          "text": [
            "train: 100%|██████████| 57/57 [00:00<00:00, 296.27it/s]\n"
          ]
        },
        {
          "output_type": "stream",
          "name": "stdout",
          "text": [
            "Epoch 388 elapsed: 0.197s\n",
            "\t \u001b[32mtrain_loss: 3.3226\u001b[0m\n"
          ]
        },
        {
          "output_type": "stream",
          "name": "stderr",
          "text": [
            "eval_pointwise: 100%|██████████| 1/1 [00:00<00:00, 621.10it/s]\n"
          ]
        },
        {
          "output_type": "stream",
          "name": "stdout",
          "text": [
            "\t eval rmse: 1.7153\n",
            "\t eval mae: 1.3698\n",
            "==============================\n",
            "With lr_decay, epoch 389 learning rate: 5.174066686208789e-08\n"
          ]
        },
        {
          "output_type": "stream",
          "name": "stderr",
          "text": [
            "train: 100%|██████████| 57/57 [00:00<00:00, 302.08it/s]\n"
          ]
        },
        {
          "output_type": "stream",
          "name": "stdout",
          "text": [
            "Epoch 389 elapsed: 0.193s\n",
            "\t \u001b[32mtrain_loss: 3.3324\u001b[0m\n"
          ]
        },
        {
          "output_type": "stream",
          "name": "stderr",
          "text": [
            "eval_pointwise: 100%|██████████| 1/1 [00:00<00:00, 554.88it/s]\n"
          ]
        },
        {
          "output_type": "stream",
          "name": "stdout",
          "text": [
            "\t eval rmse: 1.7111\n",
            "\t eval mae: 1.3692\n",
            "==============================\n",
            "With lr_decay, epoch 390 learning rate: 4.9671019297647945e-08\n"
          ]
        },
        {
          "output_type": "stream",
          "name": "stderr",
          "text": [
            "train: 100%|██████████| 57/57 [00:00<00:00, 294.21it/s]\n"
          ]
        },
        {
          "output_type": "stream",
          "name": "stdout",
          "text": [
            "Epoch 390 elapsed: 0.197s\n",
            "\t \u001b[32mtrain_loss: 3.4776\u001b[0m\n"
          ]
        },
        {
          "output_type": "stream",
          "name": "stderr",
          "text": [
            "eval_pointwise: 100%|██████████| 1/1 [00:00<00:00, 434.37it/s]\n"
          ]
        },
        {
          "output_type": "stream",
          "name": "stdout",
          "text": [
            "\t eval rmse: 1.7131\n",
            "\t eval mae: 1.3705\n",
            "==============================\n",
            "With lr_decay, epoch 391 learning rate: 4.7684224568911304e-08\n"
          ]
        },
        {
          "output_type": "stream",
          "name": "stderr",
          "text": [
            "train: 100%|██████████| 57/57 [00:00<00:00, 300.39it/s]\n"
          ]
        },
        {
          "output_type": "stream",
          "name": "stdout",
          "text": [
            "Epoch 391 elapsed: 0.193s\n",
            "\t \u001b[32mtrain_loss: 3.4697\u001b[0m\n"
          ]
        },
        {
          "output_type": "stream",
          "name": "stderr",
          "text": [
            "eval_pointwise: 100%|██████████| 1/1 [00:00<00:00, 592.92it/s]\n"
          ]
        },
        {
          "output_type": "stream",
          "name": "stdout",
          "text": [
            "\t eval rmse: 1.7119\n",
            "\t eval mae: 1.3693\n",
            "==============================\n",
            "With lr_decay, epoch 392 learning rate: 4.5776836543609534e-08\n"
          ]
        },
        {
          "output_type": "stream",
          "name": "stderr",
          "text": [
            "train: 100%|██████████| 57/57 [00:00<00:00, 300.39it/s]\n"
          ]
        },
        {
          "output_type": "stream",
          "name": "stdout",
          "text": [
            "Epoch 392 elapsed: 0.193s\n",
            "\t \u001b[32mtrain_loss: 3.4518\u001b[0m\n"
          ]
        },
        {
          "output_type": "stream",
          "name": "stderr",
          "text": [
            "eval_pointwise: 100%|██████████| 1/1 [00:00<00:00, 630.63it/s]\n"
          ]
        },
        {
          "output_type": "stream",
          "name": "stdout",
          "text": [
            "\t eval rmse: 1.7135\n",
            "\t eval mae: 1.3707\n",
            "==============================\n",
            "With lr_decay, epoch 393 learning rate: 4.218790294885366e-08\n"
          ]
        },
        {
          "output_type": "stream",
          "name": "stderr",
          "text": [
            "train: 100%|██████████| 57/57 [00:00<00:00, 301.81it/s]\n"
          ]
        },
        {
          "output_type": "stream",
          "name": "stdout",
          "text": [
            "Epoch 393 elapsed: 0.193s\n",
            "\t \u001b[32mtrain_loss: 3.323\u001b[0m\n"
          ]
        },
        {
          "output_type": "stream",
          "name": "stderr",
          "text": [
            "eval_pointwise: 100%|██████████| 1/1 [00:00<00:00, 457.10it/s]\n"
          ]
        },
        {
          "output_type": "stream",
          "name": "stdout",
          "text": [
            "\t eval rmse: 1.7123\n",
            "\t eval mae: 1.3700\n",
            "==============================\n",
            "With lr_decay, epoch 394 learning rate: 4.0500424347555963e-08\n"
          ]
        },
        {
          "output_type": "stream",
          "name": "stderr",
          "text": [
            "train: 100%|██████████| 57/57 [00:00<00:00, 298.43it/s]\n"
          ]
        },
        {
          "output_type": "stream",
          "name": "stdout",
          "text": [
            "Epoch 394 elapsed: 0.194s\n",
            "\t \u001b[32mtrain_loss: 3.4129\u001b[0m\n"
          ]
        },
        {
          "output_type": "stream",
          "name": "stderr",
          "text": [
            "eval_pointwise: 100%|██████████| 1/1 [00:00<00:00, 437.96it/s]\n"
          ]
        },
        {
          "output_type": "stream",
          "name": "stdout",
          "text": [
            "\t eval rmse: 1.7151\n",
            "\t eval mae: 1.3723\n",
            "==============================\n",
            "With lr_decay, epoch 395 learning rate: 3.888039401545029e-08\n"
          ]
        },
        {
          "output_type": "stream",
          "name": "stderr",
          "text": [
            "train: 100%|██████████| 57/57 [00:00<00:00, 297.48it/s]\n"
          ]
        },
        {
          "output_type": "stream",
          "name": "stdout",
          "text": [
            "Epoch 395 elapsed: 0.196s\n",
            "\t \u001b[32mtrain_loss: 3.3914\u001b[0m\n"
          ]
        },
        {
          "output_type": "stream",
          "name": "stderr",
          "text": [
            "eval_pointwise: 100%|██████████| 1/1 [00:00<00:00, 463.15it/s]\n"
          ]
        },
        {
          "output_type": "stream",
          "name": "stdout",
          "text": [
            "\t eval rmse: 1.7183\n",
            "\t eval mae: 1.3742\n",
            "==============================\n",
            "With lr_decay, epoch 396 learning rate: 3.7325161628132264e-08\n"
          ]
        },
        {
          "output_type": "stream",
          "name": "stderr",
          "text": [
            "train: 100%|██████████| 57/57 [00:00<00:00, 303.76it/s]\n"
          ]
        },
        {
          "output_type": "stream",
          "name": "stdout",
          "text": [
            "Epoch 396 elapsed: 0.192s\n",
            "\t \u001b[32mtrain_loss: 3.3335\u001b[0m\n"
          ]
        },
        {
          "output_type": "stream",
          "name": "stderr",
          "text": [
            "eval_pointwise: 100%|██████████| 1/1 [00:00<00:00, 523.70it/s]\n"
          ]
        },
        {
          "output_type": "stream",
          "name": "stdout",
          "text": [
            "\t eval rmse: 1.7159\n",
            "\t eval mae: 1.3737\n",
            "==============================\n",
            "With lr_decay, epoch 397 learning rate: 3.583214081004371e-08\n"
          ]
        },
        {
          "output_type": "stream",
          "name": "stderr",
          "text": [
            "train: 100%|██████████| 57/57 [00:00<00:00, 306.70it/s]\n"
          ]
        },
        {
          "output_type": "stream",
          "name": "stdout",
          "text": [
            "Epoch 397 elapsed: 0.191s\n",
            "\t \u001b[32mtrain_loss: 3.3646\u001b[0m\n"
          ]
        },
        {
          "output_type": "stream",
          "name": "stderr",
          "text": [
            "eval_pointwise: 100%|██████████| 1/1 [00:00<00:00, 526.53it/s]\n"
          ]
        },
        {
          "output_type": "stream",
          "name": "stdout",
          "text": [
            "\t eval rmse: 1.7142\n",
            "\t eval mae: 1.3735\n",
            "==============================\n",
            "With lr_decay, epoch 398 learning rate: 3.439888729417362e-08\n"
          ]
        },
        {
          "output_type": "stream",
          "name": "stderr",
          "text": [
            "train: 100%|██████████| 57/57 [00:00<00:00, 300.33it/s]\n"
          ]
        },
        {
          "output_type": "stream",
          "name": "stdout",
          "text": [
            "Epoch 398 elapsed: 0.192s\n",
            "\t \u001b[32mtrain_loss: 3.4123\u001b[0m\n"
          ]
        },
        {
          "output_type": "stream",
          "name": "stderr",
          "text": [
            "eval_pointwise: 100%|██████████| 1/1 [00:00<00:00, 485.34it/s]\n"
          ]
        },
        {
          "output_type": "stream",
          "name": "stdout",
          "text": [
            "\t eval rmse: 1.7169\n",
            "\t eval mae: 1.3726\n",
            "==============================\n",
            "With lr_decay, epoch 399 learning rate: 3.3022921286374185e-08\n"
          ]
        },
        {
          "output_type": "stream",
          "name": "stderr",
          "text": [
            "train: 100%|██████████| 57/57 [00:00<00:00, 297.95it/s]\n"
          ]
        },
        {
          "output_type": "stream",
          "name": "stdout",
          "text": [
            "Epoch 399 elapsed: 0.195s\n",
            "\t \u001b[32mtrain_loss: 3.6665\u001b[0m\n"
          ]
        },
        {
          "output_type": "stream",
          "name": "stderr",
          "text": [
            "eval_pointwise: 100%|██████████| 1/1 [00:00<00:00, 451.97it/s]\n"
          ]
        },
        {
          "output_type": "stream",
          "name": "stdout",
          "text": [
            "\t eval rmse: 1.7166\n",
            "\t eval mae: 1.3704\n",
            "==============================\n",
            "With lr_decay, epoch 400 learning rate: 3.170199036617305e-08\n"
          ]
        },
        {
          "output_type": "stream",
          "name": "stderr",
          "text": [
            "train: 100%|██████████| 57/57 [00:00<00:00, 294.61it/s]\n"
          ]
        },
        {
          "output_type": "stream",
          "name": "stdout",
          "text": [
            "Epoch 400 elapsed: 0.197s\n",
            "\t \u001b[32mtrain_loss: 3.4911\u001b[0m\n"
          ]
        },
        {
          "output_type": "stream",
          "name": "stderr",
          "text": [
            "eval_pointwise: 100%|██████████| 1/1 [00:00<00:00, 300.67it/s]"
          ]
        },
        {
          "output_type": "stream",
          "name": "stdout",
          "text": [
            "\t eval rmse: 1.7140\n",
            "\t eval mae: 1.3692\n",
            "==============================\n"
          ]
        },
        {
          "output_type": "stream",
          "name": "stderr",
          "text": [
            "\n"
          ]
        }
      ]
    },
    {
      "cell_type": "code",
      "source": [
        "predictions = {}"
      ],
      "metadata": {
        "id": "kNETUBm6GS9A"
      },
      "execution_count": 92,
      "outputs": []
    },
    {
      "cell_type": "code",
      "source": [
        "predictions = {}\n",
        "for user_id in tqdm(eval_df['user'].unique()):\n",
        "    predictions[user_id] = ncf.recommend_user(user=user_id, n_rec=20)[user_id]"
      ],
      "metadata": {
        "colab": {
          "base_uri": "https://localhost:8080/"
        },
        "id": "2Mxa0Db9ky35",
        "outputId": "64095c6f-d421-416c-c09a-d6e8d4b80548"
      },
      "execution_count": 93,
      "outputs": [
        {
          "output_type": "stream",
          "name": "stderr",
          "text": [
            "100%|██████████| 273/273 [00:00<00:00, 510.28it/s]\n"
          ]
        }
      ]
    },
    {
      "cell_type": "code",
      "source": [
        "mean_ap = 0\n",
        "total_abs_loss = 0\n",
        "total_l2_loss = 0\n",
        "total_precision_at_k = 0\n",
        "total_recall_at_k = 0\n",
        "total_ndcg = 0\n",
        "total_dcg = 0\n",
        "\n",
        "count_users_with_relevant_items = 0\n",
        "count = 0\n",
        "\n",
        "for user_id in eval_df['user'].unique():\n",
        "    relevant_items = eval_df[eval_df['user']==user_id]['item'].to_numpy()\n",
        "\n",
        "    predicted_isbns = predictions.get(user_id, [])\n",
        "\n",
        "    if predicted_isbns is None:\n",
        "        continue\n",
        "\n",
        "    ap = average_precision(predicted_isbns, relevant_items, m=20)\n",
        "    mean_ap += ap\n",
        "\n",
        "    precision = precision_at_k(predicted_isbns, relevant_items, k=20)\n",
        "    recall = recall_at_k(predicted_isbns, relevant_items, k=20)\n",
        "    total_precision_at_k += precision\n",
        "    total_recall_at_k += recall\n",
        "\n",
        "    count_users_with_relevant_items += 1\n",
        "\n",
        "mean_ap = mean_ap / count_users_with_relevant_items if count_users_with_relevant_items > 0 else 0\n",
        "mean_precision_at_k = total_precision_at_k / count_users_with_relevant_items if count_users_with_relevant_items > 0 else 0\n",
        "mean_recall_at_k = total_recall_at_k / count_users_with_relevant_items if count_users_with_relevant_items > 0 else 0\n",
        "\n",
        "print(f\"Mean Average Precision: {mean_ap}\")\n",
        "print(f\"Mean Precision at K: {mean_precision_at_k}\")\n",
        "print(f\"Mean Recall at K: {mean_recall_at_k}\")"
      ],
      "metadata": {
        "colab": {
          "base_uri": "https://localhost:8080/"
        },
        "id": "-JEKxW6cAjd3",
        "outputId": "1a1a66bb-9b4a-4c6c-a71b-10fc7c2c4c73"
      },
      "execution_count": 94,
      "outputs": [
        {
          "output_type": "stream",
          "name": "stdout",
          "text": [
            "Mean Average Precision: 0.006588319088319089\n",
            "Mean Precision at K: 0.002380952380952381\n",
            "Mean Recall at K: 0.02033403104831676\n"
          ]
        }
      ]
    },
    {
      "cell_type": "code",
      "source": [],
      "metadata": {
        "id": "QWSTeS5kBEdY"
      },
      "execution_count": null,
      "outputs": []
    }
  ]
}