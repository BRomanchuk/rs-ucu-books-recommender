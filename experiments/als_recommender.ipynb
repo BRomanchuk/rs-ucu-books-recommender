{
 "cells": [
  {
   "cell_type": "code",
   "execution_count": 9,
   "id": "initial_id",
   "metadata": {
    "collapsed": true,
    "ExecuteTime": {
     "end_time": "2024-07-07T14:45:20.302102Z",
     "start_time": "2024-07-07T14:45:19.374179700Z"
    }
   },
   "outputs": [
    {
     "name": "stderr",
     "output_type": "stream",
     "text": [
      "C:\\Users\\Никита\\AppData\\Local\\Temp\\ipykernel_13268\\3653110595.py:5: DtypeWarning: Columns (0) have mixed types. Specify dtype option on import or set low_memory=False.\n",
      "  users = pd.read_csv('../data/Users.csv', delimiter=';')\n"
     ]
    }
   ],
   "source": [
    "import pandas as pd\n",
    "\n",
    "books = pd.read_csv('../data/Books.csv', delimiter=';', low_memory=False)\n",
    "ratings = pd.read_csv('../data/Ratings.csv', delimiter=';')\n",
    "users = pd.read_csv('../data/Users.csv', delimiter=';')\n"
   ]
  },
  {
   "cell_type": "code",
   "execution_count": 6,
   "outputs": [
    {
     "name": "stderr",
     "output_type": "stream",
     "text": [
      "C:\\Users\\Никита\\AppData\\Local\\Temp\\ipykernel_13268\\3869774476.py:5: SettingWithCopyWarning: \n",
      "A value is trying to be set on a copy of a slice from a DataFrame.\n",
      "Try using .loc[row_indexer,col_indexer] = value instead\n",
      "\n",
      "See the caveats in the documentation: https://pandas.pydata.org/pandas-docs/stable/user_guide/indexing.html#returning-a-view-versus-a-copy\n",
      "  df_isbn['Original_NaN'] = df_isbn['Age'].isna()\n",
      "C:\\Users\\Никита\\AppData\\Local\\Temp\\ipykernel_13268\\3869774476.py:6: SettingWithCopyWarning: \n",
      "A value is trying to be set on a copy of a slice from a DataFrame.\n",
      "Try using .loc[row_indexer,col_indexer] = value instead\n",
      "\n",
      "See the caveats in the documentation: https://pandas.pydata.org/pandas-docs/stable/user_guide/indexing.html#returning-a-view-versus-a-copy\n",
      "  df_isbn['Age'] = pd.to_numeric(df_isbn['Age'], errors='coerce')\n",
      "C:\\Users\\Никита\\AppData\\Local\\Temp\\ipykernel_13268\\3869774476.py:7: UserWarning: Boolean Series key will be reindexed to match DataFrame index.\n",
      "  df_isbn = df_isbn[~(users['Age'].isna() & ~df_isbn['Original_NaN'])]\n"
     ]
    }
   ],
   "source": [
    "df_prep_step_1 = pd.merge(books, ratings.query(\"`Rating` > 0\"), on='ISBN', how='inner')\n",
    "df_prep_step_2 = pd.merge(df_prep_step_1, users, on='User-ID', how='inner')\n",
    "df_prep = df_prep_step_2.drop(['Publisher'], axis=1)\n",
    "df_isbn = df_prep.drop_duplicates()\n",
    "df_isbn['Original_NaN'] = df_isbn['Age'].isna()\n",
    "df_isbn['Age'] = pd.to_numeric(df_isbn['Age'], errors='coerce')\n",
    "df_isbn = df_isbn[~(users['Age'].isna() & ~df_isbn['Original_NaN'])]\n",
    "df_isbn.drop(columns=['Original_NaN'], inplace=True)\n",
    "df_isbn['User-ID'] = pd.to_numeric(df_isbn['User-ID'], errors='coerce')\n",
    "df_isbn = df_isbn[~(df_isbn['User-ID'].isna())]\n",
    "age_outliers = df_isbn.query(\"Age > 100 or Age < 6\")\n",
    "user_outliers = age_outliers[\"User-ID\"].to_list()\n",
    "df_isbn = df_isbn[~df_isbn[\"User-ID\"].isin(user_outliers)]"
   ],
   "metadata": {
    "collapsed": false,
    "ExecuteTime": {
     "end_time": "2024-07-07T14:06:30.882888500Z",
     "start_time": "2024-07-07T14:06:29.716406900Z"
    }
   },
   "id": "9f341317047adff3"
  },
  {
   "cell_type": "code",
   "execution_count": null,
   "outputs": [],
   "source": [
    "from sklearn.model_selection import train_test_split\n",
    "\n",
    "y = df_isbn['Rating']\n",
    "X = df_isbn.drop('Rating', axis=1)\n",
    "\n",
    "X_train, X_test, y_train, y_test = train_test_split(X, y, test_size=0.2, random_state=42, shuffle=True)"
   ],
   "metadata": {
    "collapsed": false
   },
   "id": "117de0c58bee2d36"
  },
  {
   "cell_type": "code",
   "execution_count": 8,
   "outputs": [
    {
     "name": "stdout",
     "output_type": "stream",
     "text": [
      "        User-ID        ISBN  Rating\n",
      "0             8  0002005018     5.0\n",
      "1         11676  0002005018     8.0\n",
      "3        116866  0002005018     9.0\n",
      "4        123629  0002005018     9.0\n",
      "5        200273  0002005018     8.0\n",
      "...         ...         ...     ...\n",
      "363529   259901  0679861548     7.0\n",
      "363530   259901  0816705739    10.0\n",
      "363531   259901  0822502763    10.0\n",
      "363532   259901  5550534274    10.0\n",
      "363533   260239  3404128907     8.0\n",
      "\n",
      "[285506 rows x 3 columns]\n"
     ]
    },
    {
     "name": "stderr",
     "output_type": "stream",
     "text": [
      "D:\\Новая папка1\\rs-ucu-books-recommender\\myenv\\Lib\\site-packages\\pandas\\core\\reshape\\reshape.py:143: RuntimeWarning: overflow encountered in scalar multiply\n",
      "  num_cells = num_rows * num_columns\n",
      "D:\\Новая папка1\\rs-ucu-books-recommender\\myenv\\Lib\\site-packages\\pandas\\core\\reshape\\reshape.py:143: RuntimeWarning: overflow encountered in scalar multiply\n",
      "  num_cells = num_rows * num_columns\n",
      "D:\\Новая папка1\\rs-ucu-books-recommender\\myenv\\Lib\\site-packages\\pandas\\core\\reshape\\reshape.py:143: RuntimeWarning: overflow encountered in scalar multiply\n",
      "  num_cells = num_rows * num_columns\n"
     ]
    },
    {
     "ename": "ValueError",
     "evalue": "negative dimensions are not allowed",
     "output_type": "error",
     "traceback": [
      "\u001B[1;31m---------------------------------------------------------------------------\u001B[0m",
      "\u001B[1;31mValueError\u001B[0m                                Traceback (most recent call last)",
      "Cell \u001B[1;32mIn[8], line 8\u001B[0m\n\u001B[0;32m      5\u001B[0m users \u001B[38;5;241m=\u001B[39m df_isbn[[\u001B[38;5;124m'\u001B[39m\u001B[38;5;124mUser-ID\u001B[39m\u001B[38;5;124m'\u001B[39m, \u001B[38;5;124m'\u001B[39m\u001B[38;5;124mAge\u001B[39m\u001B[38;5;124m'\u001B[39m]]\n\u001B[0;32m      7\u001B[0m als \u001B[38;5;241m=\u001B[39m ALSRecommender()\n\u001B[1;32m----> 8\u001B[0m \u001B[43mals\u001B[49m\u001B[38;5;241;43m.\u001B[39;49m\u001B[43mfit\u001B[49m\u001B[43m(\u001B[49m\u001B[43mratings\u001B[49m\u001B[43m,\u001B[49m\u001B[43m \u001B[49m\u001B[43mbooks\u001B[49m\u001B[43m,\u001B[49m\u001B[43m \u001B[49m\u001B[43musers\u001B[49m\u001B[43m)\u001B[49m\n\u001B[0;32m     10\u001B[0m metrics \u001B[38;5;241m=\u001B[39m als\u001B[38;5;241m.\u001B[39meval(ratings)\n\u001B[0;32m     11\u001B[0m \u001B[38;5;28mprint\u001B[39m(metrics)\n",
      "File \u001B[1;32mD:\\Новая папка1\\rs-ucu-books-recommender\\src\\recommenders\\als_recommender.py:45\u001B[0m, in \u001B[0;36mALSRecommender.fit\u001B[1;34m(self, ratings, books, users)\u001B[0m\n\u001B[0;32m     41\u001B[0m \u001B[38;5;28mprint\u001B[39m(ratings)\n\u001B[0;32m     43\u001B[0m ratings\u001B[38;5;241m.\u001B[39mdrop_duplicates(inplace\u001B[38;5;241m=\u001B[39m\u001B[38;5;28;01mTrue\u001B[39;00m)\n\u001B[1;32m---> 45\u001B[0m ratings_matrix \u001B[38;5;241m=\u001B[39m \u001B[43mpd\u001B[49m\u001B[38;5;241;43m.\u001B[39;49m\u001B[43mpivot_table\u001B[49m\u001B[43m(\u001B[49m\u001B[43mratings\u001B[49m\u001B[43m,\u001B[49m\u001B[43m \u001B[49m\u001B[38;5;124;43m'\u001B[39;49m\u001B[38;5;124;43mRating\u001B[39;49m\u001B[38;5;124;43m'\u001B[39;49m\u001B[43m,\u001B[49m\u001B[43m \u001B[49m\u001B[38;5;124;43m'\u001B[39;49m\u001B[38;5;124;43mUser-ID\u001B[39;49m\u001B[38;5;124;43m'\u001B[39;49m\u001B[43m,\u001B[49m\u001B[43m \u001B[49m\u001B[38;5;124;43m'\u001B[39;49m\u001B[38;5;124;43mISBN\u001B[39;49m\u001B[38;5;124;43m'\u001B[39;49m\u001B[43m)\u001B[49m\n\u001B[0;32m     46\u001B[0m \u001B[38;5;66;03m#ratings_matrix = ratings.pivot(index='User-ID', columns='ISBN', values='Rating').fillna(0)\u001B[39;00m\n\u001B[0;32m     47\u001B[0m \u001B[38;5;28mself\u001B[39m\u001B[38;5;241m.\u001B[39muser_ids \u001B[38;5;241m=\u001B[39m ratings_matrix\u001B[38;5;241m.\u001B[39mindex\u001B[38;5;241m.\u001B[39mtolist()\n",
      "File \u001B[1;32mD:\\Новая папка1\\rs-ucu-books-recommender\\myenv\\Lib\\site-packages\\pandas\\core\\reshape\\pivot.py:102\u001B[0m, in \u001B[0;36mpivot_table\u001B[1;34m(data, values, index, columns, aggfunc, fill_value, margins, dropna, margins_name, observed, sort)\u001B[0m\n\u001B[0;32m     99\u001B[0m     table \u001B[38;5;241m=\u001B[39m concat(pieces, keys\u001B[38;5;241m=\u001B[39mkeys, axis\u001B[38;5;241m=\u001B[39m\u001B[38;5;241m1\u001B[39m)\n\u001B[0;32m    100\u001B[0m     \u001B[38;5;28;01mreturn\u001B[39;00m table\u001B[38;5;241m.\u001B[39m__finalize__(data, method\u001B[38;5;241m=\u001B[39m\u001B[38;5;124m\"\u001B[39m\u001B[38;5;124mpivot_table\u001B[39m\u001B[38;5;124m\"\u001B[39m)\n\u001B[1;32m--> 102\u001B[0m table \u001B[38;5;241m=\u001B[39m \u001B[43m__internal_pivot_table\u001B[49m\u001B[43m(\u001B[49m\n\u001B[0;32m    103\u001B[0m \u001B[43m    \u001B[49m\u001B[43mdata\u001B[49m\u001B[43m,\u001B[49m\n\u001B[0;32m    104\u001B[0m \u001B[43m    \u001B[49m\u001B[43mvalues\u001B[49m\u001B[43m,\u001B[49m\n\u001B[0;32m    105\u001B[0m \u001B[43m    \u001B[49m\u001B[43mindex\u001B[49m\u001B[43m,\u001B[49m\n\u001B[0;32m    106\u001B[0m \u001B[43m    \u001B[49m\u001B[43mcolumns\u001B[49m\u001B[43m,\u001B[49m\n\u001B[0;32m    107\u001B[0m \u001B[43m    \u001B[49m\u001B[43maggfunc\u001B[49m\u001B[43m,\u001B[49m\n\u001B[0;32m    108\u001B[0m \u001B[43m    \u001B[49m\u001B[43mfill_value\u001B[49m\u001B[43m,\u001B[49m\n\u001B[0;32m    109\u001B[0m \u001B[43m    \u001B[49m\u001B[43mmargins\u001B[49m\u001B[43m,\u001B[49m\n\u001B[0;32m    110\u001B[0m \u001B[43m    \u001B[49m\u001B[43mdropna\u001B[49m\u001B[43m,\u001B[49m\n\u001B[0;32m    111\u001B[0m \u001B[43m    \u001B[49m\u001B[43mmargins_name\u001B[49m\u001B[43m,\u001B[49m\n\u001B[0;32m    112\u001B[0m \u001B[43m    \u001B[49m\u001B[43mobserved\u001B[49m\u001B[43m,\u001B[49m\n\u001B[0;32m    113\u001B[0m \u001B[43m    \u001B[49m\u001B[43msort\u001B[49m\u001B[43m,\u001B[49m\n\u001B[0;32m    114\u001B[0m \u001B[43m\u001B[49m\u001B[43m)\u001B[49m\n\u001B[0;32m    115\u001B[0m \u001B[38;5;28;01mreturn\u001B[39;00m table\u001B[38;5;241m.\u001B[39m__finalize__(data, method\u001B[38;5;241m=\u001B[39m\u001B[38;5;124m\"\u001B[39m\u001B[38;5;124mpivot_table\u001B[39m\u001B[38;5;124m\"\u001B[39m)\n",
      "File \u001B[1;32mD:\\Новая папка1\\rs-ucu-books-recommender\\myenv\\Lib\\site-packages\\pandas\\core\\reshape\\pivot.py:203\u001B[0m, in \u001B[0;36m__internal_pivot_table\u001B[1;34m(data, values, index, columns, aggfunc, fill_value, margins, dropna, margins_name, observed, sort)\u001B[0m\n\u001B[0;32m    201\u001B[0m         \u001B[38;5;28;01melse\u001B[39;00m:\n\u001B[0;32m    202\u001B[0m             to_unstack\u001B[38;5;241m.\u001B[39mappend(name)\n\u001B[1;32m--> 203\u001B[0m     table \u001B[38;5;241m=\u001B[39m \u001B[43magged\u001B[49m\u001B[38;5;241;43m.\u001B[39;49m\u001B[43munstack\u001B[49m\u001B[43m(\u001B[49m\u001B[43mto_unstack\u001B[49m\u001B[43m,\u001B[49m\u001B[43m \u001B[49m\u001B[43mfill_value\u001B[49m\u001B[38;5;241;43m=\u001B[39;49m\u001B[43mfill_value\u001B[49m\u001B[43m)\u001B[49m\n\u001B[0;32m    205\u001B[0m \u001B[38;5;28;01mif\u001B[39;00m \u001B[38;5;129;01mnot\u001B[39;00m dropna:\n\u001B[0;32m    206\u001B[0m     \u001B[38;5;28;01mif\u001B[39;00m \u001B[38;5;28misinstance\u001B[39m(table\u001B[38;5;241m.\u001B[39mindex, MultiIndex):\n",
      "File \u001B[1;32mD:\\Новая папка1\\rs-ucu-books-recommender\\myenv\\Lib\\site-packages\\pandas\\core\\frame.py:9928\u001B[0m, in \u001B[0;36mDataFrame.unstack\u001B[1;34m(self, level, fill_value, sort)\u001B[0m\n\u001B[0;32m   9864\u001B[0m \u001B[38;5;250m\u001B[39m\u001B[38;5;124;03m\"\"\"\u001B[39;00m\n\u001B[0;32m   9865\u001B[0m \u001B[38;5;124;03mPivot a level of the (necessarily hierarchical) index labels.\u001B[39;00m\n\u001B[0;32m   9866\u001B[0m \n\u001B[1;32m   (...)\u001B[0m\n\u001B[0;32m   9924\u001B[0m \u001B[38;5;124;03mdtype: float64\u001B[39;00m\n\u001B[0;32m   9925\u001B[0m \u001B[38;5;124;03m\"\"\"\u001B[39;00m\n\u001B[0;32m   9926\u001B[0m \u001B[38;5;28;01mfrom\u001B[39;00m \u001B[38;5;21;01mpandas\u001B[39;00m\u001B[38;5;21;01m.\u001B[39;00m\u001B[38;5;21;01mcore\u001B[39;00m\u001B[38;5;21;01m.\u001B[39;00m\u001B[38;5;21;01mreshape\u001B[39;00m\u001B[38;5;21;01m.\u001B[39;00m\u001B[38;5;21;01mreshape\u001B[39;00m \u001B[38;5;28;01mimport\u001B[39;00m unstack\n\u001B[1;32m-> 9928\u001B[0m result \u001B[38;5;241m=\u001B[39m \u001B[43munstack\u001B[49m\u001B[43m(\u001B[49m\u001B[38;5;28;43mself\u001B[39;49m\u001B[43m,\u001B[49m\u001B[43m \u001B[49m\u001B[43mlevel\u001B[49m\u001B[43m,\u001B[49m\u001B[43m \u001B[49m\u001B[43mfill_value\u001B[49m\u001B[43m,\u001B[49m\u001B[43m \u001B[49m\u001B[43msort\u001B[49m\u001B[43m)\u001B[49m\n\u001B[0;32m   9930\u001B[0m \u001B[38;5;28;01mreturn\u001B[39;00m result\u001B[38;5;241m.\u001B[39m__finalize__(\u001B[38;5;28mself\u001B[39m, method\u001B[38;5;241m=\u001B[39m\u001B[38;5;124m\"\u001B[39m\u001B[38;5;124munstack\u001B[39m\u001B[38;5;124m\"\u001B[39m)\n",
      "File \u001B[1;32mD:\\Новая папка1\\rs-ucu-books-recommender\\myenv\\Lib\\site-packages\\pandas\\core\\reshape\\reshape.py:504\u001B[0m, in \u001B[0;36munstack\u001B[1;34m(obj, level, fill_value, sort)\u001B[0m\n\u001B[0;32m    502\u001B[0m \u001B[38;5;28;01mif\u001B[39;00m \u001B[38;5;28misinstance\u001B[39m(obj, DataFrame):\n\u001B[0;32m    503\u001B[0m     \u001B[38;5;28;01mif\u001B[39;00m \u001B[38;5;28misinstance\u001B[39m(obj\u001B[38;5;241m.\u001B[39mindex, MultiIndex):\n\u001B[1;32m--> 504\u001B[0m         \u001B[38;5;28;01mreturn\u001B[39;00m \u001B[43m_unstack_frame\u001B[49m\u001B[43m(\u001B[49m\u001B[43mobj\u001B[49m\u001B[43m,\u001B[49m\u001B[43m \u001B[49m\u001B[43mlevel\u001B[49m\u001B[43m,\u001B[49m\u001B[43m \u001B[49m\u001B[43mfill_value\u001B[49m\u001B[38;5;241;43m=\u001B[39;49m\u001B[43mfill_value\u001B[49m\u001B[43m,\u001B[49m\u001B[43m \u001B[49m\u001B[43msort\u001B[49m\u001B[38;5;241;43m=\u001B[39;49m\u001B[43msort\u001B[49m\u001B[43m)\u001B[49m\n\u001B[0;32m    505\u001B[0m     \u001B[38;5;28;01melse\u001B[39;00m:\n\u001B[0;32m    506\u001B[0m         \u001B[38;5;28;01mreturn\u001B[39;00m obj\u001B[38;5;241m.\u001B[39mT\u001B[38;5;241m.\u001B[39mstack(future_stack\u001B[38;5;241m=\u001B[39m\u001B[38;5;28;01mTrue\u001B[39;00m)\n",
      "File \u001B[1;32mD:\\Новая папка1\\rs-ucu-books-recommender\\myenv\\Lib\\site-packages\\pandas\\core\\reshape\\reshape.py:529\u001B[0m, in \u001B[0;36m_unstack_frame\u001B[1;34m(obj, level, fill_value, sort)\u001B[0m\n\u001B[0;32m    525\u001B[0m \u001B[38;5;28;01mdef\u001B[39;00m \u001B[38;5;21m_unstack_frame\u001B[39m(\n\u001B[0;32m    526\u001B[0m     obj: DataFrame, level, fill_value\u001B[38;5;241m=\u001B[39m\u001B[38;5;28;01mNone\u001B[39;00m, sort: \u001B[38;5;28mbool\u001B[39m \u001B[38;5;241m=\u001B[39m \u001B[38;5;28;01mTrue\u001B[39;00m\n\u001B[0;32m    527\u001B[0m ) \u001B[38;5;241m-\u001B[39m\u001B[38;5;241m>\u001B[39m DataFrame:\n\u001B[0;32m    528\u001B[0m     \u001B[38;5;28;01massert\u001B[39;00m \u001B[38;5;28misinstance\u001B[39m(obj\u001B[38;5;241m.\u001B[39mindex, MultiIndex)  \u001B[38;5;66;03m# checked by caller\u001B[39;00m\n\u001B[1;32m--> 529\u001B[0m     unstacker \u001B[38;5;241m=\u001B[39m \u001B[43m_Unstacker\u001B[49m\u001B[43m(\u001B[49m\n\u001B[0;32m    530\u001B[0m \u001B[43m        \u001B[49m\u001B[43mobj\u001B[49m\u001B[38;5;241;43m.\u001B[39;49m\u001B[43mindex\u001B[49m\u001B[43m,\u001B[49m\u001B[43m \u001B[49m\u001B[43mlevel\u001B[49m\u001B[38;5;241;43m=\u001B[39;49m\u001B[43mlevel\u001B[49m\u001B[43m,\u001B[49m\u001B[43m \u001B[49m\u001B[43mconstructor\u001B[49m\u001B[38;5;241;43m=\u001B[39;49m\u001B[43mobj\u001B[49m\u001B[38;5;241;43m.\u001B[39;49m\u001B[43m_constructor\u001B[49m\u001B[43m,\u001B[49m\u001B[43m \u001B[49m\u001B[43msort\u001B[49m\u001B[38;5;241;43m=\u001B[39;49m\u001B[43msort\u001B[49m\n\u001B[0;32m    531\u001B[0m \u001B[43m    \u001B[49m\u001B[43m)\u001B[49m\n\u001B[0;32m    533\u001B[0m     \u001B[38;5;28;01mif\u001B[39;00m \u001B[38;5;129;01mnot\u001B[39;00m obj\u001B[38;5;241m.\u001B[39m_can_fast_transpose:\n\u001B[0;32m    534\u001B[0m         mgr \u001B[38;5;241m=\u001B[39m obj\u001B[38;5;241m.\u001B[39m_mgr\u001B[38;5;241m.\u001B[39munstack(unstacker, fill_value\u001B[38;5;241m=\u001B[39mfill_value)\n",
      "File \u001B[1;32mD:\\Новая папка1\\rs-ucu-books-recommender\\myenv\\Lib\\site-packages\\pandas\\core\\reshape\\reshape.py:154\u001B[0m, in \u001B[0;36m_Unstacker.__init__\u001B[1;34m(self, index, level, constructor, sort)\u001B[0m\n\u001B[0;32m    146\u001B[0m \u001B[38;5;28;01mif\u001B[39;00m num_cells \u001B[38;5;241m>\u001B[39m np\u001B[38;5;241m.\u001B[39miinfo(np\u001B[38;5;241m.\u001B[39mint32)\u001B[38;5;241m.\u001B[39mmax:\n\u001B[0;32m    147\u001B[0m     warnings\u001B[38;5;241m.\u001B[39mwarn(\n\u001B[0;32m    148\u001B[0m         \u001B[38;5;124mf\u001B[39m\u001B[38;5;124m\"\u001B[39m\u001B[38;5;124mThe following operation may generate \u001B[39m\u001B[38;5;132;01m{\u001B[39;00mnum_cells\u001B[38;5;132;01m}\u001B[39;00m\u001B[38;5;124m cells \u001B[39m\u001B[38;5;124m\"\u001B[39m\n\u001B[0;32m    149\u001B[0m         \u001B[38;5;124mf\u001B[39m\u001B[38;5;124m\"\u001B[39m\u001B[38;5;124min the resulting pandas object.\u001B[39m\u001B[38;5;124m\"\u001B[39m,\n\u001B[0;32m    150\u001B[0m         PerformanceWarning,\n\u001B[0;32m    151\u001B[0m         stacklevel\u001B[38;5;241m=\u001B[39mfind_stack_level(),\n\u001B[0;32m    152\u001B[0m     )\n\u001B[1;32m--> 154\u001B[0m \u001B[38;5;28;43mself\u001B[39;49m\u001B[38;5;241;43m.\u001B[39;49m\u001B[43m_make_selectors\u001B[49m\u001B[43m(\u001B[49m\u001B[43m)\u001B[49m\n",
      "File \u001B[1;32mD:\\Новая папка1\\rs-ucu-books-recommender\\myenv\\Lib\\site-packages\\pandas\\core\\reshape\\reshape.py:206\u001B[0m, in \u001B[0;36m_Unstacker._make_selectors\u001B[1;34m(self)\u001B[0m\n\u001B[0;32m    203\u001B[0m \u001B[38;5;28mself\u001B[39m\u001B[38;5;241m.\u001B[39mfull_shape \u001B[38;5;241m=\u001B[39m ngroups, stride\n\u001B[0;32m    205\u001B[0m selector \u001B[38;5;241m=\u001B[39m \u001B[38;5;28mself\u001B[39m\u001B[38;5;241m.\u001B[39msorted_labels[\u001B[38;5;241m-\u001B[39m\u001B[38;5;241m1\u001B[39m] \u001B[38;5;241m+\u001B[39m stride \u001B[38;5;241m*\u001B[39m comp_index \u001B[38;5;241m+\u001B[39m \u001B[38;5;28mself\u001B[39m\u001B[38;5;241m.\u001B[39mlift\n\u001B[1;32m--> 206\u001B[0m mask \u001B[38;5;241m=\u001B[39m \u001B[43mnp\u001B[49m\u001B[38;5;241;43m.\u001B[39;49m\u001B[43mzeros\u001B[49m\u001B[43m(\u001B[49m\u001B[43mnp\u001B[49m\u001B[38;5;241;43m.\u001B[39;49m\u001B[43mprod\u001B[49m\u001B[43m(\u001B[49m\u001B[38;5;28;43mself\u001B[39;49m\u001B[38;5;241;43m.\u001B[39;49m\u001B[43mfull_shape\u001B[49m\u001B[43m)\u001B[49m\u001B[43m,\u001B[49m\u001B[43m \u001B[49m\u001B[43mdtype\u001B[49m\u001B[38;5;241;43m=\u001B[39;49m\u001B[38;5;28;43mbool\u001B[39;49m\u001B[43m)\u001B[49m\n\u001B[0;32m    207\u001B[0m mask\u001B[38;5;241m.\u001B[39mput(selector, \u001B[38;5;28;01mTrue\u001B[39;00m)\n\u001B[0;32m    209\u001B[0m \u001B[38;5;28;01mif\u001B[39;00m mask\u001B[38;5;241m.\u001B[39msum() \u001B[38;5;241m<\u001B[39m \u001B[38;5;28mlen\u001B[39m(\u001B[38;5;28mself\u001B[39m\u001B[38;5;241m.\u001B[39mindex):\n",
      "\u001B[1;31mValueError\u001B[0m: negative dimensions are not allowed"
     ]
    }
   ],
   "source": [
    "from src.recommenders.als_recommender import ALSRecommender\n",
    "\n",
    "ratings = df_isbn[['User-ID', 'ISBN', 'Rating']]\n",
    "books = df_isbn[['ISBN', 'Title', 'Author', 'Year']]\n",
    "users = df_isbn[['User-ID', 'Age']]\n",
    "\n",
    "als = ALSRecommender()\n",
    "als.fit(ratings, books, users)\n",
    "\n",
    "metrics = als.eval(ratings)\n",
    "print(metrics)"
   ],
   "metadata": {
    "collapsed": false,
    "ExecuteTime": {
     "end_time": "2024-07-07T14:06:44.186234100Z",
     "start_time": "2024-07-07T14:06:37.213011600Z"
    }
   },
   "id": "a1b844d1c917b5f0"
  },
  {
   "cell_type": "code",
   "execution_count": 9,
   "outputs": [
    {
     "data": {
      "text/plain": "        User-ID        ISBN  Rating\n0             8  0002005018       5\n1         11676  0002005018       8\n3        116866  0002005018       9\n4        123629  0002005018       9\n5        200273  0002005018       8\n...         ...         ...     ...\n363529   259901  0679861548       7\n363530   259901  0816705739      10\n363531   259901  0822502763      10\n363532   259901  5550534274      10\n363533   260239  3404128907       8\n\n[285506 rows x 3 columns]",
      "text/html": "<div>\n<style scoped>\n    .dataframe tbody tr th:only-of-type {\n        vertical-align: middle;\n    }\n\n    .dataframe tbody tr th {\n        vertical-align: top;\n    }\n\n    .dataframe thead th {\n        text-align: right;\n    }\n</style>\n<table border=\"1\" class=\"dataframe\">\n  <thead>\n    <tr style=\"text-align: right;\">\n      <th></th>\n      <th>User-ID</th>\n      <th>ISBN</th>\n      <th>Rating</th>\n    </tr>\n  </thead>\n  <tbody>\n    <tr>\n      <th>0</th>\n      <td>8</td>\n      <td>0002005018</td>\n      <td>5</td>\n    </tr>\n    <tr>\n      <th>1</th>\n      <td>11676</td>\n      <td>0002005018</td>\n      <td>8</td>\n    </tr>\n    <tr>\n      <th>3</th>\n      <td>116866</td>\n      <td>0002005018</td>\n      <td>9</td>\n    </tr>\n    <tr>\n      <th>4</th>\n      <td>123629</td>\n      <td>0002005018</td>\n      <td>9</td>\n    </tr>\n    <tr>\n      <th>5</th>\n      <td>200273</td>\n      <td>0002005018</td>\n      <td>8</td>\n    </tr>\n    <tr>\n      <th>...</th>\n      <td>...</td>\n      <td>...</td>\n      <td>...</td>\n    </tr>\n    <tr>\n      <th>363529</th>\n      <td>259901</td>\n      <td>0679861548</td>\n      <td>7</td>\n    </tr>\n    <tr>\n      <th>363530</th>\n      <td>259901</td>\n      <td>0816705739</td>\n      <td>10</td>\n    </tr>\n    <tr>\n      <th>363531</th>\n      <td>259901</td>\n      <td>0822502763</td>\n      <td>10</td>\n    </tr>\n    <tr>\n      <th>363532</th>\n      <td>259901</td>\n      <td>5550534274</td>\n      <td>10</td>\n    </tr>\n    <tr>\n      <th>363533</th>\n      <td>260239</td>\n      <td>3404128907</td>\n      <td>8</td>\n    </tr>\n  </tbody>\n</table>\n<p>285506 rows × 3 columns</p>\n</div>"
     },
     "execution_count": 9,
     "metadata": {},
     "output_type": "execute_result"
    }
   ],
   "source": [
    "ratings"
   ],
   "metadata": {
    "collapsed": false,
    "ExecuteTime": {
     "end_time": "2024-07-07T13:33:32.800084600Z",
     "start_time": "2024-07-07T13:33:32.722842500Z"
    }
   },
   "id": "96ad7c8f2db607f2"
  },
  {
   "cell_type": "code",
   "execution_count": null,
   "outputs": [],
   "source": [],
   "metadata": {
    "collapsed": false
   },
   "id": "80d223242498696e"
  }
 ],
 "metadata": {
  "kernelspec": {
   "display_name": "Python 3",
   "language": "python",
   "name": "python3"
  },
  "language_info": {
   "codemirror_mode": {
    "name": "ipython",
    "version": 2
   },
   "file_extension": ".py",
   "mimetype": "text/x-python",
   "name": "python",
   "nbconvert_exporter": "python",
   "pygments_lexer": "ipython2",
   "version": "2.7.6"
  }
 },
 "nbformat": 4,
 "nbformat_minor": 5
}
