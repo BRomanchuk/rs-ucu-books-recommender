{
 "metadata": {
  "kernelspec": {
   "language": "python",
   "display_name": "Python 3",
   "name": "python3"
  },
  "language_info": {
   "name": "python",
   "version": "3.10.13",
   "mimetype": "text/x-python",
   "codemirror_mode": {
    "name": "ipython",
    "version": 3
   },
   "pygments_lexer": "ipython3",
   "nbconvert_exporter": "python",
   "file_extension": ".py"
  },
  "kaggle": {
   "accelerator": "nvidiaTeslaT4",
   "dataSources": [
    {
     "sourceId": 8704650,
     "sourceType": "datasetVersion",
     "datasetId": 5221114
    }
   ],
   "dockerImageVersionId": 30733,
   "isInternetEnabled": true,
   "language": "python",
   "sourceType": "notebook",
   "isGpuEnabled": true
  }
 },
 "nbformat_minor": 4,
 "nbformat": 4,
 "cells": [
  {
   "cell_type": "code",
   "source": [
    "import pandas as pd\n",
    "import numpy as np\n",
    "from tqdm import tqdm\n",
    "from sklearn.metrics.pairwise import cosine_similarity\n",
    "\n",
    "from sklearn.model_selection import train_test_split\n",
    "from sklearn.feature_extraction.text import TfidfVectorizer\n",
    "from sklearn import metrics\n",
    "import scipy as sp\n",
    "from concurrent.futures import ThreadPoolExecutor"
   ],
   "metadata": {
    "execution": {
     "iopub.status.busy": "2024-07-07T17:00:49.569532Z",
     "iopub.execute_input": "2024-07-07T17:00:49.569901Z",
     "iopub.status.idle": "2024-07-07T17:00:53.526969Z",
     "shell.execute_reply.started": "2024-07-07T17:00:49.569868Z",
     "shell.execute_reply": "2024-07-07T17:00:53.526226Z"
    },
    "trusted": true
   },
   "execution_count": 2,
   "outputs": []
  },
  {
   "cell_type": "code",
   "source": [
    "books = pd.read_csv('/kaggle/input/books-csv/Books.csv', delimiter=';', low_memory=False)\n",
    "ratings = pd.read_csv('/kaggle/input/books-csv/Ratings.csv', delimiter=';')\n",
    "users = pd.read_csv('/kaggle/input/books-csv/Users.csv', delimiter=';')"
   ],
   "metadata": {
    "execution": {
     "iopub.status.busy": "2024-07-07T17:01:04.787128Z",
     "iopub.execute_input": "2024-07-07T17:01:04.787996Z",
     "iopub.status.idle": "2024-07-07T17:01:06.773295Z",
     "shell.execute_reply.started": "2024-07-07T17:01:04.787965Z",
     "shell.execute_reply": "2024-07-07T17:01:06.772301Z"
    },
    "trusted": true
   },
   "execution_count": 4,
   "outputs": [
    {
     "name": "stderr",
     "text": "/tmp/ipykernel_34/3782059545.py:3: DtypeWarning: Columns (0) have mixed types. Specify dtype option on import or set low_memory=False.\n  users = pd.read_csv('/kaggle/input/books-csv/Users.csv', delimiter=';')\n",
     "output_type": "stream"
    }
   ]
  },
  {
   "cell_type": "code",
   "source": [
    "df_prep_step_1 = pd.merge(books, ratings.query(\"`Rating` > 0\"), on='ISBN', how='inner')\n",
    "\n",
    "# join users data\n",
    "df_prep_step_2 = pd.merge(df_prep_step_1, users, on='User-ID', how='inner')"
   ],
   "metadata": {
    "execution": {
     "iopub.status.busy": "2024-07-07T17:01:16.565927Z",
     "iopub.execute_input": "2024-07-07T17:01:16.566813Z",
     "iopub.status.idle": "2024-07-07T17:01:17.248750Z",
     "shell.execute_reply.started": "2024-07-07T17:01:16.566778Z",
     "shell.execute_reply": "2024-07-07T17:01:17.247813Z"
    },
    "trusted": true
   },
   "execution_count": 6,
   "outputs": []
  },
  {
   "cell_type": "code",
   "source": [
    "df_prep = df_prep_step_2.drop(['Publisher'], axis=1)\n",
    "df_isbn = df_prep.drop_duplicates()"
   ],
   "metadata": {
    "execution": {
     "iopub.status.busy": "2024-07-07T17:01:20.020885Z",
     "iopub.execute_input": "2024-07-07T17:01:20.021587Z",
     "iopub.status.idle": "2024-07-07T17:01:20.373659Z",
     "shell.execute_reply.started": "2024-07-07T17:01:20.021553Z",
     "shell.execute_reply": "2024-07-07T17:01:20.372580Z"
    },
    "trusted": true
   },
   "execution_count": 7,
   "outputs": []
  },
  {
   "cell_type": "code",
   "source": [
    "df_isbn['Original_NaN'] = df_isbn['Age'].isna()\n",
    "\n",
    "# Convert 'Age' to numeric, turning non-numeric values into NaN\n",
    "df_isbn['Age'] = pd.to_numeric(df_isbn['Age'], errors='coerce')\n",
    "\n",
    "# Drop rows where 'Age' is NaN and were not originally NaN\n",
    "df_isbn = df_isbn[~(users['Age'].isna() & ~df_isbn['Original_NaN'])]\n",
    "\n",
    "# Drop the 'Original_NaN' column as it's no longer needed\n",
    "df_isbn.drop(columns=['Original_NaN'], inplace=True)"
   ],
   "metadata": {
    "execution": {
     "iopub.status.busy": "2024-07-07T17:01:22.240401Z",
     "iopub.execute_input": "2024-07-07T17:01:22.241331Z",
     "iopub.status.idle": "2024-07-07T17:01:22.847609Z",
     "shell.execute_reply.started": "2024-07-07T17:01:22.241298Z",
     "shell.execute_reply": "2024-07-07T17:01:22.846577Z"
    },
    "trusted": true
   },
   "execution_count": 8,
   "outputs": [
    {
     "name": "stderr",
     "text": "/tmp/ipykernel_34/4234698739.py:1: SettingWithCopyWarning: \nA value is trying to be set on a copy of a slice from a DataFrame.\nTry using .loc[row_indexer,col_indexer] = value instead\n\nSee the caveats in the documentation: https://pandas.pydata.org/pandas-docs/stable/user_guide/indexing.html#returning-a-view-versus-a-copy\n  df_isbn['Original_NaN'] = df_isbn['Age'].isna()\n/tmp/ipykernel_34/4234698739.py:4: SettingWithCopyWarning: \nA value is trying to be set on a copy of a slice from a DataFrame.\nTry using .loc[row_indexer,col_indexer] = value instead\n\nSee the caveats in the documentation: https://pandas.pydata.org/pandas-docs/stable/user_guide/indexing.html#returning-a-view-versus-a-copy\n  df_isbn['Age'] = pd.to_numeric(df_isbn['Age'], errors='coerce')\n/tmp/ipykernel_34/4234698739.py:7: UserWarning: Boolean Series key will be reindexed to match DataFrame index.\n  df_isbn = df_isbn[~(users['Age'].isna() & ~df_isbn['Original_NaN'])]\n",
     "output_type": "stream"
    }
   ]
  },
  {
   "cell_type": "code",
   "source": [
    "df_isbn['User-ID'] = pd.to_numeric(df_isbn['User-ID'], errors='coerce')\n",
    "\n",
    "# Drop rows where 'Age' is NaN and were not originally NaN\n",
    "df_isbn = df_isbn[~(df_isbn['User-ID'].isna())]"
   ],
   "metadata": {
    "execution": {
     "iopub.status.busy": "2024-07-07T17:01:26.302727Z",
     "iopub.execute_input": "2024-07-07T17:01:26.303431Z",
     "iopub.status.idle": "2024-07-07T17:01:26.365168Z",
     "shell.execute_reply.started": "2024-07-07T17:01:26.303398Z",
     "shell.execute_reply": "2024-07-07T17:01:26.364344Z"
    },
    "trusted": true
   },
   "execution_count": 9,
   "outputs": []
  },
  {
   "cell_type": "code",
   "source": [
    "age_outliers = df_isbn.query(\"Age > 100 or Age < 6\")\n",
    "\n",
    "user_outliers = age_outliers[\"User-ID\"].to_list()"
   ],
   "metadata": {
    "execution": {
     "iopub.status.busy": "2024-07-07T17:01:28.722526Z",
     "iopub.execute_input": "2024-07-07T17:01:28.723512Z",
     "iopub.status.idle": "2024-07-07T17:01:28.734167Z",
     "shell.execute_reply.started": "2024-07-07T17:01:28.723476Z",
     "shell.execute_reply": "2024-07-07T17:01:28.733345Z"
    },
    "trusted": true
   },
   "execution_count": 10,
   "outputs": []
  },
  {
   "cell_type": "code",
   "source": [
    "# exclude age outliers\n",
    "df_isbn = df_isbn[~df_isbn[\"User-ID\"].isin(user_outliers)]"
   ],
   "metadata": {
    "execution": {
     "iopub.status.busy": "2024-07-07T17:01:31.140753Z",
     "iopub.execute_input": "2024-07-07T17:01:31.141498Z",
     "iopub.status.idle": "2024-07-07T17:01:31.172623Z",
     "shell.execute_reply.started": "2024-07-07T17:01:31.141461Z",
     "shell.execute_reply": "2024-07-07T17:01:31.171834Z"
    },
    "trusted": true
   },
   "execution_count": 11,
   "outputs": []
  },
  {
   "cell_type": "code",
   "source": [
    "df_isbn.drop_duplicates(inplace=True)"
   ],
   "metadata": {
    "execution": {
     "iopub.status.busy": "2024-07-07T17:01:33.477971Z",
     "iopub.execute_input": "2024-07-07T17:01:33.478359Z",
     "iopub.status.idle": "2024-07-07T17:01:33.656021Z",
     "shell.execute_reply.started": "2024-07-07T17:01:33.478329Z",
     "shell.execute_reply": "2024-07-07T17:01:33.655221Z"
    },
    "trusted": true
   },
   "execution_count": 12,
   "outputs": []
  },
  {
   "cell_type": "code",
   "source": [
    "y = df_isbn['Rating']\n",
    "X = df_isbn.drop('Rating', axis=1)"
   ],
   "metadata": {
    "execution": {
     "iopub.status.busy": "2024-07-07T16:10:48.708732Z",
     "iopub.execute_input": "2024-07-07T16:10:48.709099Z",
     "iopub.status.idle": "2024-07-07T16:10:48.725737Z",
     "shell.execute_reply.started": "2024-07-07T16:10:48.709069Z",
     "shell.execute_reply": "2024-07-07T16:10:48.724774Z"
    },
    "trusted": true
   },
   "execution_count": 12,
   "outputs": []
  },
  {
   "cell_type": "code",
   "source": [
    "X_train, X_test, y_train, y_test = train_test_split(X, y, test_size=0.2, random_state=42, shuffle=True)"
   ],
   "metadata": {
    "execution": {
     "iopub.status.busy": "2024-07-07T16:10:50.901506Z",
     "iopub.execute_input": "2024-07-07T16:10:50.901909Z",
     "iopub.status.idle": "2024-07-07T16:10:50.976016Z",
     "shell.execute_reply.started": "2024-07-07T16:10:50.901877Z",
     "shell.execute_reply": "2024-07-07T16:10:50.975168Z"
    },
    "trusted": true
   },
   "execution_count": 13,
   "outputs": []
  },
  {
   "cell_type": "code",
   "source": [
    "import heapq"
   ],
   "metadata": {
    "execution": {
     "iopub.status.busy": "2024-06-16T16:45:05.794804Z",
     "iopub.execute_input": "2024-06-16T16:45:05.795822Z",
     "iopub.status.idle": "2024-06-16T16:45:05.799846Z",
     "shell.execute_reply.started": "2024-06-16T16:45:05.795785Z",
     "shell.execute_reply": "2024-06-16T16:45:05.798961Z"
    },
    "trusted": true
   },
   "execution_count": 86,
   "outputs": []
  },
  {
   "cell_type": "code",
   "source": [
    "user_id_mapping = {uid: i for i, uid in enumerate(df_isbn['User-ID'].unique())}"
   ],
   "metadata": {
    "execution": {
     "iopub.status.busy": "2024-07-07T20:09:28.088121Z",
     "iopub.execute_input": "2024-07-07T20:09:28.089121Z",
     "iopub.status.idle": "2024-07-07T20:09:28.118063Z",
     "shell.execute_reply.started": "2024-07-07T20:09:28.089079Z",
     "shell.execute_reply": "2024-07-07T20:09:28.117357Z"
    },
    "trusted": true
   },
   "execution_count": 78,
   "outputs": []
  },
  {
   "cell_type": "code",
   "source": [
    "from sklearn.model_selection import train_test_split\n",
    "df_isbn['User-ID'] = df_isbn['User-ID'].apply(user_id_mapping.get)\n",
    "train_ratings, test_ratings = train_test_split(df_isbn[['User-ID', 'ISBN', 'Rating']], test_size=0.3, random_state=42)"
   ],
   "metadata": {
    "execution": {
     "iopub.status.busy": "2024-07-07T20:09:30.895699Z",
     "iopub.execute_input": "2024-07-07T20:09:30.896361Z",
     "iopub.status.idle": "2024-07-07T20:09:31.153934Z",
     "shell.execute_reply.started": "2024-07-07T20:09:30.896322Z",
     "shell.execute_reply": "2024-07-07T20:09:31.153169Z"
    },
    "trusted": true
   },
   "execution_count": 79,
   "outputs": []
  },
  {
   "cell_type": "code",
   "source": [
    "from numpy.linalg import solve\n",
    "\n",
    "\n",
    "class ALSRecommender:\n",
    "    def __init__(self, num_users, num_items, num_factors=10, regularization=0.1, num_iterations=10):\n",
    "        self.num_factors = num_factors\n",
    "        self.regularization = regularization\n",
    "        self.num_iterations = num_iterations\n",
    "        self.user_factors = None\n",
    "        self.item_factors = None\n",
    "        self.isbn_to_index = None\n",
    "        self.num_users = num_users\n",
    "        self.num_items = num_items\n",
    "\n",
    "    def fit(self, user_item_matrix, isbn_to_index):\n",
    "        self.isbn_to_index = isbn_to_index\n",
    "        self.user_factors = np.random.rand(self.num_users, self.num_factors)\n",
    "        self.item_factors = np.random.rand(self.num_items, self.num_factors)\n",
    "        \n",
    "        for iteration in range(self.num_iterations):\n",
    "            self.user_factors = self.als_step(user_item_matrix, self.item_factors, self.user_factors)\n",
    "            self.item_factors = self.als_step(user_item_matrix.T, self.user_factors, self.item_factors)\n",
    "            print(f\"Iteration {iteration + 1} complete.\")\n",
    "\n",
    "    def als_step(self, R, fixed_factors, update_factors):\n",
    "        num_factors = update_factors.shape[1]\n",
    "        fixed_T_fixed = fixed_factors.T @ fixed_factors\n",
    "        lambda_eye = self.regularization * np.eye(num_factors)\n",
    "        \n",
    "        for u in tqdm(range(update_factors.shape[0])):\n",
    "            user_ratings = R[u].toarray().flatten()\n",
    "            rated_indices = np.where(user_ratings != 0)[0]\n",
    "            fixed_rated = fixed_factors[rated_indices]\n",
    "            \n",
    "            Ai = fixed_T_fixed + fixed_rated.T @ fixed_rated + lambda_eye\n",
    "            Vi = fixed_rated.T @ user_ratings[rated_indices]\n",
    "            \n",
    "            update_factors[u] = solve(Ai, Vi)\n",
    "        return update_factors\n",
    "\n",
    "    def predict(self, user_id, isbn):\n",
    "        item_idx = self.isbn_to_index.get(isbn)\n",
    "        if item_idx is None:\n",
    "            return None  \n",
    "        return self.user_factors[user_id] @ self.item_factors[item_idx].T\n",
    "\n",
    "    def recommend(self, user_id, num_recommendations=5, isbn_to_index):\n",
    "        scores = self.user_factors[user_id] @ self.item_factors.T\n",
    "        best_items_indices = np.argsort(scores)[-num_recommendations:][::-1]\n",
    "        index_to_isbn = {v: k for k, v in self.isbn_to_index.items()}\n",
    "        best_isbns = [index_to_isbn[idx] for idx in best_items_indices]\n",
    "        return best_isbns"
   ],
   "metadata": {
    "execution": {
     "iopub.status.busy": "2024-07-07T20:09:56.294634Z",
     "iopub.execute_input": "2024-07-07T20:09:56.295459Z",
     "iopub.status.idle": "2024-07-07T20:09:56.308400Z",
     "shell.execute_reply.started": "2024-07-07T20:09:56.295424Z",
     "shell.execute_reply": "2024-07-07T20:09:56.307489Z"
    },
    "trusted": true
   },
   "execution_count": 81,
   "outputs": []
  },
  {
   "cell_type": "code",
   "source": [
    "def create_isbn_mapping(data):\n",
    "    isbn_list = data['ISBN'].unique()\n",
    "    isbn_to_index = {isbn: idx for idx, isbn in enumerate(isbn_list)}\n",
    "    return isbn_to_index"
   ],
   "metadata": {
    "execution": {
     "iopub.status.busy": "2024-07-07T20:10:04.044868Z",
     "iopub.execute_input": "2024-07-07T20:10:04.045658Z",
     "iopub.status.idle": "2024-07-07T20:10:04.049972Z",
     "shell.execute_reply.started": "2024-07-07T20:10:04.045625Z",
     "shell.execute_reply": "2024-07-07T20:10:04.049076Z"
    },
    "trusted": true
   },
   "execution_count": 82,
   "outputs": []
  },
  {
   "cell_type": "code",
   "source": [
    "def user_item_normalized(books, ratings):\n",
    "        books = books.reset_index() # add index as a column\n",
    "        isbn_mapping = {category: idx for idx, category in enumerate(books['ISBN'].unique())}\n",
    "        user_id_mapping = {uid: i for i, uid in enumerate(df_isbn['User-ID'].unique())}\n",
    "        \n",
    "        ratings = ratings.copy()\n",
    "        ratings['ISBN_i'] = ratings['ISBN'].map(isbn_mapping) # map ISBN to index\n",
    "        ratings['User-ID_i'] = ratings['User-ID'].map(user_id_mapping).astype(np.int32)\n",
    "        ratings.dropna(subset=['ISBN_i'], inplace=True) # drop rows with NaN ISBN_i\n",
    "        ratings['ISBN_i'] = ratings['ISBN_i'].astype(np.int32)\n",
    "        \n",
    "        # Create a sparse user-item matrix\n",
    "        user_item_matrix = csr_matrix((ratings['Rating'], (ratings['User-ID_i'], ratings['ISBN_i'])), dtype=np.float64)\n",
    "\n",
    "        # Normalize the user-item matrix\n",
    "        normalized = user_item_matrix.copy()\n",
    "        means = np.array([normalized[i].data.mean() for i in range(normalized.shape[0])])\n",
    "        normalized.data -= np.repeat(means, np.diff(normalized.indptr))\n",
    "        \n",
    "        return means, normalized, books, ratings"
   ],
   "metadata": {
    "execution": {
     "iopub.status.busy": "2024-07-07T20:36:03.063977Z",
     "iopub.execute_input": "2024-07-07T20:36:03.064685Z",
     "iopub.status.idle": "2024-07-07T20:36:03.073634Z",
     "shell.execute_reply.started": "2024-07-07T20:36:03.064653Z",
     "shell.execute_reply": "2024-07-07T20:36:03.072769Z"
    },
    "trusted": true
   },
   "execution_count": 109,
   "outputs": []
  },
  {
   "cell_type": "code",
   "source": [
    "from scipy.sparse import csr_matrix\n",
    "\n",
    "means, normalized_matrix, updated_books, updated_ratings = user_item_normalized(df_isbn['ISBN'], df_isbn[['User-ID', 'ISBN', 'Rating']])"
   ],
   "metadata": {
    "execution": {
     "iopub.status.busy": "2024-07-07T20:36:07.840124Z",
     "iopub.execute_input": "2024-07-07T20:36:07.840477Z",
     "iopub.status.idle": "2024-07-07T20:36:13.687381Z",
     "shell.execute_reply.started": "2024-07-07T20:36:07.840446Z",
     "shell.execute_reply": "2024-07-07T20:36:13.686585Z"
    },
    "trusted": true
   },
   "execution_count": 110,
   "outputs": []
  },
  {
   "cell_type": "code",
   "source": [
    "train_ratings, test_ratings = train_test_split(df_isbn[['User-ID', 'ISBN', 'Rating']], test_size=0.3, random_state=42)"
   ],
   "metadata": {
    "execution": {
     "iopub.status.busy": "2024-07-07T20:24:37.621088Z",
     "iopub.execute_input": "2024-07-07T20:24:37.621439Z",
     "iopub.status.idle": "2024-07-07T20:24:37.660906Z",
     "shell.execute_reply.started": "2024-07-07T20:24:37.621410Z",
     "shell.execute_reply": "2024-07-07T20:24:37.660174Z"
    },
    "trusted": true
   },
   "execution_count": 106,
   "outputs": []
  },
  {
   "cell_type": "code",
   "source": [
    "normalized_matrix.shape"
   ],
   "metadata": {
    "execution": {
     "iopub.status.busy": "2024-07-07T20:36:18.908520Z",
     "iopub.execute_input": "2024-07-07T20:36:18.908881Z",
     "iopub.status.idle": "2024-07-07T20:36:18.914766Z",
     "shell.execute_reply.started": "2024-07-07T20:36:18.908850Z",
     "shell.execute_reply": "2024-07-07T20:36:18.913795Z"
    },
    "trusted": true
   },
   "execution_count": 111,
   "outputs": [
    {
     "execution_count": 111,
     "output_type": "execute_result",
     "data": {
      "text/plain": "(56688, 132632)"
     },
     "metadata": {}
    }
   ]
  },
  {
   "cell_type": "code",
   "source": [
    "df_isbn['User-ID'].max(), len(df_isbn['ISBN'].unique())"
   ],
   "metadata": {
    "execution": {
     "iopub.status.busy": "2024-07-07T20:30:42.548861Z",
     "iopub.execute_input": "2024-07-07T20:30:42.549273Z",
     "iopub.status.idle": "2024-07-07T20:30:42.603284Z",
     "shell.execute_reply.started": "2024-07-07T20:30:42.549242Z",
     "shell.execute_reply": "2024-07-07T20:30:42.601908Z"
    },
    "trusted": true
   },
   "execution_count": 108,
   "outputs": [
    {
     "execution_count": 108,
     "output_type": "execute_result",
     "data": {
      "text/plain": "(56687, 132632)"
     },
     "metadata": {}
    }
   ]
  },
  {
   "cell_type": "code",
   "source": [
    "isbn_to_index = create_isbn_mapping(train_ratings)\n",
    "\n",
    "als1 = ALSRecommender(df_isbn['User-ID'].max(), len(df_isbn['ISBN'].unique()))\n",
    "\n",
    "als1.fit(normalized_matrix, isbn_to_index)"
   ],
   "metadata": {
    "execution": {
     "iopub.status.busy": "2024-07-07T20:36:27.559252Z",
     "iopub.execute_input": "2024-07-07T20:36:27.559614Z",
     "iopub.status.idle": "2024-07-07T20:45:12.761991Z",
     "shell.execute_reply.started": "2024-07-07T20:36:27.559584Z",
     "shell.execute_reply": "2024-07-07T20:45:12.760709Z"
    },
    "trusted": true
   },
   "execution_count": 112,
   "outputs": [
    {
     "name": "stderr",
     "text": "100%|██████████| 56687/56687 [00:40<00:00, 1390.96it/s]\n100%|██████████| 132632/132632 [08:01<00:00, 275.59it/s]\n",
     "output_type": "stream"
    },
    {
     "name": "stdout",
     "text": "Iteration 1 complete.\n",
     "output_type": "stream"
    },
    {
     "name": "stderr",
     "text": "  6%|▋         | 3625/56687 [00:02<00:40, 1302.27it/s]\n",
     "output_type": "stream"
    },
    {
     "traceback": [
      "\u001B[0;31m---------------------------------------------------------------------------\u001B[0m",
      "\u001B[0;31mKeyboardInterrupt\u001B[0m                         Traceback (most recent call last)",
      "Cell \u001B[0;32mIn[112], line 5\u001B[0m\n\u001B[1;32m      1\u001B[0m isbn_to_index \u001B[38;5;241m=\u001B[39m create_isbn_mapping(train_ratings)\n\u001B[1;32m      3\u001B[0m als1 \u001B[38;5;241m=\u001B[39m ALSRecommender(df_isbn[\u001B[38;5;124m'\u001B[39m\u001B[38;5;124mUser-ID\u001B[39m\u001B[38;5;124m'\u001B[39m]\u001B[38;5;241m.\u001B[39mmax(), \u001B[38;5;28mlen\u001B[39m(df_isbn[\u001B[38;5;124m'\u001B[39m\u001B[38;5;124mISBN\u001B[39m\u001B[38;5;124m'\u001B[39m]\u001B[38;5;241m.\u001B[39munique()))\n\u001B[0;32m----> 5\u001B[0m \u001B[43mals1\u001B[49m\u001B[38;5;241;43m.\u001B[39;49m\u001B[43mfit\u001B[49m\u001B[43m(\u001B[49m\u001B[43mnormalized_matrix\u001B[49m\u001B[43m,\u001B[49m\u001B[43m \u001B[49m\u001B[43misbn_to_index\u001B[49m\u001B[43m)\u001B[49m\n",
      "Cell \u001B[0;32mIn[81], line 18\u001B[0m, in \u001B[0;36mALSRecommender.fit\u001B[0;34m(self, user_item_matrix, isbn_to_index)\u001B[0m\n\u001B[1;32m     15\u001B[0m \u001B[38;5;28mself\u001B[39m\u001B[38;5;241m.\u001B[39mitem_factors \u001B[38;5;241m=\u001B[39m np\u001B[38;5;241m.\u001B[39mrandom\u001B[38;5;241m.\u001B[39mrand(\u001B[38;5;28mself\u001B[39m\u001B[38;5;241m.\u001B[39mnum_items, \u001B[38;5;28mself\u001B[39m\u001B[38;5;241m.\u001B[39mnum_factors)\n\u001B[1;32m     17\u001B[0m \u001B[38;5;28;01mfor\u001B[39;00m iteration \u001B[38;5;129;01min\u001B[39;00m \u001B[38;5;28mrange\u001B[39m(\u001B[38;5;28mself\u001B[39m\u001B[38;5;241m.\u001B[39mnum_iterations):\n\u001B[0;32m---> 18\u001B[0m     \u001B[38;5;28mself\u001B[39m\u001B[38;5;241m.\u001B[39muser_factors \u001B[38;5;241m=\u001B[39m \u001B[38;5;28;43mself\u001B[39;49m\u001B[38;5;241;43m.\u001B[39;49m\u001B[43mals_step\u001B[49m\u001B[43m(\u001B[49m\u001B[43muser_item_matrix\u001B[49m\u001B[43m,\u001B[49m\u001B[43m \u001B[49m\u001B[38;5;28;43mself\u001B[39;49m\u001B[38;5;241;43m.\u001B[39;49m\u001B[43mitem_factors\u001B[49m\u001B[43m,\u001B[49m\u001B[43m \u001B[49m\u001B[38;5;28;43mself\u001B[39;49m\u001B[38;5;241;43m.\u001B[39;49m\u001B[43muser_factors\u001B[49m\u001B[43m)\u001B[49m\n\u001B[1;32m     19\u001B[0m     \u001B[38;5;28mself\u001B[39m\u001B[38;5;241m.\u001B[39mitem_factors \u001B[38;5;241m=\u001B[39m \u001B[38;5;28mself\u001B[39m\u001B[38;5;241m.\u001B[39mals_step(user_item_matrix\u001B[38;5;241m.\u001B[39mT, \u001B[38;5;28mself\u001B[39m\u001B[38;5;241m.\u001B[39muser_factors, \u001B[38;5;28mself\u001B[39m\u001B[38;5;241m.\u001B[39mitem_factors)\n\u001B[1;32m     20\u001B[0m     \u001B[38;5;28mprint\u001B[39m(\u001B[38;5;124mf\u001B[39m\u001B[38;5;124m\"\u001B[39m\u001B[38;5;124mIteration \u001B[39m\u001B[38;5;132;01m{\u001B[39;00miteration\u001B[38;5;250m \u001B[39m\u001B[38;5;241m+\u001B[39m\u001B[38;5;250m \u001B[39m\u001B[38;5;241m1\u001B[39m\u001B[38;5;132;01m}\u001B[39;00m\u001B[38;5;124m complete.\u001B[39m\u001B[38;5;124m\"\u001B[39m)\n",
      "Cell \u001B[0;32mIn[81], line 28\u001B[0m, in \u001B[0;36mALSRecommender.als_step\u001B[0;34m(self, R, fixed_factors, update_factors)\u001B[0m\n\u001B[1;32m     25\u001B[0m lambda_eye \u001B[38;5;241m=\u001B[39m \u001B[38;5;28mself\u001B[39m\u001B[38;5;241m.\u001B[39mregularization \u001B[38;5;241m*\u001B[39m np\u001B[38;5;241m.\u001B[39meye(num_factors)\n\u001B[1;32m     27\u001B[0m \u001B[38;5;28;01mfor\u001B[39;00m u \u001B[38;5;129;01min\u001B[39;00m tqdm(\u001B[38;5;28mrange\u001B[39m(update_factors\u001B[38;5;241m.\u001B[39mshape[\u001B[38;5;241m0\u001B[39m])):\n\u001B[0;32m---> 28\u001B[0m     user_ratings \u001B[38;5;241m=\u001B[39m \u001B[43mR\u001B[49m\u001B[43m[\u001B[49m\u001B[43mu\u001B[49m\u001B[43m]\u001B[49m\u001B[38;5;241;43m.\u001B[39;49m\u001B[43mtoarray\u001B[49m\u001B[43m(\u001B[49m\u001B[43m)\u001B[49m\u001B[38;5;241m.\u001B[39mflatten()\n\u001B[1;32m     29\u001B[0m     rated_indices \u001B[38;5;241m=\u001B[39m np\u001B[38;5;241m.\u001B[39mwhere(user_ratings \u001B[38;5;241m!=\u001B[39m \u001B[38;5;241m0\u001B[39m)[\u001B[38;5;241m0\u001B[39m]\n\u001B[1;32m     30\u001B[0m     fixed_rated \u001B[38;5;241m=\u001B[39m fixed_factors[rated_indices]\n",
      "File \u001B[0;32m/opt/conda/lib/python3.10/site-packages/scipy/sparse/_compressed.py:1050\u001B[0m, in \u001B[0;36m_cs_matrix.toarray\u001B[0;34m(self, order, out)\u001B[0m\n\u001B[1;32m   1048\u001B[0m \u001B[38;5;28;01mif\u001B[39;00m out \u001B[38;5;129;01mis\u001B[39;00m \u001B[38;5;28;01mNone\u001B[39;00m \u001B[38;5;129;01mand\u001B[39;00m order \u001B[38;5;129;01mis\u001B[39;00m \u001B[38;5;28;01mNone\u001B[39;00m:\n\u001B[1;32m   1049\u001B[0m     order \u001B[38;5;241m=\u001B[39m \u001B[38;5;28mself\u001B[39m\u001B[38;5;241m.\u001B[39m_swap(\u001B[38;5;124m'\u001B[39m\u001B[38;5;124mcf\u001B[39m\u001B[38;5;124m'\u001B[39m)[\u001B[38;5;241m0\u001B[39m]\n\u001B[0;32m-> 1050\u001B[0m out \u001B[38;5;241m=\u001B[39m \u001B[38;5;28;43mself\u001B[39;49m\u001B[38;5;241;43m.\u001B[39;49m\u001B[43m_process_toarray_args\u001B[49m\u001B[43m(\u001B[49m\u001B[43morder\u001B[49m\u001B[43m,\u001B[49m\u001B[43m \u001B[49m\u001B[43mout\u001B[49m\u001B[43m)\u001B[49m\n\u001B[1;32m   1051\u001B[0m \u001B[38;5;28;01mif\u001B[39;00m \u001B[38;5;129;01mnot\u001B[39;00m (out\u001B[38;5;241m.\u001B[39mflags\u001B[38;5;241m.\u001B[39mc_contiguous \u001B[38;5;129;01mor\u001B[39;00m out\u001B[38;5;241m.\u001B[39mflags\u001B[38;5;241m.\u001B[39mf_contiguous):\n\u001B[1;32m   1052\u001B[0m     \u001B[38;5;28;01mraise\u001B[39;00m \u001B[38;5;167;01mValueError\u001B[39;00m(\u001B[38;5;124m'\u001B[39m\u001B[38;5;124mOutput array must be C or F contiguous\u001B[39m\u001B[38;5;124m'\u001B[39m)\n",
      "File \u001B[0;32m/opt/conda/lib/python3.10/site-packages/scipy/sparse/_base.py:1267\u001B[0m, in \u001B[0;36m_spbase._process_toarray_args\u001B[0;34m(self, order, out)\u001B[0m\n\u001B[1;32m   1265\u001B[0m     \u001B[38;5;28;01mreturn\u001B[39;00m out\n\u001B[1;32m   1266\u001B[0m \u001B[38;5;28;01melse\u001B[39;00m:\n\u001B[0;32m-> 1267\u001B[0m     \u001B[38;5;28;01mreturn\u001B[39;00m \u001B[43mnp\u001B[49m\u001B[38;5;241;43m.\u001B[39;49m\u001B[43mzeros\u001B[49m\u001B[43m(\u001B[49m\u001B[38;5;28;43mself\u001B[39;49m\u001B[38;5;241;43m.\u001B[39;49m\u001B[43mshape\u001B[49m\u001B[43m,\u001B[49m\u001B[43m \u001B[49m\u001B[43mdtype\u001B[49m\u001B[38;5;241;43m=\u001B[39;49m\u001B[38;5;28;43mself\u001B[39;49m\u001B[38;5;241;43m.\u001B[39;49m\u001B[43mdtype\u001B[49m\u001B[43m,\u001B[49m\u001B[43m \u001B[49m\u001B[43morder\u001B[49m\u001B[38;5;241;43m=\u001B[39;49m\u001B[43morder\u001B[49m\u001B[43m)\u001B[49m\n",
      "\u001B[0;31mKeyboardInterrupt\u001B[0m: "
     ],
     "ename": "KeyboardInterrupt",
     "evalue": "",
     "output_type": "error"
    }
   ]
  },
  {
   "cell_type": "code",
   "source": [
    "y_predicted = []\n",
    "test_ratings = test_ratings[test_ratings['User-ID'].isin(train_ratings['User-ID'].unique())]\n",
    "for i, test_rating in test_ratings.iterrows():\n",
    "    y_predicted.append(als1.predict(test_rating['User-ID'], test_rating['ISBN']))"
   ],
   "metadata": {
    "execution": {
     "iopub.status.busy": "2024-07-07T20:45:15.953179Z",
     "iopub.execute_input": "2024-07-07T20:45:15.953539Z",
     "iopub.status.idle": "2024-07-07T20:45:20.477934Z",
     "shell.execute_reply.started": "2024-07-07T20:45:15.953510Z",
     "shell.execute_reply": "2024-07-07T20:45:20.477164Z"
    },
    "trusted": true
   },
   "execution_count": 113,
   "outputs": []
  },
  {
   "cell_type": "code",
   "source": [
    "test_ratings['User-ID'].max()"
   ],
   "metadata": {
    "execution": {
     "iopub.status.busy": "2024-07-07T20:49:57.228645Z",
     "iopub.execute_input": "2024-07-07T20:49:57.229590Z",
     "iopub.status.idle": "2024-07-07T20:49:57.236405Z",
     "shell.execute_reply.started": "2024-07-07T20:49:57.229556Z",
     "shell.execute_reply": "2024-07-07T20:49:57.235546Z"
    },
    "trusted": true
   },
   "execution_count": 130,
   "outputs": [
    {
     "execution_count": 130,
     "output_type": "execute_result",
     "data": {
      "text/plain": "56645"
     },
     "metadata": {}
    }
   ]
  },
  {
   "cell_type": "code",
   "source": [
    "def recommend(als, user_id, num_recommendations, isbn_to_index):\n",
    "        scores = als.user_factors[user_id] @ als.item_factors.T\n",
    "        best_items_indices = np.argsort(scores)[-num_recommendations:][::-1]\n",
    "        index_to_isbn = {v: k for k, v in als.isbn_to_index.items()}\n",
    "        best_isbns = [index_to_isbn.get(idx) for idx in best_items_indices]\n",
    "        return best_isbns\n",
    "    \n",
    "recommend(als1, 12000, 5, isbn_to_index)  "
   ],
   "metadata": {
    "execution": {
     "iopub.status.busy": "2024-07-07T21:03:03.423991Z",
     "iopub.execute_input": "2024-07-07T21:03:03.424359Z",
     "iopub.status.idle": "2024-07-07T21:03:03.497147Z",
     "shell.execute_reply.started": "2024-07-07T21:03:03.424332Z",
     "shell.execute_reply": "2024-07-07T21:03:03.495734Z"
    },
    "trusted": true
   },
   "execution_count": 148,
   "outputs": [
    {
     "execution_count": 148,
     "output_type": "execute_result",
     "data": {
      "text/plain": "['0553225286', '0865471185', '0451408977', '0449005666', '0451199685']"
     },
     "metadata": {}
    }
   ]
  },
  {
   "cell_type": "code",
   "source": [
    "def eval(gt_ratings, predictions, k=10):\n",
    "     \n",
    "        all_relevances = []\n",
    "        all_recommended = []\n",
    "        for user_id in tqdm(gt_ratings['User-ID'].unique()):\n",
    "            user_ratings = gt_ratings[gt_ratings['User-ID'] == user_id]\n",
    "            user_relevances = user_ratings.sort_values(by='Rating', ascending=False)['Rating'].tolist()\n",
    "            all_relevances.append(user_relevances)\n",
    "\n",
    "            user_recommended = recommend(als1, user_id, k, isbn_to_index)\n",
    "            all_recommended.append(user_recommended)\n",
    "\n",
    "        ndcg_val = np.mean([ndcg(relevances, k) for relevances in all_relevances])\n",
    "        precision_at_k_val = np.mean([precision_at_k(recommended, relevances, k) for recommended, relevances in zip(all_recommended, all_relevances)])\n",
    "        recall_at_k_val = np.mean([recall_at_k(recommended, relevances, k) for recommended, relevances in zip(all_recommended, all_relevances)])\n",
    "        average_precision_val = np.mean([average_precision(recommended, relevances) for recommended, relevances in zip(all_recommended, all_relevances)])\n",
    "\n",
    "        return {\n",
    "            'ndcg': ndcg_val,\n",
    "            'precision_at_k': precision_at_k_val,\n",
    "            'recall_at_k': recall_at_k_val,\n",
    "            'average_precision': average_precision_val\n",
    "        }\n"
   ],
   "metadata": {
    "execution": {
     "iopub.status.busy": "2024-07-07T21:32:30.101075Z",
     "iopub.execute_input": "2024-07-07T21:32:30.101794Z",
     "iopub.status.idle": "2024-07-07T21:32:30.110241Z",
     "shell.execute_reply.started": "2024-07-07T21:32:30.101764Z",
     "shell.execute_reply": "2024-07-07T21:32:30.109346Z"
    },
    "trusted": true
   },
   "execution_count": 155,
   "outputs": []
  },
  {
   "cell_type": "code",
   "source": [
    "results = eval(gt_ratings=test_ratings, predictions=y_predicted, k=5)"
   ],
   "metadata": {
    "execution": {
     "iopub.status.busy": "2024-07-07T21:32:35.370722Z",
     "iopub.execute_input": "2024-07-07T21:32:35.371424Z",
     "iopub.status.idle": "2024-07-07T21:45:51.436604Z",
     "shell.execute_reply.started": "2024-07-07T21:32:35.371393Z",
     "shell.execute_reply": "2024-07-07T21:45:51.435595Z"
    },
    "trusted": true
   },
   "execution_count": 156,
   "outputs": [
    {
     "name": "stderr",
     "text": "100%|██████████| 16600/16600 [13:15<00:00, 20.87it/s]\n",
     "output_type": "stream"
    }
   ]
  },
  {
   "cell_type": "code",
   "source": [
    "print(results)"
   ],
   "metadata": {
    "execution": {
     "iopub.status.busy": "2024-07-07T21:45:56.627919Z",
     "iopub.execute_input": "2024-07-07T21:45:56.628580Z",
     "iopub.status.idle": "2024-07-07T21:45:56.633388Z",
     "shell.execute_reply.started": "2024-07-07T21:45:56.628549Z",
     "shell.execute_reply": "2024-07-07T21:45:56.632489Z"
    },
    "trusted": true
   },
   "execution_count": 157,
   "outputs": [
    {
     "name": "stdout",
     "text": "{'ndcg': 1.0, 'precision_at_k': 0.0, 'recall_at_k': 0.0, 'average_precision': 0.0}\n",
     "output_type": "stream"
    }
   ]
  },
  {
   "cell_type": "code",
   "source": [],
   "metadata": {},
   "execution_count": null,
   "outputs": []
  }
 ]
}
