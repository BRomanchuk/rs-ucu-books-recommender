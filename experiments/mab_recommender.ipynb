{
 "cells": [
  {
   "cell_type": "code",
   "execution_count": 1,
   "metadata": {},
   "outputs": [],
   "source": [
    "import pandas as pd\n",
    "import numpy as np\n"
   ]
  },
  {
   "cell_type": "code",
   "execution_count": 2,
   "metadata": {},
   "outputs": [
    {
     "name": "stderr",
     "output_type": "stream",
     "text": [
      "/var/folders/s0/4m_t_82936ggv17n0g0t7_dr0000gn/T/ipykernel_3953/1329463720.py:4: DtypeWarning: Columns (0) have mixed types. Specify dtype option on import or set low_memory=False.\n",
      "  users_df = pd.read_csv('../data/Users.csv', delimiter=';')\n"
     ]
    }
   ],
   "source": [
    "# Load the Book-Crossing dataset\n",
    "books_df = pd.read_csv('../data/Books.csv', delimiter=';', low_memory=False)\n",
    "ratings_df = pd.read_csv('../data/Ratings.csv', delimiter=';')\n",
    "users_df = pd.read_csv('../data/Users.csv', delimiter=';')"
   ]
  },
  {
   "cell_type": "code",
   "execution_count": 5,
   "metadata": {},
   "outputs": [],
   "source": [
    "# Preprocessing\n",
    "ratings_df = ratings_df[ratings_df['Rating'] > 0]  # Remove zero ratings\n",
    "ratings_df['User-ID'] = ratings_df['User-ID'].astype(int)\n",
    "ratings_df['ISBN'] = ratings_df['ISBN'].astype(str)\n",
    "ratings_df['Rating'] = ratings_df['Rating'].astype(int)\n",
    "\n",
    "# Merge the data to get book titles along with ratings\n",
    "data = pd.merge(ratings_df, books_df[['ISBN', 'Title']], on='ISBN')"
   ]
  },
  {
   "cell_type": "code",
   "execution_count": 6,
   "metadata": {},
   "outputs": [],
   "source": [
    "class EpsilonGreedyMAB:\n",
    "    def __init__(self, epsilon=0.1):\n",
    "        self.epsilon = epsilon\n",
    "        self.book_rewards = {}\n",
    "        self.book_counts = {}\n",
    "\n",
    "    def select_book(self, book_list):\n",
    "        if np.random.rand() < self.epsilon:\n",
    "            # Explore: select a random book\n",
    "            return np.random.choice(book_list)\n",
    "        else:\n",
    "            # Exploit: select the book with the highest average reward\n",
    "            return max(book_list, key=lambda x: self.book_rewards.get(x, 0) / (self.book_counts.get(x, 1)))\n",
    "\n",
    "    def update(self, book, reward):\n",
    "        if book in self.book_rewards:\n",
    "            self.book_rewards[book] += reward\n",
    "            self.book_counts[book] += 1\n",
    "        else:\n",
    "            self.book_rewards[book] = reward\n",
    "            self.book_counts[book] = 1\n"
   ]
  },
  {
   "cell_type": "code",
   "execution_count": 10,
   "metadata": {},
   "outputs": [],
   "source": [
    "# Initialize the MAB algorithm\n",
    "mab = EpsilonGreedyMAB(epsilon=0.1)\n",
    "\n"
   ]
  },
  {
   "cell_type": "code",
   "execution_count": 11,
   "metadata": {},
   "outputs": [],
   "source": [
    "# Simulate user interactions and recommendations\n",
    "def simulate_user_interaction(user_id, mab):\n",
    "    user_books = data[data['User-ID'] == user_id]['Title'].unique()\n",
    "    if len(user_books) == 0:\n",
    "        return None\n",
    "    \n",
    "    recommended_book = mab.select_book(user_books)\n",
    "    actual_rating = data[(data['User-ID'] == user_id) & (data['Title'] == recommended_book)]['Rating'].values[0]\n",
    "    \n",
    "    # Update the MAB with the observed reward\n",
    "    mab.update(recommended_book, actual_rating)\n",
    "\n",
    "    return recommended_book, actual_rating"
   ]
  },
  {
   "cell_type": "code",
   "execution_count": 12,
   "metadata": {},
   "outputs": [
    {
     "name": "stdout",
     "output_type": "stream",
     "text": [
      "   User-ID                             Recommended Book  Actual Rating\n",
      "0   276726                             Rites of Passage              5\n",
      "1   276729                               Help!: Level 1              3\n",
      "2   276744                              A Painted House              7\n",
      "3   276747                     Little Altars Everywhere              9\n",
      "4   276748  Apricots on the Nile: A Memoir with Recipes              6\n"
     ]
    }
   ],
   "source": [
    "# Simulate recommendations for a subset of users\n",
    "user_ids = data['User-ID'].unique()[:1000]  # Consider first 100 users for simplicity\n",
    "results = []\n",
    "\n",
    "for user_id in user_ids:\n",
    "    recommended_book, actual_rating = simulate_user_interaction(user_id, mab)\n",
    "    if recommended_book:\n",
    "        results.append((user_id, recommended_book, actual_rating))\n",
    "\n",
    "# Display the results\n",
    "results_df = pd.DataFrame(results, columns=['User-ID', 'Recommended Book', 'Actual Rating'])\n",
    "print(results_df.head())\n"
   ]
  },
  {
   "cell_type": "code",
   "execution_count": 17,
   "metadata": {},
   "outputs": [
    {
     "data": {
      "text/plain": [
       "Actual Rating\n",
       "8     25.6\n",
       "7     20.2\n",
       "10    16.6\n",
       "9     13.6\n",
       "5     10.7\n",
       "6      7.9\n",
       "4      2.5\n",
       "3      1.5\n",
       "1      0.8\n",
       "2      0.6\n",
       "Name: count, dtype: float64"
      ]
     },
     "execution_count": 17,
     "metadata": {},
     "output_type": "execute_result"
    }
   ],
   "source": [
    "results_df['Actual Rating'].value_counts() / len(results_df) * 100"
   ]
  },
  {
   "cell_type": "code",
   "execution_count": 16,
   "metadata": {},
   "outputs": [
    {
     "data": {
      "text/plain": [
       "Rating\n",
       "8     23.920437\n",
       "10    18.126644\n",
       "7     17.630185\n",
       "9     15.574249\n",
       "5     11.754072\n",
       "6      8.514288\n",
       "4      2.053169\n",
       "3      1.382615\n",
       "2      0.636197\n",
       "1      0.408144\n",
       "Name: count, dtype: float64"
      ]
     },
     "execution_count": 16,
     "metadata": {},
     "output_type": "execute_result"
    }
   ],
   "source": [
    "ratings_df['Rating'].value_counts() / len(ratings_df) * 100"
   ]
  },
  {
   "cell_type": "code",
   "execution_count": null,
   "metadata": {},
   "outputs": [],
   "source": []
  }
 ],
 "metadata": {
  "kernelspec": {
   "display_name": ".venv39",
   "language": "python",
   "name": ".venv39"
  },
  "language_info": {
   "codemirror_mode": {
    "name": "ipython",
    "version": 3
   },
   "file_extension": ".py",
   "mimetype": "text/x-python",
   "name": "python",
   "nbconvert_exporter": "python",
   "pygments_lexer": "ipython3",
   "version": "3.9.16"
  }
 },
 "nbformat": 4,
 "nbformat_minor": 2
}
