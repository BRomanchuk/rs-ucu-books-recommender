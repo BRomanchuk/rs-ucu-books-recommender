{
 "cells": [
  {
   "cell_type": "code",
   "execution_count": 1,
   "metadata": {},
   "outputs": [],
   "source": [
    "import numpy as np\n",
    "import pandas as pd"
   ]
  },
  {
   "cell_type": "code",
   "execution_count": 2,
   "metadata": {},
   "outputs": [
    {
     "name": "stderr",
     "output_type": "stream",
     "text": [
      "/var/folders/yn/16crnc792zg2yr78zf0qg0j40000gq/T/ipykernel_44573/2231409931.py:1: DtypeWarning: Columns (0) have mixed types. Specify dtype option on import or set low_memory=False.\n",
      "  users = pd.read_csv('../../data/Users.csv', delimiter=';')\n"
     ]
    }
   ],
   "source": [
    "users = pd.read_csv('../../data/Users.csv', delimiter=';')\n",
    "books = pd.read_csv('../../data/Books.csv', delimiter=';', dtype={'ISBN': str, 'Title': str, 'Author': str, 'Year': np.int16, 'Publisher': str})\n",
    "ratings = pd.read_csv('../../data/Ratings.csv', delimiter=';', dtype={'User-ID': np.int32, 'ISBN': str, 'Rating': np.int8})"
   ]
  },
  {
   "cell_type": "code",
   "execution_count": 3,
   "metadata": {},
   "outputs": [],
   "source": [
    "import sys\n",
    "sys.path.append('../..')\n",
    "\n",
    "from src.evaluation import average_precision\n",
    "from sklearn.model_selection import train_test_split"
   ]
  },
  {
   "cell_type": "code",
   "execution_count": 4,
   "metadata": {},
   "outputs": [],
   "source": [
    "train_ratings, test_ratings = train_test_split(ratings, test_size=0.2, random_state=42)"
   ]
  },
  {
   "cell_type": "code",
   "execution_count": 5,
   "metadata": {},
   "outputs": [
    {
     "name": "stderr",
     "output_type": "stream",
     "text": [
      "/Users/oleh.sannikov/Documents/Навчання/Науки про дані/RecSys/CP/rs-ucu-books-recommender/experiments/sunnycows/../../src/utils/data_preprocessing.py:60: RuntimeWarning: Mean of empty slice.\n",
      "  means = np.array([normalized[i].data.mean() for i in range(normalized.shape[0])])\n",
      "/Users/oleh.sannikov/miniconda3/envs/recsys/lib/python3.12/site-packages/numpy/core/_methods.py:129: RuntimeWarning: invalid value encountered in scalar divide\n",
      "  ret = ret.dtype.type(ret / rcount)\n"
     ]
    }
   ],
   "source": [
    "import src.recommenders.user_collaborative_filtering as ubcf\n",
    "\n",
    "model = ubcf.UserRecommender()\n",
    "model.fit(users=users, items=books, ratings=train_ratings)"
   ]
  },
  {
   "cell_type": "code",
   "execution_count": 6,
   "metadata": {},
   "outputs": [
    {
     "data": {
      "text/plain": [
       "1000"
      ]
     },
     "execution_count": 6,
     "metadata": {},
     "output_type": "execute_result"
    }
   ],
   "source": [
    "test_users = test_ratings['User-ID'].unique()[:1000]\n",
    "len(test_users)"
   ]
  },
  {
   "cell_type": "code",
   "execution_count": 7,
   "metadata": {},
   "outputs": [
    {
     "name": "stderr",
     "output_type": "stream",
     "text": [
      "  0%|          | 0/1000 [00:00<?, ?it/s]"
     ]
    },
    {
     "name": "stderr",
     "output_type": "stream",
     "text": [
      "100%|██████████| 1000/1000 [04:33<00:00,  3.66it/s]\n"
     ]
    }
   ],
   "source": [
    "best_items = model.predict(test_users, items=books)"
   ]
  },
  {
   "cell_type": "code",
   "execution_count": 10,
   "metadata": {},
   "outputs": [
    {
     "data": {
      "text/plain": [
       "57144    0671003593\n",
       "73871    0671000403\n",
       "57042    0373078358\n",
       "31483    0425176940\n",
       "4449     1551668912\n",
       "Name: ISBN, dtype: object"
      ]
     },
     "execution_count": 10,
     "metadata": {},
     "output_type": "execute_result"
    }
   ],
   "source": [
    "len(best_items)\n",
    "best_items[38781]['ISBN']"
   ]
  },
  {
   "cell_type": "code",
   "execution_count": 11,
   "metadata": {},
   "outputs": [
    {
     "name": "stderr",
     "output_type": "stream",
     "text": [
      "100%|██████████| 1000/1000 [00:02<00:00, 431.44it/s]\n"
     ]
    },
    {
     "data": {
      "text/plain": [
       "0.0061"
      ]
     },
     "execution_count": 11,
     "metadata": {},
     "output_type": "execute_result"
    }
   ],
   "source": [
    "from tqdm import tqdm\n",
    "\n",
    "rating_mask = test_ratings['Rating'] >= 5\n",
    "\n",
    "mean_ap = 0\n",
    "for i in tqdm(range(len(test_users))):\n",
    "    user_mask = test_ratings['User-ID'] == test_users[i]\n",
    "    relevant_items = test_ratings.loc[(user_mask & rating_mask)].sort_values(by='Rating', ascending=False)\n",
    "    if len(relevant_items) == 0:\n",
    "        continue\n",
    "    user_id = test_users[i]\n",
    "    ap = average_precision(best_items[user_id]['ISBN'].to_numpy(), relevant_items['ISBN'].to_numpy(), k=5)\n",
    "    mean_ap += ap\n",
    "\n",
    "mean_ap /= len(test_users)\n",
    "mean_ap"
   ]
  }
 ],
 "metadata": {
  "kernelspec": {
   "display_name": "recsys",
   "language": "python",
   "name": "python3"
  },
  "language_info": {
   "codemirror_mode": {
    "name": "ipython",
    "version": 3
   },
   "file_extension": ".py",
   "mimetype": "text/x-python",
   "name": "python",
   "nbconvert_exporter": "python",
   "pygments_lexer": "ipython3",
   "version": "3.12.3"
  }
 },
 "nbformat": 4,
 "nbformat_minor": 2
}
