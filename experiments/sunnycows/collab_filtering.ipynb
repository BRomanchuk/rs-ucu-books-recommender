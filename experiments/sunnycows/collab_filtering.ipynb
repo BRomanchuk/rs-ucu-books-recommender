{
 "cells": [
  {
   "cell_type": "code",
   "execution_count": 1,
   "metadata": {},
   "outputs": [],
   "source": [
    "import numpy as np\n",
    "import pandas as pd\n",
    "import matplotlib.pyplot as plt"
   ]
  },
  {
   "cell_type": "code",
   "execution_count": 2,
   "metadata": {},
   "outputs": [
    {
     "name": "stderr",
     "output_type": "stream",
     "text": [
      "/var/folders/yn/16crnc792zg2yr78zf0qg0j40000gq/T/ipykernel_27470/2231409931.py:1: DtypeWarning: Columns (0) have mixed types. Specify dtype option on import or set low_memory=False.\n",
      "  users = pd.read_csv('../../data/Users.csv', delimiter=';')\n"
     ]
    }
   ],
   "source": [
    "users = pd.read_csv('../../data/Users.csv', delimiter=';')\n",
    "books = pd.read_csv('../../data/Books.csv', delimiter=';', dtype={'ISBN': str, 'Title': str, 'Author': str, 'Year': np.int16, 'Publisher': str})\n",
    "ratings = pd.read_csv('../../data/Ratings.csv', delimiter=';', dtype={'User-ID': np.int32, 'ISBN': str, 'Rating': np.int8})"
   ]
  },
  {
   "cell_type": "code",
   "execution_count": 23,
   "metadata": {},
   "outputs": [
    {
     "data": {
      "text/html": [
       "<div>\n",
       "<style scoped>\n",
       "    .dataframe tbody tr th:only-of-type {\n",
       "        vertical-align: middle;\n",
       "    }\n",
       "\n",
       "    .dataframe tbody tr th {\n",
       "        vertical-align: top;\n",
       "    }\n",
       "\n",
       "    .dataframe thead th {\n",
       "        text-align: right;\n",
       "    }\n",
       "</style>\n",
       "<table border=\"1\" class=\"dataframe\">\n",
       "  <thead>\n",
       "    <tr style=\"text-align: right;\">\n",
       "      <th></th>\n",
       "      <th>User-ID</th>\n",
       "      <th>ISBN</th>\n",
       "      <th>Rating</th>\n",
       "    </tr>\n",
       "  </thead>\n",
       "  <tbody>\n",
       "    <tr>\n",
       "      <th>0</th>\n",
       "      <td>276725</td>\n",
       "      <td>034545104X</td>\n",
       "      <td>0</td>\n",
       "    </tr>\n",
       "    <tr>\n",
       "      <th>1</th>\n",
       "      <td>276726</td>\n",
       "      <td>0155061224</td>\n",
       "      <td>5</td>\n",
       "    </tr>\n",
       "    <tr>\n",
       "      <th>2</th>\n",
       "      <td>276727</td>\n",
       "      <td>0446520802</td>\n",
       "      <td>0</td>\n",
       "    </tr>\n",
       "    <tr>\n",
       "      <th>3</th>\n",
       "      <td>276729</td>\n",
       "      <td>052165615X</td>\n",
       "      <td>3</td>\n",
       "    </tr>\n",
       "    <tr>\n",
       "      <th>4</th>\n",
       "      <td>276729</td>\n",
       "      <td>0521795028</td>\n",
       "      <td>6</td>\n",
       "    </tr>\n",
       "  </tbody>\n",
       "</table>\n",
       "</div>"
      ],
      "text/plain": [
       "   User-ID        ISBN  Rating\n",
       "0   276725  034545104X       0\n",
       "1   276726  0155061224       5\n",
       "2   276727  0446520802       0\n",
       "3   276729  052165615X       3\n",
       "4   276729  0521795028       6"
      ]
     },
     "execution_count": 23,
     "metadata": {},
     "output_type": "execute_result"
    }
   ],
   "source": [
    "ratings.head()"
   ]
  },
  {
   "cell_type": "code",
   "execution_count": 24,
   "metadata": {},
   "outputs": [
    {
     "data": {
      "text/html": [
       "<div>\n",
       "<style scoped>\n",
       "    .dataframe tbody tr th:only-of-type {\n",
       "        vertical-align: middle;\n",
       "    }\n",
       "\n",
       "    .dataframe tbody tr th {\n",
       "        vertical-align: top;\n",
       "    }\n",
       "\n",
       "    .dataframe thead th {\n",
       "        text-align: right;\n",
       "    }\n",
       "</style>\n",
       "<table border=\"1\" class=\"dataframe\">\n",
       "  <thead>\n",
       "    <tr style=\"text-align: right;\">\n",
       "      <th></th>\n",
       "      <th>ISBN</th>\n",
       "      <th>Title</th>\n",
       "      <th>Author</th>\n",
       "      <th>Year</th>\n",
       "      <th>Publisher</th>\n",
       "    </tr>\n",
       "  </thead>\n",
       "  <tbody>\n",
       "    <tr>\n",
       "      <th>0</th>\n",
       "      <td>0195153448</td>\n",
       "      <td>Classical Mythology</td>\n",
       "      <td>Mark P. O. Morford</td>\n",
       "      <td>2002</td>\n",
       "      <td>Oxford University Press</td>\n",
       "    </tr>\n",
       "    <tr>\n",
       "      <th>1</th>\n",
       "      <td>0002005018</td>\n",
       "      <td>Clara Callan</td>\n",
       "      <td>Richard Bruce Wright</td>\n",
       "      <td>2001</td>\n",
       "      <td>HarperFlamingo Canada</td>\n",
       "    </tr>\n",
       "    <tr>\n",
       "      <th>2</th>\n",
       "      <td>0060973129</td>\n",
       "      <td>Decision in Normandy</td>\n",
       "      <td>Carlo D'Este</td>\n",
       "      <td>1991</td>\n",
       "      <td>HarperPerennial</td>\n",
       "    </tr>\n",
       "    <tr>\n",
       "      <th>3</th>\n",
       "      <td>0374157065</td>\n",
       "      <td>Flu: The Story of the Great Influenza Pandemic...</td>\n",
       "      <td>Gina Bari Kolata</td>\n",
       "      <td>1999</td>\n",
       "      <td>Farrar Straus Giroux</td>\n",
       "    </tr>\n",
       "    <tr>\n",
       "      <th>4</th>\n",
       "      <td>0393045218</td>\n",
       "      <td>The Mummies of Urumchi</td>\n",
       "      <td>E. J. W. Barber</td>\n",
       "      <td>1999</td>\n",
       "      <td>W. W. Norton &amp; Company</td>\n",
       "    </tr>\n",
       "  </tbody>\n",
       "</table>\n",
       "</div>"
      ],
      "text/plain": [
       "         ISBN                                              Title  \\\n",
       "0  0195153448                                Classical Mythology   \n",
       "1  0002005018                                       Clara Callan   \n",
       "2  0060973129                               Decision in Normandy   \n",
       "3  0374157065  Flu: The Story of the Great Influenza Pandemic...   \n",
       "4  0393045218                             The Mummies of Urumchi   \n",
       "\n",
       "                 Author  Year                Publisher  \n",
       "0    Mark P. O. Morford  2002  Oxford University Press  \n",
       "1  Richard Bruce Wright  2001    HarperFlamingo Canada  \n",
       "2          Carlo D'Este  1991          HarperPerennial  \n",
       "3      Gina Bari Kolata  1999     Farrar Straus Giroux  \n",
       "4       E. J. W. Barber  1999   W. W. Norton & Company  "
      ]
     },
     "execution_count": 24,
     "metadata": {},
     "output_type": "execute_result"
    }
   ],
   "source": [
    "books.head()"
   ]
  },
  {
   "cell_type": "code",
   "execution_count": 25,
   "metadata": {},
   "outputs": [
    {
     "data": {
      "text/plain": [
       "271378"
      ]
     },
     "execution_count": 25,
     "metadata": {},
     "output_type": "execute_result"
    }
   ],
   "source": [
    "books.ISBN.nunique()"
   ]
  },
  {
   "cell_type": "code",
   "execution_count": 26,
   "metadata": {},
   "outputs": [
    {
     "data": {
      "text/html": [
       "<div>\n",
       "<style scoped>\n",
       "    .dataframe tbody tr th:only-of-type {\n",
       "        vertical-align: middle;\n",
       "    }\n",
       "\n",
       "    .dataframe tbody tr th {\n",
       "        vertical-align: top;\n",
       "    }\n",
       "\n",
       "    .dataframe thead th {\n",
       "        text-align: right;\n",
       "    }\n",
       "</style>\n",
       "<table border=\"1\" class=\"dataframe\">\n",
       "  <thead>\n",
       "    <tr style=\"text-align: right;\">\n",
       "      <th></th>\n",
       "      <th>ISBN</th>\n",
       "      <th>Title</th>\n",
       "      <th>Author</th>\n",
       "      <th>Year</th>\n",
       "      <th>Publisher</th>\n",
       "    </tr>\n",
       "  </thead>\n",
       "  <tbody>\n",
       "    <tr>\n",
       "      <th>111813</th>\n",
       "      <td>0486404242</td>\n",
       "      <td>War in Kind: And Other Poems (Dover Thrift Edi...</td>\n",
       "      <td>Stephen Crane</td>\n",
       "      <td>1998</td>\n",
       "      <td>Dover Publications</td>\n",
       "    </tr>\n",
       "  </tbody>\n",
       "</table>\n",
       "</div>"
      ],
      "text/plain": [
       "              ISBN                                              Title  \\\n",
       "111813  0486404242  War in Kind: And Other Poems (Dover Thrift Edi...   \n",
       "\n",
       "               Author  Year           Publisher  \n",
       "111813  Stephen Crane  1998  Dover Publications  "
      ]
     },
     "execution_count": 26,
     "metadata": {},
     "output_type": "execute_result"
    }
   ],
   "source": [
    "books[books.duplicated(subset='ISBN')]"
   ]
  },
  {
   "cell_type": "code",
   "execution_count": 27,
   "metadata": {},
   "outputs": [
    {
     "data": {
      "text/html": [
       "<div>\n",
       "<style scoped>\n",
       "    .dataframe tbody tr th:only-of-type {\n",
       "        vertical-align: middle;\n",
       "    }\n",
       "\n",
       "    .dataframe tbody tr th {\n",
       "        vertical-align: top;\n",
       "    }\n",
       "\n",
       "    .dataframe thead th {\n",
       "        text-align: right;\n",
       "    }\n",
       "</style>\n",
       "<table border=\"1\" class=\"dataframe\">\n",
       "  <thead>\n",
       "    <tr style=\"text-align: right;\">\n",
       "      <th></th>\n",
       "      <th>ISBN</th>\n",
       "      <th>Title</th>\n",
       "      <th>Author</th>\n",
       "      <th>Year</th>\n",
       "      <th>Publisher</th>\n",
       "    </tr>\n",
       "  </thead>\n",
       "  <tbody>\n",
       "    <tr>\n",
       "      <th>111658</th>\n",
       "      <td>0486404242</td>\n",
       "      <td>War in Kind: And Other Poems (Dover Thrift Edi...</td>\n",
       "      <td>Stephen Crane</td>\n",
       "      <td>1998</td>\n",
       "      <td>Dover Publications</td>\n",
       "    </tr>\n",
       "    <tr>\n",
       "      <th>111813</th>\n",
       "      <td>0486404242</td>\n",
       "      <td>War in Kind: And Other Poems (Dover Thrift Edi...</td>\n",
       "      <td>Stephen Crane</td>\n",
       "      <td>1998</td>\n",
       "      <td>Dover Publications</td>\n",
       "    </tr>\n",
       "  </tbody>\n",
       "</table>\n",
       "</div>"
      ],
      "text/plain": [
       "              ISBN                                              Title  \\\n",
       "111658  0486404242  War in Kind: And Other Poems (Dover Thrift Edi...   \n",
       "111813  0486404242  War in Kind: And Other Poems (Dover Thrift Edi...   \n",
       "\n",
       "               Author  Year           Publisher  \n",
       "111658  Stephen Crane  1998  Dover Publications  \n",
       "111813  Stephen Crane  1998  Dover Publications  "
      ]
     },
     "execution_count": 27,
     "metadata": {},
     "output_type": "execute_result"
    }
   ],
   "source": [
    "books[books.ISBN == '0486404242']"
   ]
  },
  {
   "cell_type": "code",
   "execution_count": 28,
   "metadata": {},
   "outputs": [],
   "source": [
    "books.drop_duplicates(subset='ISBN', inplace=True)\n",
    "books = books.reset_index()\n",
    "\n",
    "isbn_mapping = {category: idx for idx, category in enumerate(books['ISBN'])}\n"
   ]
  },
  {
   "cell_type": "code",
   "execution_count": 33,
   "metadata": {},
   "outputs": [
    {
     "data": {
      "text/html": [
       "<div>\n",
       "<style scoped>\n",
       "    .dataframe tbody tr th:only-of-type {\n",
       "        vertical-align: middle;\n",
       "    }\n",
       "\n",
       "    .dataframe tbody tr th {\n",
       "        vertical-align: top;\n",
       "    }\n",
       "\n",
       "    .dataframe thead th {\n",
       "        text-align: right;\n",
       "    }\n",
       "</style>\n",
       "<table border=\"1\" class=\"dataframe\">\n",
       "  <thead>\n",
       "    <tr style=\"text-align: right;\">\n",
       "      <th></th>\n",
       "      <th>User-ID</th>\n",
       "      <th>ISBN</th>\n",
       "      <th>Rating</th>\n",
       "      <th>ISBN_i</th>\n",
       "    </tr>\n",
       "  </thead>\n",
       "  <tbody>\n",
       "    <tr>\n",
       "      <th>6</th>\n",
       "      <td>276736</td>\n",
       "      <td>3257224281</td>\n",
       "      <td>8</td>\n",
       "      <td>NaN</td>\n",
       "    </tr>\n",
       "    <tr>\n",
       "      <th>7</th>\n",
       "      <td>276737</td>\n",
       "      <td>0600570967</td>\n",
       "      <td>6</td>\n",
       "      <td>NaN</td>\n",
       "    </tr>\n",
       "    <tr>\n",
       "      <th>9</th>\n",
       "      <td>276745</td>\n",
       "      <td>342310538</td>\n",
       "      <td>10</td>\n",
       "      <td>NaN</td>\n",
       "    </tr>\n",
       "    <tr>\n",
       "      <th>25</th>\n",
       "      <td>276748</td>\n",
       "      <td>3442437407</td>\n",
       "      <td>0</td>\n",
       "      <td>NaN</td>\n",
       "    </tr>\n",
       "    <tr>\n",
       "      <th>26</th>\n",
       "      <td>276751</td>\n",
       "      <td>033390804X</td>\n",
       "      <td>0</td>\n",
       "      <td>NaN</td>\n",
       "    </tr>\n",
       "  </tbody>\n",
       "</table>\n",
       "</div>"
      ],
      "text/plain": [
       "    User-ID        ISBN  Rating  ISBN_i\n",
       "6    276736  3257224281       8     NaN\n",
       "7    276737  0600570967       6     NaN\n",
       "9    276745   342310538      10     NaN\n",
       "25   276748  3442437407       0     NaN\n",
       "26   276751  033390804X       0     NaN"
      ]
     },
     "execution_count": 33,
     "metadata": {},
     "output_type": "execute_result"
    }
   ],
   "source": [
    "ratings['ISBN_i'] = ratings['ISBN'].map(isbn_mapping)\n",
    "\n",
    "unknown_isbns = ratings[ratings['ISBN_i'].isna()]\n",
    "unknown_isbns.head()"
   ]
  },
  {
   "cell_type": "code",
   "execution_count": 35,
   "metadata": {},
   "outputs": [
    {
     "data": {
      "text/plain": [
       "(118605, 4)"
      ]
     },
     "execution_count": 35,
     "metadata": {},
     "output_type": "execute_result"
    }
   ],
   "source": [
    "unknown_isbns.shape"
   ]
  },
  {
   "cell_type": "code",
   "execution_count": 36,
   "metadata": {},
   "outputs": [
    {
     "name": "stdout",
     "output_type": "stream",
     "text": [
      "Dropping unknown ISBNs, ratings.shape = (1149780, 4)\n",
      "Dropping unknown ISBNs, ratings.shape = (1031175, 4)\n"
     ]
    }
   ],
   "source": [
    "print(f\"Dropping unknown ISBNs, ratings.shape = {ratings.shape}\")\n",
    "ratings.dropna(subset=['ISBN_i'], inplace=True)\n",
    "print(f\"Dropping unknown ISBNs, ratings.shape = {ratings.shape}\")"
   ]
  },
  {
   "cell_type": "code",
   "execution_count": 38,
   "metadata": {},
   "outputs": [],
   "source": [
    "from scipy.sparse import csr_matrix\n",
    "ratings['ISBN_i'] = ratings['ISBN_i'].astype(np.int32)\n",
    "user_item_matrix = csr_matrix((ratings['Rating'], (ratings['User-ID'], ratings['ISBN_i'])), dtype=np.float64)"
   ]
  },
  {
   "cell_type": "code",
   "execution_count": 39,
   "metadata": {},
   "outputs": [],
   "source": [
    "normalized_matrix = user_item_matrix.copy()\n",
    "\n",
    "for i in range(normalized_matrix.shape[0]):\n",
    "    # Extract the row\n",
    "    row = normalized_matrix.getrow(i)\n",
    "    \n",
    "    # Calculate the mean of non-zero elements in the row\n",
    "    non_zero_elements = row.data\n",
    "    if non_zero_elements.size > 0:\n",
    "        mean_non_zero = non_zero_elements.mean()\n",
    "        \n",
    "        # Subtract the mean from the non-zero elements\n",
    "        row.data -= mean_non_zero\n",
    "    \n",
    "    # Update the normalized_matrix row\n",
    "    normalized_matrix.data[normalized_matrix.indptr[i]:normalized_matrix.indptr[i+1]] = row.data\n"
   ]
  },
  {
   "cell_type": "code",
   "execution_count": 40,
   "metadata": {},
   "outputs": [
    {
     "name": "stdout",
     "output_type": "stream",
     "text": [
      "[0.]\n",
      "[ 2.70588235 -2.29411765 -2.29411765 -2.29411765 -2.29411765 -2.29411765\n",
      " -2.29411765 -2.29411765  2.70588235 -2.29411765 -2.29411765  2.70588235\n",
      "  2.70588235 -2.29411765  3.70588235  3.70588235  4.70588235]\n",
      "[-2.  4. -2.]\n",
      "[0.]\n",
      "[0.]\n",
      "[ 1.  1.  2. -4.]\n",
      "[ 4.5 -4.5]\n",
      "[-3. -3.  0. -3.  4.  3.  2.]\n",
      "[0.]\n",
      "[0.]\n"
     ]
    }
   ],
   "source": [
    "k = 0\n",
    "for i in range(normalized_matrix.shape[0]):\n",
    "    row = normalized_matrix.getrow(i)\n",
    "    if row.data.size > 0:\n",
    "        print(row.data)\n",
    "        k+=1\n",
    "    if k == 10:\n",
    "        break"
   ]
  },
  {
   "cell_type": "code",
   "execution_count": 15,
   "metadata": {},
   "outputs": [],
   "source": [
    "# from sklearn.metrics.pairwise import cosine_similarity\n",
    "\n",
    "# # Calculate cosine similarity between rows\n",
    "# similarity_matrix = cosine_similarity(normalized_matrix)\n",
    "# similarity_matrix.shape\n"
   ]
  },
  {
   "cell_type": "code",
   "execution_count": 16,
   "metadata": {},
   "outputs": [],
   "source": [
    "# k = 30\n",
    "# nearest_neighbors_similarities = np.sort(-similarity_matrix, axis=1)[:, 1:k+1]\n",
    "\n",
    "# print(\"Similarity scores to 30 nearest neighbors for each row:\")\n",
    "# print(-nearest_neighbors_similarities[0])"
   ]
  },
  {
   "cell_type": "code",
   "execution_count": 41,
   "metadata": {},
   "outputs": [],
   "source": [
    "from sklearn.neighbors import NearestNeighbors\n",
    "\n",
    "nbrs = NearestNeighbors(n_neighbors=30, metric='cosine', algorithm='auto').fit(normalized_matrix)\n",
    "distances, indices = nbrs.kneighbors(normalized_matrix)"
   ]
  },
  {
   "cell_type": "code",
   "execution_count": 42,
   "metadata": {},
   "outputs": [
    {
     "data": {
      "text/plain": [
       "(278855, 30)"
      ]
     },
     "execution_count": 42,
     "metadata": {},
     "output_type": "execute_result"
    }
   ],
   "source": [
    "distances.shape"
   ]
  },
  {
   "cell_type": "code",
   "execution_count": 43,
   "metadata": {},
   "outputs": [
    {
     "name": "stdout",
     "output_type": "stream",
     "text": [
      "(851778,)\n"
     ]
    }
   ],
   "source": [
    "filtered_distances = distances[(distances > 0) & (distances < 1)]\n",
    "print(filtered_distances.shape)"
   ]
  },
  {
   "cell_type": "code",
   "execution_count": 129,
   "metadata": {},
   "outputs": [
    {
     "name": "stdout",
     "output_type": "stream",
     "text": [
      "user 98391 rated 5779 books\n",
      "Indexes of top 5 elements: [  5503  21287 157131   3737  20861]\n",
      "              ISBN                                              Title  \\\n",
      "5503    0874776945  The Artist's Way : A Spiritual Path to Higher ...   \n",
      "21287   0446606189                    Cat & Mouse (Alex Cross Novels)   \n",
      "157131  0895551926  Martyrs of the Coliseum With Historical Record...   \n",
      "3737    0446365505                                    Pleading Guilty   \n",
      "20861   038072362X                                   A Superior Death   \n",
      "\n",
      "                 Author  Year                      Publisher  \n",
      "5503      Julia Cameron  1992              Jeremy P. Tarcher  \n",
      "21287   James Patterson  1998                   Warner Books  \n",
      "157131    A. J. Oreilly  1987                Tan Books & Pub  \n",
      "3737        Scott Turow  1994                   Warner Books  \n",
      "20861       Nevada Barr  2002  Harper Mass Market Paperbacks  \n"
     ]
    }
   ],
   "source": [
    "def recommend(user_id, ratings, books, n_neighbors=10, n_recomm=5):\n",
    "    # Get the row corresponding to the user\n",
    "    user_row = ratings.getrow(user_id)\n",
    "    print(f\"user {user_id} rated {len(user_row.indices)} books\")\n",
    "\n",
    "    # Find the nearest neighbors\n",
    "    distances, indices = nbrs.kneighbors(user_row, n_neighbors)\n",
    "    #print(f\"Indices of nearest neighbors ({user_id}): {indices}\")\n",
    "\n",
    "    # Get the ratings of the neighbors\n",
    "    neighbor_ratings = normalized_matrix[indices[0]].toarray()\n",
    "    weighted_rows = neighbor_ratings * distances[0][:, np.newaxis]\n",
    "\n",
    "    result_vector = weighted_rows.sum(axis=0)\n",
    "    result_vector = result_vector / distances.sum()\n",
    "\n",
    "    result_vector.ravel()[user_row.indices] = 0\n",
    "\n",
    "    sorted_indices = np.argsort(result_vector)\n",
    "    top_indices = sorted_indices[-n_recomm:][::-1]\n",
    "\n",
    "    print(\"Indexes of top 5 elements:\", top_indices)\n",
    "\n",
    "    return books.iloc[top_indices]\n",
    "\n"
   ]
  },
  {
   "cell_type": "code",
   "execution_count": 130,
   "metadata": {},
   "outputs": [
    {
     "name": "stdout",
     "output_type": "stream",
     "text": [
      "user 241980 rated 314 books\n",
      "Indexes of top 5 elements: [10928 13283 61813   706 79358]\n"
     ]
    },
    {
     "data": {
      "text/html": [
       "<div>\n",
       "<style scoped>\n",
       "    .dataframe tbody tr th:only-of-type {\n",
       "        vertical-align: middle;\n",
       "    }\n",
       "\n",
       "    .dataframe tbody tr th {\n",
       "        vertical-align: top;\n",
       "    }\n",
       "\n",
       "    .dataframe thead th {\n",
       "        text-align: right;\n",
       "    }\n",
       "</style>\n",
       "<table border=\"1\" class=\"dataframe\">\n",
       "  <thead>\n",
       "    <tr style=\"text-align: right;\">\n",
       "      <th></th>\n",
       "      <th>ISBN</th>\n",
       "      <th>Title</th>\n",
       "      <th>Author</th>\n",
       "      <th>Year</th>\n",
       "      <th>Publisher</th>\n",
       "    </tr>\n",
       "  </thead>\n",
       "  <tbody>\n",
       "    <tr>\n",
       "      <th>10928</th>\n",
       "      <td>0446608815</td>\n",
       "      <td>Pop Goes the Weasel</td>\n",
       "      <td>James Patterson</td>\n",
       "      <td>2000</td>\n",
       "      <td>Warner Vision</td>\n",
       "    </tr>\n",
       "    <tr>\n",
       "      <th>13283</th>\n",
       "      <td>0671642561</td>\n",
       "      <td>Fallen Hearts</td>\n",
       "      <td>V.C. Andrews</td>\n",
       "      <td>1988</td>\n",
       "      <td>Pocket</td>\n",
       "    </tr>\n",
       "    <tr>\n",
       "      <th>61813</th>\n",
       "      <td>0061031011</td>\n",
       "      <td>Have a Nice Day!: A Tale of Blood and Sweatsocks</td>\n",
       "      <td>Mick Foley</td>\n",
       "      <td>2000</td>\n",
       "      <td>ReganBooks</td>\n",
       "    </tr>\n",
       "    <tr>\n",
       "      <th>706</th>\n",
       "      <td>0446672211</td>\n",
       "      <td>Where the Heart Is (Oprah's Book Club (Paperba...</td>\n",
       "      <td>Billie Letts</td>\n",
       "      <td>1998</td>\n",
       "      <td>Warner Books</td>\n",
       "    </tr>\n",
       "    <tr>\n",
       "      <th>79358</th>\n",
       "      <td>0743428617</td>\n",
       "      <td>Midnight Flight (Broken Wings)</td>\n",
       "      <td>V.C. Andrews</td>\n",
       "      <td>2003</td>\n",
       "      <td>Pocket Star</td>\n",
       "    </tr>\n",
       "  </tbody>\n",
       "</table>\n",
       "</div>"
      ],
      "text/plain": [
       "             ISBN                                              Title  \\\n",
       "10928  0446608815                                Pop Goes the Weasel   \n",
       "13283  0671642561                                      Fallen Hearts   \n",
       "61813  0061031011   Have a Nice Day!: A Tale of Blood and Sweatsocks   \n",
       "706    0446672211  Where the Heart Is (Oprah's Book Club (Paperba...   \n",
       "79358  0743428617                     Midnight Flight (Broken Wings)   \n",
       "\n",
       "                Author  Year      Publisher  \n",
       "10928  James Patterson  2000  Warner Vision  \n",
       "13283     V.C. Andrews  1988         Pocket  \n",
       "61813       Mick Foley  2000     ReganBooks  \n",
       "706       Billie Letts  1998   Warner Books  \n",
       "79358     V.C. Andrews  2003    Pocket Star  "
      ]
     },
     "execution_count": 130,
     "metadata": {},
     "output_type": "execute_result"
    }
   ],
   "source": [
    "recommend(ratings.sample(n=1)['User-ID'].astype(np.int32).values[0], normalized_matrix, books, n_neighbors=30, n_recomm=5)"
   ]
  },
  {
   "cell_type": "code",
   "execution_count": 3,
   "metadata": {},
   "outputs": [],
   "source": [
    "import sys\n",
    "sys.path.append('../..')\n",
    "\n",
    "import src.recommenders.user_collaborative_filtering as ubcf\n",
    "\n",
    "model = ubcf.UserRecommender()\n",
    "model.fit(users=users, items=books, ratings=ratings)"
   ]
  },
  {
   "cell_type": "code",
   "execution_count": 4,
   "metadata": {},
   "outputs": [
    {
     "data": {
      "text/plain": [
       "[255846]"
      ]
     },
     "execution_count": 4,
     "metadata": {},
     "output_type": "execute_result"
    }
   ],
   "source": [
    "model.predict(users=[ratings.sample(n=1)['User-ID'].astype(np.int32).values[0]], items=books)"
   ]
  }
 ],
 "metadata": {
  "kernelspec": {
   "display_name": "base",
   "language": "python",
   "name": "python3"
  },
  "language_info": {
   "codemirror_mode": {
    "name": "ipython",
    "version": 3
   },
   "file_extension": ".py",
   "mimetype": "text/x-python",
   "name": "python",
   "nbconvert_exporter": "python",
   "pygments_lexer": "ipython3",
   "version": "3.12.3"
  }
 },
 "nbformat": 4,
 "nbformat_minor": 2
}
