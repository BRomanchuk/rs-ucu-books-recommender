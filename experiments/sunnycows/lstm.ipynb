{
 "cells": [
  {
   "cell_type": "code",
   "execution_count": 1,
   "metadata": {},
   "outputs": [
    {
     "name": "stderr",
     "output_type": "stream",
     "text": [
      "2024-08-10 00:10:39.166073: I tensorflow/core/platform/cpu_feature_guard.cc:210] This TensorFlow binary is optimized to use available CPU instructions in performance-critical operations.\n",
      "To enable the following instructions: AVX2 FMA, in other operations, rebuild TensorFlow with the appropriate compiler flags.\n"
     ]
    },
    {
     "name": "stdout",
     "output_type": "stream",
     "text": [
      "   User-ID        ISBN  Rating            timestamp\n",
      "0   276725  034545104X       0  2007-05-26 07:29:30\n",
      "1   276726  0155061224       5  2002-07-09 02:39:20\n",
      "2   276727  0446520802       0  2006-09-28 23:13:25\n",
      "3   276729  052165615X       3  2003-10-03 13:12:44\n",
      "4   276729  0521795028       6  2010-04-29 18:50:50\n"
     ]
    },
    {
     "name": "stderr",
     "output_type": "stream",
     "text": [
      "/var/folders/yn/16crnc792zg2yr78zf0qg0j40000gq/T/ipykernel_83573/3934411562.py:23: DeprecationWarning: DataFrameGroupBy.apply operated on the grouping columns. This behavior is deprecated, and in a future version of pandas the grouping columns will be excluded from the operation. Either pass `include_groups=False` to exclude the groupings or explicitly select the grouping columns after groupby to silence this warning.\n",
      "  user_grouped = ratings_df.groupby('User-ID').apply(lambda x: x.sort_values(by='timestamp'))\n",
      "/Users/oleh.sannikov/miniconda3/envs/recsys/lib/python3.12/site-packages/keras/src/layers/core/embedding.py:90: UserWarning: Argument `input_length` is deprecated. Just remove it.\n",
      "  warnings.warn(\n"
     ]
    },
    {
     "ename": "",
     "evalue": "",
     "output_type": "error",
     "traceback": [
      "\u001b[1;31mThe Kernel crashed while executing code in the current cell or a previous cell. \n",
      "\u001b[1;31mPlease review the code in the cell(s) to identify a possible cause of the failure. \n",
      "\u001b[1;31mClick <a href='https://aka.ms/vscodeJupyterKernelCrash'>here</a> for more info. \n",
      "\u001b[1;31mView Jupyter <a href='command:jupyter.viewOutput'>log</a> for further details."
     ]
    }
   ],
   "source": [
    "import numpy as np\n",
    "import pandas as pd\n",
    "import tensorflow as tf\n",
    "from tensorflow.keras.layers import Embedding, LSTM, Dense, Input\n",
    "from tensorflow.keras.models import Model\n",
    "from tensorflow.keras.preprocessing.sequence import pad_sequences\n",
    "from sklearn.model_selection import train_test_split\n",
    "from sklearn.preprocessing import LabelEncoder\n",
    "\n",
    "ratings_df = pd.read_csv('../../data/Ratings_Time.csv', delimiter=';', dtype={'User-ID': np.int32, 'ISBN': str, 'Rating': np.int8, 'timestamp': str})\n",
    "print(ratings_df.head())\n",
    "\n",
    "ratings_df = ratings_df.sort_values(by=['User-ID', 'timestamp'])\n",
    "\n",
    "# Encode User-IDs and ISBNs to numerical values\n",
    "user_encoder = LabelEncoder()\n",
    "book_encoder = LabelEncoder()\n",
    "\n",
    "ratings_df['User-ID'] = user_encoder.fit_transform(ratings_df['User-ID'])\n",
    "ratings_df['ISBN'] = book_encoder.fit_transform(ratings_df['ISBN'])\n",
    "\n",
    "# Create sequences of interactions per user\n",
    "user_grouped = ratings_df.groupby('User-ID').apply(lambda x: x.sort_values(by='timestamp'))\n",
    "\n",
    "# Generate input sequences and labels\n",
    "sequences = []\n",
    "next_books = []\n",
    "\n",
    "for user_id, user_data in user_grouped.groupby(level=0):\n",
    "    user_books = user_data['ISBN'].tolist()\n",
    "    for i in range(1, len(user_books)):\n",
    "        sequences.append(user_books[:i])\n",
    "        next_books.append(user_books[i])\n",
    "\n",
    "# Padding sequences to the same length\n",
    "max_sequence_len = max([len(seq) for seq in sequences])\n",
    "sequences_padded = pad_sequences(sequences, maxlen=max_sequence_len)\n",
    "\n",
    "# Convert labels to categorical\n",
    "next_books = np.array(next_books)\n",
    "num_books = len(book_encoder.classes_)\n",
    "\n",
    "# Split data into training and validation sets\n",
    "X_train, X_val, y_train, y_val = train_test_split(sequences_padded, next_books, test_size=0.2, random_state=42)\n",
    "\n",
    "# Define the model\n",
    "embedding_dim = 50\n",
    "\n",
    "input_layer = Input(shape=(max_sequence_len,))\n",
    "embedding_layer = Embedding(input_dim=num_books, output_dim=embedding_dim, input_length=max_sequence_len)(input_layer)\n",
    "lstm_layer = LSTM(128, return_sequences=False)(embedding_layer)\n",
    "output_layer = Dense(num_books, activation='softmax')(lstm_layer)\n",
    "\n",
    "model = Model(inputs=input_layer, outputs=output_layer)\n",
    "model.compile(loss='sparse_categorical_crossentropy', optimizer='adam', metrics=['accuracy'])\n",
    "\n",
    "# Train the model\n",
    "model.fit(X_train, y_train, validation_data=(X_val, y_val), epochs=10, batch_size=64)\n",
    "\n",
    "# Predict the next book for a given user sequence\n",
    "def predict_next_book(user_sequence):\n",
    "    user_sequence_padded = pad_sequences([user_sequence], maxlen=max_sequence_len)\n",
    "    prediction = model.predict(user_sequence_padded)\n",
    "    next_ISBN = np.argmax(prediction)\n",
    "    next_book = book_encoder.inverse_transform([next_ISBN])\n",
    "    return next_book[0]\n",
    "\n",
    "# Example of predicting the next book for a given sequence\n",
    "example_sequence = [book_encoder.transform(['ISBN1', 'ISBN2', 'ISBN3'])]\n",
    "predicted_book = predict_next_book(example_sequence)\n",
    "print(f\"Predicted next book: {predicted_book}\")"
   ]
  }
 ],
 "metadata": {
  "kernelspec": {
   "display_name": "recsys",
   "language": "python",
   "name": "python3"
  },
  "language_info": {
   "codemirror_mode": {
    "name": "ipython",
    "version": 3
   },
   "file_extension": ".py",
   "mimetype": "text/x-python",
   "name": "python",
   "nbconvert_exporter": "python",
   "pygments_lexer": "ipython3",
   "version": "3.12.4"
  }
 },
 "nbformat": 4,
 "nbformat_minor": 2
}
