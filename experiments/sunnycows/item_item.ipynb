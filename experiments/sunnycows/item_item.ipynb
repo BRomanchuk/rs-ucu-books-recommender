{
 "cells": [
  {
   "cell_type": "code",
   "execution_count": 10,
   "metadata": {},
   "outputs": [],
   "source": [
    "import numpy as np\n",
    "import pandas as pd"
   ]
  },
  {
   "cell_type": "code",
   "execution_count": 51,
   "metadata": {},
   "outputs": [
    {
     "name": "stderr",
     "output_type": "stream",
     "text": [
      "/var/folders/yn/16crnc792zg2yr78zf0qg0j40000gq/T/ipykernel_37212/2231409931.py:1: DtypeWarning: Columns (0) have mixed types. Specify dtype option on import or set low_memory=False.\n",
      "  users = pd.read_csv('../../data/Users.csv', delimiter=';')\n"
     ]
    }
   ],
   "source": [
    "users = pd.read_csv('../../data/Users.csv', delimiter=';')\n",
    "books = pd.read_csv('../../data/Books.csv', delimiter=';', dtype={'ISBN': str, 'Title': str, 'Author': str, 'Year': np.int16, 'Publisher': str})\n",
    "ratings = pd.read_csv('../../data/Ratings.csv', delimiter=';', dtype={'User-ID': np.int32, 'ISBN': str, 'Rating': np.int8})"
   ]
  },
  {
   "cell_type": "code",
   "execution_count": 12,
   "metadata": {},
   "outputs": [],
   "source": [
    "import sys\n",
    "sys.path.append('../..')\n",
    "\n",
    "from src.evaluation import average_precision\n",
    "from sklearn.model_selection import train_test_split"
   ]
  },
  {
   "cell_type": "code",
   "execution_count": 13,
   "metadata": {},
   "outputs": [],
   "source": [
    "train_ratings, test_ratings = train_test_split(ratings, test_size=0.3, random_state=42)"
   ]
  },
  {
   "cell_type": "code",
   "execution_count": 52,
   "metadata": {},
   "outputs": [
    {
     "name": "stderr",
     "output_type": "stream",
     "text": [
      "/var/folders/yn/16crnc792zg2yr78zf0qg0j40000gq/T/ipykernel_37212/1133943471.py:22: RuntimeWarning: Mean of empty slice.\n",
      "  means = np.array([normalized_matrix[i].data.mean() for i in range(normalized_matrix.shape[0])])\n",
      "/Users/oleh.sannikov/miniconda3/envs/recsys/lib/python3.12/site-packages/numpy/core/_methods.py:129: RuntimeWarning: invalid value encountered in scalar divide\n",
      "  ret = ret.dtype.type(ret / rcount)\n"
     ]
    },
    {
     "name": "stdout",
     "output_type": "stream",
     "text": [
      "Similarity matrix shape: (271379, 271379)\n",
      "Item-user matrix shape: (271379, 278855)\n",
      "User-to-item matrix shape: (278855, 271379)\n"
     ]
    }
   ],
   "source": [
    "from src.recommenders.base import BaseRecommender\n",
    "import numpy as np\n",
    "import pandas as pd\n",
    "from scipy.sparse import csr_matrix\n",
    "from sklearn.metrics.pairwise import cosine_similarity\n",
    "\n",
    "n_recomm = 5\n",
    "\n",
    "books = books.reset_index() # add index as a column\n",
    "isbn_mapping = {category: idx for idx, category in enumerate(books['ISBN'])}\n",
    "\n",
    "ratings = ratings.copy()\n",
    "ratings['ISBN_i'] = ratings['ISBN'].map(isbn_mapping) # map ISBN to index\n",
    "ratings.dropna(subset=['ISBN_i'], inplace=True) # drop rows with NaN ISBN_i\n",
    "ratings['ISBN_i'] = ratings['ISBN_i'].astype(np.int32)\n",
    "\n",
    "# Create a sparse user-item matrix\n",
    "user_item_matrix = csr_matrix((ratings['Rating'], (ratings['User-ID'], ratings['ISBN_i'])), dtype=np.float64)\n",
    "\n",
    "# Normalize the user-item matrix\n",
    "normalized_matrix = user_item_matrix.copy()\n",
    "means = np.array([normalized_matrix[i].data.mean() for i in range(normalized_matrix.shape[0])])\n",
    "normalized_matrix.data -= np.repeat(means, np.diff(normalized_matrix.indptr))\n",
    "\n",
    "item_user_matrix = csr_matrix((ratings['Rating'], (ratings['ISBN_i'], ratings['User-ID'])), dtype=np.float64)\n",
    "similarity_matrix = cosine_similarity(normalized_matrix.T, dense_output=False)\n",
    "\n",
    "print('Similarity matrix shape:', similarity_matrix.shape)\n",
    "print('Item-user matrix shape:', item_user_matrix.shape)\n",
    "print('User-to-item matrix shape:', user_item_matrix.shape)\n",
    "\n"
   ]
  },
  {
   "cell_type": "code",
   "execution_count": 53,
   "metadata": {},
   "outputs": [],
   "source": [
    "def list_minus(a, b):\n",
    "    return [x for x in a if x not in b]\n",
    "\n",
    "def predict(users, items):\n",
    "    user_predictions = {}\n",
    "    for user_id in users:\n",
    "        # Get the row corresponding to the user\n",
    "        user_row = normalized_matrix.getrow(user_id)\n",
    "        top_rated = np.argsort(user_row.data)[::-1][:n_recomm]\n",
    "\n",
    "        recommended_books = []\n",
    "        for book_i in top_rated:\n",
    "            book_row = similarity_matrix[book_i]\n",
    "            most_similar_books = np.argsort(book_row.data)[::-1][:n_recomm]\n",
    "            recommended_books.extend(most_similar_books)\n",
    "\n",
    "        recommended_books = list_minus(set(recommended_books), user_row.indices)\n",
    "        print(recommended_books)\n",
    "        average_ratings = {}\n",
    "        for book in recommended_books:\n",
    "            # Get the average rating for the book\n",
    "            average_rating = 0 #normalized_matrix.getcol(book).data.mean()\n",
    "            average_ratings[book] = average_rating\n",
    "\n",
    "        sorted_recommended_books = sorted(recommended_books, key=lambda book: average_ratings[book], reverse=True)[:n_recomm]\n",
    "\n",
    "        user_predictions[user_id] = books[books['ISBN'].isin(sorted_recommended_books)]\n",
    "    \n",
    "    return user_predictions"
   ]
  },
  {
   "cell_type": "code",
   "execution_count": 56,
   "metadata": {},
   "outputs": [
    {
     "data": {
      "text/plain": [
       "100"
      ]
     },
     "execution_count": 56,
     "metadata": {},
     "output_type": "execute_result"
    }
   ],
   "source": [
    "test_users = test_ratings['User-ID'].unique()[:100]\n",
    "len(test_users)"
   ]
  },
  {
   "cell_type": "code",
   "execution_count": 25,
   "metadata": {},
   "outputs": [
    {
     "data": {
      "text/plain": [
       "(278855, 271379)"
      ]
     },
     "execution_count": 25,
     "metadata": {},
     "output_type": "execute_result"
    }
   ],
   "source": [
    "normalized_matrix.shape"
   ]
  },
  {
   "cell_type": "code",
   "execution_count": 47,
   "metadata": {},
   "outputs": [
    {
     "data": {
      "text/plain": [
       "(278855, 278855)"
      ]
     },
     "execution_count": 47,
     "metadata": {},
     "output_type": "execute_result"
    }
   ],
   "source": [
    "similarity_matrix.shape"
   ]
  },
  {
   "cell_type": "code",
   "execution_count": 26,
   "metadata": {},
   "outputs": [
    {
     "data": {
      "text/plain": [
       "(271379, 6)"
      ]
     },
     "execution_count": 26,
     "metadata": {},
     "output_type": "execute_result"
    }
   ],
   "source": [
    "books.shape"
   ]
  },
  {
   "cell_type": "code",
   "execution_count": 57,
   "metadata": {},
   "outputs": [
    {
     "name": "stdout",
     "output_type": "stream",
     "text": [
      "[16264, 37515, 5644, 8858, 4517, 1063, 1448, 16170, 16431, 4798, 16323, 11204, 969, 1353, 129611, 1101, 973, 12896, 7654, 5610, 618, 4590, 7667, 5619, 5624]\n",
      "[0, 1, 2, 387, 16516, 4, 3, 23437, 3863, 794, 29728, 6314, 6319, 6328, 322, 327, 739, 740, 741, 7406, 1648, 369, 47097]\n",
      "[0, 1, 2, 3, 4, 1671, 1677, 23, 5798, 5804, 5810, 26163, 3252, 3255, 3256, 3257, 3385, 16056, 12611, 5337, 16605, 15229]\n",
      "[0, 1, 2, 4, 5, 1924, 6, 8, 1289, 9, 10, 13, 11150, 15, 1294, 1317, 2342, 10549, 54, 12099, 73, 79, 87, 13025, 1402]\n",
      "[13025, 73, 79, 54, 87]\n",
      "[14, 50090, 5292, 5302, 41152, 30658, 968, 20424, 21067, 972, 974, 14671, 976, 23383, 42972, 30307, 34406, 1516, 46706, 14969]\n",
      "[1, 1218, 34, 13025, 1959, 73, 1260, 1230, 1454, 79, 51, 54, 87, 25, 27]\n",
      "[1, 23074, 3, 4122, 2, 11526, 4, 35304, 12649, 24904, 8, 12, 11, 5, 18130, 4085, 6680, 6522]\n",
      "[]\n",
      "[0, 1, 9, 16140, 20, 22, 23, 14492, 11175, 7084, 7090, 13878, 8887, 8383, 22114, 1514, 1519, 2550, 7035, 7038, 1535]\n",
      "[23808, 21626, 21650, 27157, 23715, 49445, 18855, 30130, 32821, 18869, 20411, 36290, 21829, 12893, 29406, 41316, 50278, 19187, 19190, 19191, 19192, 12922, 32250, 21756, 24446]\n",
      "[50434, 16, 33, 38566, 25897, 42, 44, 52782, 9410, 68, 76, 9422, 38609, 42198, 42199, 42200, 2779, 28641, 11500, 38519, 9593, 9597, 10622]\n",
      "[2, 9, 13, 270, 12567, 13467, 7835, 30, 35, 7727, 7733, 9400, 9404, 60, 7747, 68, 9412, 35403, 31828, 69857, 99, 100, 24812, 9201, 39030]\n",
      "[0, 1, 2, 3, 4, 1284, 10, 5056, 1346, 9933, 9935, 1232, 1233, 1238, 4962, 4451, 1256, 4084, 4085, 4086]\n",
      "[1, 2, 4, 5, 8, 19631, 54, 73, 79, 9423, 212, 213, 87, 215, 9433, 216, 219, 13025, 997, 1023]\n",
      "[1, 29321, 11, 12, 23437, 19, 22, 23, 29, 30, 34, 14247, 6314, 6319, 4662, 4663, 6328, 6329, 14280, 14409, 14292, 4712, 3823, 3710]\n",
      "[0, 6, 9, 10, 13, 11150, 1294, 15, 154, 156, 1322, 1326, 1198, 1328, 1330, 10549, 2232, 363, 244, 1402]\n",
      "[0, 11150, 1294, 154, 156, 1959, 1454, 1198, 10549, 54, 1218, 73, 1230, 79, 87, 13025, 363, 1260, 244, 1402]\n",
      "[0, 1, 6, 9, 10, 13, 11150, 1294, 15, 25, 27, 34, 1959, 1454, 51, 10549, 1218, 1230, 1260, 1402]\n",
      "[0, 1, 2, 3, 4, 5, 30211, 8, 6664, 2187, 2189, 1934, 1949, 4128, 1958, 30123, 44463, 30141, 30145, 2009, 13413, 1652]\n",
      "[0, 11150, 1294, 16, 149, 154, 156, 35, 38, 39, 1198, 10549, 54, 73, 79, 87, 13025, 363, 244, 1402]\n",
      "[0, 1, 2, 3, 4, 9225, 5644, 9243, 30, 32, 33, 3495, 39, 129611, 5610, 9327, 5619, 5624, 9212, 64125]\n",
      "[0, 1, 2824, 27278, 2833, 2836, 30, 16037, 38, 3370, 58, 59, 60, 68, 71, 87, 24042, 7019, 109, 2806, 14203, 32252]\n",
      "[]\n",
      "[384, 385, 2, 387, 388, 4, 1, 5, 8, 0, 3, 130, 23074, 6522, 24904, 50780, 35304, 12649, 122, 123, 124, 126]\n",
      "[]\n",
      "[0, 1, 2, 5, 8, 10, 16, 17, 21, 23, 1337, 1347, 1349, 4428, 847, 1232, 1233, 21585, 1238, 6486, 4440, 1256, 4473, 4477]\n",
      "[10634, 7947, 21772, 7968, 7970, 2597, 31275, 7979, 9777, 73009, 9780, 9784, 2751, 9792, 23883, 15865, 45524, 84694, 21847, 2651, 18277, 82422, 2680, 24697]\n",
      "[896, 897, 2187, 2189, 1045, 68633, 47130, 31, 4128, 43, 54, 47423, 37319, 1610, 27211, 89, 13413, 4334, 1652, 895]\n",
      "[0, 2, 4, 6, 7, 16014, 1936, 19220, 9237, 8345, 2333, 2336, 2341, 2986, 9024, 1989, 2255, 9170, 24035, 1904]\n",
      "[0, 1, 2, 3, 4, 9225, 5263, 9243, 4259, 7357, 5956, 11346, 23890, 23903, 26346, 4204, 9327, 4207, 9212, 64125]\n",
      "[6, 9, 10, 13, 15, 1959, 1454, 19631, 54, 1218, 73, 1230, 79, 9423, 87, 9433, 13025, 997, 1260, 1023]\n",
      "[0, 1, 2, 3, 4, 5, 261, 7, 6, 10, 11, 12, 1596, 332, 334, 339, 349, 368, 126]\n",
      "[]\n",
      "[]\n",
      "[0, 1, 11150, 1294, 25, 154, 27, 156, 34, 1198, 19631, 51, 10549, 9423, 9433, 997, 363, 244, 1402, 1023]\n",
      "[1, 3, 4, 6, 9, 10, 5644, 13, 14, 15, 662, 663, 664, 665, 129611, 12756, 84, 212, 213, 215, 216, 219, 5610, 5619, 5624]\n",
      "[0, 1, 2, 4, 5, 10, 523, 2599, 21801, 14895, 29751, 576, 4818, 599, 2395, 1630, 19296, 16354, 16378, 627, 506, 19327]\n",
      "[384, 385, 0, 387, 388, 132, 128, 134, 651, 151, 670, 671, 673, 556, 44726, 14010, 65, 66, 75, 83, 50780, 26461, 3055, 36212, 7805]\n",
      "[48001, 2, 1, 4, 5, 8, 7311, 7312, 10255, 7317, 27157, 10265, 7322, 10267, 10266, 49445, 30130, 83264, 64193, 15689, 48469, 29406, 58720, 10338, 50278]\n",
      "[18, 23, 535, 15897, 15900, 540, 9122, 5926, 168, 56, 5819, 64, 3270, 3286, 2266, 2269, 6878, 2271, 6880, 2282, 1520, 6515, 507, 3324, 6909]\n",
      "[3969, 3970, 3972, 3974, 44810, 2187, 2189, 30485, 4128, 41407, 18629, 29129, 73, 75, 80, 83, 84, 18392, 46428, 18277, 485, 13413, 4072, 18283, 1652]\n",
      "[1540, 16773, 16261, 16776, 1544, 14475, 3884, 3885, 24367, 816, 3889, 1479, 30924, 16224, 16225, 738, 3939, 741, 16749, 29422, 1518, 754, 16757, 2813, 766]\n",
      "[1, 2, 4, 5, 8, 5644, 154, 7835, 156, 1198, 19631, 7727, 7733, 7747, 129611, 9423, 9433, 69857, 997, 5610, 363, 5619, 244, 5624, 1023]\n",
      "[0, 1, 2, 11653, 11654, 6, 7, 9, 11, 16, 6929, 20, 6932, 8600, 8729, 34, 8610, 8643, 13262, 10844]\n",
      "[12560, 14618, 1693, 23074, 10278, 23354, 17083, 18629, 24904, 14408, 18392, 1632, 1890, 18277, 485, 15974, 35304, 12649, 15336, 18283, 14189, 11758, 17392, 11765, 6522]\n",
      "[0, 2, 3, 4, 5, 6, 11150, 1294, 1322, 1326, 19631, 1328, 1330, 10549, 2232, 5056, 9933, 9935, 9423, 9433, 4962, 4451, 997, 1402, 1023]\n",
      "[1, 2, 4, 5, 1924, 6, 8, 1289, 9, 10, 13, 15, 16, 149, 35, 1317, 2342, 39, 38, 54, 12099, 73, 79, 87, 13025]\n",
      "[]\n",
      "[1, 2, 3, 4, 5, 4868, 6, 8, 23074, 1063, 24904, 969, 1101, 973, 4830, 12896, 35304, 12649, 39537, 18681, 6522, 4861]\n",
      "[1, 2, 3, 3973, 5, 7, 3978, 13, 14, 3984, 3990, 23, 4889, 25, 28, 5541, 11685, 5173, 4790, 45750, 9147, 9148, 9425, 12244]\n",
      "[0, 131, 133, 22153, 11150, 1294, 286, 552, 1322, 46, 47, 175, 1326, 1328, 1330, 10549, 2232, 8508, 89, 28127, 98, 51059, 1402, 251, 39295]\n",
      "[1924, 1289, 154, 7835, 156, 1317, 2342, 1198, 19631, 7727, 7733, 54, 12099, 7747, 73, 79, 9423, 87, 9433, 13025, 69857, 997, 363, 244, 1023]\n",
      "[0, 1, 2, 3, 4, 16773, 8, 11145, 16776, 11155, 23, 25, 11162, 11171, 40, 46, 69, 30924, 222, 225, 236, 16749, 11124, 16757]\n",
      "[6016, 0, 1, 2, 3, 2451, 6036, 17961, 3121, 309, 310, 311, 321, 21957, 4172, 11469, 7134, 5476, 4068, 2407, 4075, 4203, 5875, 2420]\n",
      "[1, 2, 34, 4, 5, 6, 8, 9, 10, 13, 15, 51, 25, 27]\n",
      "[0, 1281, 1, 2, 3, 1291, 3623, 3752, 3646, 5056, 23756, 9933, 9935, 3672, 1242, 1247, 3679, 1249, 4962, 7395, 4451, 4589, 1271, 3577]\n",
      "[1, 2, 4, 5, 8, 16, 149, 50721, 35, 51108, 38, 39, 552, 46, 47, 3252, 3255, 3256, 3385, 3257, 51523, 89, 50779, 98, 52337]\n",
      "[1, 1924, 6, 1289, 9, 10, 13, 15, 25, 27, 34, 1317, 2342, 1959, 1454, 51, 1218, 12099, 1230, 1260]\n",
      "[129, 260, 22153, 7311, 272, 7312, 7317, 7322, 1584, 1585, 1586, 52, 58, 8508, 3648, 1601, 3650, 15689, 3798, 3799, 3164, 28127, 16743, 51059, 39295]\n",
      "[0, 1, 2, 3, 4484, 70421, 662, 663, 664, 665, 4255, 4258, 55, 40251, 60, 63, 193, 66, 4297, 40521, 12756, 40284, 41565, 20978]\n",
      "[0, 1, 2, 3, 4, 9, 10, 11, 35227, 42, 43, 44, 51, 1336, 37719, 37602, 100, 46063]\n",
      "[0, 69857, 2, 7747, 4, 1, 5, 3, 8, 9, 6, 10, 13, 7727, 15, 7733, 7835]\n",
      "[0, 1, 2, 3, 4, 5, 7, 8, 6684, 19743, 7989, 730, 732, 735, 736, 11254, 759, 6649, 6654]\n",
      "[318, 1, 2, 1347, 1349, 6, 7, 301, 847, 6486, 1337, 314, 317, 29, 22553]\n",
      "[0, 4096, 11150, 1294, 52504, 4259, 50347, 10549, 7357, 1342, 3648, 3650, 5956, 31820, 1359, 1360, 60498, 1365, 3798, 3799, 37848, 16743, 4204, 4207, 1402]\n"
     ]
    }
   ],
   "source": [
    "best_items = predict(test_users, items=books)"
   ]
  },
  {
   "cell_type": "code",
   "execution_count": null,
   "metadata": {},
   "outputs": [
    {
     "data": {
      "text/plain": [
       "73871    0671000403\n",
       "57042    0373078358\n",
       "31483    0425176940\n",
       "2243     0345348109\n",
       "50150    0441644511\n",
       "Name: ISBN, dtype: object"
      ]
     },
     "execution_count": 39,
     "metadata": {},
     "output_type": "execute_result"
    }
   ],
   "source": [
    "len(best_items)\n",
    "best_items[38781]['ISBN']"
   ]
  },
  {
   "cell_type": "code",
   "execution_count": 55,
   "metadata": {},
   "outputs": [
    {
     "name": "stderr",
     "output_type": "stream",
     "text": [
      "100%|██████████| 1/1 [00:00<00:00, 20.43it/s]\n"
     ]
    },
    {
     "data": {
      "text/plain": [
       "0.0"
      ]
     },
     "execution_count": 55,
     "metadata": {},
     "output_type": "execute_result"
    }
   ],
   "source": [
    "from tqdm import tqdm\n",
    "\n",
    "rating_mask = test_ratings['Rating'] >= 5\n",
    "\n",
    "mean_ap = 0\n",
    "for i in tqdm(range(len(test_users))):\n",
    "    user_mask = test_ratings['User-ID'] == test_users[i]\n",
    "    relevant_items = test_ratings.loc[(user_mask & rating_mask)].sort_values(by='Rating', ascending=False)\n",
    "    if len(relevant_items) == 0:\n",
    "        continue\n",
    "    user_id = test_users[i]\n",
    "    ap = average_precision(best_items[user_id]['ISBN'].to_numpy(), relevant_items['ISBN'].to_numpy())\n",
    "    mean_ap += ap\n",
    "\n",
    "mean_ap /= len(test_users)\n",
    "mean_ap"
   ]
  }
 ],
 "metadata": {
  "kernelspec": {
   "display_name": "recsys",
   "language": "python",
   "name": "python3"
  },
  "language_info": {
   "codemirror_mode": {
    "name": "ipython",
    "version": 3
   },
   "file_extension": ".py",
   "mimetype": "text/x-python",
   "name": "python",
   "nbconvert_exporter": "python",
   "pygments_lexer": "ipython3",
   "version": "3.12.3"
  }
 },
 "nbformat": 4,
 "nbformat_minor": 2
}
