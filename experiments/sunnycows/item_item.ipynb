{
 "cells": [
  {
   "cell_type": "code",
   "execution_count": 1,
   "metadata": {},
   "outputs": [],
   "source": [
    "import numpy as np\n",
    "import pandas as pd"
   ]
  },
  {
   "cell_type": "code",
   "execution_count": 2,
   "metadata": {},
   "outputs": [
    {
     "name": "stderr",
     "output_type": "stream",
     "text": [
      "/var/folders/yn/16crnc792zg2yr78zf0qg0j40000gq/T/ipykernel_44530/2231409931.py:1: DtypeWarning: Columns (0) have mixed types. Specify dtype option on import or set low_memory=False.\n",
      "  users = pd.read_csv('../../data/Users.csv', delimiter=';')\n"
     ]
    }
   ],
   "source": [
    "users = pd.read_csv('../../data/Users.csv', delimiter=';')\n",
    "books = pd.read_csv('../../data/Books.csv', delimiter=';', dtype={'ISBN': str, 'Title': str, 'Author': str, 'Year': np.int16, 'Publisher': str})\n",
    "ratings = pd.read_csv('../../data/Ratings.csv', delimiter=';', dtype={'User-ID': np.int32, 'ISBN': str, 'Rating': np.int8})"
   ]
  },
  {
   "cell_type": "code",
   "execution_count": 3,
   "metadata": {},
   "outputs": [],
   "source": [
    "# from scipy.sparse import csr_matrix\n",
    "# from sklearn.metrics.pairwise import cosine_similarity\n",
    "\n",
    "# def list_minus(a, b):\n",
    "#     return [x for x in a if x not in b]\n",
    "\n",
    "# class ItemRecommender():\n",
    "#     def __init__(self):\n",
    "#         super().__init__()\n",
    "#         self.n_recomm = 5\n",
    "\n",
    "#     def fit(self, items, users, ratings):\n",
    "#         books = items.reset_index() # add index as a column\n",
    "#         isbn_mapping = {category: idx for idx, category in enumerate(books['ISBN'])}\n",
    "        \n",
    "#         ratings = ratings.copy()\n",
    "#         ratings['ISBN_i'] = ratings['ISBN'].map(isbn_mapping) # map ISBN to index\n",
    "#         ratings.dropna(subset=['ISBN_i'], inplace=True) # drop rows with NaN ISBN_i\n",
    "#         ratings['ISBN_i'] = ratings['ISBN_i'].astype(np.int32)\n",
    "\n",
    "#         self.ratings = ratings\n",
    "\n",
    "#         # Create a sparse user-item matrix\n",
    "#         user_item_matrix = csr_matrix((ratings['Rating'], (ratings['User-ID'], ratings['ISBN_i'])), dtype=np.float64)\n",
    "\n",
    "#         # Normalize the user-item matrix\n",
    "#         normalized_matrix = user_item_matrix.copy()\n",
    "#         self.means = np.array([normalized_matrix[i].data.mean() for i in range(normalized_matrix.shape[0])])\n",
    "#         normalized_matrix.data -= np.repeat(self.means, np.diff(normalized_matrix.indptr))\n",
    "#         self.normalized_matrix = normalized_matrix\n",
    "\n",
    "#         self.similarity_matrix = cosine_similarity(normalized_matrix.T, dense_output=False)\n",
    "#         self.books = books\n",
    "        \n",
    "#     def predict(self, users, items):\n",
    "#         user_predictions = {}\n",
    "#         for user_id in users:\n",
    "#             # Get the row corresponding to the user\n",
    "#             user_row = self.normalized_matrix.getrow(user_id)\n",
    "#             top_rated = np.argsort(user_row.data)[::-1][:self.n_recomm]\n",
    "\n",
    "#             recommended_books = []\n",
    "#             for book_i in top_rated:\n",
    "#                 book_row = self.similarity_matrix.getrow(book_i)\n",
    "#                 most_similar_books = np.argsort(book_row.data)[::-1][:self.n_recomm]\n",
    "#                 recommended_books.extend(most_similar_books)\n",
    "\n",
    "#             # print(f\"User recommendations: {top_rated}\")\n",
    "#             # print(f\"Recommended books: {recommended_books}\")\n",
    "#             recommended_books = list_minus(set(recommended_books), user_row.indices)\n",
    "#             # print(f\"Recommended books: {recommended_books}\")\n",
    "\n",
    "#             average_ratings = {}\n",
    "#             for book in recommended_books:\n",
    "#                 # Get the average rating for the book\n",
    "#                 average_rating = self.normalized_matrix.getcol(book).data.mean()\n",
    "#                 average_ratings[book] = average_rating\n",
    "\n",
    "#             sorted_recommended_books = sorted(recommended_books, key=lambda book: average_ratings[book], reverse=True)[:self.n_recomm]\n",
    "#             # print(f\"Sorted recommended books: {sorted_recommended_books}\")\n",
    "#             isbns = self.ratings[self.ratings['ISBN_i'].isin(sorted_recommended_books)]['ISBN']\n",
    "#             # print(f\"ISBNs: {isbns}\")\n",
    "#             user_predictions[user_id] = self.books[self.books['ISBN'].isin(isbns)]\n",
    "\n",
    "#         return user_predictions\n",
    "\n",
    "#     def eval(self, gt_ratings, pred_ratings):\n",
    "#         pass"
   ]
  },
  {
   "cell_type": "code",
   "execution_count": 4,
   "metadata": {},
   "outputs": [],
   "source": [
    "import sys\n",
    "sys.path.append('../..')\n",
    "\n",
    "from src.evaluation import average_precision\n",
    "from sklearn.model_selection import train_test_split"
   ]
  },
  {
   "cell_type": "code",
   "execution_count": 5,
   "metadata": {},
   "outputs": [],
   "source": [
    "train_ratings, test_ratings = train_test_split(ratings, test_size=0.3, random_state=42)"
   ]
  },
  {
   "cell_type": "code",
   "execution_count": 6,
   "metadata": {},
   "outputs": [
    {
     "name": "stderr",
     "output_type": "stream",
     "text": [
      "/Users/oleh.sannikov/Documents/Навчання/Науки про дані/RecSys/CP/rs-ucu-books-recommender/experiments/sunnycows/../../src/recommenders/item_collaborative_filtering.py:32: RuntimeWarning: Mean of empty slice.\n",
      "  self.means = np.array([normalized_matrix[i].data.mean() for i in range(normalized_matrix.shape[0])])\n",
      "/Users/oleh.sannikov/miniconda3/envs/recsys/lib/python3.12/site-packages/numpy/core/_methods.py:129: RuntimeWarning: invalid value encountered in scalar divide\n",
      "  ret = ret.dtype.type(ret / rcount)\n"
     ]
    }
   ],
   "source": [
    "import src.recommenders.item_collaborative_filtering as icf\n",
    "\n",
    "model = icf.ItemRecommender()\n",
    "model.fit(users=users, items=books, ratings=train_ratings)"
   ]
  },
  {
   "cell_type": "code",
   "execution_count": 22,
   "metadata": {},
   "outputs": [
    {
     "data": {
      "text/plain": [
       "1000"
      ]
     },
     "execution_count": 22,
     "metadata": {},
     "output_type": "execute_result"
    }
   ],
   "source": [
    "test_users = test_ratings['User-ID'].unique()[:1000]\n",
    "len(test_users)"
   ]
  },
  {
   "cell_type": "code",
   "execution_count": 23,
   "metadata": {},
   "outputs": [
    {
     "data": {
      "text/plain": [
       "(271379, 5)"
      ]
     },
     "execution_count": 23,
     "metadata": {},
     "output_type": "execute_result"
    }
   ],
   "source": [
    "books.shape"
   ]
  },
  {
   "cell_type": "code",
   "execution_count": 24,
   "metadata": {},
   "outputs": [],
   "source": [
    "best_items = model.predict(test_users, items=books)"
   ]
  },
  {
   "cell_type": "code",
   "execution_count": 20,
   "metadata": {},
   "outputs": [
    {
     "data": {
      "text/plain": [
       "100"
      ]
     },
     "execution_count": 20,
     "metadata": {},
     "output_type": "execute_result"
    }
   ],
   "source": [
    "len(best_items)"
   ]
  },
  {
   "cell_type": "code",
   "execution_count": 14,
   "metadata": {},
   "outputs": [],
   "source": [
    "#best_items"
   ]
  },
  {
   "cell_type": "code",
   "execution_count": 25,
   "metadata": {},
   "outputs": [
    {
     "name": "stderr",
     "output_type": "stream",
     "text": [
      "100%|██████████| 1000/1000 [00:05<00:00, 181.13it/s]\n"
     ]
    },
    {
     "data": {
      "text/plain": [
       "0.0001666666666666667"
      ]
     },
     "execution_count": 25,
     "metadata": {},
     "output_type": "execute_result"
    }
   ],
   "source": [
    "from tqdm import tqdm\n",
    "\n",
    "rating_mask = test_ratings['Rating'] >= 5\n",
    "\n",
    "mean_ap = 0\n",
    "for i in tqdm(range(len(test_users))):\n",
    "    user_mask = test_ratings['User-ID'] == test_users[i]\n",
    "    relevant_items = test_ratings.loc[(user_mask & rating_mask)].sort_values(by='Rating', ascending=False)\n",
    "    if len(relevant_items) == 0:\n",
    "        continue\n",
    "    user_id = test_users[i]\n",
    "    ap = average_precision(best_items[user_id]['ISBN'].to_numpy(), relevant_items['ISBN'].to_numpy(), k=5)\n",
    "    # print(f\"Relevant items: {relevant_items['ISBN'].to_numpy(), best_items[user_id]}\")\n",
    "    mean_ap += ap\n",
    "\n",
    "mean_ap /= len(test_users)\n",
    "mean_ap"
   ]
  }
 ],
 "metadata": {
  "kernelspec": {
   "display_name": "recsys",
   "language": "python",
   "name": "python3"
  },
  "language_info": {
   "codemirror_mode": {
    "name": "ipython",
    "version": 3
   },
   "file_extension": ".py",
   "mimetype": "text/x-python",
   "name": "python",
   "nbconvert_exporter": "python",
   "pygments_lexer": "ipython3",
   "version": "3.12.3"
  }
 },
 "nbformat": 4,
 "nbformat_minor": 2
}
