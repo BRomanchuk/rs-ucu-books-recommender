{
 "cells": [
  {
   "cell_type": "markdown",
   "metadata": {},
   "source": [
    "# User to User collaborative filtering\n",
    "\n",
    "An idea of user-to-user collaborative filtering approach is that recommendations are based on finding similarities between the users in terms of how they rated the items. So, it is like item-to-item but rows of the matrix are columns now\\\n",
    "So, the matrix of interactions is built, and cosine similarities between the users are calculated."
   ]
  },
  {
   "cell_type": "code",
   "execution_count": 1,
   "metadata": {},
   "outputs": [],
   "source": [
    "import numpy as np\n",
    "import pandas as pd"
   ]
  },
  {
   "cell_type": "markdown",
   "metadata": {},
   "source": [
    "**Preprocessing**\\\n",
    "For this task we need the ratings table only."
   ]
  },
  {
   "cell_type": "code",
   "execution_count": 2,
   "metadata": {},
   "outputs": [
    {
     "data": {
      "text/html": [
       "<div>\n",
       "<style scoped>\n",
       "    .dataframe tbody tr th:only-of-type {\n",
       "        vertical-align: middle;\n",
       "    }\n",
       "\n",
       "    .dataframe tbody tr th {\n",
       "        vertical-align: top;\n",
       "    }\n",
       "\n",
       "    .dataframe thead th {\n",
       "        text-align: right;\n",
       "    }\n",
       "</style>\n",
       "<table border=\"1\" class=\"dataframe\">\n",
       "  <thead>\n",
       "    <tr style=\"text-align: right;\">\n",
       "      <th></th>\n",
       "      <th>user</th>\n",
       "      <th>item</th>\n",
       "      <th>label</th>\n",
       "    </tr>\n",
       "  </thead>\n",
       "  <tbody>\n",
       "    <tr>\n",
       "      <th>0</th>\n",
       "      <td>276725</td>\n",
       "      <td>034545104X</td>\n",
       "      <td>0</td>\n",
       "    </tr>\n",
       "    <tr>\n",
       "      <th>1</th>\n",
       "      <td>276726</td>\n",
       "      <td>0155061224</td>\n",
       "      <td>5</td>\n",
       "    </tr>\n",
       "    <tr>\n",
       "      <th>2</th>\n",
       "      <td>276727</td>\n",
       "      <td>0446520802</td>\n",
       "      <td>0</td>\n",
       "    </tr>\n",
       "    <tr>\n",
       "      <th>3</th>\n",
       "      <td>276729</td>\n",
       "      <td>052165615X</td>\n",
       "      <td>3</td>\n",
       "    </tr>\n",
       "    <tr>\n",
       "      <th>4</th>\n",
       "      <td>276729</td>\n",
       "      <td>0521795028</td>\n",
       "      <td>6</td>\n",
       "    </tr>\n",
       "  </tbody>\n",
       "</table>\n",
       "</div>"
      ],
      "text/plain": [
       "     user        item  label\n",
       "0  276725  034545104X      0\n",
       "1  276726  0155061224      5\n",
       "2  276727  0446520802      0\n",
       "3  276729  052165615X      3\n",
       "4  276729  0521795028      6"
      ]
     },
     "execution_count": 2,
     "metadata": {},
     "output_type": "execute_result"
    }
   ],
   "source": [
    "ratings_df = pd.read_csv('../data/Ratings.csv', delimiter=';', dtype={'User-ID': np.int32, 'ISBN': str, 'Rating': np.int8})\n",
    "ratings_df.columns = ['user', 'item', 'label']\n",
    "ratings_df.head()"
   ]
  },
  {
   "cell_type": "markdown",
   "metadata": {},
   "source": [
    "Then we drop the rows with:\n",
    "- missing data (all the values are crucial)\n",
    "- zero ratings (as they have no impact)"
   ]
  },
  {
   "cell_type": "code",
   "execution_count": 3,
   "metadata": {},
   "outputs": [
    {
     "name": "stdout",
     "output_type": "stream",
     "text": [
      "Total ratings: 1149780\n"
     ]
    },
    {
     "data": {
      "text/html": [
       "<div>\n",
       "<style scoped>\n",
       "    .dataframe tbody tr th:only-of-type {\n",
       "        vertical-align: middle;\n",
       "    }\n",
       "\n",
       "    .dataframe tbody tr th {\n",
       "        vertical-align: top;\n",
       "    }\n",
       "\n",
       "    .dataframe thead th {\n",
       "        text-align: right;\n",
       "    }\n",
       "</style>\n",
       "<table border=\"1\" class=\"dataframe\">\n",
       "  <thead>\n",
       "    <tr style=\"text-align: right;\">\n",
       "      <th></th>\n",
       "      <th>user</th>\n",
       "      <th>item</th>\n",
       "      <th>label</th>\n",
       "    </tr>\n",
       "  </thead>\n",
       "  <tbody>\n",
       "    <tr>\n",
       "      <th>1</th>\n",
       "      <td>276726</td>\n",
       "      <td>0155061224</td>\n",
       "      <td>5</td>\n",
       "    </tr>\n",
       "    <tr>\n",
       "      <th>3</th>\n",
       "      <td>276729</td>\n",
       "      <td>052165615X</td>\n",
       "      <td>3</td>\n",
       "    </tr>\n",
       "    <tr>\n",
       "      <th>4</th>\n",
       "      <td>276729</td>\n",
       "      <td>0521795028</td>\n",
       "      <td>6</td>\n",
       "    </tr>\n",
       "    <tr>\n",
       "      <th>6</th>\n",
       "      <td>276736</td>\n",
       "      <td>3257224281</td>\n",
       "      <td>8</td>\n",
       "    </tr>\n",
       "    <tr>\n",
       "      <th>7</th>\n",
       "      <td>276737</td>\n",
       "      <td>0600570967</td>\n",
       "      <td>6</td>\n",
       "    </tr>\n",
       "    <tr>\n",
       "      <th>...</th>\n",
       "      <td>...</td>\n",
       "      <td>...</td>\n",
       "      <td>...</td>\n",
       "    </tr>\n",
       "    <tr>\n",
       "      <th>1149773</th>\n",
       "      <td>276704</td>\n",
       "      <td>0806917695</td>\n",
       "      <td>5</td>\n",
       "    </tr>\n",
       "    <tr>\n",
       "      <th>1149775</th>\n",
       "      <td>276704</td>\n",
       "      <td>1563526298</td>\n",
       "      <td>9</td>\n",
       "    </tr>\n",
       "    <tr>\n",
       "      <th>1149777</th>\n",
       "      <td>276709</td>\n",
       "      <td>0515107662</td>\n",
       "      <td>10</td>\n",
       "    </tr>\n",
       "    <tr>\n",
       "      <th>1149778</th>\n",
       "      <td>276721</td>\n",
       "      <td>0590442449</td>\n",
       "      <td>10</td>\n",
       "    </tr>\n",
       "    <tr>\n",
       "      <th>1149779</th>\n",
       "      <td>276723</td>\n",
       "      <td>05162443314</td>\n",
       "      <td>8</td>\n",
       "    </tr>\n",
       "  </tbody>\n",
       "</table>\n",
       "<p>433671 rows × 3 columns</p>\n",
       "</div>"
      ],
      "text/plain": [
       "           user         item  label\n",
       "1        276726   0155061224      5\n",
       "3        276729   052165615X      3\n",
       "4        276729   0521795028      6\n",
       "6        276736   3257224281      8\n",
       "7        276737   0600570967      6\n",
       "...         ...          ...    ...\n",
       "1149773  276704   0806917695      5\n",
       "1149775  276704   1563526298      9\n",
       "1149777  276709   0515107662     10\n",
       "1149778  276721   0590442449     10\n",
       "1149779  276723  05162443314      8\n",
       "\n",
       "[433671 rows x 3 columns]"
      ]
     },
     "execution_count": 3,
     "metadata": {},
     "output_type": "execute_result"
    }
   ],
   "source": [
    "print('Total ratings:', ratings_df.shape[0])\n",
    "\n",
    "ratings_df = ratings_df[ratings_df['label'] > 0]\n",
    "ratings_df.dropna()"
   ]
  },
  {
   "cell_type": "markdown",
   "metadata": {},
   "source": [
    "After experimenting with straightfoward approach with sparse matrices (UserRecommender class) we switched to LibRecommender, which is far superior in terms of performance due to a number of optimizations.\\\n",
    "The tasks performed below are:\n",
    "- train/eval split\n",
    "- data preparation to LibReco model input\n",
    "- model creation with 5 nearest neighbors configuration"
   ]
  },
  {
   "cell_type": "code",
   "execution_count": 4,
   "metadata": {},
   "outputs": [
    {
     "name": "stderr",
     "output_type": "stream",
     "text": [
      "2024-08-11 20:54:18.553510: I tensorflow/core/platform/cpu_feature_guard.cc:193] This TensorFlow binary is optimized with oneAPI Deep Neural Network Library (oneDNN) to use the following CPU instructions in performance-critical operations:  AVX2 FMA\n",
      "To enable them in other operations, rebuild TensorFlow with the appropriate compiler flags.\n"
     ]
    },
    {
     "name": "stdout",
     "output_type": "stream",
     "text": [
      "WARNING:tensorflow:From /Users/oleh.sannikov/miniconda3/envs/recsys_lr/lib/python3.9/site-packages/tensorflow/python/compat/v2_compat.py:107: disable_resource_variables (from tensorflow.python.ops.variable_scope) is deprecated and will be removed in a future version.\n",
      "Instructions for updating:\n",
      "non-resource variables are not supported in the long term\n",
      "Training start time: \u001b[35m2024-08-11 20:54:29\u001b[0m\n",
      "Final block size and num: (2847, 24)\n",
      "sim_matrix elapsed: 16.725s\n",
      "sim_matrix, shape: (68312, 68312), num_elements: 5471892, density: 0.1173 %\n"
     ]
    },
    {
     "name": "stderr",
     "output_type": "stream",
     "text": [
      "top_k: 100%|██████████| 68312/68312 [00:01<00:00, 42068.13it/s]\n"
     ]
    }
   ],
   "source": [
    "from libreco.algorithms import UserCF\n",
    "from libreco.data import DatasetPure\n",
    "from libreco.data import random_split\n",
    "\n",
    "ratings_df = ratings_df[[\"user\", \"item\", \"label\"]]\n",
    "train_df, eval_df = random_split(ratings_df, test_size=0.2)\n",
    "\n",
    "train_data, data_info = DatasetPure.build_trainset(train_df)\n",
    "eval_data = DatasetPure.build_evalset(eval_df)\n",
    "\n",
    "# Step 3: Build and train the model\n",
    "model = UserCF(task=\"ranking\", \n",
    "               data_info=data_info,\n",
    "               k_sim=5, \n",
    "               sim_type=\"cosine\", \n",
    "               min_common=1)\n",
    "\n",
    "model.fit(train_data, neg_sampling=True)\n"
   ]
  },
  {
   "cell_type": "markdown",
   "metadata": {},
   "source": [
    "Evaluating the model on 3 metrics: precision, recall and NDCG (Normalized Discounted Cumulative Gain)."
   ]
  },
  {
   "cell_type": "code",
   "execution_count": 5,
   "metadata": {},
   "outputs": [
    {
     "name": "stderr",
     "output_type": "stream",
     "text": [
      "eval_listwise:   0%|          | 0/16407 [00:00<?, ?it/s]"
     ]
    },
    {
     "name": "stdout",
     "output_type": "stream",
     "text": [
      "\u001b[31mno suitable recommendation for user 1722, return default recommendation\u001b[0m\n"
     ]
    },
    {
     "name": "stderr",
     "output_type": "stream",
     "text": [
      "eval_listwise:   1%|▏         | 206/16407 [00:00<00:45, 359.25it/s]"
     ]
    },
    {
     "name": "stdout",
     "output_type": "stream",
     "text": [
      "\u001b[31mno suitable recommendation for user 3824, return default recommendation\u001b[0m\n",
      "\u001b[31mno suitable recommendation for user 36445, return default recommendation\u001b[0m\n",
      "\u001b[31mno suitable recommendation for user 34473, return default recommendation\u001b[0m\n",
      "\u001b[31mno suitable recommendation for user 66407, return default recommendation\u001b[0m\n",
      "\u001b[31mno suitable recommendation for user 17719, return default recommendation\u001b[0m\n",
      "\u001b[31mno suitable recommendation for user 916, return default recommendation\u001b[0m\n",
      "\u001b[31mno suitable recommendation for user 30015, return default recommendation\u001b[0m\n",
      "\u001b[31mno suitable recommendation for user 21184, return default recommendation\u001b[0m\n",
      "\u001b[31mno suitable recommendation for user 1826, return default recommendation\u001b[0m\n"
     ]
    },
    {
     "name": "stderr",
     "output_type": "stream",
     "text": [
      "eval_listwise: 100%|██████████| 16407/16407 [00:14<00:00, 1095.85it/s]\n"
     ]
    },
    {
     "name": "stdout",
     "output_type": "stream",
     "text": [
      "Evaluation Results:\n",
      "{'precision': 0.005582982873163893, 'recall': 0.020491124062358475, 'ndcg': 0.0834280508171489}\n"
     ]
    }
   ],
   "source": [
    "from libreco.evaluation import evaluate\n",
    "\n",
    "eval_result = evaluate(model, eval_data, neg_sampling=True, metrics=[ \"precision\", \"recall\", \"ndcg\"])\n",
    "print(f\"Evaluation Results:\\n{eval_result}\")"
   ]
  },
  {
   "cell_type": "markdown",
   "metadata": {},
   "source": [
    "There were users with no recommendations due to not enough ratings. So, then we decided to give recommendations for the users with <5 ratings for this task"
   ]
  },
  {
   "cell_type": "markdown",
   "metadata": {},
   "source": [
    "**Removing users with <5 ratings**"
   ]
  },
  {
   "cell_type": "code",
   "execution_count": 9,
   "metadata": {},
   "outputs": [
    {
     "name": "stdout",
     "output_type": "stream",
     "text": [
      "Total ratings (users rated <5 books excluded): 329336\n"
     ]
    }
   ],
   "source": [
    "rating_count=pd.DataFrame(ratings_df[\"user\"].value_counts())\n",
    "u_threshold=rating_count[rating_count[\"count\"]<5].index\n",
    "ratings_df=ratings_df[~ratings_df[\"user\"].isin(u_threshold)]\n",
    "\n",
    "print('Total ratings (users rated <5 books excluded):', ratings_df.shape[0])"
   ]
  },
  {
   "cell_type": "code",
   "execution_count": 10,
   "metadata": {},
   "outputs": [
    {
     "name": "stdout",
     "output_type": "stream",
     "text": [
      "Training start time: \u001b[35m2024-08-11 20:55:56\u001b[0m\n",
      "Final block size and num: (12019, 1)\n",
      "sim_matrix elapsed: 0.854s\n",
      "sim_matrix, shape: (12019, 12019), num_elements: 2366310, density: 1.6381 %\n"
     ]
    },
    {
     "name": "stderr",
     "output_type": "stream",
     "text": [
      "top_k: 100%|██████████| 12019/12019 [00:00<00:00, 20190.77it/s]\n"
     ]
    }
   ],
   "source": [
    "train_df, eval_df = random_split(ratings_df, test_size=0.2)\n",
    "\n",
    "train_data, data_info = DatasetPure.build_trainset(train_df)\n",
    "eval_data = DatasetPure.build_evalset(eval_df)\n",
    "\n",
    "# Step 3: Build and train the model\n",
    "model = UserCF(task=\"ranking\", \n",
    "               data_info=data_info,\n",
    "               k_sim=10, \n",
    "               sim_type=\"cosine\", \n",
    "               min_common=1)\n",
    "\n",
    "model.fit(train_data, neg_sampling=True)"
   ]
  },
  {
   "cell_type": "code",
   "execution_count": 11,
   "metadata": {},
   "outputs": [
    {
     "name": "stderr",
     "output_type": "stream",
     "text": [
      "eval_listwise: 100%|██████████| 9492/9492 [00:08<00:00, 1099.43it/s]\n"
     ]
    },
    {
     "name": "stdout",
     "output_type": "stream",
     "text": [
      "Evaluation Results:\n",
      "{'precision': 0.01145174884112937, 'recall': 0.02694686251132423, 'ndcg': 0.05798763795606977}\n"
     ]
    }
   ],
   "source": [
    "from libreco.evaluation import evaluate\n",
    "\n",
    "eval_result = evaluate(model, eval_data, neg_sampling=True, metrics=[ \"precision\", \"recall\", \"ndcg\"])\n",
    "print(f\"Evaluation Results:\\n{eval_result}\")"
   ]
  },
  {
   "cell_type": "markdown",
   "metadata": {},
   "source": [
    "Finally, the precision is not big. But 5-times better compared to a dataset with users which rated less then 5 books"
   ]
  }
 ],
 "metadata": {
  "kernelspec": {
   "display_name": "recsys_lr",
   "language": "python",
   "name": "python3"
  },
  "language_info": {
   "codemirror_mode": {
    "name": "ipython",
    "version": 3
   },
   "file_extension": ".py",
   "mimetype": "text/x-python",
   "name": "python",
   "nbconvert_exporter": "python",
   "pygments_lexer": "ipython3",
   "version": "3.9.19"
  }
 },
 "nbformat": 4,
 "nbformat_minor": 2
}
