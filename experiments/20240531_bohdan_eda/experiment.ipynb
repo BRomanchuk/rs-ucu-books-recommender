{
 "cells": [
  {
   "cell_type": "code",
   "execution_count": 1,
   "metadata": {
    "ExecuteTime": {
     "end_time": "2024-06-13T08:19:45.751920Z",
     "start_time": "2024-06-13T08:19:44.712006400Z"
    }
   },
   "outputs": [],
   "source": [
    "import numpy as np\n",
    "import pandas as pd\n",
    "import matplotlib.pyplot as plt"
   ]
  },
  {
   "cell_type": "code",
   "execution_count": 2,
   "metadata": {
    "ExecuteTime": {
     "end_time": "2024-06-13T08:19:49.545679700Z",
     "start_time": "2024-06-13T08:19:48.181468300Z"
    }
   },
   "outputs": [
    {
     "name": "stderr",
     "output_type": "stream",
     "text": [
      "C:\\Users\\Никита\\AppData\\Local\\Temp\\ipykernel_12468\\3431067428.py:3: DtypeWarning: Columns (0) have mixed types. Specify dtype option on import or set low_memory=False.\n",
      "  users = pd.read_csv('../../data/Users.csv', delimiter=';')\n"
     ]
    }
   ],
   "source": [
    "books = pd.read_csv('../../data/Books.csv', delimiter=';')\n",
    "ratings = pd.read_csv('../../data/Ratings.csv', delimiter=';')\n",
    "users = pd.read_csv('../../data/Users.csv', delimiter=';')"
   ]
  },
  {
   "cell_type": "code",
   "execution_count": 3,
   "metadata": {
    "ExecuteTime": {
     "end_time": "2024-06-13T08:19:51.411610800Z",
     "start_time": "2024-06-13T08:19:51.387744900Z"
    }
   },
   "outputs": [
    {
     "data": {
      "text/plain": "((271379, 5), (1149780, 3), (278859, 2))"
     },
     "execution_count": 3,
     "metadata": {},
     "output_type": "execute_result"
    }
   ],
   "source": [
    "books.shape, ratings.shape, users.shape"
   ]
  },
  {
   "cell_type": "code",
   "execution_count": 4,
   "metadata": {
    "ExecuteTime": {
     "end_time": "2024-06-13T08:19:54.256108100Z",
     "start_time": "2024-06-13T08:19:54.195012900Z"
    }
   },
   "outputs": [
    {
     "data": {
      "text/plain": "         ISBN                Title                Author  Year  \\\n0  0195153448  Classical Mythology    Mark P. O. Morford  2002   \n1  0002005018         Clara Callan  Richard Bruce Wright  2001   \n\n                 Publisher  \n0  Oxford University Press  \n1    HarperFlamingo Canada  ",
      "text/html": "<div>\n<style scoped>\n    .dataframe tbody tr th:only-of-type {\n        vertical-align: middle;\n    }\n\n    .dataframe tbody tr th {\n        vertical-align: top;\n    }\n\n    .dataframe thead th {\n        text-align: right;\n    }\n</style>\n<table border=\"1\" class=\"dataframe\">\n  <thead>\n    <tr style=\"text-align: right;\">\n      <th></th>\n      <th>ISBN</th>\n      <th>Title</th>\n      <th>Author</th>\n      <th>Year</th>\n      <th>Publisher</th>\n    </tr>\n  </thead>\n  <tbody>\n    <tr>\n      <th>0</th>\n      <td>0195153448</td>\n      <td>Classical Mythology</td>\n      <td>Mark P. O. Morford</td>\n      <td>2002</td>\n      <td>Oxford University Press</td>\n    </tr>\n    <tr>\n      <th>1</th>\n      <td>0002005018</td>\n      <td>Clara Callan</td>\n      <td>Richard Bruce Wright</td>\n      <td>2001</td>\n      <td>HarperFlamingo Canada</td>\n    </tr>\n  </tbody>\n</table>\n</div>"
     },
     "execution_count": 4,
     "metadata": {},
     "output_type": "execute_result"
    }
   ],
   "source": [
    "books.head(2)"
   ]
  },
  {
   "cell_type": "code",
   "execution_count": 5,
   "metadata": {
    "ExecuteTime": {
     "end_time": "2024-06-13T08:19:55.729394700Z",
     "start_time": "2024-06-13T08:19:55.720116900Z"
    }
   },
   "outputs": [
    {
     "data": {
      "text/plain": "   User-ID        ISBN  Rating\n0   276725  034545104X       0\n1   276726  0155061224       5",
      "text/html": "<div>\n<style scoped>\n    .dataframe tbody tr th:only-of-type {\n        vertical-align: middle;\n    }\n\n    .dataframe tbody tr th {\n        vertical-align: top;\n    }\n\n    .dataframe thead th {\n        text-align: right;\n    }\n</style>\n<table border=\"1\" class=\"dataframe\">\n  <thead>\n    <tr style=\"text-align: right;\">\n      <th></th>\n      <th>User-ID</th>\n      <th>ISBN</th>\n      <th>Rating</th>\n    </tr>\n  </thead>\n  <tbody>\n    <tr>\n      <th>0</th>\n      <td>276725</td>\n      <td>034545104X</td>\n      <td>0</td>\n    </tr>\n    <tr>\n      <th>1</th>\n      <td>276726</td>\n      <td>0155061224</td>\n      <td>5</td>\n    </tr>\n  </tbody>\n</table>\n</div>"
     },
     "execution_count": 5,
     "metadata": {},
     "output_type": "execute_result"
    }
   ],
   "source": [
    "ratings.head(2)"
   ]
  },
  {
   "cell_type": "code",
   "execution_count": 6,
   "metadata": {
    "ExecuteTime": {
     "end_time": "2024-06-13T08:19:56.258681700Z",
     "start_time": "2024-06-13T08:19:56.210009300Z"
    }
   },
   "outputs": [
    {
     "data": {
      "text/plain": "  User-ID  Age\n0       1  NaN\n1       2   18",
      "text/html": "<div>\n<style scoped>\n    .dataframe tbody tr th:only-of-type {\n        vertical-align: middle;\n    }\n\n    .dataframe tbody tr th {\n        vertical-align: top;\n    }\n\n    .dataframe thead th {\n        text-align: right;\n    }\n</style>\n<table border=\"1\" class=\"dataframe\">\n  <thead>\n    <tr style=\"text-align: right;\">\n      <th></th>\n      <th>User-ID</th>\n      <th>Age</th>\n    </tr>\n  </thead>\n  <tbody>\n    <tr>\n      <th>0</th>\n      <td>1</td>\n      <td>NaN</td>\n    </tr>\n    <tr>\n      <th>1</th>\n      <td>2</td>\n      <td>18</td>\n    </tr>\n  </tbody>\n</table>\n</div>"
     },
     "execution_count": 6,
     "metadata": {},
     "output_type": "execute_result"
    }
   ],
   "source": [
    "users.head(2)"
   ]
  },
  {
   "cell_type": "markdown",
   "metadata": {},
   "source": [
    "## Books EDA"
   ]
  },
  {
   "cell_type": "code",
   "execution_count": 7,
   "metadata": {
    "ExecuteTime": {
     "end_time": "2024-06-13T08:19:56.914288300Z",
     "start_time": "2024-06-13T08:19:56.706186100Z"
    }
   },
   "outputs": [
    {
     "data": {
      "text/plain": "Title\nSelected Poems                                                                                                                    27\nLittle Women                                                                                                                      24\nWuthering Heights                                                                                                                 21\nThe Secret Garden                                                                                                                 20\nDracula                                                                                                                           20\n                                                                                                                                  ..\nCinderella'S Secret Agent (A Year Of Loving Dangerously) (Silhouette Intimate Moments, No 1076)                                    1\nDiamond In The Rough (Temptation , No 688)                                                                                         1\nBaby Boy Blessed (That'S My Baby!) (Silhouette Special Edition, 1285)                                                              1\nA Marriage of Convenience (Western Lovers, 7)                                                                                      1\nA Guided Tour of Rene Descartes' Meditations on First Philosophy with Complete Translations of the Meditations by Ronald Rubin     1\nName: count, Length: 242154, dtype: int64"
     },
     "execution_count": 7,
     "metadata": {},
     "output_type": "execute_result"
    }
   ],
   "source": [
    "books['Title'].value_counts()  # The number of unique titles is les"
   ]
  },
  {
   "cell_type": "code",
   "execution_count": 8,
   "metadata": {
    "ExecuteTime": {
     "end_time": "2024-06-13T08:19:57.330903800Z",
     "start_time": "2024-06-13T08:19:57.302658Z"
    }
   },
   "outputs": [
    {
     "data": {
      "text/plain": "Author\nAgatha Christie        632\nWilliam Shakespeare    567\nStephen King           524\nAnn M. Martin          423\nFrancine Pascal        373\n                      ... \nJean Cassels             1\nBernice Meyers           1\nMark A. Taylor           1\nEllery R. Sheets         1\nChristopher  Biffle      1\nName: count, Length: 102029, dtype: int64"
     },
     "execution_count": 8,
     "metadata": {},
     "output_type": "execute_result"
    }
   ],
   "source": [
    "books['Author'].value_counts()"
   ]
  },
  {
   "cell_type": "code",
   "execution_count": 9,
   "metadata": {
    "ExecuteTime": {
     "end_time": "2024-06-13T08:19:57.676077100Z",
     "start_time": "2024-06-13T08:19:57.650315700Z"
    }
   },
   "outputs": [
    {
     "data": {
      "text/plain": "Publisher\nHarlequin              7536\nSilhouette             4220\nPocket                 3905\nBallantine Books       3783\nBantam Books           3647\n                       ... \nBook Essentials           1\nPermeable Press           1\nPark Slope Pr             1\nJ. David Publishers       1\nConnaught                 1\nName: count, Length: 16910, dtype: int64"
     },
     "execution_count": 9,
     "metadata": {},
     "output_type": "execute_result"
    }
   ],
   "source": [
    "books['Publisher'].value_counts()"
   ]
  },
  {
   "cell_type": "code",
   "execution_count": 10,
   "metadata": {
    "ExecuteTime": {
     "end_time": "2024-06-13T08:19:57.877935600Z",
     "start_time": "2024-06-13T08:19:57.831651400Z"
    }
   },
   "outputs": [
    {
     "data": {
      "text/plain": "110232"
     },
     "execution_count": 10,
     "metadata": {},
     "output_type": "execute_result"
    }
   ],
   "source": [
    "users['Age'].isna().sum()"
   ]
  },
  {
   "cell_type": "code",
   "execution_count": 11,
   "metadata": {
    "ExecuteTime": {
     "end_time": "2024-06-13T08:19:58.048391300Z",
     "start_time": "2024-06-13T08:19:58.038605Z"
    }
   },
   "outputs": [],
   "source": [
    "def parse_age(age):\n",
    "    try:\n",
    "        int_age = int(age)\n",
    "        if int_age < 5 or int_age > 100:\n",
    "            return np.nan\n",
    "        return int_age\n",
    "    except:\n",
    "        return np.nan"
   ]
  },
  {
   "cell_type": "code",
   "execution_count": 12,
   "metadata": {
    "ExecuteTime": {
     "end_time": "2024-06-13T08:19:58.549717400Z",
     "start_time": "2024-06-13T08:19:58.344112600Z"
    }
   },
   "outputs": [
    {
     "data": {
      "text/plain": "<Axes: >"
     },
     "execution_count": 12,
     "metadata": {},
     "output_type": "execute_result"
    },
    {
     "data": {
      "text/plain": "<Figure size 640x480 with 1 Axes>",
      "image/png": "[encoded data removed]"
     },
     "metadata": {},
     "output_type": "display_data"
    }
   ],
   "source": [
    "users['Age'].apply(parse_age).hist(bins=30)"
   ]
  },
  {
   "cell_type": "code",
   "execution_count": 13,
   "metadata": {
    "ExecuteTime": {
     "end_time": "2024-06-13T08:19:58.697163700Z",
     "start_time": "2024-06-13T08:19:58.688336100Z"
    }
   },
   "outputs": [
    {
     "data": {
      "text/plain": "array([nan, '18', '17', '61', '26', '14', '25', '19', '46', '55', '32',\n       '24', '20', '34', '23', '51', '31', '21', '44', '30', '57', '43',\n       '37', '41', '54', '42', '50', '39', '53', '47', '36', '28', '35',\n       '13', '58', '49', '38', '45', '62', '63', '27', '33', '29', '66',\n       '40', '15', '60', '0', '79', '22', '16', '65', '59', '48', '72',\n       '56', '67', '1', '80', '52', '69', ' canada', '71', ' usa', '73',\n       ' chile', '78', '9', '64', '103', '104', '12', '74', ' egypt',\n       '75', '231', ' united kingdom', '3', '76', ' the', ' spain', '83',\n       '68', ' austria', '119', '11', ' pakistan', '2', ' india', '70',\n       '77', '93', ' mexico', ' costa rica', ' yugoslavia', ' honduras',\n       ' netherlands', ' new zealand', '8', '7', ' city', ' bas rhin',\n       ' australia', '4', '81', '114', '230', '239', ' italy', '10',\n       ' germany', '5', ' panama', '148', ' china', ' british columbia',\n       '151', '6', ' south africa', '101', ' afghanistan', '201', '96',\n       '84', ' malaysia', ' nigeria', ' eritrea', ' greece',\n       ' deutschland', ' philippines', '82', '90', ' sindh', '123',\n       ' iceland', ' caribbean sea', '244', ' brazil', '133', ' portugal',\n       '91', '128', '94', '85', ' united states', '141', '110', '97',\n       ' finland', ' france', '219', '86', '124', '92', ' switzerland',\n       ' burgundy', ' japan', '175', ' n/a', '172', ' ka', '209', '212',\n       ' wales', '237', 'accra', '87', '162', '100', ' berkshire', '156',\n       ' indonesia', ' england', ' florida', ' sicilia', 'asmera',\n       ' poland', ' channel islands', '136', ' turkey', 'galicia',\n       ' nueva ecija', '95', ' baja california', '89', '106', ' gifu',\n       '99', ' ontario', 'china', ' galiza', ' isulan', ' qatar', '108',\n       ' sweden', ' argentina', '210', ' new jersey', '88', '199',\n       ' perak', ' hong kong', '147', ' ukraine', ' singapore',\n       'ma 02121', ' thailand', ' victoria', ' ireland', ' rhode island',\n       '168', ' algeria', ' georgia', ' cape verde',\n       ' in (ind-indianapolis intl.)', ' south korea', 'guishan li',\n       '132', ' tubod', '159', ' slovakia', ' alaska', ' norway', '186',\n       ' denmark', ' liberia', ' nepal', ' russia', ' ghana', '152',\n       ' the world tomorrow', '102', ' czech republic', ' belgium', '116',\n       ' guam', ' desamparados', ' haryana', ' bangladesh',\n       ' bosnia and herzegovina', ' oakland', ' mozambique', '200', '115',\n       ' ogun state', '226', ' sri lanka', '#04-157', ' d.f.', '137',\n       '207', '229', '138', ' united arab emirates', ' north korea',\n       '109', '105', '228', '183', ' the netherlands', '204',\n       ' unite states', ' c.a.', ' macedonia', ' espanha / galiza',\n       ' antigua and barbuda', ' bahamas', '98', ' dominican republic',\n       ' queensland', ' colombia', ' vellore', 'europe', '223', '113',\n       ' uzbekistan', '208', '157', ' jersey', ' croatia', '111',\n       ' europe.', ' kansas', '146', '118', ' côte-d`or', ' kerala',\n       ' tobago', 'hyderabad', '220', ' and i know you have a pl',\n       ' disgruntled states of america', ' åhus', ' américa central',\n       ' kuwait', ' san carlos', ' bt66 6bx', ' trinidad and tobago',\n       '143', ' bohol', ' coimbra', '140', ' osun state', ' basilan',\n       ' home of the van!!', 'italy', ' uk', ' köln',\n       ' san ramon de alajuela', 'cavite', '189', '127'], dtype=object)"
     },
     "execution_count": 13,
     "metadata": {},
     "output_type": "execute_result"
    }
   ],
   "source": [
    "users['Age'].unique()"
   ]
  },
  {
   "cell_type": "code",
   "outputs": [
    {
     "data": {
      "text/plain": "User-ID        278859\nAge            168627\nAge_numeric    167151\ndtype: int64"
     },
     "execution_count": 15,
     "metadata": {},
     "output_type": "execute_result"
    }
   ],
   "source": [
    "users.count()"
   ],
   "metadata": {
    "collapsed": false,
    "ExecuteTime": {
     "end_time": "2024-06-13T09:04:23.777518200Z",
     "start_time": "2024-06-13T09:04:23.766009900Z"
    }
   },
   "execution_count": 15
  },
  {
   "cell_type": "code",
   "outputs": [],
   "source": [],
   "metadata": {
    "collapsed": false
   }
  },
  {
   "cell_type": "code",
   "outputs": [
    {
     "data": {
      "text/plain": "111708"
     },
     "execution_count": 14,
     "metadata": {},
     "output_type": "execute_result"
    }
   ],
   "source": [
    "users['Age_numeric'] = pd.to_numeric(users['Age'], errors='coerce')\n",
    "users['Age_numeric'].isna().sum()"
   ],
   "metadata": {
    "collapsed": false,
    "ExecuteTime": {
     "end_time": "2024-06-13T09:03:51.011209600Z",
     "start_time": "2024-06-13T09:03:50.930078900Z"
    }
   },
   "execution_count": 14
  },
  {
   "cell_type": "code",
   "execution_count": 16,
   "metadata": {
    "ExecuteTime": {
     "end_time": "2024-06-13T09:11:55.219006600Z",
     "start_time": "2024-06-13T09:11:55.212781300Z"
    }
   },
   "outputs": [
    {
     "data": {
      "text/plain": "Age_numeric\n24.0     5651\n25.0     5594\n26.0     5525\n23.0     5433\n27.0     5361\n         ... \n110.0       1\n128.0       1\n244.0       1\n226.0       1\n127.0       1\nName: count, Length: 164, dtype: int64"
     },
     "execution_count": 16,
     "metadata": {},
     "output_type": "execute_result"
    }
   ],
   "source": [
    "users['Age_numeric'].value_counts()"
   ]
  },
  {
   "cell_type": "code",
   "outputs": [],
   "source": [],
   "metadata": {
    "collapsed": false,
    "ExecuteTime": {
     "end_time": "2024-06-13T09:52:03.104860100Z",
     "start_time": "2024-06-13T09:52:02.177832100Z"
    }
   },
   "execution_count": 18
  },
  {
   "cell_type": "code",
   "outputs": [
    {
     "ename": "TypeError",
     "evalue": "'<' not supported between instances of 'float' and 'str'",
     "output_type": "error",
     "traceback": [
      "\u001B[1;31m---------------------------------------------------------------------------\u001B[0m",
      "\u001B[1;31mTypeError\u001B[0m                                 Traceback (most recent call last)",
      "Cell \u001B[1;32mIn[22], line 1\u001B[0m\n\u001B[1;32m----> 1\u001B[0m users[\u001B[38;5;124m'\u001B[39m\u001B[38;5;124mAge_Group\u001B[39m\u001B[38;5;124m'\u001B[39m] \u001B[38;5;241m=\u001B[39m \u001B[43mpd\u001B[49m\u001B[38;5;241;43m.\u001B[39;49m\u001B[43mcut\u001B[49m\u001B[43m(\u001B[49m\u001B[43musers\u001B[49m\u001B[43m[\u001B[49m\u001B[38;5;124;43m'\u001B[39;49m\u001B[38;5;124;43mAge\u001B[39;49m\u001B[38;5;124;43m'\u001B[39;49m\u001B[43m]\u001B[49m\u001B[43m,\u001B[49m\u001B[43m \u001B[49m\u001B[43mbins\u001B[49m\u001B[38;5;241;43m=\u001B[39;49m\u001B[43m[\u001B[49m\u001B[38;5;241;43m0\u001B[39;49m\u001B[43m,\u001B[49m\u001B[43m \u001B[49m\u001B[38;5;241;43m18\u001B[39;49m\u001B[43m,\u001B[49m\u001B[43m \u001B[49m\u001B[38;5;241;43m25\u001B[39;49m\u001B[43m,\u001B[49m\u001B[43m \u001B[49m\u001B[38;5;241;43m35\u001B[39;49m\u001B[43m,\u001B[49m\u001B[43m \u001B[49m\u001B[38;5;241;43m45\u001B[39;49m\u001B[43m,\u001B[49m\u001B[43m \u001B[49m\u001B[38;5;241;43m55\u001B[39;49m\u001B[43m,\u001B[49m\u001B[43m \u001B[49m\u001B[38;5;241;43m65\u001B[39;49m\u001B[43m,\u001B[49m\u001B[43m \u001B[49m\u001B[38;5;241;43m100\u001B[39;49m\u001B[43m]\u001B[49m\u001B[43m,\u001B[49m\u001B[43m \u001B[49m\u001B[43mlabels\u001B[49m\u001B[38;5;241;43m=\u001B[39;49m\u001B[43m[\u001B[49m\u001B[38;5;124;43m'\u001B[39;49m\u001B[38;5;124;43m18\u001B[39;49m\u001B[38;5;124;43m'\u001B[39;49m\u001B[43m,\u001B[49m\u001B[43m \u001B[49m\u001B[38;5;124;43m'\u001B[39;49m\u001B[38;5;124;43m18-24\u001B[39;49m\u001B[38;5;124;43m'\u001B[39;49m\u001B[43m,\u001B[49m\u001B[43m \u001B[49m\u001B[38;5;124;43m'\u001B[39;49m\u001B[38;5;124;43m25-34\u001B[39;49m\u001B[38;5;124;43m'\u001B[39;49m\u001B[43m,\u001B[49m\u001B[43m \u001B[49m\u001B[38;5;124;43m'\u001B[39;49m\u001B[38;5;124;43m35-44\u001B[39;49m\u001B[38;5;124;43m'\u001B[39;49m\u001B[43m,\u001B[49m\u001B[43m \u001B[49m\u001B[38;5;124;43m'\u001B[39;49m\u001B[38;5;124;43m45-54\u001B[39;49m\u001B[38;5;124;43m'\u001B[39;49m\u001B[43m,\u001B[49m\u001B[43m \u001B[49m\u001B[38;5;124;43m'\u001B[39;49m\u001B[38;5;124;43m55-64\u001B[39;49m\u001B[38;5;124;43m'\u001B[39;49m\u001B[43m,\u001B[49m\u001B[43m \u001B[49m\u001B[38;5;124;43m'\u001B[39;49m\u001B[38;5;124;43m65+\u001B[39;49m\u001B[38;5;124;43m'\u001B[39;49m\u001B[43m]\u001B[49m\u001B[43m)\u001B[49m\n\u001B[0;32m      2\u001B[0m age_rating \u001B[38;5;241m=\u001B[39m users\u001B[38;5;241m.\u001B[39mgroupby(\u001B[38;5;124m'\u001B[39m\u001B[38;5;124mAge_Group\u001B[39m\u001B[38;5;124m'\u001B[39m)[\u001B[38;5;124m'\u001B[39m\u001B[38;5;124mBook-Rating\u001B[39m\u001B[38;5;124m'\u001B[39m]\u001B[38;5;241m.\u001B[39mmean()\n\u001B[0;32m      3\u001B[0m age_rating\u001B[38;5;241m.\u001B[39mplot(kind\u001B[38;5;241m=\u001B[39m\u001B[38;5;124m'\u001B[39m\u001B[38;5;124mbar\u001B[39m\u001B[38;5;124m'\u001B[39m, color\u001B[38;5;241m=\u001B[39m\u001B[38;5;124m'\u001B[39m\u001B[38;5;124mskyblue\u001B[39m\u001B[38;5;124m'\u001B[39m)\n",
      "File \u001B[1;32mD:\\Новая папка1\\rs-ucu-books-recommender\\myenv\\Lib\\site-packages\\pandas\\core\\reshape\\tile.py:257\u001B[0m, in \u001B[0;36mcut\u001B[1;34m(x, bins, right, labels, retbins, precision, include_lowest, duplicates, ordered)\u001B[0m\n\u001B[0;32m    254\u001B[0m     \u001B[38;5;28;01mif\u001B[39;00m \u001B[38;5;129;01mnot\u001B[39;00m bins\u001B[38;5;241m.\u001B[39mis_monotonic_increasing:\n\u001B[0;32m    255\u001B[0m         \u001B[38;5;28;01mraise\u001B[39;00m \u001B[38;5;167;01mValueError\u001B[39;00m(\u001B[38;5;124m\"\u001B[39m\u001B[38;5;124mbins must increase monotonically.\u001B[39m\u001B[38;5;124m\"\u001B[39m)\n\u001B[1;32m--> 257\u001B[0m fac, bins \u001B[38;5;241m=\u001B[39m \u001B[43m_bins_to_cuts\u001B[49m\u001B[43m(\u001B[49m\n\u001B[0;32m    258\u001B[0m \u001B[43m    \u001B[49m\u001B[43mx_idx\u001B[49m\u001B[43m,\u001B[49m\n\u001B[0;32m    259\u001B[0m \u001B[43m    \u001B[49m\u001B[43mbins\u001B[49m\u001B[43m,\u001B[49m\n\u001B[0;32m    260\u001B[0m \u001B[43m    \u001B[49m\u001B[43mright\u001B[49m\u001B[38;5;241;43m=\u001B[39;49m\u001B[43mright\u001B[49m\u001B[43m,\u001B[49m\n\u001B[0;32m    261\u001B[0m \u001B[43m    \u001B[49m\u001B[43mlabels\u001B[49m\u001B[38;5;241;43m=\u001B[39;49m\u001B[43mlabels\u001B[49m\u001B[43m,\u001B[49m\n\u001B[0;32m    262\u001B[0m \u001B[43m    \u001B[49m\u001B[43mprecision\u001B[49m\u001B[38;5;241;43m=\u001B[39;49m\u001B[43mprecision\u001B[49m\u001B[43m,\u001B[49m\n\u001B[0;32m    263\u001B[0m \u001B[43m    \u001B[49m\u001B[43minclude_lowest\u001B[49m\u001B[38;5;241;43m=\u001B[39;49m\u001B[43minclude_lowest\u001B[49m\u001B[43m,\u001B[49m\n\u001B[0;32m    264\u001B[0m \u001B[43m    \u001B[49m\u001B[43mduplicates\u001B[49m\u001B[38;5;241;43m=\u001B[39;49m\u001B[43mduplicates\u001B[49m\u001B[43m,\u001B[49m\n\u001B[0;32m    265\u001B[0m \u001B[43m    \u001B[49m\u001B[43mordered\u001B[49m\u001B[38;5;241;43m=\u001B[39;49m\u001B[43mordered\u001B[49m\u001B[43m,\u001B[49m\n\u001B[0;32m    266\u001B[0m \u001B[43m\u001B[49m\u001B[43m)\u001B[49m\n\u001B[0;32m    268\u001B[0m \u001B[38;5;28;01mreturn\u001B[39;00m _postprocess_for_cut(fac, bins, retbins, original)\n",
      "File \u001B[1;32mD:\\Новая папка1\\rs-ucu-books-recommender\\myenv\\Lib\\site-packages\\pandas\\core\\reshape\\tile.py:452\u001B[0m, in \u001B[0;36m_bins_to_cuts\u001B[1;34m(x_idx, bins, right, labels, precision, include_lowest, duplicates, ordered)\u001B[0m\n\u001B[0;32m    449\u001B[0m side: Literal[\u001B[38;5;124m\"\u001B[39m\u001B[38;5;124mleft\u001B[39m\u001B[38;5;124m\"\u001B[39m, \u001B[38;5;124m\"\u001B[39m\u001B[38;5;124mright\u001B[39m\u001B[38;5;124m\"\u001B[39m] \u001B[38;5;241m=\u001B[39m \u001B[38;5;124m\"\u001B[39m\u001B[38;5;124mleft\u001B[39m\u001B[38;5;124m\"\u001B[39m \u001B[38;5;28;01mif\u001B[39;00m right \u001B[38;5;28;01melse\u001B[39;00m \u001B[38;5;124m\"\u001B[39m\u001B[38;5;124mright\u001B[39m\u001B[38;5;124m\"\u001B[39m\n\u001B[0;32m    451\u001B[0m \u001B[38;5;28;01mtry\u001B[39;00m:\n\u001B[1;32m--> 452\u001B[0m     ids \u001B[38;5;241m=\u001B[39m \u001B[43mbins\u001B[49m\u001B[38;5;241;43m.\u001B[39;49m\u001B[43msearchsorted\u001B[49m\u001B[43m(\u001B[49m\u001B[43mx_idx\u001B[49m\u001B[43m,\u001B[49m\u001B[43m \u001B[49m\u001B[43mside\u001B[49m\u001B[38;5;241;43m=\u001B[39;49m\u001B[43mside\u001B[49m\u001B[43m)\u001B[49m\n\u001B[0;32m    453\u001B[0m \u001B[38;5;28;01mexcept\u001B[39;00m \u001B[38;5;167;01mTypeError\u001B[39;00m \u001B[38;5;28;01mas\u001B[39;00m err:\n\u001B[0;32m    454\u001B[0m     \u001B[38;5;66;03m# e.g. test_datetime_nan_error if bins are DatetimeArray and x_idx\u001B[39;00m\n\u001B[0;32m    455\u001B[0m     \u001B[38;5;66;03m#  is integers\u001B[39;00m\n\u001B[0;32m    456\u001B[0m     \u001B[38;5;28;01mif\u001B[39;00m x_idx\u001B[38;5;241m.\u001B[39mdtype\u001B[38;5;241m.\u001B[39mkind \u001B[38;5;241m==\u001B[39m \u001B[38;5;124m\"\u001B[39m\u001B[38;5;124mm\u001B[39m\u001B[38;5;124m\"\u001B[39m:\n",
      "File \u001B[1;32mD:\\Новая папка1\\rs-ucu-books-recommender\\myenv\\Lib\\site-packages\\pandas\\core\\base.py:1352\u001B[0m, in \u001B[0;36mIndexOpsMixin.searchsorted\u001B[1;34m(self, value, side, sorter)\u001B[0m\n\u001B[0;32m   1348\u001B[0m \u001B[38;5;28;01mif\u001B[39;00m \u001B[38;5;129;01mnot\u001B[39;00m \u001B[38;5;28misinstance\u001B[39m(values, np\u001B[38;5;241m.\u001B[39mndarray):\n\u001B[0;32m   1349\u001B[0m     \u001B[38;5;66;03m# Going through EA.searchsorted directly improves performance GH#38083\u001B[39;00m\n\u001B[0;32m   1350\u001B[0m     \u001B[38;5;28;01mreturn\u001B[39;00m values\u001B[38;5;241m.\u001B[39msearchsorted(value, side\u001B[38;5;241m=\u001B[39mside, sorter\u001B[38;5;241m=\u001B[39msorter)\n\u001B[1;32m-> 1352\u001B[0m \u001B[38;5;28;01mreturn\u001B[39;00m \u001B[43malgorithms\u001B[49m\u001B[38;5;241;43m.\u001B[39;49m\u001B[43msearchsorted\u001B[49m\u001B[43m(\u001B[49m\n\u001B[0;32m   1353\u001B[0m \u001B[43m    \u001B[49m\u001B[43mvalues\u001B[49m\u001B[43m,\u001B[49m\n\u001B[0;32m   1354\u001B[0m \u001B[43m    \u001B[49m\u001B[43mvalue\u001B[49m\u001B[43m,\u001B[49m\n\u001B[0;32m   1355\u001B[0m \u001B[43m    \u001B[49m\u001B[43mside\u001B[49m\u001B[38;5;241;43m=\u001B[39;49m\u001B[43mside\u001B[49m\u001B[43m,\u001B[49m\n\u001B[0;32m   1356\u001B[0m \u001B[43m    \u001B[49m\u001B[43msorter\u001B[49m\u001B[38;5;241;43m=\u001B[39;49m\u001B[43msorter\u001B[49m\u001B[43m,\u001B[49m\n\u001B[0;32m   1357\u001B[0m \u001B[43m\u001B[49m\u001B[43m)\u001B[49m\n",
      "File \u001B[1;32mD:\\Новая папка1\\rs-ucu-books-recommender\\myenv\\Lib\\site-packages\\pandas\\core\\algorithms.py:1329\u001B[0m, in \u001B[0;36msearchsorted\u001B[1;34m(arr, value, side, sorter)\u001B[0m\n\u001B[0;32m   1325\u001B[0m     arr \u001B[38;5;241m=\u001B[39m ensure_wrapped_if_datetimelike(arr)\n\u001B[0;32m   1327\u001B[0m \u001B[38;5;66;03m# Argument 1 to \"searchsorted\" of \"ndarray\" has incompatible type\u001B[39;00m\n\u001B[0;32m   1328\u001B[0m \u001B[38;5;66;03m# \"Union[NumpyValueArrayLike, ExtensionArray]\"; expected \"NumpyValueArrayLike\"\u001B[39;00m\n\u001B[1;32m-> 1329\u001B[0m \u001B[38;5;28;01mreturn\u001B[39;00m \u001B[43marr\u001B[49m\u001B[38;5;241;43m.\u001B[39;49m\u001B[43msearchsorted\u001B[49m\u001B[43m(\u001B[49m\u001B[43mvalue\u001B[49m\u001B[43m,\u001B[49m\u001B[43m \u001B[49m\u001B[43mside\u001B[49m\u001B[38;5;241;43m=\u001B[39;49m\u001B[43mside\u001B[49m\u001B[43m,\u001B[49m\u001B[43m \u001B[49m\u001B[43msorter\u001B[49m\u001B[38;5;241;43m=\u001B[39;49m\u001B[43msorter\u001B[49m\u001B[43m)\u001B[49m\n",
      "\u001B[1;31mTypeError\u001B[0m: '<' not supported between instances of 'float' and 'str'"
     ]
    }
   ],
   "source": [
    "users['Age_Group'] = pd.cut(users['Age'], bins=[0, 18, 25, 35, 45, 55, 65, 100], labels=['18', '18-24', '25-34', '35-44', '45-54', '55-64', '65+'])\n",
    "age_rating = users.groupby('Age_Group')['Book-Rating'].mean()\n",
    "age_rating.plot(kind='bar', color='skyblue')\n",
    "plt.xlabel('Age Group')\n",
    "plt.ylabel('Average Rating')\n",
    "plt.title('Average Book Rating by Age Group')\n",
    "plt.show()"
   ],
   "metadata": {
    "collapsed": false,
    "ExecuteTime": {
     "end_time": "2024-06-13T10:01:30.069506100Z",
     "start_time": "2024-06-13T10:01:29.915254Z"
    }
   },
   "execution_count": 22
  },
  {
   "cell_type": "code",
   "outputs": [],
   "source": [],
   "metadata": {
    "collapsed": false,
    "ExecuteTime": {
     "end_time": "2024-06-13T10:01:30.974729500Z",
     "start_time": "2024-06-13T10:01:30.951895600Z"
    }
   },
   "execution_count": 22
  },
  {
   "cell_type": "code",
   "outputs": [],
   "source": [],
   "metadata": {
    "collapsed": false
   }
  }
 ],
 "metadata": {
  "kernelspec": {
   "name": "python3",
   "language": "python",
   "display_name": "Python 3 (ipykernel)"
  },
  "language_info": {
   "codemirror_mode": {
    "name": "ipython",
    "version": 3
   },
   "file_extension": ".py",
   "mimetype": "text/x-python",
   "name": "python",
   "nbconvert_exporter": "python",
   "pygments_lexer": "ipython3",
   "version": "3.1.undefined"
  }
 },
 "nbformat": 4,
 "nbformat_minor": 2
}
