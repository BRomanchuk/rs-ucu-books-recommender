{
 "cells": [
  {
   "cell_type": "code",
   "execution_count": 2,
   "metadata": {},
   "outputs": [
    {
     "name": "stderr",
     "output_type": "stream",
     "text": [
      "/var/folders/s0/4m_t_82936ggv17n0g0t7_dr0000gn/T/ipykernel_30484/2080034654.py:2: DeprecationWarning: \n",
      "Pyarrow will become a required dependency of pandas in the next major release of pandas (pandas 3.0),\n",
      "(to allow more performant data types, such as the Arrow string type, and better interoperability with other libraries)\n",
      "but was not found to be installed on your system.\n",
      "If this would cause problems for you,\n",
      "please provide us feedback at https://github.com/pandas-dev/pandas/issues/54466\n",
      "        \n",
      "  import pandas as pd\n"
     ]
    }
   ],
   "source": [
    "import numpy as np\n",
    "import pandas as pd\n",
    "import matplotlib.pyplot as plt"
   ]
  },
  {
   "cell_type": "code",
   "execution_count": 18,
   "metadata": {},
   "outputs": [
    {
     "name": "stderr",
     "output_type": "stream",
     "text": [
      "/var/folders/s0/4m_t_82936ggv17n0g0t7_dr0000gn/T/ipykernel_30484/1201232063.py:3: DtypeWarning: Columns (0) have mixed types. Specify dtype option on import or set low_memory=False.\n",
      "  users = pd.read_csv('../../data/Users.csv', delimiter=';')\n"
     ]
    }
   ],
   "source": [
    "books = pd.read_csv('../../data/Books.csv', delimiter=';')\n",
    "ratings = pd.read_csv('../../data/Ratings.csv', delimiter=';')\n",
    "users = pd.read_csv('../../data/Users.csv', delimiter=';')"
   ]
  },
  {
   "cell_type": "code",
   "execution_count": 19,
   "metadata": {},
   "outputs": [
    {
     "data": {
      "text/plain": [
       "((271379, 5), (1149780, 3), (278859, 2))"
      ]
     },
     "execution_count": 19,
     "metadata": {},
     "output_type": "execute_result"
    }
   ],
   "source": [
    "books.shape, ratings.shape, users.shape"
   ]
  },
  {
   "cell_type": "code",
   "execution_count": 20,
   "metadata": {},
   "outputs": [
    {
     "data": {
      "text/html": [
       "<div>\n",
       "<style scoped>\n",
       "    .dataframe tbody tr th:only-of-type {\n",
       "        vertical-align: middle;\n",
       "    }\n",
       "\n",
       "    .dataframe tbody tr th {\n",
       "        vertical-align: top;\n",
       "    }\n",
       "\n",
       "    .dataframe thead th {\n",
       "        text-align: right;\n",
       "    }\n",
       "</style>\n",
       "<table border=\"1\" class=\"dataframe\">\n",
       "  <thead>\n",
       "    <tr style=\"text-align: right;\">\n",
       "      <th></th>\n",
       "      <th>ISBN</th>\n",
       "      <th>Title</th>\n",
       "      <th>Author</th>\n",
       "      <th>Year</th>\n",
       "      <th>Publisher</th>\n",
       "    </tr>\n",
       "  </thead>\n",
       "  <tbody>\n",
       "    <tr>\n",
       "      <th>0</th>\n",
       "      <td>0195153448</td>\n",
       "      <td>Classical Mythology</td>\n",
       "      <td>Mark P. O. Morford</td>\n",
       "      <td>2002</td>\n",
       "      <td>Oxford University Press</td>\n",
       "    </tr>\n",
       "    <tr>\n",
       "      <th>1</th>\n",
       "      <td>0002005018</td>\n",
       "      <td>Clara Callan</td>\n",
       "      <td>Richard Bruce Wright</td>\n",
       "      <td>2001</td>\n",
       "      <td>HarperFlamingo Canada</td>\n",
       "    </tr>\n",
       "  </tbody>\n",
       "</table>\n",
       "</div>"
      ],
      "text/plain": [
       "         ISBN                Title                Author  Year  \\\n",
       "0  0195153448  Classical Mythology    Mark P. O. Morford  2002   \n",
       "1  0002005018         Clara Callan  Richard Bruce Wright  2001   \n",
       "\n",
       "                 Publisher  \n",
       "0  Oxford University Press  \n",
       "1    HarperFlamingo Canada  "
      ]
     },
     "execution_count": 20,
     "metadata": {},
     "output_type": "execute_result"
    }
   ],
   "source": [
    "books.head(2)"
   ]
  },
  {
   "cell_type": "code",
   "execution_count": 21,
   "metadata": {},
   "outputs": [
    {
     "data": {
      "text/html": [
       "<div>\n",
       "<style scoped>\n",
       "    .dataframe tbody tr th:only-of-type {\n",
       "        vertical-align: middle;\n",
       "    }\n",
       "\n",
       "    .dataframe tbody tr th {\n",
       "        vertical-align: top;\n",
       "    }\n",
       "\n",
       "    .dataframe thead th {\n",
       "        text-align: right;\n",
       "    }\n",
       "</style>\n",
       "<table border=\"1\" class=\"dataframe\">\n",
       "  <thead>\n",
       "    <tr style=\"text-align: right;\">\n",
       "      <th></th>\n",
       "      <th>User-ID</th>\n",
       "      <th>ISBN</th>\n",
       "      <th>Rating</th>\n",
       "    </tr>\n",
       "  </thead>\n",
       "  <tbody>\n",
       "    <tr>\n",
       "      <th>0</th>\n",
       "      <td>276725</td>\n",
       "      <td>034545104X</td>\n",
       "      <td>0</td>\n",
       "    </tr>\n",
       "    <tr>\n",
       "      <th>1</th>\n",
       "      <td>276726</td>\n",
       "      <td>0155061224</td>\n",
       "      <td>5</td>\n",
       "    </tr>\n",
       "  </tbody>\n",
       "</table>\n",
       "</div>"
      ],
      "text/plain": [
       "   User-ID        ISBN  Rating\n",
       "0   276725  034545104X       0\n",
       "1   276726  0155061224       5"
      ]
     },
     "execution_count": 21,
     "metadata": {},
     "output_type": "execute_result"
    }
   ],
   "source": [
    "ratings.head(2)"
   ]
  },
  {
   "cell_type": "code",
   "execution_count": 22,
   "metadata": {},
   "outputs": [
    {
     "data": {
      "text/html": [
       "<div>\n",
       "<style scoped>\n",
       "    .dataframe tbody tr th:only-of-type {\n",
       "        vertical-align: middle;\n",
       "    }\n",
       "\n",
       "    .dataframe tbody tr th {\n",
       "        vertical-align: top;\n",
       "    }\n",
       "\n",
       "    .dataframe thead th {\n",
       "        text-align: right;\n",
       "    }\n",
       "</style>\n",
       "<table border=\"1\" class=\"dataframe\">\n",
       "  <thead>\n",
       "    <tr style=\"text-align: right;\">\n",
       "      <th></th>\n",
       "      <th>User-ID</th>\n",
       "      <th>Age</th>\n",
       "    </tr>\n",
       "  </thead>\n",
       "  <tbody>\n",
       "    <tr>\n",
       "      <th>0</th>\n",
       "      <td>1</td>\n",
       "      <td>NaN</td>\n",
       "    </tr>\n",
       "    <tr>\n",
       "      <th>1</th>\n",
       "      <td>2</td>\n",
       "      <td>18</td>\n",
       "    </tr>\n",
       "  </tbody>\n",
       "</table>\n",
       "</div>"
      ],
      "text/plain": [
       "  User-ID  Age\n",
       "0       1  NaN\n",
       "1       2   18"
      ]
     },
     "execution_count": 22,
     "metadata": {},
     "output_type": "execute_result"
    }
   ],
   "source": [
    "users.head(2)"
   ]
  },
  {
   "cell_type": "markdown",
   "metadata": {},
   "source": [
    "## Books EDA"
   ]
  },
  {
   "cell_type": "code",
   "execution_count": 23,
   "metadata": {},
   "outputs": [
    {
     "data": {
      "text/plain": [
       "Title\n",
       "Selected Poems                                                                                                                    27\n",
       "Little Women                                                                                                                      24\n",
       "Wuthering Heights                                                                                                                 21\n",
       "The Secret Garden                                                                                                                 20\n",
       "Dracula                                                                                                                           20\n",
       "                                                                                                                                  ..\n",
       "Cinderella'S Secret Agent (A Year Of Loving Dangerously) (Silhouette Intimate Moments, No 1076)                                    1\n",
       "Diamond In The Rough (Temptation , No 688)                                                                                         1\n",
       "Baby Boy Blessed (That'S My Baby!) (Silhouette Special Edition, 1285)                                                              1\n",
       "A Marriage of Convenience (Western Lovers, 7)                                                                                      1\n",
       "A Guided Tour of Rene Descartes' Meditations on First Philosophy with Complete Translations of the Meditations by Ronald Rubin     1\n",
       "Name: count, Length: 242154, dtype: int64"
      ]
     },
     "execution_count": 23,
     "metadata": {},
     "output_type": "execute_result"
    }
   ],
   "source": [
    "books['Title'].value_counts()  # The number of unique titles is les"
   ]
  },
  {
   "cell_type": "code",
   "execution_count": 24,
   "metadata": {},
   "outputs": [
    {
     "data": {
      "text/plain": [
       "Author\n",
       "Agatha Christie        632\n",
       "William Shakespeare    567\n",
       "Stephen King           524\n",
       "Ann M. Martin          423\n",
       "Francine Pascal        373\n",
       "                      ... \n",
       "Jean Cassels             1\n",
       "Bernice Meyers           1\n",
       "Mark A. Taylor           1\n",
       "Ellery R. Sheets         1\n",
       "Christopher  Biffle      1\n",
       "Name: count, Length: 102029, dtype: int64"
      ]
     },
     "execution_count": 24,
     "metadata": {},
     "output_type": "execute_result"
    }
   ],
   "source": [
    "books['Author'].value_counts()"
   ]
  },
  {
   "cell_type": "code",
   "execution_count": 25,
   "metadata": {},
   "outputs": [
    {
     "data": {
      "text/plain": [
       "Publisher\n",
       "Harlequin              7536\n",
       "Silhouette             4220\n",
       "Pocket                 3905\n",
       "Ballantine Books       3783\n",
       "Bantam Books           3647\n",
       "                       ... \n",
       "Book Essentials           1\n",
       "Permeable Press           1\n",
       "Park Slope Pr             1\n",
       "J. David Publishers       1\n",
       "Connaught                 1\n",
       "Name: count, Length: 16910, dtype: int64"
      ]
     },
     "execution_count": 25,
     "metadata": {},
     "output_type": "execute_result"
    }
   ],
   "source": [
    "books['Publisher'].value_counts()"
   ]
  },
  {
   "cell_type": "code",
   "execution_count": 26,
   "metadata": {},
   "outputs": [
    {
     "data": {
      "text/plain": [
       "110232"
      ]
     },
     "execution_count": 26,
     "metadata": {},
     "output_type": "execute_result"
    }
   ],
   "source": [
    "users['Age'].isna().sum()"
   ]
  },
  {
   "cell_type": "code",
   "execution_count": 27,
   "metadata": {},
   "outputs": [],
   "source": [
    "def parse_age(age):\n",
    "    try:\n",
    "        int_age = int(age)\n",
    "        if int_age < 5 or int_age > 100:\n",
    "            return np.nan\n",
    "        return int_age\n",
    "    except:\n",
    "        return np.nan"
   ]
  },
  {
   "cell_type": "code",
   "execution_count": 28,
   "metadata": {},
   "outputs": [
    {
     "data": {
      "text/plain": [
       "<Axes: >"
      ]
     },
     "execution_count": 28,
     "metadata": {},
     "output_type": "execute_result"
    },
    {
     "data": {
      "image/png": "[encoded data removed]",
      "text/plain": [
       "<Figure size 640x480 with 1 Axes>"
      ]
     },
     "metadata": {},
     "output_type": "display_data"
    }
   ],
   "source": [
    "users['Age'].apply(parse_age).hist(bins=30)"
   ]
  },
  {
   "cell_type": "code",
   "execution_count": 29,
   "metadata": {},
   "outputs": [
    {
     "data": {
      "text/plain": [
       "array([nan, '18', '17', '61', '26', '14', '25', '19', '46', '55', '32',\n",
       "       '24', '20', '34', '23', '51', '31', '21', '44', '30', '57', '43',\n",
       "       '37', '41', '54', '42', '50', '39', '53', '47', '36', '28', '35',\n",
       "       '13', '58', '49', '38', '45', '62', '63', '27', '33', '29', '66',\n",
       "       '40', '15', '60', '0', '79', '22', '16', '65', '59', '48', '72',\n",
       "       '56', '67', '1', '80', '52', '69', ' canada', '71', ' usa', '73',\n",
       "       ' chile', '78', '9', '64', '103', '104', '12', '74', ' egypt',\n",
       "       '75', '231', ' united kingdom', '3', '76', ' the', ' spain', '83',\n",
       "       '68', ' austria', '119', '11', ' pakistan', '2', ' india', '70',\n",
       "       '77', '93', ' mexico', ' costa rica', ' yugoslavia', ' honduras',\n",
       "       ' netherlands', ' new zealand', '8', '7', ' city', ' bas rhin',\n",
       "       ' australia', '4', '81', '114', '230', '239', ' italy', '10',\n",
       "       ' germany', '5', ' panama', '148', ' china', ' british columbia',\n",
       "       '151', '6', ' south africa', '101', ' afghanistan', '201', '96',\n",
       "       '84', ' malaysia', ' nigeria', ' eritrea', ' greece',\n",
       "       ' deutschland', ' philippines', '82', '90', ' sindh', '123',\n",
       "       ' iceland', ' caribbean sea', '244', ' brazil', '133', ' portugal',\n",
       "       '91', '128', '94', '85', ' united states', '141', '110', '97',\n",
       "       ' finland', ' france', '219', '86', '124', '92', ' switzerland',\n",
       "       ' burgundy', ' japan', '175', ' n/a', '172', ' ka', '209', '212',\n",
       "       ' wales', '237', 'accra', '87', '162', '100', ' berkshire', '156',\n",
       "       ' indonesia', ' england', ' florida', ' sicilia', 'asmera',\n",
       "       ' poland', ' channel islands', '136', ' turkey', 'galicia',\n",
       "       ' nueva ecija', '95', ' baja california', '89', '106', ' gifu',\n",
       "       '99', ' ontario', 'china', ' galiza', ' isulan', ' qatar', '108',\n",
       "       ' sweden', ' argentina', '210', ' new jersey', '88', '199',\n",
       "       ' perak', ' hong kong', '147', ' ukraine', ' singapore',\n",
       "       'ma 02121', ' thailand', ' victoria', ' ireland', ' rhode island',\n",
       "       '168', ' algeria', ' georgia', ' cape verde',\n",
       "       ' in (ind-indianapolis intl.)', ' south korea', 'guishan li',\n",
       "       '132', ' tubod', '159', ' slovakia', ' alaska', ' norway', '186',\n",
       "       ' denmark', ' liberia', ' nepal', ' russia', ' ghana', '152',\n",
       "       ' the world tomorrow', '102', ' czech republic', ' belgium', '116',\n",
       "       ' guam', ' desamparados', ' haryana', ' bangladesh',\n",
       "       ' bosnia and herzegovina', ' oakland', ' mozambique', '200', '115',\n",
       "       ' ogun state', '226', ' sri lanka', '#04-157', ' d.f.', '137',\n",
       "       '207', '229', '138', ' united arab emirates', ' north korea',\n",
       "       '109', '105', '228', '183', ' the netherlands', '204',\n",
       "       ' unite states', ' c.a.', ' macedonia', ' espanha / galiza',\n",
       "       ' antigua and barbuda', ' bahamas', '98', ' dominican republic',\n",
       "       ' queensland', ' colombia', ' vellore', 'europe', '223', '113',\n",
       "       ' uzbekistan', '208', '157', ' jersey', ' croatia', '111',\n",
       "       ' europe.', ' kansas', '146', '118', ' côte-d`or', ' kerala',\n",
       "       ' tobago', 'hyderabad', '220', ' and i know you have a pl',\n",
       "       ' disgruntled states of america', ' åhus', ' américa central',\n",
       "       ' kuwait', ' san carlos', ' bt66 6bx', ' trinidad and tobago',\n",
       "       '143', ' bohol', ' coimbra', '140', ' osun state', ' basilan',\n",
       "       ' home of the van!!', 'italy', ' uk', ' köln',\n",
       "       ' san ramon de alajuela', 'cavite', '189', '127'], dtype=object)"
      ]
     },
     "execution_count": 29,
     "metadata": {},
     "output_type": "execute_result"
    }
   ],
   "source": [
    "users['Age'].unique()"
   ]
  },
  {
   "cell_type": "code",
   "execution_count": null,
   "metadata": {},
   "outputs": [],
   "source": []
  }
 ],
 "metadata": {
  "kernelspec": {
   "display_name": "yoloenv",
   "language": "python",
   "name": "yoloenv"
  },
  "language_info": {
   "codemirror_mode": {
    "name": "ipython",
    "version": 3
   },
   "file_extension": ".py",
   "mimetype": "text/x-python",
   "name": "python",
   "nbconvert_exporter": "python",
   "pygments_lexer": "ipython3",
   "version": "3.1.undefined"
  }
 },
 "nbformat": 4,
 "nbformat_minor": 2
}
