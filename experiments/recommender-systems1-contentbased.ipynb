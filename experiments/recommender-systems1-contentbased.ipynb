{
 "metadata": {
  "kernelspec": {
   "language": "python",
   "display_name": "Python 3",
   "name": "python3"
  },
  "language_info": {
   "name": "python",
   "version": "3.10.13",
   "mimetype": "text/x-python",
   "codemirror_mode": {
    "name": "ipython",
    "version": 3
   },
   "pygments_lexer": "ipython3",
   "nbconvert_exporter": "python",
   "file_extension": ".py"
  },
  "kaggle": {
   "accelerator": "nvidiaTeslaT4",
   "dataSources": [
    {
     "sourceId": 8704650,
     "sourceType": "datasetVersion",
     "datasetId": 5221114
    }
   ],
   "dockerImageVersionId": 30733,
   "isInternetEnabled": true,
   "language": "python",
   "sourceType": "notebook",
   "isGpuEnabled": true
  }
 },
 "nbformat_minor": 4,
 "nbformat": 4,
 "cells": [
  {
   "cell_type": "code",
   "source": [
    "!pip install numpy pandas scikit-learn tqdm scipy"
   ],
   "metadata": {
    "_uuid": "8f2839f25d086af736a60e9eeb907d3b93b6e0e5",
    "_cell_guid": "b1076dfc-b9ad-4769-8c92-a6c4dae69d19",
    "execution": {
     "iopub.status.busy": "2024-06-16T14:56:38.051650Z",
     "iopub.execute_input": "2024-06-16T14:56:38.052736Z",
     "iopub.status.idle": "2024-06-16T14:56:52.850964Z",
     "shell.execute_reply.started": "2024-06-16T14:56:38.052706Z",
     "shell.execute_reply": "2024-06-16T14:56:52.849762Z"
    },
    "trusted": true
   },
   "execution_count": 4,
   "outputs": [
    {
     "name": "stdout",
     "text": "Requirement already satisfied: numpy in /opt/conda/lib/python3.10/site-packages (1.26.4)\nRequirement already satisfied: pandas in /opt/conda/lib/python3.10/site-packages (2.2.1)\nRequirement already satisfied: scikit-learn in /opt/conda/lib/python3.10/site-packages (1.2.2)\nRequirement already satisfied: tqdm in /opt/conda/lib/python3.10/site-packages (4.66.4)\nRequirement already satisfied: scipy in /opt/conda/lib/python3.10/site-packages (1.11.4)\nRequirement already satisfied: python-dateutil>=2.8.2 in /opt/conda/lib/python3.10/site-packages (from pandas) (2.9.0.post0)\nRequirement already satisfied: pytz>=2020.1 in /opt/conda/lib/python3.10/site-packages (from pandas) (2023.3.post1)\nRequirement already satisfied: tzdata>=2022.7 in /opt/conda/lib/python3.10/site-packages (from pandas) (2023.4)\nRequirement already satisfied: joblib>=1.1.1 in /opt/conda/lib/python3.10/site-packages (from scikit-learn) (1.4.2)\nRequirement already satisfied: threadpoolctl>=2.0.0 in /opt/conda/lib/python3.10/site-packages (from scikit-learn) (3.2.0)\nRequirement already satisfied: six>=1.5 in /opt/conda/lib/python3.10/site-packages (from python-dateutil>=2.8.2->pandas) (1.16.0)\n",
     "output_type": "stream"
    }
   ]
  },
  {
   "cell_type": "code",
   "source": [
    "import pandas as pd\n",
    "import numpy as np\n",
    "from tqdm import tqdm\n",
    "from sklearn.metrics.pairwise import cosine_similarity\n",
    "\n",
    "from sklearn.model_selection import train_test_split\n",
    "from sklearn.feature_extraction.text import TfidfVectorizer\n",
    "import scipy as sp"
   ],
   "metadata": {
    "execution": {
     "iopub.status.busy": "2024-06-16T16:55:45.398719Z",
     "iopub.execute_input": "2024-06-16T16:55:45.399095Z",
     "iopub.status.idle": "2024-06-16T16:55:45.405047Z",
     "shell.execute_reply.started": "2024-06-16T16:55:45.399066Z",
     "shell.execute_reply": "2024-06-16T16:55:45.404023Z"
    },
    "trusted": true
   },
   "execution_count": 93,
   "outputs": []
  },
  {
   "cell_type": "code",
   "source": [
    "books = pd.read_csv('/kaggle/input/books-csv/Books.csv', delimiter=';', low_memory=False)\n",
    "ratings = pd.read_csv('/kaggle/input/books-csv/Ratings.csv', delimiter=';')\n",
    "users = pd.read_csv('/kaggle/input/books-csv/Users.csv', delimiter=';')"
   ],
   "metadata": {
    "execution": {
     "iopub.status.busy": "2024-06-16T14:56:52.883572Z",
     "iopub.execute_input": "2024-06-16T14:56:52.883864Z",
     "iopub.status.idle": "2024-06-16T14:56:54.877452Z",
     "shell.execute_reply.started": "2024-06-16T14:56:52.883841Z",
     "shell.execute_reply": "2024-06-16T14:56:54.876480Z"
    },
    "trusted": true
   },
   "execution_count": 7,
   "outputs": [
    {
     "name": "stderr",
     "text": "/tmp/ipykernel_447/3782059545.py:3: DtypeWarning: Columns (0) have mixed types. Specify dtype option on import or set low_memory=False.\n  users = pd.read_csv('/kaggle/input/books-csv/Users.csv', delimiter=';')\n",
     "output_type": "stream"
    }
   ]
  },
  {
   "cell_type": "code",
   "source": [
    "df_prep_step_1 = pd.merge(books, ratings.query(\"`Rating` > 0\"), on='ISBN', how='inner')\n",
    "\n",
    "# join users data\n",
    "df_prep_step_2 = pd.merge(df_prep_step_1, users, on='User-ID', how='inner')"
   ],
   "metadata": {
    "execution": {
     "iopub.status.busy": "2024-06-16T14:56:54.878628Z",
     "iopub.execute_input": "2024-06-16T14:56:54.878969Z",
     "iopub.status.idle": "2024-06-16T14:56:55.641503Z",
     "shell.execute_reply.started": "2024-06-16T14:56:54.878941Z",
     "shell.execute_reply": "2024-06-16T14:56:55.640642Z"
    },
    "trusted": true
   },
   "execution_count": 8,
   "outputs": []
  },
  {
   "cell_type": "code",
   "source": [
    "df_prep = df_prep_step_2.drop(['Publisher'], axis=1)\n",
    "df_isbn = df_prep.drop_duplicates()"
   ],
   "metadata": {
    "execution": {
     "iopub.status.busy": "2024-06-16T14:56:55.642657Z",
     "iopub.execute_input": "2024-06-16T14:56:55.642956Z",
     "iopub.status.idle": "2024-06-16T14:56:55.997098Z",
     "shell.execute_reply.started": "2024-06-16T14:56:55.642931Z",
     "shell.execute_reply": "2024-06-16T14:56:55.996298Z"
    },
    "trusted": true
   },
   "execution_count": 9,
   "outputs": []
  },
  {
   "cell_type": "code",
   "source": [
    "df_isbn['Original_NaN'] = df_isbn['Age'].isna()\n",
    "\n",
    "df_isbn['Age'] = pd.to_numeric(df_isbn['Age'], errors='coerce')\n",
    "\n",
    "df_isbn = df_isbn[~(users['Age'].isna() & ~df_isbn['Original_NaN'])]\n",
    "\n",
    "df_isbn.drop(columns=['Original_NaN'], inplace=True)"
   ],
   "metadata": {
    "execution": {
     "iopub.status.busy": "2024-06-16T14:56:55.998291Z",
     "iopub.execute_input": "2024-06-16T14:56:55.998660Z",
     "iopub.status.idle": "2024-06-16T14:56:56.590558Z",
     "shell.execute_reply.started": "2024-06-16T14:56:55.998624Z",
     "shell.execute_reply": "2024-06-16T14:56:56.589493Z"
    },
    "trusted": true
   },
   "execution_count": 10,
   "outputs": [
    {
     "name": "stderr",
     "text": "/tmp/ipykernel_447/4234698739.py:1: SettingWithCopyWarning: \nA value is trying to be set on a copy of a slice from a DataFrame.\nTry using .loc[row_indexer,col_indexer] = value instead\n\nSee the caveats in the documentation: https://pandas.pydata.org/pandas-docs/stable/user_guide/indexing.html#returning-a-view-versus-a-copy\n  df_isbn['Original_NaN'] = df_isbn['Age'].isna()\n/tmp/ipykernel_447/4234698739.py:4: SettingWithCopyWarning: \nA value is trying to be set on a copy of a slice from a DataFrame.\nTry using .loc[row_indexer,col_indexer] = value instead\n\nSee the caveats in the documentation: https://pandas.pydata.org/pandas-docs/stable/user_guide/indexing.html#returning-a-view-versus-a-copy\n  df_isbn['Age'] = pd.to_numeric(df_isbn['Age'], errors='coerce')\n/tmp/ipykernel_447/4234698739.py:7: UserWarning: Boolean Series key will be reindexed to match DataFrame index.\n  df_isbn = df_isbn[~(users['Age'].isna() & ~df_isbn['Original_NaN'])]\n",
     "output_type": "stream"
    }
   ]
  },
  {
   "cell_type": "code",
   "source": [
    "df_isbn['User-ID'] = pd.to_numeric(df_isbn['User-ID'], errors='coerce')\n",
    "\n",
    "df_isbn = df_isbn[~(df_isbn['User-ID'].isna())]"
   ],
   "metadata": {
    "execution": {
     "iopub.status.busy": "2024-06-16T14:56:56.591979Z",
     "iopub.execute_input": "2024-06-16T14:56:56.592369Z",
     "iopub.status.idle": "2024-06-16T14:56:56.658958Z",
     "shell.execute_reply.started": "2024-06-16T14:56:56.592333Z",
     "shell.execute_reply": "2024-06-16T14:56:56.657896Z"
    },
    "trusted": true
   },
   "execution_count": 11,
   "outputs": []
  },
  {
   "cell_type": "code",
   "source": [
    "age_outliers = df_isbn.query(\"Age > 100 or Age < 6\")\n",
    "\n",
    "user_outliers = age_outliers[\"User-ID\"].to_list()"
   ],
   "metadata": {
    "execution": {
     "iopub.status.busy": "2024-06-16T14:56:56.660264Z",
     "iopub.execute_input": "2024-06-16T14:56:56.660581Z",
     "iopub.status.idle": "2024-06-16T14:56:56.671872Z",
     "shell.execute_reply.started": "2024-06-16T14:56:56.660554Z",
     "shell.execute_reply": "2024-06-16T14:56:56.670826Z"
    },
    "trusted": true
   },
   "execution_count": 12,
   "outputs": []
  },
  {
   "cell_type": "code",
   "source": [
    "# exclude age outliers\n",
    "df_isbn = df_isbn[~df_isbn[\"User-ID\"].isin(user_outliers)]"
   ],
   "metadata": {
    "execution": {
     "iopub.status.busy": "2024-06-16T14:56:56.675419Z",
     "iopub.execute_input": "2024-06-16T14:56:56.675867Z",
     "iopub.status.idle": "2024-06-16T14:56:56.705763Z",
     "shell.execute_reply.started": "2024-06-16T14:56:56.675839Z",
     "shell.execute_reply": "2024-06-16T14:56:56.704803Z"
    },
    "trusted": true
   },
   "execution_count": 13,
   "outputs": []
  },
  {
   "cell_type": "code",
   "source": [
    "y = df_isbn['Rating']\n",
    "X = df_isbn.drop('Rating', axis=1)"
   ],
   "metadata": {
    "execution": {
     "iopub.status.busy": "2024-06-16T14:56:56.707035Z",
     "iopub.execute_input": "2024-06-16T14:56:56.707408Z",
     "iopub.status.idle": "2024-06-16T14:56:56.723420Z",
     "shell.execute_reply.started": "2024-06-16T14:56:56.707375Z",
     "shell.execute_reply": "2024-06-16T14:56:56.722527Z"
    },
    "trusted": true
   },
   "execution_count": 14,
   "outputs": []
  },
  {
   "cell_type": "code",
   "source": [
    "X_train, X_test, y_train, y_test = train_test_split(X, y, test_size=0.2, random_state=42, shuffle=True)"
   ],
   "metadata": {
    "execution": {
     "iopub.status.busy": "2024-06-16T14:56:56.724526Z",
     "iopub.execute_input": "2024-06-16T14:56:56.724883Z",
     "iopub.status.idle": "2024-06-16T14:56:56.791773Z",
     "shell.execute_reply.started": "2024-06-16T14:56:56.724857Z",
     "shell.execute_reply": "2024-06-16T14:56:56.790913Z"
    },
    "trusted": true
   },
   "execution_count": 15,
   "outputs": []
  },
  {
   "cell_type": "code",
   "source": [
    "import heapq"
   ],
   "metadata": {
    "execution": {
     "iopub.status.busy": "2024-06-16T16:45:05.794804Z",
     "iopub.execute_input": "2024-06-16T16:45:05.795822Z",
     "iopub.status.idle": "2024-06-16T16:45:05.799846Z",
     "shell.execute_reply.started": "2024-06-16T16:45:05.795785Z",
     "shell.execute_reply": "2024-06-16T16:45:05.798961Z"
    },
    "trusted": true
   },
   "execution_count": 86,
   "outputs": []
  },
  {
   "cell_type": "code",
   "source": [
    "class ContentRecommender():\n",
    "    def __init__(self):\n",
    "        super().__init__()\n",
    "        self.tfidf_matrix = None\n",
    "        self.isbn_to_idx = None  \n",
    "        self.tfidf = None\n",
    "        self.books = None\n",
    "\n",
    "    def fit(self, books):\n",
    "        books['Author'] = books['Author'].fillna('missing')\n",
    "        books['description'] = books['Title'] + ' ' + books['Author']\n",
    "        self.tfidf = TfidfVectorizer(stop_words='english')\n",
    "        self.tfidf_matrix = self.tfidf.fit_transform(books['description'])\n",
    "        self.isbn_to_idx = {isbn: i for i, isbn in enumerate(books['ISBN'])}\n",
    "        self.books = books\n",
    "\n",
    "    def predict(self, user_ratings, num_recommendations=5):\n",
    "        user_predictions = {}\n",
    "        for user_id, group in tqdm(user_ratings.groupby('User-ID'), desc='Generating recommendations'):\n",
    "            user_indices = [self.isbn_to_idx.get(isbn) for isbn in group['ISBN'] if isbn in self.isbn_to_idx]\n",
    "            if not user_indices:\n",
    "                continue \n",
    "\n",
    "            average_vector = self.tfidf_matrix[user_indices].mean(axis=0)\n",
    "\n",
    "            if isinstance(average_vector, sp.sparse.csr_matrix):\n",
    "                average_vector = average_vector.toarray()\n",
    "\n",
    "            average_vector_np = np.asarray(average_vector).reshape(1, -1)\n",
    "\n",
    "            user_sim_scores = cosine_similarity(average_vector_np, self.tfidf_matrix)[0]\n",
    "\n",
    "            top_indices = heapq.nlargest(num_recommendations, range(len(user_sim_scores)),\n",
    "                                         key=lambda x: user_sim_scores[x] if x not in user_indices else float('-inf'))\n",
    "\n",
    "            recommended_books = [self.books['ISBN'].iloc[idx] for idx in top_indices]\n",
    "            user_predictions[user_id] = recommended_books\n",
    "\n",
    "        return user_predictions\n",
    "   "
   ],
   "metadata": {
    "execution": {
     "iopub.status.busy": "2024-06-16T17:03:26.152883Z",
     "iopub.execute_input": "2024-06-16T17:03:26.153781Z",
     "iopub.status.idle": "2024-06-16T17:03:26.171023Z",
     "shell.execute_reply.started": "2024-06-16T17:03:26.153744Z",
     "shell.execute_reply": "2024-06-16T17:03:26.170034Z"
    },
    "trusted": true
   },
   "execution_count": 104,
   "outputs": []
  },
  {
   "cell_type": "code",
   "source": [
    "recommender = ContentRecommender()\n",
    "recommender.fit(X_train[['ISBN', 'Title', 'Author', 'Year']])\n",
    "y_predicted = recommender.predict(X_test, 5)"
   ],
   "metadata": {
    "execution": {
     "iopub.status.busy": "2024-06-16T17:16:23.912832Z",
     "iopub.execute_input": "2024-06-16T17:16:23.913556Z",
     "iopub.status.idle": "2024-06-16T17:49:18.948482Z",
     "shell.execute_reply.started": "2024-06-16T17:16:23.913525Z",
     "shell.execute_reply": "2024-06-16T17:49:18.947517Z"
    },
    "trusted": true
   },
   "execution_count": 109,
   "outputs": [
    {
     "name": "stderr",
     "text": "/tmp/ipykernel_447/3001763657.py:10: SettingWithCopyWarning: \nA value is trying to be set on a copy of a slice from a DataFrame.\nTry using .loc[row_indexer,col_indexer] = value instead\n\nSee the caveats in the documentation: https://pandas.pydata.org/pandas-docs/stable/user_guide/indexing.html#returning-a-view-versus-a-copy\n  books['Author'] = books['Author'].fillna('missing')\n/tmp/ipykernel_447/3001763657.py:11: SettingWithCopyWarning: \nA value is trying to be set on a copy of a slice from a DataFrame.\nTry using .loc[row_indexer,col_indexer] = value instead\n\nSee the caveats in the documentation: https://pandas.pydata.org/pandas-docs/stable/user_guide/indexing.html#returning-a-view-versus-a-copy\n  books['description'] = books['Title'] + ' ' + books['Author']\nGenerating recommendations: 100%|██████████| 21185/21185 [32:50<00:00, 10.75it/s]\n",
     "output_type": "stream"
    }
   ]
  },
  {
   "cell_type": "code",
   "source": [
    "test_ratings = X_test\n",
    "test_ratings['Rating'] = y_test"
   ],
   "metadata": {
    "execution": {
     "iopub.status.busy": "2024-06-16T18:28:27.771284Z",
     "iopub.execute_input": "2024-06-16T18:28:27.771687Z",
     "iopub.status.idle": "2024-06-16T18:28:27.778040Z",
     "shell.execute_reply.started": "2024-06-16T18:28:27.771658Z",
     "shell.execute_reply": "2024-06-16T18:28:27.777076Z"
    },
    "trusted": true
   },
   "execution_count": 144,
   "outputs": []
  },
  {
   "cell_type": "code",
   "source": [
    "test_users = test_ratings['User-ID'].unique()\n",
    "len(test_users)"
   ],
   "metadata": {
    "execution": {
     "iopub.status.busy": "2024-06-16T18:28:30.092570Z",
     "iopub.execute_input": "2024-06-16T18:28:30.094908Z",
     "iopub.status.idle": "2024-06-16T18:28:30.102578Z",
     "shell.execute_reply.started": "2024-06-16T18:28:30.094868Z",
     "shell.execute_reply": "2024-06-16T18:28:30.101738Z"
    },
    "trusted": true
   },
   "execution_count": 145,
   "outputs": [
    {
     "execution_count": 145,
     "output_type": "execute_result",
     "data": {
      "text/plain": "21185"
     },
     "metadata": {}
    }
   ]
  },
  {
   "cell_type": "code",
   "source": [
    "filtered_df = test_ratings[test_ratings['User-ID'].isin(y_predicted.keys())]\n",
    "test_users = filtered_df['User-ID'].unique()\n",
    "len(test_users)"
   ],
   "metadata": {
    "execution": {
     "iopub.status.busy": "2024-06-16T18:12:33.139013Z",
     "iopub.execute_input": "2024-06-16T18:12:33.139677Z",
     "iopub.status.idle": "2024-06-16T18:12:33.159234Z",
     "shell.execute_reply.started": "2024-06-16T18:12:33.139635Z",
     "shell.execute_reply": "2024-06-16T18:12:33.158505Z"
    },
    "trusted": true
   },
   "execution_count": 131,
   "outputs": [
    {
     "execution_count": 131,
     "output_type": "execute_result",
     "data": {
      "text/plain": "16538"
     },
     "metadata": {}
    }
   ]
  },
  {
   "cell_type": "code",
   "source": [
    "from src.evaluation import average_precision\n",
    "\n",
    "rating_mask = test_ratings['Rating'] >= 5\n",
    "mean_ap = 0\n",
    "count_users_with_relevant_items = 0  \n",
    "\n",
    "for user_id in tqdm(test_users):\n",
    "    user_mask = test_ratings['User-ID'] == user_id\n",
    "    relevant_items = test_ratings.loc[user_mask & rating_mask].sort_values(by='Rating', ascending=False)[\n",
    "        'ISBN'\n",
    "    ]\n",
    "    if len(relevant_items) == 0:\n",
    "        continue\n",
    "\n",
    "    predicted_isbns = y_predicted.get(user_id, [])\n",
    "    if len(predicted_isbns) == 0:\n",
    "        continue  # Skip users with no predictions\n",
    "\n",
    "    ap = average_precision(predicted_isbns, relevant_items.tolist(), 5)\n",
    "    mean_ap += ap\n",
    "    count_users_with_relevant_items += 1\n",
    "\n",
    "\n",
    "if count_users_with_relevant_items > 0:\n",
    "    mean_ap /= count_users_with_relevant_items\n",
    "else:\n",
    "    mean_ap = 0  \n",
    "mean_ap"
   ],
   "metadata": {
    "execution": {
     "iopub.status.busy": "2024-06-16T19:26:51.473777Z",
     "iopub.execute_input": "2024-06-16T19:26:51.474503Z",
     "iopub.status.idle": "2024-06-16T19:27:10.097584Z",
     "shell.execute_reply.started": "2024-06-16T19:26:51.474466Z",
     "shell.execute_reply": "2024-06-16T19:27:10.096673Z"
    },
    "trusted": true
   },
   "execution_count": 179,
   "outputs": [
    {
     "name": "stderr",
     "text": "100%|██████████| 21185/21185 [00:18<00:00, 1138.40it/s]\n",
     "output_type": "stream"
    },
    {
     "execution_count": 179,
     "output_type": "execute_result",
     "data": {
      "text/plain": "0.5186530349313265"
     },
     "metadata": {}
    }
   ]
  },
  {
   "cell_type": "code",
   "source": [],
   "metadata": {},
   "execution_count": null,
   "outputs": []
  }
 ]
}
