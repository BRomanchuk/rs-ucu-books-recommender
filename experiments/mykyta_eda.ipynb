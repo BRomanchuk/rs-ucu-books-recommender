{
 "cells": [
  {
   "cell_type": "code",
   "execution_count": 19,
   "id": "initial_id",
   "metadata": {
    "collapsed": true,
    "ExecuteTime": {
     "end_time": "2024-06-14T19:29:31.866252500Z",
     "start_time": "2024-06-14T19:29:31.853659300Z"
    }
   },
   "outputs": [],
   "source": [
    "import numpy as np\n",
    "import pandas as pd\n",
    "import seaborn as sns\n",
    "import matplotlib.pyplot as plt\n",
    "from src.utils.data_preprocessing import preprocess\n"
   ]
  },
  {
   "cell_type": "code",
   "outputs": [
    {
     "name": "stderr",
     "output_type": "stream",
     "text": [
      "C:\\Users\\Никита\\AppData\\Local\\Temp\\ipykernel_3752\\1781307168.py:3: DtypeWarning: Columns (0) have mixed types. Specify dtype option on import or set low_memory=False.\n",
      "  users = pd.read_csv('../data/Users.csv', delimiter=';')\n"
     ]
    }
   ],
   "source": [
    "books = pd.read_csv('../data/Books.csv', delimiter=';')\n",
    "ratings = pd.read_csv('../data/Ratings.csv', delimiter=';')\n",
    "users = pd.read_csv('../data/Users.csv', delimiter=';')"
   ],
   "metadata": {
    "collapsed": false,
    "ExecuteTime": {
     "end_time": "2024-06-14T18:57:26.982976700Z",
     "start_time": "2024-06-14T18:57:25.635081100Z"
    }
   },
   "id": "7cba0bbfb35bb1d8",
   "execution_count": 4
  },
  {
   "cell_type": "code",
   "outputs": [],
   "source": [
    "df_prep_step_1 = pd.merge(books, ratings.query(\"`Rating` > 0\"), on='ISBN', how='inner')\n",
    "\n",
    "# join users data\n",
    "df_prep_step_2 = pd.merge(df_prep_step_1, users, on='User-ID', how='inner')"
   ],
   "metadata": {
    "collapsed": false,
    "ExecuteTime": {
     "end_time": "2024-06-14T18:58:20.361994700Z",
     "start_time": "2024-06-14T18:58:19.437475100Z"
    }
   },
   "id": "3e244849410e9507",
   "execution_count": 8
  },
  {
   "cell_type": "code",
   "outputs": [],
   "source": [
    "df_prep = df_prep_step_2.drop(['Publisher'], axis=1)\n",
    "df_isbn = df_prep.drop_duplicates()"
   ],
   "metadata": {
    "collapsed": false,
    "ExecuteTime": {
     "end_time": "2024-06-14T18:58:53.093097100Z",
     "start_time": "2024-06-14T18:58:52.776939900Z"
    }
   },
   "id": "ddcaa0ff93cfb501",
   "execution_count": 10
  },
  {
   "cell_type": "code",
   "outputs": [
    {
     "data": {
      "text/plain": "              ISBN                                              Title  \\\n0       0002005018                                       Clara Callan   \n1       0002005018                                       Clara Callan   \n2       0002005018                                       Clara Callan   \n3       0002005018                                       Clara Callan   \n4       0002005018                                       Clara Callan   \n...            ...                                                ...   \n363529  0679861548    Wolverine: Duty and Honor (X-Men Marvel Comics)   \n363530  0816705739       Good Luck, Bad Luck (Happy Times Adventures)   \n363531  0822502763  Antonyms: Hot and Cold and Other Words That Ar...   \n363532  5550534274             Peter Pan Read-Along Book and Cassette   \n363533  3404128907                                    Der Psychiater.   \n\n                         Author  Year User-ID  Rating  Age  \n0          Richard Bruce Wright  2001       8       5  NaN  \n1          Richard Bruce Wright  2001   11676       8  NaN  \n2          Richard Bruce Wright  2001   67544       8   30  \n3          Richard Bruce Wright  2001  116866       9  NaN  \n4          Richard Bruce Wright  2001  123629       9  NaN  \n...                         ...   ...     ...     ...  ...  \n363529          Francine Hughes  1994  259901       7  NaN  \n363530          Rita Schlachter  1986  259901      10  NaN  \n363531              Joan Hanson  1972  259901      10  NaN  \n363532  Walt Disney Productions  1989  259901      10  NaN  \n363533              Mark Fisher  1998  260239       8   41  \n\n[361929 rows x 7 columns]",
      "text/html": "<div>\n<style scoped>\n    .dataframe tbody tr th:only-of-type {\n        vertical-align: middle;\n    }\n\n    .dataframe tbody tr th {\n        vertical-align: top;\n    }\n\n    .dataframe thead th {\n        text-align: right;\n    }\n</style>\n<table border=\"1\" class=\"dataframe\">\n  <thead>\n    <tr style=\"text-align: right;\">\n      <th></th>\n      <th>ISBN</th>\n      <th>Title</th>\n      <th>Author</th>\n      <th>Year</th>\n      <th>User-ID</th>\n      <th>Rating</th>\n      <th>Age</th>\n    </tr>\n  </thead>\n  <tbody>\n    <tr>\n      <th>0</th>\n      <td>0002005018</td>\n      <td>Clara Callan</td>\n      <td>Richard Bruce Wright</td>\n      <td>2001</td>\n      <td>8</td>\n      <td>5</td>\n      <td>NaN</td>\n    </tr>\n    <tr>\n      <th>1</th>\n      <td>0002005018</td>\n      <td>Clara Callan</td>\n      <td>Richard Bruce Wright</td>\n      <td>2001</td>\n      <td>11676</td>\n      <td>8</td>\n      <td>NaN</td>\n    </tr>\n    <tr>\n      <th>2</th>\n      <td>0002005018</td>\n      <td>Clara Callan</td>\n      <td>Richard Bruce Wright</td>\n      <td>2001</td>\n      <td>67544</td>\n      <td>8</td>\n      <td>30</td>\n    </tr>\n    <tr>\n      <th>3</th>\n      <td>0002005018</td>\n      <td>Clara Callan</td>\n      <td>Richard Bruce Wright</td>\n      <td>2001</td>\n      <td>116866</td>\n      <td>9</td>\n      <td>NaN</td>\n    </tr>\n    <tr>\n      <th>4</th>\n      <td>0002005018</td>\n      <td>Clara Callan</td>\n      <td>Richard Bruce Wright</td>\n      <td>2001</td>\n      <td>123629</td>\n      <td>9</td>\n      <td>NaN</td>\n    </tr>\n    <tr>\n      <th>...</th>\n      <td>...</td>\n      <td>...</td>\n      <td>...</td>\n      <td>...</td>\n      <td>...</td>\n      <td>...</td>\n      <td>...</td>\n    </tr>\n    <tr>\n      <th>363529</th>\n      <td>0679861548</td>\n      <td>Wolverine: Duty and Honor (X-Men Marvel Comics)</td>\n      <td>Francine Hughes</td>\n      <td>1994</td>\n      <td>259901</td>\n      <td>7</td>\n      <td>NaN</td>\n    </tr>\n    <tr>\n      <th>363530</th>\n      <td>0816705739</td>\n      <td>Good Luck, Bad Luck (Happy Times Adventures)</td>\n      <td>Rita Schlachter</td>\n      <td>1986</td>\n      <td>259901</td>\n      <td>10</td>\n      <td>NaN</td>\n    </tr>\n    <tr>\n      <th>363531</th>\n      <td>0822502763</td>\n      <td>Antonyms: Hot and Cold and Other Words That Ar...</td>\n      <td>Joan Hanson</td>\n      <td>1972</td>\n      <td>259901</td>\n      <td>10</td>\n      <td>NaN</td>\n    </tr>\n    <tr>\n      <th>363532</th>\n      <td>5550534274</td>\n      <td>Peter Pan Read-Along Book and Cassette</td>\n      <td>Walt Disney Productions</td>\n      <td>1989</td>\n      <td>259901</td>\n      <td>10</td>\n      <td>NaN</td>\n    </tr>\n    <tr>\n      <th>363533</th>\n      <td>3404128907</td>\n      <td>Der Psychiater.</td>\n      <td>Mark Fisher</td>\n      <td>1998</td>\n      <td>260239</td>\n      <td>8</td>\n      <td>41</td>\n    </tr>\n  </tbody>\n</table>\n<p>361929 rows × 7 columns</p>\n</div>"
     },
     "execution_count": 39,
     "metadata": {},
     "output_type": "execute_result"
    }
   ],
   "source": [
    "df_isbn"
   ],
   "metadata": {
    "collapsed": false,
    "ExecuteTime": {
     "end_time": "2024-06-14T20:10:07.266783600Z",
     "start_time": "2024-06-14T20:10:07.255431900Z"
    }
   },
   "id": "fefa548363b4ecd9",
   "execution_count": 39
  },
  {
   "cell_type": "code",
   "outputs": [
    {
     "name": "stderr",
     "output_type": "stream",
     "text": [
      "C:\\Users\\Никита\\AppData\\Local\\Temp\\ipykernel_3752\\701042267.py:7: UserWarning: Boolean Series key will be reindexed to match DataFrame index.\n",
      "  df_isbn = df_isbn[~(users['Age'].isna() & ~df_isbn['Original_NaN'])]\n",
      "C:\\Users\\Никита\\AppData\\Local\\Temp\\ipykernel_3752\\701042267.py:10: SettingWithCopyWarning: \n",
      "A value is trying to be set on a copy of a slice from a DataFrame\n",
      "\n",
      "See the caveats in the documentation: https://pandas.pydata.org/pandas-docs/stable/user_guide/indexing.html#returning-a-view-versus-a-copy\n",
      "  df_isbn.drop(columns=['Original_NaN'], inplace=True)\n"
     ]
    }
   ],
   "source": [
    "df_isbn['Original_NaN'] = df_isbn['Age'].isna()\n",
    "\n",
    "# Convert 'Age' to numeric, turning non-numeric values into NaN\n",
    "df_isbn['Age'] = pd.to_numeric(df_isbn['Age'], errors='coerce')\n",
    "\n",
    "# Drop rows where 'Age' is NaN and were not originally NaN\n",
    "df_isbn = df_isbn[~(users['Age'].isna() & ~df_isbn['Original_NaN'])]\n",
    "\n",
    "# Drop the 'Original_NaN' column as it's no longer needed\n",
    "df_isbn.drop(columns=['Original_NaN'], inplace=True)"
   ],
   "metadata": {
    "collapsed": false,
    "ExecuteTime": {
     "end_time": "2024-06-14T20:10:46.538254600Z",
     "start_time": "2024-06-14T20:10:46.297773Z"
    }
   },
   "id": "65be20ab76ebe1d3",
   "execution_count": 40
  },
  {
   "cell_type": "code",
   "outputs": [
    {
     "name": "stderr",
     "output_type": "stream",
     "text": [
      "C:\\Users\\Никита\\AppData\\Local\\Temp\\ipykernel_3752\\423264576.py:1: SettingWithCopyWarning: \n",
      "A value is trying to be set on a copy of a slice from a DataFrame.\n",
      "Try using .loc[row_indexer,col_indexer] = value instead\n",
      "\n",
      "See the caveats in the documentation: https://pandas.pydata.org/pandas-docs/stable/user_guide/indexing.html#returning-a-view-versus-a-copy\n",
      "  df_isbn['User-ID'] = pd.to_numeric(df_isbn['User-ID'], errors='coerce')\n"
     ]
    }
   ],
   "source": [
    "df_isbn['User-ID'] = pd.to_numeric(df_isbn['User-ID'], errors='coerce')\n",
    "\n",
    "# Drop rows where 'Age' is NaN and were not originally NaN\n",
    "df_isbn = df_isbn[~(df_isbn['User-ID'].isna())]"
   ],
   "metadata": {
    "collapsed": false,
    "ExecuteTime": {
     "end_time": "2024-06-14T20:10:57.788215600Z",
     "start_time": "2024-06-14T20:10:57.748199300Z"
    }
   },
   "id": "688813aca37312ec",
   "execution_count": 41
  },
  {
   "cell_type": "code",
   "outputs": [],
   "source": [
    "age_outliers = df_isbn.query(\"Age > 100 or Age < 6\")\n",
    "\n",
    "user_outliers = age_outliers[\"User-ID\"].to_list()"
   ],
   "metadata": {
    "collapsed": false,
    "ExecuteTime": {
     "end_time": "2024-06-14T20:11:08.272119Z",
     "start_time": "2024-06-14T20:11:08.262446500Z"
    }
   },
   "id": "aa5b34194c17df2a",
   "execution_count": 42
  },
  {
   "cell_type": "code",
   "outputs": [],
   "source": [
    "# exclude age outliers\n",
    "df_isbn = df_isbn[~df_isbn[\"User-ID\"].isin(user_outliers)]"
   ],
   "metadata": {
    "collapsed": false,
    "ExecuteTime": {
     "end_time": "2024-06-14T20:11:08.811270700Z",
     "start_time": "2024-06-14T20:11:08.784923600Z"
    }
   },
   "id": "50249e06b582dd63",
   "execution_count": 43
  },
  {
   "cell_type": "code",
   "outputs": [
    {
     "data": {
      "text/plain": "              ISBN                                              Title  \\\n0       0002005018                                       Clara Callan   \n1       0002005018                                       Clara Callan   \n3       0002005018                                       Clara Callan   \n4       0002005018                                       Clara Callan   \n5       0002005018                                       Clara Callan   \n...            ...                                                ...   \n363529  0679861548    Wolverine: Duty and Honor (X-Men Marvel Comics)   \n363530  0816705739       Good Luck, Bad Luck (Happy Times Adventures)   \n363531  0822502763  Antonyms: Hot and Cold and Other Words That Ar...   \n363532  5550534274             Peter Pan Read-Along Book and Cassette   \n363533  3404128907                                    Der Psychiater.   \n\n                         Author  Year  User-ID  Rating   Age  \n0          Richard Bruce Wright  2001        8       5   NaN  \n1          Richard Bruce Wright  2001    11676       8   NaN  \n3          Richard Bruce Wright  2001   116866       9   NaN  \n4          Richard Bruce Wright  2001   123629       9   NaN  \n5          Richard Bruce Wright  2001   200273       8   NaN  \n...                         ...   ...      ...     ...   ...  \n363529          Francine Hughes  1994   259901       7   NaN  \n363530          Rita Schlachter  1986   259901      10   NaN  \n363531              Joan Hanson  1972   259901      10   NaN  \n363532  Walt Disney Productions  1989   259901      10   NaN  \n363533              Mark Fisher  1998   260239       8  41.0  \n\n[285507 rows x 7 columns]",
      "text/html": "<div>\n<style scoped>\n    .dataframe tbody tr th:only-of-type {\n        vertical-align: middle;\n    }\n\n    .dataframe tbody tr th {\n        vertical-align: top;\n    }\n\n    .dataframe thead th {\n        text-align: right;\n    }\n</style>\n<table border=\"1\" class=\"dataframe\">\n  <thead>\n    <tr style=\"text-align: right;\">\n      <th></th>\n      <th>ISBN</th>\n      <th>Title</th>\n      <th>Author</th>\n      <th>Year</th>\n      <th>User-ID</th>\n      <th>Rating</th>\n      <th>Age</th>\n    </tr>\n  </thead>\n  <tbody>\n    <tr>\n      <th>0</th>\n      <td>0002005018</td>\n      <td>Clara Callan</td>\n      <td>Richard Bruce Wright</td>\n      <td>2001</td>\n      <td>8</td>\n      <td>5</td>\n      <td>NaN</td>\n    </tr>\n    <tr>\n      <th>1</th>\n      <td>0002005018</td>\n      <td>Clara Callan</td>\n      <td>Richard Bruce Wright</td>\n      <td>2001</td>\n      <td>11676</td>\n      <td>8</td>\n      <td>NaN</td>\n    </tr>\n    <tr>\n      <th>3</th>\n      <td>0002005018</td>\n      <td>Clara Callan</td>\n      <td>Richard Bruce Wright</td>\n      <td>2001</td>\n      <td>116866</td>\n      <td>9</td>\n      <td>NaN</td>\n    </tr>\n    <tr>\n      <th>4</th>\n      <td>0002005018</td>\n      <td>Clara Callan</td>\n      <td>Richard Bruce Wright</td>\n      <td>2001</td>\n      <td>123629</td>\n      <td>9</td>\n      <td>NaN</td>\n    </tr>\n    <tr>\n      <th>5</th>\n      <td>0002005018</td>\n      <td>Clara Callan</td>\n      <td>Richard Bruce Wright</td>\n      <td>2001</td>\n      <td>200273</td>\n      <td>8</td>\n      <td>NaN</td>\n    </tr>\n    <tr>\n      <th>...</th>\n      <td>...</td>\n      <td>...</td>\n      <td>...</td>\n      <td>...</td>\n      <td>...</td>\n      <td>...</td>\n      <td>...</td>\n    </tr>\n    <tr>\n      <th>363529</th>\n      <td>0679861548</td>\n      <td>Wolverine: Duty and Honor (X-Men Marvel Comics)</td>\n      <td>Francine Hughes</td>\n      <td>1994</td>\n      <td>259901</td>\n      <td>7</td>\n      <td>NaN</td>\n    </tr>\n    <tr>\n      <th>363530</th>\n      <td>0816705739</td>\n      <td>Good Luck, Bad Luck (Happy Times Adventures)</td>\n      <td>Rita Schlachter</td>\n      <td>1986</td>\n      <td>259901</td>\n      <td>10</td>\n      <td>NaN</td>\n    </tr>\n    <tr>\n      <th>363531</th>\n      <td>0822502763</td>\n      <td>Antonyms: Hot and Cold and Other Words That Ar...</td>\n      <td>Joan Hanson</td>\n      <td>1972</td>\n      <td>259901</td>\n      <td>10</td>\n      <td>NaN</td>\n    </tr>\n    <tr>\n      <th>363532</th>\n      <td>5550534274</td>\n      <td>Peter Pan Read-Along Book and Cassette</td>\n      <td>Walt Disney Productions</td>\n      <td>1989</td>\n      <td>259901</td>\n      <td>10</td>\n      <td>NaN</td>\n    </tr>\n    <tr>\n      <th>363533</th>\n      <td>3404128907</td>\n      <td>Der Psychiater.</td>\n      <td>Mark Fisher</td>\n      <td>1998</td>\n      <td>260239</td>\n      <td>8</td>\n      <td>41.0</td>\n    </tr>\n  </tbody>\n</table>\n<p>285507 rows × 7 columns</p>\n</div>"
     },
     "execution_count": 45,
     "metadata": {},
     "output_type": "execute_result"
    }
   ],
   "source": [
    "df_isbn"
   ],
   "metadata": {
    "collapsed": false,
    "ExecuteTime": {
     "end_time": "2024-06-15T07:17:39.209093400Z",
     "start_time": "2024-06-15T07:17:39.195743600Z"
    }
   },
   "id": "5a07425261a436a8",
   "execution_count": 45
  },
  {
   "cell_type": "code",
   "outputs": [],
   "source": [
    "#from sklearn.impute import KNNImputer\n",
    "#imputer = KNNImputer(n_neighbors=5)\n",
    "#df_isbn['Age'] = imputer.fit_transform(df_isbn[['Age']])"
   ],
   "metadata": {
    "collapsed": false,
    "is_executing": true,
    "ExecuteTime": {
     "start_time": "2024-06-14T20:20:34.250449500Z"
    }
   },
   "id": "a16569582bb1371c"
  },
  {
   "cell_type": "code",
   "outputs": [],
   "source": [
    "from src.recommenders.content_recommender import ContentRecommender\n",
    "\n",
    "recommender = ContentRecommender()\n",
    "users, ratings, books = preprocess(books, ratings, users)\n",
    "recommender.fit(books, users, ratings)\n"
   ],
   "metadata": {
    "collapsed": false
   },
   "id": "5685a6be79639aab"
  }
 ],
 "metadata": {
  "kernelspec": {
   "display_name": "Python 3",
   "language": "python",
   "name": "python3"
  },
  "language_info": {
   "codemirror_mode": {
    "name": "ipython",
    "version": 2
   },
   "file_extension": ".py",
   "mimetype": "text/x-python",
   "name": "python",
   "nbconvert_exporter": "python",
   "pygments_lexer": "ipython2",
   "version": "2.7.6"
  }
 },
 "nbformat": 4,
 "nbformat_minor": 5
}
