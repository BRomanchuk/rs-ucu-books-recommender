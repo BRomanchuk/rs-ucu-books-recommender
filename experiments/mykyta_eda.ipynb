{
 "cells": [
  {
   "cell_type": "code",
   "execution_count": 1,
   "id": "initial_id",
   "metadata": {
    "collapsed": true,
    "ExecuteTime": {
     "end_time": "2024-06-16T12:46:11.846787800Z",
     "start_time": "2024-06-16T12:46:11.704103100Z"
    }
   },
   "outputs": [],
   "source": [
    "import pandas as pd\n",
    "from sklearn.model_selection import train_test_split\n",
    "\n"
   ]
  },
  {
   "cell_type": "code",
   "outputs": [
    {
     "name": "stderr",
     "output_type": "stream",
     "text": [
      "C:\\Users\\Никита\\AppData\\Local\\Temp\\ipykernel_12056\\1781307168.py:3: DtypeWarning: Columns (0) have mixed types. Specify dtype option on import or set low_memory=False.\n",
      "  users = pd.read_csv('../data/Users.csv', delimiter=';')\n"
     ]
    }
   ],
   "source": [
    "books = pd.read_csv('../data/Books.csv', delimiter=';')\n",
    "ratings = pd.read_csv('../data/Ratings.csv', delimiter=';')\n",
    "users = pd.read_csv('../data/Users.csv', delimiter=';')"
   ],
   "metadata": {
    "collapsed": false,
    "ExecuteTime": {
     "end_time": "2024-06-16T12:46:12.737175100Z",
     "start_time": "2024-06-16T12:46:11.847913Z"
    }
   },
   "id": "7cba0bbfb35bb1d8",
   "execution_count": 2
  },
  {
   "cell_type": "code",
   "outputs": [],
   "source": [
    "df_prep_step_1 = pd.merge(books, ratings.query(\"`Rating` > 0\"), on='ISBN', how='inner')\n",
    "\n",
    "# join users data\n",
    "df_prep_step_2 = pd.merge(df_prep_step_1, users, on='User-ID', how='inner')"
   ],
   "metadata": {
    "collapsed": false,
    "ExecuteTime": {
     "end_time": "2024-06-16T12:46:13.143406900Z",
     "start_time": "2024-06-16T12:46:12.732811900Z"
    }
   },
   "id": "3e244849410e9507",
   "execution_count": 3
  },
  {
   "cell_type": "code",
   "outputs": [],
   "source": [
    "df_prep = df_prep_step_2.drop(['Publisher'], axis=1)\n",
    "df_isbn = df_prep.drop_duplicates()"
   ],
   "metadata": {
    "collapsed": false,
    "ExecuteTime": {
     "end_time": "2024-06-16T12:46:13.350458800Z",
     "start_time": "2024-06-16T12:46:13.143406900Z"
    }
   },
   "id": "ddcaa0ff93cfb501",
   "execution_count": 4
  },
  {
   "cell_type": "code",
   "outputs": [
    {
     "data": {
      "text/plain": "              ISBN                                              Title  \\\n0       0002005018                                       Clara Callan   \n1       0002005018                                       Clara Callan   \n2       0002005018                                       Clara Callan   \n3       0002005018                                       Clara Callan   \n4       0002005018                                       Clara Callan   \n...            ...                                                ...   \n363529  0679861548    Wolverine: Duty and Honor (X-Men Marvel Comics)   \n363530  0816705739       Good Luck, Bad Luck (Happy Times Adventures)   \n363531  0822502763  Antonyms: Hot and Cold and Other Words That Ar...   \n363532  5550534274             Peter Pan Read-Along Book and Cassette   \n363533  3404128907                                    Der Psychiater.   \n\n                         Author  Year User-ID  Rating  Age  \n0          Richard Bruce Wright  2001       8       5  NaN  \n1          Richard Bruce Wright  2001   11676       8  NaN  \n2          Richard Bruce Wright  2001   67544       8   30  \n3          Richard Bruce Wright  2001  116866       9  NaN  \n4          Richard Bruce Wright  2001  123629       9  NaN  \n...                         ...   ...     ...     ...  ...  \n363529          Francine Hughes  1994  259901       7  NaN  \n363530          Rita Schlachter  1986  259901      10  NaN  \n363531              Joan Hanson  1972  259901      10  NaN  \n363532  Walt Disney Productions  1989  259901      10  NaN  \n363533              Mark Fisher  1998  260239       8   41  \n\n[363530 rows x 7 columns]",
      "text/html": "<div>\n<style scoped>\n    .dataframe tbody tr th:only-of-type {\n        vertical-align: middle;\n    }\n\n    .dataframe tbody tr th {\n        vertical-align: top;\n    }\n\n    .dataframe thead th {\n        text-align: right;\n    }\n</style>\n<table border=\"1\" class=\"dataframe\">\n  <thead>\n    <tr style=\"text-align: right;\">\n      <th></th>\n      <th>ISBN</th>\n      <th>Title</th>\n      <th>Author</th>\n      <th>Year</th>\n      <th>User-ID</th>\n      <th>Rating</th>\n      <th>Age</th>\n    </tr>\n  </thead>\n  <tbody>\n    <tr>\n      <th>0</th>\n      <td>0002005018</td>\n      <td>Clara Callan</td>\n      <td>Richard Bruce Wright</td>\n      <td>2001</td>\n      <td>8</td>\n      <td>5</td>\n      <td>NaN</td>\n    </tr>\n    <tr>\n      <th>1</th>\n      <td>0002005018</td>\n      <td>Clara Callan</td>\n      <td>Richard Bruce Wright</td>\n      <td>2001</td>\n      <td>11676</td>\n      <td>8</td>\n      <td>NaN</td>\n    </tr>\n    <tr>\n      <th>2</th>\n      <td>0002005018</td>\n      <td>Clara Callan</td>\n      <td>Richard Bruce Wright</td>\n      <td>2001</td>\n      <td>67544</td>\n      <td>8</td>\n      <td>30</td>\n    </tr>\n    <tr>\n      <th>3</th>\n      <td>0002005018</td>\n      <td>Clara Callan</td>\n      <td>Richard Bruce Wright</td>\n      <td>2001</td>\n      <td>116866</td>\n      <td>9</td>\n      <td>NaN</td>\n    </tr>\n    <tr>\n      <th>4</th>\n      <td>0002005018</td>\n      <td>Clara Callan</td>\n      <td>Richard Bruce Wright</td>\n      <td>2001</td>\n      <td>123629</td>\n      <td>9</td>\n      <td>NaN</td>\n    </tr>\n    <tr>\n      <th>...</th>\n      <td>...</td>\n      <td>...</td>\n      <td>...</td>\n      <td>...</td>\n      <td>...</td>\n      <td>...</td>\n      <td>...</td>\n    </tr>\n    <tr>\n      <th>363529</th>\n      <td>0679861548</td>\n      <td>Wolverine: Duty and Honor (X-Men Marvel Comics)</td>\n      <td>Francine Hughes</td>\n      <td>1994</td>\n      <td>259901</td>\n      <td>7</td>\n      <td>NaN</td>\n    </tr>\n    <tr>\n      <th>363530</th>\n      <td>0816705739</td>\n      <td>Good Luck, Bad Luck (Happy Times Adventures)</td>\n      <td>Rita Schlachter</td>\n      <td>1986</td>\n      <td>259901</td>\n      <td>10</td>\n      <td>NaN</td>\n    </tr>\n    <tr>\n      <th>363531</th>\n      <td>0822502763</td>\n      <td>Antonyms: Hot and Cold and Other Words That Ar...</td>\n      <td>Joan Hanson</td>\n      <td>1972</td>\n      <td>259901</td>\n      <td>10</td>\n      <td>NaN</td>\n    </tr>\n    <tr>\n      <th>363532</th>\n      <td>5550534274</td>\n      <td>Peter Pan Read-Along Book and Cassette</td>\n      <td>Walt Disney Productions</td>\n      <td>1989</td>\n      <td>259901</td>\n      <td>10</td>\n      <td>NaN</td>\n    </tr>\n    <tr>\n      <th>363533</th>\n      <td>3404128907</td>\n      <td>Der Psychiater.</td>\n      <td>Mark Fisher</td>\n      <td>1998</td>\n      <td>260239</td>\n      <td>8</td>\n      <td>41</td>\n    </tr>\n  </tbody>\n</table>\n<p>363530 rows × 7 columns</p>\n</div>"
     },
     "execution_count": 5,
     "metadata": {},
     "output_type": "execute_result"
    }
   ],
   "source": [
    "df_isbn"
   ],
   "metadata": {
    "collapsed": false,
    "ExecuteTime": {
     "end_time": "2024-06-16T12:46:13.364042600Z",
     "start_time": "2024-06-16T12:46:13.354775200Z"
    }
   },
   "id": "fefa548363b4ecd9",
   "execution_count": 5
  },
  {
   "cell_type": "code",
   "outputs": [
    {
     "name": "stderr",
     "output_type": "stream",
     "text": [
      "C:\\Users\\Никита\\AppData\\Local\\Temp\\ipykernel_12056\\701042267.py:1: SettingWithCopyWarning: \n",
      "A value is trying to be set on a copy of a slice from a DataFrame.\n",
      "Try using .loc[row_indexer,col_indexer] = value instead\n",
      "\n",
      "See the caveats in the documentation: https://pandas.pydata.org/pandas-docs/stable/user_guide/indexing.html#returning-a-view-versus-a-copy\n",
      "  df_isbn['Original_NaN'] = df_isbn['Age'].isna()\n",
      "C:\\Users\\Никита\\AppData\\Local\\Temp\\ipykernel_12056\\701042267.py:4: SettingWithCopyWarning: \n",
      "A value is trying to be set on a copy of a slice from a DataFrame.\n",
      "Try using .loc[row_indexer,col_indexer] = value instead\n",
      "\n",
      "See the caveats in the documentation: https://pandas.pydata.org/pandas-docs/stable/user_guide/indexing.html#returning-a-view-versus-a-copy\n",
      "  df_isbn['Age'] = pd.to_numeric(df_isbn['Age'], errors='coerce')\n",
      "C:\\Users\\Никита\\AppData\\Local\\Temp\\ipykernel_12056\\701042267.py:7: UserWarning: Boolean Series key will be reindexed to match DataFrame index.\n",
      "  df_isbn = df_isbn[~(users['Age'].isna() & ~df_isbn['Original_NaN'])]\n",
      "C:\\Users\\Никита\\AppData\\Local\\Temp\\ipykernel_12056\\701042267.py:10: SettingWithCopyWarning: \n",
      "A value is trying to be set on a copy of a slice from a DataFrame\n",
      "\n",
      "See the caveats in the documentation: https://pandas.pydata.org/pandas-docs/stable/user_guide/indexing.html#returning-a-view-versus-a-copy\n",
      "  df_isbn.drop(columns=['Original_NaN'], inplace=True)\n"
     ]
    }
   ],
   "source": [
    "df_isbn['Original_NaN'] = df_isbn['Age'].isna()\n",
    "\n",
    "# Convert 'Age' to numeric, turning non-numeric values into NaN\n",
    "df_isbn['Age'] = pd.to_numeric(df_isbn['Age'], errors='coerce')\n",
    "\n",
    "# Drop rows where 'Age' is NaN and were not originally NaN\n",
    "df_isbn = df_isbn[~(users['Age'].isna() & ~df_isbn['Original_NaN'])]\n",
    "\n",
    "# Drop the 'Original_NaN' column as it's no longer needed\n",
    "df_isbn.drop(columns=['Original_NaN'], inplace=True)"
   ],
   "metadata": {
    "collapsed": false,
    "ExecuteTime": {
     "end_time": "2024-06-16T12:46:13.600454700Z",
     "start_time": "2024-06-16T12:46:13.365176500Z"
    }
   },
   "id": "65be20ab76ebe1d3",
   "execution_count": 6
  },
  {
   "cell_type": "code",
   "outputs": [
    {
     "name": "stderr",
     "output_type": "stream",
     "text": [
      "C:\\Users\\Никита\\AppData\\Local\\Temp\\ipykernel_12056\\423264576.py:1: SettingWithCopyWarning: \n",
      "A value is trying to be set on a copy of a slice from a DataFrame.\n",
      "Try using .loc[row_indexer,col_indexer] = value instead\n",
      "\n",
      "See the caveats in the documentation: https://pandas.pydata.org/pandas-docs/stable/user_guide/indexing.html#returning-a-view-versus-a-copy\n",
      "  df_isbn['User-ID'] = pd.to_numeric(df_isbn['User-ID'], errors='coerce')\n"
     ]
    }
   ],
   "source": [
    "df_isbn['User-ID'] = pd.to_numeric(df_isbn['User-ID'], errors='coerce')\n",
    "\n",
    "# Drop rows where 'Age' is NaN and were not originally NaN\n",
    "df_isbn = df_isbn[~(df_isbn['User-ID'].isna())]"
   ],
   "metadata": {
    "collapsed": false,
    "ExecuteTime": {
     "end_time": "2024-06-16T12:46:13.647375Z",
     "start_time": "2024-06-16T12:46:13.601541600Z"
    }
   },
   "id": "688813aca37312ec",
   "execution_count": 7
  },
  {
   "cell_type": "code",
   "outputs": [],
   "source": [
    "age_outliers = df_isbn.query(\"Age > 100 or Age < 6\")\n",
    "\n",
    "user_outliers = age_outliers[\"User-ID\"].to_list()"
   ],
   "metadata": {
    "collapsed": false,
    "ExecuteTime": {
     "end_time": "2024-06-16T12:46:13.648376900Z",
     "start_time": "2024-06-16T12:46:13.637541400Z"
    }
   },
   "id": "aa5b34194c17df2a",
   "execution_count": 8
  },
  {
   "cell_type": "code",
   "outputs": [],
   "source": [
    "# exclude age outliers\n",
    "df_isbn = df_isbn[~df_isbn[\"User-ID\"].isin(user_outliers)]"
   ],
   "metadata": {
    "collapsed": false,
    "ExecuteTime": {
     "end_time": "2024-06-16T12:46:13.669830200Z",
     "start_time": "2024-06-16T12:46:13.645119600Z"
    }
   },
   "id": "50249e06b582dd63",
   "execution_count": 9
  },
  {
   "cell_type": "code",
   "outputs": [
    {
     "data": {
      "text/plain": "              ISBN                                              Title  \\\n0       0002005018                                       Clara Callan   \n1       0002005018                                       Clara Callan   \n3       0002005018                                       Clara Callan   \n4       0002005018                                       Clara Callan   \n5       0002005018                                       Clara Callan   \n...            ...                                                ...   \n363529  0679861548    Wolverine: Duty and Honor (X-Men Marvel Comics)   \n363530  0816705739       Good Luck, Bad Luck (Happy Times Adventures)   \n363531  0822502763  Antonyms: Hot and Cold and Other Words That Ar...   \n363532  5550534274             Peter Pan Read-Along Book and Cassette   \n363533  3404128907                                    Der Psychiater.   \n\n                         Author  Year  User-ID  Rating   Age  \n0          Richard Bruce Wright  2001        8       5   NaN  \n1          Richard Bruce Wright  2001    11676       8   NaN  \n3          Richard Bruce Wright  2001   116866       9   NaN  \n4          Richard Bruce Wright  2001   123629       9   NaN  \n5          Richard Bruce Wright  2001   200273       8   NaN  \n...                         ...   ...      ...     ...   ...  \n363529          Francine Hughes  1994   259901       7   NaN  \n363530          Rita Schlachter  1986   259901      10   NaN  \n363531              Joan Hanson  1972   259901      10   NaN  \n363532  Walt Disney Productions  1989   259901      10   NaN  \n363533              Mark Fisher  1998   260239       8  41.0  \n\n[285506 rows x 7 columns]",
      "text/html": "<div>\n<style scoped>\n    .dataframe tbody tr th:only-of-type {\n        vertical-align: middle;\n    }\n\n    .dataframe tbody tr th {\n        vertical-align: top;\n    }\n\n    .dataframe thead th {\n        text-align: right;\n    }\n</style>\n<table border=\"1\" class=\"dataframe\">\n  <thead>\n    <tr style=\"text-align: right;\">\n      <th></th>\n      <th>ISBN</th>\n      <th>Title</th>\n      <th>Author</th>\n      <th>Year</th>\n      <th>User-ID</th>\n      <th>Rating</th>\n      <th>Age</th>\n    </tr>\n  </thead>\n  <tbody>\n    <tr>\n      <th>0</th>\n      <td>0002005018</td>\n      <td>Clara Callan</td>\n      <td>Richard Bruce Wright</td>\n      <td>2001</td>\n      <td>8</td>\n      <td>5</td>\n      <td>NaN</td>\n    </tr>\n    <tr>\n      <th>1</th>\n      <td>0002005018</td>\n      <td>Clara Callan</td>\n      <td>Richard Bruce Wright</td>\n      <td>2001</td>\n      <td>11676</td>\n      <td>8</td>\n      <td>NaN</td>\n    </tr>\n    <tr>\n      <th>3</th>\n      <td>0002005018</td>\n      <td>Clara Callan</td>\n      <td>Richard Bruce Wright</td>\n      <td>2001</td>\n      <td>116866</td>\n      <td>9</td>\n      <td>NaN</td>\n    </tr>\n    <tr>\n      <th>4</th>\n      <td>0002005018</td>\n      <td>Clara Callan</td>\n      <td>Richard Bruce Wright</td>\n      <td>2001</td>\n      <td>123629</td>\n      <td>9</td>\n      <td>NaN</td>\n    </tr>\n    <tr>\n      <th>5</th>\n      <td>0002005018</td>\n      <td>Clara Callan</td>\n      <td>Richard Bruce Wright</td>\n      <td>2001</td>\n      <td>200273</td>\n      <td>8</td>\n      <td>NaN</td>\n    </tr>\n    <tr>\n      <th>...</th>\n      <td>...</td>\n      <td>...</td>\n      <td>...</td>\n      <td>...</td>\n      <td>...</td>\n      <td>...</td>\n      <td>...</td>\n    </tr>\n    <tr>\n      <th>363529</th>\n      <td>0679861548</td>\n      <td>Wolverine: Duty and Honor (X-Men Marvel Comics)</td>\n      <td>Francine Hughes</td>\n      <td>1994</td>\n      <td>259901</td>\n      <td>7</td>\n      <td>NaN</td>\n    </tr>\n    <tr>\n      <th>363530</th>\n      <td>0816705739</td>\n      <td>Good Luck, Bad Luck (Happy Times Adventures)</td>\n      <td>Rita Schlachter</td>\n      <td>1986</td>\n      <td>259901</td>\n      <td>10</td>\n      <td>NaN</td>\n    </tr>\n    <tr>\n      <th>363531</th>\n      <td>0822502763</td>\n      <td>Antonyms: Hot and Cold and Other Words That Ar...</td>\n      <td>Joan Hanson</td>\n      <td>1972</td>\n      <td>259901</td>\n      <td>10</td>\n      <td>NaN</td>\n    </tr>\n    <tr>\n      <th>363532</th>\n      <td>5550534274</td>\n      <td>Peter Pan Read-Along Book and Cassette</td>\n      <td>Walt Disney Productions</td>\n      <td>1989</td>\n      <td>259901</td>\n      <td>10</td>\n      <td>NaN</td>\n    </tr>\n    <tr>\n      <th>363533</th>\n      <td>3404128907</td>\n      <td>Der Psychiater.</td>\n      <td>Mark Fisher</td>\n      <td>1998</td>\n      <td>260239</td>\n      <td>8</td>\n      <td>41.0</td>\n    </tr>\n  </tbody>\n</table>\n<p>285506 rows × 7 columns</p>\n</div>"
     },
     "execution_count": 10,
     "metadata": {},
     "output_type": "execute_result"
    }
   ],
   "source": [
    "df_isbn"
   ],
   "metadata": {
    "collapsed": false,
    "ExecuteTime": {
     "end_time": "2024-06-16T12:46:13.693024800Z",
     "start_time": "2024-06-16T12:46:13.671013300Z"
    }
   },
   "id": "5a07425261a436a8",
   "execution_count": 10
  },
  {
   "cell_type": "code",
   "outputs": [],
   "source": [
    "#from sklearn.impute import KNNImputer\n",
    "#imputer = KNNImputer(n_neighbors=5)\n",
    "#df_isbn['Age'] = imputer.fit_transform(df_isbn[['Age']])"
   ],
   "metadata": {
    "collapsed": false,
    "ExecuteTime": {
     "end_time": "2024-06-16T12:46:13.694104300Z",
     "start_time": "2024-06-16T12:46:13.680508200Z"
    }
   },
   "id": "a16569582bb1371c",
   "execution_count": 11
  },
  {
   "cell_type": "code",
   "outputs": [],
   "source": [
    "y = df_isbn['Rating']\n",
    "X = df_isbn.drop('Rating', axis=1)"
   ],
   "metadata": {
    "collapsed": false,
    "ExecuteTime": {
     "end_time": "2024-06-16T12:46:13.703766800Z",
     "start_time": "2024-06-16T12:46:13.683305900Z"
    }
   },
   "id": "204aca32bdf583a9",
   "execution_count": 12
  },
  {
   "cell_type": "code",
   "outputs": [],
   "source": [
    "X_train, X_test, y_train, y_test = train_test_split(X, y, test_size=0.2, random_state=42, shuffle=True)"
   ],
   "metadata": {
    "collapsed": false,
    "ExecuteTime": {
     "end_time": "2024-06-16T12:46:13.789846100Z",
     "start_time": "2024-06-16T12:46:13.698510400Z"
    }
   },
   "id": "80e8e11f6cccf725",
   "execution_count": 13
  },
  {
   "cell_type": "code",
   "outputs": [
    {
     "data": {
      "text/plain": "              ISBN                                              Title  \\\n168822  2846260346                                    ZÃ?Â©ro tuÃ?Â©s   \n223702  1883523184     The Activist's Daughter (Coming of Age Series)   \n161040  006051406X  Molly Moon's Incredible Book of Hypnotism (Mol...   \n9137    0060173289   Divine Secrets of the Ya-Ya Sisterhood : A Novel   \n216012  0679772669                     In the Skin of a Lion: A Novel   \n...            ...                                                ...   \n165047  0446400998  Skeleton's Knee (Joe Gunther Mysteries (Paperb...   \n337012  0465006493  The Mythic Past: Biblical Archaeology and the ...   \n181859  0761104844                 1,000 Places to See Before You Die   \n202379  0224051709                                          Amsterdam   \n167834  0374117349                                    Burden of Proof   \n\n                        Author  Year  User-ID   Age  \n168822  RÃ?Â©gis De Sa Moreira  2002   253852  27.0  \n223702             Ellyn Bache  1997    68555   NaN  \n161040            Georgia Byng  2003   143218  13.0  \n9137             Rebecca Wells  1996    86189   NaN  \n216012        Michael Ondaatje  1997   151139   NaN  \n...                        ...   ...      ...   ...  \n165047            Archer Mayor  1994    30607   NaN  \n337012      Thomas L. Thompson  2000   224349  23.0  \n181859        Patricia Schultz  2003   224203   NaN  \n202379              Ian McEwan  1998    51449  26.0  \n167834             Scott Turow  1990   150968  47.0  \n\n[228404 rows x 6 columns]",
      "text/html": "<div>\n<style scoped>\n    .dataframe tbody tr th:only-of-type {\n        vertical-align: middle;\n    }\n\n    .dataframe tbody tr th {\n        vertical-align: top;\n    }\n\n    .dataframe thead th {\n        text-align: right;\n    }\n</style>\n<table border=\"1\" class=\"dataframe\">\n  <thead>\n    <tr style=\"text-align: right;\">\n      <th></th>\n      <th>ISBN</th>\n      <th>Title</th>\n      <th>Author</th>\n      <th>Year</th>\n      <th>User-ID</th>\n      <th>Age</th>\n    </tr>\n  </thead>\n  <tbody>\n    <tr>\n      <th>168822</th>\n      <td>2846260346</td>\n      <td>ZÃ?Â©ro tuÃ?Â©s</td>\n      <td>RÃ?Â©gis De Sa Moreira</td>\n      <td>2002</td>\n      <td>253852</td>\n      <td>27.0</td>\n    </tr>\n    <tr>\n      <th>223702</th>\n      <td>1883523184</td>\n      <td>The Activist's Daughter (Coming of Age Series)</td>\n      <td>Ellyn Bache</td>\n      <td>1997</td>\n      <td>68555</td>\n      <td>NaN</td>\n    </tr>\n    <tr>\n      <th>161040</th>\n      <td>006051406X</td>\n      <td>Molly Moon's Incredible Book of Hypnotism (Mol...</td>\n      <td>Georgia Byng</td>\n      <td>2003</td>\n      <td>143218</td>\n      <td>13.0</td>\n    </tr>\n    <tr>\n      <th>9137</th>\n      <td>0060173289</td>\n      <td>Divine Secrets of the Ya-Ya Sisterhood : A Novel</td>\n      <td>Rebecca Wells</td>\n      <td>1996</td>\n      <td>86189</td>\n      <td>NaN</td>\n    </tr>\n    <tr>\n      <th>216012</th>\n      <td>0679772669</td>\n      <td>In the Skin of a Lion: A Novel</td>\n      <td>Michael Ondaatje</td>\n      <td>1997</td>\n      <td>151139</td>\n      <td>NaN</td>\n    </tr>\n    <tr>\n      <th>...</th>\n      <td>...</td>\n      <td>...</td>\n      <td>...</td>\n      <td>...</td>\n      <td>...</td>\n      <td>...</td>\n    </tr>\n    <tr>\n      <th>165047</th>\n      <td>0446400998</td>\n      <td>Skeleton's Knee (Joe Gunther Mysteries (Paperb...</td>\n      <td>Archer Mayor</td>\n      <td>1994</td>\n      <td>30607</td>\n      <td>NaN</td>\n    </tr>\n    <tr>\n      <th>337012</th>\n      <td>0465006493</td>\n      <td>The Mythic Past: Biblical Archaeology and the ...</td>\n      <td>Thomas L. Thompson</td>\n      <td>2000</td>\n      <td>224349</td>\n      <td>23.0</td>\n    </tr>\n    <tr>\n      <th>181859</th>\n      <td>0761104844</td>\n      <td>1,000 Places to See Before You Die</td>\n      <td>Patricia Schultz</td>\n      <td>2003</td>\n      <td>224203</td>\n      <td>NaN</td>\n    </tr>\n    <tr>\n      <th>202379</th>\n      <td>0224051709</td>\n      <td>Amsterdam</td>\n      <td>Ian McEwan</td>\n      <td>1998</td>\n      <td>51449</td>\n      <td>26.0</td>\n    </tr>\n    <tr>\n      <th>167834</th>\n      <td>0374117349</td>\n      <td>Burden of Proof</td>\n      <td>Scott Turow</td>\n      <td>1990</td>\n      <td>150968</td>\n      <td>47.0</td>\n    </tr>\n  </tbody>\n</table>\n<p>228404 rows × 6 columns</p>\n</div>"
     },
     "execution_count": 14,
     "metadata": {},
     "output_type": "execute_result"
    }
   ],
   "source": [
    "X_train"
   ],
   "metadata": {
    "collapsed": false,
    "ExecuteTime": {
     "end_time": "2024-06-16T12:46:13.790914800Z",
     "start_time": "2024-06-16T12:46:13.748825500Z"
    }
   },
   "id": "2bfcb5afe0ce7e2e",
   "execution_count": 14
  },
  {
   "cell_type": "code",
   "outputs": [],
   "source": [],
   "metadata": {
    "collapsed": false,
    "ExecuteTime": {
     "end_time": "2024-06-16T12:46:47.027899100Z",
     "start_time": "2024-06-16T12:46:47.023655700Z"
    }
   },
   "id": "6249ed8706d25d3c"
  }
 ],
 "metadata": {
  "kernelspec": {
   "display_name": "Python 3",
   "language": "python",
   "name": "python3"
  },
  "language_info": {
   "codemirror_mode": {
    "name": "ipython",
    "version": 2
   },
   "file_extension": ".py",
   "mimetype": "text/x-python",
   "name": "python",
   "nbconvert_exporter": "python",
   "pygments_lexer": "ipython2",
   "version": "2.7.6"
  }
 },
 "nbformat": 4,
 "nbformat_minor": 5
}
