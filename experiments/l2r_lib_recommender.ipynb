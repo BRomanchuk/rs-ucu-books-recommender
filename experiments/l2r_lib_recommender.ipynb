{
 "cells": [
  {
   "cell_type": "code",
   "execution_count": 1,
   "metadata": {},
   "outputs": [
    {
     "name": "stdout",
     "output_type": "stream",
     "text": [
      "WARNING:tensorflow:From /Users/bromanchuk/.venv39/lib/python3.9/site-packages/tensorflow/python/compat/v2_compat.py:107: disable_resource_variables (from tensorflow.python.ops.variable_scope) is deprecated and will be removed in a future version.\n",
      "Instructions for updating:\n",
      "non-resource variables are not supported in the long term\n"
     ]
    }
   ],
   "source": [
    "import numpy as np\n",
    "import pandas as pd\n",
    "\n",
    "from libreco.data import DatasetPure\n",
    "from libreco.algorithms import BPR, WideDeep\n",
    "from libreco.evaluation import evaluate\n",
    "\n",
    "from sklearn.model_selection import train_test_split"
   ]
  },
  {
   "cell_type": "markdown",
   "metadata": {},
   "source": [
    "# Preprocess Data"
   ]
  },
  {
   "cell_type": "code",
   "execution_count": 2,
   "metadata": {},
   "outputs": [
    {
     "name": "stderr",
     "output_type": "stream",
     "text": [
      "/var/folders/s0/4m_t_82936ggv17n0g0t7_dr0000gn/T/ipykernel_40313/4047143737.py:3: DtypeWarning: Columns (0) have mixed types. Specify dtype option on import or set low_memory=False.\n",
      "  users_df = pd.read_csv('../data/Users.csv', delimiter=';')\n"
     ]
    }
   ],
   "source": [
    "books_df = pd.read_csv('../data/Books.csv', delimiter=';', low_memory=False)\n",
    "ratings_df = pd.read_csv('../data/Ratings.csv', delimiter=';')\n",
    "users_df = pd.read_csv('../data/Users.csv', delimiter=';')"
   ]
  },
  {
   "cell_type": "code",
   "execution_count": 3,
   "metadata": {},
   "outputs": [],
   "source": [
    "ratings_df.columns = ['user_id', 'item_id', 'label']"
   ]
  },
  {
   "cell_type": "code",
   "execution_count": 4,
   "metadata": {},
   "outputs": [],
   "source": [
    "ratings_df = ratings_df[ratings_df['label'] != 0]"
   ]
  },
  {
   "cell_type": "code",
   "execution_count": 5,
   "metadata": {},
   "outputs": [],
   "source": [
    "book_str_to_int = {book_id: i for i, book_id in enumerate(ratings_df['item_id'].unique())}\n",
    "user_str_to_int = {user_id: i for i, user_id in enumerate(ratings_df['user_id'].unique())}\n",
    "\n",
    "ratings_df['item'] = ratings_df['item_id'].map(book_str_to_int).to_numpy()\n",
    "ratings_df['user'] = ratings_df['user_id'].map(user_str_to_int).to_numpy()"
   ]
  },
  {
   "cell_type": "markdown",
   "metadata": {},
   "source": [
    "# Train / Eval Split"
   ]
  },
  {
   "cell_type": "code",
   "execution_count": 6,
   "metadata": {},
   "outputs": [],
   "source": [
    "train_df, eval_df = train_test_split(ratings_df, test_size=0.2, random_state=0)"
   ]
  },
  {
   "cell_type": "code",
   "execution_count": 7,
   "metadata": {},
   "outputs": [],
   "source": [
    "eval_user_mask = eval_df['user'].isin(train_df['user'].unique())\n",
    "eval_item_mask = eval_df['item'].isin(train_df['item'].unique())\n",
    "\n",
    "eval_df = eval_df[eval_user_mask & eval_item_mask]\n",
    "\n",
    "# 'user', 'item' must be the first two columns of the dataframe\n",
    "train_df = train_df[['user', 'item', 'label']]\n",
    "eval_df = eval_df[['user', 'item', 'label']]"
   ]
  },
  {
   "cell_type": "code",
   "execution_count": 8,
   "metadata": {},
   "outputs": [],
   "source": [
    "train_data, data_info = DatasetPure.build_trainset(train_df)\n",
    "eval_data = DatasetPure.build_evalset(eval_df)"
   ]
  },
  {
   "cell_type": "markdown",
   "metadata": {},
   "source": [
    "# Bayesian Personalized Ranking and Wide Deep\n"
   ]
  },
  {
   "cell_type": "code",
   "execution_count": 9,
   "metadata": {},
   "outputs": [],
   "source": [
    "embedding_size = 16\n",
    "n_epochs_bpr = 10\n",
    "n_epochs_wide = 10\n",
    "learning_rate = 0.01\n",
    "batch_size = 256\n",
    "random_seed = 42"
   ]
  },
  {
   "cell_type": "code",
   "execution_count": 10,
   "metadata": {},
   "outputs": [],
   "source": [
    "# init BPR model\n",
    "bpr = BPR(\n",
    "    task=\"ranking\",  \n",
    "    data_info=data_info,\n",
    "    embed_size=embedding_size,  \n",
    "    n_epochs=n_epochs_bpr,  \n",
    "    lr=learning_rate,  \n",
    "    reg=None,  \n",
    "    batch_size=batch_size,  \n",
    "    num_neg=1,  \n",
    "    use_tf=True,  \n",
    "    seed=random_seed\n",
    ")"
   ]
  },
  {
   "cell_type": "code",
   "execution_count": 11,
   "metadata": {},
   "outputs": [],
   "source": [
    "# init the WideDeep model\n",
    "wide_deep = WideDeep(\n",
    "    task=\"ranking\", \n",
    "    data_info=data_info,\n",
    "    embed_size=embedding_size,\n",
    "    n_epochs=n_epochs_wide,\n",
    "    lr={'wide': learning_rate, 'deep': learning_rate/10},\n",
    "    batch_size=batch_size,\n",
    "    use_bn=True, \n",
    "    hidden_units=[64, 32],  \n",
    "    reg=None,  \n",
    "    dropout_rate=None,  \n",
    "    num_neg=1,  \n",
    "    seed=random_seed\n",
    ")"
   ]
  },
  {
   "cell_type": "code",
   "execution_count": 12,
   "metadata": {},
   "outputs": [
    {
     "name": "stdout",
     "output_type": "stream",
     "text": [
      "Training start time: \u001b[35m2024-08-10 17:29:55\u001b[0m\n"
     ]
    },
    {
     "name": "stderr",
     "output_type": "stream",
     "text": [
      "2024-08-10 17:29:55.888409: I tensorflow/compiler/mlir/mlir_graph_optimization_pass.cc:354] MLIR V1 optimization pass is not enabled\n",
      "2024-08-10 17:29:55.896630: W tensorflow/core/platform/profile_utils/cpu_utils.cc:128] Failed to get CPU frequency: 0 Hz\n",
      "train: 100%|██████████| 1356/1356 [00:10<00:00, 131.42it/s]\n"
     ]
    },
    {
     "name": "stdout",
     "output_type": "stream",
     "text": [
      "Epoch 1 elapsed: 10.339s\n",
      "\t \u001b[32mtrain_loss: 0.6237\u001b[0m\n"
     ]
    },
    {
     "name": "stderr",
     "output_type": "stream",
     "text": [
      "eval_listwise: 100%|██████████| 16331/16331 [02:19<00:00, 117.14it/s]\n"
     ]
    },
    {
     "name": "stdout",
     "output_type": "stream",
     "text": [
      "\t eval ndcg@10: 0.0183\n",
      "\t eval precision@10: 0.0037\n",
      "==============================\n"
     ]
    },
    {
     "name": "stderr",
     "output_type": "stream",
     "text": [
      "train: 100%|██████████| 1356/1356 [00:09<00:00, 138.86it/s]\n"
     ]
    },
    {
     "name": "stdout",
     "output_type": "stream",
     "text": [
      "Epoch 2 elapsed: 9.768s\n",
      "\t \u001b[32mtrain_loss: 0.4647\u001b[0m\n"
     ]
    },
    {
     "name": "stderr",
     "output_type": "stream",
     "text": [
      "eval_listwise: 100%|██████████| 16331/16331 [01:19<00:00, 205.16it/s]\n"
     ]
    },
    {
     "name": "stdout",
     "output_type": "stream",
     "text": [
      "\t eval ndcg@10: 0.0141\n",
      "\t eval precision@10: 0.0030\n",
      "==============================\n"
     ]
    },
    {
     "name": "stderr",
     "output_type": "stream",
     "text": [
      "train: 100%|██████████| 1356/1356 [00:09<00:00, 138.54it/s]\n"
     ]
    },
    {
     "name": "stdout",
     "output_type": "stream",
     "text": [
      "Epoch 3 elapsed: 9.794s\n",
      "\t \u001b[32mtrain_loss: 0.229\u001b[0m\n"
     ]
    },
    {
     "name": "stderr",
     "output_type": "stream",
     "text": [
      "eval_listwise: 100%|██████████| 16331/16331 [01:18<00:00, 207.76it/s]\n"
     ]
    },
    {
     "name": "stdout",
     "output_type": "stream",
     "text": [
      "\t eval ndcg@10: 0.0118\n",
      "\t eval precision@10: 0.0025\n",
      "==============================\n"
     ]
    },
    {
     "name": "stderr",
     "output_type": "stream",
     "text": [
      "train: 100%|██████████| 1356/1356 [00:09<00:00, 141.03it/s]\n"
     ]
    },
    {
     "name": "stdout",
     "output_type": "stream",
     "text": [
      "Epoch 4 elapsed: 9.617s\n",
      "\t \u001b[32mtrain_loss: 0.1262\u001b[0m\n"
     ]
    },
    {
     "name": "stderr",
     "output_type": "stream",
     "text": [
      "eval_listwise: 100%|██████████| 16331/16331 [01:06<00:00, 244.72it/s]\n"
     ]
    },
    {
     "name": "stdout",
     "output_type": "stream",
     "text": [
      "\t eval ndcg@10: 0.0108\n",
      "\t eval precision@10: 0.0024\n",
      "==============================\n"
     ]
    },
    {
     "name": "stderr",
     "output_type": "stream",
     "text": [
      "train: 100%|██████████| 1356/1356 [00:14<00:00, 91.00it/s]\n"
     ]
    },
    {
     "name": "stdout",
     "output_type": "stream",
     "text": [
      "Epoch 5 elapsed: 14.904s\n",
      "\t \u001b[32mtrain_loss: 0.0853\u001b[0m\n"
     ]
    },
    {
     "name": "stderr",
     "output_type": "stream",
     "text": [
      "eval_listwise: 100%|██████████| 16331/16331 [01:45<00:00, 155.12it/s]\n"
     ]
    },
    {
     "name": "stdout",
     "output_type": "stream",
     "text": [
      "\t eval ndcg@10: 0.0096\n",
      "\t eval precision@10: 0.0020\n",
      "==============================\n"
     ]
    },
    {
     "name": "stderr",
     "output_type": "stream",
     "text": [
      "train: 100%|██████████| 1356/1356 [00:09<00:00, 138.89it/s]\n"
     ]
    },
    {
     "name": "stdout",
     "output_type": "stream",
     "text": [
      "Epoch 6 elapsed: 9.769s\n",
      "\t \u001b[32mtrain_loss: 0.0663\u001b[0m\n"
     ]
    },
    {
     "name": "stderr",
     "output_type": "stream",
     "text": [
      "eval_listwise: 100%|██████████| 16331/16331 [01:11<00:00, 226.98it/s]\n"
     ]
    },
    {
     "name": "stdout",
     "output_type": "stream",
     "text": [
      "\t eval ndcg@10: 0.0085\n",
      "\t eval precision@10: 0.0018\n",
      "==============================\n"
     ]
    },
    {
     "name": "stderr",
     "output_type": "stream",
     "text": [
      "train: 100%|██████████| 1356/1356 [00:09<00:00, 142.69it/s]\n"
     ]
    },
    {
     "name": "stdout",
     "output_type": "stream",
     "text": [
      "Epoch 7 elapsed: 9.506s\n",
      "\t \u001b[32mtrain_loss: 0.0567\u001b[0m\n"
     ]
    },
    {
     "name": "stderr",
     "output_type": "stream",
     "text": [
      "eval_listwise: 100%|██████████| 16331/16331 [01:11<00:00, 228.70it/s]\n"
     ]
    },
    {
     "name": "stdout",
     "output_type": "stream",
     "text": [
      "\t eval ndcg@10: 0.0095\n",
      "\t eval precision@10: 0.0020\n",
      "==============================\n"
     ]
    },
    {
     "name": "stderr",
     "output_type": "stream",
     "text": [
      "train: 100%|██████████| 1356/1356 [00:09<00:00, 144.93it/s]\n"
     ]
    },
    {
     "name": "stdout",
     "output_type": "stream",
     "text": [
      "Epoch 8 elapsed: 9.359s\n",
      "\t \u001b[32mtrain_loss: 0.0492\u001b[0m\n"
     ]
    },
    {
     "name": "stderr",
     "output_type": "stream",
     "text": [
      "eval_listwise: 100%|██████████| 16331/16331 [01:07<00:00, 240.50it/s]\n"
     ]
    },
    {
     "name": "stdout",
     "output_type": "stream",
     "text": [
      "\t eval ndcg@10: 0.0091\n",
      "\t eval precision@10: 0.0019\n",
      "==============================\n"
     ]
    },
    {
     "name": "stderr",
     "output_type": "stream",
     "text": [
      "train: 100%|██████████| 1356/1356 [00:09<00:00, 142.29it/s]\n"
     ]
    },
    {
     "name": "stdout",
     "output_type": "stream",
     "text": [
      "Epoch 9 elapsed: 9.532s\n",
      "\t \u001b[32mtrain_loss: 0.0449\u001b[0m\n"
     ]
    },
    {
     "name": "stderr",
     "output_type": "stream",
     "text": [
      "eval_listwise: 100%|██████████| 16331/16331 [01:10<00:00, 231.46it/s]\n"
     ]
    },
    {
     "name": "stdout",
     "output_type": "stream",
     "text": [
      "\t eval ndcg@10: 0.0086\n",
      "\t eval precision@10: 0.0018\n",
      "==============================\n"
     ]
    },
    {
     "name": "stderr",
     "output_type": "stream",
     "text": [
      "train: 100%|██████████| 1356/1356 [00:09<00:00, 142.19it/s]\n"
     ]
    },
    {
     "name": "stdout",
     "output_type": "stream",
     "text": [
      "Epoch 10 elapsed: 9.540s\n",
      "\t \u001b[32mtrain_loss: 0.0419\u001b[0m\n"
     ]
    },
    {
     "name": "stderr",
     "output_type": "stream",
     "text": [
      "eval_listwise: 100%|██████████| 16331/16331 [02:43<00:00, 99.64it/s] \n"
     ]
    },
    {
     "name": "stdout",
     "output_type": "stream",
     "text": [
      "\t eval ndcg@10: 0.0082\n",
      "\t eval precision@10: 0.0018\n",
      "==============================\n"
     ]
    }
   ],
   "source": [
    "# train BPR model\n",
    "bpr.fit(\n",
    "    train_data, \n",
    "    neg_sampling=True,\n",
    "    verbose=2, \n",
    "    shuffle=True, \n",
    "    eval_data=eval_data, \n",
    "    metrics=[\"ndcg\", \"precision\"]\n",
    ")"
   ]
  },
  {
   "cell_type": "code",
   "execution_count": 13,
   "metadata": {},
   "outputs": [
    {
     "name": "stdout",
     "output_type": "stream",
     "text": [
      "Training start time: \u001b[35m2024-08-10 17:46:55\u001b[0m\n",
      "WARNING:tensorflow:From /Users/bromanchuk/.venv39/lib/python3.9/site-packages/keras/layers/normalization/batch_normalization.py:562: _colocate_with (from tensorflow.python.framework.ops) is deprecated and will be removed in a future version.\n",
      "Instructions for updating:\n",
      "Colocations handled automatically by placer.\n"
     ]
    },
    {
     "name": "stderr",
     "output_type": "stream",
     "text": [
      "/Users/bromanchuk/.venv39/lib/python3.9/site-packages/libreco/layers/dense.py:31: UserWarning: `tf.layers.batch_normalization` is deprecated and will be removed in a future version. Please use `tf.keras.layers.BatchNormalization` instead. In particular, `tf.control_dependencies(tf.GraphKeys.UPDATE_OPS)` should not be used (consult the `tf.keras.layers.BatchNormalization` documentation).\n",
      "  net = tf.layers.batch_normalization(net, training=is_training)\n",
      "2024-08-10 17:46:55,902 - WARNING - From /Users/bromanchuk/.venv39/lib/python3.9/site-packages/keras/layers/normalization/batch_normalization.py:562: _colocate_with (from tensorflow.python.framework.ops) is deprecated and will be removed in a future version.\n",
      "Instructions for updating:\n",
      "Colocations handled automatically by placer.\n",
      "/Users/bromanchuk/.venv39/lib/python3.9/site-packages/libreco/layers/dense.py:39: UserWarning: `tf.layers.batch_normalization` is deprecated and will be removed in a future version. Please use `tf.keras.layers.BatchNormalization` instead. In particular, `tf.control_dependencies(tf.GraphKeys.UPDATE_OPS)` should not be used (consult the `tf.keras.layers.BatchNormalization` documentation).\n",
      "  net = tf.layers.batch_normalization(net, training=is_training)\n"
     ]
    },
    {
     "name": "stdout",
     "output_type": "stream",
     "text": [
      "total params: \u001b[33m7,663,453\u001b[0m | embedding params: \u001b[33m7,659,131\u001b[0m | network params: \u001b[33m4,322\u001b[0m\n"
     ]
    },
    {
     "name": "stderr",
     "output_type": "stream",
     "text": [
      "train: 100%|██████████| 2711/2711 [00:21<00:00, 125.90it/s]\n"
     ]
    },
    {
     "name": "stdout",
     "output_type": "stream",
     "text": [
      "Epoch 1 elapsed: 21.534s\n",
      "\t \u001b[32mtrain_loss: 0.6343\u001b[0m\n"
     ]
    },
    {
     "name": "stderr",
     "output_type": "stream",
     "text": [
      "eval_listwise: 100%|██████████| 16331/16331 [16:58<00:00, 16.04it/s]\n"
     ]
    },
    {
     "name": "stdout",
     "output_type": "stream",
     "text": [
      "\t eval ndcg@10: 0.0076\n",
      "\t eval precision@10: 0.0018\n",
      "==============================\n"
     ]
    },
    {
     "name": "stderr",
     "output_type": "stream",
     "text": [
      "train: 100%|██████████| 2711/2711 [00:39<00:00, 68.04it/s]\n"
     ]
    },
    {
     "name": "stdout",
     "output_type": "stream",
     "text": [
      "Epoch 2 elapsed: 39.846s\n",
      "\t \u001b[32mtrain_loss: 0.5808\u001b[0m\n"
     ]
    },
    {
     "name": "stderr",
     "output_type": "stream",
     "text": [
      "eval_listwise: 100%|██████████| 16331/16331 [15:32<00:00, 17.52it/s]\n"
     ]
    },
    {
     "name": "stdout",
     "output_type": "stream",
     "text": [
      "\t eval ndcg@10: 0.0077\n",
      "\t eval precision@10: 0.0019\n",
      "==============================\n"
     ]
    },
    {
     "name": "stderr",
     "output_type": "stream",
     "text": [
      "train: 100%|██████████| 2711/2711 [00:20<00:00, 130.90it/s]\n"
     ]
    },
    {
     "name": "stdout",
     "output_type": "stream",
     "text": [
      "Epoch 3 elapsed: 20.711s\n",
      "\t \u001b[32mtrain_loss: 0.4717\u001b[0m\n"
     ]
    },
    {
     "name": "stderr",
     "output_type": "stream",
     "text": [
      "eval_listwise: 100%|██████████| 16331/16331 [11:12<00:00, 24.28it/s]\n"
     ]
    },
    {
     "name": "stdout",
     "output_type": "stream",
     "text": [
      "\t eval ndcg@10: 0.0124\n",
      "\t eval precision@10: 0.0024\n",
      "==============================\n"
     ]
    },
    {
     "name": "stderr",
     "output_type": "stream",
     "text": [
      "train: 100%|██████████| 2711/2711 [00:21<00:00, 125.65it/s]\n"
     ]
    },
    {
     "name": "stdout",
     "output_type": "stream",
     "text": [
      "Epoch 4 elapsed: 21.581s\n",
      "\t \u001b[32mtrain_loss: 0.3346\u001b[0m\n"
     ]
    },
    {
     "name": "stderr",
     "output_type": "stream",
     "text": [
      "eval_listwise: 100%|██████████| 16331/16331 [11:36<00:00, 23.46it/s]\n"
     ]
    },
    {
     "name": "stdout",
     "output_type": "stream",
     "text": [
      "\t eval ndcg@10: 0.0066\n",
      "\t eval precision@10: 0.0014\n",
      "==============================\n"
     ]
    },
    {
     "name": "stderr",
     "output_type": "stream",
     "text": [
      "train: 100%|██████████| 2711/2711 [00:21<00:00, 124.25it/s]\n"
     ]
    },
    {
     "name": "stdout",
     "output_type": "stream",
     "text": [
      "Epoch 5 elapsed: 21.821s\n",
      "\t \u001b[32mtrain_loss: 0.2438\u001b[0m\n"
     ]
    },
    {
     "name": "stderr",
     "output_type": "stream",
     "text": [
      "eval_listwise: 100%|██████████| 16331/16331 [11:34<00:00, 23.51it/s]\n"
     ]
    },
    {
     "name": "stdout",
     "output_type": "stream",
     "text": [
      "\t eval ndcg@10: 0.0055\n",
      "\t eval precision@10: 0.0012\n",
      "==============================\n"
     ]
    },
    {
     "name": "stderr",
     "output_type": "stream",
     "text": [
      "train: 100%|██████████| 2711/2711 [00:21<00:00, 125.90it/s]\n"
     ]
    },
    {
     "name": "stdout",
     "output_type": "stream",
     "text": [
      "Epoch 6 elapsed: 21.534s\n",
      "\t \u001b[32mtrain_loss: 0.1922\u001b[0m\n"
     ]
    },
    {
     "name": "stderr",
     "output_type": "stream",
     "text": [
      "eval_listwise: 100%|██████████| 16331/16331 [11:08<00:00, 24.42it/s]\n"
     ]
    },
    {
     "name": "stdout",
     "output_type": "stream",
     "text": [
      "\t eval ndcg@10: 0.0049\n",
      "\t eval precision@10: 0.0011\n",
      "==============================\n"
     ]
    },
    {
     "name": "stderr",
     "output_type": "stream",
     "text": [
      "train: 100%|██████████| 2711/2711 [00:21<00:00, 124.91it/s]\n"
     ]
    },
    {
     "name": "stdout",
     "output_type": "stream",
     "text": [
      "Epoch 7 elapsed: 21.704s\n",
      "\t \u001b[32mtrain_loss: 0.163\u001b[0m\n"
     ]
    },
    {
     "name": "stderr",
     "output_type": "stream",
     "text": [
      "eval_listwise: 100%|██████████| 16331/16331 [11:35<00:00, 23.48it/s]\n"
     ]
    },
    {
     "name": "stdout",
     "output_type": "stream",
     "text": [
      "\t eval ndcg@10: 0.0054\n",
      "\t eval precision@10: 0.0012\n",
      "==============================\n"
     ]
    },
    {
     "name": "stderr",
     "output_type": "stream",
     "text": [
      "train: 100%|██████████| 2711/2711 [00:21<00:00, 126.68it/s]\n"
     ]
    },
    {
     "name": "stdout",
     "output_type": "stream",
     "text": [
      "Epoch 8 elapsed: 21.402s\n",
      "\t \u001b[32mtrain_loss: 0.1413\u001b[0m\n"
     ]
    },
    {
     "name": "stderr",
     "output_type": "stream",
     "text": [
      "eval_listwise: 100%|██████████| 16331/16331 [11:36<00:00, 23.44it/s]\n"
     ]
    },
    {
     "name": "stdout",
     "output_type": "stream",
     "text": [
      "\t eval ndcg@10: 0.0039\n",
      "\t eval precision@10: 0.0009\n",
      "==============================\n"
     ]
    },
    {
     "name": "stderr",
     "output_type": "stream",
     "text": [
      "train: 100%|██████████| 2711/2711 [00:21<00:00, 126.86it/s]\n"
     ]
    },
    {
     "name": "stdout",
     "output_type": "stream",
     "text": [
      "Epoch 9 elapsed: 21.372s\n",
      "\t \u001b[32mtrain_loss: 0.1277\u001b[0m\n"
     ]
    },
    {
     "name": "stderr",
     "output_type": "stream",
     "text": [
      "eval_listwise: 100%|██████████| 16331/16331 [11:14<00:00, 24.21it/s]\n"
     ]
    },
    {
     "name": "stdout",
     "output_type": "stream",
     "text": [
      "\t eval ndcg@10: 0.0063\n",
      "\t eval precision@10: 0.0013\n",
      "==============================\n"
     ]
    },
    {
     "name": "stderr",
     "output_type": "stream",
     "text": [
      "train: 100%|██████████| 2711/2711 [00:21<00:00, 124.26it/s]\n"
     ]
    },
    {
     "name": "stdout",
     "output_type": "stream",
     "text": [
      "Epoch 10 elapsed: 21.818s\n",
      "\t \u001b[32mtrain_loss: 0.116\u001b[0m\n"
     ]
    },
    {
     "name": "stderr",
     "output_type": "stream",
     "text": [
      "eval_listwise: 100%|██████████| 16331/16331 [11:20<00:00, 23.99it/s]\n"
     ]
    },
    {
     "name": "stdout",
     "output_type": "stream",
     "text": [
      "\t eval ndcg@10: 0.0070\n",
      "\t eval precision@10: 0.0015\n",
      "==============================\n"
     ]
    }
   ],
   "source": [
    "# train WideDeep model\n",
    "wide_deep.fit(\n",
    "    train_data, \n",
    "    neg_sampling=True,\n",
    "    verbose=2, \n",
    "    shuffle=True, \n",
    "    eval_data=eval_data, \n",
    "    metrics=[\"ndcg\", \"precision\"]\n",
    ")"
   ]
  },
  {
   "cell_type": "code",
   "execution_count": 14,
   "metadata": {},
   "outputs": [
    {
     "name": "stderr",
     "output_type": "stream",
     "text": [
      "eval_listwise: 100%|██████████| 16331/16331 [01:09<00:00, 235.18it/s]\n"
     ]
    },
    {
     "name": "stdout",
     "output_type": "stream",
     "text": [
      "Evaluation Results (BPR):\n",
      "{'ndcg': 0.008218662924561774, 'precision': 0.001818627150817464, 'recall': 0.008496358810695952}\n"
     ]
    }
   ],
   "source": [
    "# evaluate the BPR model\n",
    "bpr_eval_result = evaluate(bpr, eval_data, neg_sampling=True, metrics=[\"ndcg\", \"precision\", \"recall\"])\n",
    "print(f\"Evaluation Results (BPR):\\n{bpr_eval_result}\")"
   ]
  },
  {
   "cell_type": "code",
   "execution_count": 15,
   "metadata": {},
   "outputs": [
    {
     "name": "stderr",
     "output_type": "stream",
     "text": [
      "eval_listwise: 100%|██████████| 16331/16331 [30:14<00:00,  9.00it/s]  \n"
     ]
    },
    {
     "name": "stdout",
     "output_type": "stream",
     "text": [
      "Evaluation Results (WideDeep):\n",
      "{'ndcg': 0.00704205306980035, 'precision': 0.0014757210213704, 'recall': 0.0062481205328919365}\n"
     ]
    }
   ],
   "source": [
    "# evaluate the WideDeep model\n",
    "wide_deep_eval_result = evaluate(wide_deep, eval_data, neg_sampling=True, metrics=[\"ndcg\", \"precision\", \"recall\"])\n",
    "print(f\"Evaluation Results (WideDeep):\\n{wide_deep_eval_result}\")"
   ]
  },
  {
   "cell_type": "code",
   "execution_count": 16,
   "metadata": {},
   "outputs": [
    {
     "name": "stdout",
     "output_type": "stream",
     "text": [
      "BPR Prediction for user [44828 13679 67574  5478 50595 44797  9787 67068    64 76536] and item [129010  52858 127059  27618 139955   4218  42336  43591    202   3399]: [0.998423   0.9999753  0.99999416 0.99969935 0.99830866 0.9891834\n",
      " 0.99997854 0.9968299  0.9996921  0.99963665]\n",
      "WideDeep Prediction for user [44828 13679 67574  5478 50595 44797  9787 67068    64 76536] and item [129010  52858 127059  27618 139955   4218  42336  43591    202   3399]: [0.9969753  0.99936503 0.96080226 0.99981624 0.9465156  0.9660195\n",
      " 0.98954964 0.9977005  0.99968636 0.9982249 ]\n"
     ]
    }
   ],
   "source": [
    "user_id = train_df.iloc[:10]['user'].values\n",
    "item_id = train_df.iloc[:10]['item'].values\n",
    "\n",
    "prediction = bpr.predict(user_id, item_id)\n",
    "print(f\"BPR Prediction for user {user_id} and item {item_id}: {prediction}\")\n",
    "prediction = wide_deep.predict(user_id, item_id)\n",
    "print(f\"WideDeep Prediction for user {user_id} and item {item_id}: {prediction}\")"
   ]
  },
  {
   "cell_type": "code",
   "execution_count": 17,
   "metadata": {},
   "outputs": [
    {
     "data": {
      "text/html": [
       "<div>\n",
       "<style scoped>\n",
       "    .dataframe tbody tr th:only-of-type {\n",
       "        vertical-align: middle;\n",
       "    }\n",
       "\n",
       "    .dataframe tbody tr th {\n",
       "        vertical-align: top;\n",
       "    }\n",
       "\n",
       "    .dataframe thead th {\n",
       "        text-align: right;\n",
       "    }\n",
       "</style>\n",
       "<table border=\"1\" class=\"dataframe\">\n",
       "  <thead>\n",
       "    <tr style=\"text-align: right;\">\n",
       "      <th></th>\n",
       "      <th>user</th>\n",
       "      <th>item</th>\n",
       "      <th>label</th>\n",
       "    </tr>\n",
       "  </thead>\n",
       "  <tbody>\n",
       "    <tr>\n",
       "      <th>654197</th>\n",
       "      <td>44828</td>\n",
       "      <td>129010</td>\n",
       "      <td>8</td>\n",
       "    </tr>\n",
       "    <tr>\n",
       "      <th>203372</th>\n",
       "      <td>13679</td>\n",
       "      <td>52858</td>\n",
       "      <td>10</td>\n",
       "    </tr>\n",
       "    <tr>\n",
       "      <th>1000213</th>\n",
       "      <td>67574</td>\n",
       "      <td>127059</td>\n",
       "      <td>10</td>\n",
       "    </tr>\n",
       "    <tr>\n",
       "      <th>84497</th>\n",
       "      <td>5478</td>\n",
       "      <td>27618</td>\n",
       "      <td>8</td>\n",
       "    </tr>\n",
       "    <tr>\n",
       "      <th>740145</th>\n",
       "      <td>50595</td>\n",
       "      <td>139955</td>\n",
       "      <td>6</td>\n",
       "    </tr>\n",
       "    <tr>\n",
       "      <th>652558</th>\n",
       "      <td>44797</td>\n",
       "      <td>4218</td>\n",
       "      <td>5</td>\n",
       "    </tr>\n",
       "    <tr>\n",
       "      <th>145942</th>\n",
       "      <td>9787</td>\n",
       "      <td>42336</td>\n",
       "      <td>8</td>\n",
       "    </tr>\n",
       "    <tr>\n",
       "      <th>991352</th>\n",
       "      <td>67068</td>\n",
       "      <td>43591</td>\n",
       "      <td>8</td>\n",
       "    </tr>\n",
       "    <tr>\n",
       "      <th>413</th>\n",
       "      <td>64</td>\n",
       "      <td>202</td>\n",
       "      <td>10</td>\n",
       "    </tr>\n",
       "    <tr>\n",
       "      <th>1133263</th>\n",
       "      <td>76536</td>\n",
       "      <td>3399</td>\n",
       "      <td>7</td>\n",
       "    </tr>\n",
       "  </tbody>\n",
       "</table>\n",
       "</div>"
      ],
      "text/plain": [
       "          user    item  label\n",
       "654197   44828  129010      8\n",
       "203372   13679   52858     10\n",
       "1000213  67574  127059     10\n",
       "84497     5478   27618      8\n",
       "740145   50595  139955      6\n",
       "652558   44797    4218      5\n",
       "145942    9787   42336      8\n",
       "991352   67068   43591      8\n",
       "413         64     202     10\n",
       "1133263  76536    3399      7"
      ]
     },
     "execution_count": 17,
     "metadata": {},
     "output_type": "execute_result"
    }
   ],
   "source": [
    "train_df.iloc[:10]"
   ]
  },
  {
   "cell_type": "code",
   "execution_count": null,
   "metadata": {},
   "outputs": [],
   "source": []
  }
 ],
 "metadata": {
  "kernelspec": {
   "display_name": ".venv39",
   "language": "python",
   "name": "python3"
  },
  "language_info": {
   "codemirror_mode": {
    "name": "ipython",
    "version": 3
   },
   "file_extension": ".py",
   "mimetype": "text/x-python",
   "name": "python",
   "nbconvert_exporter": "python",
   "pygments_lexer": "ipython3",
   "version": "3.9.16"
  }
 },
 "nbformat": 4,
 "nbformat_minor": 2
}
