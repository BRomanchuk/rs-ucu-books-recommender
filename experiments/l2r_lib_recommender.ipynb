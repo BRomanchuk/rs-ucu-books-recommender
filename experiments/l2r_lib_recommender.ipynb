{
 "cells": [
  {
   "cell_type": "code",
   "execution_count": 1,
   "metadata": {},
   "outputs": [
    {
     "name": "stdout",
     "output_type": "stream",
     "text": [
      "WARNING:tensorflow:From /Users/bromanchuk/.venv39/lib/python3.9/site-packages/tensorflow/python/compat/v2_compat.py:98: disable_resource_variables (from tensorflow.python.ops.resource_variables_toggle) is deprecated and will be removed in a future version.\n",
      "Instructions for updating:\n",
      "non-resource variables are not supported in the long term\n"
     ]
    }
   ],
   "source": [
    "import numpy as np\n",
    "import pandas as pd\n",
    "\n",
    "from libreco.data import DatasetPure\n",
    "from libreco.algorithms import BPR\n",
    "from libreco.evaluation import evaluate\n",
    "\n",
    "from sklearn.model_selection import train_test_split"
   ]
  },
  {
   "cell_type": "code",
   "execution_count": 2,
   "metadata": {},
   "outputs": [
    {
     "name": "stderr",
     "output_type": "stream",
     "text": [
      "/var/folders/s0/4m_t_82936ggv17n0g0t7_dr0000gn/T/ipykernel_18292/4047143737.py:3: DtypeWarning: Columns (0) have mixed types. Specify dtype option on import or set low_memory=False.\n",
      "  users_df = pd.read_csv('../data/Users.csv', delimiter=';')\n"
     ]
    }
   ],
   "source": [
    "books_df = pd.read_csv('../data/Books.csv', delimiter=';', low_memory=False)\n",
    "ratings_df = pd.read_csv('../data/Ratings.csv', delimiter=';')\n",
    "users_df = pd.read_csv('../data/Users.csv', delimiter=';')"
   ]
  },
  {
   "cell_type": "code",
   "execution_count": 3,
   "metadata": {},
   "outputs": [],
   "source": [
    "ratings_df.columns = ['user_id', 'item_id', 'label']"
   ]
  },
  {
   "cell_type": "code",
   "execution_count": 4,
   "metadata": {},
   "outputs": [],
   "source": [
    "ratings_df = ratings_df[ratings_df['label'] != 0]"
   ]
  },
  {
   "cell_type": "code",
   "execution_count": 5,
   "metadata": {},
   "outputs": [],
   "source": [
    "book_str_to_int = {book_id: i for i, book_id in enumerate(ratings_df['item_id'].unique())}\n",
    "user_str_to_int = {user_id: i for i, user_id in enumerate(ratings_df['user_id'].unique())}\n",
    "\n",
    "ratings_df['item'] = ratings_df['item_id'].map(book_str_to_int).to_numpy()\n",
    "ratings_df['user'] = ratings_df['user_id'].map(user_str_to_int).to_numpy()\n",
    "\n"
   ]
  },
  {
   "cell_type": "code",
   "execution_count": 6,
   "metadata": {},
   "outputs": [],
   "source": [
    "train_df, eval_df = train_test_split(ratings_df, test_size=0.2, random_state=0)"
   ]
  },
  {
   "cell_type": "code",
   "execution_count": 10,
   "metadata": {},
   "outputs": [],
   "source": [
    "eval_user_mask = eval_df['user'].isin(train_df['user'].unique())\n",
    "eval_item_mask = eval_df['item'].isin(train_df['item'].unique())\n",
    "\n",
    "eval_df = eval_df[eval_user_mask & eval_item_mask]\n",
    "\n",
    "# 'user', 'item' must be the first two columns of the dataframe\n",
    "train_df = train_df[['user', 'item', 'label']]\n",
    "eval_df = eval_df[['user', 'item', 'label']]"
   ]
  },
  {
   "cell_type": "code",
   "execution_count": 11,
   "metadata": {},
   "outputs": [
    {
     "data": {
      "text/plain": [
       "(51413, 3)"
      ]
     },
     "execution_count": 11,
     "metadata": {},
     "output_type": "execute_result"
    }
   ],
   "source": [
    "eval_df.shape"
   ]
  },
  {
   "cell_type": "code",
   "execution_count": 12,
   "metadata": {},
   "outputs": [],
   "source": [
    "\n",
    "# Step 2: Prepare the dataset for LibRecommender\n",
    "train_data, data_info = DatasetPure.build_trainset(train_df)\n",
    "eval_data = DatasetPure.build_evalset(eval_df)\n",
    "\n"
   ]
  },
  {
   "cell_type": "code",
   "execution_count": 14,
   "metadata": {},
   "outputs": [],
   "source": [
    "\n",
    "# Step 3: Initialize the BPR model\n",
    "model = BPR(task=\"ranking\",  # This specifies that we're performing a ranking task\n",
    "            data_info=data_info,\n",
    "            embed_size=16,  # Size of the embedding vectors\n",
    "            n_epochs=10,  # Number of training epochs\n",
    "            lr=0.01,  # Learning rate\n",
    "            reg=None,  # Regularization parameter, can be tuned\n",
    "            batch_size=256,  # Batch size for training\n",
    "            num_neg=1,  # Number of negative samples per positive sample\n",
    "            use_tf=True,  # Whether to use TensorFlow backend\n",
    "            seed=42)"
   ]
  },
  {
   "cell_type": "code",
   "execution_count": 15,
   "metadata": {},
   "outputs": [
    {
     "name": "stderr",
     "output_type": "stream",
     "text": [
      "2024-08-09 22:58:05.144491: I tensorflow/compiler/mlir/mlir_graph_optimization_pass.cc:388] MLIR V1 optimization pass is not enabled\n"
     ]
    },
    {
     "name": "stdout",
     "output_type": "stream",
     "text": [
      "Training start time: \u001b[35m2024-08-09 22:58:05\u001b[0m\n"
     ]
    },
    {
     "name": "stderr",
     "output_type": "stream",
     "text": [
      "train: 100%|██████████| 1356/1356 [00:11<00:00, 122.15it/s]\n"
     ]
    },
    {
     "name": "stdout",
     "output_type": "stream",
     "text": [
      "Epoch 1 elapsed: 11.118s\n",
      "\t \u001b[32mtrain_loss: 0.6237\u001b[0m\n"
     ]
    },
    {
     "name": "stderr",
     "output_type": "stream",
     "text": [
      "eval_listwise: 100%|██████████| 16331/16331 [01:16<00:00, 213.15it/s]\n"
     ]
    },
    {
     "name": "stdout",
     "output_type": "stream",
     "text": [
      "\t eval ndcg@10: 0.0183\n",
      "\t eval precision@10: 0.0037\n",
      "==============================\n"
     ]
    },
    {
     "name": "stderr",
     "output_type": "stream",
     "text": [
      "train: 100%|██████████| 1356/1356 [00:09<00:00, 136.70it/s]\n"
     ]
    },
    {
     "name": "stdout",
     "output_type": "stream",
     "text": [
      "Epoch 2 elapsed: 9.922s\n",
      "\t \u001b[32mtrain_loss: 0.4647\u001b[0m\n"
     ]
    },
    {
     "name": "stderr",
     "output_type": "stream",
     "text": [
      "eval_listwise: 100%|██████████| 16331/16331 [01:08<00:00, 238.91it/s]\n"
     ]
    },
    {
     "name": "stdout",
     "output_type": "stream",
     "text": [
      "\t eval ndcg@10: 0.0141\n",
      "\t eval precision@10: 0.0030\n",
      "==============================\n"
     ]
    },
    {
     "name": "stderr",
     "output_type": "stream",
     "text": [
      "train: 100%|██████████| 1356/1356 [00:09<00:00, 137.78it/s]\n"
     ]
    },
    {
     "name": "stdout",
     "output_type": "stream",
     "text": [
      "Epoch 3 elapsed: 9.844s\n",
      "\t \u001b[32mtrain_loss: 0.229\u001b[0m\n"
     ]
    },
    {
     "name": "stderr",
     "output_type": "stream",
     "text": [
      "eval_listwise: 100%|██████████| 16331/16331 [01:06<00:00, 246.64it/s]\n"
     ]
    },
    {
     "name": "stdout",
     "output_type": "stream",
     "text": [
      "\t eval ndcg@10: 0.0118\n",
      "\t eval precision@10: 0.0025\n",
      "==============================\n"
     ]
    },
    {
     "name": "stderr",
     "output_type": "stream",
     "text": [
      "train: 100%|██████████| 1356/1356 [00:10<00:00, 135.31it/s]\n"
     ]
    },
    {
     "name": "stdout",
     "output_type": "stream",
     "text": [
      "Epoch 4 elapsed: 10.024s\n",
      "\t \u001b[32mtrain_loss: 0.1262\u001b[0m\n"
     ]
    },
    {
     "name": "stderr",
     "output_type": "stream",
     "text": [
      "eval_listwise: 100%|██████████| 16331/16331 [01:06<00:00, 246.29it/s]\n"
     ]
    },
    {
     "name": "stdout",
     "output_type": "stream",
     "text": [
      "\t eval ndcg@10: 0.0108\n",
      "\t eval precision@10: 0.0024\n",
      "==============================\n"
     ]
    },
    {
     "name": "stderr",
     "output_type": "stream",
     "text": [
      "train: 100%|██████████| 1356/1356 [00:09<00:00, 136.66it/s]\n"
     ]
    },
    {
     "name": "stdout",
     "output_type": "stream",
     "text": [
      "Epoch 5 elapsed: 9.936s\n",
      "\t \u001b[32mtrain_loss: 0.0853\u001b[0m\n"
     ]
    },
    {
     "name": "stderr",
     "output_type": "stream",
     "text": [
      "eval_listwise: 100%|██████████| 16331/16331 [01:04<00:00, 255.13it/s]\n"
     ]
    },
    {
     "name": "stdout",
     "output_type": "stream",
     "text": [
      "\t eval ndcg@10: 0.0096\n",
      "\t eval precision@10: 0.0020\n",
      "==============================\n"
     ]
    },
    {
     "name": "stderr",
     "output_type": "stream",
     "text": [
      "train: 100%|██████████| 1356/1356 [00:10<00:00, 134.49it/s]\n"
     ]
    },
    {
     "name": "stdout",
     "output_type": "stream",
     "text": [
      "Epoch 6 elapsed: 10.087s\n",
      "\t \u001b[32mtrain_loss: 0.0663\u001b[0m\n"
     ]
    },
    {
     "name": "stderr",
     "output_type": "stream",
     "text": [
      "eval_listwise: 100%|██████████| 16331/16331 [01:09<00:00, 235.79it/s]\n"
     ]
    },
    {
     "name": "stdout",
     "output_type": "stream",
     "text": [
      "\t eval ndcg@10: 0.0085\n",
      "\t eval precision@10: 0.0018\n",
      "==============================\n"
     ]
    },
    {
     "name": "stderr",
     "output_type": "stream",
     "text": [
      "train: 100%|██████████| 1356/1356 [00:10<00:00, 132.13it/s]\n"
     ]
    },
    {
     "name": "stdout",
     "output_type": "stream",
     "text": [
      "Epoch 7 elapsed: 10.265s\n",
      "\t \u001b[32mtrain_loss: 0.0567\u001b[0m\n"
     ]
    },
    {
     "name": "stderr",
     "output_type": "stream",
     "text": [
      "eval_listwise: 100%|██████████| 16331/16331 [01:14<00:00, 219.83it/s]\n"
     ]
    },
    {
     "name": "stdout",
     "output_type": "stream",
     "text": [
      "\t eval ndcg@10: 0.0095\n",
      "\t eval precision@10: 0.0020\n",
      "==============================\n"
     ]
    },
    {
     "name": "stderr",
     "output_type": "stream",
     "text": [
      "train: 100%|██████████| 1356/1356 [00:10<00:00, 132.24it/s]\n"
     ]
    },
    {
     "name": "stdout",
     "output_type": "stream",
     "text": [
      "Epoch 8 elapsed: 10.257s\n",
      "\t \u001b[32mtrain_loss: 0.0492\u001b[0m\n"
     ]
    },
    {
     "name": "stderr",
     "output_type": "stream",
     "text": [
      "eval_listwise: 100%|██████████| 16331/16331 [01:17<00:00, 210.37it/s]\n"
     ]
    },
    {
     "name": "stdout",
     "output_type": "stream",
     "text": [
      "\t eval ndcg@10: 0.0091\n",
      "\t eval precision@10: 0.0019\n",
      "==============================\n"
     ]
    },
    {
     "name": "stderr",
     "output_type": "stream",
     "text": [
      "train: 100%|██████████| 1356/1356 [00:10<00:00, 130.32it/s]\n"
     ]
    },
    {
     "name": "stdout",
     "output_type": "stream",
     "text": [
      "Epoch 9 elapsed: 10.408s\n",
      "\t \u001b[32mtrain_loss: 0.0449\u001b[0m\n"
     ]
    },
    {
     "name": "stderr",
     "output_type": "stream",
     "text": [
      "eval_listwise: 100%|██████████| 16331/16331 [01:24<00:00, 192.55it/s]\n"
     ]
    },
    {
     "name": "stdout",
     "output_type": "stream",
     "text": [
      "\t eval ndcg@10: 0.0086\n",
      "\t eval precision@10: 0.0018\n",
      "==============================\n"
     ]
    },
    {
     "name": "stderr",
     "output_type": "stream",
     "text": [
      "train: 100%|██████████| 1356/1356 [00:10<00:00, 129.23it/s]\n"
     ]
    },
    {
     "name": "stdout",
     "output_type": "stream",
     "text": [
      "Epoch 10 elapsed: 10.500s\n",
      "\t \u001b[32mtrain_loss: 0.0419\u001b[0m\n"
     ]
    },
    {
     "name": "stderr",
     "output_type": "stream",
     "text": [
      "eval_listwise: 100%|██████████| 16331/16331 [01:29<00:00, 182.61it/s]\n"
     ]
    },
    {
     "name": "stdout",
     "output_type": "stream",
     "text": [
      "\t eval ndcg@10: 0.0082\n",
      "\t eval precision@10: 0.0018\n",
      "==============================\n"
     ]
    }
   ],
   "source": [
    "# Step 4: Train the model\n",
    "model.fit(\n",
    "    train_data, \n",
    "    neg_sampling=True,\n",
    "    verbose=2, \n",
    "    shuffle=True, \n",
    "    eval_data=eval_data, \n",
    "    metrics=[\"ndcg\", \"precision\"]\n",
    ")\n"
   ]
  },
  {
   "cell_type": "code",
   "execution_count": 16,
   "metadata": {},
   "outputs": [
    {
     "name": "stderr",
     "output_type": "stream",
     "text": [
      "eval_listwise: 100%|██████████| 16331/16331 [00:57<00:00, 282.05it/s]\n"
     ]
    },
    {
     "name": "stdout",
     "output_type": "stream",
     "text": [
      "Evaluation Results:\n",
      "{'ndcg': 0.008218662924561774, 'precision': 0.001818627150817464, 'recall': 0.008496358810695952}\n"
     ]
    }
   ],
   "source": [
    "# Step 5: Evaluate the model\n",
    "eval_result = evaluate(model, eval_data, neg_sampling=True, metrics=[\"ndcg\", \"precision\", \"recall\"])\n",
    "print(f\"Evaluation Results:\\n{eval_result}\")"
   ]
  },
  {
   "cell_type": "code",
   "execution_count": 17,
   "metadata": {},
   "outputs": [
    {
     "name": "stdout",
     "output_type": "stream",
     "text": [
      "Prediction for user [44828 13679 67574  5478 50595 44797  9787 67068    64 76536] and item [129010  52858 127059  27618 139955   4218  42336  43591    202   3399]: [0.998423   0.9999753  0.99999416 0.99969935 0.99830866 0.9891834\n",
      " 0.99997854 0.9968299  0.9996921  0.99963665]\n"
     ]
    }
   ],
   "source": [
    "user_id = train_df.iloc[:10]['user'].values\n",
    "item_id = train_df.iloc[:10]['item'].values\n",
    "prediction = model.predict(user_id, item_id)\n",
    "print(f\"Prediction for user {user_id} and item {item_id}: {prediction}\")"
   ]
  },
  {
   "cell_type": "code",
   "execution_count": null,
   "metadata": {},
   "outputs": [],
   "source": []
  }
 ],
 "metadata": {
  "kernelspec": {
   "display_name": ".venv39",
   "language": "python",
   "name": "python3"
  },
  "language_info": {
   "codemirror_mode": {
    "name": "ipython",
    "version": 3
   },
   "file_extension": ".py",
   "mimetype": "text/x-python",
   "name": "python",
   "nbconvert_exporter": "python",
   "pygments_lexer": "ipython3",
   "version": "3.9.16"
  }
 },
 "nbformat": 4,
 "nbformat_minor": 2
}
