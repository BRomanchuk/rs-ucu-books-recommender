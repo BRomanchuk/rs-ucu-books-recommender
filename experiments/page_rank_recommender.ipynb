{
 "cells": [
  {
   "cell_type": "code",
   "execution_count": 19,
   "metadata": {},
   "outputs": [],
   "source": [
    "import numpy as np\n",
    "import pandas as pd\n",
    "import networkx as nx\n",
    "\n",
    "from tqdm import tqdm"
   ]
  },
  {
   "cell_type": "markdown",
   "metadata": {},
   "source": [
    "# Load the data"
   ]
  },
  {
   "cell_type": "code",
   "execution_count": 2,
   "metadata": {},
   "outputs": [],
   "source": [
    "ratings_df = pd.read_csv('../data/Ratings.csv', delimiter=';')"
   ]
  },
  {
   "cell_type": "markdown",
   "metadata": {},
   "source": [
    "# Preprocess data"
   ]
  },
  {
   "cell_type": "code",
   "execution_count": 3,
   "metadata": {},
   "outputs": [],
   "source": [
    "# filter users and books with less than 5 interactions\n",
    "user_threshold = 5\n",
    "book_threshold = 5\n",
    "\n",
    "user_counts = ratings_df['User-ID'].value_counts()\n",
    "book_counts = ratings_df['ISBN'].value_counts()\n",
    "\n",
    "filtered_users = user_counts[user_counts >= user_threshold].index\n",
    "filtered_books = book_counts[book_counts >= book_threshold].index\n",
    "\n",
    "user_mask = ratings_df['User-ID'].isin(filtered_users)\n",
    "book_mask = ratings_df['ISBN'].isin(filtered_books)\n",
    "\n",
    "ratings_df = ratings_df[user_mask & book_mask]"
   ]
  },
  {
   "cell_type": "markdown",
   "metadata": {},
   "source": [
    "# Init the bipartite graph\n",
    "\n",
    "Let $G (V, E)$ be a bipartite graph with vertices $V = V_I \\sqcup V_U$, where \n",
    "\n",
    "- $V_I$ is the set of nodes corresponding to books, \n",
    "- $V_U$ is the set of nodes corresponding to users,\n",
    "\n",
    "and edge set $E = \\left\\{ ui \\ | \\ R(u, i); u \\in V_U, i \\in V_I\\right\\}$, where $R(u, i)$ is 1 if user $u$ has rated book $i$, and 0 otherwise."
   ]
  },
  {
   "cell_type": "code",
   "execution_count": 20,
   "metadata": {},
   "outputs": [],
   "source": [
    "# init a graph\n",
    "G = nx.Graph()\n",
    "\n",
    "# form a bipartite graph with users and books being the two partitions\n",
    "G.add_nodes_from(filtered_users, bipartite=0)\n",
    "G.add_nodes_from(filtered_books, bipartite=1)\n",
    "\n",
    "# add edges between users and books based on interactions\n",
    "edges = list(ratings_df[['User-ID', 'ISBN']].itertuples(index=False, name=None))\n",
    "G.add_edges_from(edges)"
   ]
  },
  {
   "cell_type": "markdown",
   "metadata": {},
   "source": [
    "# PageRank Algorithm"
   ]
  },
  {
   "cell_type": "markdown",
   "metadata": {},
   "source": [
    "The Page Rank score for a vertex $v_i$ is iteratively calculated as follows:\n",
    "$$\n",
    "r(v_i) = \\frac{1 - \\alpha}{|V|} + \\alpha \\sum_{v_j \\in N^-(v_i)} \\frac{r(v_j)}{d^+(v_j)}\n",
    "$$\n",
    "where:\n",
    "- $|V|$ is the number fo vertices in a graph\n",
    "- $N^-(v)$ is the in-neighborhood of a vertex $v$ (a set of vertices that have outgoing edge to $v$)\n",
    "- $d^+(v)$ is the out-degree of a vertex $v$ (number of vertices that can be reached from $v$ in one step)\n",
    "- $\\alpha$ is a weight of pure PageRank score (\"damping factor\")"
   ]
  },
  {
   "cell_type": "code",
   "execution_count": 40,
   "metadata": {},
   "outputs": [],
   "source": [
    "def pagerank(G, alpha=0.85, max_iter=100, tol=1e-06):\n",
    "\n",
    "    nodes = G.nodes()\n",
    "    N = len(nodes)\n",
    "\n",
    "    # init the PageRank dict with equal ranks\n",
    "    pagerank = {node: 1 / N for node in nodes}\n",
    "\n",
    "    for i in tqdm(range(max_iter)):\n",
    "        prev_pagerank = pagerank.copy()\n",
    "        for node in nodes:\n",
    "            rank_sum = 0\n",
    "            for neighbor in G.neighbors(node):\n",
    "                n_neighbors = len(list(G.neighbors(neighbor)))\n",
    "                rank_sum += prev_pagerank[neighbor] / n_neighbors\n",
    "            pagerank[node] = (1 - alpha) / N + alpha * rank_sum\n",
    "\n",
    "        # get absolute differences between ranks and check for convergence\n",
    "        rank_diffs = np.array([\n",
    "            np.abs(pagerank[node] - prev_pagerank[node]) for node in nodes\n",
    "        ])\n",
    "        if rank_diffs.sum() < tol:\n",
    "            break\n",
    "\n",
    "    return pagerank\n"
   ]
  },
  {
   "cell_type": "markdown",
   "metadata": {},
   "source": [
    "# Calculate PageRank scores"
   ]
  },
  {
   "cell_type": "code",
   "execution_count": 30,
   "metadata": {},
   "outputs": [
    {
     "name": "stderr",
     "output_type": "stream",
     "text": [
      " 82%|████████▏ | 82/100 [06:12<01:21,  4.54s/it]\n"
     ]
    }
   ],
   "source": [
    "# Calculate PageRank\n",
    "pr = pagerank(G)"
   ]
  },
  {
   "cell_type": "code",
   "execution_count": 37,
   "metadata": {},
   "outputs": [],
   "source": [
    "pr_df = pd.DataFrame(list(pr.items()), columns=['node', 'pagerank'])"
   ]
  },
  {
   "cell_type": "code",
   "execution_count": 38,
   "metadata": {},
   "outputs": [],
   "source": [
    "user_pr_mask = pr_df['node'].isin(filtered_users)\n",
    "\n",
    "user_pr = pr_df[user_pr_mask].sort_values('pagerank', ascending=False)\n",
    "book_pr = pr_df[~user_pr_mask].sort_values('pagerank', ascending=False)"
   ]
  },
  {
   "cell_type": "code",
   "execution_count": 39,
   "metadata": {},
   "outputs": [
    {
     "data": {
      "text/html": [
       "<div>\n",
       "<style scoped>\n",
       "    .dataframe tbody tr th:only-of-type {\n",
       "        vertical-align: middle;\n",
       "    }\n",
       "\n",
       "    .dataframe tbody tr th {\n",
       "        vertical-align: top;\n",
       "    }\n",
       "\n",
       "    .dataframe thead th {\n",
       "        text-align: right;\n",
       "    }\n",
       "</style>\n",
       "<table border=\"1\" class=\"dataframe\">\n",
       "  <thead>\n",
       "    <tr style=\"text-align: right;\">\n",
       "      <th></th>\n",
       "      <th>node</th>\n",
       "      <th>pagerank</th>\n",
       "    </tr>\n",
       "  </thead>\n",
       "  <tbody>\n",
       "    <tr>\n",
       "      <th>22816</th>\n",
       "      <td>0971880107</td>\n",
       "      <td>0.001372</td>\n",
       "    </tr>\n",
       "    <tr>\n",
       "      <th>22817</th>\n",
       "      <td>0316666343</td>\n",
       "      <td>0.000648</td>\n",
       "    </tr>\n",
       "    <tr>\n",
       "      <th>22818</th>\n",
       "      <td>0385504209</td>\n",
       "      <td>0.000477</td>\n",
       "    </tr>\n",
       "    <tr>\n",
       "      <th>22819</th>\n",
       "      <td>0060928336</td>\n",
       "      <td>0.000384</td>\n",
       "    </tr>\n",
       "    <tr>\n",
       "      <th>22820</th>\n",
       "      <td>0312195516</td>\n",
       "      <td>0.000357</td>\n",
       "    </tr>\n",
       "    <tr>\n",
       "      <th>22827</th>\n",
       "      <td>059035342X</td>\n",
       "      <td>0.000325</td>\n",
       "    </tr>\n",
       "    <tr>\n",
       "      <th>22823</th>\n",
       "      <td>0142001740</td>\n",
       "      <td>0.000324</td>\n",
       "    </tr>\n",
       "    <tr>\n",
       "      <th>22822</th>\n",
       "      <td>0679781587</td>\n",
       "      <td>0.000322</td>\n",
       "    </tr>\n",
       "    <tr>\n",
       "      <th>22824</th>\n",
       "      <td>067976402X</td>\n",
       "      <td>0.000319</td>\n",
       "    </tr>\n",
       "    <tr>\n",
       "      <th>22825</th>\n",
       "      <td>0671027360</td>\n",
       "      <td>0.000319</td>\n",
       "    </tr>\n",
       "  </tbody>\n",
       "</table>\n",
       "</div>"
      ],
      "text/plain": [
       "             node  pagerank\n",
       "22816  0971880107  0.001372\n",
       "22817  0316666343  0.000648\n",
       "22818  0385504209  0.000477\n",
       "22819  0060928336  0.000384\n",
       "22820  0312195516  0.000357\n",
       "22827  059035342X  0.000325\n",
       "22823  0142001740  0.000324\n",
       "22822  0679781587  0.000322\n",
       "22824  067976402X  0.000319\n",
       "22825  0671027360  0.000319"
      ]
     },
     "execution_count": 39,
     "metadata": {},
     "output_type": "execute_result"
    }
   ],
   "source": [
    "book_pr.head(10)"
   ]
  },
  {
   "cell_type": "code",
   "execution_count": null,
   "metadata": {},
   "outputs": [],
   "source": []
  }
 ],
 "metadata": {
  "kernelspec": {
   "display_name": ".venv39",
   "language": "python",
   "name": ".venv39"
  },
  "language_info": {
   "codemirror_mode": {
    "name": "ipython",
    "version": 3
   },
   "file_extension": ".py",
   "mimetype": "text/x-python",
   "name": "python",
   "nbconvert_exporter": "python",
   "pygments_lexer": "ipython3",
   "version": "3.9.16"
  }
 },
 "nbformat": 4,
 "nbformat_minor": 2
}
