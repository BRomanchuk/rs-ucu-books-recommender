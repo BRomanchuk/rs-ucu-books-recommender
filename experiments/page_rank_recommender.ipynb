{
 "cells": [
  {
   "cell_type": "code",
   "execution_count": 1,
   "metadata": {},
   "outputs": [],
   "source": [
    "import numpy as np\n",
    "import pandas as pd\n",
    "import networkx as nx\n",
    "\n",
    "from tqdm import tqdm"
   ]
  },
  {
   "cell_type": "markdown",
   "metadata": {},
   "source": [
    "# Load the data"
   ]
  },
  {
   "cell_type": "code",
   "execution_count": 2,
   "metadata": {},
   "outputs": [],
   "source": [
    "ratings_df = pd.read_csv('../data/Ratings.csv', delimiter=';')"
   ]
  },
  {
   "cell_type": "code",
   "execution_count": 3,
   "metadata": {},
   "outputs": [],
   "source": [
    "books_df = pd.read_csv('../data/Books.csv', delimiter=';')"
   ]
  },
  {
   "cell_type": "markdown",
   "metadata": {},
   "source": [
    "# Preprocess data"
   ]
  },
  {
   "cell_type": "code",
   "execution_count": 4,
   "metadata": {},
   "outputs": [],
   "source": [
    "# filter users and books with less than 5 interactions\n",
    "user_threshold = 5\n",
    "book_threshold = 5\n",
    "\n",
    "user_counts = ratings_df['User-ID'].value_counts()\n",
    "book_counts = ratings_df['ISBN'].value_counts()\n",
    "\n",
    "filtered_users = user_counts[user_counts >= user_threshold].index\n",
    "filtered_books = book_counts[book_counts >= book_threshold].index\n",
    "\n",
    "user_mask = ratings_df['User-ID'].isin(filtered_users)\n",
    "book_mask = ratings_df['ISBN'].isin(filtered_books)\n",
    "\n",
    "ratings_df = ratings_df[user_mask & book_mask]"
   ]
  },
  {
   "cell_type": "markdown",
   "metadata": {},
   "source": [
    "# Init the bipartite graph\n",
    "\n",
    "Let $G (V, E)$ be a bipartite graph with vertices $V = V_I \\sqcup V_U$, where \n",
    "\n",
    "- $V_I$ is the set of nodes corresponding to books, \n",
    "- $V_U$ is the set of nodes corresponding to users,\n",
    "\n",
    "and edge set $E = \\left\\{ ui \\ | \\ R(u, i); u \\in V_U, i \\in V_I\\right\\}$, where $R(u, i)$ is 1 if user $u$ has rated book $i$, and 0 otherwise."
   ]
  },
  {
   "cell_type": "code",
   "execution_count": 5,
   "metadata": {},
   "outputs": [],
   "source": [
    "# init a graph\n",
    "G = nx.Graph()\n",
    "\n",
    "# form a bipartite graph with users and books being the two partitions\n",
    "G.add_nodes_from(filtered_users, bipartite=0)\n",
    "G.add_nodes_from(filtered_books, bipartite=1)\n",
    "\n",
    "# add edges between users and books based on interactions\n",
    "edges = list(ratings_df[['User-ID', 'ISBN']].itertuples(index=False, name=None))\n",
    "G.add_edges_from(edges)"
   ]
  },
  {
   "cell_type": "markdown",
   "metadata": {},
   "source": [
    "# PageRank Algorithm"
   ]
  },
  {
   "cell_type": "markdown",
   "metadata": {},
   "source": [
    "The Page Rank score for a vertex $v_i$ is iteratively calculated as follows:\n",
    "$$\n",
    "r(v_i) = \\frac{1 - \\alpha}{|V|} + \\alpha \\sum_{v_j \\in N^-(v_i)} \\frac{r(v_j)}{d^+(v_j)}\n",
    "$$\n",
    "where:\n",
    "- $|V|$ is the number fo vertices in a graph\n",
    "- $N^-(v)$ is the in-neighborhood of a vertex $v$ (a set of vertices that have outgoing edge to $v$)\n",
    "- $d^+(v)$ is the out-degree of a vertex $v$ (number of vertices that can be reached from $v$ in one step)\n",
    "- $\\alpha$ is a weight of pure PageRank score (\"damping factor\")"
   ]
  },
  {
   "cell_type": "code",
   "execution_count": 6,
   "metadata": {},
   "outputs": [],
   "source": [
    "def pagerank(G, alpha=0.5, max_iter=100, tol=1e-06):\n",
    "\n",
    "    nodes = G.nodes()\n",
    "    N = len(nodes)\n",
    "\n",
    "    # init the PageRank dict with equal ranks\n",
    "    pagerank = {node: 1 / N for node in nodes}\n",
    "\n",
    "    for i in tqdm(range(max_iter)):\n",
    "        prev_pagerank = pagerank.copy()\n",
    "        for node in nodes:\n",
    "            rank_sum = 0\n",
    "            for neighbor in G.neighbors(node):\n",
    "                n_neighbors = len(list(G.neighbors(neighbor)))\n",
    "                rank_sum += prev_pagerank[neighbor] / n_neighbors\n",
    "            pagerank[node] = (1 - alpha) / N + alpha * rank_sum\n",
    "\n",
    "        # get absolute differences between ranks and check for convergence\n",
    "        rank_diffs = np.array([\n",
    "            np.abs(pagerank[node] - prev_pagerank[node]) for node in nodes\n",
    "        ])\n",
    "        if rank_diffs.sum() < tol:\n",
    "            break\n",
    "\n",
    "    return pagerank\n"
   ]
  },
  {
   "cell_type": "markdown",
   "metadata": {},
   "source": [
    "# Calculate PageRank scores"
   ]
  },
  {
   "cell_type": "code",
   "execution_count": 7,
   "metadata": {},
   "outputs": [
    {
     "name": "stderr",
     "output_type": "stream",
     "text": [
      " 19%|█▉        | 19/100 [01:13<05:12,  3.86s/it]\n"
     ]
    }
   ],
   "source": [
    "# Calculate PageRank\n",
    "pr = pagerank(G)"
   ]
  },
  {
   "cell_type": "code",
   "execution_count": 8,
   "metadata": {},
   "outputs": [],
   "source": [
    "pr_df = pd.DataFrame(list(pr.items()), columns=['node', 'pagerank'])"
   ]
  },
  {
   "cell_type": "code",
   "execution_count": 9,
   "metadata": {},
   "outputs": [],
   "source": [
    "user_pr_mask = pr_df['node'].isin(filtered_users)\n",
    "\n",
    "user_pr = pr_df[user_pr_mask].sort_values('pagerank', ascending=False)\n",
    "book_pr = pr_df[~user_pr_mask].sort_values('pagerank', ascending=False)"
   ]
  },
  {
   "cell_type": "code",
   "execution_count": 10,
   "metadata": {},
   "outputs": [
    {
     "data": {
      "text/html": [
       "<div>\n",
       "<style scoped>\n",
       "    .dataframe tbody tr th:only-of-type {\n",
       "        vertical-align: middle;\n",
       "    }\n",
       "\n",
       "    .dataframe tbody tr th {\n",
       "        vertical-align: top;\n",
       "    }\n",
       "\n",
       "    .dataframe thead th {\n",
       "        text-align: right;\n",
       "    }\n",
       "</style>\n",
       "<table border=\"1\" class=\"dataframe\">\n",
       "  <thead>\n",
       "    <tr style=\"text-align: right;\">\n",
       "      <th></th>\n",
       "      <th>node</th>\n",
       "      <th>pagerank</th>\n",
       "      <th>ISBN</th>\n",
       "      <th>Title</th>\n",
       "      <th>Author</th>\n",
       "      <th>Year</th>\n",
       "      <th>Publisher</th>\n",
       "    </tr>\n",
       "  </thead>\n",
       "  <tbody>\n",
       "    <tr>\n",
       "      <th>0</th>\n",
       "      <td>0971880107</td>\n",
       "      <td>0.000999</td>\n",
       "      <td>0971880107</td>\n",
       "      <td>Wild Animus</td>\n",
       "      <td>Rich Shapero</td>\n",
       "      <td>2004</td>\n",
       "      <td>Too Far</td>\n",
       "    </tr>\n",
       "    <tr>\n",
       "      <th>1</th>\n",
       "      <td>0316666343</td>\n",
       "      <td>0.000380</td>\n",
       "      <td>0316666343</td>\n",
       "      <td>The Lovely Bones: A Novel</td>\n",
       "      <td>Alice Sebold</td>\n",
       "      <td>2002</td>\n",
       "      <td>Little, Brown</td>\n",
       "    </tr>\n",
       "    <tr>\n",
       "      <th>2</th>\n",
       "      <td>0385504209</td>\n",
       "      <td>0.000282</td>\n",
       "      <td>0385504209</td>\n",
       "      <td>The Da Vinci Code</td>\n",
       "      <td>Dan Brown</td>\n",
       "      <td>2003</td>\n",
       "      <td>Doubleday</td>\n",
       "    </tr>\n",
       "    <tr>\n",
       "      <th>3</th>\n",
       "      <td>0060928336</td>\n",
       "      <td>0.000222</td>\n",
       "      <td>0060928336</td>\n",
       "      <td>Divine Secrets of the Ya-Ya Sisterhood: A Novel</td>\n",
       "      <td>Rebecca Wells</td>\n",
       "      <td>1997</td>\n",
       "      <td>Perennial</td>\n",
       "    </tr>\n",
       "    <tr>\n",
       "      <th>4</th>\n",
       "      <td>0312195516</td>\n",
       "      <td>0.000207</td>\n",
       "      <td>0312195516</td>\n",
       "      <td>The Red Tent (Bestselling Backlist)</td>\n",
       "      <td>Anita Diamant</td>\n",
       "      <td>1998</td>\n",
       "      <td>Picador USA</td>\n",
       "    </tr>\n",
       "    <tr>\n",
       "      <th>5</th>\n",
       "      <td>059035342X</td>\n",
       "      <td>0.000200</td>\n",
       "      <td>059035342X</td>\n",
       "      <td>Harry Potter and the Sorcerer's Stone (Harry P...</td>\n",
       "      <td>J. K. Rowling</td>\n",
       "      <td>1999</td>\n",
       "      <td>Arthur A. Levine Books</td>\n",
       "    </tr>\n",
       "    <tr>\n",
       "      <th>6</th>\n",
       "      <td>0671027360</td>\n",
       "      <td>0.000186</td>\n",
       "      <td>0671027360</td>\n",
       "      <td>Angels &amp; Demons</td>\n",
       "      <td>Dan Brown</td>\n",
       "      <td>2001</td>\n",
       "      <td>Pocket Star</td>\n",
       "    </tr>\n",
       "    <tr>\n",
       "      <th>7</th>\n",
       "      <td>0142001740</td>\n",
       "      <td>0.000186</td>\n",
       "      <td>0142001740</td>\n",
       "      <td>The Secret Life of Bees</td>\n",
       "      <td>Sue Monk Kidd</td>\n",
       "      <td>2003</td>\n",
       "      <td>Penguin Books</td>\n",
       "    </tr>\n",
       "    <tr>\n",
       "      <th>8</th>\n",
       "      <td>044023722X</td>\n",
       "      <td>0.000185</td>\n",
       "      <td>044023722X</td>\n",
       "      <td>A Painted House</td>\n",
       "      <td>John Grisham</td>\n",
       "      <td>2001</td>\n",
       "      <td>Dell Publishing Company</td>\n",
       "    </tr>\n",
       "  </tbody>\n",
       "</table>\n",
       "</div>"
      ],
      "text/plain": [
       "         node  pagerank        ISBN  \\\n",
       "0  0971880107  0.000999  0971880107   \n",
       "1  0316666343  0.000380  0316666343   \n",
       "2  0385504209  0.000282  0385504209   \n",
       "3  0060928336  0.000222  0060928336   \n",
       "4  0312195516  0.000207  0312195516   \n",
       "5  059035342X  0.000200  059035342X   \n",
       "6  0671027360  0.000186  0671027360   \n",
       "7  0142001740  0.000186  0142001740   \n",
       "8  044023722X  0.000185  044023722X   \n",
       "\n",
       "                                               Title         Author  Year  \\\n",
       "0                                        Wild Animus   Rich Shapero  2004   \n",
       "1                          The Lovely Bones: A Novel   Alice Sebold  2002   \n",
       "2                                  The Da Vinci Code      Dan Brown  2003   \n",
       "3    Divine Secrets of the Ya-Ya Sisterhood: A Novel  Rebecca Wells  1997   \n",
       "4                The Red Tent (Bestselling Backlist)  Anita Diamant  1998   \n",
       "5  Harry Potter and the Sorcerer's Stone (Harry P...  J. K. Rowling  1999   \n",
       "6                                    Angels & Demons      Dan Brown  2001   \n",
       "7                            The Secret Life of Bees  Sue Monk Kidd  2003   \n",
       "8                                    A Painted House   John Grisham  2001   \n",
       "\n",
       "                 Publisher  \n",
       "0                  Too Far  \n",
       "1            Little, Brown  \n",
       "2                Doubleday  \n",
       "3                Perennial  \n",
       "4              Picador USA  \n",
       "5   Arthur A. Levine Books  \n",
       "6              Pocket Star  \n",
       "7            Penguin Books  \n",
       "8  Dell Publishing Company  "
      ]
     },
     "execution_count": 10,
     "metadata": {},
     "output_type": "execute_result"
    }
   ],
   "source": [
    "top_books = book_pr.head(10)\n",
    "\n",
    "top_books_df = pd.merge(top_books, books_df, left_on='node', right_on='ISBN')\n",
    "top_books_df"
   ]
  },
  {
   "cell_type": "markdown",
   "metadata": {},
   "source": [
    "# Results analysis"
   ]
  },
  {
   "cell_type": "markdown",
   "metadata": {},
   "source": [
    "Books with high PageRank scores are likely to be popular, meaning they are rated by users who have also interacted with other important books.\n",
    "\n",
    "Users with high PageRank scores are likely to read important books, meaning they are highly influential on the books score.\n",
    "\n",
    "PageRank algorithm can be used to solve cold start problem, identify popular and influential books and users to customize recommendations; the underlying graph structure can help identify users and book clusters."
   ]
  }
 ],
 "metadata": {
  "kernelspec": {
   "display_name": ".venv39",
   "language": "python",
   "name": ".venv39"
  },
  "language_info": {
   "codemirror_mode": {
    "name": "ipython",
    "version": 3
   },
   "file_extension": ".py",
   "mimetype": "text/x-python",
   "name": "python",
   "nbconvert_exporter": "python",
   "pygments_lexer": "ipython3",
   "version": "3.9.16"
  }
 },
 "nbformat": 4,
 "nbformat_minor": 2
}
