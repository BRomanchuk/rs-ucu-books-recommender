{
 "cells": [
  {
   "cell_type": "code",
   "execution_count": 1,
   "metadata": {},
   "outputs": [],
   "source": [
    "import sys\n",
    "sys.path.append('../..')"
   ]
  },
  {
   "cell_type": "code",
   "execution_count": 2,
   "metadata": {},
   "outputs": [],
   "source": [
    "from src.recommenders.baseline_recommender import BaselineRecommender\n",
    "from src import evaluation as eval"
   ]
  },
  {
   "cell_type": "code",
   "execution_count": 3,
   "metadata": {},
   "outputs": [],
   "source": [
    "import numpy as np\n",
    "import pandas as pd\n",
    "import matplotlib.pyplot as plt\n",
    "\n",
    "from tqdm import tqdm\n",
    "\n",
    "from sklearn.model_selection import train_test_split"
   ]
  },
  {
   "cell_type": "markdown",
   "metadata": {},
   "source": [
    "# Load the data"
   ]
  },
  {
   "cell_type": "code",
   "execution_count": 4,
   "metadata": {},
   "outputs": [
    {
     "name": "stderr",
     "output_type": "stream",
     "text": [
      "/var/folders/s0/4m_t_82936ggv17n0g0t7_dr0000gn/T/ipykernel_41158/2786065433.py:3: DtypeWarning: Columns (0) have mixed types. Specify dtype option on import or set low_memory=False.\n",
      "  users_df = pd.read_csv('../../data/Users.csv', delimiter=';')\n"
     ]
    }
   ],
   "source": [
    "books_df = pd.read_csv('../../data/Books.csv', delimiter=';')\n",
    "ratings_df = pd.read_csv('../../data/Ratings.csv', delimiter=';')\n",
    "users_df = pd.read_csv('../../data/Users.csv', delimiter=';')"
   ]
  },
  {
   "cell_type": "markdown",
   "metadata": {},
   "source": [
    "# Train-test split"
   ]
  },
  {
   "cell_type": "code",
   "execution_count": 5,
   "metadata": {},
   "outputs": [],
   "source": [
    "train_ratings, test_ratings = train_test_split(ratings_df, test_size=0.3, random_state=42)"
   ]
  },
  {
   "cell_type": "markdown",
   "metadata": {},
   "source": [
    "# Model Initialization"
   ]
  },
  {
   "cell_type": "code",
   "execution_count": 6,
   "metadata": {},
   "outputs": [],
   "source": [
    "model = BaselineRecommender()\n",
    "model.fit(items=books_df, users=users_df, ratings=train_ratings)"
   ]
  },
  {
   "cell_type": "markdown",
   "metadata": {},
   "source": [
    "# Model prediction"
   ]
  },
  {
   "cell_type": "code",
   "execution_count": 7,
   "metadata": {},
   "outputs": [],
   "source": [
    "test_users = test_ratings['User-ID'].unique()"
   ]
  },
  {
   "cell_type": "code",
   "execution_count": 8,
   "metadata": {},
   "outputs": [],
   "source": [
    "best_items = model.predict(test_users)"
   ]
  },
  {
   "cell_type": "code",
   "execution_count": 9,
   "metadata": {},
   "outputs": [
    {
     "data": {
      "text/plain": [
       "['0439139597',\n",
       " '0439064864',\n",
       " '0439136350',\n",
       " '0590353403',\n",
       " '043935806X',\n",
       " '0812550706',\n",
       " '0553375407',\n",
       " '0439136369',\n",
       " '0440219078',\n",
       " '0439139600']"
      ]
     },
     "execution_count": 9,
     "metadata": {},
     "output_type": "execute_result"
    }
   ],
   "source": [
    "best_items[0]"
   ]
  },
  {
   "cell_type": "code",
   "execution_count": 10,
   "metadata": {},
   "outputs": [
    {
     "data": {
      "text/plain": [
       "53334"
      ]
     },
     "execution_count": 10,
     "metadata": {},
     "output_type": "execute_result"
    }
   ],
   "source": [
    "len(test_users)"
   ]
  },
  {
   "cell_type": "markdown",
   "metadata": {},
   "source": [
    "# Model evaluation"
   ]
  },
  {
   "cell_type": "code",
   "execution_count": 11,
   "metadata": {},
   "outputs": [
    {
     "name": "stderr",
     "output_type": "stream",
     "text": [
      "53334it [00:16, 3160.94it/s]"
     ]
    },
    {
     "name": "stdout",
     "output_type": "stream",
     "text": [
      "Mean Average Precision: 0.0013982744421767394\n",
      "Mean Recall at 10: 0.0028529763043792992\n",
      "Mean Precision at 10: 0.0010444365251240442\n"
     ]
    },
    {
     "name": "stderr",
     "output_type": "stream",
     "text": [
      "\n"
     ]
    }
   ],
   "source": [
    "# relevant items are those with rating >= 5\n",
    "rating_mask = test_ratings['Rating'] >= 5\n",
    "\n",
    "# init arrays to store the results\n",
    "avg_p = []\n",
    "prec_k = []\n",
    "rec_k = []\n",
    "\n",
    "# iterate over test users and predicted items\n",
    "for user, items in tqdm(zip(test_users, best_items)):\n",
    "    # get relevant items for the user\n",
    "    user_mask = test_ratings['User-ID'] == user\n",
    "    relevant_items = test_ratings.loc[(user_mask & rating_mask)].sort_values(by='Rating', ascending=False)\n",
    "    relevant_items = relevant_items['ISBN'].to_numpy()\n",
    "    if len(relevant_items) == 0:\n",
    "        continue\n",
    "    # calculate metrics\n",
    "    ap = eval.average_precision(items, relevant_items, m=10)\n",
    "    pk = eval.precision_at_k(items, relevant_items, k=10)\n",
    "    rk = eval.recall_at_k(items, relevant_items, k=10)\n",
    "    avg_p.append(ap)\n",
    "    prec_k.append(pk)\n",
    "    rec_k.append(rk)\n",
    "\n",
    "# calculate mean metrics over test users\n",
    "mean_ap = np.mean(avg_p)\n",
    "mean_prec_k = np.mean(prec_k)\n",
    "mean_rec_k = np.mean(rec_k)\n",
    "\n",
    "print(f'Mean Average Precision: {mean_ap}')\n",
    "print(f'Mean Recall at 10: {mean_rec_k}')\n",
    "print(f'Mean Precision at 10: {mean_prec_k}')"
   ]
  },
  {
   "cell_type": "code",
   "execution_count": null,
   "metadata": {},
   "outputs": [],
   "source": []
  }
 ],
 "metadata": {
  "kernelspec": {
   "display_name": ".venv39",
   "language": "python",
   "name": ".venv39"
  },
  "language_info": {
   "codemirror_mode": {
    "name": "ipython",
    "version": 3
   },
   "file_extension": ".py",
   "mimetype": "text/x-python",
   "name": "python",
   "nbconvert_exporter": "python",
   "pygments_lexer": "ipython3",
   "version": "3.9.16"
  }
 },
 "nbformat": 4,
 "nbformat_minor": 2
}
