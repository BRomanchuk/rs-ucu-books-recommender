{
 "cells": [
  {
   "cell_type": "markdown",
   "metadata": {},
   "source": [
    "# Sequential recommender\n",
    "The idea of this task is to use a sequential model for recommending. For this task a pre-processed version of dataset is used. Where we add embeddings generated from the books descriptions and reduced with PCA. Order of recommendations is implicit (as our dataset does not contain the interactions). Yet, an alternative version with augmented timestamps was also tested. As the timestamps were generated randomly, it makes no significant difference for the final results."
   ]
  },
  {
   "cell_type": "code",
   "execution_count": 1,
   "metadata": {},
   "outputs": [
    {
     "data": {
      "text/html": [
       "<div>\n",
       "<style scoped>\n",
       "    .dataframe tbody tr th:only-of-type {\n",
       "        vertical-align: middle;\n",
       "    }\n",
       "\n",
       "    .dataframe tbody tr th {\n",
       "        vertical-align: top;\n",
       "    }\n",
       "\n",
       "    .dataframe thead th {\n",
       "        text-align: right;\n",
       "    }\n",
       "</style>\n",
       "<table border=\"1\" class=\"dataframe\">\n",
       "  <thead>\n",
       "    <tr style=\"text-align: right;\">\n",
       "      <th></th>\n",
       "      <th>user</th>\n",
       "      <th>item</th>\n",
       "      <th>label</th>\n",
       "      <th>Age</th>\n",
       "      <th>pca_dim_1</th>\n",
       "      <th>pca_dim_2</th>\n",
       "      <th>pca_dim_3</th>\n",
       "      <th>pca_dim_4</th>\n",
       "      <th>pca_dim_5</th>\n",
       "      <th>pca_dim_6</th>\n",
       "      <th>pca_dim_7</th>\n",
       "      <th>pca_dim_8</th>\n",
       "      <th>pca_dim_9</th>\n",
       "      <th>pca_dim_10</th>\n",
       "      <th>Year</th>\n",
       "    </tr>\n",
       "  </thead>\n",
       "  <tbody>\n",
       "    <tr>\n",
       "      <th>0</th>\n",
       "      <td>67544.0</td>\n",
       "      <td>0440214009</td>\n",
       "      <td>7.0</td>\n",
       "      <td>30.0</td>\n",
       "      <td>0.098736</td>\n",
       "      <td>-0.016876</td>\n",
       "      <td>-0.064115</td>\n",
       "      <td>-0.043559</td>\n",
       "      <td>0.011505</td>\n",
       "      <td>0.062887</td>\n",
       "      <td>0.004183</td>\n",
       "      <td>0.003117</td>\n",
       "      <td>0.043744</td>\n",
       "      <td>0.009762</td>\n",
       "      <td>1993.0</td>\n",
       "    </tr>\n",
       "    <tr>\n",
       "      <th>1</th>\n",
       "      <td>67544.0</td>\n",
       "      <td>0688077080</td>\n",
       "      <td>8.0</td>\n",
       "      <td>30.0</td>\n",
       "      <td>-0.063320</td>\n",
       "      <td>-0.039060</td>\n",
       "      <td>0.001323</td>\n",
       "      <td>-0.025799</td>\n",
       "      <td>0.026691</td>\n",
       "      <td>0.008113</td>\n",
       "      <td>0.002605</td>\n",
       "      <td>-0.110809</td>\n",
       "      <td>0.049842</td>\n",
       "      <td>-0.035884</td>\n",
       "      <td>1989.0</td>\n",
       "    </tr>\n",
       "    <tr>\n",
       "      <th>2</th>\n",
       "      <td>219008.0</td>\n",
       "      <td>0679405135</td>\n",
       "      <td>4.0</td>\n",
       "      <td>60.0</td>\n",
       "      <td>0.031406</td>\n",
       "      <td>0.060715</td>\n",
       "      <td>0.081350</td>\n",
       "      <td>-0.115592</td>\n",
       "      <td>0.063185</td>\n",
       "      <td>0.093926</td>\n",
       "      <td>0.010901</td>\n",
       "      <td>0.028100</td>\n",
       "      <td>-0.013741</td>\n",
       "      <td>-0.079226</td>\n",
       "      <td>1996.0</td>\n",
       "    </tr>\n",
       "    <tr>\n",
       "      <th>3</th>\n",
       "      <td>219008.0</td>\n",
       "      <td>0446519723</td>\n",
       "      <td>7.0</td>\n",
       "      <td>60.0</td>\n",
       "      <td>0.150597</td>\n",
       "      <td>-0.103935</td>\n",
       "      <td>0.003405</td>\n",
       "      <td>0.022489</td>\n",
       "      <td>-0.018591</td>\n",
       "      <td>-0.136100</td>\n",
       "      <td>0.041277</td>\n",
       "      <td>0.053403</td>\n",
       "      <td>0.011589</td>\n",
       "      <td>0.037841</td>\n",
       "      <td>1995.0</td>\n",
       "    </tr>\n",
       "    <tr>\n",
       "      <th>4</th>\n",
       "      <td>219008.0</td>\n",
       "      <td>0140096361</td>\n",
       "      <td>6.0</td>\n",
       "      <td>60.0</td>\n",
       "      <td>-0.054594</td>\n",
       "      <td>0.001724</td>\n",
       "      <td>-0.063644</td>\n",
       "      <td>-0.011405</td>\n",
       "      <td>-0.014985</td>\n",
       "      <td>0.116361</td>\n",
       "      <td>0.030079</td>\n",
       "      <td>-0.026273</td>\n",
       "      <td>0.054377</td>\n",
       "      <td>0.051752</td>\n",
       "      <td>1987.0</td>\n",
       "    </tr>\n",
       "  </tbody>\n",
       "</table>\n",
       "</div>"
      ],
      "text/plain": [
       "       user        item  label   Age  pca_dim_1  pca_dim_2  pca_dim_3  \\\n",
       "0   67544.0  0440214009    7.0  30.0   0.098736  -0.016876  -0.064115   \n",
       "1   67544.0  0688077080    8.0  30.0  -0.063320  -0.039060   0.001323   \n",
       "2  219008.0  0679405135    4.0  60.0   0.031406   0.060715   0.081350   \n",
       "3  219008.0  0446519723    7.0  60.0   0.150597  -0.103935   0.003405   \n",
       "4  219008.0  0140096361    6.0  60.0  -0.054594   0.001724  -0.063644   \n",
       "\n",
       "   pca_dim_4  pca_dim_5  pca_dim_6  pca_dim_7  pca_dim_8  pca_dim_9  \\\n",
       "0  -0.043559   0.011505   0.062887   0.004183   0.003117   0.043744   \n",
       "1  -0.025799   0.026691   0.008113   0.002605  -0.110809   0.049842   \n",
       "2  -0.115592   0.063185   0.093926   0.010901   0.028100  -0.013741   \n",
       "3   0.022489  -0.018591  -0.136100   0.041277   0.053403   0.011589   \n",
       "4  -0.011405  -0.014985   0.116361   0.030079  -0.026273   0.054377   \n",
       "\n",
       "   pca_dim_10    Year  \n",
       "0    0.009762  1993.0  \n",
       "1   -0.035884  1989.0  \n",
       "2   -0.079226  1996.0  \n",
       "3    0.037841  1995.0  \n",
       "4    0.051752  1987.0  "
      ]
     },
     "execution_count": 1,
     "metadata": {},
     "output_type": "execute_result"
    }
   ],
   "source": [
    "import numpy as np\n",
    "import pandas as pd\n",
    "\n",
    "# ratings_df = pd.read_csv('../data/Ratings_merged_emb_time.csv', delimiter=',')\n",
    "ratings_df = pd.read_csv('../data/df_with_emb_cleaned.csv', delimiter=',')\n",
    "ratings_df.head()"
   ]
  },
  {
   "cell_type": "markdown",
   "metadata": {},
   "source": [
    "Data preparation includes specification of the columns into categorical and non-categorical (dense) and user vs item. RNN4Rec uses Recursive Neural Network approach under the hood, with the LSTM layers"
   ]
  },
  {
   "cell_type": "code",
   "execution_count": 2,
   "metadata": {},
   "outputs": [
    {
     "name": "stderr",
     "output_type": "stream",
     "text": [
      "2024-08-11 19:18:40.404611: I tensorflow/core/platform/cpu_feature_guard.cc:193] This TensorFlow binary is optimized with oneAPI Deep Neural Network Library (oneDNN) to use the following CPU instructions in performance-critical operations:  AVX2 FMA\n",
      "To enable them in other operations, rebuild TensorFlow with the appropriate compiler flags.\n"
     ]
    },
    {
     "name": "stdout",
     "output_type": "stream",
     "text": [
      "WARNING:tensorflow:From /Users/oleh.sannikov/miniconda3/envs/recsys_lr/lib/python3.9/site-packages/tensorflow/python/compat/v2_compat.py:107: disable_resource_variables (from tensorflow.python.ops.variable_scope) is deprecated and will be removed in a future version.\n",
      "Instructions for updating:\n",
      "non-resource variables are not supported in the long term\n"
     ]
    },
    {
     "name": "stderr",
     "output_type": "stream",
     "text": [
      "2024-08-11 19:18:49.445503: I tensorflow/core/platform/cpu_feature_guard.cc:193] This TensorFlow binary is optimized with oneAPI Deep Neural Network Library (oneDNN) to use the following CPU instructions in performance-critical operations:  AVX2 FMA\n",
      "To enable them in other operations, rebuild TensorFlow with the appropriate compiler flags.\n"
     ]
    },
    {
     "name": "stdout",
     "output_type": "stream",
     "text": [
      "Training start time: \u001b[35m2024-08-11 19:18:49\u001b[0m\n",
      "total params: \u001b[33m995,276\u001b[0m | embedding params: \u001b[33m879,788\u001b[0m | network params: \u001b[33m115,488\u001b[0m\n"
     ]
    },
    {
     "name": "stderr",
     "output_type": "stream",
     "text": [
      "2024-08-11 19:18:51.746971: I tensorflow/compiler/mlir/mlir_graph_optimization_pass.cc:354] MLIR V1 optimization pass is not enabled\n",
      "train: 100%|██████████| 257/257 [00:08<00:00, 31.07it/s]\n"
     ]
    },
    {
     "name": "stdout",
     "output_type": "stream",
     "text": [
      "Epoch 1 elapsed: 8.304s\n",
      "\t \u001b[32mtrain_loss: 0.0866\u001b[0m\n"
     ]
    },
    {
     "name": "stderr",
     "output_type": "stream",
     "text": [
      "eval_listwise: 100%|██████████| 243/243 [00:00<00:00, 1769.29it/s]\n"
     ]
    },
    {
     "name": "stdout",
     "output_type": "stream",
     "text": [
      "\t eval ndcg@10: 0.0018\n",
      "\t eval precision@10: 0.0004\n",
      "==============================\n"
     ]
    },
    {
     "name": "stderr",
     "output_type": "stream",
     "text": [
      "train: 100%|██████████| 257/257 [00:06<00:00, 38.72it/s]\n"
     ]
    },
    {
     "name": "stdout",
     "output_type": "stream",
     "text": [
      "Epoch 2 elapsed: 6.642s\n",
      "\t \u001b[32mtrain_loss: 0.0846\u001b[0m\n"
     ]
    },
    {
     "name": "stderr",
     "output_type": "stream",
     "text": [
      "eval_listwise: 100%|██████████| 243/243 [00:00<00:00, 2888.49it/s]"
     ]
    },
    {
     "name": "stdout",
     "output_type": "stream",
     "text": [
      "\t eval ndcg@10: 0.0082\n",
      "\t eval precision@10: 0.0016\n",
      "==============================\n"
     ]
    },
    {
     "name": "stderr",
     "output_type": "stream",
     "text": [
      "\n"
     ]
    }
   ],
   "source": [
    "from libreco.algorithms import RNN4Rec\n",
    "from libreco.data import DatasetFeat\n",
    "from libreco.data import random_split\n",
    "\n",
    "# specify complete columns information\n",
    "sparse_col = []\n",
    "dense_col = [\"Age\", \"Year\", \"pca_dim_1\", \"pca_dim_2\", \"pca_dim_3\", \"pca_dim_4\", \"pca_dim_5\", \"pca_dim_6\", \"pca_dim_7\", \"pca_dim_8\", \"pca_dim_9\", \"pca_dim_10\"]\n",
    "user_col = [\"Age\"]\n",
    "item_col = [\"Year\", \"pca_dim_1\", \"pca_dim_2\", \"pca_dim_3\", \"pca_dim_4\", \"pca_dim_5\", \"pca_dim_6\", \"pca_dim_7\", \"pca_dim_8\", \"pca_dim_9\", \"pca_dim_10\"]\n",
    "\n",
    "train_df, eval_df = random_split(ratings_df, test_size=0.2)\n",
    "\n",
    "train_data, data_info = DatasetFeat.build_trainset(\n",
    "    train_df, user_col, item_col, sparse_col, dense_col\n",
    ")\n",
    "\n",
    "eval_data = DatasetFeat.build_evalset(eval_df)\n",
    "\n",
    "model = RNN4Rec(\n",
    "    task=\"ranking\",\n",
    "    rnn_type=\"lstm\",\n",
    "    data_info=data_info,\n",
    "    loss_type=\"focal\",\n",
    "    embed_size=16,\n",
    "    n_epochs=2,\n",
    "    lr=3e-3,\n",
    "    lr_decay=False,\n",
    "    reg=None,\n",
    "    batch_size=64,\n",
    "    sampler=\"popular\",\n",
    "    num_neg=1,\n",
    "    hidden_units=(110, 32),\n",
    "    recent_num=10,\n",
    "    tf_sess_config=None)\n",
    "model.fit(train_data, neg_sampling=True, verbose=2, shuffle=False, eval_data=eval_data, metrics=[\"ndcg\", \"precision\"]\n",
    ")"
   ]
  },
  {
   "cell_type": "code",
   "execution_count": 4,
   "metadata": {},
   "outputs": [
    {
     "name": "stderr",
     "output_type": "stream",
     "text": [
      "eval_listwise: 100%|██████████| 243/243 [00:00<00:00, 2327.08it/s]"
     ]
    },
    {
     "name": "stdout",
     "output_type": "stream",
     "text": [
      "Evaluation Results:\n",
      "{'ndcg': 0.00815473617915307, 'precision': 0.001646090534979424, 'recall': 0.008916323731138546}\n"
     ]
    },
    {
     "name": "stderr",
     "output_type": "stream",
     "text": [
      "\n"
     ]
    }
   ],
   "source": [
    "from libreco.evaluation import evaluate\n",
    "\n",
    "eval_result = evaluate(model, eval_data, neg_sampling=True, metrics=[\"ndcg\", \"precision\", \"recall\"])\n",
    "print(f\"Evaluation Results:\\n{eval_result}\")"
   ]
  }
 ],
 "metadata": {
  "kernelspec": {
   "display_name": "recsys_lr",
   "language": "python",
   "name": "python3"
  },
  "language_info": {
   "codemirror_mode": {
    "name": "ipython",
    "version": 3
   },
   "file_extension": ".py",
   "mimetype": "text/x-python",
   "name": "python",
   "nbconvert_exporter": "python",
   "pygments_lexer": "ipython3",
   "version": "3.9.19"
  }
 },
 "nbformat": 4,
 "nbformat_minor": 2
}
