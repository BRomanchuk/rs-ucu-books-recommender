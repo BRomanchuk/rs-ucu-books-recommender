{
  "cells": [
    {
      "cell_type": "code",
      "execution_count": 1,
      "metadata": {
        "id": "iZCuECVQliny",
        "outputId": "a4563fb1-c3ad-483d-95ca-3a0ffe15d12e",
        "colab": {
          "base_uri": "https://localhost:8080/"
        }
      },
      "outputs": [
        {
          "output_type": "stream",
          "name": "stderr",
          "text": [
            "WARNING:tensorflow:From /usr/local/lib/python3.10/dist-packages/tensorflow/python/compat/v2_compat.py:107: disable_resource_variables (from tensorflow.python.ops.variable_scope) is deprecated and will be removed in a future version.\n",
            "Instructions for updating:\n",
            "non-resource variables are not supported in the long term\n"
          ]
        }
      ],
      "source": [
        "import numpy as np\n",
        "import pandas as pd\n",
        "\n",
        "from libreco.data import DatasetPure\n",
        "from libreco.algorithms import BPR, WideDeep\n",
        "from libreco.evaluation import evaluate\n",
        "\n",
        "from sklearn.model_selection import train_test_split"
      ]
    },
    {
      "cell_type": "code",
      "source": [
        "!pip install numpy pandas scikit-learn tqdm scipy openai"
      ],
      "metadata": {
        "colab": {
          "base_uri": "https://localhost:8080/"
        },
        "id": "wIfo_QxloKf9",
        "outputId": "77efee42-76cb-4a84-a4e8-2401cf87e2ab"
      },
      "execution_count": 2,
      "outputs": [
        {
          "output_type": "stream",
          "name": "stdout",
          "text": [
            "Requirement already satisfied: numpy in /usr/local/lib/python3.10/dist-packages (1.26.4)\n",
            "Requirement already satisfied: pandas in /usr/local/lib/python3.10/dist-packages (2.1.4)\n",
            "Requirement already satisfied: scikit-learn in /usr/local/lib/python3.10/dist-packages (1.3.2)\n",
            "Requirement already satisfied: tqdm in /usr/local/lib/python3.10/dist-packages (4.66.5)\n",
            "Requirement already satisfied: scipy in /usr/local/lib/python3.10/dist-packages (1.13.1)\n",
            "Requirement already satisfied: openai in /usr/local/lib/python3.10/dist-packages (1.40.3)\n",
            "Requirement already satisfied: python-dateutil>=2.8.2 in /usr/local/lib/python3.10/dist-packages (from pandas) (2.8.2)\n",
            "Requirement already satisfied: pytz>=2020.1 in /usr/local/lib/python3.10/dist-packages (from pandas) (2024.1)\n",
            "Requirement already satisfied: tzdata>=2022.1 in /usr/local/lib/python3.10/dist-packages (from pandas) (2024.1)\n",
            "Requirement already satisfied: joblib>=1.1.1 in /usr/local/lib/python3.10/dist-packages (from scikit-learn) (1.4.2)\n",
            "Requirement already satisfied: threadpoolctl>=2.0.0 in /usr/local/lib/python3.10/dist-packages (from scikit-learn) (3.5.0)\n",
            "Requirement already satisfied: anyio<5,>=3.5.0 in /usr/local/lib/python3.10/dist-packages (from openai) (3.7.1)\n",
            "Requirement already satisfied: distro<2,>=1.7.0 in /usr/lib/python3/dist-packages (from openai) (1.7.0)\n",
            "Requirement already satisfied: httpx<1,>=0.23.0 in /usr/local/lib/python3.10/dist-packages (from openai) (0.27.0)\n",
            "Requirement already satisfied: jiter<1,>=0.4.0 in /usr/local/lib/python3.10/dist-packages (from openai) (0.5.0)\n",
            "Requirement already satisfied: pydantic<3,>=1.9.0 in /usr/local/lib/python3.10/dist-packages (from openai) (2.8.2)\n",
            "Requirement already satisfied: sniffio in /usr/local/lib/python3.10/dist-packages (from openai) (1.3.1)\n",
            "Requirement already satisfied: typing-extensions<5,>=4.11 in /usr/local/lib/python3.10/dist-packages (from openai) (4.12.2)\n",
            "Requirement already satisfied: idna>=2.8 in /usr/local/lib/python3.10/dist-packages (from anyio<5,>=3.5.0->openai) (3.7)\n",
            "Requirement already satisfied: exceptiongroup in /usr/local/lib/python3.10/dist-packages (from anyio<5,>=3.5.0->openai) (1.2.2)\n",
            "Requirement already satisfied: certifi in /usr/local/lib/python3.10/dist-packages (from httpx<1,>=0.23.0->openai) (2024.7.4)\n",
            "Requirement already satisfied: httpcore==1.* in /usr/local/lib/python3.10/dist-packages (from httpx<1,>=0.23.0->openai) (1.0.5)\n",
            "Requirement already satisfied: h11<0.15,>=0.13 in /usr/local/lib/python3.10/dist-packages (from httpcore==1.*->httpx<1,>=0.23.0->openai) (0.14.0)\n",
            "Requirement already satisfied: annotated-types>=0.4.0 in /usr/local/lib/python3.10/dist-packages (from pydantic<3,>=1.9.0->openai) (0.7.0)\n",
            "Requirement already satisfied: pydantic-core==2.20.1 in /usr/local/lib/python3.10/dist-packages (from pydantic<3,>=1.9.0->openai) (2.20.1)\n",
            "Requirement already satisfied: six>=1.5 in /usr/local/lib/python3.10/dist-packages (from python-dateutil>=2.8.2->pandas) (1.16.0)\n"
          ]
        }
      ]
    },
    {
      "cell_type": "code",
      "source": [
        "! pip install -U LibRecommender"
      ],
      "metadata": {
        "colab": {
          "base_uri": "https://localhost:8080/"
        },
        "id": "t4Kxdk1Ho4oL",
        "outputId": "3d17fbee-48c5-48ed-e925-9c95804ad539"
      },
      "execution_count": 3,
      "outputs": [
        {
          "output_type": "stream",
          "name": "stdout",
          "text": [
            "Requirement already satisfied: LibRecommender in /usr/local/lib/python3.10/dist-packages (1.5.1)\n",
            "Requirement already satisfied: gensim>=4.0.0 in /usr/local/lib/python3.10/dist-packages (from LibRecommender) (4.3.3)\n",
            "Requirement already satisfied: tqdm in /usr/local/lib/python3.10/dist-packages (from LibRecommender) (4.66.5)\n",
            "Requirement already satisfied: numpy<2.0,>=1.18.5 in /usr/local/lib/python3.10/dist-packages (from gensim>=4.0.0->LibRecommender) (1.26.4)\n",
            "Requirement already satisfied: scipy<1.14.0,>=1.7.0 in /usr/local/lib/python3.10/dist-packages (from gensim>=4.0.0->LibRecommender) (1.13.1)\n",
            "Requirement already satisfied: smart-open>=1.8.1 in /usr/local/lib/python3.10/dist-packages (from gensim>=4.0.0->LibRecommender) (7.0.4)\n",
            "Requirement already satisfied: wrapt in /usr/local/lib/python3.10/dist-packages (from smart-open>=1.8.1->gensim>=4.0.0->LibRecommender) (1.16.0)\n"
          ]
        }
      ]
    },
    {
      "cell_type": "code",
      "source": [
        "from google.colab import drive\n",
        "drive.mount('/content/drive')\n"
      ],
      "metadata": {
        "id": "UQydKbjQmA7h",
        "colab": {
          "base_uri": "https://localhost:8080/"
        },
        "outputId": "7a7a680a-037d-4054-91de-ac26c3236e12"
      },
      "execution_count": 2,
      "outputs": [
        {
          "output_type": "stream",
          "name": "stdout",
          "text": [
            "Drive already mounted at /content/drive; to attempt to forcibly remount, call drive.mount(\"/content/drive\", force_remount=True).\n"
          ]
        }
      ]
    },
    {
      "cell_type": "markdown",
      "metadata": {
        "id": "N6l3Ys0Llin6"
      },
      "source": [
        "# Preprocess Data"
      ]
    },
    {
      "cell_type": "code",
      "execution_count": 9,
      "metadata": {
        "id": "VhnGf1Izlin9",
        "outputId": "337bd703-99fa-41c7-f628-f792befb59a7",
        "colab": {
          "base_uri": "https://localhost:8080/"
        }
      },
      "outputs": [
        {
          "output_type": "stream",
          "name": "stderr",
          "text": [
            "<ipython-input-9-497a94a7983d>:3: DtypeWarning: Columns (0) have mixed types. Specify dtype option on import or set low_memory=False.\n",
            "  users_df = pd.read_csv('/content/drive/MyDrive/Users.csv', delimiter=';')\n"
          ]
        }
      ],
      "source": [
        "books_df = pd.read_csv('/content/drive/MyDrive/Books_Extended.csv', delimiter=';', low_memory=False)\n",
        "ratings_df = pd.read_csv('/content/drive/MyDrive/Ratings.csv', delimiter=';')\n",
        "users_df = pd.read_csv('/content/drive/MyDrive/Users.csv', delimiter=';')"
      ]
    },
    {
      "cell_type": "code",
      "execution_count": 10,
      "metadata": {
        "id": "WpmYMUqElin-"
      },
      "outputs": [],
      "source": [
        "ratings_df.columns = ['user_id', 'item_id', 'label']"
      ]
    },
    {
      "cell_type": "code",
      "source": [
        "df_clened_with_emb = pd.read_csv('/content/df_with_emb_cleaned.csv')"
      ],
      "metadata": {
        "id": "2pwtrL9XrFex"
      },
      "execution_count": 3,
      "outputs": []
    },
    {
      "cell_type": "code",
      "source": [],
      "metadata": {
        "id": "bpNzF8HKrJz-"
      },
      "execution_count": null,
      "outputs": []
    },
    {
      "cell_type": "markdown",
      "metadata": {
        "id": "GZZIWJVVlioA"
      },
      "source": [
        "# Train / Eval Split"
      ]
    },
    {
      "cell_type": "code",
      "execution_count": 4,
      "metadata": {
        "id": "99qFoDXHlioB"
      },
      "outputs": [],
      "source": [
        "train_df, eval_df = train_test_split(df_clened_with_emb, test_size=0.2, random_state=0)"
      ]
    },
    {
      "cell_type": "code",
      "source": [
        "pca_columns = [f'pca_dim_{i+1}' for i in range(10)]"
      ],
      "metadata": {
        "id": "HAjkqb7TqY5s"
      },
      "execution_count": 5,
      "outputs": []
    },
    {
      "cell_type": "code",
      "source": [
        "columns = ['user', 'item', 'label']\n",
        "user_cols = ['Age']\n",
        "item_cols = pca_columns + ['Year']\n",
        "\n",
        "columns = columns + user_cols + item_cols"
      ],
      "metadata": {
        "id": "KaGoEdFPqHov"
      },
      "execution_count": 6,
      "outputs": []
    },
    {
      "cell_type": "code",
      "execution_count": 7,
      "metadata": {
        "id": "1PegU_c8lioC"
      },
      "outputs": [],
      "source": [
        "eval_user_mask = eval_df['user'].isin(train_df['user'].unique())\n",
        "eval_item_mask = eval_df['item'].isin(train_df['item'].unique())\n",
        "\n",
        "eval_df = eval_df[eval_user_mask & eval_item_mask]\n",
        "\n",
        "# 'user', 'item' must be the first two columns of the dataframe\n",
        "train_df = train_df[columns]\n",
        "eval_df = eval_df[columns]"
      ]
    },
    {
      "cell_type": "code",
      "execution_count": 8,
      "metadata": {
        "id": "HbeXsRg_lioE"
      },
      "outputs": [],
      "source": [
        "from libreco.data import DataInfo, DatasetFeat, split_by_ratio\n",
        "train_data, data_info = DatasetFeat.build_trainset(train_df, user_col=user_cols, item_col=item_cols, dense_col=item_cols + user_cols)\n",
        "test_data = DatasetFeat.build_testset(eval_df)"
      ]
    },
    {
      "cell_type": "markdown",
      "metadata": {
        "id": "36m1Jlm-lioE"
      },
      "source": [
        "# Bayesian Personalized Ranking and Wide Deep\n"
      ]
    },
    {
      "cell_type": "code",
      "execution_count": 9,
      "metadata": {
        "id": "RG3mEmTPlioG"
      },
      "outputs": [],
      "source": [
        "embedding_size = 32\n",
        "n_epochs_bpr = 400\n",
        "n_epochs_wide = 400\n",
        "learning_rate = 0.01\n",
        "batch_size = 256\n",
        "random_seed = 42"
      ]
    },
    {
      "cell_type": "code",
      "execution_count": 10,
      "metadata": {
        "id": "IfXujoZ8lioG"
      },
      "outputs": [],
      "source": [
        "# init BPR model\n",
        "bpr = BPR(\n",
        "    task=\"ranking\",\n",
        "    data_info=data_info,\n",
        "    embed_size=embedding_size,\n",
        "    n_epochs=n_epochs_bpr,\n",
        "    lr=learning_rate,\n",
        "    reg=None,\n",
        "    batch_size=batch_size,\n",
        "    num_neg=1,\n",
        "    use_tf=True,\n",
        "    seed=random_seed\n",
        ")"
      ]
    },
    {
      "cell_type": "code",
      "execution_count": 11,
      "metadata": {
        "id": "JueFMC4JlioH",
        "colab": {
          "base_uri": "https://localhost:8080/"
        },
        "outputId": "ee69e143-f4f9-404d-80e5-53d454e9ca1d"
      },
      "outputs": [
        {
          "output_type": "stream",
          "name": "stdout",
          "text": [
            "Training start time: \u001b[35m2024-08-11 19:04:24\u001b[0m\n"
          ]
        },
        {
          "output_type": "stream",
          "name": "stderr",
          "text": [
            "train: 100%|██████████| 33/33 [00:00<00:00, 176.75it/s]\n"
          ]
        },
        {
          "output_type": "stream",
          "name": "stdout",
          "text": [
            "Epoch 1 elapsed: 0.190s\n",
            "\t \u001b[32mtrain_loss: 0.6972\u001b[0m\n"
          ]
        },
        {
          "output_type": "stream",
          "name": "stderr",
          "text": [
            "eval_listwise: 100%|██████████| 227/227 [00:00<00:00, 1954.48it/s]\n"
          ]
        },
        {
          "output_type": "stream",
          "name": "stdout",
          "text": [
            "\t eval ndcg@10: 0.0422\n",
            "\t eval precision@10: 0.0084\n",
            "==============================\n"
          ]
        },
        {
          "output_type": "stream",
          "name": "stderr",
          "text": [
            "train: 100%|██████████| 33/33 [00:00<00:00, 536.68it/s]\n"
          ]
        },
        {
          "output_type": "stream",
          "name": "stdout",
          "text": [
            "Epoch 2 elapsed: 0.066s\n",
            "\t \u001b[32mtrain_loss: 0.6793\u001b[0m\n"
          ]
        },
        {
          "output_type": "stream",
          "name": "stderr",
          "text": [
            "eval_listwise: 100%|██████████| 227/227 [00:00<00:00, 1804.17it/s]\n"
          ]
        },
        {
          "output_type": "stream",
          "name": "stdout",
          "text": [
            "\t eval ndcg@10: 0.0508\n",
            "\t eval precision@10: 0.0093\n",
            "==============================\n"
          ]
        },
        {
          "output_type": "stream",
          "name": "stderr",
          "text": [
            "train: 100%|██████████| 33/33 [00:00<00:00, 495.56it/s]\n"
          ]
        },
        {
          "output_type": "stream",
          "name": "stdout",
          "text": [
            "Epoch 3 elapsed: 0.073s\n",
            "\t \u001b[32mtrain_loss: 0.6111\u001b[0m\n"
          ]
        },
        {
          "output_type": "stream",
          "name": "stderr",
          "text": [
            "eval_listwise: 100%|██████████| 227/227 [00:00<00:00, 1979.47it/s]\n"
          ]
        },
        {
          "output_type": "stream",
          "name": "stdout",
          "text": [
            "\t eval ndcg@10: 0.0357\n",
            "\t eval precision@10: 0.0070\n",
            "==============================\n"
          ]
        },
        {
          "output_type": "stream",
          "name": "stderr",
          "text": [
            "train: 100%|██████████| 33/33 [00:00<00:00, 388.39it/s]\n"
          ]
        },
        {
          "output_type": "stream",
          "name": "stdout",
          "text": [
            "Epoch 4 elapsed: 0.095s\n",
            "\t \u001b[32mtrain_loss: 0.4478\u001b[0m\n"
          ]
        },
        {
          "output_type": "stream",
          "name": "stderr",
          "text": [
            "eval_listwise: 100%|██████████| 227/227 [00:00<00:00, 2260.92it/s]\n"
          ]
        },
        {
          "output_type": "stream",
          "name": "stdout",
          "text": [
            "\t eval ndcg@10: 0.0360\n",
            "\t eval precision@10: 0.0053\n",
            "==============================\n"
          ]
        },
        {
          "output_type": "stream",
          "name": "stderr",
          "text": [
            "train: 100%|██████████| 33/33 [00:00<00:00, 407.83it/s]\n"
          ]
        },
        {
          "output_type": "stream",
          "name": "stdout",
          "text": [
            "Epoch 5 elapsed: 0.091s\n",
            "\t \u001b[32mtrain_loss: 0.2978\u001b[0m\n"
          ]
        },
        {
          "output_type": "stream",
          "name": "stderr",
          "text": [
            "eval_listwise: 100%|██████████| 227/227 [00:00<00:00, 2076.90it/s]\n"
          ]
        },
        {
          "output_type": "stream",
          "name": "stdout",
          "text": [
            "\t eval ndcg@10: 0.0189\n",
            "\t eval precision@10: 0.0026\n",
            "==============================\n"
          ]
        },
        {
          "output_type": "stream",
          "name": "stderr",
          "text": [
            "train: 100%|██████████| 33/33 [00:00<00:00, 450.54it/s]\n"
          ]
        },
        {
          "output_type": "stream",
          "name": "stdout",
          "text": [
            "Epoch 6 elapsed: 0.082s\n",
            "\t \u001b[32mtrain_loss: 0.2102\u001b[0m\n"
          ]
        },
        {
          "output_type": "stream",
          "name": "stderr",
          "text": [
            "eval_listwise: 100%|██████████| 227/227 [00:00<00:00, 2313.02it/s]"
          ]
        },
        {
          "output_type": "stream",
          "name": "stdout",
          "text": [
            "\t eval ndcg@10: 0.0234"
          ]
        },
        {
          "output_type": "stream",
          "name": "stderr",
          "text": [
            "\n"
          ]
        },
        {
          "output_type": "stream",
          "name": "stdout",
          "text": [
            "\n",
            "\t eval precision@10: 0.0035\n",
            "==============================\n"
          ]
        },
        {
          "output_type": "stream",
          "name": "stderr",
          "text": [
            "train: 100%|██████████| 33/33 [00:00<00:00, 452.83it/s]\n"
          ]
        },
        {
          "output_type": "stream",
          "name": "stdout",
          "text": [
            "Epoch 7 elapsed: 0.080s\n",
            "\t \u001b[32mtrain_loss: 0.157\u001b[0m\n"
          ]
        },
        {
          "output_type": "stream",
          "name": "stderr",
          "text": [
            "eval_listwise: 100%|██████████| 227/227 [00:00<00:00, 1940.50it/s]\n"
          ]
        },
        {
          "output_type": "stream",
          "name": "stdout",
          "text": [
            "\t eval ndcg@10: 0.0189\n",
            "\t eval precision@10: 0.0031\n",
            "==============================\n"
          ]
        },
        {
          "output_type": "stream",
          "name": "stderr",
          "text": [
            "train: 100%|██████████| 33/33 [00:00<00:00, 508.73it/s]\n"
          ]
        },
        {
          "output_type": "stream",
          "name": "stdout",
          "text": [
            "Epoch 8 elapsed: 0.073s\n",
            "\t \u001b[32mtrain_loss: 0.1221\u001b[0m\n"
          ]
        },
        {
          "output_type": "stream",
          "name": "stderr",
          "text": [
            "eval_listwise: 100%|██████████| 227/227 [00:00<00:00, 1798.81it/s]\n"
          ]
        },
        {
          "output_type": "stream",
          "name": "stdout",
          "text": [
            "\t eval ndcg@10: 0.0202\n",
            "\t eval precision@10: 0.0035\n",
            "==============================\n"
          ]
        },
        {
          "output_type": "stream",
          "name": "stderr",
          "text": [
            "train: 100%|██████████| 33/33 [00:00<00:00, 422.13it/s]\n"
          ]
        },
        {
          "output_type": "stream",
          "name": "stdout",
          "text": [
            "Epoch 9 elapsed: 0.088s\n",
            "\t \u001b[32mtrain_loss: 0.1\u001b[0m\n"
          ]
        },
        {
          "output_type": "stream",
          "name": "stderr",
          "text": [
            "eval_listwise: 100%|██████████| 227/227 [00:00<00:00, 2307.45it/s]\n"
          ]
        },
        {
          "output_type": "stream",
          "name": "stdout",
          "text": [
            "\t eval ndcg@10: 0.0227\n",
            "\t eval precision@10: 0.0044\n",
            "==============================\n"
          ]
        },
        {
          "output_type": "stream",
          "name": "stderr",
          "text": [
            "train: 100%|██████████| 33/33 [00:00<00:00, 450.23it/s]\n"
          ]
        },
        {
          "output_type": "stream",
          "name": "stdout",
          "text": [
            "Epoch 10 elapsed: 0.080s\n",
            "\t \u001b[32mtrain_loss: 0.0858\u001b[0m\n"
          ]
        },
        {
          "output_type": "stream",
          "name": "stderr",
          "text": [
            "eval_listwise: 100%|██████████| 227/227 [00:00<00:00, 2204.53it/s]"
          ]
        },
        {
          "output_type": "stream",
          "name": "stdout",
          "text": [
            "\t eval ndcg@10: 0.0203"
          ]
        },
        {
          "output_type": "stream",
          "name": "stderr",
          "text": [
            "\n"
          ]
        },
        {
          "output_type": "stream",
          "name": "stdout",
          "text": [
            "\n",
            "\t eval precision@10: 0.0048\n",
            "==============================\n"
          ]
        },
        {
          "output_type": "stream",
          "name": "stderr",
          "text": [
            "train: 100%|██████████| 33/33 [00:00<00:00, 466.13it/s]\n"
          ]
        },
        {
          "output_type": "stream",
          "name": "stdout",
          "text": [
            "Epoch 11 elapsed: 0.078s\n",
            "\t \u001b[32mtrain_loss: 0.0763\u001b[0m\n"
          ]
        },
        {
          "output_type": "stream",
          "name": "stderr",
          "text": [
            "eval_listwise: 100%|██████████| 227/227 [00:00<00:00, 2253.68it/s]\n"
          ]
        },
        {
          "output_type": "stream",
          "name": "stdout",
          "text": [
            "\t eval ndcg@10: 0.0173\n",
            "\t eval precision@10: 0.0044\n",
            "==============================\n"
          ]
        },
        {
          "output_type": "stream",
          "name": "stderr",
          "text": [
            "train: 100%|██████████| 33/33 [00:00<00:00, 402.05it/s]\n"
          ]
        },
        {
          "output_type": "stream",
          "name": "stdout",
          "text": [
            "Epoch 12 elapsed: 0.087s\n",
            "\t \u001b[32mtrain_loss: 0.0796\u001b[0m\n"
          ]
        },
        {
          "output_type": "stream",
          "name": "stderr",
          "text": [
            "eval_listwise: 100%|██████████| 227/227 [00:00<00:00, 1690.98it/s]\n"
          ]
        },
        {
          "output_type": "stream",
          "name": "stdout",
          "text": [
            "\t eval ndcg@10: 0.0155\n",
            "\t eval precision@10: 0.0044\n",
            "==============================\n"
          ]
        },
        {
          "output_type": "stream",
          "name": "stderr",
          "text": [
            "train: 100%|██████████| 33/33 [00:00<00:00, 359.76it/s]\n"
          ]
        },
        {
          "output_type": "stream",
          "name": "stdout",
          "text": [
            "Epoch 13 elapsed: 0.098s\n",
            "\t \u001b[32mtrain_loss: 0.077\u001b[0m\n"
          ]
        },
        {
          "output_type": "stream",
          "name": "stderr",
          "text": [
            "eval_listwise: 100%|██████████| 227/227 [00:00<00:00, 2296.11it/s]\n"
          ]
        },
        {
          "output_type": "stream",
          "name": "stdout",
          "text": [
            "\t eval ndcg@10: 0.0134\n",
            "\t eval precision@10: 0.0044\n",
            "==============================\n"
          ]
        },
        {
          "output_type": "stream",
          "name": "stderr",
          "text": [
            "train: 100%|██████████| 33/33 [00:00<00:00, 449.85it/s]\n"
          ]
        },
        {
          "output_type": "stream",
          "name": "stdout",
          "text": [
            "Epoch 14 elapsed: 0.080s\n",
            "\t \u001b[32mtrain_loss: 0.0737\u001b[0m\n"
          ]
        },
        {
          "output_type": "stream",
          "name": "stderr",
          "text": [
            "eval_listwise: 100%|██████████| 227/227 [00:00<00:00, 2122.61it/s]\n"
          ]
        },
        {
          "output_type": "stream",
          "name": "stdout",
          "text": [
            "\t eval ndcg@10: 0.0120\n",
            "\t eval precision@10: 0.0040\n",
            "==============================\n"
          ]
        },
        {
          "output_type": "stream",
          "name": "stderr",
          "text": [
            "train: 100%|██████████| 33/33 [00:00<00:00, 373.43it/s]\n"
          ]
        },
        {
          "output_type": "stream",
          "name": "stdout",
          "text": [
            "Epoch 15 elapsed: 0.094s\n",
            "\t \u001b[32mtrain_loss: 0.0603\u001b[0m\n"
          ]
        },
        {
          "output_type": "stream",
          "name": "stderr",
          "text": [
            "eval_listwise: 100%|██████████| 227/227 [00:00<00:00, 2134.55it/s]\n"
          ]
        },
        {
          "output_type": "stream",
          "name": "stdout",
          "text": [
            "\t eval ndcg@10: 0.0096\n",
            "\t eval precision@10: 0.0035\n",
            "==============================\n"
          ]
        },
        {
          "output_type": "stream",
          "name": "stderr",
          "text": [
            "train: 100%|██████████| 33/33 [00:00<00:00, 441.90it/s]\n"
          ]
        },
        {
          "output_type": "stream",
          "name": "stdout",
          "text": [
            "Epoch 16 elapsed: 0.080s\n",
            "\t \u001b[32mtrain_loss: 0.0618\u001b[0m\n"
          ]
        },
        {
          "output_type": "stream",
          "name": "stderr",
          "text": [
            "eval_listwise: 100%|██████████| 227/227 [00:00<00:00, 1665.96it/s]\n"
          ]
        },
        {
          "output_type": "stream",
          "name": "stdout",
          "text": [
            "\t eval ndcg@10: 0.0083\n",
            "\t eval precision@10: 0.0022\n",
            "==============================\n"
          ]
        },
        {
          "output_type": "stream",
          "name": "stderr",
          "text": [
            "train: 100%|██████████| 33/33 [00:00<00:00, 443.99it/s]\n"
          ]
        },
        {
          "output_type": "stream",
          "name": "stdout",
          "text": [
            "Epoch 17 elapsed: 0.080s\n",
            "\t \u001b[32mtrain_loss: 0.0595\u001b[0m\n"
          ]
        },
        {
          "output_type": "stream",
          "name": "stderr",
          "text": [
            "eval_listwise: 100%|██████████| 227/227 [00:00<00:00, 1607.06it/s]\n"
          ]
        },
        {
          "output_type": "stream",
          "name": "stdout",
          "text": [
            "\t eval ndcg@10: 0.0105\n",
            "\t eval precision@10: 0.0026\n",
            "==============================\n"
          ]
        },
        {
          "output_type": "stream",
          "name": "stderr",
          "text": [
            "train: 100%|██████████| 33/33 [00:00<00:00, 402.33it/s]\n"
          ]
        },
        {
          "output_type": "stream",
          "name": "stdout",
          "text": [
            "Epoch 18 elapsed: 0.090s\n",
            "\t \u001b[32mtrain_loss: 0.0628\u001b[0m\n"
          ]
        },
        {
          "output_type": "stream",
          "name": "stderr",
          "text": [
            "eval_listwise: 100%|██████████| 227/227 [00:00<00:00, 2263.85it/s]\n"
          ]
        },
        {
          "output_type": "stream",
          "name": "stdout",
          "text": [
            "\t eval ndcg@10: 0.0118\n",
            "\t eval precision@10: 0.0031\n",
            "==============================\n"
          ]
        },
        {
          "output_type": "stream",
          "name": "stderr",
          "text": [
            "train: 100%|██████████| 33/33 [00:00<00:00, 498.48it/s]\n"
          ]
        },
        {
          "output_type": "stream",
          "name": "stdout",
          "text": [
            "Epoch 19 elapsed: 0.077s\n",
            "\t \u001b[32mtrain_loss: 0.065\u001b[0m\n"
          ]
        },
        {
          "output_type": "stream",
          "name": "stderr",
          "text": [
            "eval_listwise: 100%|██████████| 227/227 [00:00<00:00, 2115.53it/s]\n"
          ]
        },
        {
          "output_type": "stream",
          "name": "stdout",
          "text": [
            "\t eval ndcg@10: 0.0098\n",
            "\t eval precision@10: 0.0031\n",
            "==============================\n"
          ]
        },
        {
          "output_type": "stream",
          "name": "stderr",
          "text": [
            "train: 100%|██████████| 33/33 [00:00<00:00, 545.19it/s]"
          ]
        },
        {
          "output_type": "stream",
          "name": "stdout",
          "text": [
            "Epoch 20 elapsed: 0.069s\n",
            "\t \u001b[32mtrain_loss: 0.0553\u001b[0m"
          ]
        },
        {
          "output_type": "stream",
          "name": "stderr",
          "text": [
            "\n"
          ]
        },
        {
          "output_type": "stream",
          "name": "stdout",
          "text": [
            "\n"
          ]
        },
        {
          "output_type": "stream",
          "name": "stderr",
          "text": [
            "eval_listwise: 100%|██████████| 227/227 [00:00<00:00, 2154.61it/s]\n"
          ]
        },
        {
          "output_type": "stream",
          "name": "stdout",
          "text": [
            "\t eval ndcg@10: 0.0096\n",
            "\t eval precision@10: 0.0026\n",
            "==============================\n"
          ]
        },
        {
          "output_type": "stream",
          "name": "stderr",
          "text": [
            "train: 100%|██████████| 33/33 [00:00<00:00, 501.89it/s]\n"
          ]
        },
        {
          "output_type": "stream",
          "name": "stdout",
          "text": [
            "Epoch 21 elapsed: 0.074s\n",
            "\t \u001b[32mtrain_loss: 0.0515\u001b[0m\n"
          ]
        },
        {
          "output_type": "stream",
          "name": "stderr",
          "text": [
            "eval_listwise: 100%|██████████| 227/227 [00:00<00:00, 1392.44it/s]\n"
          ]
        },
        {
          "output_type": "stream",
          "name": "stdout",
          "text": [
            "\t eval ndcg@10: 0.0113\n",
            "\t eval precision@10: 0.0031\n",
            "==============================\n"
          ]
        },
        {
          "output_type": "stream",
          "name": "stderr",
          "text": [
            "train: 100%|██████████| 33/33 [00:00<00:00, 431.34it/s]\n"
          ]
        },
        {
          "output_type": "stream",
          "name": "stdout",
          "text": [
            "Epoch 22 elapsed: 0.087s\n",
            "\t \u001b[32mtrain_loss: 0.0552\u001b[0m\n"
          ]
        },
        {
          "output_type": "stream",
          "name": "stderr",
          "text": [
            "eval_listwise: 100%|██████████| 227/227 [00:00<00:00, 2144.08it/s]\n"
          ]
        },
        {
          "output_type": "stream",
          "name": "stdout",
          "text": [
            "\t eval ndcg@10: 0.0124\n",
            "\t eval precision@10: 0.0031\n",
            "==============================\n"
          ]
        },
        {
          "output_type": "stream",
          "name": "stderr",
          "text": [
            "train: 100%|██████████| 33/33 [00:00<00:00, 397.81it/s]\n"
          ]
        },
        {
          "output_type": "stream",
          "name": "stdout",
          "text": [
            "Epoch 23 elapsed: 0.091s\n",
            "\t \u001b[32mtrain_loss: 0.051\u001b[0m\n"
          ]
        },
        {
          "output_type": "stream",
          "name": "stderr",
          "text": [
            "eval_listwise: 100%|██████████| 227/227 [00:00<00:00, 2111.08it/s]\n"
          ]
        },
        {
          "output_type": "stream",
          "name": "stdout",
          "text": [
            "\t eval ndcg@10: 0.0106\n",
            "\t eval precision@10: 0.0031\n",
            "==============================\n"
          ]
        },
        {
          "output_type": "stream",
          "name": "stderr",
          "text": [
            "train: 100%|██████████| 33/33 [00:00<00:00, 442.63it/s]\n"
          ]
        },
        {
          "output_type": "stream",
          "name": "stdout",
          "text": [
            "Epoch 24 elapsed: 0.084s\n",
            "\t \u001b[32mtrain_loss: 0.0532\u001b[0m\n"
          ]
        },
        {
          "output_type": "stream",
          "name": "stderr",
          "text": [
            "eval_listwise: 100%|██████████| 227/227 [00:00<00:00, 2341.84it/s]\n"
          ]
        },
        {
          "output_type": "stream",
          "name": "stdout",
          "text": [
            "\t eval ndcg@10: 0.0124\n",
            "\t eval precision@10: 0.0035\n",
            "==============================\n"
          ]
        },
        {
          "output_type": "stream",
          "name": "stderr",
          "text": [
            "train: 100%|██████████| 33/33 [00:00<00:00, 470.10it/s]\n"
          ]
        },
        {
          "output_type": "stream",
          "name": "stdout",
          "text": [
            "Epoch 25 elapsed: 0.080s\n",
            "\t \u001b[32mtrain_loss: 0.058\u001b[0m\n"
          ]
        },
        {
          "output_type": "stream",
          "name": "stderr",
          "text": [
            "eval_listwise: 100%|██████████| 227/227 [00:00<00:00, 2134.89it/s]\n"
          ]
        },
        {
          "output_type": "stream",
          "name": "stdout",
          "text": [
            "\t eval ndcg@10: 0.0137\n",
            "\t eval precision@10: 0.0035\n",
            "==============================\n"
          ]
        },
        {
          "output_type": "stream",
          "name": "stderr",
          "text": [
            "train: 100%|██████████| 33/33 [00:00<00:00, 376.33it/s]\n"
          ]
        },
        {
          "output_type": "stream",
          "name": "stdout",
          "text": [
            "Epoch 26 elapsed: 0.096s\n",
            "\t \u001b[32mtrain_loss: 0.054\u001b[0m\n"
          ]
        },
        {
          "output_type": "stream",
          "name": "stderr",
          "text": [
            "eval_listwise: 100%|██████████| 227/227 [00:00<00:00, 2051.82it/s]\n"
          ]
        },
        {
          "output_type": "stream",
          "name": "stdout",
          "text": [
            "\t eval ndcg@10: 0.0117\n",
            "\t eval precision@10: 0.0031\n",
            "==============================\n"
          ]
        },
        {
          "output_type": "stream",
          "name": "stderr",
          "text": [
            "train: 100%|██████████| 33/33 [00:00<00:00, 333.72it/s]\n"
          ]
        },
        {
          "output_type": "stream",
          "name": "stdout",
          "text": [
            "Epoch 27 elapsed: 0.105s\n",
            "\t \u001b[32mtrain_loss: 0.0536\u001b[0m\n"
          ]
        },
        {
          "output_type": "stream",
          "name": "stderr",
          "text": [
            "eval_listwise: 100%|██████████| 227/227 [00:00<00:00, 2210.39it/s]\n"
          ]
        },
        {
          "output_type": "stream",
          "name": "stdout",
          "text": [
            "\t eval ndcg@10: 0.0143\n",
            "\t eval precision@10: 0.0040\n",
            "==============================\n"
          ]
        },
        {
          "output_type": "stream",
          "name": "stderr",
          "text": [
            "train: 100%|██████████| 33/33 [00:00<00:00, 463.98it/s]\n"
          ]
        },
        {
          "output_type": "stream",
          "name": "stdout",
          "text": [
            "Epoch 28 elapsed: 0.081s\n",
            "\t \u001b[32mtrain_loss: 0.0471\u001b[0m\n"
          ]
        },
        {
          "output_type": "stream",
          "name": "stderr",
          "text": [
            "eval_listwise: 100%|██████████| 227/227 [00:00<00:00, 2317.62it/s]"
          ]
        },
        {
          "output_type": "stream",
          "name": "stdout",
          "text": [
            "\t eval ndcg@10: 0.0133"
          ]
        },
        {
          "output_type": "stream",
          "name": "stderr",
          "text": [
            "\n"
          ]
        },
        {
          "output_type": "stream",
          "name": "stdout",
          "text": [
            "\n",
            "\t eval precision@10: 0.0035\n",
            "==============================\n"
          ]
        },
        {
          "output_type": "stream",
          "name": "stderr",
          "text": [
            "train: 100%|██████████| 33/33 [00:00<00:00, 460.40it/s]\n"
          ]
        },
        {
          "output_type": "stream",
          "name": "stdout",
          "text": [
            "Epoch 29 elapsed: 0.081s\n",
            "\t \u001b[32mtrain_loss: 0.0553\u001b[0m\n"
          ]
        },
        {
          "output_type": "stream",
          "name": "stderr",
          "text": [
            "eval_listwise: 100%|██████████| 227/227 [00:00<00:00, 2333.62it/s]\n"
          ]
        },
        {
          "output_type": "stream",
          "name": "stdout",
          "text": [
            "\t eval ndcg@10: 0.0149\n",
            "\t eval precision@10: 0.0035\n",
            "==============================\n"
          ]
        },
        {
          "output_type": "stream",
          "name": "stderr",
          "text": [
            "train: 100%|██████████| 33/33 [00:00<00:00, 400.17it/s]\n"
          ]
        },
        {
          "output_type": "stream",
          "name": "stdout",
          "text": [
            "Epoch 30 elapsed: 0.093s\n",
            "\t \u001b[32mtrain_loss: 0.0512\u001b[0m\n"
          ]
        },
        {
          "output_type": "stream",
          "name": "stderr",
          "text": [
            "eval_listwise: 100%|██████████| 227/227 [00:00<00:00, 1981.83it/s]\n"
          ]
        },
        {
          "output_type": "stream",
          "name": "stdout",
          "text": [
            "\t eval ndcg@10: 0.0145\n",
            "\t eval precision@10: 0.0040\n",
            "==============================\n"
          ]
        },
        {
          "output_type": "stream",
          "name": "stderr",
          "text": [
            "train: 100%|██████████| 33/33 [00:00<00:00, 345.69it/s]\n"
          ]
        },
        {
          "output_type": "stream",
          "name": "stdout",
          "text": [
            "Epoch 31 elapsed: 0.109s\n",
            "\t \u001b[32mtrain_loss: 0.0514\u001b[0m\n"
          ]
        },
        {
          "output_type": "stream",
          "name": "stderr",
          "text": [
            "eval_listwise: 100%|██████████| 227/227 [00:00<00:00, 2018.64it/s]\n"
          ]
        },
        {
          "output_type": "stream",
          "name": "stdout",
          "text": [
            "\t eval ndcg@10: 0.0129\n",
            "\t eval precision@10: 0.0035\n",
            "==============================\n"
          ]
        },
        {
          "output_type": "stream",
          "name": "stderr",
          "text": [
            "train: 100%|██████████| 33/33 [00:00<00:00, 435.97it/s]\n"
          ]
        },
        {
          "output_type": "stream",
          "name": "stdout",
          "text": [
            "Epoch 32 elapsed: 0.082s\n",
            "\t \u001b[32mtrain_loss: 0.0507\u001b[0m\n"
          ]
        },
        {
          "output_type": "stream",
          "name": "stderr",
          "text": [
            "eval_listwise: 100%|██████████| 227/227 [00:00<00:00, 2184.41it/s]\n"
          ]
        },
        {
          "output_type": "stream",
          "name": "stdout",
          "text": [
            "\t eval ndcg@10: 0.0132\n",
            "\t eval precision@10: 0.0035\n",
            "==============================\n"
          ]
        },
        {
          "output_type": "stream",
          "name": "stderr",
          "text": [
            "train: 100%|██████████| 33/33 [00:00<00:00, 489.64it/s]\n"
          ]
        },
        {
          "output_type": "stream",
          "name": "stdout",
          "text": [
            "Epoch 33 elapsed: 0.073s\n",
            "\t \u001b[32mtrain_loss: 0.0526\u001b[0m\n"
          ]
        },
        {
          "output_type": "stream",
          "name": "stderr",
          "text": [
            "eval_listwise: 100%|██████████| 227/227 [00:00<00:00, 2116.68it/s]\n"
          ]
        },
        {
          "output_type": "stream",
          "name": "stdout",
          "text": [
            "\t eval ndcg@10: 0.0117\n",
            "\t eval precision@10: 0.0031\n",
            "==============================\n"
          ]
        },
        {
          "output_type": "stream",
          "name": "stderr",
          "text": [
            "train: 100%|██████████| 33/33 [00:00<00:00, 418.24it/s]\n"
          ]
        },
        {
          "output_type": "stream",
          "name": "stdout",
          "text": [
            "Epoch 34 elapsed: 0.087s\n",
            "\t \u001b[32mtrain_loss: 0.0481\u001b[0m\n"
          ]
        },
        {
          "output_type": "stream",
          "name": "stderr",
          "text": [
            "eval_listwise: 100%|██████████| 227/227 [00:00<00:00, 2341.86it/s]\n"
          ]
        },
        {
          "output_type": "stream",
          "name": "stdout",
          "text": [
            "\t eval ndcg@10: 0.0088\n",
            "\t eval precision@10: 0.0022\n",
            "==============================\n"
          ]
        },
        {
          "output_type": "stream",
          "name": "stderr",
          "text": [
            "train: 100%|██████████| 33/33 [00:00<00:00, 494.03it/s]\n"
          ]
        },
        {
          "output_type": "stream",
          "name": "stdout",
          "text": [
            "Epoch 35 elapsed: 0.072s\n",
            "\t \u001b[32mtrain_loss: 0.0603\u001b[0m\n"
          ]
        },
        {
          "output_type": "stream",
          "name": "stderr",
          "text": [
            "eval_listwise: 100%|██████████| 227/227 [00:00<00:00, 1432.38it/s]\n"
          ]
        },
        {
          "output_type": "stream",
          "name": "stdout",
          "text": [
            "\t eval ndcg@10: 0.0090\n",
            "\t eval precision@10: 0.0022\n",
            "==============================\n"
          ]
        },
        {
          "output_type": "stream",
          "name": "stderr",
          "text": [
            "train: 100%|██████████| 33/33 [00:00<00:00, 425.18it/s]\n"
          ]
        },
        {
          "output_type": "stream",
          "name": "stdout",
          "text": [
            "Epoch 36 elapsed: 0.083s\n",
            "\t \u001b[32mtrain_loss: 0.0506\u001b[0m\n"
          ]
        },
        {
          "output_type": "stream",
          "name": "stderr",
          "text": [
            "eval_listwise: 100%|██████████| 227/227 [00:00<00:00, 2286.92it/s]\n"
          ]
        },
        {
          "output_type": "stream",
          "name": "stdout",
          "text": [
            "\t eval ndcg@10: 0.0088\n",
            "\t eval precision@10: 0.0022\n",
            "==============================\n"
          ]
        },
        {
          "output_type": "stream",
          "name": "stderr",
          "text": [
            "train: 100%|██████████| 33/33 [00:00<00:00, 452.64it/s]\n"
          ]
        },
        {
          "output_type": "stream",
          "name": "stdout",
          "text": [
            "Epoch 37 elapsed: 0.078s\n",
            "\t \u001b[32mtrain_loss: 0.0502\u001b[0m\n"
          ]
        },
        {
          "output_type": "stream",
          "name": "stderr",
          "text": [
            "eval_listwise: 100%|██████████| 227/227 [00:00<00:00, 2309.75it/s]\n"
          ]
        },
        {
          "output_type": "stream",
          "name": "stdout",
          "text": [
            "\t eval ndcg@10: 0.0109\n",
            "\t eval precision@10: 0.0026\n",
            "==============================\n"
          ]
        },
        {
          "output_type": "stream",
          "name": "stderr",
          "text": [
            "train: 100%|██████████| 33/33 [00:00<00:00, 334.26it/s]\n"
          ]
        },
        {
          "output_type": "stream",
          "name": "stdout",
          "text": [
            "Epoch 38 elapsed: 0.105s\n",
            "\t \u001b[32mtrain_loss: 0.0467\u001b[0m\n"
          ]
        },
        {
          "output_type": "stream",
          "name": "stderr",
          "text": [
            "eval_listwise: 100%|██████████| 227/227 [00:00<00:00, 1300.44it/s]\n"
          ]
        },
        {
          "output_type": "stream",
          "name": "stdout",
          "text": [
            "\t eval ndcg@10: 0.0119\n",
            "\t eval precision@10: 0.0031\n",
            "==============================\n"
          ]
        },
        {
          "output_type": "stream",
          "name": "stderr",
          "text": [
            "train: 100%|██████████| 33/33 [00:00<00:00, 466.43it/s]\n"
          ]
        },
        {
          "output_type": "stream",
          "name": "stdout",
          "text": [
            "Epoch 39 elapsed: 0.078s\n",
            "\t \u001b[32mtrain_loss: 0.0473\u001b[0m\n"
          ]
        },
        {
          "output_type": "stream",
          "name": "stderr",
          "text": [
            "eval_listwise: 100%|██████████| 227/227 [00:00<00:00, 1671.34it/s]\n"
          ]
        },
        {
          "output_type": "stream",
          "name": "stdout",
          "text": [
            "\t eval ndcg@10: 0.0094\n",
            "\t eval precision@10: 0.0022\n",
            "==============================\n"
          ]
        },
        {
          "output_type": "stream",
          "name": "stderr",
          "text": [
            "train: 100%|██████████| 33/33 [00:00<00:00, 313.41it/s]\n"
          ]
        },
        {
          "output_type": "stream",
          "name": "stdout",
          "text": [
            "Epoch 40 elapsed: 0.113s\n",
            "\t \u001b[32mtrain_loss: 0.0489\u001b[0m\n"
          ]
        },
        {
          "output_type": "stream",
          "name": "stderr",
          "text": [
            "eval_listwise: 100%|██████████| 227/227 [00:00<00:00, 2177.47it/s]\n"
          ]
        },
        {
          "output_type": "stream",
          "name": "stdout",
          "text": [
            "\t eval ndcg@10: 0.0119\n",
            "\t eval precision@10: 0.0022\n",
            "==============================\n"
          ]
        },
        {
          "output_type": "stream",
          "name": "stderr",
          "text": [
            "train: 100%|██████████| 33/33 [00:00<00:00, 331.43it/s]\n"
          ]
        },
        {
          "output_type": "stream",
          "name": "stdout",
          "text": [
            "Epoch 41 elapsed: 0.106s\n",
            "\t \u001b[32mtrain_loss: 0.0655\u001b[0m\n"
          ]
        },
        {
          "output_type": "stream",
          "name": "stderr",
          "text": [
            "eval_listwise: 100%|██████████| 227/227 [00:00<00:00, 2181.49it/s]\n"
          ]
        },
        {
          "output_type": "stream",
          "name": "stdout",
          "text": [
            "\t eval ndcg@10: 0.0117\n",
            "\t eval precision@10: 0.0022\n",
            "==============================\n"
          ]
        },
        {
          "output_type": "stream",
          "name": "stderr",
          "text": [
            "train: 100%|██████████| 33/33 [00:00<00:00, 464.57it/s]\n"
          ]
        },
        {
          "output_type": "stream",
          "name": "stdout",
          "text": [
            "Epoch 42 elapsed: 0.077s\n",
            "\t \u001b[32mtrain_loss: 0.0601\u001b[0m\n"
          ]
        },
        {
          "output_type": "stream",
          "name": "stderr",
          "text": [
            "eval_listwise: 100%|██████████| 227/227 [00:00<00:00, 1962.53it/s]\n"
          ]
        },
        {
          "output_type": "stream",
          "name": "stdout",
          "text": [
            "\t eval ndcg@10: 0.0084\n",
            "\t eval precision@10: 0.0018\n",
            "==============================\n"
          ]
        },
        {
          "output_type": "stream",
          "name": "stderr",
          "text": [
            "train: 100%|██████████| 33/33 [00:00<00:00, 443.16it/s]\n"
          ]
        },
        {
          "output_type": "stream",
          "name": "stdout",
          "text": [
            "Epoch 43 elapsed: 0.080s\n",
            "\t \u001b[32mtrain_loss: 0.0508\u001b[0m\n"
          ]
        },
        {
          "output_type": "stream",
          "name": "stderr",
          "text": [
            "eval_listwise: 100%|██████████| 227/227 [00:00<00:00, 2321.76it/s]\n"
          ]
        },
        {
          "output_type": "stream",
          "name": "stdout",
          "text": [
            "\t eval ndcg@10: 0.0083\n",
            "\t eval precision@10: 0.0013\n",
            "==============================\n"
          ]
        },
        {
          "output_type": "stream",
          "name": "stderr",
          "text": [
            "train: 100%|██████████| 33/33 [00:00<00:00, 457.73it/s]\n"
          ]
        },
        {
          "output_type": "stream",
          "name": "stdout",
          "text": [
            "Epoch 44 elapsed: 0.078s\n",
            "\t \u001b[32mtrain_loss: 0.0518\u001b[0m\n"
          ]
        },
        {
          "output_type": "stream",
          "name": "stderr",
          "text": [
            "eval_listwise: 100%|██████████| 227/227 [00:00<00:00, 1210.68it/s]\n"
          ]
        },
        {
          "output_type": "stream",
          "name": "stdout",
          "text": [
            "\t eval ndcg@10: 0.0061\n",
            "\t eval precision@10: 0.0013\n",
            "==============================\n"
          ]
        },
        {
          "output_type": "stream",
          "name": "stderr",
          "text": [
            "train: 100%|██████████| 33/33 [00:00<00:00, 423.25it/s]\n"
          ]
        },
        {
          "output_type": "stream",
          "name": "stdout",
          "text": [
            "Epoch 45 elapsed: 0.093s\n",
            "\t \u001b[32mtrain_loss: 0.0502\u001b[0m\n"
          ]
        },
        {
          "output_type": "stream",
          "name": "stderr",
          "text": [
            "eval_listwise: 100%|██████████| 227/227 [00:00<00:00, 2285.45it/s]\n"
          ]
        },
        {
          "output_type": "stream",
          "name": "stdout",
          "text": [
            "\t eval ndcg@10: 0.0075\n",
            "\t eval precision@10: 0.0022\n",
            "==============================\n"
          ]
        },
        {
          "output_type": "stream",
          "name": "stderr",
          "text": [
            "train: 100%|██████████| 33/33 [00:00<00:00, 532.61it/s]\n"
          ]
        },
        {
          "output_type": "stream",
          "name": "stdout",
          "text": [
            "Epoch 46 elapsed: 0.068s\n",
            "\t \u001b[32mtrain_loss: 0.0502\u001b[0m\n"
          ]
        },
        {
          "output_type": "stream",
          "name": "stderr",
          "text": [
            "eval_listwise: 100%|██████████| 227/227 [00:00<00:00, 2099.20it/s]\n"
          ]
        },
        {
          "output_type": "stream",
          "name": "stdout",
          "text": [
            "\t eval ndcg@10: 0.0080\n",
            "\t eval precision@10: 0.0022\n",
            "==============================\n"
          ]
        },
        {
          "output_type": "stream",
          "name": "stderr",
          "text": [
            "train: 100%|██████████| 33/33 [00:00<00:00, 420.30it/s]\n"
          ]
        },
        {
          "output_type": "stream",
          "name": "stdout",
          "text": [
            "Epoch 47 elapsed: 0.083s\n",
            "\t \u001b[32mtrain_loss: 0.0488\u001b[0m\n"
          ]
        },
        {
          "output_type": "stream",
          "name": "stderr",
          "text": [
            "eval_listwise: 100%|██████████| 227/227 [00:00<00:00, 909.46it/s]\n"
          ]
        },
        {
          "output_type": "stream",
          "name": "stdout",
          "text": [
            "\t eval ndcg@10: 0.0077\n",
            "\t eval precision@10: 0.0018\n",
            "==============================\n"
          ]
        },
        {
          "output_type": "stream",
          "name": "stderr",
          "text": [
            "train: 100%|██████████| 33/33 [00:00<00:00, 439.19it/s]\n"
          ]
        },
        {
          "output_type": "stream",
          "name": "stdout",
          "text": [
            "Epoch 48 elapsed: 0.081s\n",
            "\t \u001b[32mtrain_loss: 0.0493\u001b[0m\n"
          ]
        },
        {
          "output_type": "stream",
          "name": "stderr",
          "text": [
            "eval_listwise: 100%|██████████| 227/227 [00:00<00:00, 1044.34it/s]\n"
          ]
        },
        {
          "output_type": "stream",
          "name": "stdout",
          "text": [
            "\t eval ndcg@10: 0.0097\n",
            "\t eval precision@10: 0.0022\n",
            "==============================\n"
          ]
        },
        {
          "output_type": "stream",
          "name": "stderr",
          "text": [
            "train: 100%|██████████| 33/33 [00:00<00:00, 409.36it/s]\n"
          ]
        },
        {
          "output_type": "stream",
          "name": "stdout",
          "text": [
            "Epoch 49 elapsed: 0.088s\n",
            "\t \u001b[32mtrain_loss: 0.0495\u001b[0m\n"
          ]
        },
        {
          "output_type": "stream",
          "name": "stderr",
          "text": [
            "eval_listwise: 100%|██████████| 227/227 [00:00<00:00, 2182.54it/s]\n"
          ]
        },
        {
          "output_type": "stream",
          "name": "stdout",
          "text": [
            "\t eval ndcg@10: 0.0096\n",
            "\t eval precision@10: 0.0022\n",
            "==============================\n"
          ]
        },
        {
          "output_type": "stream",
          "name": "stderr",
          "text": [
            "train: 100%|██████████| 33/33 [00:00<00:00, 417.07it/s]\n"
          ]
        },
        {
          "output_type": "stream",
          "name": "stdout",
          "text": [
            "Epoch 50 elapsed: 0.089s\n",
            "\t \u001b[32mtrain_loss: 0.0457\u001b[0m\n"
          ]
        },
        {
          "output_type": "stream",
          "name": "stderr",
          "text": [
            "eval_listwise: 100%|██████████| 227/227 [00:00<00:00, 1862.88it/s]\n"
          ]
        },
        {
          "output_type": "stream",
          "name": "stdout",
          "text": [
            "\t eval ndcg@10: 0.0109\n",
            "\t eval precision@10: 0.0026\n",
            "==============================\n"
          ]
        },
        {
          "output_type": "stream",
          "name": "stderr",
          "text": [
            "train: 100%|██████████| 33/33 [00:00<00:00, 382.87it/s]\n"
          ]
        },
        {
          "output_type": "stream",
          "name": "stdout",
          "text": [
            "Epoch 51 elapsed: 0.095s\n",
            "\t \u001b[32mtrain_loss: 0.0524\u001b[0m\n"
          ]
        },
        {
          "output_type": "stream",
          "name": "stderr",
          "text": [
            "eval_listwise: 100%|██████████| 227/227 [00:00<00:00, 1850.25it/s]\n"
          ]
        },
        {
          "output_type": "stream",
          "name": "stdout",
          "text": [
            "\t eval ndcg@10: 0.0129\n",
            "\t eval precision@10: 0.0035\n",
            "==============================\n"
          ]
        },
        {
          "output_type": "stream",
          "name": "stderr",
          "text": [
            "train: 100%|██████████| 33/33 [00:00<00:00, 350.61it/s]\n"
          ]
        },
        {
          "output_type": "stream",
          "name": "stdout",
          "text": [
            "Epoch 52 elapsed: 0.102s\n",
            "\t \u001b[32mtrain_loss: 0.0481\u001b[0m\n"
          ]
        },
        {
          "output_type": "stream",
          "name": "stderr",
          "text": [
            "eval_listwise: 100%|██████████| 227/227 [00:00<00:00, 1555.25it/s]\n"
          ]
        },
        {
          "output_type": "stream",
          "name": "stdout",
          "text": [
            "\t eval ndcg@10: 0.0116\n",
            "\t eval precision@10: 0.0031\n",
            "==============================\n"
          ]
        },
        {
          "output_type": "stream",
          "name": "stderr",
          "text": [
            "train: 100%|██████████| 33/33 [00:00<00:00, 407.53it/s]\n"
          ]
        },
        {
          "output_type": "stream",
          "name": "stdout",
          "text": [
            "Epoch 53 elapsed: 0.089s\n",
            "\t \u001b[32mtrain_loss: 0.0492\u001b[0m\n"
          ]
        },
        {
          "output_type": "stream",
          "name": "stderr",
          "text": [
            "eval_listwise: 100%|██████████| 227/227 [00:00<00:00, 2030.47it/s]\n"
          ]
        },
        {
          "output_type": "stream",
          "name": "stdout",
          "text": [
            "\t eval ndcg@10: 0.0119\n",
            "\t eval precision@10: 0.0031\n",
            "==============================\n"
          ]
        },
        {
          "output_type": "stream",
          "name": "stderr",
          "text": [
            "train: 100%|██████████| 33/33 [00:00<00:00, 450.24it/s]\n"
          ]
        },
        {
          "output_type": "stream",
          "name": "stdout",
          "text": [
            "Epoch 54 elapsed: 0.082s\n",
            "\t \u001b[32mtrain_loss: 0.0454\u001b[0m\n"
          ]
        },
        {
          "output_type": "stream",
          "name": "stderr",
          "text": [
            "eval_listwise: 100%|██████████| 227/227 [00:00<00:00, 2037.72it/s]\n"
          ]
        },
        {
          "output_type": "stream",
          "name": "stdout",
          "text": [
            "\t eval ndcg@10: 0.0112\n",
            "\t eval precision@10: 0.0026\n",
            "==============================\n"
          ]
        },
        {
          "output_type": "stream",
          "name": "stderr",
          "text": [
            "train: 100%|██████████| 33/33 [00:00<00:00, 392.54it/s]\n"
          ]
        },
        {
          "output_type": "stream",
          "name": "stdout",
          "text": [
            "Epoch 55 elapsed: 0.091s\n",
            "\t \u001b[32mtrain_loss: 0.0458\u001b[0m\n"
          ]
        },
        {
          "output_type": "stream",
          "name": "stderr",
          "text": [
            "eval_listwise: 100%|██████████| 227/227 [00:00<00:00, 1910.90it/s]\n"
          ]
        },
        {
          "output_type": "stream",
          "name": "stdout",
          "text": [
            "\t eval ndcg@10: 0.0118\n",
            "\t eval precision@10: 0.0026\n",
            "==============================\n"
          ]
        },
        {
          "output_type": "stream",
          "name": "stderr",
          "text": [
            "train: 100%|██████████| 33/33 [00:00<00:00, 381.55it/s]\n"
          ]
        },
        {
          "output_type": "stream",
          "name": "stdout",
          "text": [
            "Epoch 56 elapsed: 0.095s\n",
            "\t \u001b[32mtrain_loss: 0.0447\u001b[0m\n"
          ]
        },
        {
          "output_type": "stream",
          "name": "stderr",
          "text": [
            "eval_listwise: 100%|██████████| 227/227 [00:00<00:00, 1811.53it/s]\n"
          ]
        },
        {
          "output_type": "stream",
          "name": "stdout",
          "text": [
            "\t eval ndcg@10: 0.0108\n",
            "\t eval precision@10: 0.0022\n",
            "==============================\n"
          ]
        },
        {
          "output_type": "stream",
          "name": "stderr",
          "text": [
            "train: 100%|██████████| 33/33 [00:00<00:00, 374.78it/s]\n"
          ]
        },
        {
          "output_type": "stream",
          "name": "stdout",
          "text": [
            "Epoch 57 elapsed: 0.101s\n",
            "\t \u001b[32mtrain_loss: 0.0484\u001b[0m\n"
          ]
        },
        {
          "output_type": "stream",
          "name": "stderr",
          "text": [
            "eval_listwise: 100%|██████████| 227/227 [00:00<00:00, 786.92it/s]\n"
          ]
        },
        {
          "output_type": "stream",
          "name": "stdout",
          "text": [
            "\t eval ndcg@10: 0.0101\n",
            "\t eval precision@10: 0.0022\n",
            "==============================\n"
          ]
        },
        {
          "output_type": "stream",
          "name": "stderr",
          "text": [
            "train: 100%|██████████| 33/33 [00:00<00:00, 443.60it/s]\n"
          ]
        },
        {
          "output_type": "stream",
          "name": "stdout",
          "text": [
            "Epoch 58 elapsed: 0.085s\n",
            "\t \u001b[32mtrain_loss: 0.0675\u001b[0m\n"
          ]
        },
        {
          "output_type": "stream",
          "name": "stderr",
          "text": [
            "eval_listwise: 100%|██████████| 227/227 [00:00<00:00, 1299.68it/s]\n"
          ]
        },
        {
          "output_type": "stream",
          "name": "stdout",
          "text": [
            "\t eval ndcg@10: 0.0096\n",
            "\t eval precision@10: 0.0022\n",
            "==============================\n"
          ]
        },
        {
          "output_type": "stream",
          "name": "stderr",
          "text": [
            "train: 100%|██████████| 33/33 [00:00<00:00, 419.73it/s]\n"
          ]
        },
        {
          "output_type": "stream",
          "name": "stdout",
          "text": [
            "Epoch 59 elapsed: 0.087s\n",
            "\t \u001b[32mtrain_loss: 0.0604\u001b[0m\n"
          ]
        },
        {
          "output_type": "stream",
          "name": "stderr",
          "text": [
            "eval_listwise: 100%|██████████| 227/227 [00:00<00:00, 1011.93it/s]\n"
          ]
        },
        {
          "output_type": "stream",
          "name": "stdout",
          "text": [
            "\t eval ndcg@10: 0.0113\n",
            "\t eval precision@10: 0.0026\n",
            "==============================\n"
          ]
        },
        {
          "output_type": "stream",
          "name": "stderr",
          "text": [
            "train: 100%|██████████| 33/33 [00:00<00:00, 473.51it/s]\n"
          ]
        },
        {
          "output_type": "stream",
          "name": "stdout",
          "text": [
            "Epoch 60 elapsed: 0.078s\n",
            "\t \u001b[32mtrain_loss: 0.0504\u001b[0m\n"
          ]
        },
        {
          "output_type": "stream",
          "name": "stderr",
          "text": [
            "eval_listwise: 100%|██████████| 227/227 [00:00<00:00, 999.27it/s] \n"
          ]
        },
        {
          "output_type": "stream",
          "name": "stdout",
          "text": [
            "\t eval ndcg@10: 0.0100\n",
            "\t eval precision@10: 0.0022\n",
            "==============================\n"
          ]
        },
        {
          "output_type": "stream",
          "name": "stderr",
          "text": [
            "train: 100%|██████████| 33/33 [00:00<00:00, 344.73it/s]\n"
          ]
        },
        {
          "output_type": "stream",
          "name": "stdout",
          "text": [
            "Epoch 61 elapsed: 0.108s\n",
            "\t \u001b[32mtrain_loss: 0.047\u001b[0m\n"
          ]
        },
        {
          "output_type": "stream",
          "name": "stderr",
          "text": [
            "eval_listwise: 100%|██████████| 227/227 [00:00<00:00, 1759.40it/s]\n"
          ]
        },
        {
          "output_type": "stream",
          "name": "stdout",
          "text": [
            "\t eval ndcg@10: 0.0095\n",
            "\t eval precision@10: 0.0022\n",
            "==============================\n"
          ]
        },
        {
          "output_type": "stream",
          "name": "stderr",
          "text": [
            "train: 100%|██████████| 33/33 [00:00<00:00, 432.09it/s]\n"
          ]
        },
        {
          "output_type": "stream",
          "name": "stdout",
          "text": [
            "Epoch 62 elapsed: 0.083s\n",
            "\t \u001b[32mtrain_loss: 0.0505\u001b[0m\n"
          ]
        },
        {
          "output_type": "stream",
          "name": "stderr",
          "text": [
            "eval_listwise: 100%|██████████| 227/227 [00:00<00:00, 1381.80it/s]\n"
          ]
        },
        {
          "output_type": "stream",
          "name": "stdout",
          "text": [
            "\t eval ndcg@10: 0.0078\n",
            "\t eval precision@10: 0.0018\n",
            "==============================\n"
          ]
        },
        {
          "output_type": "stream",
          "name": "stderr",
          "text": [
            "train: 100%|██████████| 33/33 [00:00<00:00, 370.63it/s]\n"
          ]
        },
        {
          "output_type": "stream",
          "name": "stdout",
          "text": [
            "Epoch 63 elapsed: 0.096s\n",
            "\t \u001b[32mtrain_loss: 0.0488\u001b[0m\n"
          ]
        },
        {
          "output_type": "stream",
          "name": "stderr",
          "text": [
            "eval_listwise: 100%|██████████| 227/227 [00:00<00:00, 2023.04it/s]\n"
          ]
        },
        {
          "output_type": "stream",
          "name": "stdout",
          "text": [
            "\t eval ndcg@10: 0.0080\n",
            "\t eval precision@10: 0.0018\n",
            "==============================\n"
          ]
        },
        {
          "output_type": "stream",
          "name": "stderr",
          "text": [
            "train: 100%|██████████| 33/33 [00:00<00:00, 337.43it/s]\n"
          ]
        },
        {
          "output_type": "stream",
          "name": "stdout",
          "text": [
            "Epoch 64 elapsed: 0.104s\n",
            "\t \u001b[32mtrain_loss: 0.0456\u001b[0m\n"
          ]
        },
        {
          "output_type": "stream",
          "name": "stderr",
          "text": [
            "eval_listwise: 100%|██████████| 227/227 [00:00<00:00, 2025.41it/s]\n"
          ]
        },
        {
          "output_type": "stream",
          "name": "stdout",
          "text": [
            "\t eval ndcg@10: 0.0104\n",
            "\t eval precision@10: 0.0026\n",
            "==============================\n"
          ]
        },
        {
          "output_type": "stream",
          "name": "stderr",
          "text": [
            "train: 100%|██████████| 33/33 [00:00<00:00, 432.43it/s]\n"
          ]
        },
        {
          "output_type": "stream",
          "name": "stdout",
          "text": [
            "Epoch 65 elapsed: 0.082s\n",
            "\t \u001b[32mtrain_loss: 0.0474\u001b[0m\n"
          ]
        },
        {
          "output_type": "stream",
          "name": "stderr",
          "text": [
            "eval_listwise: 100%|██████████| 227/227 [00:00<00:00, 2088.33it/s]\n"
          ]
        },
        {
          "output_type": "stream",
          "name": "stdout",
          "text": [
            "\t eval ndcg@10: 0.0118\n",
            "\t eval precision@10: 0.0022\n",
            "==============================\n"
          ]
        },
        {
          "output_type": "stream",
          "name": "stderr",
          "text": [
            "train: 100%|██████████| 33/33 [00:00<00:00, 352.72it/s]\n"
          ]
        },
        {
          "output_type": "stream",
          "name": "stdout",
          "text": [
            "Epoch 66 elapsed: 0.099s\n",
            "\t \u001b[32mtrain_loss: 0.0474\u001b[0m\n"
          ]
        },
        {
          "output_type": "stream",
          "name": "stderr",
          "text": [
            "eval_listwise: 100%|██████████| 227/227 [00:00<00:00, 2123.75it/s]\n"
          ]
        },
        {
          "output_type": "stream",
          "name": "stdout",
          "text": [
            "\t eval ndcg@10: 0.0130\n",
            "\t eval precision@10: 0.0026\n",
            "==============================\n"
          ]
        },
        {
          "output_type": "stream",
          "name": "stderr",
          "text": [
            "train: 100%|██████████| 33/33 [00:00<00:00, 391.35it/s]\n"
          ]
        },
        {
          "output_type": "stream",
          "name": "stdout",
          "text": [
            "Epoch 67 elapsed: 0.091s\n",
            "\t \u001b[32mtrain_loss: 0.0427\u001b[0m\n"
          ]
        },
        {
          "output_type": "stream",
          "name": "stderr",
          "text": [
            "eval_listwise: 100%|██████████| 227/227 [00:00<00:00, 1649.80it/s]\n"
          ]
        },
        {
          "output_type": "stream",
          "name": "stdout",
          "text": [
            "\t eval ndcg@10: 0.0124\n",
            "\t eval precision@10: 0.0022\n",
            "==============================\n"
          ]
        },
        {
          "output_type": "stream",
          "name": "stderr",
          "text": [
            "train: 100%|██████████| 33/33 [00:00<00:00, 442.06it/s]\n"
          ]
        },
        {
          "output_type": "stream",
          "name": "stdout",
          "text": [
            "Epoch 68 elapsed: 0.081s\n",
            "\t \u001b[32mtrain_loss: 0.0454\u001b[0m\n"
          ]
        },
        {
          "output_type": "stream",
          "name": "stderr",
          "text": [
            "eval_listwise: 100%|██████████| 227/227 [00:00<00:00, 1647.53it/s]\n"
          ]
        },
        {
          "output_type": "stream",
          "name": "stdout",
          "text": [
            "\t eval ndcg@10: 0.0124\n",
            "\t eval precision@10: 0.0022\n",
            "==============================\n"
          ]
        },
        {
          "output_type": "stream",
          "name": "stderr",
          "text": [
            "train: 100%|██████████| 33/33 [00:00<00:00, 484.46it/s]\n"
          ]
        },
        {
          "output_type": "stream",
          "name": "stdout",
          "text": [
            "Epoch 69 elapsed: 0.075s\n",
            "\t \u001b[32mtrain_loss: 0.0435\u001b[0m\n"
          ]
        },
        {
          "output_type": "stream",
          "name": "stderr",
          "text": [
            "eval_listwise: 100%|██████████| 227/227 [00:00<00:00, 1998.47it/s]\n"
          ]
        },
        {
          "output_type": "stream",
          "name": "stdout",
          "text": [
            "\t eval ndcg@10: 0.0084\n",
            "\t eval precision@10: 0.0018\n",
            "==============================\n"
          ]
        },
        {
          "output_type": "stream",
          "name": "stderr",
          "text": [
            "train: 100%|██████████| 33/33 [00:00<00:00, 450.58it/s]\n"
          ]
        },
        {
          "output_type": "stream",
          "name": "stdout",
          "text": [
            "Epoch 70 elapsed: 0.083s\n",
            "\t \u001b[32mtrain_loss: 0.0474\u001b[0m\n"
          ]
        },
        {
          "output_type": "stream",
          "name": "stderr",
          "text": [
            "eval_listwise: 100%|██████████| 227/227 [00:00<00:00, 2052.34it/s]\n"
          ]
        },
        {
          "output_type": "stream",
          "name": "stdout",
          "text": [
            "\t eval ndcg@10: 0.0083\n",
            "\t eval precision@10: 0.0018\n",
            "==============================\n"
          ]
        },
        {
          "output_type": "stream",
          "name": "stderr",
          "text": [
            "train: 100%|██████████| 33/33 [00:00<00:00, 443.53it/s]\n"
          ]
        },
        {
          "output_type": "stream",
          "name": "stdout",
          "text": [
            "Epoch 71 elapsed: 0.083s\n",
            "\t \u001b[32mtrain_loss: 0.0487\u001b[0m\n"
          ]
        },
        {
          "output_type": "stream",
          "name": "stderr",
          "text": [
            "eval_listwise: 100%|██████████| 227/227 [00:00<00:00, 2110.85it/s]\n"
          ]
        },
        {
          "output_type": "stream",
          "name": "stdout",
          "text": [
            "\t eval ndcg@10: 0.0094\n",
            "\t eval precision@10: 0.0022\n",
            "==============================\n"
          ]
        },
        {
          "output_type": "stream",
          "name": "stderr",
          "text": [
            "train: 100%|██████████| 33/33 [00:00<00:00, 319.60it/s]\n"
          ]
        },
        {
          "output_type": "stream",
          "name": "stdout",
          "text": [
            "Epoch 72 elapsed: 0.112s\n",
            "\t \u001b[32mtrain_loss: 0.0827\u001b[0m\n"
          ]
        },
        {
          "output_type": "stream",
          "name": "stderr",
          "text": [
            "eval_listwise: 100%|██████████| 227/227 [00:00<00:00, 1826.76it/s]\n"
          ]
        },
        {
          "output_type": "stream",
          "name": "stdout",
          "text": [
            "\t eval ndcg@10: 0.0094\n",
            "\t eval precision@10: 0.0022\n",
            "==============================\n"
          ]
        },
        {
          "output_type": "stream",
          "name": "stderr",
          "text": [
            "train: 100%|██████████| 33/33 [00:00<00:00, 450.03it/s]\n"
          ]
        },
        {
          "output_type": "stream",
          "name": "stdout",
          "text": [
            "Epoch 73 elapsed: 0.079s\n",
            "\t \u001b[32mtrain_loss: 0.0464\u001b[0m\n"
          ]
        },
        {
          "output_type": "stream",
          "name": "stderr",
          "text": [
            "eval_listwise: 100%|██████████| 227/227 [00:00<00:00, 1909.80it/s]\n"
          ]
        },
        {
          "output_type": "stream",
          "name": "stdout",
          "text": [
            "\t eval ndcg@10: 0.0077\n",
            "\t eval precision@10: 0.0018\n",
            "==============================\n"
          ]
        },
        {
          "output_type": "stream",
          "name": "stderr",
          "text": [
            "train: 100%|██████████| 33/33 [00:00<00:00, 462.07it/s]\n"
          ]
        },
        {
          "output_type": "stream",
          "name": "stdout",
          "text": [
            "Epoch 74 elapsed: 0.078s\n",
            "\t \u001b[32mtrain_loss: 0.0431\u001b[0m\n"
          ]
        },
        {
          "output_type": "stream",
          "name": "stderr",
          "text": [
            "eval_listwise: 100%|██████████| 227/227 [00:00<00:00, 1782.68it/s]\n"
          ]
        },
        {
          "output_type": "stream",
          "name": "stdout",
          "text": [
            "\t eval ndcg@10: 0.0090\n",
            "\t eval precision@10: 0.0022\n",
            "==============================\n"
          ]
        },
        {
          "output_type": "stream",
          "name": "stderr",
          "text": [
            "train: 100%|██████████| 33/33 [00:00<00:00, 473.48it/s]\n"
          ]
        },
        {
          "output_type": "stream",
          "name": "stdout",
          "text": [
            "Epoch 75 elapsed: 0.076s\n",
            "\t \u001b[32mtrain_loss: 0.0432\u001b[0m\n"
          ]
        },
        {
          "output_type": "stream",
          "name": "stderr",
          "text": [
            "eval_listwise: 100%|██████████| 227/227 [00:00<00:00, 2004.66it/s]\n"
          ]
        },
        {
          "output_type": "stream",
          "name": "stdout",
          "text": [
            "\t eval ndcg@10: 0.0106\n",
            "\t eval precision@10: 0.0022\n",
            "==============================\n"
          ]
        },
        {
          "output_type": "stream",
          "name": "stderr",
          "text": [
            "train: 100%|██████████| 33/33 [00:00<00:00, 383.39it/s]\n"
          ]
        },
        {
          "output_type": "stream",
          "name": "stdout",
          "text": [
            "Epoch 76 elapsed: 0.091s\n",
            "\t \u001b[32mtrain_loss: 0.0437\u001b[0m\n"
          ]
        },
        {
          "output_type": "stream",
          "name": "stderr",
          "text": [
            "eval_listwise: 100%|██████████| 227/227 [00:00<00:00, 1485.76it/s]\n"
          ]
        },
        {
          "output_type": "stream",
          "name": "stdout",
          "text": [
            "\t eval ndcg@10: 0.0107\n",
            "\t eval precision@10: 0.0022\n",
            "==============================\n"
          ]
        },
        {
          "output_type": "stream",
          "name": "stderr",
          "text": [
            "train: 100%|██████████| 33/33 [00:00<00:00, 400.11it/s]\n"
          ]
        },
        {
          "output_type": "stream",
          "name": "stdout",
          "text": [
            "Epoch 77 elapsed: 0.088s\n",
            "\t \u001b[32mtrain_loss: 0.0483\u001b[0m\n"
          ]
        },
        {
          "output_type": "stream",
          "name": "stderr",
          "text": [
            "eval_listwise: 100%|██████████| 227/227 [00:00<00:00, 2330.65it/s]\n"
          ]
        },
        {
          "output_type": "stream",
          "name": "stdout",
          "text": [
            "\t eval ndcg@10: 0.0095\n",
            "\t eval precision@10: 0.0018\n",
            "==============================\n"
          ]
        },
        {
          "output_type": "stream",
          "name": "stderr",
          "text": [
            "train: 100%|██████████| 33/33 [00:00<00:00, 353.13it/s]\n"
          ]
        },
        {
          "output_type": "stream",
          "name": "stdout",
          "text": [
            "Epoch 78 elapsed: 0.100s\n",
            "\t \u001b[32mtrain_loss: 0.0425\u001b[0m\n"
          ]
        },
        {
          "output_type": "stream",
          "name": "stderr",
          "text": [
            "eval_listwise: 100%|██████████| 227/227 [00:00<00:00, 1932.31it/s]\n"
          ]
        },
        {
          "output_type": "stream",
          "name": "stdout",
          "text": [
            "\t eval ndcg@10: 0.0091\n",
            "\t eval precision@10: 0.0018\n",
            "==============================\n"
          ]
        },
        {
          "output_type": "stream",
          "name": "stderr",
          "text": [
            "train: 100%|██████████| 33/33 [00:00<00:00, 408.08it/s]\n"
          ]
        },
        {
          "output_type": "stream",
          "name": "stdout",
          "text": [
            "Epoch 79 elapsed: 0.087s\n",
            "\t \u001b[32mtrain_loss: 0.0415\u001b[0m\n"
          ]
        },
        {
          "output_type": "stream",
          "name": "stderr",
          "text": [
            "eval_listwise: 100%|██████████| 227/227 [00:00<00:00, 2299.96it/s]\n"
          ]
        },
        {
          "output_type": "stream",
          "name": "stdout",
          "text": [
            "\t eval ndcg@10: 0.0121\n",
            "\t eval precision@10: 0.0026\n",
            "==============================\n"
          ]
        },
        {
          "output_type": "stream",
          "name": "stderr",
          "text": [
            "train: 100%|██████████| 33/33 [00:00<00:00, 401.65it/s]\n"
          ]
        },
        {
          "output_type": "stream",
          "name": "stdout",
          "text": [
            "Epoch 80 elapsed: 0.089s\n",
            "\t \u001b[32mtrain_loss: 0.0504\u001b[0m\n"
          ]
        },
        {
          "output_type": "stream",
          "name": "stderr",
          "text": [
            "eval_listwise: 100%|██████████| 227/227 [00:00<00:00, 2097.83it/s]\n"
          ]
        },
        {
          "output_type": "stream",
          "name": "stdout",
          "text": [
            "\t eval ndcg@10: 0.0106\n",
            "\t eval precision@10: 0.0022\n",
            "==============================\n"
          ]
        },
        {
          "output_type": "stream",
          "name": "stderr",
          "text": [
            "train: 100%|██████████| 33/33 [00:00<00:00, 413.77it/s]\n"
          ]
        },
        {
          "output_type": "stream",
          "name": "stdout",
          "text": [
            "Epoch 81 elapsed: 0.086s\n",
            "\t \u001b[32mtrain_loss: 0.0502\u001b[0m\n"
          ]
        },
        {
          "output_type": "stream",
          "name": "stderr",
          "text": [
            "eval_listwise: 100%|██████████| 227/227 [00:00<00:00, 1865.38it/s]\n"
          ]
        },
        {
          "output_type": "stream",
          "name": "stdout",
          "text": [
            "\t eval ndcg@10: 0.0123\n",
            "\t eval precision@10: 0.0026\n",
            "==============================\n"
          ]
        },
        {
          "output_type": "stream",
          "name": "stderr",
          "text": [
            "train: 100%|██████████| 33/33 [00:00<00:00, 459.91it/s]\n"
          ]
        },
        {
          "output_type": "stream",
          "name": "stdout",
          "text": [
            "Epoch 82 elapsed: 0.078s\n",
            "\t \u001b[32mtrain_loss: 0.0458\u001b[0m\n"
          ]
        },
        {
          "output_type": "stream",
          "name": "stderr",
          "text": [
            "eval_listwise: 100%|██████████| 227/227 [00:00<00:00, 1567.86it/s]\n"
          ]
        },
        {
          "output_type": "stream",
          "name": "stdout",
          "text": [
            "\t eval ndcg@10: 0.0125\n",
            "\t eval precision@10: 0.0026\n",
            "==============================\n"
          ]
        },
        {
          "output_type": "stream",
          "name": "stderr",
          "text": [
            "train: 100%|██████████| 33/33 [00:00<00:00, 370.76it/s]\n"
          ]
        },
        {
          "output_type": "stream",
          "name": "stdout",
          "text": [
            "Epoch 83 elapsed: 0.098s\n",
            "\t \u001b[32mtrain_loss: 0.0526\u001b[0m\n"
          ]
        },
        {
          "output_type": "stream",
          "name": "stderr",
          "text": [
            "eval_listwise: 100%|██████████| 227/227 [00:00<00:00, 1883.99it/s]\n"
          ]
        },
        {
          "output_type": "stream",
          "name": "stdout",
          "text": [
            "\t eval ndcg@10: 0.0124\n",
            "\t eval precision@10: 0.0026\n",
            "==============================\n"
          ]
        },
        {
          "output_type": "stream",
          "name": "stderr",
          "text": [
            "train: 100%|██████████| 33/33 [00:00<00:00, 518.70it/s]\n"
          ]
        },
        {
          "output_type": "stream",
          "name": "stdout",
          "text": [
            "Epoch 84 elapsed: 0.070s\n",
            "\t \u001b[32mtrain_loss: 0.0478\u001b[0m\n"
          ]
        },
        {
          "output_type": "stream",
          "name": "stderr",
          "text": [
            "eval_listwise: 100%|██████████| 227/227 [00:00<00:00, 2022.60it/s]\n"
          ]
        },
        {
          "output_type": "stream",
          "name": "stdout",
          "text": [
            "\t eval ndcg@10: 0.0123\n",
            "\t eval precision@10: 0.0026\n",
            "==============================\n"
          ]
        },
        {
          "output_type": "stream",
          "name": "stderr",
          "text": [
            "train: 100%|██████████| 33/33 [00:00<00:00, 464.86it/s]\n"
          ]
        },
        {
          "output_type": "stream",
          "name": "stdout",
          "text": [
            "Epoch 85 elapsed: 0.078s\n",
            "\t \u001b[32mtrain_loss: 0.0462\u001b[0m\n"
          ]
        },
        {
          "output_type": "stream",
          "name": "stderr",
          "text": [
            "eval_listwise: 100%|██████████| 227/227 [00:00<00:00, 1509.94it/s]\n"
          ]
        },
        {
          "output_type": "stream",
          "name": "stdout",
          "text": [
            "\t eval ndcg@10: 0.0115\n",
            "\t eval precision@10: 0.0022\n",
            "==============================\n"
          ]
        },
        {
          "output_type": "stream",
          "name": "stderr",
          "text": [
            "train: 100%|██████████| 33/33 [00:00<00:00, 423.99it/s]\n"
          ]
        },
        {
          "output_type": "stream",
          "name": "stdout",
          "text": [
            "Epoch 86 elapsed: 0.085s\n",
            "\t \u001b[32mtrain_loss: 0.0516\u001b[0m\n"
          ]
        },
        {
          "output_type": "stream",
          "name": "stderr",
          "text": [
            "eval_listwise: 100%|██████████| 227/227 [00:00<00:00, 1838.68it/s]\n"
          ]
        },
        {
          "output_type": "stream",
          "name": "stdout",
          "text": [
            "\t eval ndcg@10: 0.0116\n",
            "\t eval precision@10: 0.0022\n",
            "==============================\n"
          ]
        },
        {
          "output_type": "stream",
          "name": "stderr",
          "text": [
            "train: 100%|██████████| 33/33 [00:00<00:00, 433.83it/s]\n"
          ]
        },
        {
          "output_type": "stream",
          "name": "stdout",
          "text": [
            "Epoch 87 elapsed: 0.082s\n",
            "\t \u001b[32mtrain_loss: 0.049\u001b[0m\n"
          ]
        },
        {
          "output_type": "stream",
          "name": "stderr",
          "text": [
            "eval_listwise: 100%|██████████| 227/227 [00:00<00:00, 2050.17it/s]\n"
          ]
        },
        {
          "output_type": "stream",
          "name": "stdout",
          "text": [
            "\t eval ndcg@10: 0.0115\n",
            "\t eval precision@10: 0.0022\n",
            "==============================\n"
          ]
        },
        {
          "output_type": "stream",
          "name": "stderr",
          "text": [
            "train: 100%|██████████| 33/33 [00:00<00:00, 404.35it/s]\n"
          ]
        },
        {
          "output_type": "stream",
          "name": "stdout",
          "text": [
            "Epoch 88 elapsed: 0.089s\n",
            "\t \u001b[32mtrain_loss: 0.0501\u001b[0m\n"
          ]
        },
        {
          "output_type": "stream",
          "name": "stderr",
          "text": [
            "eval_listwise: 100%|██████████| 227/227 [00:00<00:00, 2111.49it/s]\n"
          ]
        },
        {
          "output_type": "stream",
          "name": "stdout",
          "text": [
            "\t eval ndcg@10: 0.0128\n",
            "\t eval precision@10: 0.0026\n",
            "==============================\n"
          ]
        },
        {
          "output_type": "stream",
          "name": "stderr",
          "text": [
            "train: 100%|██████████| 33/33 [00:00<00:00, 350.80it/s]\n"
          ]
        },
        {
          "output_type": "stream",
          "name": "stdout",
          "text": [
            "Epoch 89 elapsed: 0.102s\n",
            "\t \u001b[32mtrain_loss: 0.0417\u001b[0m\n"
          ]
        },
        {
          "output_type": "stream",
          "name": "stderr",
          "text": [
            "eval_listwise: 100%|██████████| 227/227 [00:00<00:00, 1830.42it/s]\n"
          ]
        },
        {
          "output_type": "stream",
          "name": "stdout",
          "text": [
            "\t eval ndcg@10: 0.0159\n",
            "\t eval precision@10: 0.0035\n",
            "==============================\n"
          ]
        },
        {
          "output_type": "stream",
          "name": "stderr",
          "text": [
            "train: 100%|██████████| 33/33 [00:00<00:00, 401.35it/s]\n"
          ]
        },
        {
          "output_type": "stream",
          "name": "stdout",
          "text": [
            "Epoch 90 elapsed: 0.090s\n",
            "\t \u001b[32mtrain_loss: 0.0584\u001b[0m\n"
          ]
        },
        {
          "output_type": "stream",
          "name": "stderr",
          "text": [
            "eval_listwise: 100%|██████████| 227/227 [00:00<00:00, 2005.68it/s]\n"
          ]
        },
        {
          "output_type": "stream",
          "name": "stdout",
          "text": [
            "\t eval ndcg@10: 0.0172\n",
            "\t eval precision@10: 0.0035\n",
            "==============================\n"
          ]
        },
        {
          "output_type": "stream",
          "name": "stderr",
          "text": [
            "train: 100%|██████████| 33/33 [00:00<00:00, 472.25it/s]\n"
          ]
        },
        {
          "output_type": "stream",
          "name": "stdout",
          "text": [
            "Epoch 91 elapsed: 0.080s\n",
            "\t \u001b[32mtrain_loss: 0.0428\u001b[0m\n"
          ]
        },
        {
          "output_type": "stream",
          "name": "stderr",
          "text": [
            "eval_listwise: 100%|██████████| 227/227 [00:00<00:00, 1628.37it/s]\n"
          ]
        },
        {
          "output_type": "stream",
          "name": "stdout",
          "text": [
            "\t eval ndcg@10: 0.0168\n",
            "\t eval precision@10: 0.0035\n",
            "==============================\n"
          ]
        },
        {
          "output_type": "stream",
          "name": "stderr",
          "text": [
            "train: 100%|██████████| 33/33 [00:00<00:00, 402.58it/s]\n"
          ]
        },
        {
          "output_type": "stream",
          "name": "stdout",
          "text": [
            "Epoch 92 elapsed: 0.089s\n",
            "\t \u001b[32mtrain_loss: 0.0476\u001b[0m\n"
          ]
        },
        {
          "output_type": "stream",
          "name": "stderr",
          "text": [
            "eval_listwise: 100%|██████████| 227/227 [00:00<00:00, 1889.12it/s]\n"
          ]
        },
        {
          "output_type": "stream",
          "name": "stdout",
          "text": [
            "\t eval ndcg@10: 0.0159\n",
            "\t eval precision@10: 0.0031\n",
            "==============================\n"
          ]
        },
        {
          "output_type": "stream",
          "name": "stderr",
          "text": [
            "train: 100%|██████████| 33/33 [00:00<00:00, 377.90it/s]\n"
          ]
        },
        {
          "output_type": "stream",
          "name": "stdout",
          "text": [
            "Epoch 93 elapsed: 0.096s\n",
            "\t \u001b[32mtrain_loss: 0.045\u001b[0m\n"
          ]
        },
        {
          "output_type": "stream",
          "name": "stderr",
          "text": [
            "eval_listwise: 100%|██████████| 227/227 [00:00<00:00, 987.76it/s]\n"
          ]
        },
        {
          "output_type": "stream",
          "name": "stdout",
          "text": [
            "\t eval ndcg@10: 0.0164\n",
            "\t eval precision@10: 0.0031\n",
            "==============================\n"
          ]
        },
        {
          "output_type": "stream",
          "name": "stderr",
          "text": [
            "train: 100%|██████████| 33/33 [00:00<00:00, 316.34it/s]\n"
          ]
        },
        {
          "output_type": "stream",
          "name": "stdout",
          "text": [
            "Epoch 94 elapsed: 0.113s\n",
            "\t \u001b[32mtrain_loss: 0.0432\u001b[0m\n"
          ]
        },
        {
          "output_type": "stream",
          "name": "stderr",
          "text": [
            "eval_listwise: 100%|██████████| 227/227 [00:00<00:00, 1953.02it/s]\n"
          ]
        },
        {
          "output_type": "stream",
          "name": "stdout",
          "text": [
            "\t eval ndcg@10: 0.0182\n",
            "\t eval precision@10: 0.0035\n",
            "==============================\n"
          ]
        },
        {
          "output_type": "stream",
          "name": "stderr",
          "text": [
            "train: 100%|██████████| 33/33 [00:00<00:00, 505.41it/s]\n"
          ]
        },
        {
          "output_type": "stream",
          "name": "stdout",
          "text": [
            "Epoch 95 elapsed: 0.072s\n",
            "\t \u001b[32mtrain_loss: 0.0464\u001b[0m\n"
          ]
        },
        {
          "output_type": "stream",
          "name": "stderr",
          "text": [
            "eval_listwise: 100%|██████████| 227/227 [00:00<00:00, 1683.72it/s]\n"
          ]
        },
        {
          "output_type": "stream",
          "name": "stdout",
          "text": [
            "\t eval ndcg@10: 0.0182\n",
            "\t eval precision@10: 0.0035\n",
            "==============================\n"
          ]
        },
        {
          "output_type": "stream",
          "name": "stderr",
          "text": [
            "train: 100%|██████████| 33/33 [00:00<00:00, 532.48it/s]\n"
          ]
        },
        {
          "output_type": "stream",
          "name": "stdout",
          "text": [
            "Epoch 96 elapsed: 0.068s\n",
            "\t \u001b[32mtrain_loss: 0.0427\u001b[0m\n"
          ]
        },
        {
          "output_type": "stream",
          "name": "stderr",
          "text": [
            "eval_listwise: 100%|██████████| 227/227 [00:00<00:00, 2181.81it/s]\n"
          ]
        },
        {
          "output_type": "stream",
          "name": "stdout",
          "text": [
            "\t eval ndcg@10: 0.0184\n",
            "\t eval precision@10: 0.0035\n",
            "==============================\n"
          ]
        },
        {
          "output_type": "stream",
          "name": "stderr",
          "text": [
            "train: 100%|██████████| 33/33 [00:00<00:00, 532.41it/s]\n"
          ]
        },
        {
          "output_type": "stream",
          "name": "stdout",
          "text": [
            "Epoch 97 elapsed: 0.068s\n",
            "\t \u001b[32mtrain_loss: 0.047\u001b[0m\n"
          ]
        },
        {
          "output_type": "stream",
          "name": "stderr",
          "text": [
            "eval_listwise: 100%|██████████| 227/227 [00:00<00:00, 2103.13it/s]\n"
          ]
        },
        {
          "output_type": "stream",
          "name": "stdout",
          "text": [
            "\t eval ndcg@10: 0.0201\n",
            "\t eval precision@10: 0.0040\n",
            "==============================\n"
          ]
        },
        {
          "output_type": "stream",
          "name": "stderr",
          "text": [
            "train: 100%|██████████| 33/33 [00:00<00:00, 394.81it/s]\n"
          ]
        },
        {
          "output_type": "stream",
          "name": "stdout",
          "text": [
            "Epoch 98 elapsed: 0.091s\n",
            "\t \u001b[32mtrain_loss: 0.0445\u001b[0m\n"
          ]
        },
        {
          "output_type": "stream",
          "name": "stderr",
          "text": [
            "eval_listwise: 100%|██████████| 227/227 [00:00<00:00, 1672.69it/s]\n"
          ]
        },
        {
          "output_type": "stream",
          "name": "stdout",
          "text": [
            "\t eval ndcg@10: 0.0197\n",
            "\t eval precision@10: 0.0040\n",
            "==============================\n"
          ]
        },
        {
          "output_type": "stream",
          "name": "stderr",
          "text": [
            "train: 100%|██████████| 33/33 [00:00<00:00, 380.19it/s]\n"
          ]
        },
        {
          "output_type": "stream",
          "name": "stdout",
          "text": [
            "Epoch 99 elapsed: 0.097s\n",
            "\t \u001b[32mtrain_loss: 0.0466\u001b[0m\n"
          ]
        },
        {
          "output_type": "stream",
          "name": "stderr",
          "text": [
            "eval_listwise: 100%|██████████| 227/227 [00:00<00:00, 2011.38it/s]\n"
          ]
        },
        {
          "output_type": "stream",
          "name": "stdout",
          "text": [
            "\t eval ndcg@10: 0.0210\n",
            "\t eval precision@10: 0.0040\n",
            "==============================\n"
          ]
        },
        {
          "output_type": "stream",
          "name": "stderr",
          "text": [
            "train: 100%|██████████| 33/33 [00:00<00:00, 429.43it/s]\n"
          ]
        },
        {
          "output_type": "stream",
          "name": "stdout",
          "text": [
            "Epoch 100 elapsed: 0.085s\n",
            "\t \u001b[32mtrain_loss: 0.0449\u001b[0m\n"
          ]
        },
        {
          "output_type": "stream",
          "name": "stderr",
          "text": [
            "eval_listwise: 100%|██████████| 227/227 [00:00<00:00, 1977.04it/s]\n"
          ]
        },
        {
          "output_type": "stream",
          "name": "stdout",
          "text": [
            "\t eval ndcg@10: 0.0208\n",
            "\t eval precision@10: 0.0044\n",
            "==============================\n"
          ]
        },
        {
          "output_type": "stream",
          "name": "stderr",
          "text": [
            "train: 100%|██████████| 33/33 [00:00<00:00, 360.90it/s]\n"
          ]
        },
        {
          "output_type": "stream",
          "name": "stdout",
          "text": [
            "Epoch 101 elapsed: 0.102s\n",
            "\t \u001b[32mtrain_loss: 0.0434\u001b[0m\n"
          ]
        },
        {
          "output_type": "stream",
          "name": "stderr",
          "text": [
            "eval_listwise: 100%|██████████| 227/227 [00:00<00:00, 2294.71it/s]\n"
          ]
        },
        {
          "output_type": "stream",
          "name": "stdout",
          "text": [
            "\t eval ndcg@10: 0.0210\n",
            "\t eval precision@10: 0.0044\n",
            "==============================\n"
          ]
        },
        {
          "output_type": "stream",
          "name": "stderr",
          "text": [
            "train: 100%|██████████| 33/33 [00:00<00:00, 398.12it/s]\n"
          ]
        },
        {
          "output_type": "stream",
          "name": "stdout",
          "text": [
            "Epoch 102 elapsed: 0.092s\n",
            "\t \u001b[32mtrain_loss: 0.041\u001b[0m\n"
          ]
        },
        {
          "output_type": "stream",
          "name": "stderr",
          "text": [
            "eval_listwise: 100%|██████████| 227/227 [00:00<00:00, 1616.05it/s]\n"
          ]
        },
        {
          "output_type": "stream",
          "name": "stdout",
          "text": [
            "\t eval ndcg@10: 0.0234\n",
            "\t eval precision@10: 0.0044\n",
            "==============================\n"
          ]
        },
        {
          "output_type": "stream",
          "name": "stderr",
          "text": [
            "train: 100%|██████████| 33/33 [00:00<00:00, 410.89it/s]\n"
          ]
        },
        {
          "output_type": "stream",
          "name": "stdout",
          "text": [
            "Epoch 103 elapsed: 0.090s\n",
            "\t \u001b[32mtrain_loss: 0.0506\u001b[0m\n"
          ]
        },
        {
          "output_type": "stream",
          "name": "stderr",
          "text": [
            "eval_listwise: 100%|██████████| 227/227 [00:00<00:00, 1960.48it/s]\n"
          ]
        },
        {
          "output_type": "stream",
          "name": "stdout",
          "text": [
            "\t eval ndcg@10: 0.0220\n",
            "\t eval precision@10: 0.0040\n",
            "==============================\n"
          ]
        },
        {
          "output_type": "stream",
          "name": "stderr",
          "text": [
            "train: 100%|██████████| 33/33 [00:00<00:00, 383.89it/s]\n"
          ]
        },
        {
          "output_type": "stream",
          "name": "stdout",
          "text": [
            "Epoch 104 elapsed: 0.092s\n",
            "\t \u001b[32mtrain_loss: 0.0483\u001b[0m\n"
          ]
        },
        {
          "output_type": "stream",
          "name": "stderr",
          "text": [
            "eval_listwise: 100%|██████████| 227/227 [00:00<00:00, 1559.19it/s]\n"
          ]
        },
        {
          "output_type": "stream",
          "name": "stdout",
          "text": [
            "\t eval ndcg@10: 0.0245\n",
            "\t eval precision@10: 0.0044\n",
            "==============================\n"
          ]
        },
        {
          "output_type": "stream",
          "name": "stderr",
          "text": [
            "train: 100%|██████████| 33/33 [00:00<00:00, 302.67it/s]\n"
          ]
        },
        {
          "output_type": "stream",
          "name": "stdout",
          "text": [
            "Epoch 105 elapsed: 0.116s\n",
            "\t \u001b[32mtrain_loss: 0.055\u001b[0m\n"
          ]
        },
        {
          "output_type": "stream",
          "name": "stderr",
          "text": [
            "eval_listwise: 100%|██████████| 227/227 [00:00<00:00, 2298.53it/s]\n"
          ]
        },
        {
          "output_type": "stream",
          "name": "stdout",
          "text": [
            "\t eval ndcg@10: 0.0262\n",
            "\t eval precision@10: 0.0048\n",
            "==============================\n"
          ]
        },
        {
          "output_type": "stream",
          "name": "stderr",
          "text": [
            "train: 100%|██████████| 33/33 [00:00<00:00, 448.62it/s]\n"
          ]
        },
        {
          "output_type": "stream",
          "name": "stdout",
          "text": [
            "Epoch 106 elapsed: 0.080s\n",
            "\t \u001b[32mtrain_loss: 0.0671\u001b[0m\n"
          ]
        },
        {
          "output_type": "stream",
          "name": "stderr",
          "text": [
            "eval_listwise: 100%|██████████| 227/227 [00:00<00:00, 948.73it/s]\n"
          ]
        },
        {
          "output_type": "stream",
          "name": "stdout",
          "text": [
            "\t eval ndcg@10: 0.0252\n",
            "\t eval precision@10: 0.0048\n",
            "==============================\n"
          ]
        },
        {
          "output_type": "stream",
          "name": "stderr",
          "text": [
            "train: 100%|██████████| 33/33 [00:00<00:00, 429.45it/s]\n"
          ]
        },
        {
          "output_type": "stream",
          "name": "stdout",
          "text": [
            "Epoch 107 elapsed: 0.087s\n",
            "\t \u001b[32mtrain_loss: 0.0569\u001b[0m\n"
          ]
        },
        {
          "output_type": "stream",
          "name": "stderr",
          "text": [
            "eval_listwise: 100%|██████████| 227/227 [00:00<00:00, 1018.05it/s]\n"
          ]
        },
        {
          "output_type": "stream",
          "name": "stdout",
          "text": [
            "\t eval ndcg@10: 0.0249\n",
            "\t eval precision@10: 0.0048\n",
            "==============================\n"
          ]
        },
        {
          "output_type": "stream",
          "name": "stderr",
          "text": [
            "train: 100%|██████████| 33/33 [00:00<00:00, 477.51it/s]\n"
          ]
        },
        {
          "output_type": "stream",
          "name": "stdout",
          "text": [
            "Epoch 108 elapsed: 0.078s\n",
            "\t \u001b[32mtrain_loss: 0.0485\u001b[0m\n"
          ]
        },
        {
          "output_type": "stream",
          "name": "stderr",
          "text": [
            "eval_listwise: 100%|██████████| 227/227 [00:00<00:00, 1746.62it/s]\n"
          ]
        },
        {
          "output_type": "stream",
          "name": "stdout",
          "text": [
            "\t eval ndcg@10: 0.0195\n",
            "\t eval precision@10: 0.0031\n",
            "==============================\n"
          ]
        },
        {
          "output_type": "stream",
          "name": "stderr",
          "text": [
            "train: 100%|██████████| 33/33 [00:00<00:00, 428.07it/s]\n"
          ]
        },
        {
          "output_type": "stream",
          "name": "stdout",
          "text": [
            "Epoch 109 elapsed: 0.085s\n",
            "\t \u001b[32mtrain_loss: 0.0449\u001b[0m\n"
          ]
        },
        {
          "output_type": "stream",
          "name": "stderr",
          "text": [
            "eval_listwise: 100%|██████████| 227/227 [00:00<00:00, 1924.33it/s]\n"
          ]
        },
        {
          "output_type": "stream",
          "name": "stdout",
          "text": [
            "\t eval ndcg@10: 0.0197\n",
            "\t eval precision@10: 0.0031\n",
            "==============================\n"
          ]
        },
        {
          "output_type": "stream",
          "name": "stderr",
          "text": [
            "train: 100%|██████████| 33/33 [00:00<00:00, 422.79it/s]\n"
          ]
        },
        {
          "output_type": "stream",
          "name": "stdout",
          "text": [
            "Epoch 110 elapsed: 0.092s\n",
            "\t \u001b[32mtrain_loss: 0.0545\u001b[0m\n"
          ]
        },
        {
          "output_type": "stream",
          "name": "stderr",
          "text": [
            "eval_listwise: 100%|██████████| 227/227 [00:00<00:00, 1871.44it/s]\n"
          ]
        },
        {
          "output_type": "stream",
          "name": "stdout",
          "text": [
            "\t eval ndcg@10: 0.0188\n",
            "\t eval precision@10: 0.0031\n",
            "==============================\n"
          ]
        },
        {
          "output_type": "stream",
          "name": "stderr",
          "text": [
            "train: 100%|██████████| 33/33 [00:00<00:00, 388.35it/s]\n"
          ]
        },
        {
          "output_type": "stream",
          "name": "stdout",
          "text": [
            "Epoch 111 elapsed: 0.091s\n",
            "\t \u001b[32mtrain_loss: 0.0454\u001b[0m\n"
          ]
        },
        {
          "output_type": "stream",
          "name": "stderr",
          "text": [
            "eval_listwise: 100%|██████████| 227/227 [00:00<00:00, 1016.78it/s]\n"
          ]
        },
        {
          "output_type": "stream",
          "name": "stdout",
          "text": [
            "\t eval ndcg@10: 0.0188\n",
            "\t eval precision@10: 0.0031\n",
            "==============================\n"
          ]
        },
        {
          "output_type": "stream",
          "name": "stderr",
          "text": [
            "train: 100%|██████████| 33/33 [00:00<00:00, 443.37it/s]\n"
          ]
        },
        {
          "output_type": "stream",
          "name": "stdout",
          "text": [
            "Epoch 112 elapsed: 0.080s\n",
            "\t \u001b[32mtrain_loss: 0.0454\u001b[0m\n"
          ]
        },
        {
          "output_type": "stream",
          "name": "stderr",
          "text": [
            "eval_listwise: 100%|██████████| 227/227 [00:00<00:00, 1014.24it/s]\n"
          ]
        },
        {
          "output_type": "stream",
          "name": "stdout",
          "text": [
            "\t eval ndcg@10: 0.0195\n",
            "\t eval precision@10: 0.0035\n",
            "==============================\n"
          ]
        },
        {
          "output_type": "stream",
          "name": "stderr",
          "text": [
            "train: 100%|██████████| 33/33 [00:00<00:00, 473.13it/s]\n"
          ]
        },
        {
          "output_type": "stream",
          "name": "stdout",
          "text": [
            "Epoch 113 elapsed: 0.076s\n",
            "\t \u001b[32mtrain_loss: 0.0514\u001b[0m\n"
          ]
        },
        {
          "output_type": "stream",
          "name": "stderr",
          "text": [
            "eval_listwise: 100%|██████████| 227/227 [00:00<00:00, 1051.53it/s]\n"
          ]
        },
        {
          "output_type": "stream",
          "name": "stdout",
          "text": [
            "\t eval ndcg@10: 0.0178\n",
            "\t eval precision@10: 0.0035\n",
            "==============================\n"
          ]
        },
        {
          "output_type": "stream",
          "name": "stderr",
          "text": [
            "train: 100%|██████████| 33/33 [00:00<00:00, 497.25it/s]\n"
          ]
        },
        {
          "output_type": "stream",
          "name": "stdout",
          "text": [
            "Epoch 114 elapsed: 0.073s\n",
            "\t \u001b[32mtrain_loss: 0.0454\u001b[0m\n"
          ]
        },
        {
          "output_type": "stream",
          "name": "stderr",
          "text": [
            "eval_listwise: 100%|██████████| 227/227 [00:00<00:00, 1662.60it/s]\n"
          ]
        },
        {
          "output_type": "stream",
          "name": "stdout",
          "text": [
            "\t eval ndcg@10: 0.0164\n",
            "\t eval precision@10: 0.0031\n",
            "==============================\n"
          ]
        },
        {
          "output_type": "stream",
          "name": "stderr",
          "text": [
            "train: 100%|██████████| 33/33 [00:00<00:00, 491.06it/s]\n"
          ]
        },
        {
          "output_type": "stream",
          "name": "stdout",
          "text": [
            "Epoch 115 elapsed: 0.077s\n",
            "\t \u001b[32mtrain_loss: 0.0431\u001b[0m\n"
          ]
        },
        {
          "output_type": "stream",
          "name": "stderr",
          "text": [
            "eval_listwise: 100%|██████████| 227/227 [00:00<00:00, 1544.60it/s]\n"
          ]
        },
        {
          "output_type": "stream",
          "name": "stdout",
          "text": [
            "\t eval ndcg@10: 0.0180\n",
            "\t eval precision@10: 0.0031\n",
            "==============================\n"
          ]
        },
        {
          "output_type": "stream",
          "name": "stderr",
          "text": [
            "train: 100%|██████████| 33/33 [00:00<00:00, 369.73it/s]\n"
          ]
        },
        {
          "output_type": "stream",
          "name": "stdout",
          "text": [
            "Epoch 116 elapsed: 0.095s\n",
            "\t \u001b[32mtrain_loss: 0.0471\u001b[0m\n"
          ]
        },
        {
          "output_type": "stream",
          "name": "stderr",
          "text": [
            "eval_listwise: 100%|██████████| 227/227 [00:00<00:00, 1216.54it/s]\n"
          ]
        },
        {
          "output_type": "stream",
          "name": "stdout",
          "text": [
            "\t eval ndcg@10: 0.0172\n",
            "\t eval precision@10: 0.0035\n",
            "==============================\n"
          ]
        },
        {
          "output_type": "stream",
          "name": "stderr",
          "text": [
            "train: 100%|██████████| 33/33 [00:00<00:00, 388.35it/s]\n"
          ]
        },
        {
          "output_type": "stream",
          "name": "stdout",
          "text": [
            "Epoch 117 elapsed: 0.092s\n",
            "\t \u001b[32mtrain_loss: 0.0416\u001b[0m\n"
          ]
        },
        {
          "output_type": "stream",
          "name": "stderr",
          "text": [
            "eval_listwise: 100%|██████████| 227/227 [00:00<00:00, 1528.47it/s]\n"
          ]
        },
        {
          "output_type": "stream",
          "name": "stdout",
          "text": [
            "\t eval ndcg@10: 0.0138\n",
            "\t eval precision@10: 0.0031\n",
            "==============================\n"
          ]
        },
        {
          "output_type": "stream",
          "name": "stderr",
          "text": [
            "train: 100%|██████████| 33/33 [00:00<00:00, 415.33it/s]\n"
          ]
        },
        {
          "output_type": "stream",
          "name": "stdout",
          "text": [
            "Epoch 118 elapsed: 0.086s\n",
            "\t \u001b[32mtrain_loss: 0.0458\u001b[0m\n"
          ]
        },
        {
          "output_type": "stream",
          "name": "stderr",
          "text": [
            "eval_listwise: 100%|██████████| 227/227 [00:00<00:00, 1884.55it/s]\n"
          ]
        },
        {
          "output_type": "stream",
          "name": "stdout",
          "text": [
            "\t eval ndcg@10: 0.0178\n",
            "\t eval precision@10: 0.0044\n",
            "==============================\n"
          ]
        },
        {
          "output_type": "stream",
          "name": "stderr",
          "text": [
            "train: 100%|██████████| 33/33 [00:00<00:00, 368.78it/s]\n"
          ]
        },
        {
          "output_type": "stream",
          "name": "stdout",
          "text": [
            "Epoch 119 elapsed: 0.100s\n",
            "\t \u001b[32mtrain_loss: 0.0592\u001b[0m\n"
          ]
        },
        {
          "output_type": "stream",
          "name": "stderr",
          "text": [
            "eval_listwise: 100%|██████████| 227/227 [00:00<00:00, 634.53it/s]\n"
          ]
        },
        {
          "output_type": "stream",
          "name": "stdout",
          "text": [
            "\t eval ndcg@10: 0.0194\n",
            "\t eval precision@10: 0.0048\n",
            "==============================\n"
          ]
        },
        {
          "output_type": "stream",
          "name": "stderr",
          "text": [
            "train: 100%|██████████| 33/33 [00:00<00:00, 415.49it/s]\n"
          ]
        },
        {
          "output_type": "stream",
          "name": "stdout",
          "text": [
            "Epoch 120 elapsed: 0.098s\n",
            "\t \u001b[32mtrain_loss: 0.0388\u001b[0m\n"
          ]
        },
        {
          "output_type": "stream",
          "name": "stderr",
          "text": [
            "eval_listwise: 100%|██████████| 227/227 [00:00<00:00, 1823.51it/s]\n"
          ]
        },
        {
          "output_type": "stream",
          "name": "stdout",
          "text": [
            "\t eval ndcg@10: 0.0197\n",
            "\t eval precision@10: 0.0048\n",
            "==============================\n"
          ]
        },
        {
          "output_type": "stream",
          "name": "stderr",
          "text": [
            "train: 100%|██████████| 33/33 [00:00<00:00, 424.32it/s]\n"
          ]
        },
        {
          "output_type": "stream",
          "name": "stdout",
          "text": [
            "Epoch 121 elapsed: 0.084s\n",
            "\t \u001b[32mtrain_loss: 0.0433\u001b[0m\n"
          ]
        },
        {
          "output_type": "stream",
          "name": "stderr",
          "text": [
            "eval_listwise: 100%|██████████| 227/227 [00:00<00:00, 1843.07it/s]\n"
          ]
        },
        {
          "output_type": "stream",
          "name": "stdout",
          "text": [
            "\t eval ndcg@10: 0.0241\n",
            "\t eval precision@10: 0.0053\n",
            "==============================\n"
          ]
        },
        {
          "output_type": "stream",
          "name": "stderr",
          "text": [
            "train: 100%|██████████| 33/33 [00:00<00:00, 408.30it/s]\n"
          ]
        },
        {
          "output_type": "stream",
          "name": "stdout",
          "text": [
            "Epoch 122 elapsed: 0.086s\n",
            "\t \u001b[32mtrain_loss: 0.043\u001b[0m\n"
          ]
        },
        {
          "output_type": "stream",
          "name": "stderr",
          "text": [
            "eval_listwise: 100%|██████████| 227/227 [00:00<00:00, 2088.07it/s]\n"
          ]
        },
        {
          "output_type": "stream",
          "name": "stdout",
          "text": [
            "\t eval ndcg@10: 0.0239\n",
            "\t eval precision@10: 0.0048\n",
            "==============================\n"
          ]
        },
        {
          "output_type": "stream",
          "name": "stderr",
          "text": [
            "train: 100%|██████████| 33/33 [00:00<00:00, 410.88it/s]\n"
          ]
        },
        {
          "output_type": "stream",
          "name": "stdout",
          "text": [
            "Epoch 123 elapsed: 0.088s\n",
            "\t \u001b[32mtrain_loss: 0.0419\u001b[0m\n"
          ]
        },
        {
          "output_type": "stream",
          "name": "stderr",
          "text": [
            "eval_listwise: 100%|██████████| 227/227 [00:00<00:00, 1864.17it/s]\n"
          ]
        },
        {
          "output_type": "stream",
          "name": "stdout",
          "text": [
            "\t eval ndcg@10: 0.0210\n",
            "\t eval precision@10: 0.0040\n",
            "==============================\n"
          ]
        },
        {
          "output_type": "stream",
          "name": "stderr",
          "text": [
            "train: 100%|██████████| 33/33 [00:00<00:00, 421.66it/s]\n"
          ]
        },
        {
          "output_type": "stream",
          "name": "stdout",
          "text": [
            "Epoch 124 elapsed: 0.089s\n",
            "\t \u001b[32mtrain_loss: 0.0467\u001b[0m\n"
          ]
        },
        {
          "output_type": "stream",
          "name": "stderr",
          "text": [
            "eval_listwise: 100%|██████████| 227/227 [00:00<00:00, 1178.34it/s]\n"
          ]
        },
        {
          "output_type": "stream",
          "name": "stdout",
          "text": [
            "\t eval ndcg@10: 0.0221\n",
            "\t eval precision@10: 0.0044\n",
            "==============================\n"
          ]
        },
        {
          "output_type": "stream",
          "name": "stderr",
          "text": [
            "train: 100%|██████████| 33/33 [00:00<00:00, 421.61it/s]\n"
          ]
        },
        {
          "output_type": "stream",
          "name": "stdout",
          "text": [
            "Epoch 125 elapsed: 0.090s\n",
            "\t \u001b[32mtrain_loss: 0.0456\u001b[0m\n"
          ]
        },
        {
          "output_type": "stream",
          "name": "stderr",
          "text": [
            "eval_listwise: 100%|██████████| 227/227 [00:00<00:00, 2025.84it/s]\n"
          ]
        },
        {
          "output_type": "stream",
          "name": "stdout",
          "text": [
            "\t eval ndcg@10: 0.0198\n",
            "\t eval precision@10: 0.0044\n",
            "==============================\n"
          ]
        },
        {
          "output_type": "stream",
          "name": "stderr",
          "text": [
            "train: 100%|██████████| 33/33 [00:00<00:00, 455.16it/s]\n"
          ]
        },
        {
          "output_type": "stream",
          "name": "stdout",
          "text": [
            "Epoch 126 elapsed: 0.081s\n",
            "\t \u001b[32mtrain_loss: 0.0492\u001b[0m\n"
          ]
        },
        {
          "output_type": "stream",
          "name": "stderr",
          "text": [
            "eval_listwise: 100%|██████████| 227/227 [00:00<00:00, 1952.50it/s]\n"
          ]
        },
        {
          "output_type": "stream",
          "name": "stdout",
          "text": [
            "\t eval ndcg@10: 0.0195\n",
            "\t eval precision@10: 0.0044\n",
            "==============================\n"
          ]
        },
        {
          "output_type": "stream",
          "name": "stderr",
          "text": [
            "train: 100%|██████████| 33/33 [00:00<00:00, 424.19it/s]\n"
          ]
        },
        {
          "output_type": "stream",
          "name": "stdout",
          "text": [
            "Epoch 127 elapsed: 0.088s\n",
            "\t \u001b[32mtrain_loss: 0.049\u001b[0m\n"
          ]
        },
        {
          "output_type": "stream",
          "name": "stderr",
          "text": [
            "eval_listwise: 100%|██████████| 227/227 [00:00<00:00, 1689.59it/s]\n"
          ]
        },
        {
          "output_type": "stream",
          "name": "stdout",
          "text": [
            "\t eval ndcg@10: 0.0192\n",
            "\t eval precision@10: 0.0044\n",
            "==============================\n"
          ]
        },
        {
          "output_type": "stream",
          "name": "stderr",
          "text": [
            "train: 100%|██████████| 33/33 [00:00<00:00, 440.57it/s]\n"
          ]
        },
        {
          "output_type": "stream",
          "name": "stdout",
          "text": [
            "Epoch 128 elapsed: 0.086s\n",
            "\t \u001b[32mtrain_loss: 0.0442\u001b[0m\n"
          ]
        },
        {
          "output_type": "stream",
          "name": "stderr",
          "text": [
            "eval_listwise: 100%|██████████| 227/227 [00:00<00:00, 1723.91it/s]\n"
          ]
        },
        {
          "output_type": "stream",
          "name": "stdout",
          "text": [
            "\t eval ndcg@10: 0.0203\n",
            "\t eval precision@10: 0.0044\n",
            "==============================\n"
          ]
        },
        {
          "output_type": "stream",
          "name": "stderr",
          "text": [
            "train: 100%|██████████| 33/33 [00:00<00:00, 350.89it/s]\n"
          ]
        },
        {
          "output_type": "stream",
          "name": "stdout",
          "text": [
            "Epoch 129 elapsed: 0.104s\n",
            "\t \u001b[32mtrain_loss: 0.0452\u001b[0m\n"
          ]
        },
        {
          "output_type": "stream",
          "name": "stderr",
          "text": [
            "eval_listwise: 100%|██████████| 227/227 [00:00<00:00, 2165.84it/s]\n"
          ]
        },
        {
          "output_type": "stream",
          "name": "stdout",
          "text": [
            "\t eval ndcg@10: 0.0197\n",
            "\t eval precision@10: 0.0044\n",
            "==============================\n"
          ]
        },
        {
          "output_type": "stream",
          "name": "stderr",
          "text": [
            "train: 100%|██████████| 33/33 [00:00<00:00, 380.07it/s]\n"
          ]
        },
        {
          "output_type": "stream",
          "name": "stdout",
          "text": [
            "Epoch 130 elapsed: 0.096s\n",
            "\t \u001b[32mtrain_loss: 0.0477\u001b[0m\n"
          ]
        },
        {
          "output_type": "stream",
          "name": "stderr",
          "text": [
            "eval_listwise: 100%|██████████| 227/227 [00:00<00:00, 1957.04it/s]\n"
          ]
        },
        {
          "output_type": "stream",
          "name": "stdout",
          "text": [
            "\t eval ndcg@10: 0.0197\n",
            "\t eval precision@10: 0.0044\n",
            "==============================\n"
          ]
        },
        {
          "output_type": "stream",
          "name": "stderr",
          "text": [
            "train: 100%|██████████| 33/33 [00:00<00:00, 445.12it/s]\n"
          ]
        },
        {
          "output_type": "stream",
          "name": "stdout",
          "text": [
            "Epoch 131 elapsed: 0.081s\n",
            "\t \u001b[32mtrain_loss: 0.0441\u001b[0m\n"
          ]
        },
        {
          "output_type": "stream",
          "name": "stderr",
          "text": [
            "eval_listwise: 100%|██████████| 227/227 [00:00<00:00, 2007.63it/s]\n"
          ]
        },
        {
          "output_type": "stream",
          "name": "stdout",
          "text": [
            "\t eval ndcg@10: 0.0162\n",
            "\t eval precision@10: 0.0035\n",
            "==============================\n"
          ]
        },
        {
          "output_type": "stream",
          "name": "stderr",
          "text": [
            "train: 100%|██████████| 33/33 [00:00<00:00, 411.94it/s]\n"
          ]
        },
        {
          "output_type": "stream",
          "name": "stdout",
          "text": [
            "Epoch 132 elapsed: 0.086s\n",
            "\t \u001b[32mtrain_loss: 0.0418\u001b[0m\n"
          ]
        },
        {
          "output_type": "stream",
          "name": "stderr",
          "text": [
            "eval_listwise: 100%|██████████| 227/227 [00:00<00:00, 1905.82it/s]\n"
          ]
        },
        {
          "output_type": "stream",
          "name": "stdout",
          "text": [
            "\t eval ndcg@10: 0.0172\n",
            "\t eval precision@10: 0.0040\n",
            "==============================\n"
          ]
        },
        {
          "output_type": "stream",
          "name": "stderr",
          "text": [
            "train: 100%|██████████| 33/33 [00:00<00:00, 412.06it/s]\n"
          ]
        },
        {
          "output_type": "stream",
          "name": "stdout",
          "text": [
            "Epoch 133 elapsed: 0.086s\n",
            "\t \u001b[32mtrain_loss: 0.0423\u001b[0m\n"
          ]
        },
        {
          "output_type": "stream",
          "name": "stderr",
          "text": [
            "eval_listwise: 100%|██████████| 227/227 [00:00<00:00, 1633.34it/s]\n"
          ]
        },
        {
          "output_type": "stream",
          "name": "stdout",
          "text": [
            "\t eval ndcg@10: 0.0170\n",
            "\t eval precision@10: 0.0040\n",
            "==============================\n"
          ]
        },
        {
          "output_type": "stream",
          "name": "stderr",
          "text": [
            "train: 100%|██████████| 33/33 [00:00<00:00, 413.22it/s]\n"
          ]
        },
        {
          "output_type": "stream",
          "name": "stdout",
          "text": [
            "Epoch 134 elapsed: 0.088s\n",
            "\t \u001b[32mtrain_loss: 0.0463\u001b[0m\n"
          ]
        },
        {
          "output_type": "stream",
          "name": "stderr",
          "text": [
            "eval_listwise: 100%|██████████| 227/227 [00:00<00:00, 1956.96it/s]\n"
          ]
        },
        {
          "output_type": "stream",
          "name": "stdout",
          "text": [
            "\t eval ndcg@10: 0.0182\n",
            "\t eval precision@10: 0.0044\n",
            "==============================\n"
          ]
        },
        {
          "output_type": "stream",
          "name": "stderr",
          "text": [
            "train: 100%|██████████| 33/33 [00:00<00:00, 410.92it/s]\n"
          ]
        },
        {
          "output_type": "stream",
          "name": "stdout",
          "text": [
            "Epoch 135 elapsed: 0.086s\n",
            "\t \u001b[32mtrain_loss: 0.0471\u001b[0m\n"
          ]
        },
        {
          "output_type": "stream",
          "name": "stderr",
          "text": [
            "eval_listwise: 100%|██████████| 227/227 [00:00<00:00, 1927.81it/s]\n"
          ]
        },
        {
          "output_type": "stream",
          "name": "stdout",
          "text": [
            "\t eval ndcg@10: 0.0160\n",
            "\t eval precision@10: 0.0040\n",
            "==============================\n"
          ]
        },
        {
          "output_type": "stream",
          "name": "stderr",
          "text": [
            "train: 100%|██████████| 33/33 [00:00<00:00, 429.05it/s]\n"
          ]
        },
        {
          "output_type": "stream",
          "name": "stdout",
          "text": [
            "Epoch 136 elapsed: 0.087s\n",
            "\t \u001b[32mtrain_loss: 0.0432\u001b[0m\n"
          ]
        },
        {
          "output_type": "stream",
          "name": "stderr",
          "text": [
            "eval_listwise: 100%|██████████| 227/227 [00:00<00:00, 1616.85it/s]\n"
          ]
        },
        {
          "output_type": "stream",
          "name": "stdout",
          "text": [
            "\t eval ndcg@10: 0.0170\n",
            "\t eval precision@10: 0.0035\n",
            "==============================\n"
          ]
        },
        {
          "output_type": "stream",
          "name": "stderr",
          "text": [
            "train: 100%|██████████| 33/33 [00:00<00:00, 430.28it/s]\n"
          ]
        },
        {
          "output_type": "stream",
          "name": "stdout",
          "text": [
            "Epoch 137 elapsed: 0.083s\n",
            "\t \u001b[32mtrain_loss: 0.0443\u001b[0m\n"
          ]
        },
        {
          "output_type": "stream",
          "name": "stderr",
          "text": [
            "eval_listwise: 100%|██████████| 227/227 [00:00<00:00, 1561.35it/s]\n"
          ]
        },
        {
          "output_type": "stream",
          "name": "stdout",
          "text": [
            "\t eval ndcg@10: 0.0181\n",
            "\t eval precision@10: 0.0040\n",
            "==============================\n"
          ]
        },
        {
          "output_type": "stream",
          "name": "stderr",
          "text": [
            "train: 100%|██████████| 33/33 [00:00<00:00, 448.22it/s]\n"
          ]
        },
        {
          "output_type": "stream",
          "name": "stdout",
          "text": [
            "Epoch 138 elapsed: 0.079s\n",
            "\t \u001b[32mtrain_loss: 0.0469\u001b[0m\n"
          ]
        },
        {
          "output_type": "stream",
          "name": "stderr",
          "text": [
            "eval_listwise: 100%|██████████| 227/227 [00:00<00:00, 1921.77it/s]\n"
          ]
        },
        {
          "output_type": "stream",
          "name": "stdout",
          "text": [
            "\t eval ndcg@10: 0.0170\n",
            "\t eval precision@10: 0.0040\n",
            "==============================\n"
          ]
        },
        {
          "output_type": "stream",
          "name": "stderr",
          "text": [
            "train: 100%|██████████| 33/33 [00:00<00:00, 406.94it/s]\n"
          ]
        },
        {
          "output_type": "stream",
          "name": "stdout",
          "text": [
            "Epoch 139 elapsed: 0.090s\n",
            "\t \u001b[32mtrain_loss: 0.05\u001b[0m\n"
          ]
        },
        {
          "output_type": "stream",
          "name": "stderr",
          "text": [
            "eval_listwise: 100%|██████████| 227/227 [00:00<00:00, 1931.39it/s]\n"
          ]
        },
        {
          "output_type": "stream",
          "name": "stdout",
          "text": [
            "\t eval ndcg@10: 0.0126\n",
            "\t eval precision@10: 0.0026\n",
            "==============================\n"
          ]
        },
        {
          "output_type": "stream",
          "name": "stderr",
          "text": [
            "train: 100%|██████████| 33/33 [00:00<00:00, 489.37it/s]\n"
          ]
        },
        {
          "output_type": "stream",
          "name": "stdout",
          "text": [
            "Epoch 140 elapsed: 0.073s\n",
            "\t \u001b[32mtrain_loss: 0.0437\u001b[0m\n"
          ]
        },
        {
          "output_type": "stream",
          "name": "stderr",
          "text": [
            "eval_listwise: 100%|██████████| 227/227 [00:00<00:00, 2026.31it/s]\n"
          ]
        },
        {
          "output_type": "stream",
          "name": "stdout",
          "text": [
            "\t eval ndcg@10: 0.0126\n",
            "\t eval precision@10: 0.0026\n",
            "==============================\n"
          ]
        },
        {
          "output_type": "stream",
          "name": "stderr",
          "text": [
            "train: 100%|██████████| 33/33 [00:00<00:00, 421.62it/s]\n"
          ]
        },
        {
          "output_type": "stream",
          "name": "stdout",
          "text": [
            "Epoch 141 elapsed: 0.083s\n",
            "\t \u001b[32mtrain_loss: 0.0472\u001b[0m\n"
          ]
        },
        {
          "output_type": "stream",
          "name": "stderr",
          "text": [
            "eval_listwise: 100%|██████████| 227/227 [00:00<00:00, 1875.08it/s]\n"
          ]
        },
        {
          "output_type": "stream",
          "name": "stdout",
          "text": [
            "\t eval ndcg@10: 0.0141\n",
            "\t eval precision@10: 0.0031\n",
            "==============================\n"
          ]
        },
        {
          "output_type": "stream",
          "name": "stderr",
          "text": [
            "train: 100%|██████████| 33/33 [00:00<00:00, 480.24it/s]\n"
          ]
        },
        {
          "output_type": "stream",
          "name": "stdout",
          "text": [
            "Epoch 142 elapsed: 0.075s\n",
            "\t \u001b[32mtrain_loss: 0.0465\u001b[0m\n"
          ]
        },
        {
          "output_type": "stream",
          "name": "stderr",
          "text": [
            "eval_listwise: 100%|██████████| 227/227 [00:00<00:00, 1770.38it/s]\n"
          ]
        },
        {
          "output_type": "stream",
          "name": "stdout",
          "text": [
            "\t eval ndcg@10: 0.0157\n",
            "\t eval precision@10: 0.0031\n",
            "==============================\n"
          ]
        },
        {
          "output_type": "stream",
          "name": "stderr",
          "text": [
            "train: 100%|██████████| 33/33 [00:00<00:00, 475.35it/s]\n"
          ]
        },
        {
          "output_type": "stream",
          "name": "stdout",
          "text": [
            "Epoch 143 elapsed: 0.075s\n",
            "\t \u001b[32mtrain_loss: 0.0477\u001b[0m\n"
          ]
        },
        {
          "output_type": "stream",
          "name": "stderr",
          "text": [
            "eval_listwise: 100%|██████████| 227/227 [00:00<00:00, 1958.96it/s]\n"
          ]
        },
        {
          "output_type": "stream",
          "name": "stdout",
          "text": [
            "\t eval ndcg@10: 0.0190\n",
            "\t eval precision@10: 0.0035\n",
            "==============================\n"
          ]
        },
        {
          "output_type": "stream",
          "name": "stderr",
          "text": [
            "train: 100%|██████████| 33/33 [00:00<00:00, 398.15it/s]\n"
          ]
        },
        {
          "output_type": "stream",
          "name": "stdout",
          "text": [
            "Epoch 144 elapsed: 0.094s\n",
            "\t \u001b[32mtrain_loss: 0.0465\u001b[0m\n"
          ]
        },
        {
          "output_type": "stream",
          "name": "stderr",
          "text": [
            "eval_listwise: 100%|██████████| 227/227 [00:00<00:00, 2026.80it/s]\n"
          ]
        },
        {
          "output_type": "stream",
          "name": "stdout",
          "text": [
            "\t eval ndcg@10: 0.0174\n",
            "\t eval precision@10: 0.0031\n",
            "==============================\n"
          ]
        },
        {
          "output_type": "stream",
          "name": "stderr",
          "text": [
            "train: 100%|██████████| 33/33 [00:00<00:00, 392.91it/s]\n"
          ]
        },
        {
          "output_type": "stream",
          "name": "stdout",
          "text": [
            "Epoch 145 elapsed: 0.094s\n",
            "\t \u001b[32mtrain_loss: 0.0459\u001b[0m\n"
          ]
        },
        {
          "output_type": "stream",
          "name": "stderr",
          "text": [
            "eval_listwise: 100%|██████████| 227/227 [00:00<00:00, 1800.32it/s]\n"
          ]
        },
        {
          "output_type": "stream",
          "name": "stdout",
          "text": [
            "\t eval ndcg@10: 0.0182\n",
            "\t eval precision@10: 0.0031\n",
            "==============================\n"
          ]
        },
        {
          "output_type": "stream",
          "name": "stderr",
          "text": [
            "train: 100%|██████████| 33/33 [00:00<00:00, 418.12it/s]\n"
          ]
        },
        {
          "output_type": "stream",
          "name": "stdout",
          "text": [
            "Epoch 146 elapsed: 0.089s\n",
            "\t \u001b[32mtrain_loss: 0.0459\u001b[0m\n"
          ]
        },
        {
          "output_type": "stream",
          "name": "stderr",
          "text": [
            "eval_listwise: 100%|██████████| 227/227 [00:00<00:00, 1795.58it/s]\n"
          ]
        },
        {
          "output_type": "stream",
          "name": "stdout",
          "text": [
            "\t eval ndcg@10: 0.0187\n",
            "\t eval precision@10: 0.0035\n",
            "==============================\n"
          ]
        },
        {
          "output_type": "stream",
          "name": "stderr",
          "text": [
            "train: 100%|██████████| 33/33 [00:00<00:00, 475.76it/s]\n"
          ]
        },
        {
          "output_type": "stream",
          "name": "stdout",
          "text": [
            "Epoch 147 elapsed: 0.086s\n",
            "\t \u001b[32mtrain_loss: 0.0441\u001b[0m\n"
          ]
        },
        {
          "output_type": "stream",
          "name": "stderr",
          "text": [
            "eval_listwise: 100%|██████████| 227/227 [00:00<00:00, 1891.59it/s]\n"
          ]
        },
        {
          "output_type": "stream",
          "name": "stdout",
          "text": [
            "\t eval ndcg@10: 0.0157\n",
            "\t eval precision@10: 0.0026\n",
            "==============================\n"
          ]
        },
        {
          "output_type": "stream",
          "name": "stderr",
          "text": [
            "train: 100%|██████████| 33/33 [00:00<00:00, 436.26it/s]\n"
          ]
        },
        {
          "output_type": "stream",
          "name": "stdout",
          "text": [
            "Epoch 148 elapsed: 0.082s\n",
            "\t \u001b[32mtrain_loss: 0.0532\u001b[0m\n"
          ]
        },
        {
          "output_type": "stream",
          "name": "stderr",
          "text": [
            "eval_listwise: 100%|██████████| 227/227 [00:00<00:00, 1919.53it/s]\n"
          ]
        },
        {
          "output_type": "stream",
          "name": "stdout",
          "text": [
            "\t eval ndcg@10: 0.0158\n",
            "\t eval precision@10: 0.0026\n",
            "==============================\n"
          ]
        },
        {
          "output_type": "stream",
          "name": "stderr",
          "text": [
            "train: 100%|██████████| 33/33 [00:00<00:00, 396.77it/s]\n"
          ]
        },
        {
          "output_type": "stream",
          "name": "stdout",
          "text": [
            "Epoch 149 elapsed: 0.090s\n",
            "\t \u001b[32mtrain_loss: 0.0524\u001b[0m\n"
          ]
        },
        {
          "output_type": "stream",
          "name": "stderr",
          "text": [
            "eval_listwise: 100%|██████████| 227/227 [00:00<00:00, 1947.18it/s]\n"
          ]
        },
        {
          "output_type": "stream",
          "name": "stdout",
          "text": [
            "\t eval ndcg@10: 0.0155\n",
            "\t eval precision@10: 0.0026\n",
            "==============================\n"
          ]
        },
        {
          "output_type": "stream",
          "name": "stderr",
          "text": [
            "train: 100%|██████████| 33/33 [00:00<00:00, 403.73it/s]\n"
          ]
        },
        {
          "output_type": "stream",
          "name": "stdout",
          "text": [
            "Epoch 150 elapsed: 0.089s\n",
            "\t \u001b[32mtrain_loss: 0.0466\u001b[0m\n"
          ]
        },
        {
          "output_type": "stream",
          "name": "stderr",
          "text": [
            "eval_listwise: 100%|██████████| 227/227 [00:00<00:00, 1519.41it/s]\n"
          ]
        },
        {
          "output_type": "stream",
          "name": "stdout",
          "text": [
            "\t eval ndcg@10: 0.0114\n",
            "\t eval precision@10: 0.0026\n",
            "==============================\n"
          ]
        },
        {
          "output_type": "stream",
          "name": "stderr",
          "text": [
            "train: 100%|██████████| 33/33 [00:00<00:00, 436.70it/s]\n"
          ]
        },
        {
          "output_type": "stream",
          "name": "stdout",
          "text": [
            "Epoch 151 elapsed: 0.088s\n",
            "\t \u001b[32mtrain_loss: 0.0441\u001b[0m\n"
          ]
        },
        {
          "output_type": "stream",
          "name": "stderr",
          "text": [
            "eval_listwise: 100%|██████████| 227/227 [00:00<00:00, 1879.16it/s]\n"
          ]
        },
        {
          "output_type": "stream",
          "name": "stdout",
          "text": [
            "\t eval ndcg@10: 0.0114\n",
            "\t eval precision@10: 0.0022\n",
            "==============================\n"
          ]
        },
        {
          "output_type": "stream",
          "name": "stderr",
          "text": [
            "train: 100%|██████████| 33/33 [00:00<00:00, 439.64it/s]\n"
          ]
        },
        {
          "output_type": "stream",
          "name": "stdout",
          "text": [
            "Epoch 152 elapsed: 0.087s\n",
            "\t \u001b[32mtrain_loss: 0.0471\u001b[0m\n"
          ]
        },
        {
          "output_type": "stream",
          "name": "stderr",
          "text": [
            "eval_listwise: 100%|██████████| 227/227 [00:00<00:00, 1928.43it/s]\n"
          ]
        },
        {
          "output_type": "stream",
          "name": "stdout",
          "text": [
            "\t eval ndcg@10: 0.0114\n",
            "\t eval precision@10: 0.0022\n",
            "==============================\n"
          ]
        },
        {
          "output_type": "stream",
          "name": "stderr",
          "text": [
            "train: 100%|██████████| 33/33 [00:00<00:00, 458.91it/s]\n"
          ]
        },
        {
          "output_type": "stream",
          "name": "stdout",
          "text": [
            "Epoch 153 elapsed: 0.080s\n",
            "\t \u001b[32mtrain_loss: 0.0444\u001b[0m\n"
          ]
        },
        {
          "output_type": "stream",
          "name": "stderr",
          "text": [
            "eval_listwise: 100%|██████████| 227/227 [00:00<00:00, 1950.19it/s]\n"
          ]
        },
        {
          "output_type": "stream",
          "name": "stdout",
          "text": [
            "\t eval ndcg@10: 0.0100\n",
            "\t eval precision@10: 0.0022\n",
            "==============================\n"
          ]
        },
        {
          "output_type": "stream",
          "name": "stderr",
          "text": [
            "train: 100%|██████████| 33/33 [00:00<00:00, 389.76it/s]\n"
          ]
        },
        {
          "output_type": "stream",
          "name": "stdout",
          "text": [
            "Epoch 154 elapsed: 0.095s\n",
            "\t \u001b[32mtrain_loss: 0.0415\u001b[0m\n"
          ]
        },
        {
          "output_type": "stream",
          "name": "stderr",
          "text": [
            "eval_listwise: 100%|██████████| 227/227 [00:00<00:00, 1453.65it/s]\n"
          ]
        },
        {
          "output_type": "stream",
          "name": "stdout",
          "text": [
            "\t eval ndcg@10: 0.0126\n",
            "\t eval precision@10: 0.0031\n",
            "==============================\n"
          ]
        },
        {
          "output_type": "stream",
          "name": "stderr",
          "text": [
            "train: 100%|██████████| 33/33 [00:00<00:00, 426.46it/s]\n"
          ]
        },
        {
          "output_type": "stream",
          "name": "stdout",
          "text": [
            "Epoch 155 elapsed: 0.085s\n",
            "\t \u001b[32mtrain_loss: 0.0461\u001b[0m\n"
          ]
        },
        {
          "output_type": "stream",
          "name": "stderr",
          "text": [
            "eval_listwise: 100%|██████████| 227/227 [00:00<00:00, 1839.69it/s]\n"
          ]
        },
        {
          "output_type": "stream",
          "name": "stdout",
          "text": [
            "\t eval ndcg@10: 0.0193\n",
            "\t eval precision@10: 0.0044\n",
            "==============================\n"
          ]
        },
        {
          "output_type": "stream",
          "name": "stderr",
          "text": [
            "train: 100%|██████████| 33/33 [00:00<00:00, 468.49it/s]\n"
          ]
        },
        {
          "output_type": "stream",
          "name": "stdout",
          "text": [
            "Epoch 156 elapsed: 0.077s\n",
            "\t \u001b[32mtrain_loss: 0.04\u001b[0m\n"
          ]
        },
        {
          "output_type": "stream",
          "name": "stderr",
          "text": [
            "eval_listwise: 100%|██████████| 227/227 [00:00<00:00, 1818.71it/s]\n"
          ]
        },
        {
          "output_type": "stream",
          "name": "stdout",
          "text": [
            "\t eval ndcg@10: 0.0185\n",
            "\t eval precision@10: 0.0035\n",
            "==============================\n"
          ]
        },
        {
          "output_type": "stream",
          "name": "stderr",
          "text": [
            "train: 100%|██████████| 33/33 [00:00<00:00, 494.40it/s]\n"
          ]
        },
        {
          "output_type": "stream",
          "name": "stdout",
          "text": [
            "Epoch 157 elapsed: 0.072s\n",
            "\t \u001b[32mtrain_loss: 0.0484\u001b[0m\n"
          ]
        },
        {
          "output_type": "stream",
          "name": "stderr",
          "text": [
            "eval_listwise: 100%|██████████| 227/227 [00:00<00:00, 1879.45it/s]\n"
          ]
        },
        {
          "output_type": "stream",
          "name": "stdout",
          "text": [
            "\t eval ndcg@10: 0.0159\n",
            "\t eval precision@10: 0.0026\n",
            "==============================\n"
          ]
        },
        {
          "output_type": "stream",
          "name": "stderr",
          "text": [
            "train: 100%|██████████| 33/33 [00:00<00:00, 483.81it/s]\n"
          ]
        },
        {
          "output_type": "stream",
          "name": "stdout",
          "text": [
            "Epoch 158 elapsed: 0.075s\n",
            "\t \u001b[32mtrain_loss: 0.0431\u001b[0m\n"
          ]
        },
        {
          "output_type": "stream",
          "name": "stderr",
          "text": [
            "eval_listwise: 100%|██████████| 227/227 [00:00<00:00, 2030.15it/s]\n"
          ]
        },
        {
          "output_type": "stream",
          "name": "stdout",
          "text": [
            "\t eval ndcg@10: 0.0163\n",
            "\t eval precision@10: 0.0026\n",
            "==============================\n"
          ]
        },
        {
          "output_type": "stream",
          "name": "stderr",
          "text": [
            "train: 100%|██████████| 33/33 [00:00<00:00, 389.48it/s]\n"
          ]
        },
        {
          "output_type": "stream",
          "name": "stdout",
          "text": [
            "Epoch 159 elapsed: 0.096s\n",
            "\t \u001b[32mtrain_loss: 0.044\u001b[0m\n"
          ]
        },
        {
          "output_type": "stream",
          "name": "stderr",
          "text": [
            "eval_listwise: 100%|██████████| 227/227 [00:00<00:00, 1469.49it/s]\n"
          ]
        },
        {
          "output_type": "stream",
          "name": "stdout",
          "text": [
            "\t eval ndcg@10: 0.0125\n",
            "\t eval precision@10: 0.0026\n",
            "==============================\n"
          ]
        },
        {
          "output_type": "stream",
          "name": "stderr",
          "text": [
            "train: 100%|██████████| 33/33 [00:00<00:00, 454.09it/s]\n"
          ]
        },
        {
          "output_type": "stream",
          "name": "stdout",
          "text": [
            "Epoch 160 elapsed: 0.083s\n",
            "\t \u001b[32mtrain_loss: 0.0437\u001b[0m\n"
          ]
        },
        {
          "output_type": "stream",
          "name": "stderr",
          "text": [
            "eval_listwise: 100%|██████████| 227/227 [00:00<00:00, 1734.21it/s]\n"
          ]
        },
        {
          "output_type": "stream",
          "name": "stdout",
          "text": [
            "\t eval ndcg@10: 0.0119\n",
            "\t eval precision@10: 0.0022\n",
            "==============================\n"
          ]
        },
        {
          "output_type": "stream",
          "name": "stderr",
          "text": [
            "train: 100%|██████████| 33/33 [00:00<00:00, 413.22it/s]\n"
          ]
        },
        {
          "output_type": "stream",
          "name": "stdout",
          "text": [
            "Epoch 161 elapsed: 0.088s\n",
            "\t \u001b[32mtrain_loss: 0.0533\u001b[0m\n"
          ]
        },
        {
          "output_type": "stream",
          "name": "stderr",
          "text": [
            "eval_listwise: 100%|██████████| 227/227 [00:00<00:00, 1874.16it/s]\n"
          ]
        },
        {
          "output_type": "stream",
          "name": "stdout",
          "text": [
            "\t eval ndcg@10: 0.0144\n",
            "\t eval precision@10: 0.0031\n",
            "==============================\n"
          ]
        },
        {
          "output_type": "stream",
          "name": "stderr",
          "text": [
            "train: 100%|██████████| 33/33 [00:00<00:00, 453.68it/s]\n"
          ]
        },
        {
          "output_type": "stream",
          "name": "stdout",
          "text": [
            "Epoch 162 elapsed: 0.080s\n",
            "\t \u001b[32mtrain_loss: 0.0386\u001b[0m\n"
          ]
        },
        {
          "output_type": "stream",
          "name": "stderr",
          "text": [
            "eval_listwise: 100%|██████████| 227/227 [00:00<00:00, 1957.72it/s]\n"
          ]
        },
        {
          "output_type": "stream",
          "name": "stdout",
          "text": [
            "\t eval ndcg@10: 0.0166\n",
            "\t eval precision@10: 0.0031\n",
            "==============================\n"
          ]
        },
        {
          "output_type": "stream",
          "name": "stderr",
          "text": [
            "train: 100%|██████████| 33/33 [00:00<00:00, 419.30it/s]\n"
          ]
        },
        {
          "output_type": "stream",
          "name": "stdout",
          "text": [
            "Epoch 163 elapsed: 0.085s\n",
            "\t \u001b[32mtrain_loss: 0.0656\u001b[0m\n"
          ]
        },
        {
          "output_type": "stream",
          "name": "stderr",
          "text": [
            "eval_listwise: 100%|██████████| 227/227 [00:00<00:00, 1149.35it/s]\n"
          ]
        },
        {
          "output_type": "stream",
          "name": "stdout",
          "text": [
            "\t eval ndcg@10: 0.0161\n",
            "\t eval precision@10: 0.0031\n",
            "==============================\n"
          ]
        },
        {
          "output_type": "stream",
          "name": "stderr",
          "text": [
            "train: 100%|██████████| 33/33 [00:00<00:00, 352.19it/s]\n"
          ]
        },
        {
          "output_type": "stream",
          "name": "stdout",
          "text": [
            "Epoch 164 elapsed: 0.100s\n",
            "\t \u001b[32mtrain_loss: 0.0444\u001b[0m\n"
          ]
        },
        {
          "output_type": "stream",
          "name": "stderr",
          "text": [
            "eval_listwise: 100%|██████████| 227/227 [00:00<00:00, 1735.03it/s]\n"
          ]
        },
        {
          "output_type": "stream",
          "name": "stdout",
          "text": [
            "\t eval ndcg@10: 0.0143\n",
            "\t eval precision@10: 0.0026\n",
            "==============================\n"
          ]
        },
        {
          "output_type": "stream",
          "name": "stderr",
          "text": [
            "train: 100%|██████████| 33/33 [00:00<00:00, 372.09it/s]\n"
          ]
        },
        {
          "output_type": "stream",
          "name": "stdout",
          "text": [
            "Epoch 165 elapsed: 0.095s\n",
            "\t \u001b[32mtrain_loss: 0.0431\u001b[0m\n"
          ]
        },
        {
          "output_type": "stream",
          "name": "stderr",
          "text": [
            "eval_listwise: 100%|██████████| 227/227 [00:00<00:00, 1948.60it/s]\n"
          ]
        },
        {
          "output_type": "stream",
          "name": "stdout",
          "text": [
            "\t eval ndcg@10: 0.0140\n",
            "\t eval precision@10: 0.0031\n",
            "==============================\n"
          ]
        },
        {
          "output_type": "stream",
          "name": "stderr",
          "text": [
            "train: 100%|██████████| 33/33 [00:00<00:00, 388.45it/s]\n"
          ]
        },
        {
          "output_type": "stream",
          "name": "stdout",
          "text": [
            "Epoch 166 elapsed: 0.091s\n",
            "\t \u001b[32mtrain_loss: 0.0409\u001b[0m\n"
          ]
        },
        {
          "output_type": "stream",
          "name": "stderr",
          "text": [
            "eval_listwise: 100%|██████████| 227/227 [00:00<00:00, 1702.89it/s]\n"
          ]
        },
        {
          "output_type": "stream",
          "name": "stdout",
          "text": [
            "\t eval ndcg@10: 0.0156\n",
            "\t eval precision@10: 0.0031\n",
            "==============================\n"
          ]
        },
        {
          "output_type": "stream",
          "name": "stderr",
          "text": [
            "train: 100%|██████████| 33/33 [00:00<00:00, 332.86it/s]\n"
          ]
        },
        {
          "output_type": "stream",
          "name": "stdout",
          "text": [
            "Epoch 167 elapsed: 0.106s\n",
            "\t \u001b[32mtrain_loss: 0.0436\u001b[0m\n"
          ]
        },
        {
          "output_type": "stream",
          "name": "stderr",
          "text": [
            "eval_listwise: 100%|██████████| 227/227 [00:00<00:00, 1330.78it/s]\n"
          ]
        },
        {
          "output_type": "stream",
          "name": "stdout",
          "text": [
            "\t eval ndcg@10: 0.0142\n",
            "\t eval precision@10: 0.0026\n",
            "==============================\n"
          ]
        },
        {
          "output_type": "stream",
          "name": "stderr",
          "text": [
            "train: 100%|██████████| 33/33 [00:00<00:00, 331.13it/s]\n"
          ]
        },
        {
          "output_type": "stream",
          "name": "stdout",
          "text": [
            "Epoch 168 elapsed: 0.111s\n",
            "\t \u001b[32mtrain_loss: 0.0438\u001b[0m\n"
          ]
        },
        {
          "output_type": "stream",
          "name": "stderr",
          "text": [
            "eval_listwise: 100%|██████████| 227/227 [00:00<00:00, 1734.05it/s]\n"
          ]
        },
        {
          "output_type": "stream",
          "name": "stdout",
          "text": [
            "\t eval ndcg@10: 0.0154\n",
            "\t eval precision@10: 0.0031\n",
            "==============================\n"
          ]
        },
        {
          "output_type": "stream",
          "name": "stderr",
          "text": [
            "train: 100%|██████████| 33/33 [00:00<00:00, 500.19it/s]\n"
          ]
        },
        {
          "output_type": "stream",
          "name": "stdout",
          "text": [
            "Epoch 169 elapsed: 0.071s\n",
            "\t \u001b[32mtrain_loss: 0.046\u001b[0m\n"
          ]
        },
        {
          "output_type": "stream",
          "name": "stderr",
          "text": [
            "eval_listwise: 100%|██████████| 227/227 [00:00<00:00, 993.85it/s] \n"
          ]
        },
        {
          "output_type": "stream",
          "name": "stdout",
          "text": [
            "\t eval ndcg@10: 0.0140\n",
            "\t eval precision@10: 0.0026\n",
            "==============================\n"
          ]
        },
        {
          "output_type": "stream",
          "name": "stderr",
          "text": [
            "train: 100%|██████████| 33/33 [00:00<00:00, 547.54it/s]\n"
          ]
        },
        {
          "output_type": "stream",
          "name": "stdout",
          "text": [
            "Epoch 170 elapsed: 0.068s\n",
            "\t \u001b[32mtrain_loss: 0.0412\u001b[0m\n"
          ]
        },
        {
          "output_type": "stream",
          "name": "stderr",
          "text": [
            "eval_listwise: 100%|██████████| 227/227 [00:00<00:00, 1483.29it/s]\n"
          ]
        },
        {
          "output_type": "stream",
          "name": "stdout",
          "text": [
            "\t eval ndcg@10: 0.0134\n",
            "\t eval precision@10: 0.0026\n",
            "==============================\n"
          ]
        },
        {
          "output_type": "stream",
          "name": "stderr",
          "text": [
            "train: 100%|██████████| 33/33 [00:00<00:00, 529.24it/s]\n"
          ]
        },
        {
          "output_type": "stream",
          "name": "stdout",
          "text": [
            "Epoch 171 elapsed: 0.068s\n",
            "\t \u001b[32mtrain_loss: 0.0528\u001b[0m\n"
          ]
        },
        {
          "output_type": "stream",
          "name": "stderr",
          "text": [
            "eval_listwise: 100%|██████████| 227/227 [00:00<00:00, 1418.42it/s]\n"
          ]
        },
        {
          "output_type": "stream",
          "name": "stdout",
          "text": [
            "\t eval ndcg@10: 0.0157\n",
            "\t eval precision@10: 0.0031\n",
            "==============================\n"
          ]
        },
        {
          "output_type": "stream",
          "name": "stderr",
          "text": [
            "train: 100%|██████████| 33/33 [00:00<00:00, 372.15it/s]\n"
          ]
        },
        {
          "output_type": "stream",
          "name": "stdout",
          "text": [
            "Epoch 172 elapsed: 0.105s\n",
            "\t \u001b[32mtrain_loss: 0.0455\u001b[0m\n"
          ]
        },
        {
          "output_type": "stream",
          "name": "stderr",
          "text": [
            "eval_listwise: 100%|██████████| 227/227 [00:00<00:00, 1532.14it/s]\n"
          ]
        },
        {
          "output_type": "stream",
          "name": "stdout",
          "text": [
            "\t eval ndcg@10: 0.0165\n",
            "\t eval precision@10: 0.0031\n",
            "==============================\n"
          ]
        },
        {
          "output_type": "stream",
          "name": "stderr",
          "text": [
            "train: 100%|██████████| 33/33 [00:00<00:00, 494.88it/s]\n"
          ]
        },
        {
          "output_type": "stream",
          "name": "stdout",
          "text": [
            "Epoch 173 elapsed: 0.073s\n",
            "\t \u001b[32mtrain_loss: 0.0465\u001b[0m\n"
          ]
        },
        {
          "output_type": "stream",
          "name": "stderr",
          "text": [
            "eval_listwise: 100%|██████████| 227/227 [00:00<00:00, 1056.41it/s]\n"
          ]
        },
        {
          "output_type": "stream",
          "name": "stdout",
          "text": [
            "\t eval ndcg@10: 0.0186\n",
            "\t eval precision@10: 0.0035\n",
            "==============================\n"
          ]
        },
        {
          "output_type": "stream",
          "name": "stderr",
          "text": [
            "train: 100%|██████████| 33/33 [00:00<00:00, 466.59it/s]\n"
          ]
        },
        {
          "output_type": "stream",
          "name": "stdout",
          "text": [
            "Epoch 174 elapsed: 0.077s\n",
            "\t \u001b[32mtrain_loss: 0.0423\u001b[0m\n"
          ]
        },
        {
          "output_type": "stream",
          "name": "stderr",
          "text": [
            "eval_listwise: 100%|██████████| 227/227 [00:00<00:00, 1311.46it/s]\n"
          ]
        },
        {
          "output_type": "stream",
          "name": "stdout",
          "text": [
            "\t eval ndcg@10: 0.0202\n",
            "\t eval precision@10: 0.0035\n",
            "==============================\n"
          ]
        },
        {
          "output_type": "stream",
          "name": "stderr",
          "text": [
            "train: 100%|██████████| 33/33 [00:00<00:00, 539.57it/s]\n"
          ]
        },
        {
          "output_type": "stream",
          "name": "stdout",
          "text": [
            "Epoch 175 elapsed: 0.067s\n",
            "\t \u001b[32mtrain_loss: 0.0409\u001b[0m\n"
          ]
        },
        {
          "output_type": "stream",
          "name": "stderr",
          "text": [
            "eval_listwise: 100%|██████████| 227/227 [00:00<00:00, 2211.37it/s]\n"
          ]
        },
        {
          "output_type": "stream",
          "name": "stdout",
          "text": [
            "\t eval ndcg@10: 0.0184\n",
            "\t eval precision@10: 0.0040\n",
            "==============================\n"
          ]
        },
        {
          "output_type": "stream",
          "name": "stderr",
          "text": [
            "train: 100%|██████████| 33/33 [00:00<00:00, 456.53it/s]\n"
          ]
        },
        {
          "output_type": "stream",
          "name": "stdout",
          "text": [
            "Epoch 176 elapsed: 0.078s\n",
            "\t \u001b[32mtrain_loss: 0.0389\u001b[0m\n"
          ]
        },
        {
          "output_type": "stream",
          "name": "stderr",
          "text": [
            "eval_listwise: 100%|██████████| 227/227 [00:00<00:00, 1886.71it/s]\n"
          ]
        },
        {
          "output_type": "stream",
          "name": "stdout",
          "text": [
            "\t eval ndcg@10: 0.0176\n",
            "\t eval precision@10: 0.0040\n",
            "==============================\n"
          ]
        },
        {
          "output_type": "stream",
          "name": "stderr",
          "text": [
            "train: 100%|██████████| 33/33 [00:00<00:00, 482.26it/s]\n"
          ]
        },
        {
          "output_type": "stream",
          "name": "stdout",
          "text": [
            "Epoch 177 elapsed: 0.083s\n",
            "\t \u001b[32mtrain_loss: 0.0448\u001b[0m\n"
          ]
        },
        {
          "output_type": "stream",
          "name": "stderr",
          "text": [
            "eval_listwise: 100%|██████████| 227/227 [00:00<00:00, 1274.79it/s]\n"
          ]
        },
        {
          "output_type": "stream",
          "name": "stdout",
          "text": [
            "\t eval ndcg@10: 0.0196\n",
            "\t eval precision@10: 0.0044\n",
            "==============================\n"
          ]
        },
        {
          "output_type": "stream",
          "name": "stderr",
          "text": [
            "train: 100%|██████████| 33/33 [00:00<00:00, 456.59it/s]\n"
          ]
        },
        {
          "output_type": "stream",
          "name": "stdout",
          "text": [
            "Epoch 178 elapsed: 0.088s\n",
            "\t \u001b[32mtrain_loss: 0.043\u001b[0m\n"
          ]
        },
        {
          "output_type": "stream",
          "name": "stderr",
          "text": [
            "eval_listwise: 100%|██████████| 227/227 [00:00<00:00, 1627.09it/s]\n"
          ]
        },
        {
          "output_type": "stream",
          "name": "stdout",
          "text": [
            "\t eval ndcg@10: 0.0190\n",
            "\t eval precision@10: 0.0044\n",
            "==============================\n"
          ]
        },
        {
          "output_type": "stream",
          "name": "stderr",
          "text": [
            "train: 100%|██████████| 33/33 [00:00<00:00, 378.09it/s]\n"
          ]
        },
        {
          "output_type": "stream",
          "name": "stdout",
          "text": [
            "Epoch 179 elapsed: 0.094s\n",
            "\t \u001b[32mtrain_loss: 0.0387\u001b[0m\n"
          ]
        },
        {
          "output_type": "stream",
          "name": "stderr",
          "text": [
            "eval_listwise: 100%|██████████| 227/227 [00:00<00:00, 1376.74it/s]\n"
          ]
        },
        {
          "output_type": "stream",
          "name": "stdout",
          "text": [
            "\t eval ndcg@10: 0.0191\n",
            "\t eval precision@10: 0.0044\n",
            "==============================\n"
          ]
        },
        {
          "output_type": "stream",
          "name": "stderr",
          "text": [
            "train: 100%|██████████| 33/33 [00:00<00:00, 481.72it/s]\n"
          ]
        },
        {
          "output_type": "stream",
          "name": "stdout",
          "text": [
            "Epoch 180 elapsed: 0.076s\n",
            "\t \u001b[32mtrain_loss: 0.0377\u001b[0m\n"
          ]
        },
        {
          "output_type": "stream",
          "name": "stderr",
          "text": [
            "eval_listwise: 100%|██████████| 227/227 [00:00<00:00, 1714.27it/s]\n"
          ]
        },
        {
          "output_type": "stream",
          "name": "stdout",
          "text": [
            "\t eval ndcg@10: 0.0200\n",
            "\t eval precision@10: 0.0040\n",
            "==============================\n"
          ]
        },
        {
          "output_type": "stream",
          "name": "stderr",
          "text": [
            "train: 100%|██████████| 33/33 [00:00<00:00, 462.79it/s]\n"
          ]
        },
        {
          "output_type": "stream",
          "name": "stdout",
          "text": [
            "Epoch 181 elapsed: 0.080s\n",
            "\t \u001b[32mtrain_loss: 0.0434\u001b[0m\n"
          ]
        },
        {
          "output_type": "stream",
          "name": "stderr",
          "text": [
            "eval_listwise: 100%|██████████| 227/227 [00:00<00:00, 1839.54it/s]\n"
          ]
        },
        {
          "output_type": "stream",
          "name": "stdout",
          "text": [
            "\t eval ndcg@10: 0.0181\n",
            "\t eval precision@10: 0.0048\n",
            "==============================\n"
          ]
        },
        {
          "output_type": "stream",
          "name": "stderr",
          "text": [
            "train: 100%|██████████| 33/33 [00:00<00:00, 528.02it/s]\n"
          ]
        },
        {
          "output_type": "stream",
          "name": "stdout",
          "text": [
            "Epoch 182 elapsed: 0.075s\n",
            "\t \u001b[32mtrain_loss: 0.0414\u001b[0m\n"
          ]
        },
        {
          "output_type": "stream",
          "name": "stderr",
          "text": [
            "eval_listwise: 100%|██████████| 227/227 [00:00<00:00, 1926.51it/s]\n"
          ]
        },
        {
          "output_type": "stream",
          "name": "stdout",
          "text": [
            "\t eval ndcg@10: 0.0187\n",
            "\t eval precision@10: 0.0048\n",
            "==============================\n"
          ]
        },
        {
          "output_type": "stream",
          "name": "stderr",
          "text": [
            "train: 100%|██████████| 33/33 [00:00<00:00, 369.03it/s]\n"
          ]
        },
        {
          "output_type": "stream",
          "name": "stdout",
          "text": [
            "Epoch 183 elapsed: 0.097s\n",
            "\t \u001b[32mtrain_loss: 0.0461\u001b[0m\n"
          ]
        },
        {
          "output_type": "stream",
          "name": "stderr",
          "text": [
            "eval_listwise: 100%|██████████| 227/227 [00:00<00:00, 1405.97it/s]\n"
          ]
        },
        {
          "output_type": "stream",
          "name": "stdout",
          "text": [
            "\t eval ndcg@10: 0.0189\n",
            "\t eval precision@10: 0.0048\n",
            "==============================\n"
          ]
        },
        {
          "output_type": "stream",
          "name": "stderr",
          "text": [
            "train: 100%|██████████| 33/33 [00:00<00:00, 376.57it/s]\n"
          ]
        },
        {
          "output_type": "stream",
          "name": "stdout",
          "text": [
            "Epoch 184 elapsed: 0.094s\n",
            "\t \u001b[32mtrain_loss: 0.0444\u001b[0m\n"
          ]
        },
        {
          "output_type": "stream",
          "name": "stderr",
          "text": [
            "eval_listwise: 100%|██████████| 227/227 [00:00<00:00, 1572.14it/s]\n"
          ]
        },
        {
          "output_type": "stream",
          "name": "stdout",
          "text": [
            "\t eval ndcg@10: 0.0180\n",
            "\t eval precision@10: 0.0044\n",
            "==============================\n"
          ]
        },
        {
          "output_type": "stream",
          "name": "stderr",
          "text": [
            "train: 100%|██████████| 33/33 [00:00<00:00, 408.66it/s]\n"
          ]
        },
        {
          "output_type": "stream",
          "name": "stdout",
          "text": [
            "Epoch 185 elapsed: 0.094s\n",
            "\t \u001b[32mtrain_loss: 0.0442\u001b[0m\n"
          ]
        },
        {
          "output_type": "stream",
          "name": "stderr",
          "text": [
            "eval_listwise: 100%|██████████| 227/227 [00:00<00:00, 2263.73it/s]\n"
          ]
        },
        {
          "output_type": "stream",
          "name": "stdout",
          "text": [
            "\t eval ndcg@10: 0.0170\n",
            "\t eval precision@10: 0.0044\n",
            "==============================\n"
          ]
        },
        {
          "output_type": "stream",
          "name": "stderr",
          "text": [
            "train: 100%|██████████| 33/33 [00:00<00:00, 429.76it/s]\n"
          ]
        },
        {
          "output_type": "stream",
          "name": "stdout",
          "text": [
            "Epoch 186 elapsed: 0.085s\n",
            "\t \u001b[32mtrain_loss: 0.0415\u001b[0m\n"
          ]
        },
        {
          "output_type": "stream",
          "name": "stderr",
          "text": [
            "eval_listwise: 100%|██████████| 227/227 [00:00<00:00, 2043.81it/s]\n"
          ]
        },
        {
          "output_type": "stream",
          "name": "stdout",
          "text": [
            "\t eval ndcg@10: 0.0182\n",
            "\t eval precision@10: 0.0048\n",
            "==============================\n"
          ]
        },
        {
          "output_type": "stream",
          "name": "stderr",
          "text": [
            "train: 100%|██████████| 33/33 [00:00<00:00, 459.07it/s]\n"
          ]
        },
        {
          "output_type": "stream",
          "name": "stdout",
          "text": [
            "Epoch 187 elapsed: 0.079s\n",
            "\t \u001b[32mtrain_loss: 0.0427\u001b[0m\n"
          ]
        },
        {
          "output_type": "stream",
          "name": "stderr",
          "text": [
            "eval_listwise: 100%|██████████| 227/227 [00:00<00:00, 1525.80it/s]\n"
          ]
        },
        {
          "output_type": "stream",
          "name": "stdout",
          "text": [
            "\t eval ndcg@10: 0.0178\n",
            "\t eval precision@10: 0.0048\n",
            "==============================\n"
          ]
        },
        {
          "output_type": "stream",
          "name": "stderr",
          "text": [
            "train: 100%|██████████| 33/33 [00:00<00:00, 392.81it/s]\n"
          ]
        },
        {
          "output_type": "stream",
          "name": "stdout",
          "text": [
            "Epoch 188 elapsed: 0.093s\n",
            "\t \u001b[32mtrain_loss: 0.0419\u001b[0m\n"
          ]
        },
        {
          "output_type": "stream",
          "name": "stderr",
          "text": [
            "eval_listwise: 100%|██████████| 227/227 [00:00<00:00, 1828.70it/s]\n"
          ]
        },
        {
          "output_type": "stream",
          "name": "stdout",
          "text": [
            "\t eval ndcg@10: 0.0169\n",
            "\t eval precision@10: 0.0044\n",
            "==============================\n"
          ]
        },
        {
          "output_type": "stream",
          "name": "stderr",
          "text": [
            "train: 100%|██████████| 33/33 [00:00<00:00, 438.67it/s]\n"
          ]
        },
        {
          "output_type": "stream",
          "name": "stdout",
          "text": [
            "Epoch 189 elapsed: 0.081s\n",
            "\t \u001b[32mtrain_loss: 0.0411\u001b[0m\n"
          ]
        },
        {
          "output_type": "stream",
          "name": "stderr",
          "text": [
            "eval_listwise: 100%|██████████| 227/227 [00:00<00:00, 1810.89it/s]\n"
          ]
        },
        {
          "output_type": "stream",
          "name": "stdout",
          "text": [
            "\t eval ndcg@10: 0.0169\n",
            "\t eval precision@10: 0.0040\n",
            "==============================\n"
          ]
        },
        {
          "output_type": "stream",
          "name": "stderr",
          "text": [
            "train: 100%|██████████| 33/33 [00:00<00:00, 510.91it/s]\n"
          ]
        },
        {
          "output_type": "stream",
          "name": "stdout",
          "text": [
            "Epoch 190 elapsed: 0.078s\n",
            "\t \u001b[32mtrain_loss: 0.0388\u001b[0m\n"
          ]
        },
        {
          "output_type": "stream",
          "name": "stderr",
          "text": [
            "eval_listwise: 100%|██████████| 227/227 [00:00<00:00, 2311.35it/s]\n"
          ]
        },
        {
          "output_type": "stream",
          "name": "stdout",
          "text": [
            "\t eval ndcg@10: 0.0179\n",
            "\t eval precision@10: 0.0040\n",
            "==============================\n"
          ]
        },
        {
          "output_type": "stream",
          "name": "stderr",
          "text": [
            "train: 100%|██████████| 33/33 [00:00<00:00, 400.33it/s]\n"
          ]
        },
        {
          "output_type": "stream",
          "name": "stdout",
          "text": [
            "Epoch 191 elapsed: 0.089s\n",
            "\t \u001b[32mtrain_loss: 0.043\u001b[0m\n"
          ]
        },
        {
          "output_type": "stream",
          "name": "stderr",
          "text": [
            "eval_listwise: 100%|██████████| 227/227 [00:00<00:00, 1673.05it/s]\n"
          ]
        },
        {
          "output_type": "stream",
          "name": "stdout",
          "text": [
            "\t eval ndcg@10: 0.0177\n",
            "\t eval precision@10: 0.0040\n",
            "==============================\n"
          ]
        },
        {
          "output_type": "stream",
          "name": "stderr",
          "text": [
            "train: 100%|██████████| 33/33 [00:00<00:00, 395.90it/s]\n"
          ]
        },
        {
          "output_type": "stream",
          "name": "stdout",
          "text": [
            "Epoch 192 elapsed: 0.092s\n",
            "\t \u001b[32mtrain_loss: 0.0451\u001b[0m\n"
          ]
        },
        {
          "output_type": "stream",
          "name": "stderr",
          "text": [
            "eval_listwise: 100%|██████████| 227/227 [00:00<00:00, 1542.28it/s]\n"
          ]
        },
        {
          "output_type": "stream",
          "name": "stdout",
          "text": [
            "\t eval ndcg@10: 0.0155\n",
            "\t eval precision@10: 0.0035\n",
            "==============================\n"
          ]
        },
        {
          "output_type": "stream",
          "name": "stderr",
          "text": [
            "train: 100%|██████████| 33/33 [00:00<00:00, 451.86it/s]\n"
          ]
        },
        {
          "output_type": "stream",
          "name": "stdout",
          "text": [
            "Epoch 193 elapsed: 0.084s\n",
            "\t \u001b[32mtrain_loss: 0.0416\u001b[0m\n"
          ]
        },
        {
          "output_type": "stream",
          "name": "stderr",
          "text": [
            "eval_listwise: 100%|██████████| 227/227 [00:00<00:00, 1902.46it/s]\n"
          ]
        },
        {
          "output_type": "stream",
          "name": "stdout",
          "text": [
            "\t eval ndcg@10: 0.0189\n",
            "\t eval precision@10: 0.0040\n",
            "==============================\n"
          ]
        },
        {
          "output_type": "stream",
          "name": "stderr",
          "text": [
            "train: 100%|██████████| 33/33 [00:00<00:00, 429.97it/s]\n"
          ]
        },
        {
          "output_type": "stream",
          "name": "stdout",
          "text": [
            "Epoch 194 elapsed: 0.085s\n",
            "\t \u001b[32mtrain_loss: 0.0415\u001b[0m\n"
          ]
        },
        {
          "output_type": "stream",
          "name": "stderr",
          "text": [
            "eval_listwise: 100%|██████████| 227/227 [00:00<00:00, 1911.32it/s]\n"
          ]
        },
        {
          "output_type": "stream",
          "name": "stdout",
          "text": [
            "\t eval ndcg@10: 0.0158\n",
            "\t eval precision@10: 0.0040\n",
            "==============================\n"
          ]
        },
        {
          "output_type": "stream",
          "name": "stderr",
          "text": [
            "train: 100%|██████████| 33/33 [00:00<00:00, 439.06it/s]\n"
          ]
        },
        {
          "output_type": "stream",
          "name": "stdout",
          "text": [
            "Epoch 195 elapsed: 0.086s\n",
            "\t \u001b[32mtrain_loss: 0.0423\u001b[0m\n"
          ]
        },
        {
          "output_type": "stream",
          "name": "stderr",
          "text": [
            "eval_listwise: 100%|██████████| 227/227 [00:00<00:00, 1743.76it/s]\n"
          ]
        },
        {
          "output_type": "stream",
          "name": "stdout",
          "text": [
            "\t eval ndcg@10: 0.0158\n",
            "\t eval precision@10: 0.0040\n",
            "==============================\n"
          ]
        },
        {
          "output_type": "stream",
          "name": "stderr",
          "text": [
            "train: 100%|██████████| 33/33 [00:00<00:00, 425.96it/s]\n"
          ]
        },
        {
          "output_type": "stream",
          "name": "stdout",
          "text": [
            "Epoch 196 elapsed: 0.086s\n",
            "\t \u001b[32mtrain_loss: 0.0477\u001b[0m\n"
          ]
        },
        {
          "output_type": "stream",
          "name": "stderr",
          "text": [
            "eval_listwise: 100%|██████████| 227/227 [00:00<00:00, 1302.53it/s]\n"
          ]
        },
        {
          "output_type": "stream",
          "name": "stdout",
          "text": [
            "\t eval ndcg@10: 0.0151\n",
            "\t eval precision@10: 0.0031\n",
            "==============================\n"
          ]
        },
        {
          "output_type": "stream",
          "name": "stderr",
          "text": [
            "train: 100%|██████████| 33/33 [00:00<00:00, 458.16it/s]\n"
          ]
        },
        {
          "output_type": "stream",
          "name": "stdout",
          "text": [
            "Epoch 197 elapsed: 0.083s\n",
            "\t \u001b[32mtrain_loss: 0.0434\u001b[0m\n"
          ]
        },
        {
          "output_type": "stream",
          "name": "stderr",
          "text": [
            "eval_listwise: 100%|██████████| 227/227 [00:00<00:00, 1917.56it/s]\n"
          ]
        },
        {
          "output_type": "stream",
          "name": "stdout",
          "text": [
            "\t eval ndcg@10: 0.0132\n",
            "\t eval precision@10: 0.0026\n",
            "==============================\n"
          ]
        },
        {
          "output_type": "stream",
          "name": "stderr",
          "text": [
            "train: 100%|██████████| 33/33 [00:00<00:00, 476.67it/s]\n"
          ]
        },
        {
          "output_type": "stream",
          "name": "stdout",
          "text": [
            "Epoch 198 elapsed: 0.082s\n",
            "\t \u001b[32mtrain_loss: 0.0539\u001b[0m\n"
          ]
        },
        {
          "output_type": "stream",
          "name": "stderr",
          "text": [
            "eval_listwise: 100%|██████████| 227/227 [00:00<00:00, 1809.29it/s]\n"
          ]
        },
        {
          "output_type": "stream",
          "name": "stdout",
          "text": [
            "\t eval ndcg@10: 0.0131\n",
            "\t eval precision@10: 0.0026\n",
            "==============================\n"
          ]
        },
        {
          "output_type": "stream",
          "name": "stderr",
          "text": [
            "train: 100%|██████████| 33/33 [00:00<00:00, 384.43it/s]\n"
          ]
        },
        {
          "output_type": "stream",
          "name": "stdout",
          "text": [
            "Epoch 199 elapsed: 0.093s\n",
            "\t \u001b[32mtrain_loss: 0.0448\u001b[0m\n"
          ]
        },
        {
          "output_type": "stream",
          "name": "stderr",
          "text": [
            "eval_listwise: 100%|██████████| 227/227 [00:00<00:00, 1690.46it/s]\n"
          ]
        },
        {
          "output_type": "stream",
          "name": "stdout",
          "text": [
            "\t eval ndcg@10: 0.0129\n",
            "\t eval precision@10: 0.0031\n",
            "==============================\n"
          ]
        },
        {
          "output_type": "stream",
          "name": "stderr",
          "text": [
            "train: 100%|██████████| 33/33 [00:00<00:00, 399.84it/s]\n"
          ]
        },
        {
          "output_type": "stream",
          "name": "stdout",
          "text": [
            "Epoch 200 elapsed: 0.093s\n",
            "\t \u001b[32mtrain_loss: 0.0403\u001b[0m\n"
          ]
        },
        {
          "output_type": "stream",
          "name": "stderr",
          "text": [
            "eval_listwise: 100%|██████████| 227/227 [00:00<00:00, 1952.01it/s]\n"
          ]
        },
        {
          "output_type": "stream",
          "name": "stdout",
          "text": [
            "\t eval ndcg@10: 0.0129\n",
            "\t eval precision@10: 0.0031\n",
            "==============================\n"
          ]
        },
        {
          "output_type": "stream",
          "name": "stderr",
          "text": [
            "train: 100%|██████████| 33/33 [00:00<00:00, 458.17it/s]\n"
          ]
        },
        {
          "output_type": "stream",
          "name": "stdout",
          "text": [
            "Epoch 201 elapsed: 0.080s\n",
            "\t \u001b[32mtrain_loss: 0.0424\u001b[0m\n"
          ]
        },
        {
          "output_type": "stream",
          "name": "stderr",
          "text": [
            "eval_listwise: 100%|██████████| 227/227 [00:00<00:00, 1803.24it/s]\n"
          ]
        },
        {
          "output_type": "stream",
          "name": "stdout",
          "text": [
            "\t eval ndcg@10: 0.0151\n",
            "\t eval precision@10: 0.0044\n",
            "==============================\n"
          ]
        },
        {
          "output_type": "stream",
          "name": "stderr",
          "text": [
            "train: 100%|██████████| 33/33 [00:00<00:00, 486.29it/s]\n"
          ]
        },
        {
          "output_type": "stream",
          "name": "stdout",
          "text": [
            "Epoch 202 elapsed: 0.081s\n",
            "\t \u001b[32mtrain_loss: 0.0468\u001b[0m\n"
          ]
        },
        {
          "output_type": "stream",
          "name": "stderr",
          "text": [
            "eval_listwise: 100%|██████████| 227/227 [00:00<00:00, 1811.21it/s]\n"
          ]
        },
        {
          "output_type": "stream",
          "name": "stdout",
          "text": [
            "\t eval ndcg@10: 0.0136\n",
            "\t eval precision@10: 0.0044\n",
            "==============================\n"
          ]
        },
        {
          "output_type": "stream",
          "name": "stderr",
          "text": [
            "train: 100%|██████████| 33/33 [00:00<00:00, 503.45it/s]\n"
          ]
        },
        {
          "output_type": "stream",
          "name": "stdout",
          "text": [
            "Epoch 203 elapsed: 0.072s\n",
            "\t \u001b[32mtrain_loss: 0.0433\u001b[0m\n"
          ]
        },
        {
          "output_type": "stream",
          "name": "stderr",
          "text": [
            "eval_listwise: 100%|██████████| 227/227 [00:00<00:00, 1799.03it/s]\n"
          ]
        },
        {
          "output_type": "stream",
          "name": "stdout",
          "text": [
            "\t eval ndcg@10: 0.0120\n",
            "\t eval precision@10: 0.0035\n",
            "==============================\n"
          ]
        },
        {
          "output_type": "stream",
          "name": "stderr",
          "text": [
            "train: 100%|██████████| 33/33 [00:00<00:00, 291.13it/s]\n"
          ]
        },
        {
          "output_type": "stream",
          "name": "stdout",
          "text": [
            "Epoch 204 elapsed: 0.121s\n",
            "\t \u001b[32mtrain_loss: 0.0447\u001b[0m\n"
          ]
        },
        {
          "output_type": "stream",
          "name": "stderr",
          "text": [
            "eval_listwise: 100%|██████████| 227/227 [00:00<00:00, 1674.28it/s]\n"
          ]
        },
        {
          "output_type": "stream",
          "name": "stdout",
          "text": [
            "\t eval ndcg@10: 0.0123\n",
            "\t eval precision@10: 0.0035\n",
            "==============================\n"
          ]
        },
        {
          "output_type": "stream",
          "name": "stderr",
          "text": [
            "train: 100%|██████████| 33/33 [00:00<00:00, 497.11it/s]\n"
          ]
        },
        {
          "output_type": "stream",
          "name": "stdout",
          "text": [
            "Epoch 205 elapsed: 0.073s\n",
            "\t \u001b[32mtrain_loss: 0.0462\u001b[0m\n"
          ]
        },
        {
          "output_type": "stream",
          "name": "stderr",
          "text": [
            "eval_listwise: 100%|██████████| 227/227 [00:00<00:00, 1495.94it/s]\n"
          ]
        },
        {
          "output_type": "stream",
          "name": "stdout",
          "text": [
            "\t eval ndcg@10: 0.0125\n",
            "\t eval precision@10: 0.0035\n",
            "==============================\n"
          ]
        },
        {
          "output_type": "stream",
          "name": "stderr",
          "text": [
            "train: 100%|██████████| 33/33 [00:00<00:00, 498.76it/s]\n"
          ]
        },
        {
          "output_type": "stream",
          "name": "stdout",
          "text": [
            "Epoch 206 elapsed: 0.073s\n",
            "\t \u001b[32mtrain_loss: 0.0422\u001b[0m\n"
          ]
        },
        {
          "output_type": "stream",
          "name": "stderr",
          "text": [
            "eval_listwise: 100%|██████████| 227/227 [00:00<00:00, 1794.16it/s]\n"
          ]
        },
        {
          "output_type": "stream",
          "name": "stdout",
          "text": [
            "\t eval ndcg@10: 0.0134\n",
            "\t eval precision@10: 0.0040\n",
            "==============================\n"
          ]
        },
        {
          "output_type": "stream",
          "name": "stderr",
          "text": [
            "train: 100%|██████████| 33/33 [00:00<00:00, 386.94it/s]\n"
          ]
        },
        {
          "output_type": "stream",
          "name": "stdout",
          "text": [
            "Epoch 207 elapsed: 0.100s\n",
            "\t \u001b[32mtrain_loss: 0.0444\u001b[0m\n"
          ]
        },
        {
          "output_type": "stream",
          "name": "stderr",
          "text": [
            "eval_listwise: 100%|██████████| 227/227 [00:00<00:00, 2499.28it/s]\n"
          ]
        },
        {
          "output_type": "stream",
          "name": "stdout",
          "text": [
            "\t eval ndcg@10: 0.0162\n",
            "\t eval precision@10: 0.0040\n",
            "==============================\n"
          ]
        },
        {
          "output_type": "stream",
          "name": "stderr",
          "text": [
            "train: 100%|██████████| 33/33 [00:00<00:00, 377.99it/s]\n"
          ]
        },
        {
          "output_type": "stream",
          "name": "stdout",
          "text": [
            "Epoch 208 elapsed: 0.094s\n",
            "\t \u001b[32mtrain_loss: 0.0466\u001b[0m\n"
          ]
        },
        {
          "output_type": "stream",
          "name": "stderr",
          "text": [
            "eval_listwise: 100%|██████████| 227/227 [00:00<00:00, 1560.01it/s]\n"
          ]
        },
        {
          "output_type": "stream",
          "name": "stdout",
          "text": [
            "\t eval ndcg@10: 0.0165\n",
            "\t eval precision@10: 0.0044\n",
            "==============================\n"
          ]
        },
        {
          "output_type": "stream",
          "name": "stderr",
          "text": [
            "train: 100%|██████████| 33/33 [00:00<00:00, 335.39it/s]\n"
          ]
        },
        {
          "output_type": "stream",
          "name": "stdout",
          "text": [
            "Epoch 209 elapsed: 0.112s\n",
            "\t \u001b[32mtrain_loss: 0.0462\u001b[0m\n"
          ]
        },
        {
          "output_type": "stream",
          "name": "stderr",
          "text": [
            "eval_listwise: 100%|██████████| 227/227 [00:00<00:00, 1416.13it/s]\n"
          ]
        },
        {
          "output_type": "stream",
          "name": "stdout",
          "text": [
            "\t eval ndcg@10: 0.0165\n",
            "\t eval precision@10: 0.0040\n",
            "==============================\n"
          ]
        },
        {
          "output_type": "stream",
          "name": "stderr",
          "text": [
            "train: 100%|██████████| 33/33 [00:00<00:00, 462.86it/s]\n"
          ]
        },
        {
          "output_type": "stream",
          "name": "stdout",
          "text": [
            "Epoch 210 elapsed: 0.078s\n",
            "\t \u001b[32mtrain_loss: 0.039\u001b[0m\n"
          ]
        },
        {
          "output_type": "stream",
          "name": "stderr",
          "text": [
            "eval_listwise: 100%|██████████| 227/227 [00:00<00:00, 1795.31it/s]\n"
          ]
        },
        {
          "output_type": "stream",
          "name": "stdout",
          "text": [
            "\t eval ndcg@10: 0.0166\n",
            "\t eval precision@10: 0.0040\n",
            "==============================\n"
          ]
        },
        {
          "output_type": "stream",
          "name": "stderr",
          "text": [
            "train: 100%|██████████| 33/33 [00:00<00:00, 361.62it/s]\n"
          ]
        },
        {
          "output_type": "stream",
          "name": "stdout",
          "text": [
            "Epoch 211 elapsed: 0.097s\n",
            "\t \u001b[32mtrain_loss: 0.0448\u001b[0m\n"
          ]
        },
        {
          "output_type": "stream",
          "name": "stderr",
          "text": [
            "eval_listwise: 100%|██████████| 227/227 [00:00<00:00, 1814.73it/s]\n"
          ]
        },
        {
          "output_type": "stream",
          "name": "stdout",
          "text": [
            "\t eval ndcg@10: 0.0169\n",
            "\t eval precision@10: 0.0035\n",
            "==============================\n"
          ]
        },
        {
          "output_type": "stream",
          "name": "stderr",
          "text": [
            "train: 100%|██████████| 33/33 [00:00<00:00, 394.55it/s]\n"
          ]
        },
        {
          "output_type": "stream",
          "name": "stdout",
          "text": [
            "Epoch 212 elapsed: 0.090s\n",
            "\t \u001b[32mtrain_loss: 0.0399\u001b[0m\n"
          ]
        },
        {
          "output_type": "stream",
          "name": "stderr",
          "text": [
            "eval_listwise: 100%|██████████| 227/227 [00:00<00:00, 1440.22it/s]\n"
          ]
        },
        {
          "output_type": "stream",
          "name": "stdout",
          "text": [
            "\t eval ndcg@10: 0.0197\n",
            "\t eval precision@10: 0.0031\n",
            "==============================\n"
          ]
        },
        {
          "output_type": "stream",
          "name": "stderr",
          "text": [
            "train: 100%|██████████| 33/33 [00:00<00:00, 408.65it/s]\n"
          ]
        },
        {
          "output_type": "stream",
          "name": "stdout",
          "text": [
            "Epoch 213 elapsed: 0.089s\n",
            "\t \u001b[32mtrain_loss: 0.0415\u001b[0m\n"
          ]
        },
        {
          "output_type": "stream",
          "name": "stderr",
          "text": [
            "eval_listwise: 100%|██████████| 227/227 [00:00<00:00, 1584.35it/s]\n"
          ]
        },
        {
          "output_type": "stream",
          "name": "stdout",
          "text": [
            "\t eval ndcg@10: 0.0189\n",
            "\t eval precision@10: 0.0035\n",
            "==============================\n"
          ]
        },
        {
          "output_type": "stream",
          "name": "stderr",
          "text": [
            "train: 100%|██████████| 33/33 [00:00<00:00, 338.81it/s]\n"
          ]
        },
        {
          "output_type": "stream",
          "name": "stdout",
          "text": [
            "Epoch 214 elapsed: 0.108s\n",
            "\t \u001b[32mtrain_loss: 0.0431\u001b[0m\n"
          ]
        },
        {
          "output_type": "stream",
          "name": "stderr",
          "text": [
            "eval_listwise: 100%|██████████| 227/227 [00:00<00:00, 1943.07it/s]\n"
          ]
        },
        {
          "output_type": "stream",
          "name": "stdout",
          "text": [
            "\t eval ndcg@10: 0.0171\n",
            "\t eval precision@10: 0.0035\n",
            "==============================\n"
          ]
        },
        {
          "output_type": "stream",
          "name": "stderr",
          "text": [
            "train: 100%|██████████| 33/33 [00:00<00:00, 398.00it/s]\n"
          ]
        },
        {
          "output_type": "stream",
          "name": "stdout",
          "text": [
            "Epoch 215 elapsed: 0.097s\n",
            "\t \u001b[32mtrain_loss: 0.041\u001b[0m\n"
          ]
        },
        {
          "output_type": "stream",
          "name": "stderr",
          "text": [
            "eval_listwise: 100%|██████████| 227/227 [00:00<00:00, 436.82it/s]\n"
          ]
        },
        {
          "output_type": "stream",
          "name": "stdout",
          "text": [
            "\t eval ndcg@10: 0.0160\n",
            "\t eval precision@10: 0.0035\n",
            "==============================\n"
          ]
        },
        {
          "output_type": "stream",
          "name": "stderr",
          "text": [
            "train: 100%|██████████| 33/33 [00:00<00:00, 306.87it/s]\n"
          ]
        },
        {
          "output_type": "stream",
          "name": "stdout",
          "text": [
            "Epoch 216 elapsed: 0.114s\n",
            "\t \u001b[32mtrain_loss: 0.0374\u001b[0m\n"
          ]
        },
        {
          "output_type": "stream",
          "name": "stderr",
          "text": [
            "eval_listwise: 100%|██████████| 227/227 [00:00<00:00, 1902.25it/s]\n"
          ]
        },
        {
          "output_type": "stream",
          "name": "stdout",
          "text": [
            "\t eval ndcg@10: 0.0168\n",
            "\t eval precision@10: 0.0035\n",
            "==============================\n"
          ]
        },
        {
          "output_type": "stream",
          "name": "stderr",
          "text": [
            "train: 100%|██████████| 33/33 [00:00<00:00, 471.11it/s]\n"
          ]
        },
        {
          "output_type": "stream",
          "name": "stdout",
          "text": [
            "Epoch 217 elapsed: 0.076s\n",
            "\t \u001b[32mtrain_loss: 0.0401\u001b[0m\n"
          ]
        },
        {
          "output_type": "stream",
          "name": "stderr",
          "text": [
            "eval_listwise: 100%|██████████| 227/227 [00:00<00:00, 1805.11it/s]\n"
          ]
        },
        {
          "output_type": "stream",
          "name": "stdout",
          "text": [
            "\t eval ndcg@10: 0.0171\n",
            "\t eval precision@10: 0.0035\n",
            "==============================\n"
          ]
        },
        {
          "output_type": "stream",
          "name": "stderr",
          "text": [
            "train: 100%|██████████| 33/33 [00:00<00:00, 515.52it/s]\n"
          ]
        },
        {
          "output_type": "stream",
          "name": "stdout",
          "text": [
            "Epoch 218 elapsed: 0.071s\n",
            "\t \u001b[32mtrain_loss: 0.0409\u001b[0m\n"
          ]
        },
        {
          "output_type": "stream",
          "name": "stderr",
          "text": [
            "eval_listwise: 100%|██████████| 227/227 [00:00<00:00, 1779.08it/s]\n"
          ]
        },
        {
          "output_type": "stream",
          "name": "stdout",
          "text": [
            "\t eval ndcg@10: 0.0184\n",
            "\t eval precision@10: 0.0040\n",
            "==============================\n"
          ]
        },
        {
          "output_type": "stream",
          "name": "stderr",
          "text": [
            "train: 100%|██████████| 33/33 [00:00<00:00, 482.18it/s]\n"
          ]
        },
        {
          "output_type": "stream",
          "name": "stdout",
          "text": [
            "Epoch 219 elapsed: 0.076s\n",
            "\t \u001b[32mtrain_loss: 0.0443\u001b[0m\n"
          ]
        },
        {
          "output_type": "stream",
          "name": "stderr",
          "text": [
            "eval_listwise: 100%|██████████| 227/227 [00:00<00:00, 1572.53it/s]\n"
          ]
        },
        {
          "output_type": "stream",
          "name": "stdout",
          "text": [
            "\t eval ndcg@10: 0.0170\n",
            "\t eval precision@10: 0.0035\n",
            "==============================\n"
          ]
        },
        {
          "output_type": "stream",
          "name": "stderr",
          "text": [
            "train: 100%|██████████| 33/33 [00:00<00:00, 310.44it/s]\n"
          ]
        },
        {
          "output_type": "stream",
          "name": "stdout",
          "text": [
            "Epoch 220 elapsed: 0.114s\n",
            "\t \u001b[32mtrain_loss: 0.0403\u001b[0m\n"
          ]
        },
        {
          "output_type": "stream",
          "name": "stderr",
          "text": [
            "eval_listwise: 100%|██████████| 227/227 [00:00<00:00, 786.60it/s]\n"
          ]
        },
        {
          "output_type": "stream",
          "name": "stdout",
          "text": [
            "\t eval ndcg@10: 0.0162\n",
            "\t eval precision@10: 0.0035\n",
            "==============================\n"
          ]
        },
        {
          "output_type": "stream",
          "name": "stderr",
          "text": [
            "train: 100%|██████████| 33/33 [00:00<00:00, 542.49it/s]\n"
          ]
        },
        {
          "output_type": "stream",
          "name": "stdout",
          "text": [
            "Epoch 221 elapsed: 0.070s\n",
            "\t \u001b[32mtrain_loss: 0.0454\u001b[0m\n"
          ]
        },
        {
          "output_type": "stream",
          "name": "stderr",
          "text": [
            "eval_listwise: 100%|██████████| 227/227 [00:00<00:00, 1409.99it/s]\n"
          ]
        },
        {
          "output_type": "stream",
          "name": "stdout",
          "text": [
            "\t eval ndcg@10: 0.0180\n",
            "\t eval precision@10: 0.0040\n",
            "==============================\n"
          ]
        },
        {
          "output_type": "stream",
          "name": "stderr",
          "text": [
            "train: 100%|██████████| 33/33 [00:00<00:00, 541.40it/s]\n"
          ]
        },
        {
          "output_type": "stream",
          "name": "stdout",
          "text": [
            "Epoch 222 elapsed: 0.067s\n",
            "\t \u001b[32mtrain_loss: 0.0472\u001b[0m\n"
          ]
        },
        {
          "output_type": "stream",
          "name": "stderr",
          "text": [
            "eval_listwise: 100%|██████████| 227/227 [00:00<00:00, 1416.49it/s]\n"
          ]
        },
        {
          "output_type": "stream",
          "name": "stdout",
          "text": [
            "\t eval ndcg@10: 0.0178\n",
            "\t eval precision@10: 0.0040\n",
            "==============================\n"
          ]
        },
        {
          "output_type": "stream",
          "name": "stderr",
          "text": [
            "train: 100%|██████████| 33/33 [00:00<00:00, 512.08it/s]\n"
          ]
        },
        {
          "output_type": "stream",
          "name": "stdout",
          "text": [
            "Epoch 223 elapsed: 0.071s\n",
            "\t \u001b[32mtrain_loss: 0.0405\u001b[0m\n"
          ]
        },
        {
          "output_type": "stream",
          "name": "stderr",
          "text": [
            "eval_listwise: 100%|██████████| 227/227 [00:00<00:00, 1189.86it/s]\n"
          ]
        },
        {
          "output_type": "stream",
          "name": "stdout",
          "text": [
            "\t eval ndcg@10: 0.0204\n",
            "\t eval precision@10: 0.0044\n",
            "==============================\n"
          ]
        },
        {
          "output_type": "stream",
          "name": "stderr",
          "text": [
            "train: 100%|██████████| 33/33 [00:00<00:00, 435.46it/s]\n"
          ]
        },
        {
          "output_type": "stream",
          "name": "stdout",
          "text": [
            "Epoch 224 elapsed: 0.081s\n",
            "\t \u001b[32mtrain_loss: 0.0416\u001b[0m\n"
          ]
        },
        {
          "output_type": "stream",
          "name": "stderr",
          "text": [
            "eval_listwise: 100%|██████████| 227/227 [00:00<00:00, 1061.81it/s]\n"
          ]
        },
        {
          "output_type": "stream",
          "name": "stdout",
          "text": [
            "\t eval ndcg@10: 0.0211\n",
            "\t eval precision@10: 0.0044\n",
            "==============================\n"
          ]
        },
        {
          "output_type": "stream",
          "name": "stderr",
          "text": [
            "train: 100%|██████████| 33/33 [00:00<00:00, 461.62it/s]\n"
          ]
        },
        {
          "output_type": "stream",
          "name": "stdout",
          "text": [
            "Epoch 225 elapsed: 0.082s\n",
            "\t \u001b[32mtrain_loss: 0.0435\u001b[0m\n"
          ]
        },
        {
          "output_type": "stream",
          "name": "stderr",
          "text": [
            "eval_listwise: 100%|██████████| 227/227 [00:00<00:00, 1728.06it/s]\n"
          ]
        },
        {
          "output_type": "stream",
          "name": "stdout",
          "text": [
            "\t eval ndcg@10: 0.0204\n",
            "\t eval precision@10: 0.0044\n",
            "==============================\n"
          ]
        },
        {
          "output_type": "stream",
          "name": "stderr",
          "text": [
            "train: 100%|██████████| 33/33 [00:00<00:00, 346.24it/s]\n"
          ]
        },
        {
          "output_type": "stream",
          "name": "stdout",
          "text": [
            "Epoch 226 elapsed: 0.102s\n",
            "\t \u001b[32mtrain_loss: 0.045\u001b[0m\n"
          ]
        },
        {
          "output_type": "stream",
          "name": "stderr",
          "text": [
            "eval_listwise: 100%|██████████| 227/227 [00:00<00:00, 1618.21it/s]\n"
          ]
        },
        {
          "output_type": "stream",
          "name": "stdout",
          "text": [
            "\t eval ndcg@10: 0.0205\n",
            "\t eval precision@10: 0.0044\n",
            "==============================\n"
          ]
        },
        {
          "output_type": "stream",
          "name": "stderr",
          "text": [
            "train: 100%|██████████| 33/33 [00:00<00:00, 432.58it/s]\n"
          ]
        },
        {
          "output_type": "stream",
          "name": "stdout",
          "text": [
            "Epoch 227 elapsed: 0.089s\n",
            "\t \u001b[32mtrain_loss: 0.0398\u001b[0m\n"
          ]
        },
        {
          "output_type": "stream",
          "name": "stderr",
          "text": [
            "eval_listwise: 100%|██████████| 227/227 [00:00<00:00, 1704.26it/s]\n"
          ]
        },
        {
          "output_type": "stream",
          "name": "stdout",
          "text": [
            "\t eval ndcg@10: 0.0236\n",
            "\t eval precision@10: 0.0053\n",
            "==============================\n"
          ]
        },
        {
          "output_type": "stream",
          "name": "stderr",
          "text": [
            "train: 100%|██████████| 33/33 [00:00<00:00, 474.09it/s]\n"
          ]
        },
        {
          "output_type": "stream",
          "name": "stdout",
          "text": [
            "Epoch 228 elapsed: 0.076s\n",
            "\t \u001b[32mtrain_loss: 0.0476\u001b[0m\n"
          ]
        },
        {
          "output_type": "stream",
          "name": "stderr",
          "text": [
            "eval_listwise: 100%|██████████| 227/227 [00:00<00:00, 748.39it/s]\n"
          ]
        },
        {
          "output_type": "stream",
          "name": "stdout",
          "text": [
            "\t eval ndcg@10: 0.0236\n",
            "\t eval precision@10: 0.0053\n",
            "==============================\n"
          ]
        },
        {
          "output_type": "stream",
          "name": "stderr",
          "text": [
            "train: 100%|██████████| 33/33 [00:00<00:00, 442.97it/s]\n"
          ]
        },
        {
          "output_type": "stream",
          "name": "stdout",
          "text": [
            "Epoch 229 elapsed: 0.084s\n",
            "\t \u001b[32mtrain_loss: 0.0407\u001b[0m\n"
          ]
        },
        {
          "output_type": "stream",
          "name": "stderr",
          "text": [
            "eval_listwise: 100%|██████████| 227/227 [00:00<00:00, 1052.76it/s]\n"
          ]
        },
        {
          "output_type": "stream",
          "name": "stdout",
          "text": [
            "\t eval ndcg@10: 0.0216\n",
            "\t eval precision@10: 0.0048\n",
            "==============================\n"
          ]
        },
        {
          "output_type": "stream",
          "name": "stderr",
          "text": [
            "train: 100%|██████████| 33/33 [00:00<00:00, 377.71it/s]\n"
          ]
        },
        {
          "output_type": "stream",
          "name": "stdout",
          "text": [
            "Epoch 230 elapsed: 0.095s\n",
            "\t \u001b[32mtrain_loss: 0.0453\u001b[0m\n"
          ]
        },
        {
          "output_type": "stream",
          "name": "stderr",
          "text": [
            "eval_listwise: 100%|██████████| 227/227 [00:00<00:00, 1677.25it/s]\n"
          ]
        },
        {
          "output_type": "stream",
          "name": "stdout",
          "text": [
            "\t eval ndcg@10: 0.0202\n",
            "\t eval precision@10: 0.0044\n",
            "==============================\n"
          ]
        },
        {
          "output_type": "stream",
          "name": "stderr",
          "text": [
            "train: 100%|██████████| 33/33 [00:00<00:00, 451.63it/s]\n"
          ]
        },
        {
          "output_type": "stream",
          "name": "stdout",
          "text": [
            "Epoch 231 elapsed: 0.080s\n",
            "\t \u001b[32mtrain_loss: 0.0505\u001b[0m\n"
          ]
        },
        {
          "output_type": "stream",
          "name": "stderr",
          "text": [
            "eval_listwise: 100%|██████████| 227/227 [00:00<00:00, 1506.82it/s]\n"
          ]
        },
        {
          "output_type": "stream",
          "name": "stdout",
          "text": [
            "\t eval ndcg@10: 0.0197\n",
            "\t eval precision@10: 0.0048\n",
            "==============================\n"
          ]
        },
        {
          "output_type": "stream",
          "name": "stderr",
          "text": [
            "train: 100%|██████████| 33/33 [00:00<00:00, 523.72it/s]\n"
          ]
        },
        {
          "output_type": "stream",
          "name": "stdout",
          "text": [
            "Epoch 232 elapsed: 0.072s\n",
            "\t \u001b[32mtrain_loss: 0.0406\u001b[0m\n"
          ]
        },
        {
          "output_type": "stream",
          "name": "stderr",
          "text": [
            "eval_listwise: 100%|██████████| 227/227 [00:00<00:00, 1760.17it/s]\n"
          ]
        },
        {
          "output_type": "stream",
          "name": "stdout",
          "text": [
            "\t eval ndcg@10: 0.0228\n",
            "\t eval precision@10: 0.0048\n",
            "==============================\n"
          ]
        },
        {
          "output_type": "stream",
          "name": "stderr",
          "text": [
            "train: 100%|██████████| 33/33 [00:00<00:00, 523.45it/s]\n"
          ]
        },
        {
          "output_type": "stream",
          "name": "stdout",
          "text": [
            "Epoch 233 elapsed: 0.071s\n",
            "\t \u001b[32mtrain_loss: 0.0398\u001b[0m\n"
          ]
        },
        {
          "output_type": "stream",
          "name": "stderr",
          "text": [
            "eval_listwise: 100%|██████████| 227/227 [00:00<00:00, 1228.28it/s]\n"
          ]
        },
        {
          "output_type": "stream",
          "name": "stdout",
          "text": [
            "\t eval ndcg@10: 0.0231\n",
            "\t eval precision@10: 0.0048\n",
            "==============================\n"
          ]
        },
        {
          "output_type": "stream",
          "name": "stderr",
          "text": [
            "train: 100%|██████████| 33/33 [00:00<00:00, 463.46it/s]\n"
          ]
        },
        {
          "output_type": "stream",
          "name": "stdout",
          "text": [
            "Epoch 234 elapsed: 0.077s\n",
            "\t \u001b[32mtrain_loss: 0.0479\u001b[0m\n"
          ]
        },
        {
          "output_type": "stream",
          "name": "stderr",
          "text": [
            "eval_listwise: 100%|██████████| 227/227 [00:00<00:00, 785.05it/s]\n"
          ]
        },
        {
          "output_type": "stream",
          "name": "stdout",
          "text": [
            "\t eval ndcg@10: 0.0228\n",
            "\t eval precision@10: 0.0048\n",
            "==============================\n"
          ]
        },
        {
          "output_type": "stream",
          "name": "stderr",
          "text": [
            "train: 100%|██████████| 33/33 [00:00<00:00, 446.02it/s]\n"
          ]
        },
        {
          "output_type": "stream",
          "name": "stdout",
          "text": [
            "Epoch 235 elapsed: 0.083s\n",
            "\t \u001b[32mtrain_loss: 0.0387\u001b[0m\n"
          ]
        },
        {
          "output_type": "stream",
          "name": "stderr",
          "text": [
            "eval_listwise: 100%|██████████| 227/227 [00:00<00:00, 959.47it/s]\n"
          ]
        },
        {
          "output_type": "stream",
          "name": "stdout",
          "text": [
            "\t eval ndcg@10: 0.0230\n",
            "\t eval precision@10: 0.0048\n",
            "==============================\n"
          ]
        },
        {
          "output_type": "stream",
          "name": "stderr",
          "text": [
            "train: 100%|██████████| 33/33 [00:00<00:00, 299.78it/s]\n"
          ]
        },
        {
          "output_type": "stream",
          "name": "stdout",
          "text": [
            "Epoch 236 elapsed: 0.119s\n",
            "\t \u001b[32mtrain_loss: 0.0422\u001b[0m\n"
          ]
        },
        {
          "output_type": "stream",
          "name": "stderr",
          "text": [
            "eval_listwise: 100%|██████████| 227/227 [00:00<00:00, 1390.00it/s]\n"
          ]
        },
        {
          "output_type": "stream",
          "name": "stdout",
          "text": [
            "\t eval ndcg@10: 0.0228\n",
            "\t eval precision@10: 0.0048\n",
            "==============================\n"
          ]
        },
        {
          "output_type": "stream",
          "name": "stderr",
          "text": [
            "train: 100%|██████████| 33/33 [00:00<00:00, 503.66it/s]\n"
          ]
        },
        {
          "output_type": "stream",
          "name": "stdout",
          "text": [
            "Epoch 237 elapsed: 0.080s\n",
            "\t \u001b[32mtrain_loss: 0.0418\u001b[0m\n"
          ]
        },
        {
          "output_type": "stream",
          "name": "stderr",
          "text": [
            "eval_listwise: 100%|██████████| 227/227 [00:00<00:00, 2254.20it/s]\n"
          ]
        },
        {
          "output_type": "stream",
          "name": "stdout",
          "text": [
            "\t eval ndcg@10: 0.0226\n",
            "\t eval precision@10: 0.0048\n",
            "==============================\n"
          ]
        },
        {
          "output_type": "stream",
          "name": "stderr",
          "text": [
            "train: 100%|██████████| 33/33 [00:00<00:00, 492.79it/s]\n"
          ]
        },
        {
          "output_type": "stream",
          "name": "stdout",
          "text": [
            "Epoch 238 elapsed: 0.074s\n",
            "\t \u001b[32mtrain_loss: 0.0432\u001b[0m\n"
          ]
        },
        {
          "output_type": "stream",
          "name": "stderr",
          "text": [
            "eval_listwise: 100%|██████████| 227/227 [00:00<00:00, 1681.11it/s]\n"
          ]
        },
        {
          "output_type": "stream",
          "name": "stdout",
          "text": [
            "\t eval ndcg@10: 0.0223\n",
            "\t eval precision@10: 0.0048\n",
            "==============================\n"
          ]
        },
        {
          "output_type": "stream",
          "name": "stderr",
          "text": [
            "train: 100%|██████████| 33/33 [00:00<00:00, 386.02it/s]\n"
          ]
        },
        {
          "output_type": "stream",
          "name": "stdout",
          "text": [
            "Epoch 239 elapsed: 0.092s\n",
            "\t \u001b[32mtrain_loss: 0.0389\u001b[0m\n"
          ]
        },
        {
          "output_type": "stream",
          "name": "stderr",
          "text": [
            "eval_listwise: 100%|██████████| 227/227 [00:00<00:00, 1722.32it/s]\n"
          ]
        },
        {
          "output_type": "stream",
          "name": "stdout",
          "text": [
            "\t eval ndcg@10: 0.0234\n",
            "\t eval precision@10: 0.0048\n",
            "==============================\n"
          ]
        },
        {
          "output_type": "stream",
          "name": "stderr",
          "text": [
            "train: 100%|██████████| 33/33 [00:00<00:00, 412.37it/s]\n"
          ]
        },
        {
          "output_type": "stream",
          "name": "stdout",
          "text": [
            "Epoch 240 elapsed: 0.094s\n",
            "\t \u001b[32mtrain_loss: 0.0453\u001b[0m\n"
          ]
        },
        {
          "output_type": "stream",
          "name": "stderr",
          "text": [
            "eval_listwise: 100%|██████████| 227/227 [00:00<00:00, 1488.69it/s]\n"
          ]
        },
        {
          "output_type": "stream",
          "name": "stdout",
          "text": [
            "\t eval ndcg@10: 0.0232\n",
            "\t eval precision@10: 0.0048\n",
            "==============================\n"
          ]
        },
        {
          "output_type": "stream",
          "name": "stderr",
          "text": [
            "train: 100%|██████████| 33/33 [00:00<00:00, 345.65it/s]\n"
          ]
        },
        {
          "output_type": "stream",
          "name": "stdout",
          "text": [
            "Epoch 241 elapsed: 0.106s\n",
            "\t \u001b[32mtrain_loss: 0.0446\u001b[0m\n"
          ]
        },
        {
          "output_type": "stream",
          "name": "stderr",
          "text": [
            "eval_listwise: 100%|██████████| 227/227 [00:00<00:00, 2124.58it/s]\n"
          ]
        },
        {
          "output_type": "stream",
          "name": "stdout",
          "text": [
            "\t eval ndcg@10: 0.0258\n",
            "\t eval precision@10: 0.0057\n",
            "==============================\n"
          ]
        },
        {
          "output_type": "stream",
          "name": "stderr",
          "text": [
            "train: 100%|██████████| 33/33 [00:00<00:00, 403.59it/s]\n"
          ]
        },
        {
          "output_type": "stream",
          "name": "stdout",
          "text": [
            "Epoch 242 elapsed: 0.088s\n",
            "\t \u001b[32mtrain_loss: 0.0432\u001b[0m\n"
          ]
        },
        {
          "output_type": "stream",
          "name": "stderr",
          "text": [
            "eval_listwise: 100%|██████████| 227/227 [00:00<00:00, 1730.90it/s]\n"
          ]
        },
        {
          "output_type": "stream",
          "name": "stdout",
          "text": [
            "\t eval ndcg@10: 0.0248\n",
            "\t eval precision@10: 0.0057\n",
            "==============================\n"
          ]
        },
        {
          "output_type": "stream",
          "name": "stderr",
          "text": [
            "train: 100%|██████████| 33/33 [00:00<00:00, 371.02it/s]\n"
          ]
        },
        {
          "output_type": "stream",
          "name": "stdout",
          "text": [
            "Epoch 243 elapsed: 0.096s\n",
            "\t \u001b[32mtrain_loss: 0.0442\u001b[0m\n"
          ]
        },
        {
          "output_type": "stream",
          "name": "stderr",
          "text": [
            "eval_listwise: 100%|██████████| 227/227 [00:00<00:00, 1609.60it/s]\n"
          ]
        },
        {
          "output_type": "stream",
          "name": "stdout",
          "text": [
            "\t eval ndcg@10: 0.0271\n",
            "\t eval precision@10: 0.0057\n",
            "==============================\n"
          ]
        },
        {
          "output_type": "stream",
          "name": "stderr",
          "text": [
            "train: 100%|██████████| 33/33 [00:00<00:00, 434.90it/s]\n"
          ]
        },
        {
          "output_type": "stream",
          "name": "stdout",
          "text": [
            "Epoch 244 elapsed: 0.092s\n",
            "\t \u001b[32mtrain_loss: 0.0422\u001b[0m\n"
          ]
        },
        {
          "output_type": "stream",
          "name": "stderr",
          "text": [
            "eval_listwise: 100%|██████████| 227/227 [00:00<00:00, 1515.32it/s]\n"
          ]
        },
        {
          "output_type": "stream",
          "name": "stdout",
          "text": [
            "\t eval ndcg@10: 0.0233\n",
            "\t eval precision@10: 0.0048\n",
            "==============================\n"
          ]
        },
        {
          "output_type": "stream",
          "name": "stderr",
          "text": [
            "train: 100%|██████████| 33/33 [00:00<00:00, 329.51it/s]\n"
          ]
        },
        {
          "output_type": "stream",
          "name": "stdout",
          "text": [
            "Epoch 245 elapsed: 0.108s\n",
            "\t \u001b[32mtrain_loss: 0.0413\u001b[0m\n"
          ]
        },
        {
          "output_type": "stream",
          "name": "stderr",
          "text": [
            "eval_listwise: 100%|██████████| 227/227 [00:00<00:00, 1707.15it/s]\n"
          ]
        },
        {
          "output_type": "stream",
          "name": "stdout",
          "text": [
            "\t eval ndcg@10: 0.0251\n",
            "\t eval precision@10: 0.0053\n",
            "==============================\n"
          ]
        },
        {
          "output_type": "stream",
          "name": "stderr",
          "text": [
            "train: 100%|██████████| 33/33 [00:00<00:00, 436.31it/s]\n"
          ]
        },
        {
          "output_type": "stream",
          "name": "stdout",
          "text": [
            "Epoch 246 elapsed: 0.082s\n",
            "\t \u001b[32mtrain_loss: 0.0414\u001b[0m\n"
          ]
        },
        {
          "output_type": "stream",
          "name": "stderr",
          "text": [
            "eval_listwise: 100%|██████████| 227/227 [00:00<00:00, 1894.60it/s]\n"
          ]
        },
        {
          "output_type": "stream",
          "name": "stdout",
          "text": [
            "\t eval ndcg@10: 0.0236\n",
            "\t eval precision@10: 0.0053\n",
            "==============================\n"
          ]
        },
        {
          "output_type": "stream",
          "name": "stderr",
          "text": [
            "train: 100%|██████████| 33/33 [00:00<00:00, 504.98it/s]\n"
          ]
        },
        {
          "output_type": "stream",
          "name": "stdout",
          "text": [
            "Epoch 247 elapsed: 0.074s\n",
            "\t \u001b[32mtrain_loss: 0.0383\u001b[0m\n"
          ]
        },
        {
          "output_type": "stream",
          "name": "stderr",
          "text": [
            "eval_listwise: 100%|██████████| 227/227 [00:00<00:00, 1829.54it/s]\n"
          ]
        },
        {
          "output_type": "stream",
          "name": "stdout",
          "text": [
            "\t eval ndcg@10: 0.0252\n",
            "\t eval precision@10: 0.0057\n",
            "==============================\n"
          ]
        },
        {
          "output_type": "stream",
          "name": "stderr",
          "text": [
            "train: 100%|██████████| 33/33 [00:00<00:00, 409.10it/s]\n"
          ]
        },
        {
          "output_type": "stream",
          "name": "stdout",
          "text": [
            "Epoch 248 elapsed: 0.088s\n",
            "\t \u001b[32mtrain_loss: 0.0401\u001b[0m\n"
          ]
        },
        {
          "output_type": "stream",
          "name": "stderr",
          "text": [
            "eval_listwise: 100%|██████████| 227/227 [00:00<00:00, 1452.72it/s]\n"
          ]
        },
        {
          "output_type": "stream",
          "name": "stdout",
          "text": [
            "\t eval ndcg@10: 0.0224\n",
            "\t eval precision@10: 0.0048\n",
            "==============================\n"
          ]
        },
        {
          "output_type": "stream",
          "name": "stderr",
          "text": [
            "train: 100%|██████████| 33/33 [00:00<00:00, 366.47it/s]\n"
          ]
        },
        {
          "output_type": "stream",
          "name": "stdout",
          "text": [
            "Epoch 249 elapsed: 0.104s\n",
            "\t \u001b[32mtrain_loss: 0.0409\u001b[0m\n"
          ]
        },
        {
          "output_type": "stream",
          "name": "stderr",
          "text": [
            "eval_listwise: 100%|██████████| 227/227 [00:00<00:00, 1874.53it/s]\n"
          ]
        },
        {
          "output_type": "stream",
          "name": "stdout",
          "text": [
            "\t eval ndcg@10: 0.0209\n",
            "\t eval precision@10: 0.0044\n",
            "==============================\n"
          ]
        },
        {
          "output_type": "stream",
          "name": "stderr",
          "text": [
            "train: 100%|██████████| 33/33 [00:00<00:00, 443.05it/s]\n"
          ]
        },
        {
          "output_type": "stream",
          "name": "stdout",
          "text": [
            "Epoch 250 elapsed: 0.081s\n",
            "\t \u001b[32mtrain_loss: 0.0384\u001b[0m\n"
          ]
        },
        {
          "output_type": "stream",
          "name": "stderr",
          "text": [
            "eval_listwise: 100%|██████████| 227/227 [00:00<00:00, 1686.84it/s]\n"
          ]
        },
        {
          "output_type": "stream",
          "name": "stdout",
          "text": [
            "\t eval ndcg@10: 0.0193\n",
            "\t eval precision@10: 0.0040\n",
            "==============================\n"
          ]
        },
        {
          "output_type": "stream",
          "name": "stderr",
          "text": [
            "train: 100%|██████████| 33/33 [00:00<00:00, 515.74it/s]\n"
          ]
        },
        {
          "output_type": "stream",
          "name": "stdout",
          "text": [
            "Epoch 251 elapsed: 0.070s\n",
            "\t \u001b[32mtrain_loss: 0.0414\u001b[0m\n"
          ]
        },
        {
          "output_type": "stream",
          "name": "stderr",
          "text": [
            "eval_listwise: 100%|██████████| 227/227 [00:00<00:00, 1520.80it/s]\n"
          ]
        },
        {
          "output_type": "stream",
          "name": "stdout",
          "text": [
            "\t eval ndcg@10: 0.0221\n",
            "\t eval precision@10: 0.0044\n",
            "==============================\n"
          ]
        },
        {
          "output_type": "stream",
          "name": "stderr",
          "text": [
            "train: 100%|██████████| 33/33 [00:00<00:00, 462.16it/s]\n"
          ]
        },
        {
          "output_type": "stream",
          "name": "stdout",
          "text": [
            "Epoch 252 elapsed: 0.078s\n",
            "\t \u001b[32mtrain_loss: 0.0426\u001b[0m\n"
          ]
        },
        {
          "output_type": "stream",
          "name": "stderr",
          "text": [
            "eval_listwise: 100%|██████████| 227/227 [00:00<00:00, 1300.70it/s]\n"
          ]
        },
        {
          "output_type": "stream",
          "name": "stdout",
          "text": [
            "\t eval ndcg@10: 0.0219\n",
            "\t eval precision@10: 0.0044\n",
            "==============================\n"
          ]
        },
        {
          "output_type": "stream",
          "name": "stderr",
          "text": [
            "train: 100%|██████████| 33/33 [00:00<00:00, 380.94it/s]\n"
          ]
        },
        {
          "output_type": "stream",
          "name": "stdout",
          "text": [
            "Epoch 253 elapsed: 0.093s\n",
            "\t \u001b[32mtrain_loss: 0.0428\u001b[0m\n"
          ]
        },
        {
          "output_type": "stream",
          "name": "stderr",
          "text": [
            "eval_listwise: 100%|██████████| 227/227 [00:00<00:00, 1586.10it/s]\n"
          ]
        },
        {
          "output_type": "stream",
          "name": "stdout",
          "text": [
            "\t eval ndcg@10: 0.0194\n",
            "\t eval precision@10: 0.0035\n",
            "==============================\n"
          ]
        },
        {
          "output_type": "stream",
          "name": "stderr",
          "text": [
            "train: 100%|██████████| 33/33 [00:00<00:00, 475.28it/s]\n"
          ]
        },
        {
          "output_type": "stream",
          "name": "stdout",
          "text": [
            "Epoch 254 elapsed: 0.076s\n",
            "\t \u001b[32mtrain_loss: 0.0418\u001b[0m\n"
          ]
        },
        {
          "output_type": "stream",
          "name": "stderr",
          "text": [
            "eval_listwise: 100%|██████████| 227/227 [00:00<00:00, 1773.80it/s]\n"
          ]
        },
        {
          "output_type": "stream",
          "name": "stdout",
          "text": [
            "\t eval ndcg@10: 0.0194\n",
            "\t eval precision@10: 0.0040\n",
            "==============================\n"
          ]
        },
        {
          "output_type": "stream",
          "name": "stderr",
          "text": [
            "train: 100%|██████████| 33/33 [00:00<00:00, 430.64it/s]\n"
          ]
        },
        {
          "output_type": "stream",
          "name": "stdout",
          "text": [
            "Epoch 255 elapsed: 0.082s\n",
            "\t \u001b[32mtrain_loss: 0.0436\u001b[0m\n"
          ]
        },
        {
          "output_type": "stream",
          "name": "stderr",
          "text": [
            "eval_listwise: 100%|██████████| 227/227 [00:00<00:00, 1504.59it/s]\n"
          ]
        },
        {
          "output_type": "stream",
          "name": "stdout",
          "text": [
            "\t eval ndcg@10: 0.0194\n",
            "\t eval precision@10: 0.0035\n",
            "==============================\n"
          ]
        },
        {
          "output_type": "stream",
          "name": "stderr",
          "text": [
            "train: 100%|██████████| 33/33 [00:00<00:00, 498.08it/s]\n"
          ]
        },
        {
          "output_type": "stream",
          "name": "stdout",
          "text": [
            "Epoch 256 elapsed: 0.074s\n",
            "\t \u001b[32mtrain_loss: 0.0417\u001b[0m\n"
          ]
        },
        {
          "output_type": "stream",
          "name": "stderr",
          "text": [
            "eval_listwise: 100%|██████████| 227/227 [00:00<00:00, 1236.52it/s]\n"
          ]
        },
        {
          "output_type": "stream",
          "name": "stdout",
          "text": [
            "\t eval ndcg@10: 0.0189\n",
            "\t eval precision@10: 0.0035\n",
            "==============================\n"
          ]
        },
        {
          "output_type": "stream",
          "name": "stderr",
          "text": [
            "train: 100%|██████████| 33/33 [00:00<00:00, 428.63it/s]\n"
          ]
        },
        {
          "output_type": "stream",
          "name": "stdout",
          "text": [
            "Epoch 257 elapsed: 0.082s\n",
            "\t \u001b[32mtrain_loss: 0.0447\u001b[0m\n"
          ]
        },
        {
          "output_type": "stream",
          "name": "stderr",
          "text": [
            "eval_listwise: 100%|██████████| 227/227 [00:00<00:00, 1626.15it/s]\n"
          ]
        },
        {
          "output_type": "stream",
          "name": "stdout",
          "text": [
            "\t eval ndcg@10: 0.0169\n",
            "\t eval precision@10: 0.0031\n",
            "==============================\n"
          ]
        },
        {
          "output_type": "stream",
          "name": "stderr",
          "text": [
            "train: 100%|██████████| 33/33 [00:00<00:00, 451.55it/s]\n"
          ]
        },
        {
          "output_type": "stream",
          "name": "stdout",
          "text": [
            "Epoch 258 elapsed: 0.079s\n",
            "\t \u001b[32mtrain_loss: 0.044\u001b[0m\n"
          ]
        },
        {
          "output_type": "stream",
          "name": "stderr",
          "text": [
            "eval_listwise: 100%|██████████| 227/227 [00:00<00:00, 1734.61it/s]\n"
          ]
        },
        {
          "output_type": "stream",
          "name": "stdout",
          "text": [
            "\t eval ndcg@10: 0.0168\n",
            "\t eval precision@10: 0.0026\n",
            "==============================\n"
          ]
        },
        {
          "output_type": "stream",
          "name": "stderr",
          "text": [
            "train: 100%|██████████| 33/33 [00:00<00:00, 452.51it/s]\n"
          ]
        },
        {
          "output_type": "stream",
          "name": "stdout",
          "text": [
            "Epoch 259 elapsed: 0.079s\n",
            "\t \u001b[32mtrain_loss: 0.0449\u001b[0m\n"
          ]
        },
        {
          "output_type": "stream",
          "name": "stderr",
          "text": [
            "eval_listwise: 100%|██████████| 227/227 [00:00<00:00, 1412.94it/s]\n"
          ]
        },
        {
          "output_type": "stream",
          "name": "stdout",
          "text": [
            "\t eval ndcg@10: 0.0175\n",
            "\t eval precision@10: 0.0031\n",
            "==============================\n"
          ]
        },
        {
          "output_type": "stream",
          "name": "stderr",
          "text": [
            "train: 100%|██████████| 33/33 [00:00<00:00, 483.77it/s]\n"
          ]
        },
        {
          "output_type": "stream",
          "name": "stdout",
          "text": [
            "Epoch 260 elapsed: 0.076s\n",
            "\t \u001b[32mtrain_loss: 0.0455\u001b[0m\n"
          ]
        },
        {
          "output_type": "stream",
          "name": "stderr",
          "text": [
            "eval_listwise: 100%|██████████| 227/227 [00:00<00:00, 1228.57it/s]\n"
          ]
        },
        {
          "output_type": "stream",
          "name": "stdout",
          "text": [
            "\t eval ndcg@10: 0.0178\n",
            "\t eval precision@10: 0.0035\n",
            "==============================\n"
          ]
        },
        {
          "output_type": "stream",
          "name": "stderr",
          "text": [
            "train: 100%|██████████| 33/33 [00:00<00:00, 422.42it/s]\n"
          ]
        },
        {
          "output_type": "stream",
          "name": "stdout",
          "text": [
            "Epoch 261 elapsed: 0.084s\n",
            "\t \u001b[32mtrain_loss: 0.0434\u001b[0m\n"
          ]
        },
        {
          "output_type": "stream",
          "name": "stderr",
          "text": [
            "eval_listwise: 100%|██████████| 227/227 [00:00<00:00, 1957.68it/s]\n"
          ]
        },
        {
          "output_type": "stream",
          "name": "stdout",
          "text": [
            "\t eval ndcg@10: 0.0181\n",
            "\t eval precision@10: 0.0031\n",
            "==============================\n"
          ]
        },
        {
          "output_type": "stream",
          "name": "stderr",
          "text": [
            "train: 100%|██████████| 33/33 [00:00<00:00, 557.94it/s]\n"
          ]
        },
        {
          "output_type": "stream",
          "name": "stdout",
          "text": [
            "Epoch 262 elapsed: 0.076s\n",
            "\t \u001b[32mtrain_loss: 0.0423\u001b[0m\n"
          ]
        },
        {
          "output_type": "stream",
          "name": "stderr",
          "text": [
            "eval_listwise: 100%|██████████| 227/227 [00:00<00:00, 1717.74it/s]\n"
          ]
        },
        {
          "output_type": "stream",
          "name": "stdout",
          "text": [
            "\t eval ndcg@10: 0.0171\n",
            "\t eval precision@10: 0.0031\n",
            "==============================\n"
          ]
        },
        {
          "output_type": "stream",
          "name": "stderr",
          "text": [
            "train: 100%|██████████| 33/33 [00:00<00:00, 507.61it/s]\n"
          ]
        },
        {
          "output_type": "stream",
          "name": "stdout",
          "text": [
            "Epoch 263 elapsed: 0.076s\n",
            "\t \u001b[32mtrain_loss: 0.0472\u001b[0m\n"
          ]
        },
        {
          "output_type": "stream",
          "name": "stderr",
          "text": [
            "eval_listwise: 100%|██████████| 227/227 [00:00<00:00, 1781.01it/s]\n"
          ]
        },
        {
          "output_type": "stream",
          "name": "stdout",
          "text": [
            "\t eval ndcg@10: 0.0173\n",
            "\t eval precision@10: 0.0031\n",
            "==============================\n"
          ]
        },
        {
          "output_type": "stream",
          "name": "stderr",
          "text": [
            "train: 100%|██████████| 33/33 [00:00<00:00, 414.41it/s]\n"
          ]
        },
        {
          "output_type": "stream",
          "name": "stdout",
          "text": [
            "Epoch 264 elapsed: 0.086s\n",
            "\t \u001b[32mtrain_loss: 0.0426\u001b[0m\n"
          ]
        },
        {
          "output_type": "stream",
          "name": "stderr",
          "text": [
            "eval_listwise: 100%|██████████| 227/227 [00:00<00:00, 1433.23it/s]\n"
          ]
        },
        {
          "output_type": "stream",
          "name": "stdout",
          "text": [
            "\t eval ndcg@10: 0.0181\n",
            "\t eval precision@10: 0.0040\n",
            "==============================\n"
          ]
        },
        {
          "output_type": "stream",
          "name": "stderr",
          "text": [
            "train: 100%|██████████| 33/33 [00:00<00:00, 401.56it/s]\n"
          ]
        },
        {
          "output_type": "stream",
          "name": "stdout",
          "text": [
            "Epoch 265 elapsed: 0.089s\n",
            "\t \u001b[32mtrain_loss: 0.052\u001b[0m\n"
          ]
        },
        {
          "output_type": "stream",
          "name": "stderr",
          "text": [
            "eval_listwise: 100%|██████████| 227/227 [00:00<00:00, 1568.58it/s]\n"
          ]
        },
        {
          "output_type": "stream",
          "name": "stdout",
          "text": [
            "\t eval ndcg@10: 0.0179\n",
            "\t eval precision@10: 0.0040\n",
            "==============================\n"
          ]
        },
        {
          "output_type": "stream",
          "name": "stderr",
          "text": [
            "train: 100%|██████████| 33/33 [00:00<00:00, 399.80it/s]\n"
          ]
        },
        {
          "output_type": "stream",
          "name": "stdout",
          "text": [
            "Epoch 266 elapsed: 0.089s\n",
            "\t \u001b[32mtrain_loss: 0.0375\u001b[0m\n"
          ]
        },
        {
          "output_type": "stream",
          "name": "stderr",
          "text": [
            "eval_listwise: 100%|██████████| 227/227 [00:00<00:00, 1812.88it/s]\n"
          ]
        },
        {
          "output_type": "stream",
          "name": "stdout",
          "text": [
            "\t eval ndcg@10: 0.0166\n",
            "\t eval precision@10: 0.0035\n",
            "==============================\n"
          ]
        },
        {
          "output_type": "stream",
          "name": "stderr",
          "text": [
            "train: 100%|██████████| 33/33 [00:00<00:00, 431.47it/s]\n"
          ]
        },
        {
          "output_type": "stream",
          "name": "stdout",
          "text": [
            "Epoch 267 elapsed: 0.082s\n",
            "\t \u001b[32mtrain_loss: 0.0416\u001b[0m\n"
          ]
        },
        {
          "output_type": "stream",
          "name": "stderr",
          "text": [
            "eval_listwise: 100%|██████████| 227/227 [00:00<00:00, 2265.23it/s]\n"
          ]
        },
        {
          "output_type": "stream",
          "name": "stdout",
          "text": [
            "\t eval ndcg@10: 0.0192\n",
            "\t eval precision@10: 0.0044\n",
            "==============================\n"
          ]
        },
        {
          "output_type": "stream",
          "name": "stderr",
          "text": [
            "train: 100%|██████████| 33/33 [00:00<00:00, 442.78it/s]\n"
          ]
        },
        {
          "output_type": "stream",
          "name": "stdout",
          "text": [
            "Epoch 268 elapsed: 0.081s\n",
            "\t \u001b[32mtrain_loss: 0.0427\u001b[0m\n"
          ]
        },
        {
          "output_type": "stream",
          "name": "stderr",
          "text": [
            "eval_listwise: 100%|██████████| 227/227 [00:00<00:00, 1210.83it/s]\n"
          ]
        },
        {
          "output_type": "stream",
          "name": "stdout",
          "text": [
            "\t eval ndcg@10: 0.0188\n",
            "\t eval precision@10: 0.0040\n",
            "==============================\n"
          ]
        },
        {
          "output_type": "stream",
          "name": "stderr",
          "text": [
            "train: 100%|██████████| 33/33 [00:00<00:00, 408.20it/s]\n"
          ]
        },
        {
          "output_type": "stream",
          "name": "stdout",
          "text": [
            "Epoch 269 elapsed: 0.088s\n",
            "\t \u001b[32mtrain_loss: 0.0396\u001b[0m\n"
          ]
        },
        {
          "output_type": "stream",
          "name": "stderr",
          "text": [
            "eval_listwise: 100%|██████████| 227/227 [00:00<00:00, 1584.15it/s]\n"
          ]
        },
        {
          "output_type": "stream",
          "name": "stdout",
          "text": [
            "\t eval ndcg@10: 0.0181\n",
            "\t eval precision@10: 0.0040\n",
            "==============================\n"
          ]
        },
        {
          "output_type": "stream",
          "name": "stderr",
          "text": [
            "train: 100%|██████████| 33/33 [00:00<00:00, 458.15it/s]\n"
          ]
        },
        {
          "output_type": "stream",
          "name": "stdout",
          "text": [
            "Epoch 270 elapsed: 0.079s\n",
            "\t \u001b[32mtrain_loss: 0.0467\u001b[0m\n"
          ]
        },
        {
          "output_type": "stream",
          "name": "stderr",
          "text": [
            "eval_listwise: 100%|██████████| 227/227 [00:00<00:00, 1543.84it/s]\n"
          ]
        },
        {
          "output_type": "stream",
          "name": "stdout",
          "text": [
            "\t eval ndcg@10: 0.0175\n",
            "\t eval precision@10: 0.0040\n",
            "==============================\n"
          ]
        },
        {
          "output_type": "stream",
          "name": "stderr",
          "text": [
            "train: 100%|██████████| 33/33 [00:00<00:00, 501.04it/s]\n"
          ]
        },
        {
          "output_type": "stream",
          "name": "stdout",
          "text": [
            "Epoch 271 elapsed: 0.073s\n",
            "\t \u001b[32mtrain_loss: 0.0396\u001b[0m\n"
          ]
        },
        {
          "output_type": "stream",
          "name": "stderr",
          "text": [
            "eval_listwise: 100%|██████████| 227/227 [00:00<00:00, 1622.52it/s]\n"
          ]
        },
        {
          "output_type": "stream",
          "name": "stdout",
          "text": [
            "\t eval ndcg@10: 0.0162\n",
            "\t eval precision@10: 0.0035\n",
            "==============================\n"
          ]
        },
        {
          "output_type": "stream",
          "name": "stderr",
          "text": [
            "train: 100%|██████████| 33/33 [00:00<00:00, 408.21it/s]\n"
          ]
        },
        {
          "output_type": "stream",
          "name": "stdout",
          "text": [
            "Epoch 272 elapsed: 0.087s\n",
            "\t \u001b[32mtrain_loss: 0.0383\u001b[0m\n"
          ]
        },
        {
          "output_type": "stream",
          "name": "stderr",
          "text": [
            "eval_listwise: 100%|██████████| 227/227 [00:00<00:00, 1577.78it/s]\n"
          ]
        },
        {
          "output_type": "stream",
          "name": "stdout",
          "text": [
            "\t eval ndcg@10: 0.0159\n",
            "\t eval precision@10: 0.0035\n",
            "==============================\n"
          ]
        },
        {
          "output_type": "stream",
          "name": "stderr",
          "text": [
            "train: 100%|██████████| 33/33 [00:00<00:00, 402.53it/s]\n"
          ]
        },
        {
          "output_type": "stream",
          "name": "stdout",
          "text": [
            "Epoch 273 elapsed: 0.093s\n",
            "\t \u001b[32mtrain_loss: 0.0416\u001b[0m\n"
          ]
        },
        {
          "output_type": "stream",
          "name": "stderr",
          "text": [
            "eval_listwise: 100%|██████████| 227/227 [00:00<00:00, 1737.44it/s]\n"
          ]
        },
        {
          "output_type": "stream",
          "name": "stdout",
          "text": [
            "\t eval ndcg@10: 0.0161\n",
            "\t eval precision@10: 0.0035\n",
            "==============================\n"
          ]
        },
        {
          "output_type": "stream",
          "name": "stderr",
          "text": [
            "train: 100%|██████████| 33/33 [00:00<00:00, 438.18it/s]\n"
          ]
        },
        {
          "output_type": "stream",
          "name": "stdout",
          "text": [
            "Epoch 274 elapsed: 0.082s\n",
            "\t \u001b[32mtrain_loss: 0.0487\u001b[0m\n"
          ]
        },
        {
          "output_type": "stream",
          "name": "stderr",
          "text": [
            "eval_listwise: 100%|██████████| 227/227 [00:00<00:00, 1669.15it/s]\n"
          ]
        },
        {
          "output_type": "stream",
          "name": "stdout",
          "text": [
            "\t eval ndcg@10: 0.0163\n",
            "\t eval precision@10: 0.0040\n",
            "==============================\n"
          ]
        },
        {
          "output_type": "stream",
          "name": "stderr",
          "text": [
            "train: 100%|██████████| 33/33 [00:00<00:00, 434.94it/s]\n"
          ]
        },
        {
          "output_type": "stream",
          "name": "stdout",
          "text": [
            "Epoch 275 elapsed: 0.086s\n",
            "\t \u001b[32mtrain_loss: 0.0448\u001b[0m\n"
          ]
        },
        {
          "output_type": "stream",
          "name": "stderr",
          "text": [
            "eval_listwise: 100%|██████████| 227/227 [00:00<00:00, 1905.19it/s]\n"
          ]
        },
        {
          "output_type": "stream",
          "name": "stdout",
          "text": [
            "\t eval ndcg@10: 0.0157\n",
            "\t eval precision@10: 0.0035\n",
            "==============================\n"
          ]
        },
        {
          "output_type": "stream",
          "name": "stderr",
          "text": [
            "train: 100%|██████████| 33/33 [00:00<00:00, 461.31it/s]\n"
          ]
        },
        {
          "output_type": "stream",
          "name": "stdout",
          "text": [
            "Epoch 276 elapsed: 0.082s\n",
            "\t \u001b[32mtrain_loss: 0.0435\u001b[0m\n"
          ]
        },
        {
          "output_type": "stream",
          "name": "stderr",
          "text": [
            "eval_listwise: 100%|██████████| 227/227 [00:00<00:00, 787.57it/s]\n"
          ]
        },
        {
          "output_type": "stream",
          "name": "stdout",
          "text": [
            "\t eval ndcg@10: 0.0168\n",
            "\t eval precision@10: 0.0035\n",
            "==============================\n"
          ]
        },
        {
          "output_type": "stream",
          "name": "stderr",
          "text": [
            "train: 100%|██████████| 33/33 [00:00<00:00, 466.92it/s]\n"
          ]
        },
        {
          "output_type": "stream",
          "name": "stdout",
          "text": [
            "Epoch 277 elapsed: 0.078s\n",
            "\t \u001b[32mtrain_loss: 0.0431\u001b[0m\n"
          ]
        },
        {
          "output_type": "stream",
          "name": "stderr",
          "text": [
            "eval_listwise: 100%|██████████| 227/227 [00:00<00:00, 1390.22it/s]\n"
          ]
        },
        {
          "output_type": "stream",
          "name": "stdout",
          "text": [
            "\t eval ndcg@10: 0.0165\n",
            "\t eval precision@10: 0.0031\n",
            "==============================\n"
          ]
        },
        {
          "output_type": "stream",
          "name": "stderr",
          "text": [
            "train: 100%|██████████| 33/33 [00:00<00:00, 425.60it/s]\n"
          ]
        },
        {
          "output_type": "stream",
          "name": "stdout",
          "text": [
            "Epoch 278 elapsed: 0.089s\n",
            "\t \u001b[32mtrain_loss: 0.0412\u001b[0m\n"
          ]
        },
        {
          "output_type": "stream",
          "name": "stderr",
          "text": [
            "eval_listwise: 100%|██████████| 227/227 [00:00<00:00, 1515.87it/s]\n"
          ]
        },
        {
          "output_type": "stream",
          "name": "stdout",
          "text": [
            "\t eval ndcg@10: 0.0159\n",
            "\t eval precision@10: 0.0031\n",
            "==============================\n"
          ]
        },
        {
          "output_type": "stream",
          "name": "stderr",
          "text": [
            "train: 100%|██████████| 33/33 [00:00<00:00, 431.54it/s]\n"
          ]
        },
        {
          "output_type": "stream",
          "name": "stdout",
          "text": [
            "Epoch 279 elapsed: 0.085s\n",
            "\t \u001b[32mtrain_loss: 0.0389\u001b[0m\n"
          ]
        },
        {
          "output_type": "stream",
          "name": "stderr",
          "text": [
            "eval_listwise: 100%|██████████| 227/227 [00:00<00:00, 1396.03it/s]\n"
          ]
        },
        {
          "output_type": "stream",
          "name": "stdout",
          "text": [
            "\t eval ndcg@10: 0.0186\n",
            "\t eval precision@10: 0.0035\n",
            "==============================\n"
          ]
        },
        {
          "output_type": "stream",
          "name": "stderr",
          "text": [
            "train: 100%|██████████| 33/33 [00:00<00:00, 381.93it/s]\n"
          ]
        },
        {
          "output_type": "stream",
          "name": "stdout",
          "text": [
            "Epoch 280 elapsed: 0.094s\n",
            "\t \u001b[32mtrain_loss: 0.0429\u001b[0m\n"
          ]
        },
        {
          "output_type": "stream",
          "name": "stderr",
          "text": [
            "eval_listwise: 100%|██████████| 227/227 [00:00<00:00, 1370.42it/s]\n"
          ]
        },
        {
          "output_type": "stream",
          "name": "stdout",
          "text": [
            "\t eval ndcg@10: 0.0138\n",
            "\t eval precision@10: 0.0035\n",
            "==============================\n"
          ]
        },
        {
          "output_type": "stream",
          "name": "stderr",
          "text": [
            "train: 100%|██████████| 33/33 [00:00<00:00, 430.00it/s]\n"
          ]
        },
        {
          "output_type": "stream",
          "name": "stdout",
          "text": [
            "Epoch 281 elapsed: 0.085s\n",
            "\t \u001b[32mtrain_loss: 0.0414\u001b[0m\n"
          ]
        },
        {
          "output_type": "stream",
          "name": "stderr",
          "text": [
            "eval_listwise: 100%|██████████| 227/227 [00:00<00:00, 1651.10it/s]\n"
          ]
        },
        {
          "output_type": "stream",
          "name": "stdout",
          "text": [
            "\t eval ndcg@10: 0.0139\n",
            "\t eval precision@10: 0.0035\n",
            "==============================\n"
          ]
        },
        {
          "output_type": "stream",
          "name": "stderr",
          "text": [
            "train: 100%|██████████| 33/33 [00:00<00:00, 492.03it/s]\n"
          ]
        },
        {
          "output_type": "stream",
          "name": "stdout",
          "text": [
            "Epoch 282 elapsed: 0.076s\n",
            "\t \u001b[32mtrain_loss: 0.0411\u001b[0m\n"
          ]
        },
        {
          "output_type": "stream",
          "name": "stderr",
          "text": [
            "eval_listwise: 100%|██████████| 227/227 [00:00<00:00, 1444.25it/s]\n"
          ]
        },
        {
          "output_type": "stream",
          "name": "stdout",
          "text": [
            "\t eval ndcg@10: 0.0138\n",
            "\t eval precision@10: 0.0035\n",
            "==============================\n"
          ]
        },
        {
          "output_type": "stream",
          "name": "stderr",
          "text": [
            "train: 100%|██████████| 33/33 [00:00<00:00, 527.05it/s]\n"
          ]
        },
        {
          "output_type": "stream",
          "name": "stdout",
          "text": [
            "Epoch 283 elapsed: 0.073s\n",
            "\t \u001b[32mtrain_loss: 0.0418\u001b[0m\n"
          ]
        },
        {
          "output_type": "stream",
          "name": "stderr",
          "text": [
            "eval_listwise: 100%|██████████| 227/227 [00:00<00:00, 997.78it/s]\n"
          ]
        },
        {
          "output_type": "stream",
          "name": "stdout",
          "text": [
            "\t eval ndcg@10: 0.0139\n",
            "\t eval precision@10: 0.0035\n",
            "==============================\n"
          ]
        },
        {
          "output_type": "stream",
          "name": "stderr",
          "text": [
            "train: 100%|██████████| 33/33 [00:00<00:00, 493.25it/s]\n"
          ]
        },
        {
          "output_type": "stream",
          "name": "stdout",
          "text": [
            "Epoch 284 elapsed: 0.073s\n",
            "\t \u001b[32mtrain_loss: 0.0476\u001b[0m\n"
          ]
        },
        {
          "output_type": "stream",
          "name": "stderr",
          "text": [
            "eval_listwise: 100%|██████████| 227/227 [00:00<00:00, 1205.30it/s]\n"
          ]
        },
        {
          "output_type": "stream",
          "name": "stdout",
          "text": [
            "\t eval ndcg@10: 0.0173\n",
            "\t eval precision@10: 0.0035\n",
            "==============================\n"
          ]
        },
        {
          "output_type": "stream",
          "name": "stderr",
          "text": [
            "train: 100%|██████████| 33/33 [00:00<00:00, 422.86it/s]\n"
          ]
        },
        {
          "output_type": "stream",
          "name": "stdout",
          "text": [
            "Epoch 285 elapsed: 0.084s\n",
            "\t \u001b[32mtrain_loss: 0.046\u001b[0m\n"
          ]
        },
        {
          "output_type": "stream",
          "name": "stderr",
          "text": [
            "eval_listwise: 100%|██████████| 227/227 [00:00<00:00, 631.88it/s]\n"
          ]
        },
        {
          "output_type": "stream",
          "name": "stdout",
          "text": [
            "\t eval ndcg@10: 0.0178\n",
            "\t eval precision@10: 0.0035\n",
            "==============================\n"
          ]
        },
        {
          "output_type": "stream",
          "name": "stderr",
          "text": [
            "train: 100%|██████████| 33/33 [00:00<00:00, 316.34it/s]\n"
          ]
        },
        {
          "output_type": "stream",
          "name": "stdout",
          "text": [
            "Epoch 286 elapsed: 0.112s\n",
            "\t \u001b[32mtrain_loss: 0.0469\u001b[0m\n"
          ]
        },
        {
          "output_type": "stream",
          "name": "stderr",
          "text": [
            "eval_listwise: 100%|██████████| 227/227 [00:00<00:00, 1264.32it/s]\n"
          ]
        },
        {
          "output_type": "stream",
          "name": "stdout",
          "text": [
            "\t eval ndcg@10: 0.0134\n",
            "\t eval precision@10: 0.0035\n",
            "==============================\n"
          ]
        },
        {
          "output_type": "stream",
          "name": "stderr",
          "text": [
            "train: 100%|██████████| 33/33 [00:00<00:00, 345.14it/s]\n"
          ]
        },
        {
          "output_type": "stream",
          "name": "stdout",
          "text": [
            "Epoch 287 elapsed: 0.100s\n",
            "\t \u001b[32mtrain_loss: 0.0387\u001b[0m\n"
          ]
        },
        {
          "output_type": "stream",
          "name": "stderr",
          "text": [
            "eval_listwise: 100%|██████████| 227/227 [00:00<00:00, 1748.16it/s]\n"
          ]
        },
        {
          "output_type": "stream",
          "name": "stdout",
          "text": [
            "\t eval ndcg@10: 0.0128\n",
            "\t eval precision@10: 0.0035\n",
            "==============================\n"
          ]
        },
        {
          "output_type": "stream",
          "name": "stderr",
          "text": [
            "train: 100%|██████████| 33/33 [00:00<00:00, 383.69it/s]\n"
          ]
        },
        {
          "output_type": "stream",
          "name": "stdout",
          "text": [
            "Epoch 288 elapsed: 0.094s\n",
            "\t \u001b[32mtrain_loss: 0.0388\u001b[0m\n"
          ]
        },
        {
          "output_type": "stream",
          "name": "stderr",
          "text": [
            "eval_listwise: 100%|██████████| 227/227 [00:00<00:00, 1060.24it/s]\n"
          ]
        },
        {
          "output_type": "stream",
          "name": "stdout",
          "text": [
            "\t eval ndcg@10: 0.0113\n",
            "\t eval precision@10: 0.0031\n",
            "==============================\n"
          ]
        },
        {
          "output_type": "stream",
          "name": "stderr",
          "text": [
            "train: 100%|██████████| 33/33 [00:00<00:00, 510.73it/s]\n"
          ]
        },
        {
          "output_type": "stream",
          "name": "stdout",
          "text": [
            "Epoch 289 elapsed: 0.071s\n",
            "\t \u001b[32mtrain_loss: 0.0409\u001b[0m\n"
          ]
        },
        {
          "output_type": "stream",
          "name": "stderr",
          "text": [
            "eval_listwise: 100%|██████████| 227/227 [00:00<00:00, 1187.09it/s]\n"
          ]
        },
        {
          "output_type": "stream",
          "name": "stdout",
          "text": [
            "\t eval ndcg@10: 0.0104\n",
            "\t eval precision@10: 0.0022\n",
            "==============================\n"
          ]
        },
        {
          "output_type": "stream",
          "name": "stderr",
          "text": [
            "train: 100%|██████████| 33/33 [00:00<00:00, 422.68it/s]\n"
          ]
        },
        {
          "output_type": "stream",
          "name": "stdout",
          "text": [
            "Epoch 290 elapsed: 0.088s\n",
            "\t \u001b[32mtrain_loss: 0.0552\u001b[0m\n"
          ]
        },
        {
          "output_type": "stream",
          "name": "stderr",
          "text": [
            "eval_listwise: 100%|██████████| 227/227 [00:00<00:00, 1559.42it/s]\n"
          ]
        },
        {
          "output_type": "stream",
          "name": "stdout",
          "text": [
            "\t eval ndcg@10: 0.0095\n",
            "\t eval precision@10: 0.0022\n",
            "==============================\n"
          ]
        },
        {
          "output_type": "stream",
          "name": "stderr",
          "text": [
            "train: 100%|██████████| 33/33 [00:00<00:00, 435.49it/s]\n"
          ]
        },
        {
          "output_type": "stream",
          "name": "stdout",
          "text": [
            "Epoch 291 elapsed: 0.087s\n",
            "\t \u001b[32mtrain_loss: 0.0421\u001b[0m\n"
          ]
        },
        {
          "output_type": "stream",
          "name": "stderr",
          "text": [
            "eval_listwise: 100%|██████████| 227/227 [00:00<00:00, 1543.02it/s]\n"
          ]
        },
        {
          "output_type": "stream",
          "name": "stdout",
          "text": [
            "\t eval ndcg@10: 0.0137\n",
            "\t eval precision@10: 0.0022\n",
            "==============================\n"
          ]
        },
        {
          "output_type": "stream",
          "name": "stderr",
          "text": [
            "train: 100%|██████████| 33/33 [00:00<00:00, 401.63it/s]\n"
          ]
        },
        {
          "output_type": "stream",
          "name": "stdout",
          "text": [
            "Epoch 292 elapsed: 0.089s\n",
            "\t \u001b[32mtrain_loss: 0.0435\u001b[0m\n"
          ]
        },
        {
          "output_type": "stream",
          "name": "stderr",
          "text": [
            "eval_listwise: 100%|██████████| 227/227 [00:00<00:00, 1763.63it/s]\n"
          ]
        },
        {
          "output_type": "stream",
          "name": "stdout",
          "text": [
            "\t eval ndcg@10: 0.0137\n",
            "\t eval precision@10: 0.0022\n",
            "==============================\n"
          ]
        },
        {
          "output_type": "stream",
          "name": "stderr",
          "text": [
            "train: 100%|██████████| 33/33 [00:00<00:00, 329.24it/s]\n"
          ]
        },
        {
          "output_type": "stream",
          "name": "stdout",
          "text": [
            "Epoch 293 elapsed: 0.109s\n",
            "\t \u001b[32mtrain_loss: 0.0407\u001b[0m\n"
          ]
        },
        {
          "output_type": "stream",
          "name": "stderr",
          "text": [
            "eval_listwise: 100%|██████████| 227/227 [00:00<00:00, 1894.89it/s]\n"
          ]
        },
        {
          "output_type": "stream",
          "name": "stdout",
          "text": [
            "\t eval ndcg@10: 0.0151\n",
            "\t eval precision@10: 0.0026\n",
            "==============================\n"
          ]
        },
        {
          "output_type": "stream",
          "name": "stderr",
          "text": [
            "train: 100%|██████████| 33/33 [00:00<00:00, 424.62it/s]\n"
          ]
        },
        {
          "output_type": "stream",
          "name": "stdout",
          "text": [
            "Epoch 294 elapsed: 0.087s\n",
            "\t \u001b[32mtrain_loss: 0.0367\u001b[0m\n"
          ]
        },
        {
          "output_type": "stream",
          "name": "stderr",
          "text": [
            "eval_listwise: 100%|██████████| 227/227 [00:00<00:00, 1526.90it/s]\n"
          ]
        },
        {
          "output_type": "stream",
          "name": "stdout",
          "text": [
            "\t eval ndcg@10: 0.0149\n",
            "\t eval precision@10: 0.0026\n",
            "==============================\n"
          ]
        },
        {
          "output_type": "stream",
          "name": "stderr",
          "text": [
            "train: 100%|██████████| 33/33 [00:00<00:00, 455.96it/s]\n"
          ]
        },
        {
          "output_type": "stream",
          "name": "stdout",
          "text": [
            "Epoch 295 elapsed: 0.078s\n",
            "\t \u001b[32mtrain_loss: 0.0429\u001b[0m\n"
          ]
        },
        {
          "output_type": "stream",
          "name": "stderr",
          "text": [
            "eval_listwise: 100%|██████████| 227/227 [00:00<00:00, 1582.52it/s]\n"
          ]
        },
        {
          "output_type": "stream",
          "name": "stdout",
          "text": [
            "\t eval ndcg@10: 0.0151\n",
            "\t eval precision@10: 0.0026\n",
            "==============================\n"
          ]
        },
        {
          "output_type": "stream",
          "name": "stderr",
          "text": [
            "train: 100%|██████████| 33/33 [00:00<00:00, 461.20it/s]\n"
          ]
        },
        {
          "output_type": "stream",
          "name": "stdout",
          "text": [
            "Epoch 296 elapsed: 0.078s\n",
            "\t \u001b[32mtrain_loss: 0.0451\u001b[0m\n"
          ]
        },
        {
          "output_type": "stream",
          "name": "stderr",
          "text": [
            "eval_listwise: 100%|██████████| 227/227 [00:00<00:00, 1646.80it/s]\n"
          ]
        },
        {
          "output_type": "stream",
          "name": "stdout",
          "text": [
            "\t eval ndcg@10: 0.0151\n",
            "\t eval precision@10: 0.0026\n",
            "==============================\n"
          ]
        },
        {
          "output_type": "stream",
          "name": "stderr",
          "text": [
            "train: 100%|██████████| 33/33 [00:00<00:00, 350.29it/s]\n"
          ]
        },
        {
          "output_type": "stream",
          "name": "stdout",
          "text": [
            "Epoch 297 elapsed: 0.105s\n",
            "\t \u001b[32mtrain_loss: 0.0611\u001b[0m\n"
          ]
        },
        {
          "output_type": "stream",
          "name": "stderr",
          "text": [
            "eval_listwise: 100%|██████████| 227/227 [00:00<00:00, 1750.35it/s]\n"
          ]
        },
        {
          "output_type": "stream",
          "name": "stdout",
          "text": [
            "\t eval ndcg@10: 0.0154\n",
            "\t eval precision@10: 0.0026\n",
            "==============================\n"
          ]
        },
        {
          "output_type": "stream",
          "name": "stderr",
          "text": [
            "train: 100%|██████████| 33/33 [00:00<00:00, 460.96it/s]\n"
          ]
        },
        {
          "output_type": "stream",
          "name": "stdout",
          "text": [
            "Epoch 298 elapsed: 0.085s\n",
            "\t \u001b[32mtrain_loss: 0.0493\u001b[0m\n"
          ]
        },
        {
          "output_type": "stream",
          "name": "stderr",
          "text": [
            "eval_listwise: 100%|██████████| 227/227 [00:00<00:00, 1344.46it/s]\n"
          ]
        },
        {
          "output_type": "stream",
          "name": "stdout",
          "text": [
            "\t eval ndcg@10: 0.0168\n",
            "\t eval precision@10: 0.0031\n",
            "==============================\n"
          ]
        },
        {
          "output_type": "stream",
          "name": "stderr",
          "text": [
            "train: 100%|██████████| 33/33 [00:00<00:00, 499.55it/s]\n"
          ]
        },
        {
          "output_type": "stream",
          "name": "stdout",
          "text": [
            "Epoch 299 elapsed: 0.074s\n",
            "\t \u001b[32mtrain_loss: 0.0463\u001b[0m\n"
          ]
        },
        {
          "output_type": "stream",
          "name": "stderr",
          "text": [
            "eval_listwise: 100%|██████████| 227/227 [00:00<00:00, 1553.45it/s]\n"
          ]
        },
        {
          "output_type": "stream",
          "name": "stdout",
          "text": [
            "\t eval ndcg@10: 0.0141\n",
            "\t eval precision@10: 0.0026\n",
            "==============================\n"
          ]
        },
        {
          "output_type": "stream",
          "name": "stderr",
          "text": [
            "train: 100%|██████████| 33/33 [00:00<00:00, 505.43it/s]\n"
          ]
        },
        {
          "output_type": "stream",
          "name": "stdout",
          "text": [
            "Epoch 300 elapsed: 0.071s\n",
            "\t \u001b[32mtrain_loss: 0.0397\u001b[0m\n"
          ]
        },
        {
          "output_type": "stream",
          "name": "stderr",
          "text": [
            "eval_listwise: 100%|██████████| 227/227 [00:00<00:00, 1906.23it/s]\n"
          ]
        },
        {
          "output_type": "stream",
          "name": "stdout",
          "text": [
            "\t eval ndcg@10: 0.0154\n",
            "\t eval precision@10: 0.0031\n",
            "==============================\n"
          ]
        },
        {
          "output_type": "stream",
          "name": "stderr",
          "text": [
            "train: 100%|██████████| 33/33 [00:00<00:00, 346.10it/s]\n"
          ]
        },
        {
          "output_type": "stream",
          "name": "stdout",
          "text": [
            "Epoch 301 elapsed: 0.101s\n",
            "\t \u001b[32mtrain_loss: 0.0401\u001b[0m\n"
          ]
        },
        {
          "output_type": "stream",
          "name": "stderr",
          "text": [
            "eval_listwise: 100%|██████████| 227/227 [00:00<00:00, 1714.70it/s]\n"
          ]
        },
        {
          "output_type": "stream",
          "name": "stdout",
          "text": [
            "\t eval ndcg@10: 0.0160\n",
            "\t eval precision@10: 0.0031\n",
            "==============================\n"
          ]
        },
        {
          "output_type": "stream",
          "name": "stderr",
          "text": [
            "train: 100%|██████████| 33/33 [00:00<00:00, 368.59it/s]\n"
          ]
        },
        {
          "output_type": "stream",
          "name": "stdout",
          "text": [
            "Epoch 302 elapsed: 0.096s\n",
            "\t \u001b[32mtrain_loss: 0.0386\u001b[0m\n"
          ]
        },
        {
          "output_type": "stream",
          "name": "stderr",
          "text": [
            "eval_listwise: 100%|██████████| 227/227 [00:00<00:00, 1368.16it/s]\n"
          ]
        },
        {
          "output_type": "stream",
          "name": "stdout",
          "text": [
            "\t eval ndcg@10: 0.0158\n",
            "\t eval precision@10: 0.0031\n",
            "==============================\n"
          ]
        },
        {
          "output_type": "stream",
          "name": "stderr",
          "text": [
            "train: 100%|██████████| 33/33 [00:00<00:00, 410.90it/s]\n"
          ]
        },
        {
          "output_type": "stream",
          "name": "stdout",
          "text": [
            "Epoch 303 elapsed: 0.086s\n",
            "\t \u001b[32mtrain_loss: 0.046\u001b[0m\n"
          ]
        },
        {
          "output_type": "stream",
          "name": "stderr",
          "text": [
            "eval_listwise: 100%|██████████| 227/227 [00:00<00:00, 1668.07it/s]\n"
          ]
        },
        {
          "output_type": "stream",
          "name": "stdout",
          "text": [
            "\t eval ndcg@10: 0.0160\n",
            "\t eval precision@10: 0.0031\n",
            "==============================\n"
          ]
        },
        {
          "output_type": "stream",
          "name": "stderr",
          "text": [
            "train: 100%|██████████| 33/33 [00:00<00:00, 377.56it/s]\n"
          ]
        },
        {
          "output_type": "stream",
          "name": "stdout",
          "text": [
            "Epoch 304 elapsed: 0.093s\n",
            "\t \u001b[32mtrain_loss: 0.0397\u001b[0m\n"
          ]
        },
        {
          "output_type": "stream",
          "name": "stderr",
          "text": [
            "eval_listwise: 100%|██████████| 227/227 [00:00<00:00, 1665.15it/s]\n"
          ]
        },
        {
          "output_type": "stream",
          "name": "stdout",
          "text": [
            "\t eval ndcg@10: 0.0162\n",
            "\t eval precision@10: 0.0031\n",
            "==============================\n"
          ]
        },
        {
          "output_type": "stream",
          "name": "stderr",
          "text": [
            "train: 100%|██████████| 33/33 [00:00<00:00, 517.94it/s]\n"
          ]
        },
        {
          "output_type": "stream",
          "name": "stdout",
          "text": [
            "Epoch 305 elapsed: 0.069s\n",
            "\t \u001b[32mtrain_loss: 0.0517\u001b[0m\n"
          ]
        },
        {
          "output_type": "stream",
          "name": "stderr",
          "text": [
            "eval_listwise: 100%|██████████| 227/227 [00:00<00:00, 1638.06it/s]\n"
          ]
        },
        {
          "output_type": "stream",
          "name": "stdout",
          "text": [
            "\t eval ndcg@10: 0.0165\n",
            "\t eval precision@10: 0.0031\n",
            "==============================\n"
          ]
        },
        {
          "output_type": "stream",
          "name": "stderr",
          "text": [
            "train: 100%|██████████| 33/33 [00:00<00:00, 386.08it/s]\n"
          ]
        },
        {
          "output_type": "stream",
          "name": "stdout",
          "text": [
            "Epoch 306 elapsed: 0.095s\n",
            "\t \u001b[32mtrain_loss: 0.0439\u001b[0m\n"
          ]
        },
        {
          "output_type": "stream",
          "name": "stderr",
          "text": [
            "eval_listwise: 100%|██████████| 227/227 [00:00<00:00, 1415.67it/s]\n"
          ]
        },
        {
          "output_type": "stream",
          "name": "stdout",
          "text": [
            "\t eval ndcg@10: 0.0160\n",
            "\t eval precision@10: 0.0031\n",
            "==============================\n"
          ]
        },
        {
          "output_type": "stream",
          "name": "stderr",
          "text": [
            "train: 100%|██████████| 33/33 [00:00<00:00, 339.40it/s]\n"
          ]
        },
        {
          "output_type": "stream",
          "name": "stdout",
          "text": [
            "Epoch 307 elapsed: 0.107s\n",
            "\t \u001b[32mtrain_loss: 0.0418\u001b[0m\n"
          ]
        },
        {
          "output_type": "stream",
          "name": "stderr",
          "text": [
            "eval_listwise: 100%|██████████| 227/227 [00:00<00:00, 1624.17it/s]\n"
          ]
        },
        {
          "output_type": "stream",
          "name": "stdout",
          "text": [
            "\t eval ndcg@10: 0.0158\n",
            "\t eval precision@10: 0.0031\n",
            "==============================\n"
          ]
        },
        {
          "output_type": "stream",
          "name": "stderr",
          "text": [
            "train: 100%|██████████| 33/33 [00:00<00:00, 437.59it/s]\n"
          ]
        },
        {
          "output_type": "stream",
          "name": "stdout",
          "text": [
            "Epoch 308 elapsed: 0.083s\n",
            "\t \u001b[32mtrain_loss: 0.0397\u001b[0m\n"
          ]
        },
        {
          "output_type": "stream",
          "name": "stderr",
          "text": [
            "eval_listwise: 100%|██████████| 227/227 [00:00<00:00, 1938.96it/s]\n"
          ]
        },
        {
          "output_type": "stream",
          "name": "stdout",
          "text": [
            "\t eval ndcg@10: 0.0166\n",
            "\t eval precision@10: 0.0035\n",
            "==============================\n"
          ]
        },
        {
          "output_type": "stream",
          "name": "stderr",
          "text": [
            "train: 100%|██████████| 33/33 [00:00<00:00, 435.61it/s]\n"
          ]
        },
        {
          "output_type": "stream",
          "name": "stdout",
          "text": [
            "Epoch 309 elapsed: 0.083s\n",
            "\t \u001b[32mtrain_loss: 0.0414\u001b[0m\n"
          ]
        },
        {
          "output_type": "stream",
          "name": "stderr",
          "text": [
            "eval_listwise: 100%|██████████| 227/227 [00:00<00:00, 1505.25it/s]\n"
          ]
        },
        {
          "output_type": "stream",
          "name": "stdout",
          "text": [
            "\t eval ndcg@10: 0.0181\n",
            "\t eval precision@10: 0.0040\n",
            "==============================\n"
          ]
        },
        {
          "output_type": "stream",
          "name": "stderr",
          "text": [
            "train: 100%|██████████| 33/33 [00:00<00:00, 513.91it/s]\n"
          ]
        },
        {
          "output_type": "stream",
          "name": "stdout",
          "text": [
            "Epoch 310 elapsed: 0.075s\n",
            "\t \u001b[32mtrain_loss: 0.0366\u001b[0m\n"
          ]
        },
        {
          "output_type": "stream",
          "name": "stderr",
          "text": [
            "eval_listwise: 100%|██████████| 227/227 [00:00<00:00, 404.15it/s]\n"
          ]
        },
        {
          "output_type": "stream",
          "name": "stdout",
          "text": [
            "\t eval ndcg@10: 0.0178\n",
            "\t eval precision@10: 0.0040\n",
            "==============================\n"
          ]
        },
        {
          "output_type": "stream",
          "name": "stderr",
          "text": [
            "train: 100%|██████████| 33/33 [00:00<00:00, 334.41it/s]\n"
          ]
        },
        {
          "output_type": "stream",
          "name": "stdout",
          "text": [
            "Epoch 311 elapsed: 0.107s\n",
            "\t \u001b[32mtrain_loss: 0.042\u001b[0m\n"
          ]
        },
        {
          "output_type": "stream",
          "name": "stderr",
          "text": [
            "eval_listwise: 100%|██████████| 227/227 [00:00<00:00, 1674.17it/s]\n"
          ]
        },
        {
          "output_type": "stream",
          "name": "stdout",
          "text": [
            "\t eval ndcg@10: 0.0197\n",
            "\t eval precision@10: 0.0044\n",
            "==============================\n"
          ]
        },
        {
          "output_type": "stream",
          "name": "stderr",
          "text": [
            "train: 100%|██████████| 33/33 [00:00<00:00, 414.61it/s]\n"
          ]
        },
        {
          "output_type": "stream",
          "name": "stdout",
          "text": [
            "Epoch 312 elapsed: 0.085s\n",
            "\t \u001b[32mtrain_loss: 0.0506\u001b[0m\n"
          ]
        },
        {
          "output_type": "stream",
          "name": "stderr",
          "text": [
            "eval_listwise: 100%|██████████| 227/227 [00:00<00:00, 451.92it/s]\n"
          ]
        },
        {
          "output_type": "stream",
          "name": "stdout",
          "text": [
            "\t eval ndcg@10: 0.0197\n",
            "\t eval precision@10: 0.0048\n",
            "==============================\n"
          ]
        },
        {
          "output_type": "stream",
          "name": "stderr",
          "text": [
            "train: 100%|██████████| 33/33 [00:00<00:00, 449.79it/s]\n"
          ]
        },
        {
          "output_type": "stream",
          "name": "stdout",
          "text": [
            "Epoch 313 elapsed: 0.079s\n",
            "\t \u001b[32mtrain_loss: 0.0421\u001b[0m\n"
          ]
        },
        {
          "output_type": "stream",
          "name": "stderr",
          "text": [
            "eval_listwise: 100%|██████████| 227/227 [00:00<00:00, 1996.15it/s]\n"
          ]
        },
        {
          "output_type": "stream",
          "name": "stdout",
          "text": [
            "\t eval ndcg@10: 0.0210\n",
            "\t eval precision@10: 0.0044\n",
            "==============================\n"
          ]
        },
        {
          "output_type": "stream",
          "name": "stderr",
          "text": [
            "train: 100%|██████████| 33/33 [00:00<00:00, 367.88it/s]\n"
          ]
        },
        {
          "output_type": "stream",
          "name": "stdout",
          "text": [
            "Epoch 314 elapsed: 0.101s\n",
            "\t \u001b[32mtrain_loss: 0.0382\u001b[0m\n"
          ]
        },
        {
          "output_type": "stream",
          "name": "stderr",
          "text": [
            "eval_listwise: 100%|██████████| 227/227 [00:00<00:00, 1626.26it/s]\n"
          ]
        },
        {
          "output_type": "stream",
          "name": "stdout",
          "text": [
            "\t eval ndcg@10: 0.0182\n",
            "\t eval precision@10: 0.0035\n",
            "==============================\n"
          ]
        },
        {
          "output_type": "stream",
          "name": "stderr",
          "text": [
            "train: 100%|██████████| 33/33 [00:00<00:00, 456.25it/s]\n"
          ]
        },
        {
          "output_type": "stream",
          "name": "stdout",
          "text": [
            "Epoch 315 elapsed: 0.083s\n",
            "\t \u001b[32mtrain_loss: 0.0408\u001b[0m\n"
          ]
        },
        {
          "output_type": "stream",
          "name": "stderr",
          "text": [
            "eval_listwise: 100%|██████████| 227/227 [00:00<00:00, 1809.09it/s]\n"
          ]
        },
        {
          "output_type": "stream",
          "name": "stdout",
          "text": [
            "\t eval ndcg@10: 0.0189\n",
            "\t eval precision@10: 0.0044\n",
            "==============================\n"
          ]
        },
        {
          "output_type": "stream",
          "name": "stderr",
          "text": [
            "train: 100%|██████████| 33/33 [00:00<00:00, 463.13it/s]\n"
          ]
        },
        {
          "output_type": "stream",
          "name": "stdout",
          "text": [
            "Epoch 316 elapsed: 0.078s\n",
            "\t \u001b[32mtrain_loss: 0.0364\u001b[0m\n"
          ]
        },
        {
          "output_type": "stream",
          "name": "stderr",
          "text": [
            "eval_listwise: 100%|██████████| 227/227 [00:00<00:00, 1582.87it/s]\n"
          ]
        },
        {
          "output_type": "stream",
          "name": "stdout",
          "text": [
            "\t eval ndcg@10: 0.0201\n",
            "\t eval precision@10: 0.0048\n",
            "==============================\n"
          ]
        },
        {
          "output_type": "stream",
          "name": "stderr",
          "text": [
            "train: 100%|██████████| 33/33 [00:00<00:00, 375.93it/s]\n"
          ]
        },
        {
          "output_type": "stream",
          "name": "stdout",
          "text": [
            "Epoch 317 elapsed: 0.093s\n",
            "\t \u001b[32mtrain_loss: 0.0403\u001b[0m\n"
          ]
        },
        {
          "output_type": "stream",
          "name": "stderr",
          "text": [
            "eval_listwise: 100%|██████████| 227/227 [00:00<00:00, 1575.93it/s]\n"
          ]
        },
        {
          "output_type": "stream",
          "name": "stdout",
          "text": [
            "\t eval ndcg@10: 0.0212\n",
            "\t eval precision@10: 0.0053\n",
            "==============================\n"
          ]
        },
        {
          "output_type": "stream",
          "name": "stderr",
          "text": [
            "train: 100%|██████████| 33/33 [00:00<00:00, 452.53it/s]\n"
          ]
        },
        {
          "output_type": "stream",
          "name": "stdout",
          "text": [
            "Epoch 318 elapsed: 0.089s\n",
            "\t \u001b[32mtrain_loss: 0.0448\u001b[0m\n"
          ]
        },
        {
          "output_type": "stream",
          "name": "stderr",
          "text": [
            "eval_listwise: 100%|██████████| 227/227 [00:00<00:00, 1531.46it/s]\n"
          ]
        },
        {
          "output_type": "stream",
          "name": "stdout",
          "text": [
            "\t eval ndcg@10: 0.0194\n",
            "\t eval precision@10: 0.0044\n",
            "==============================\n"
          ]
        },
        {
          "output_type": "stream",
          "name": "stderr",
          "text": [
            "train: 100%|██████████| 33/33 [00:00<00:00, 440.83it/s]\n"
          ]
        },
        {
          "output_type": "stream",
          "name": "stdout",
          "text": [
            "Epoch 319 elapsed: 0.085s\n",
            "\t \u001b[32mtrain_loss: 0.0446\u001b[0m\n"
          ]
        },
        {
          "output_type": "stream",
          "name": "stderr",
          "text": [
            "eval_listwise: 100%|██████████| 227/227 [00:00<00:00, 1748.87it/s]\n"
          ]
        },
        {
          "output_type": "stream",
          "name": "stdout",
          "text": [
            "\t eval ndcg@10: 0.0209\n",
            "\t eval precision@10: 0.0040\n",
            "==============================\n"
          ]
        },
        {
          "output_type": "stream",
          "name": "stderr",
          "text": [
            "train: 100%|██████████| 33/33 [00:00<00:00, 480.50it/s]\n"
          ]
        },
        {
          "output_type": "stream",
          "name": "stdout",
          "text": [
            "Epoch 320 elapsed: 0.075s\n",
            "\t \u001b[32mtrain_loss: 0.0453\u001b[0m\n"
          ]
        },
        {
          "output_type": "stream",
          "name": "stderr",
          "text": [
            "eval_listwise: 100%|██████████| 227/227 [00:00<00:00, 1417.13it/s]\n"
          ]
        },
        {
          "output_type": "stream",
          "name": "stdout",
          "text": [
            "\t eval ndcg@10: 0.0189\n",
            "\t eval precision@10: 0.0044\n",
            "==============================\n"
          ]
        },
        {
          "output_type": "stream",
          "name": "stderr",
          "text": [
            "train: 100%|██████████| 33/33 [00:00<00:00, 485.95it/s]\n"
          ]
        },
        {
          "output_type": "stream",
          "name": "stdout",
          "text": [
            "Epoch 321 elapsed: 0.076s\n",
            "\t \u001b[32mtrain_loss: 0.0438\u001b[0m\n"
          ]
        },
        {
          "output_type": "stream",
          "name": "stderr",
          "text": [
            "eval_listwise: 100%|██████████| 227/227 [00:00<00:00, 1586.04it/s]\n"
          ]
        },
        {
          "output_type": "stream",
          "name": "stdout",
          "text": [
            "\t eval ndcg@10: 0.0183\n",
            "\t eval precision@10: 0.0040\n",
            "==============================\n"
          ]
        },
        {
          "output_type": "stream",
          "name": "stderr",
          "text": [
            "train: 100%|██████████| 33/33 [00:00<00:00, 409.22it/s]\n"
          ]
        },
        {
          "output_type": "stream",
          "name": "stdout",
          "text": [
            "Epoch 322 elapsed: 0.087s\n",
            "\t \u001b[32mtrain_loss: 0.0472\u001b[0m\n"
          ]
        },
        {
          "output_type": "stream",
          "name": "stderr",
          "text": [
            "eval_listwise: 100%|██████████| 227/227 [00:00<00:00, 1925.53it/s]\n"
          ]
        },
        {
          "output_type": "stream",
          "name": "stdout",
          "text": [
            "\t eval ndcg@10: 0.0183\n",
            "\t eval precision@10: 0.0040\n",
            "==============================\n"
          ]
        },
        {
          "output_type": "stream",
          "name": "stderr",
          "text": [
            "train: 100%|██████████| 33/33 [00:00<00:00, 284.28it/s]\n"
          ]
        },
        {
          "output_type": "stream",
          "name": "stdout",
          "text": [
            "Epoch 323 elapsed: 0.121s\n",
            "\t \u001b[32mtrain_loss: 0.0449\u001b[0m\n"
          ]
        },
        {
          "output_type": "stream",
          "name": "stderr",
          "text": [
            "eval_listwise: 100%|██████████| 227/227 [00:00<00:00, 1820.52it/s]\n"
          ]
        },
        {
          "output_type": "stream",
          "name": "stdout",
          "text": [
            "\t eval ndcg@10: 0.0200\n",
            "\t eval precision@10: 0.0044\n",
            "==============================\n"
          ]
        },
        {
          "output_type": "stream",
          "name": "stderr",
          "text": [
            "train: 100%|██████████| 33/33 [00:00<00:00, 515.06it/s]\n"
          ]
        },
        {
          "output_type": "stream",
          "name": "stdout",
          "text": [
            "Epoch 324 elapsed: 0.071s\n",
            "\t \u001b[32mtrain_loss: 0.0432\u001b[0m\n"
          ]
        },
        {
          "output_type": "stream",
          "name": "stderr",
          "text": [
            "eval_listwise: 100%|██████████| 227/227 [00:00<00:00, 1474.99it/s]\n"
          ]
        },
        {
          "output_type": "stream",
          "name": "stdout",
          "text": [
            "\t eval ndcg@10: 0.0176\n",
            "\t eval precision@10: 0.0035\n",
            "==============================\n"
          ]
        },
        {
          "output_type": "stream",
          "name": "stderr",
          "text": [
            "train: 100%|██████████| 33/33 [00:00<00:00, 488.14it/s]\n"
          ]
        },
        {
          "output_type": "stream",
          "name": "stdout",
          "text": [
            "Epoch 325 elapsed: 0.073s\n",
            "\t \u001b[32mtrain_loss: 0.0436\u001b[0m\n"
          ]
        },
        {
          "output_type": "stream",
          "name": "stderr",
          "text": [
            "eval_listwise: 100%|██████████| 227/227 [00:00<00:00, 1631.22it/s]\n"
          ]
        },
        {
          "output_type": "stream",
          "name": "stdout",
          "text": [
            "\t eval ndcg@10: 0.0185\n",
            "\t eval precision@10: 0.0040\n",
            "==============================\n"
          ]
        },
        {
          "output_type": "stream",
          "name": "stderr",
          "text": [
            "train: 100%|██████████| 33/33 [00:00<00:00, 368.88it/s]\n"
          ]
        },
        {
          "output_type": "stream",
          "name": "stdout",
          "text": [
            "Epoch 326 elapsed: 0.098s\n",
            "\t \u001b[32mtrain_loss: 0.0373\u001b[0m\n"
          ]
        },
        {
          "output_type": "stream",
          "name": "stderr",
          "text": [
            "eval_listwise: 100%|██████████| 227/227 [00:00<00:00, 1653.52it/s]\n"
          ]
        },
        {
          "output_type": "stream",
          "name": "stdout",
          "text": [
            "\t eval ndcg@10: 0.0165\n",
            "\t eval precision@10: 0.0031\n",
            "==============================\n"
          ]
        },
        {
          "output_type": "stream",
          "name": "stderr",
          "text": [
            "train: 100%|██████████| 33/33 [00:00<00:00, 416.79it/s]\n"
          ]
        },
        {
          "output_type": "stream",
          "name": "stdout",
          "text": [
            "Epoch 327 elapsed: 0.091s\n",
            "\t \u001b[32mtrain_loss: 0.0401\u001b[0m\n"
          ]
        },
        {
          "output_type": "stream",
          "name": "stderr",
          "text": [
            "eval_listwise: 100%|██████████| 227/227 [00:00<00:00, 1369.16it/s]\n"
          ]
        },
        {
          "output_type": "stream",
          "name": "stdout",
          "text": [
            "\t eval ndcg@10: 0.0175\n",
            "\t eval precision@10: 0.0031\n",
            "==============================\n"
          ]
        },
        {
          "output_type": "stream",
          "name": "stderr",
          "text": [
            "train: 100%|██████████| 33/33 [00:00<00:00, 408.55it/s]\n"
          ]
        },
        {
          "output_type": "stream",
          "name": "stdout",
          "text": [
            "Epoch 328 elapsed: 0.090s\n",
            "\t \u001b[32mtrain_loss: 0.0402\u001b[0m\n"
          ]
        },
        {
          "output_type": "stream",
          "name": "stderr",
          "text": [
            "eval_listwise: 100%|██████████| 227/227 [00:00<00:00, 1325.69it/s]\n"
          ]
        },
        {
          "output_type": "stream",
          "name": "stdout",
          "text": [
            "\t eval ndcg@10: 0.0154\n",
            "\t eval precision@10: 0.0026\n",
            "==============================\n"
          ]
        },
        {
          "output_type": "stream",
          "name": "stderr",
          "text": [
            "train: 100%|██████████| 33/33 [00:00<00:00, 494.52it/s]\n"
          ]
        },
        {
          "output_type": "stream",
          "name": "stdout",
          "text": [
            "Epoch 329 elapsed: 0.072s\n",
            "\t \u001b[32mtrain_loss: 0.0399\u001b[0m\n"
          ]
        },
        {
          "output_type": "stream",
          "name": "stderr",
          "text": [
            "eval_listwise: 100%|██████████| 227/227 [00:00<00:00, 1264.03it/s]\n"
          ]
        },
        {
          "output_type": "stream",
          "name": "stdout",
          "text": [
            "\t eval ndcg@10: 0.0140\n",
            "\t eval precision@10: 0.0022\n",
            "==============================\n"
          ]
        },
        {
          "output_type": "stream",
          "name": "stderr",
          "text": [
            "train: 100%|██████████| 33/33 [00:00<00:00, 525.59it/s]\n"
          ]
        },
        {
          "output_type": "stream",
          "name": "stdout",
          "text": [
            "Epoch 330 elapsed: 0.068s\n",
            "\t \u001b[32mtrain_loss: 0.0431\u001b[0m\n"
          ]
        },
        {
          "output_type": "stream",
          "name": "stderr",
          "text": [
            "eval_listwise: 100%|██████████| 227/227 [00:00<00:00, 913.05it/s]\n"
          ]
        },
        {
          "output_type": "stream",
          "name": "stdout",
          "text": [
            "\t eval ndcg@10: 0.0140\n",
            "\t eval precision@10: 0.0022\n",
            "==============================\n"
          ]
        },
        {
          "output_type": "stream",
          "name": "stderr",
          "text": [
            "train: 100%|██████████| 33/33 [00:00<00:00, 476.75it/s]\n"
          ]
        },
        {
          "output_type": "stream",
          "name": "stdout",
          "text": [
            "Epoch 331 elapsed: 0.075s\n",
            "\t \u001b[32mtrain_loss: 0.0399\u001b[0m\n"
          ]
        },
        {
          "output_type": "stream",
          "name": "stderr",
          "text": [
            "eval_listwise: 100%|██████████| 227/227 [00:00<00:00, 663.23it/s]\n"
          ]
        },
        {
          "output_type": "stream",
          "name": "stdout",
          "text": [
            "\t eval ndcg@10: 0.0153\n",
            "\t eval precision@10: 0.0026\n",
            "==============================\n"
          ]
        },
        {
          "output_type": "stream",
          "name": "stderr",
          "text": [
            "train: 100%|██████████| 33/33 [00:00<00:00, 458.00it/s]\n"
          ]
        },
        {
          "output_type": "stream",
          "name": "stdout",
          "text": [
            "Epoch 332 elapsed: 0.082s\n",
            "\t \u001b[32mtrain_loss: 0.0466\u001b[0m\n"
          ]
        },
        {
          "output_type": "stream",
          "name": "stderr",
          "text": [
            "eval_listwise: 100%|██████████| 227/227 [00:00<00:00, 955.68it/s] \n"
          ]
        },
        {
          "output_type": "stream",
          "name": "stdout",
          "text": [
            "\t eval ndcg@10: 0.0155\n",
            "\t eval precision@10: 0.0026\n",
            "==============================\n"
          ]
        },
        {
          "output_type": "stream",
          "name": "stderr",
          "text": [
            "train: 100%|██████████| 33/33 [00:00<00:00, 502.69it/s]\n"
          ]
        },
        {
          "output_type": "stream",
          "name": "stdout",
          "text": [
            "Epoch 333 elapsed: 0.075s\n",
            "\t \u001b[32mtrain_loss: 0.0455\u001b[0m\n"
          ]
        },
        {
          "output_type": "stream",
          "name": "stderr",
          "text": [
            "eval_listwise: 100%|██████████| 227/227 [00:00<00:00, 932.12it/s]\n"
          ]
        },
        {
          "output_type": "stream",
          "name": "stdout",
          "text": [
            "\t eval ndcg@10: 0.0170\n",
            "\t eval precision@10: 0.0031\n",
            "==============================\n"
          ]
        },
        {
          "output_type": "stream",
          "name": "stderr",
          "text": [
            "train: 100%|██████████| 33/33 [00:00<00:00, 462.83it/s]\n"
          ]
        },
        {
          "output_type": "stream",
          "name": "stdout",
          "text": [
            "Epoch 334 elapsed: 0.081s\n",
            "\t \u001b[32mtrain_loss: 0.0437\u001b[0m\n"
          ]
        },
        {
          "output_type": "stream",
          "name": "stderr",
          "text": [
            "eval_listwise: 100%|██████████| 227/227 [00:00<00:00, 1273.71it/s]\n"
          ]
        },
        {
          "output_type": "stream",
          "name": "stdout",
          "text": [
            "\t eval ndcg@10: 0.0173\n",
            "\t eval precision@10: 0.0031\n",
            "==============================\n"
          ]
        },
        {
          "output_type": "stream",
          "name": "stderr",
          "text": [
            "train: 100%|██████████| 33/33 [00:00<00:00, 480.25it/s]\n"
          ]
        },
        {
          "output_type": "stream",
          "name": "stdout",
          "text": [
            "Epoch 335 elapsed: 0.075s\n",
            "\t \u001b[32mtrain_loss: 0.0389\u001b[0m\n"
          ]
        },
        {
          "output_type": "stream",
          "name": "stderr",
          "text": [
            "eval_listwise: 100%|██████████| 227/227 [00:00<00:00, 687.75it/s]\n"
          ]
        },
        {
          "output_type": "stream",
          "name": "stdout",
          "text": [
            "\t eval ndcg@10: 0.0158\n",
            "\t eval precision@10: 0.0026\n",
            "==============================\n"
          ]
        },
        {
          "output_type": "stream",
          "name": "stderr",
          "text": [
            "train: 100%|██████████| 33/33 [00:00<00:00, 310.20it/s]\n"
          ]
        },
        {
          "output_type": "stream",
          "name": "stdout",
          "text": [
            "Epoch 336 elapsed: 0.112s\n",
            "\t \u001b[32mtrain_loss: 0.0353\u001b[0m\n"
          ]
        },
        {
          "output_type": "stream",
          "name": "stderr",
          "text": [
            "eval_listwise: 100%|██████████| 227/227 [00:00<00:00, 1505.77it/s]\n"
          ]
        },
        {
          "output_type": "stream",
          "name": "stdout",
          "text": [
            "\t eval ndcg@10: 0.0192\n",
            "\t eval precision@10: 0.0035\n",
            "==============================\n"
          ]
        },
        {
          "output_type": "stream",
          "name": "stderr",
          "text": [
            "train: 100%|██████████| 33/33 [00:00<00:00, 425.63it/s]\n"
          ]
        },
        {
          "output_type": "stream",
          "name": "stdout",
          "text": [
            "Epoch 337 elapsed: 0.089s\n",
            "\t \u001b[32mtrain_loss: 0.042\u001b[0m\n"
          ]
        },
        {
          "output_type": "stream",
          "name": "stderr",
          "text": [
            "eval_listwise: 100%|██████████| 227/227 [00:00<00:00, 1613.40it/s]\n"
          ]
        },
        {
          "output_type": "stream",
          "name": "stdout",
          "text": [
            "\t eval ndcg@10: 0.0203\n",
            "\t eval precision@10: 0.0040\n",
            "==============================\n"
          ]
        },
        {
          "output_type": "stream",
          "name": "stderr",
          "text": [
            "train: 100%|██████████| 33/33 [00:00<00:00, 469.33it/s]\n"
          ]
        },
        {
          "output_type": "stream",
          "name": "stdout",
          "text": [
            "Epoch 338 elapsed: 0.077s\n",
            "\t \u001b[32mtrain_loss: 0.0322\u001b[0m\n"
          ]
        },
        {
          "output_type": "stream",
          "name": "stderr",
          "text": [
            "eval_listwise: 100%|██████████| 227/227 [00:00<00:00, 1444.34it/s]\n"
          ]
        },
        {
          "output_type": "stream",
          "name": "stdout",
          "text": [
            "\t eval ndcg@10: 0.0213\n",
            "\t eval precision@10: 0.0040\n",
            "==============================\n"
          ]
        },
        {
          "output_type": "stream",
          "name": "stderr",
          "text": [
            "train: 100%|██████████| 33/33 [00:00<00:00, 438.46it/s]\n"
          ]
        },
        {
          "output_type": "stream",
          "name": "stdout",
          "text": [
            "Epoch 339 elapsed: 0.082s\n",
            "\t \u001b[32mtrain_loss: 0.0388\u001b[0m\n"
          ]
        },
        {
          "output_type": "stream",
          "name": "stderr",
          "text": [
            "eval_listwise: 100%|██████████| 227/227 [00:00<00:00, 1585.67it/s]\n"
          ]
        },
        {
          "output_type": "stream",
          "name": "stdout",
          "text": [
            "\t eval ndcg@10: 0.0228\n",
            "\t eval precision@10: 0.0044\n",
            "==============================\n"
          ]
        },
        {
          "output_type": "stream",
          "name": "stderr",
          "text": [
            "train: 100%|██████████| 33/33 [00:00<00:00, 362.95it/s]\n"
          ]
        },
        {
          "output_type": "stream",
          "name": "stdout",
          "text": [
            "Epoch 340 elapsed: 0.101s\n",
            "\t \u001b[32mtrain_loss: 0.0449\u001b[0m\n"
          ]
        },
        {
          "output_type": "stream",
          "name": "stderr",
          "text": [
            "eval_listwise: 100%|██████████| 227/227 [00:00<00:00, 1727.70it/s]\n"
          ]
        },
        {
          "output_type": "stream",
          "name": "stdout",
          "text": [
            "\t eval ndcg@10: 0.0228\n",
            "\t eval precision@10: 0.0044\n",
            "==============================\n"
          ]
        },
        {
          "output_type": "stream",
          "name": "stderr",
          "text": [
            "train: 100%|██████████| 33/33 [00:00<00:00, 360.59it/s]\n"
          ]
        },
        {
          "output_type": "stream",
          "name": "stdout",
          "text": [
            "Epoch 341 elapsed: 0.098s\n",
            "\t \u001b[32mtrain_loss: 0.0451\u001b[0m\n"
          ]
        },
        {
          "output_type": "stream",
          "name": "stderr",
          "text": [
            "eval_listwise: 100%|██████████| 227/227 [00:00<00:00, 1569.66it/s]\n"
          ]
        },
        {
          "output_type": "stream",
          "name": "stdout",
          "text": [
            "\t eval ndcg@10: 0.0201\n",
            "\t eval precision@10: 0.0035\n",
            "==============================\n"
          ]
        },
        {
          "output_type": "stream",
          "name": "stderr",
          "text": [
            "train: 100%|██████████| 33/33 [00:00<00:00, 436.79it/s]\n"
          ]
        },
        {
          "output_type": "stream",
          "name": "stdout",
          "text": [
            "Epoch 342 elapsed: 0.082s\n",
            "\t \u001b[32mtrain_loss: 0.0433\u001b[0m\n"
          ]
        },
        {
          "output_type": "stream",
          "name": "stderr",
          "text": [
            "eval_listwise: 100%|██████████| 227/227 [00:00<00:00, 1562.74it/s]\n"
          ]
        },
        {
          "output_type": "stream",
          "name": "stdout",
          "text": [
            "\t eval ndcg@10: 0.0199\n",
            "\t eval precision@10: 0.0035\n",
            "==============================\n"
          ]
        },
        {
          "output_type": "stream",
          "name": "stderr",
          "text": [
            "train: 100%|██████████| 33/33 [00:00<00:00, 424.20it/s]\n"
          ]
        },
        {
          "output_type": "stream",
          "name": "stdout",
          "text": [
            "Epoch 343 elapsed: 0.084s\n",
            "\t \u001b[32mtrain_loss: 0.0419\u001b[0m\n"
          ]
        },
        {
          "output_type": "stream",
          "name": "stderr",
          "text": [
            "eval_listwise: 100%|██████████| 227/227 [00:00<00:00, 1759.26it/s]\n"
          ]
        },
        {
          "output_type": "stream",
          "name": "stdout",
          "text": [
            "\t eval ndcg@10: 0.0211\n",
            "\t eval precision@10: 0.0040\n",
            "==============================\n"
          ]
        },
        {
          "output_type": "stream",
          "name": "stderr",
          "text": [
            "train: 100%|██████████| 33/33 [00:00<00:00, 386.20it/s]\n"
          ]
        },
        {
          "output_type": "stream",
          "name": "stdout",
          "text": [
            "Epoch 344 elapsed: 0.102s\n",
            "\t \u001b[32mtrain_loss: 0.0401\u001b[0m\n"
          ]
        },
        {
          "output_type": "stream",
          "name": "stderr",
          "text": [
            "eval_listwise: 100%|██████████| 227/227 [00:00<00:00, 1529.11it/s]\n"
          ]
        },
        {
          "output_type": "stream",
          "name": "stdout",
          "text": [
            "\t eval ndcg@10: 0.0213\n",
            "\t eval precision@10: 0.0040\n",
            "==============================\n"
          ]
        },
        {
          "output_type": "stream",
          "name": "stderr",
          "text": [
            "train: 100%|██████████| 33/33 [00:00<00:00, 439.39it/s]\n"
          ]
        },
        {
          "output_type": "stream",
          "name": "stdout",
          "text": [
            "Epoch 345 elapsed: 0.084s\n",
            "\t \u001b[32mtrain_loss: 0.0469\u001b[0m\n"
          ]
        },
        {
          "output_type": "stream",
          "name": "stderr",
          "text": [
            "eval_listwise: 100%|██████████| 227/227 [00:00<00:00, 1819.56it/s]\n"
          ]
        },
        {
          "output_type": "stream",
          "name": "stdout",
          "text": [
            "\t eval ndcg@10: 0.0223\n",
            "\t eval precision@10: 0.0044\n",
            "==============================\n"
          ]
        },
        {
          "output_type": "stream",
          "name": "stderr",
          "text": [
            "train: 100%|██████████| 33/33 [00:00<00:00, 346.77it/s]\n"
          ]
        },
        {
          "output_type": "stream",
          "name": "stdout",
          "text": [
            "Epoch 346 elapsed: 0.102s\n",
            "\t \u001b[32mtrain_loss: 0.0378\u001b[0m\n"
          ]
        },
        {
          "output_type": "stream",
          "name": "stderr",
          "text": [
            "eval_listwise: 100%|██████████| 227/227 [00:00<00:00, 1391.81it/s]\n"
          ]
        },
        {
          "output_type": "stream",
          "name": "stdout",
          "text": [
            "\t eval ndcg@10: 0.0207\n",
            "\t eval precision@10: 0.0040\n",
            "==============================\n"
          ]
        },
        {
          "output_type": "stream",
          "name": "stderr",
          "text": [
            "train: 100%|██████████| 33/33 [00:00<00:00, 421.12it/s]\n"
          ]
        },
        {
          "output_type": "stream",
          "name": "stdout",
          "text": [
            "Epoch 347 elapsed: 0.086s\n",
            "\t \u001b[32mtrain_loss: 0.0423\u001b[0m\n"
          ]
        },
        {
          "output_type": "stream",
          "name": "stderr",
          "text": [
            "eval_listwise: 100%|██████████| 227/227 [00:00<00:00, 1463.25it/s]\n"
          ]
        },
        {
          "output_type": "stream",
          "name": "stdout",
          "text": [
            "\t eval ndcg@10: 0.0222\n",
            "\t eval precision@10: 0.0040\n",
            "==============================\n"
          ]
        },
        {
          "output_type": "stream",
          "name": "stderr",
          "text": [
            "train: 100%|██████████| 33/33 [00:00<00:00, 305.23it/s]\n"
          ]
        },
        {
          "output_type": "stream",
          "name": "stdout",
          "text": [
            "Epoch 348 elapsed: 0.117s\n",
            "\t \u001b[32mtrain_loss: 0.0422\u001b[0m\n"
          ]
        },
        {
          "output_type": "stream",
          "name": "stderr",
          "text": [
            "eval_listwise: 100%|██████████| 227/227 [00:00<00:00, 1639.78it/s]\n"
          ]
        },
        {
          "output_type": "stream",
          "name": "stdout",
          "text": [
            "\t eval ndcg@10: 0.0208\n",
            "\t eval precision@10: 0.0040\n",
            "==============================\n"
          ]
        },
        {
          "output_type": "stream",
          "name": "stderr",
          "text": [
            "train: 100%|██████████| 33/33 [00:00<00:00, 371.47it/s]\n"
          ]
        },
        {
          "output_type": "stream",
          "name": "stdout",
          "text": [
            "Epoch 349 elapsed: 0.095s\n",
            "\t \u001b[32mtrain_loss: 0.0338\u001b[0m\n"
          ]
        },
        {
          "output_type": "stream",
          "name": "stderr",
          "text": [
            "eval_listwise: 100%|██████████| 227/227 [00:00<00:00, 1482.96it/s]\n"
          ]
        },
        {
          "output_type": "stream",
          "name": "stdout",
          "text": [
            "\t eval ndcg@10: 0.0218\n",
            "\t eval precision@10: 0.0044\n",
            "==============================\n"
          ]
        },
        {
          "output_type": "stream",
          "name": "stderr",
          "text": [
            "train: 100%|██████████| 33/33 [00:00<00:00, 399.49it/s]\n"
          ]
        },
        {
          "output_type": "stream",
          "name": "stdout",
          "text": [
            "Epoch 350 elapsed: 0.089s\n",
            "\t \u001b[32mtrain_loss: 0.0404\u001b[0m\n"
          ]
        },
        {
          "output_type": "stream",
          "name": "stderr",
          "text": [
            "eval_listwise: 100%|██████████| 227/227 [00:00<00:00, 1447.20it/s]\n"
          ]
        },
        {
          "output_type": "stream",
          "name": "stdout",
          "text": [
            "\t eval ndcg@10: 0.0225\n",
            "\t eval precision@10: 0.0048\n",
            "==============================\n"
          ]
        },
        {
          "output_type": "stream",
          "name": "stderr",
          "text": [
            "train: 100%|██████████| 33/33 [00:00<00:00, 405.32it/s]\n"
          ]
        },
        {
          "output_type": "stream",
          "name": "stdout",
          "text": [
            "Epoch 351 elapsed: 0.101s\n",
            "\t \u001b[32mtrain_loss: 0.0363\u001b[0m\n"
          ]
        },
        {
          "output_type": "stream",
          "name": "stderr",
          "text": [
            "eval_listwise: 100%|██████████| 227/227 [00:00<00:00, 1623.94it/s]\n"
          ]
        },
        {
          "output_type": "stream",
          "name": "stdout",
          "text": [
            "\t eval ndcg@10: 0.0191\n",
            "\t eval precision@10: 0.0040\n",
            "==============================\n"
          ]
        },
        {
          "output_type": "stream",
          "name": "stderr",
          "text": [
            "train: 100%|██████████| 33/33 [00:00<00:00, 373.69it/s]\n"
          ]
        },
        {
          "output_type": "stream",
          "name": "stdout",
          "text": [
            "Epoch 352 elapsed: 0.096s\n",
            "\t \u001b[32mtrain_loss: 0.0434\u001b[0m\n"
          ]
        },
        {
          "output_type": "stream",
          "name": "stderr",
          "text": [
            "eval_listwise: 100%|██████████| 227/227 [00:00<00:00, 1552.78it/s]\n"
          ]
        },
        {
          "output_type": "stream",
          "name": "stdout",
          "text": [
            "\t eval ndcg@10: 0.0171\n",
            "\t eval precision@10: 0.0035\n",
            "==============================\n"
          ]
        },
        {
          "output_type": "stream",
          "name": "stderr",
          "text": [
            "train: 100%|██████████| 33/33 [00:00<00:00, 455.69it/s]\n"
          ]
        },
        {
          "output_type": "stream",
          "name": "stdout",
          "text": [
            "Epoch 353 elapsed: 0.090s\n",
            "\t \u001b[32mtrain_loss: 0.0384\u001b[0m\n"
          ]
        },
        {
          "output_type": "stream",
          "name": "stderr",
          "text": [
            "eval_listwise: 100%|██████████| 227/227 [00:00<00:00, 1555.14it/s]\n"
          ]
        },
        {
          "output_type": "stream",
          "name": "stdout",
          "text": [
            "\t eval ndcg@10: 0.0187\n",
            "\t eval precision@10: 0.0035\n",
            "==============================\n"
          ]
        },
        {
          "output_type": "stream",
          "name": "stderr",
          "text": [
            "train: 100%|██████████| 33/33 [00:00<00:00, 426.31it/s]\n"
          ]
        },
        {
          "output_type": "stream",
          "name": "stdout",
          "text": [
            "Epoch 354 elapsed: 0.094s\n",
            "\t \u001b[32mtrain_loss: 0.0413\u001b[0m\n"
          ]
        },
        {
          "output_type": "stream",
          "name": "stderr",
          "text": [
            "eval_listwise: 100%|██████████| 227/227 [00:00<00:00, 1694.90it/s]\n"
          ]
        },
        {
          "output_type": "stream",
          "name": "stdout",
          "text": [
            "\t eval ndcg@10: 0.0176\n",
            "\t eval precision@10: 0.0031\n",
            "==============================\n"
          ]
        },
        {
          "output_type": "stream",
          "name": "stderr",
          "text": [
            "train: 100%|██████████| 33/33 [00:00<00:00, 471.47it/s]\n"
          ]
        },
        {
          "output_type": "stream",
          "name": "stdout",
          "text": [
            "Epoch 355 elapsed: 0.076s\n",
            "\t \u001b[32mtrain_loss: 0.044\u001b[0m\n"
          ]
        },
        {
          "output_type": "stream",
          "name": "stderr",
          "text": [
            "eval_listwise: 100%|██████████| 227/227 [00:00<00:00, 1370.70it/s]\n"
          ]
        },
        {
          "output_type": "stream",
          "name": "stdout",
          "text": [
            "\t eval ndcg@10: 0.0206\n",
            "\t eval precision@10: 0.0035\n",
            "==============================\n"
          ]
        },
        {
          "output_type": "stream",
          "name": "stderr",
          "text": [
            "train: 100%|██████████| 33/33 [00:00<00:00, 341.83it/s]\n"
          ]
        },
        {
          "output_type": "stream",
          "name": "stdout",
          "text": [
            "Epoch 356 elapsed: 0.105s\n",
            "\t \u001b[32mtrain_loss: 0.0418\u001b[0m\n"
          ]
        },
        {
          "output_type": "stream",
          "name": "stderr",
          "text": [
            "eval_listwise: 100%|██████████| 227/227 [00:00<00:00, 1632.69it/s]\n"
          ]
        },
        {
          "output_type": "stream",
          "name": "stdout",
          "text": [
            "\t eval ndcg@10: 0.0180\n",
            "\t eval precision@10: 0.0026\n",
            "==============================\n"
          ]
        },
        {
          "output_type": "stream",
          "name": "stderr",
          "text": [
            "train: 100%|██████████| 33/33 [00:00<00:00, 416.02it/s]\n"
          ]
        },
        {
          "output_type": "stream",
          "name": "stdout",
          "text": [
            "Epoch 357 elapsed: 0.086s\n",
            "\t \u001b[32mtrain_loss: 0.042\u001b[0m\n"
          ]
        },
        {
          "output_type": "stream",
          "name": "stderr",
          "text": [
            "eval_listwise: 100%|██████████| 227/227 [00:00<00:00, 1471.44it/s]\n"
          ]
        },
        {
          "output_type": "stream",
          "name": "stdout",
          "text": [
            "\t eval ndcg@10: 0.0196\n",
            "\t eval precision@10: 0.0035\n",
            "==============================\n"
          ]
        },
        {
          "output_type": "stream",
          "name": "stderr",
          "text": [
            "train: 100%|██████████| 33/33 [00:00<00:00, 484.33it/s]\n"
          ]
        },
        {
          "output_type": "stream",
          "name": "stdout",
          "text": [
            "Epoch 358 elapsed: 0.076s\n",
            "\t \u001b[32mtrain_loss: 0.046\u001b[0m\n"
          ]
        },
        {
          "output_type": "stream",
          "name": "stderr",
          "text": [
            "eval_listwise: 100%|██████████| 227/227 [00:00<00:00, 1567.01it/s]\n"
          ]
        },
        {
          "output_type": "stream",
          "name": "stdout",
          "text": [
            "\t eval ndcg@10: 0.0215\n",
            "\t eval precision@10: 0.0035\n",
            "==============================\n"
          ]
        },
        {
          "output_type": "stream",
          "name": "stderr",
          "text": [
            "train: 100%|██████████| 33/33 [00:00<00:00, 380.57it/s]\n"
          ]
        },
        {
          "output_type": "stream",
          "name": "stdout",
          "text": [
            "Epoch 359 elapsed: 0.107s\n",
            "\t \u001b[32mtrain_loss: 0.0412\u001b[0m\n"
          ]
        },
        {
          "output_type": "stream",
          "name": "stderr",
          "text": [
            "eval_listwise: 100%|██████████| 227/227 [00:00<00:00, 1222.75it/s]\n"
          ]
        },
        {
          "output_type": "stream",
          "name": "stdout",
          "text": [
            "\t eval ndcg@10: 0.0216\n",
            "\t eval precision@10: 0.0035\n",
            "==============================\n"
          ]
        },
        {
          "output_type": "stream",
          "name": "stderr",
          "text": [
            "train: 100%|██████████| 33/33 [00:00<00:00, 475.21it/s]\n"
          ]
        },
        {
          "output_type": "stream",
          "name": "stdout",
          "text": [
            "Epoch 360 elapsed: 0.086s\n",
            "\t \u001b[32mtrain_loss: 0.0374\u001b[0m\n"
          ]
        },
        {
          "output_type": "stream",
          "name": "stderr",
          "text": [
            "eval_listwise: 100%|██████████| 227/227 [00:00<00:00, 1561.75it/s]\n"
          ]
        },
        {
          "output_type": "stream",
          "name": "stdout",
          "text": [
            "\t eval ndcg@10: 0.0198\n",
            "\t eval precision@10: 0.0031\n",
            "==============================\n"
          ]
        },
        {
          "output_type": "stream",
          "name": "stderr",
          "text": [
            "train: 100%|██████████| 33/33 [00:00<00:00, 528.08it/s]\n"
          ]
        },
        {
          "output_type": "stream",
          "name": "stdout",
          "text": [
            "Epoch 361 elapsed: 0.075s\n",
            "\t \u001b[32mtrain_loss: 0.0337\u001b[0m\n"
          ]
        },
        {
          "output_type": "stream",
          "name": "stderr",
          "text": [
            "eval_listwise: 100%|██████████| 227/227 [00:00<00:00, 1507.79it/s]\n"
          ]
        },
        {
          "output_type": "stream",
          "name": "stdout",
          "text": [
            "\t eval ndcg@10: 0.0225\n",
            "\t eval precision@10: 0.0040\n",
            "==============================\n"
          ]
        },
        {
          "output_type": "stream",
          "name": "stderr",
          "text": [
            "train: 100%|██████████| 33/33 [00:00<00:00, 508.34it/s]\n"
          ]
        },
        {
          "output_type": "stream",
          "name": "stdout",
          "text": [
            "Epoch 362 elapsed: 0.074s\n",
            "\t \u001b[32mtrain_loss: 0.0378\u001b[0m\n"
          ]
        },
        {
          "output_type": "stream",
          "name": "stderr",
          "text": [
            "eval_listwise: 100%|██████████| 227/227 [00:00<00:00, 1545.05it/s]\n"
          ]
        },
        {
          "output_type": "stream",
          "name": "stdout",
          "text": [
            "\t eval ndcg@10: 0.0213\n",
            "\t eval precision@10: 0.0035\n",
            "==============================\n"
          ]
        },
        {
          "output_type": "stream",
          "name": "stderr",
          "text": [
            "train: 100%|██████████| 33/33 [00:00<00:00, 312.80it/s]\n"
          ]
        },
        {
          "output_type": "stream",
          "name": "stdout",
          "text": [
            "Epoch 363 elapsed: 0.114s\n",
            "\t \u001b[32mtrain_loss: 0.0437\u001b[0m\n"
          ]
        },
        {
          "output_type": "stream",
          "name": "stderr",
          "text": [
            "eval_listwise: 100%|██████████| 227/227 [00:00<00:00, 1659.76it/s]\n"
          ]
        },
        {
          "output_type": "stream",
          "name": "stdout",
          "text": [
            "\t eval ndcg@10: 0.0213\n",
            "\t eval precision@10: 0.0035\n",
            "==============================\n"
          ]
        },
        {
          "output_type": "stream",
          "name": "stderr",
          "text": [
            "train: 100%|██████████| 33/33 [00:00<00:00, 386.09it/s]\n"
          ]
        },
        {
          "output_type": "stream",
          "name": "stdout",
          "text": [
            "Epoch 364 elapsed: 0.105s\n",
            "\t \u001b[32mtrain_loss: 0.0381\u001b[0m\n"
          ]
        },
        {
          "output_type": "stream",
          "name": "stderr",
          "text": [
            "eval_listwise: 100%|██████████| 227/227 [00:00<00:00, 1749.51it/s]\n"
          ]
        },
        {
          "output_type": "stream",
          "name": "stdout",
          "text": [
            "\t eval ndcg@10: 0.0218\n",
            "\t eval precision@10: 0.0035\n",
            "==============================\n"
          ]
        },
        {
          "output_type": "stream",
          "name": "stderr",
          "text": [
            "train: 100%|██████████| 33/33 [00:00<00:00, 434.31it/s]\n"
          ]
        },
        {
          "output_type": "stream",
          "name": "stdout",
          "text": [
            "Epoch 365 elapsed: 0.085s\n",
            "\t \u001b[32mtrain_loss: 0.0653\u001b[0m\n"
          ]
        },
        {
          "output_type": "stream",
          "name": "stderr",
          "text": [
            "eval_listwise: 100%|██████████| 227/227 [00:00<00:00, 1805.34it/s]\n"
          ]
        },
        {
          "output_type": "stream",
          "name": "stdout",
          "text": [
            "\t eval ndcg@10: 0.0207\n",
            "\t eval precision@10: 0.0035\n",
            "==============================\n"
          ]
        },
        {
          "output_type": "stream",
          "name": "stderr",
          "text": [
            "train: 100%|██████████| 33/33 [00:00<00:00, 409.49it/s]\n"
          ]
        },
        {
          "output_type": "stream",
          "name": "stdout",
          "text": [
            "Epoch 366 elapsed: 0.097s\n",
            "\t \u001b[32mtrain_loss: 0.0411\u001b[0m\n"
          ]
        },
        {
          "output_type": "stream",
          "name": "stderr",
          "text": [
            "eval_listwise: 100%|██████████| 227/227 [00:00<00:00, 1736.95it/s]\n"
          ]
        },
        {
          "output_type": "stream",
          "name": "stdout",
          "text": [
            "\t eval ndcg@10: 0.0204\n",
            "\t eval precision@10: 0.0035\n",
            "==============================\n"
          ]
        },
        {
          "output_type": "stream",
          "name": "stderr",
          "text": [
            "train: 100%|██████████| 33/33 [00:00<00:00, 476.36it/s]\n"
          ]
        },
        {
          "output_type": "stream",
          "name": "stdout",
          "text": [
            "Epoch 367 elapsed: 0.076s\n",
            "\t \u001b[32mtrain_loss: 0.0425\u001b[0m\n"
          ]
        },
        {
          "output_type": "stream",
          "name": "stderr",
          "text": [
            "eval_listwise: 100%|██████████| 227/227 [00:00<00:00, 1357.09it/s]\n"
          ]
        },
        {
          "output_type": "stream",
          "name": "stdout",
          "text": [
            "\t eval ndcg@10: 0.0201\n",
            "\t eval precision@10: 0.0040\n",
            "==============================\n"
          ]
        },
        {
          "output_type": "stream",
          "name": "stderr",
          "text": [
            "train: 100%|██████████| 33/33 [00:00<00:00, 398.56it/s]\n"
          ]
        },
        {
          "output_type": "stream",
          "name": "stdout",
          "text": [
            "Epoch 368 elapsed: 0.090s\n",
            "\t \u001b[32mtrain_loss: 0.0387\u001b[0m\n"
          ]
        },
        {
          "output_type": "stream",
          "name": "stderr",
          "text": [
            "eval_listwise: 100%|██████████| 227/227 [00:00<00:00, 1323.94it/s]\n"
          ]
        },
        {
          "output_type": "stream",
          "name": "stdout",
          "text": [
            "\t eval ndcg@10: 0.0205\n",
            "\t eval precision@10: 0.0040\n",
            "==============================\n"
          ]
        },
        {
          "output_type": "stream",
          "name": "stderr",
          "text": [
            "train: 100%|██████████| 33/33 [00:00<00:00, 305.87it/s]\n"
          ]
        },
        {
          "output_type": "stream",
          "name": "stdout",
          "text": [
            "Epoch 369 elapsed: 0.114s\n",
            "\t \u001b[32mtrain_loss: 0.042\u001b[0m\n"
          ]
        },
        {
          "output_type": "stream",
          "name": "stderr",
          "text": [
            "eval_listwise: 100%|██████████| 227/227 [00:00<00:00, 1356.87it/s]\n"
          ]
        },
        {
          "output_type": "stream",
          "name": "stdout",
          "text": [
            "\t eval ndcg@10: 0.0199\n",
            "\t eval precision@10: 0.0040\n",
            "==============================\n"
          ]
        },
        {
          "output_type": "stream",
          "name": "stderr",
          "text": [
            "train: 100%|██████████| 33/33 [00:00<00:00, 416.68it/s]\n"
          ]
        },
        {
          "output_type": "stream",
          "name": "stdout",
          "text": [
            "Epoch 370 elapsed: 0.090s\n",
            "\t \u001b[32mtrain_loss: 0.0385\u001b[0m\n"
          ]
        },
        {
          "output_type": "stream",
          "name": "stderr",
          "text": [
            "eval_listwise: 100%|██████████| 227/227 [00:00<00:00, 1926.91it/s]\n"
          ]
        },
        {
          "output_type": "stream",
          "name": "stdout",
          "text": [
            "\t eval ndcg@10: 0.0180\n",
            "\t eval precision@10: 0.0035\n",
            "==============================\n"
          ]
        },
        {
          "output_type": "stream",
          "name": "stderr",
          "text": [
            "train: 100%|██████████| 33/33 [00:00<00:00, 422.80it/s]\n"
          ]
        },
        {
          "output_type": "stream",
          "name": "stdout",
          "text": [
            "Epoch 371 elapsed: 0.087s\n",
            "\t \u001b[32mtrain_loss: 0.035\u001b[0m\n"
          ]
        },
        {
          "output_type": "stream",
          "name": "stderr",
          "text": [
            "eval_listwise: 100%|██████████| 227/227 [00:00<00:00, 1454.47it/s]\n"
          ]
        },
        {
          "output_type": "stream",
          "name": "stdout",
          "text": [
            "\t eval ndcg@10: 0.0180\n",
            "\t eval precision@10: 0.0035\n",
            "==============================\n"
          ]
        },
        {
          "output_type": "stream",
          "name": "stderr",
          "text": [
            "train: 100%|██████████| 33/33 [00:00<00:00, 439.65it/s]\n"
          ]
        },
        {
          "output_type": "stream",
          "name": "stdout",
          "text": [
            "Epoch 372 elapsed: 0.082s\n",
            "\t \u001b[32mtrain_loss: 0.0397\u001b[0m\n"
          ]
        },
        {
          "output_type": "stream",
          "name": "stderr",
          "text": [
            "eval_listwise: 100%|██████████| 227/227 [00:00<00:00, 1672.34it/s]\n"
          ]
        },
        {
          "output_type": "stream",
          "name": "stdout",
          "text": [
            "\t eval ndcg@10: 0.0195\n",
            "\t eval precision@10: 0.0040\n",
            "==============================\n"
          ]
        },
        {
          "output_type": "stream",
          "name": "stderr",
          "text": [
            "train: 100%|██████████| 33/33 [00:00<00:00, 444.67it/s]\n"
          ]
        },
        {
          "output_type": "stream",
          "name": "stdout",
          "text": [
            "Epoch 373 elapsed: 0.082s\n",
            "\t \u001b[32mtrain_loss: 0.0464\u001b[0m\n"
          ]
        },
        {
          "output_type": "stream",
          "name": "stderr",
          "text": [
            "eval_listwise: 100%|██████████| 227/227 [00:00<00:00, 1694.86it/s]\n"
          ]
        },
        {
          "output_type": "stream",
          "name": "stdout",
          "text": [
            "\t eval ndcg@10: 0.0212\n",
            "\t eval precision@10: 0.0040\n",
            "==============================\n"
          ]
        },
        {
          "output_type": "stream",
          "name": "stderr",
          "text": [
            "train: 100%|██████████| 33/33 [00:00<00:00, 525.13it/s]\n"
          ]
        },
        {
          "output_type": "stream",
          "name": "stdout",
          "text": [
            "Epoch 374 elapsed: 0.075s\n",
            "\t \u001b[32mtrain_loss: 0.0436\u001b[0m\n"
          ]
        },
        {
          "output_type": "stream",
          "name": "stderr",
          "text": [
            "eval_listwise: 100%|██████████| 227/227 [00:00<00:00, 1501.71it/s]\n"
          ]
        },
        {
          "output_type": "stream",
          "name": "stdout",
          "text": [
            "\t eval ndcg@10: 0.0254\n",
            "\t eval precision@10: 0.0044\n",
            "==============================\n"
          ]
        },
        {
          "output_type": "stream",
          "name": "stderr",
          "text": [
            "train: 100%|██████████| 33/33 [00:00<00:00, 534.70it/s]\n"
          ]
        },
        {
          "output_type": "stream",
          "name": "stdout",
          "text": [
            "Epoch 375 elapsed: 0.074s\n",
            "\t \u001b[32mtrain_loss: 0.0402\u001b[0m\n"
          ]
        },
        {
          "output_type": "stream",
          "name": "stderr",
          "text": [
            "eval_listwise: 100%|██████████| 227/227 [00:00<00:00, 1467.06it/s]\n"
          ]
        },
        {
          "output_type": "stream",
          "name": "stdout",
          "text": [
            "\t eval ndcg@10: 0.0201\n",
            "\t eval precision@10: 0.0040\n",
            "==============================\n"
          ]
        },
        {
          "output_type": "stream",
          "name": "stderr",
          "text": [
            "train: 100%|██████████| 33/33 [00:00<00:00, 487.37it/s]\n"
          ]
        },
        {
          "output_type": "stream",
          "name": "stdout",
          "text": [
            "Epoch 376 elapsed: 0.079s\n",
            "\t \u001b[32mtrain_loss: 0.0415\u001b[0m\n"
          ]
        },
        {
          "output_type": "stream",
          "name": "stderr",
          "text": [
            "eval_listwise: 100%|██████████| 227/227 [00:00<00:00, 1798.60it/s]\n"
          ]
        },
        {
          "output_type": "stream",
          "name": "stdout",
          "text": [
            "\t eval ndcg@10: 0.0196\n",
            "\t eval precision@10: 0.0035\n",
            "==============================\n"
          ]
        },
        {
          "output_type": "stream",
          "name": "stderr",
          "text": [
            "train: 100%|██████████| 33/33 [00:00<00:00, 509.89it/s]\n"
          ]
        },
        {
          "output_type": "stream",
          "name": "stdout",
          "text": [
            "Epoch 377 elapsed: 0.074s\n",
            "\t \u001b[32mtrain_loss: 0.0437\u001b[0m\n"
          ]
        },
        {
          "output_type": "stream",
          "name": "stderr",
          "text": [
            "eval_listwise: 100%|██████████| 227/227 [00:00<00:00, 1515.38it/s]\n"
          ]
        },
        {
          "output_type": "stream",
          "name": "stdout",
          "text": [
            "\t eval ndcg@10: 0.0199\n",
            "\t eval precision@10: 0.0040\n",
            "==============================\n"
          ]
        },
        {
          "output_type": "stream",
          "name": "stderr",
          "text": [
            "train: 100%|██████████| 33/33 [00:00<00:00, 435.49it/s]\n"
          ]
        },
        {
          "output_type": "stream",
          "name": "stdout",
          "text": [
            "Epoch 378 elapsed: 0.084s\n",
            "\t \u001b[32mtrain_loss: 0.0417\u001b[0m\n"
          ]
        },
        {
          "output_type": "stream",
          "name": "stderr",
          "text": [
            "eval_listwise: 100%|██████████| 227/227 [00:00<00:00, 1227.74it/s]\n"
          ]
        },
        {
          "output_type": "stream",
          "name": "stdout",
          "text": [
            "\t eval ndcg@10: 0.0216\n",
            "\t eval precision@10: 0.0044\n",
            "==============================\n"
          ]
        },
        {
          "output_type": "stream",
          "name": "stderr",
          "text": [
            "train: 100%|██████████| 33/33 [00:00<00:00, 393.49it/s]\n"
          ]
        },
        {
          "output_type": "stream",
          "name": "stdout",
          "text": [
            "Epoch 379 elapsed: 0.094s\n",
            "\t \u001b[32mtrain_loss: 0.0425\u001b[0m\n"
          ]
        },
        {
          "output_type": "stream",
          "name": "stderr",
          "text": [
            "eval_listwise: 100%|██████████| 227/227 [00:00<00:00, 1586.37it/s]\n"
          ]
        },
        {
          "output_type": "stream",
          "name": "stdout",
          "text": [
            "\t eval ndcg@10: 0.0164\n",
            "\t eval precision@10: 0.0031\n",
            "==============================\n"
          ]
        },
        {
          "output_type": "stream",
          "name": "stderr",
          "text": [
            "train: 100%|██████████| 33/33 [00:00<00:00, 470.33it/s]\n"
          ]
        },
        {
          "output_type": "stream",
          "name": "stdout",
          "text": [
            "Epoch 380 elapsed: 0.087s\n",
            "\t \u001b[32mtrain_loss: 0.0411\u001b[0m\n"
          ]
        },
        {
          "output_type": "stream",
          "name": "stderr",
          "text": [
            "eval_listwise: 100%|██████████| 227/227 [00:00<00:00, 1572.78it/s]\n"
          ]
        },
        {
          "output_type": "stream",
          "name": "stdout",
          "text": [
            "\t eval ndcg@10: 0.0181\n",
            "\t eval precision@10: 0.0035\n",
            "==============================\n"
          ]
        },
        {
          "output_type": "stream",
          "name": "stderr",
          "text": [
            "train: 100%|██████████| 33/33 [00:00<00:00, 399.10it/s]\n"
          ]
        },
        {
          "output_type": "stream",
          "name": "stdout",
          "text": [
            "Epoch 381 elapsed: 0.092s\n",
            "\t \u001b[32mtrain_loss: 0.0384\u001b[0m\n"
          ]
        },
        {
          "output_type": "stream",
          "name": "stderr",
          "text": [
            "eval_listwise: 100%|██████████| 227/227 [00:00<00:00, 862.75it/s]\n"
          ]
        },
        {
          "output_type": "stream",
          "name": "stdout",
          "text": [
            "\t eval ndcg@10: 0.0146\n",
            "\t eval precision@10: 0.0026\n",
            "==============================\n"
          ]
        },
        {
          "output_type": "stream",
          "name": "stderr",
          "text": [
            "train: 100%|██████████| 33/33 [00:00<00:00, 425.23it/s]\n"
          ]
        },
        {
          "output_type": "stream",
          "name": "stdout",
          "text": [
            "Epoch 382 elapsed: 0.088s\n",
            "\t \u001b[32mtrain_loss: 0.0369\u001b[0m\n"
          ]
        },
        {
          "output_type": "stream",
          "name": "stderr",
          "text": [
            "eval_listwise: 100%|██████████| 227/227 [00:00<00:00, 945.61it/s] \n"
          ]
        },
        {
          "output_type": "stream",
          "name": "stdout",
          "text": [
            "\t eval ndcg@10: 0.0151\n",
            "\t eval precision@10: 0.0031\n",
            "==============================\n"
          ]
        },
        {
          "output_type": "stream",
          "name": "stderr",
          "text": [
            "train: 100%|██████████| 33/33 [00:00<00:00, 439.63it/s]\n"
          ]
        },
        {
          "output_type": "stream",
          "name": "stdout",
          "text": [
            "Epoch 383 elapsed: 0.085s\n",
            "\t \u001b[32mtrain_loss: 0.0424\u001b[0m\n"
          ]
        },
        {
          "output_type": "stream",
          "name": "stderr",
          "text": [
            "eval_listwise: 100%|██████████| 227/227 [00:00<00:00, 1176.54it/s]\n"
          ]
        },
        {
          "output_type": "stream",
          "name": "stdout",
          "text": [
            "\t eval ndcg@10: 0.0127\n",
            "\t eval precision@10: 0.0026\n",
            "==============================\n"
          ]
        },
        {
          "output_type": "stream",
          "name": "stderr",
          "text": [
            "train: 100%|██████████| 33/33 [00:00<00:00, 363.24it/s]\n"
          ]
        },
        {
          "output_type": "stream",
          "name": "stdout",
          "text": [
            "Epoch 384 elapsed: 0.097s\n",
            "\t \u001b[32mtrain_loss: 0.0439\u001b[0m\n"
          ]
        },
        {
          "output_type": "stream",
          "name": "stderr",
          "text": [
            "eval_listwise: 100%|██████████| 227/227 [00:00<00:00, 1286.36it/s]\n"
          ]
        },
        {
          "output_type": "stream",
          "name": "stdout",
          "text": [
            "\t eval ndcg@10: 0.0162\n",
            "\t eval precision@10: 0.0035\n",
            "==============================\n"
          ]
        },
        {
          "output_type": "stream",
          "name": "stderr",
          "text": [
            "train: 100%|██████████| 33/33 [00:00<00:00, 438.20it/s]\n"
          ]
        },
        {
          "output_type": "stream",
          "name": "stdout",
          "text": [
            "Epoch 385 elapsed: 0.082s\n",
            "\t \u001b[32mtrain_loss: 0.0379\u001b[0m\n"
          ]
        },
        {
          "output_type": "stream",
          "name": "stderr",
          "text": [
            "eval_listwise: 100%|██████████| 227/227 [00:00<00:00, 859.14it/s]\n"
          ]
        },
        {
          "output_type": "stream",
          "name": "stdout",
          "text": [
            "\t eval ndcg@10: 0.0163\n",
            "\t eval precision@10: 0.0035\n",
            "==============================\n"
          ]
        },
        {
          "output_type": "stream",
          "name": "stderr",
          "text": [
            "train: 100%|██████████| 33/33 [00:00<00:00, 365.97it/s]\n"
          ]
        },
        {
          "output_type": "stream",
          "name": "stdout",
          "text": [
            "Epoch 386 elapsed: 0.098s\n",
            "\t \u001b[32mtrain_loss: 0.0522\u001b[0m\n"
          ]
        },
        {
          "output_type": "stream",
          "name": "stderr",
          "text": [
            "eval_listwise: 100%|██████████| 227/227 [00:00<00:00, 1586.73it/s]\n"
          ]
        },
        {
          "output_type": "stream",
          "name": "stdout",
          "text": [
            "\t eval ndcg@10: 0.0203\n",
            "\t eval precision@10: 0.0040\n",
            "==============================\n"
          ]
        },
        {
          "output_type": "stream",
          "name": "stderr",
          "text": [
            "train: 100%|██████████| 33/33 [00:00<00:00, 309.41it/s]\n"
          ]
        },
        {
          "output_type": "stream",
          "name": "stdout",
          "text": [
            "Epoch 387 elapsed: 0.114s\n",
            "\t \u001b[32mtrain_loss: 0.0418\u001b[0m\n"
          ]
        },
        {
          "output_type": "stream",
          "name": "stderr",
          "text": [
            "eval_listwise: 100%|██████████| 227/227 [00:00<00:00, 2452.13it/s]\n"
          ]
        },
        {
          "output_type": "stream",
          "name": "stdout",
          "text": [
            "\t eval ndcg@10: 0.0217\n",
            "\t eval precision@10: 0.0044\n",
            "==============================\n"
          ]
        },
        {
          "output_type": "stream",
          "name": "stderr",
          "text": [
            "train: 100%|██████████| 33/33 [00:00<00:00, 302.19it/s]\n"
          ]
        },
        {
          "output_type": "stream",
          "name": "stdout",
          "text": [
            "Epoch 388 elapsed: 0.115s\n",
            "\t \u001b[32mtrain_loss: 0.0398\u001b[0m\n"
          ]
        },
        {
          "output_type": "stream",
          "name": "stderr",
          "text": [
            "eval_listwise: 100%|██████████| 227/227 [00:00<00:00, 1425.21it/s]\n"
          ]
        },
        {
          "output_type": "stream",
          "name": "stdout",
          "text": [
            "\t eval ndcg@10: 0.0209\n",
            "\t eval precision@10: 0.0040\n",
            "==============================\n"
          ]
        },
        {
          "output_type": "stream",
          "name": "stderr",
          "text": [
            "train: 100%|██████████| 33/33 [00:00<00:00, 393.17it/s]\n"
          ]
        },
        {
          "output_type": "stream",
          "name": "stdout",
          "text": [
            "Epoch 389 elapsed: 0.090s\n",
            "\t \u001b[32mtrain_loss: 0.0415\u001b[0m\n"
          ]
        },
        {
          "output_type": "stream",
          "name": "stderr",
          "text": [
            "eval_listwise: 100%|██████████| 227/227 [00:00<00:00, 916.21it/s]\n"
          ]
        },
        {
          "output_type": "stream",
          "name": "stdout",
          "text": [
            "\t eval ndcg@10: 0.0199\n",
            "\t eval precision@10: 0.0040\n",
            "==============================\n"
          ]
        },
        {
          "output_type": "stream",
          "name": "stderr",
          "text": [
            "train: 100%|██████████| 33/33 [00:00<00:00, 430.54it/s]\n"
          ]
        },
        {
          "output_type": "stream",
          "name": "stdout",
          "text": [
            "Epoch 390 elapsed: 0.086s\n",
            "\t \u001b[32mtrain_loss: 0.0386\u001b[0m\n"
          ]
        },
        {
          "output_type": "stream",
          "name": "stderr",
          "text": [
            "eval_listwise: 100%|██████████| 227/227 [00:00<00:00, 955.46it/s] \n"
          ]
        },
        {
          "output_type": "stream",
          "name": "stdout",
          "text": [
            "\t eval ndcg@10: 0.0199\n",
            "\t eval precision@10: 0.0040\n",
            "==============================\n"
          ]
        },
        {
          "output_type": "stream",
          "name": "stderr",
          "text": [
            "train: 100%|██████████| 33/33 [00:00<00:00, 530.08it/s]\n"
          ]
        },
        {
          "output_type": "stream",
          "name": "stdout",
          "text": [
            "Epoch 391 elapsed: 0.067s\n",
            "\t \u001b[32mtrain_loss: 0.042\u001b[0m\n"
          ]
        },
        {
          "output_type": "stream",
          "name": "stderr",
          "text": [
            "eval_listwise: 100%|██████████| 227/227 [00:00<00:00, 1424.95it/s]\n"
          ]
        },
        {
          "output_type": "stream",
          "name": "stdout",
          "text": [
            "\t eval ndcg@10: 0.0203\n",
            "\t eval precision@10: 0.0040\n",
            "==============================\n"
          ]
        },
        {
          "output_type": "stream",
          "name": "stderr",
          "text": [
            "train: 100%|██████████| 33/33 [00:00<00:00, 549.89it/s]\n"
          ]
        },
        {
          "output_type": "stream",
          "name": "stdout",
          "text": [
            "Epoch 392 elapsed: 0.070s\n",
            "\t \u001b[32mtrain_loss: 0.0376\u001b[0m\n"
          ]
        },
        {
          "output_type": "stream",
          "name": "stderr",
          "text": [
            "eval_listwise: 100%|██████████| 227/227 [00:00<00:00, 899.33it/s]\n"
          ]
        },
        {
          "output_type": "stream",
          "name": "stdout",
          "text": [
            "\t eval ndcg@10: 0.0194\n",
            "\t eval precision@10: 0.0044\n",
            "==============================\n"
          ]
        },
        {
          "output_type": "stream",
          "name": "stderr",
          "text": [
            "train: 100%|██████████| 33/33 [00:00<00:00, 556.66it/s]\n"
          ]
        },
        {
          "output_type": "stream",
          "name": "stdout",
          "text": [
            "Epoch 393 elapsed: 0.068s\n",
            "\t \u001b[32mtrain_loss: 0.0389\u001b[0m\n"
          ]
        },
        {
          "output_type": "stream",
          "name": "stderr",
          "text": [
            "eval_listwise: 100%|██████████| 227/227 [00:00<00:00, 1489.13it/s]\n"
          ]
        },
        {
          "output_type": "stream",
          "name": "stdout",
          "text": [
            "\t eval ndcg@10: 0.0191\n",
            "\t eval precision@10: 0.0044\n",
            "==============================\n"
          ]
        },
        {
          "output_type": "stream",
          "name": "stderr",
          "text": [
            "train: 100%|██████████| 33/33 [00:00<00:00, 422.92it/s]\n"
          ]
        },
        {
          "output_type": "stream",
          "name": "stdout",
          "text": [
            "Epoch 394 elapsed: 0.087s\n",
            "\t \u001b[32mtrain_loss: 0.0429\u001b[0m\n"
          ]
        },
        {
          "output_type": "stream",
          "name": "stderr",
          "text": [
            "eval_listwise: 100%|██████████| 227/227 [00:00<00:00, 815.61it/s]\n"
          ]
        },
        {
          "output_type": "stream",
          "name": "stdout",
          "text": [
            "\t eval ndcg@10: 0.0189\n",
            "\t eval precision@10: 0.0044\n",
            "==============================\n"
          ]
        },
        {
          "output_type": "stream",
          "name": "stderr",
          "text": [
            "train: 100%|██████████| 33/33 [00:00<00:00, 309.53it/s]\n"
          ]
        },
        {
          "output_type": "stream",
          "name": "stdout",
          "text": [
            "Epoch 395 elapsed: 0.112s\n",
            "\t \u001b[32mtrain_loss: 0.0369\u001b[0m\n"
          ]
        },
        {
          "output_type": "stream",
          "name": "stderr",
          "text": [
            "eval_listwise: 100%|██████████| 227/227 [00:00<00:00, 957.85it/s] \n"
          ]
        },
        {
          "output_type": "stream",
          "name": "stdout",
          "text": [
            "\t eval ndcg@10: 0.0177\n",
            "\t eval precision@10: 0.0040\n",
            "==============================\n"
          ]
        },
        {
          "output_type": "stream",
          "name": "stderr",
          "text": [
            "train: 100%|██████████| 33/33 [00:00<00:00, 408.42it/s]\n"
          ]
        },
        {
          "output_type": "stream",
          "name": "stdout",
          "text": [
            "Epoch 396 elapsed: 0.092s\n",
            "\t \u001b[32mtrain_loss: 0.0403\u001b[0m\n"
          ]
        },
        {
          "output_type": "stream",
          "name": "stderr",
          "text": [
            "eval_listwise: 100%|██████████| 227/227 [00:00<00:00, 1465.95it/s]\n"
          ]
        },
        {
          "output_type": "stream",
          "name": "stdout",
          "text": [
            "\t eval ndcg@10: 0.0169\n",
            "\t eval precision@10: 0.0040\n",
            "==============================\n"
          ]
        },
        {
          "output_type": "stream",
          "name": "stderr",
          "text": [
            "train: 100%|██████████| 33/33 [00:00<00:00, 315.09it/s]\n"
          ]
        },
        {
          "output_type": "stream",
          "name": "stdout",
          "text": [
            "Epoch 397 elapsed: 0.111s\n",
            "\t \u001b[32mtrain_loss: 0.0429\u001b[0m\n"
          ]
        },
        {
          "output_type": "stream",
          "name": "stderr",
          "text": [
            "eval_listwise: 100%|██████████| 227/227 [00:00<00:00, 1447.00it/s]\n"
          ]
        },
        {
          "output_type": "stream",
          "name": "stdout",
          "text": [
            "\t eval ndcg@10: 0.0177\n",
            "\t eval precision@10: 0.0035\n",
            "==============================\n"
          ]
        },
        {
          "output_type": "stream",
          "name": "stderr",
          "text": [
            "train: 100%|██████████| 33/33 [00:00<00:00, 532.82it/s]\n"
          ]
        },
        {
          "output_type": "stream",
          "name": "stdout",
          "text": [
            "Epoch 398 elapsed: 0.068s\n",
            "\t \u001b[32mtrain_loss: 0.0376\u001b[0m\n"
          ]
        },
        {
          "output_type": "stream",
          "name": "stderr",
          "text": [
            "eval_listwise: 100%|██████████| 227/227 [00:00<00:00, 1642.01it/s]\n"
          ]
        },
        {
          "output_type": "stream",
          "name": "stdout",
          "text": [
            "\t eval ndcg@10: 0.0164\n",
            "\t eval precision@10: 0.0035\n",
            "==============================\n"
          ]
        },
        {
          "output_type": "stream",
          "name": "stderr",
          "text": [
            "train: 100%|██████████| 33/33 [00:00<00:00, 467.24it/s]\n"
          ]
        },
        {
          "output_type": "stream",
          "name": "stdout",
          "text": [
            "Epoch 399 elapsed: 0.076s\n",
            "\t \u001b[32mtrain_loss: 0.0394\u001b[0m\n"
          ]
        },
        {
          "output_type": "stream",
          "name": "stderr",
          "text": [
            "eval_listwise: 100%|██████████| 227/227 [00:00<00:00, 1542.25it/s]\n"
          ]
        },
        {
          "output_type": "stream",
          "name": "stdout",
          "text": [
            "\t eval ndcg@10: 0.0136\n",
            "\t eval precision@10: 0.0031\n",
            "==============================\n"
          ]
        },
        {
          "output_type": "stream",
          "name": "stderr",
          "text": [
            "train: 100%|██████████| 33/33 [00:00<00:00, 467.54it/s]\n"
          ]
        },
        {
          "output_type": "stream",
          "name": "stdout",
          "text": [
            "Epoch 400 elapsed: 0.082s\n",
            "\t \u001b[32mtrain_loss: 0.0408\u001b[0m\n"
          ]
        },
        {
          "output_type": "stream",
          "name": "stderr",
          "text": [
            "eval_listwise: 100%|██████████| 227/227 [00:00<00:00, 1510.64it/s]"
          ]
        },
        {
          "output_type": "stream",
          "name": "stdout",
          "text": [
            "\t eval ndcg@10: 0.0155\n",
            "\t eval precision@10: 0.0040\n",
            "==============================\n"
          ]
        },
        {
          "output_type": "stream",
          "name": "stderr",
          "text": [
            "\n"
          ]
        }
      ],
      "source": [
        "# train BPR model\n",
        "#from tensorflow.compat.v1 import reset_default_graph\n",
        "#reset_default_graph()\n",
        "\n",
        "bpr.fit(\n",
        "    train_data,\n",
        "    neg_sampling=True,\n",
        "    verbose=2,\n",
        "    shuffle=True,\n",
        "    eval_data=test_data,\n",
        "    metrics=[\"ndcg\", \"precision\"]\n",
        ")"
      ]
    },
    {
      "cell_type": "code",
      "execution_count": 13,
      "metadata": {
        "id": "ROd_jXCRlioL",
        "outputId": "56fc08f3-2209-4276-ca15-6217715d6159",
        "colab": {
          "base_uri": "https://localhost:8080/"
        }
      },
      "outputs": [
        {
          "output_type": "stream",
          "name": "stderr",
          "text": [
            "eval_listwise: 100%|██████████| 227/227 [00:00<00:00, 1019.58it/s]"
          ]
        },
        {
          "output_type": "stream",
          "name": "stdout",
          "text": [
            "Evaluation Results (BPR):\n",
            "{'ndcg': 0.015458543071106596, 'precision': 0.003964757709251102, 'recall': 0.021125350420504604}\n"
          ]
        },
        {
          "output_type": "stream",
          "name": "stderr",
          "text": [
            "\n"
          ]
        }
      ],
      "source": [
        "# evaluate the BPR model\n",
        "bpr_eval_result = evaluate(bpr, test_data, neg_sampling=True, metrics=[\"ndcg\", \"precision\", \"recall\"])\n",
        "print(f\"Evaluation Results (BPR):\\n{bpr_eval_result}\")"
      ]
    },
    {
      "cell_type": "code",
      "execution_count": null,
      "metadata": {
        "id": "3x_sGoVzlioO"
      },
      "outputs": [],
      "source": []
    }
  ],
  "metadata": {
    "kernelspec": {
      "display_name": "Python 3",
      "name": "python3"
    },
    "language_info": {
      "codemirror_mode": {
        "name": "ipython",
        "version": 3
      },
      "file_extension": ".py",
      "mimetype": "text/x-python",
      "name": "python",
      "nbconvert_exporter": "python",
      "pygments_lexer": "ipython3",
      "version": "3.9.16"
    },
    "colab": {
      "provenance": [],
      "machine_shape": "hm",
      "gpuType": "A100"
    },
    "accelerator": "GPU"
  },
  "nbformat": 4,
  "nbformat_minor": 0
}