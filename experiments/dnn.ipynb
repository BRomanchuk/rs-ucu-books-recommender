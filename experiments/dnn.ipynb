{
 "cells": [
  {
   "cell_type": "code",
   "execution_count": 1,
   "metadata": {},
   "outputs": [],
   "source": [
    "import numpy as np\n",
    "import pandas as pd\n",
    "import torch\n",
    "from sklearn.preprocessing import LabelEncoder\n",
    "from sklearn.model_selection import train_test_split\n",
    "from sklearn.preprocessing import StandardScaler\n",
    "\n",
    "import sys\n",
    "sys.path.append('..')\n",
    "from src.recommenders.dnn_recommender import DNNRecommender\n",
    "from src.utils.data_preprocessing import preprocess2\n",
    "\n",
    "books = pd.read_csv('../data/Books.csv', delimiter=';', dtype={'ISBN': str, 'Title': str, 'Author': str, 'Year': np.int16, 'Publisher': str})\n",
    "users = pd.read_csv('../data/Users.csv', delimiter=';', low_memory=False)\n",
    "ratings = pd.read_csv('../data/Ratings.csv', delimiter=';', dtype={'User-ID': np.int32, 'ISBN': str, 'Rating': np.int8})\n",
    "\n",
    "books, users, ratings = preprocess2(items=books, users=users, ratings=ratings)\n",
    "\n",
    "recommender = DNNRecommender()\n",
    "data, ratings = recommender.preprocess(items=books, users=users, ratings=ratings)\n",
    "\n",
    "features_to_normalize = ['Age', 'Year'] \n",
    "scaler = StandardScaler()\n",
    "data[features_to_normalize] = scaler.fit_transform(data[features_to_normalize])\n",
    "\n",
    "train_data, test_data, train_ratings, test_ratings = train_test_split(\n",
    "    data,\n",
    "    ratings,\n",
    "    test_size=0.2,\n",
    "    random_state=42\n",
    ")\n",
    "train_users = train_data.values[:, :2]\n",
    "train_items = train_data.values[:, 2:]\n",
    "\n",
    "test_users = test_data.values[:, :2]\n",
    "test_items = test_data.values[:, 2:]"
   ]
  },
  {
   "cell_type": "code",
   "execution_count": 2,
   "metadata": {},
   "outputs": [
    {
     "name": "stdout",
     "output_type": "stream",
     "text": [
      "Epoch 1/20, Loss: 62464.55859375\n",
      "Epoch 2/20, Loss: 8650783.0\n",
      "Epoch 3/20, Loss: 697115.375\n",
      "Epoch 4/20, Loss: 925614.875\n",
      "Epoch 5/20, Loss: 1439362.375\n",
      "Epoch 6/20, Loss: 757093.125\n",
      "Epoch 7/20, Loss: 678043.4375\n",
      "Epoch 8/20, Loss: 586239.25\n",
      "Epoch 9/20, Loss: 490250.6875\n",
      "Epoch 10/20, Loss: 395429.59375\n",
      "Epoch 11/20, Loss: 307166.125\n",
      "Epoch 12/20, Loss: 298733.0625\n",
      "Epoch 13/20, Loss: 290178.53125\n",
      "Epoch 14/20, Loss: 281548.5\n",
      "Epoch 15/20, Loss: 272881.1875\n",
      "Epoch 16/20, Loss: 264210.46875\n",
      "Epoch 17/20, Loss: 263338.71875\n",
      "Epoch 18/20, Loss: 262456.03125\n",
      "Epoch 19/20, Loss: 261563.09375\n",
      "Epoch 20/20, Loss: 260660.625\n"
     ]
    }
   ],
   "source": [
    "recommender.fit(items=train_items, users=train_users, ratings=train_ratings.values)"
   ]
  },
  {
   "cell_type": "code",
   "execution_count": 3,
   "metadata": {},
   "outputs": [
    {
     "name": "stdout",
     "output_type": "stream",
     "text": [
      "Test Loss: 259574.609375\n",
      "Average Precision: 0.0034363360933488047\n"
     ]
    }
   ],
   "source": [
    "recommender.eval(users=test_users, items=test_items, ratings=test_ratings.values)"
   ]
  },
  {
   "cell_type": "code",
   "execution_count": 4,
   "metadata": {},
   "outputs": [
    {
     "name": "stdout",
     "output_type": "stream",
     "text": [
      "Precision at 10: 0.0\n"
     ]
    }
   ],
   "source": [
    "import numpy as np\n",
    "from sklearn.metrics import precision_score\n",
    "\n",
    "def precision_at_k(y_true, y_pred, k=10):\n",
    "    assert len(y_true) == len(y_pred)\n",
    "    precision_scores = []\n",
    "    \n",
    "    for true, pred in zip(y_true, y_pred):\n",
    "        top_k_pred = np.argsort(pred)[-k:]  # Get top k predictions\n",
    "        true_set = set(true)  # Set of true items\n",
    "        pred_set = set(top_k_pred)  # Set of predicted items\n",
    "        \n",
    "        # Calculate precision for the current user/item\n",
    "        precision_scores.append(len(true_set & pred_set) / float(k))\n",
    "    \n",
    "    return np.mean(precision_scores)\n",
    "\n",
    "# Assuming you have true_ratings and predictions as numpy arrays\n",
    "true_ratings = test_ratings.values.reshape(-1, 1)\n",
    "predictions = recommender.predict(test_users, test_items)\n",
    "predictions = predictions.reshape(-1, 1)\n",
    "\n",
    "# Calculate precision at k\n",
    "precision_k = precision_at_k(true_ratings, predictions, k=10)\n",
    "print(f'Precision at 10: {precision_k}')\n"
   ]
  }
 ],
 "metadata": {
  "kernelspec": {
   "display_name": "recsys",
   "language": "python",
   "name": "python3"
  },
  "language_info": {
   "codemirror_mode": {
    "name": "ipython",
    "version": 3
   },
   "file_extension": ".py",
   "mimetype": "text/x-python",
   "name": "python",
   "nbconvert_exporter": "python",
   "pygments_lexer": "ipython3",
   "version": "3.12.3"
  }
 },
 "nbformat": 4,
 "nbformat_minor": 2
}
