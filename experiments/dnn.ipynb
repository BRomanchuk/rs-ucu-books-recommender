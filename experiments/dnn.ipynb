{
 "cells": [
  {
   "cell_type": "code",
   "execution_count": 2,
   "metadata": {},
   "outputs": [],
   "source": [
    "import numpy as np\n",
    "import pandas as pd\n",
    "import torch\n",
    "from sklearn.preprocessing import LabelEncoder\n",
    "from sklearn.model_selection import train_test_split\n",
    "\n",
    "import sys\n",
    "sys.path.append('..')\n",
    "from src.recommenders.dnn_recommender import DNNRecommender\n",
    "from src.utils.data_preprocessing import preprocess2\n",
    "\n",
    "books = pd.read_csv('../data/Books.csv', delimiter=';', dtype={'ISBN': str, 'Title': str, 'Author': str, 'Year': np.int16, 'Publisher': str})\n",
    "users = pd.read_csv('../data/Users.csv', delimiter=';', low_memory=False)\n",
    "ratings = pd.read_csv('../data/Ratings.csv', delimiter=';', dtype={'User-ID': np.int32, 'ISBN': str, 'Rating': np.int8})\n",
    "\n",
    "books, users, ratings = preprocess2(items=books, users=users, ratings=ratings)\n",
    "\n",
    "recommender = DNNRecommender()\n",
    "ratings, users, books = recommender.preprocess(items=books, users=users, ratings=ratings)\n",
    "\n",
    "train_users, test_users, train_books, test_books, train_ratings, test_ratings = train_test_split(\n",
    "    users,\n",
    "    books,\n",
    "    ratings,\n",
    "    test_size=0.2,\n",
    "    random_state=42\n",
    ")"
   ]
  },
  {
   "cell_type": "code",
   "execution_count": 3,
   "metadata": {},
   "outputs": [
    {
     "name": "stdout",
     "output_type": "stream",
     "text": [
      "Epoch 1/20, Loss: 175341.90625\n",
      "Epoch 2/20, Loss: 262449.75\n",
      "Epoch 3/20, Loss: 108761.2734375\n",
      "Epoch 4/20, Loss: 597.42333984375\n",
      "Epoch 5/20, Loss: 53503.09375\n",
      "Epoch 6/20, Loss: 85022.4921875\n",
      "Epoch 7/20, Loss: 45035.94921875\n",
      "Epoch 8/20, Loss: 4830.6796875\n",
      "Epoch 9/20, Loss: 7198.11328125\n",
      "Epoch 10/20, Loss: 32704.525390625\n",
      "Epoch 11/20, Loss: 38985.71875\n",
      "Epoch 12/20, Loss: 21530.03515625\n",
      "Epoch 13/20, Loss: 3296.792236328125\n",
      "Epoch 14/20, Loss: 1912.6373291015625\n",
      "Epoch 15/20, Loss: 12937.0439453125\n",
      "Epoch 16/20, Loss: 19540.177734375\n",
      "Epoch 17/20, Loss: 15240.6064453125\n",
      "Epoch 18/20, Loss: 5877.26708984375\n",
      "Epoch 19/20, Loss: 314.8359069824219\n",
      "Epoch 20/20, Loss: 2385.318603515625\n"
     ]
    }
   ],
   "source": [
    "recommender.fit(items=train_books.values, users=train_users.values, ratings=train_ratings.values)"
   ]
  },
  {
   "cell_type": "code",
   "execution_count": 4,
   "metadata": {},
   "outputs": [
    {
     "name": "stdout",
     "output_type": "stream",
     "text": [
      "Test Loss: 7925.26611328125\n"
     ]
    }
   ],
   "source": [
    "recommender.eval(users=test_users.values, items=test_books.values, ratings=test_ratings.values)"
   ]
  }
 ],
 "metadata": {
  "kernelspec": {
   "display_name": "recsys",
   "language": "python",
   "name": "python3"
  },
  "language_info": {
   "codemirror_mode": {
    "name": "ipython",
    "version": 3
   },
   "file_extension": ".py",
   "mimetype": "text/x-python",
   "name": "python",
   "nbconvert_exporter": "python",
   "pygments_lexer": "ipython3",
   "version": "3.12.3"
  }
 },
 "nbformat": 4,
 "nbformat_minor": 2
}
