{
 "cells": [
  {
   "cell_type": "code",
   "execution_count": 1,
   "metadata": {},
   "outputs": [],
   "source": [
    "import numpy as np\n",
    "import pandas as pd\n",
    "import torch\n",
    "from sklearn.preprocessing import LabelEncoder\n",
    "from sklearn.model_selection import train_test_split\n",
    "from sklearn.preprocessing import StandardScaler\n",
    "\n",
    "import sys\n",
    "sys.path.append('..')\n",
    "from src.recommenders.dnn_recommender import DNNRecommender\n",
    "from src.utils.data_preprocessing import preprocess2\n",
    "\n",
    "books = pd.read_csv('../data/Books.csv', delimiter=';', dtype={'ISBN': str, 'Title': str, 'Author': str, 'Year': np.int16, 'Publisher': str})\n",
    "users = pd.read_csv('../data/Users.csv', delimiter=';', low_memory=False)\n",
    "ratings = pd.read_csv('../data/Ratings.csv', delimiter=';', dtype={'User-ID': np.int32, 'ISBN': str, 'Rating': np.int8})\n",
    "\n",
    "books, users, ratings = preprocess2(items=books, users=users, ratings=ratings)\n",
    "\n",
    "recommender = DNNRecommender()\n",
    "data, ratings = recommender.preprocess(items=books, users=users, ratings=ratings)\n",
    "\n",
    "features_to_normalize = ['Age', 'Year'] \n",
    "scaler = StandardScaler()\n",
    "data[features_to_normalize] = scaler.fit_transform(data[features_to_normalize])\n",
    "\n",
    "train_data, test_data, train_ratings, test_ratings = train_test_split(\n",
    "    data,\n",
    "    ratings,\n",
    "    test_size=0.2,\n",
    "    random_state=42\n",
    ")\n",
    "train_users = train_data.values[:, :2]\n",
    "train_items = train_data.values[:, 2:]\n",
    "\n",
    "test_users = test_data.values[:, :2]\n",
    "test_items = test_data.values[:, 2:]"
   ]
  },
  {
   "cell_type": "code",
   "execution_count": 2,
   "metadata": {},
   "outputs": [
    {
     "name": "stdout",
     "output_type": "stream",
     "text": [
      "Epoch 1/20, Loss: 2746.76611328125\n",
      "Epoch 2/20, Loss: 105474.7890625\n",
      "Epoch 3/20, Loss: 1758.8427734375\n",
      "Epoch 4/20, Loss: 71249.3046875\n",
      "Epoch 5/20, Loss: 42192.67578125\n",
      "Epoch 6/20, Loss: 2255.166015625\n",
      "Epoch 7/20, Loss: 1171.29248046875\n",
      "Epoch 8/20, Loss: 543.1190185546875\n",
      "Epoch 9/20, Loss: 269.3381042480469\n",
      "Epoch 10/20, Loss: 267.4319763183594\n",
      "Epoch 11/20, Loss: 446.2208251953125\n",
      "Epoch 12/20, Loss: 467.2278137207031\n",
      "Epoch 13/20, Loss: 483.6711730957031\n",
      "Epoch 14/20, Loss: 495.6233825683594\n",
      "Epoch 15/20, Loss: 503.2602233886719\n",
      "Epoch 16/20, Loss: 506.82843017578125\n",
      "Epoch 17/20, Loss: 506.80841064453125\n",
      "Epoch 18/20, Loss: 506.44757080078125\n",
      "Epoch 19/20, Loss: 505.77703857421875\n",
      "Epoch 20/20, Loss: 504.8271179199219\n"
     ]
    }
   ],
   "source": [
    "recommender.fit(items=train_items, users=train_users, ratings=train_ratings.values)"
   ]
  },
  {
   "cell_type": "code",
   "execution_count": 3,
   "metadata": {},
   "outputs": [
    {
     "name": "stdout",
     "output_type": "stream",
     "text": [
      "Test Loss: 506.1771545410156\n",
      "Average Precision: 0.003188494543937089\n",
      "None\n"
     ]
    }
   ],
   "source": [
    "metrics = recommender.eval(users=test_users, items=test_items, ratings=test_ratings.values)\n",
    "print(metrics)"
   ]
  },
  {
   "cell_type": "code",
   "execution_count": 4,
   "metadata": {},
   "outputs": [
    {
     "name": "stdout",
     "output_type": "stream",
     "text": [
      "Precision at 10: 0.0\n"
     ]
    }
   ],
   "source": [
    "import numpy as np\n",
    "\n",
    "def precision_at_k(y_true, y_pred, k=10):\n",
    "    assert len(y_true) == len(y_pred)\n",
    "    precision_scores = []\n",
    "    \n",
    "    for true, pred in zip(y_true, y_pred):\n",
    "        top_k_pred = np.argsort(pred)[-k:]  # Get top k predictions\n",
    "        true_set = set(true)  # Set of true items\n",
    "        pred_set = set(top_k_pred)  # Set of predicted items\n",
    "        \n",
    "        # Calculate precision for the current user/item\n",
    "        precision_scores.append(len(true_set & pred_set) / float(k))\n",
    "    \n",
    "    return np.mean(precision_scores)\n",
    "\n",
    "# Assuming you have true_ratings and predictions as numpy arrays\n",
    "true_ratings = test_ratings.values.reshape(-1, 1)\n",
    "predictions = recommender.predict(test_users, test_items)\n",
    "predictions = predictions.reshape(-1, 1)\n",
    "\n",
    "# Calculate precision at k\n",
    "precision_k = precision_at_k(true_ratings, predictions, k=10)\n",
    "print(f'Precision at 10: {precision_k}')"
   ]
  }
 ],
 "metadata": {
  "kernelspec": {
   "display_name": "recsys",
   "language": "python",
   "name": "python3"
  },
  "language_info": {
   "codemirror_mode": {
    "name": "ipython",
    "version": 3
   },
   "file_extension": ".py",
   "mimetype": "text/x-python",
   "name": "python",
   "nbconvert_exporter": "python",
   "pygments_lexer": "ipython3",
   "version": "3.12.4"
  }
 },
 "nbformat": 4,
 "nbformat_minor": 2
}
